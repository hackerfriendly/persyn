{
 "cells": [
  {
   "cell_type": "code",
   "execution_count": 1,
   "id": "801d9ddb",
   "metadata": {},
   "outputs": [
    {
     "name": "stderr",
     "output_type": "stream",
     "text": [
      "/home/rob/persyn/interaction/env/lib/python3.8/site-packages/sklearn/base.py:329: UserWarning: Trying to unpickle estimator TfidfTransformer from version 1.0.1 when using version 1.0.2. This might lead to breaking code or invalid results. Use at your own risk. For more info please refer to:\n",
      "https://scikit-learn.org/stable/modules/model_persistence.html#security-maintainability-limitations\n",
      "  warnings.warn(\n",
      "/home/rob/persyn/interaction/env/lib/python3.8/site-packages/sklearn/base.py:329: UserWarning: Trying to unpickle estimator TfidfVectorizer from version 1.0.1 when using version 1.0.2. This might lead to breaking code or invalid results. Use at your own risk. For more info please refer to:\n",
      "https://scikit-learn.org/stable/modules/model_persistence.html#security-maintainability-limitations\n",
      "  warnings.warn(\n",
      "/home/rob/persyn/interaction/env/lib/python3.8/site-packages/sklearn/base.py:329: UserWarning: Trying to unpickle estimator LinearSVC from version 1.0.1 when using version 1.0.2. This might lead to breaking code or invalid results. Use at your own risk. For more info please refer to:\n",
      "https://scikit-learn.org/stable/modules/model_persistence.html#security-maintainability-limitations\n",
      "  warnings.warn(\n",
      "/home/rob/persyn/interaction/env/lib/python3.8/site-packages/sklearn/base.py:329: UserWarning: Trying to unpickle estimator _SigmoidCalibration from version 1.0.1 when using version 1.0.2. This might lead to breaking code or invalid results. Use at your own risk. For more info please refer to:\n",
      "https://scikit-learn.org/stable/modules/model_persistence.html#security-maintainability-limitations\n",
      "  warnings.warn(\n",
      "/home/rob/persyn/interaction/env/lib/python3.8/site-packages/sklearn/base.py:329: UserWarning: Trying to unpickle estimator CalibratedClassifierCV from version 1.0.1 when using version 1.0.2. This might lead to breaking code or invalid results. Use at your own risk. For more info please refer to:\n",
      "https://scikit-learn.org/stable/modules/model_persistence.html#security-maintainability-limitations\n",
      "  warnings.warn(\n"
     ]
    },
    {
     "name": "stdout",
     "output_type": "stream",
     "text": [
      "2022-11-27 16:09:23,308 loading file /home/rob/.flair/models/sentiment-en-mix-distillbert_4.pt\n"
     ]
    },
    {
     "name": "stderr",
     "output_type": "stream",
     "text": [
      "POST https://persyn.es.us-west-2.aws.found.io:443/anna-conversations-v0/_search [status:200 duration:0.290s]\n",
      "POST https://persyn.es.us-west-2.aws.found.io:443/anna-summaries-v0/_search [status:200 duration:0.028s]\n",
      "POST https://persyn.es.us-west-2.aws.found.io:443/anna-entities-v0/_search [status:200 duration:0.022s]\n",
      "POST https://persyn.es.us-west-2.aws.found.io:443/anna-relationships-v0/_search [status:200 duration:0.026s]\n",
      "POST https://persyn.es.us-west-2.aws.found.io:443/anna-opinions-v0/_search [status:200 duration:0.028s]\n",
      "POST https://persyn.es.us-west-2.aws.found.io:443/anna-beliefs-v0/_search [status:200 duration:0.028s]\n"
     ]
    }
   ],
   "source": [
    "import sys\n",
    "\n",
    "from typing import Optional\n",
    "from pathlib import Path\n",
    "\n",
    "from fastapi import FastAPI, HTTPException, Query\n",
    "from fastapi.responses import RedirectResponse\n",
    "\n",
    "# Add persyn root to sys.path\n",
    "sys.path.insert(0, '/home/rob/persyn/')\n",
    "sys.path.insert(0, '/home/rob/persyn/interaction')\n",
    "\n",
    "from interaction.interact import Interact\n",
    "\n",
    "# Color logging\n",
    "# from utils.color_logging import log\n",
    "\n",
    "\n",
    "import os\n",
    "os.environ['PERSYN_CONFIG'] = '/home/rob/persyn/config/anna.yaml'\n",
    "\n",
    "# Bot config\n",
    "from utils.config import load_config\n",
    "\n",
    "interact = Interact(load_config())"
   ]
  },
  {
   "cell_type": "code",
   "execution_count": 2,
   "id": "741d281f",
   "metadata": {},
   "outputs": [],
   "source": [
    "service='https://unit-16.slack.com/'\n",
    "channel='D02NK563878'"
   ]
  },
  {
   "cell_type": "code",
   "execution_count": 47,
   "id": "45c83d47",
   "metadata": {},
   "outputs": [
    {
     "name": "stderr",
     "output_type": "stream",
     "text": [
      "POST https://persyn.es.us-west-2.aws.found.io:443/anna-summaries-v0/_search [status:200 duration:0.069s]\n"
     ]
    }
   ],
   "source": [
    "convo_ids = interact.recall.ltm.es.search( # pylint: disable=unexpected-keyword-arg\n",
    "    _source=['convo_id'],\n",
    "    aggs={\n",
    "        \"patterns\" : {\n",
    "            \"terms\" : {\n",
    "                \"field\" : \"convo_id.keyword\",\n",
    "                \"size\": 10000\n",
    "            }\n",
    "        }\n",
    "    },\n",
    "    index='anna-summaries-v0',\n",
    "    query={\"match_all\": {}},\n",
    "    size=10\n",
    ")['aggregations']\n"
   ]
  },
  {
   "cell_type": "code",
   "execution_count": 50,
   "id": "f32917d9",
   "metadata": {
    "scrolled": false
   },
   "outputs": [],
   "source": [
    "all_convo_ids = [v['key'] for v in convo_ids['patterns']['buckets']]"
   ]
  },
  {
   "cell_type": "code",
   "execution_count": 82,
   "id": "6aa0ef32",
   "metadata": {
    "scrolled": true
   },
   "outputs": [
    {
     "name": "stderr",
     "output_type": "stream",
     "text": [
      "POST https://persyn.es.us-west-2.aws.found.io:443/anna-summaries-v0/_search [status:200 duration:0.022s]\n",
      "POST https://persyn.es.us-west-2.aws.found.io:443/anna-conversations-v0/_search [status:200 duration:0.026s]\n",
      "POST https://persyn.es.us-west-2.aws.found.io:443/anna-summaries-v0/_update/rmM6on4BSsm-lZhBqgs1 [status:200 duration:0.028s]\n",
      "POST https://persyn.es.us-west-2.aws.found.io:443/anna-conversations-v0/_search [status:200 duration:0.026s]\n",
      "POST https://persyn.es.us-west-2.aws.found.io:443/anna-summaries-v0/_update/r2M7on4BSsm-lZhBwAu6 [status:200 duration:0.028s]\n",
      "POST https://persyn.es.us-west-2.aws.found.io:443/anna-conversations-v0/_search [status:200 duration:0.023s]\n",
      "POST https://persyn.es.us-west-2.aws.found.io:443/anna-summaries-v0/_update/sWM9on4BSsm-lZhBBAsX [status:200 duration:0.030s]\n",
      "POST https://persyn.es.us-west-2.aws.found.io:443/anna-conversations-v0/_search [status:200 duration:0.023s]\n",
      "POST https://persyn.es.us-west-2.aws.found.io:443/anna-summaries-v0/_update/v2N5on4BSsm-lZhBbQuS [status:200 duration:0.030s]\n",
      "POST https://persyn.es.us-west-2.aws.found.io:443/anna-conversations-v0/_search [status:200 duration:0.025s]\n"
     ]
    },
    {
     "name": "stdout",
     "output_type": "stream",
     "text": [
      "{'_index': 'anna-summaries-v0', '_id': 'rmM6on4BSsm-lZhBqgs1', '_version': 4, 'result': 'updated', '_shards': {'total': 2, 'successful': 2, 'failed': 0}, '_seq_no': 1629, '_primary_term': 17}\n",
      "{'_index': 'anna-summaries-v0', '_id': 'r2M7on4BSsm-lZhBwAu6', '_version': 4, 'result': 'updated', '_shards': {'total': 2, 'successful': 2, 'failed': 0}, '_seq_no': 1630, '_primary_term': 17}\n",
      "{'_index': 'anna-summaries-v0', '_id': 'sWM9on4BSsm-lZhBBAsX', '_version': 4, 'result': 'updated', '_shards': {'total': 2, 'successful': 2, 'failed': 0}, '_seq_no': 1631, '_primary_term': 17}\n",
      "{'_index': 'anna-summaries-v0', '_id': 'v2N5on4BSsm-lZhBbQuS', '_version': 4, 'result': 'updated', '_shards': {'total': 2, 'successful': 2, 'failed': 0}, '_seq_no': 1632, '_primary_term': 17}\n"
     ]
    },
    {
     "name": "stderr",
     "output_type": "stream",
     "text": [
      "POST https://persyn.es.us-west-2.aws.found.io:443/anna-summaries-v0/_update/wGN6on4BSsm-lZhBXAs5 [status:200 duration:0.026s]\n",
      "POST https://persyn.es.us-west-2.aws.found.io:443/anna-conversations-v0/_search [status:200 duration:0.024s]\n",
      "POST https://persyn.es.us-west-2.aws.found.io:443/anna-summaries-v0/_update/wmN-on4BSsm-lZhBCgtb [status:200 duration:0.027s]\n",
      "POST https://persyn.es.us-west-2.aws.found.io:443/anna-summaries-v0/_search [status:200 duration:0.023s]\n",
      "POST https://persyn.es.us-west-2.aws.found.io:443/anna-conversations-v0/_search [status:200 duration:0.027s]\n",
      "POST https://persyn.es.us-west-2.aws.found.io:443/anna-summaries-v0/_update/TmP8nX4BSsm-lZhBNAo8 [status:200 duration:0.022s]\n",
      "POST https://persyn.es.us-west-2.aws.found.io:443/anna-conversations-v0/_search [status:200 duration:0.021s]\n",
      "POST https://persyn.es.us-west-2.aws.found.io:443/anna-summaries-v0/_update/NWPJoX4BSsm-lZhBYwuL [status:200 duration:0.030s]\n"
     ]
    },
    {
     "name": "stdout",
     "output_type": "stream",
     "text": [
      "{'_index': 'anna-summaries-v0', '_id': 'wGN6on4BSsm-lZhBXAs5', '_version': 4, 'result': 'updated', '_shards': {'total': 2, 'successful': 2, 'failed': 0}, '_seq_no': 1633, '_primary_term': 17}\n",
      "{'_index': 'anna-summaries-v0', '_id': 'wmN-on4BSsm-lZhBCgtb', '_version': 4, 'result': 'updated', '_shards': {'total': 2, 'successful': 2, 'failed': 0}, '_seq_no': 1634, '_primary_term': 17}\n",
      "{'_index': 'anna-summaries-v0', '_id': 'TmP8nX4BSsm-lZhBNAo8', '_version': 4, 'result': 'updated', '_shards': {'total': 2, 'successful': 2, 'failed': 0}, '_seq_no': 1635, '_primary_term': 17}\n",
      "{'_index': 'anna-summaries-v0', '_id': 'NWPJoX4BSsm-lZhBYwuL', '_version': 4, 'result': 'updated', '_shards': {'total': 2, 'successful': 2, 'failed': 0}, '_seq_no': 1636, '_primary_term': 17}\n"
     ]
    },
    {
     "name": "stderr",
     "output_type": "stream",
     "text": [
      "POST https://persyn.es.us-west-2.aws.found.io:443/anna-conversations-v0/_search [status:200 duration:0.024s]\n",
      "POST https://persyn.es.us-west-2.aws.found.io:443/anna-summaries-v0/_update/T2P8nX4BSsm-lZhB5Apk [status:200 duration:0.030s]\n",
      "POST https://persyn.es.us-west-2.aws.found.io:443/anna-conversations-v0/_search [status:200 duration:0.024s]\n",
      "POST https://persyn.es.us-west-2.aws.found.io:443/anna-summaries-v0/_update/UGP_nX4BSsm-lZhBeApN [status:200 duration:0.030s]\n",
      "POST https://persyn.es.us-west-2.aws.found.io:443/anna-summaries-v0/_search [status:200 duration:0.027s]\n",
      "POST https://persyn.es.us-west-2.aws.found.io:443/anna-conversations-v0/_search [status:200 duration:0.023s]\n",
      "POST https://persyn.es.us-west-2.aws.found.io:443/anna-summaries-v0/_update/HGbig34Byo-dF4zk_4QF [status:200 duration:0.027s]\n",
      "POST https://persyn.es.us-west-2.aws.found.io:443/anna-conversations-v0/_search [status:200 duration:0.030s]\n"
     ]
    },
    {
     "name": "stdout",
     "output_type": "stream",
     "text": [
      "{'_index': 'anna-summaries-v0', '_id': 'T2P8nX4BSsm-lZhB5Apk', '_version': 4, 'result': 'updated', '_shards': {'total': 2, 'successful': 2, 'failed': 0}, '_seq_no': 1637, '_primary_term': 17}\n",
      "{'_index': 'anna-summaries-v0', '_id': 'UGP_nX4BSsm-lZhBeApN', '_version': 4, 'result': 'updated', '_shards': {'total': 2, 'successful': 2, 'failed': 0}, '_seq_no': 1638, '_primary_term': 17}\n",
      "{'_index': 'anna-summaries-v0', '_id': 'HGbig34Byo-dF4zk_4QF', '_version': 4, 'result': 'updated', '_shards': {'total': 2, 'successful': 2, 'failed': 0}, '_seq_no': 1639, '_primary_term': 17}\n"
     ]
    },
    {
     "name": "stderr",
     "output_type": "stream",
     "text": [
      "POST https://persyn.es.us-west-2.aws.found.io:443/anna-summaries-v0/_update/Cmaqg34Byo-dF4zk8YSl [status:200 duration:0.029s]\n",
      "POST https://persyn.es.us-west-2.aws.found.io:443/anna-summaries-v0/_search [status:200 duration:0.028s]\n",
      "POST https://persyn.es.us-west-2.aws.found.io:443/anna-conversations-v0/_search [status:200 duration:0.024s]\n",
      "POST https://persyn.es.us-west-2.aws.found.io:443/anna-summaries-v0/_update/4GaYg34Byo-dF4zkloN5 [status:200 duration:0.029s]\n",
      "POST https://persyn.es.us-west-2.aws.found.io:443/anna-conversations-v0/_search [status:200 duration:0.027s]\n",
      "POST https://persyn.es.us-west-2.aws.found.io:443/anna-summaries-v0/_update/4maYg34Byo-dF4zkvoMk [status:200 duration:0.025s]\n",
      "POST https://persyn.es.us-west-2.aws.found.io:443/anna-summaries-v0/_search [status:200 duration:0.025s]\n",
      "POST https://persyn.es.us-west-2.aws.found.io:443/anna-conversations-v0/_search [status:200 duration:0.026s]\n"
     ]
    },
    {
     "name": "stdout",
     "output_type": "stream",
     "text": [
      "{'_index': 'anna-summaries-v0', '_id': 'Cmaqg34Byo-dF4zk8YSl', '_version': 4, 'result': 'updated', '_shards': {'total': 2, 'successful': 2, 'failed': 0}, '_seq_no': 1640, '_primary_term': 17}\n",
      "{'_index': 'anna-summaries-v0', '_id': '4GaYg34Byo-dF4zkloN5', '_version': 4, 'result': 'updated', '_shards': {'total': 2, 'successful': 2, 'failed': 0}, '_seq_no': 1641, '_primary_term': 17}\n",
      "{'_index': 'anna-summaries-v0', '_id': '4maYg34Byo-dF4zkvoMk', '_version': 4, 'result': 'updated', '_shards': {'total': 2, 'successful': 2, 'failed': 0}, '_seq_no': 1642, '_primary_term': 17}\n"
     ]
    },
    {
     "name": "stderr",
     "output_type": "stream",
     "text": [
      "POST https://persyn.es.us-west-2.aws.found.io:443/anna-summaries-v0/_update/6WaZg34Byo-dF4zka4NX [status:200 duration:0.028s]\n",
      "POST https://persyn.es.us-west-2.aws.found.io:443/anna-conversations-v0/_search [status:200 duration:0.026s]\n",
      "POST https://persyn.es.us-west-2.aws.found.io:443/anna-summaries-v0/_update/6GaZg34Byo-dF4zkYoPs [status:200 duration:0.026s]\n",
      "POST https://persyn.es.us-west-2.aws.found.io:443/anna-summaries-v0/_search [status:200 duration:0.027s]\n",
      "POST https://persyn.es.us-west-2.aws.found.io:443/anna-conversations-v0/_search [status:200 duration:0.024s]\n",
      "POST https://persyn.es.us-west-2.aws.found.io:443/anna-summaries-v0/_update/RWb2en4Byo-dF4zkeYHm [status:200 duration:0.030s]\n",
      "POST https://persyn.es.us-west-2.aws.found.io:443/anna-conversations-v0/_search [status:200 duration:0.028s]\n",
      "POST https://persyn.es.us-west-2.aws.found.io:443/anna-summaries-v0/_update/SWb2en4Byo-dF4zku4Hr [status:200 duration:0.025s]\n"
     ]
    },
    {
     "name": "stdout",
     "output_type": "stream",
     "text": [
      "{'_index': 'anna-summaries-v0', '_id': '6WaZg34Byo-dF4zka4NX', '_version': 4, 'result': 'updated', '_shards': {'total': 2, 'successful': 2, 'failed': 0}, '_seq_no': 1643, '_primary_term': 17}\n",
      "{'_index': 'anna-summaries-v0', '_id': '6GaZg34Byo-dF4zkYoPs', '_version': 4, 'result': 'updated', '_shards': {'total': 2, 'successful': 2, 'failed': 0}, '_seq_no': 1644, '_primary_term': 17}\n",
      "{'_index': 'anna-summaries-v0', '_id': 'RWb2en4Byo-dF4zkeYHm', '_version': 4, 'result': 'updated', '_shards': {'total': 2, 'successful': 2, 'failed': 0}, '_seq_no': 1645, '_primary_term': 17}\n",
      "{'_index': 'anna-summaries-v0', '_id': 'SWb2en4Byo-dF4zku4Hr', '_version': 4, 'result': 'updated', '_shards': {'total': 2, 'successful': 2, 'failed': 0}, '_seq_no': 1646, '_primary_term': 17}\n"
     ]
    },
    {
     "name": "stderr",
     "output_type": "stream",
     "text": [
      "POST https://persyn.es.us-west-2.aws.found.io:443/anna-summaries-v0/_search [status:200 duration:0.022s]\n",
      "POST https://persyn.es.us-west-2.aws.found.io:443/anna-conversations-v0/_search [status:200 duration:0.027s]\n",
      "POST https://persyn.es.us-west-2.aws.found.io:443/anna-summaries-v0/_update/mmZVen4Byo-dF4zkn4Co [status:200 duration:0.026s]\n",
      "POST https://persyn.es.us-west-2.aws.found.io:443/anna-summaries-v0/_search [status:200 duration:0.027s]\n",
      "POST https://persyn.es.us-west-2.aws.found.io:443/anna-conversations-v0/_search [status:200 duration:0.024s]\n",
      "POST https://persyn.es.us-west-2.aws.found.io:443/anna-summaries-v0/_update/a2ZRen4Byo-dF4zkhIBG [status:200 duration:0.026s]\n",
      "POST https://persyn.es.us-west-2.aws.found.io:443/anna-summaries-v0/_search [status:200 duration:0.025s]\n",
      "POST https://persyn.es.us-west-2.aws.found.io:443/anna-conversations-v0/_search [status:200 duration:0.030s]\n",
      "POST https://persyn.es.us-west-2.aws.found.io:443/anna-summaries-v0/_update/bmZRen4Byo-dF4zk3oAg [status:200 duration:0.026s]\n",
      "POST https://persyn.es.us-west-2.aws.found.io:443/anna-summaries-v0/_search [status:200 duration:0.026s]\n"
     ]
    },
    {
     "name": "stdout",
     "output_type": "stream",
     "text": [
      "{'_index': 'anna-summaries-v0', '_id': 'mmZVen4Byo-dF4zkn4Co', '_version': 4, 'result': 'updated', '_shards': {'total': 2, 'successful': 2, 'failed': 0}, '_seq_no': 1647, '_primary_term': 17}\n",
      "{'_index': 'anna-summaries-v0', '_id': 'a2ZRen4Byo-dF4zkhIBG', '_version': 4, 'result': 'updated', '_shards': {'total': 2, 'successful': 2, 'failed': 0}, '_seq_no': 1648, '_primary_term': 17}\n",
      "{'_index': 'anna-summaries-v0', '_id': 'bmZRen4Byo-dF4zk3oAg', '_version': 4, 'result': 'updated', '_shards': {'total': 2, 'successful': 2, 'failed': 0}, '_seq_no': 1649, '_primary_term': 17}\n"
     ]
    },
    {
     "name": "stderr",
     "output_type": "stream",
     "text": [
      "POST https://persyn.es.us-west-2.aws.found.io:443/anna-conversations-v0/_search [status:200 duration:0.029s]\n",
      "POST https://persyn.es.us-west-2.aws.found.io:443/anna-summaries-v0/_update/k2ZUen4Byo-dF4zk_4Bp [status:200 duration:0.031s]\n",
      "POST https://persyn.es.us-west-2.aws.found.io:443/anna-summaries-v0/_search [status:200 duration:0.029s]\n",
      "POST https://persyn.es.us-west-2.aws.found.io:443/anna-conversations-v0/_search [status:200 duration:0.031s]\n",
      "POST https://persyn.es.us-west-2.aws.found.io:443/anna-summaries-v0/_update/gWZTen4Byo-dF4zkV4C7 [status:200 duration:0.027s]\n",
      "POST https://persyn.es.us-west-2.aws.found.io:443/anna-summaries-v0/_search [status:200 duration:0.028s]\n",
      "POST https://persyn.es.us-west-2.aws.found.io:443/anna-conversations-v0/_search [status:200 duration:0.029s]\n",
      "POST https://persyn.es.us-west-2.aws.found.io:443/anna-summaries-v0/_update/lWZVen4Byo-dF4zkLIC9 [status:200 duration:0.027s]\n"
     ]
    },
    {
     "name": "stdout",
     "output_type": "stream",
     "text": [
      "{'_index': 'anna-summaries-v0', '_id': 'k2ZUen4Byo-dF4zk_4Bp', '_version': 4, 'result': 'updated', '_shards': {'total': 2, 'successful': 2, 'failed': 0}, '_seq_no': 1650, '_primary_term': 17}\n",
      "{'_index': 'anna-summaries-v0', '_id': 'gWZTen4Byo-dF4zkV4C7', '_version': 4, 'result': 'updated', '_shards': {'total': 2, 'successful': 2, 'failed': 0}, '_seq_no': 1651, '_primary_term': 17}\n",
      "{'_index': 'anna-summaries-v0', '_id': 'lWZVen4Byo-dF4zkLIC9', '_version': 4, 'result': 'updated', '_shards': {'total': 2, 'successful': 2, 'failed': 0}, '_seq_no': 1652, '_primary_term': 17}\n"
     ]
    },
    {
     "name": "stderr",
     "output_type": "stream",
     "text": [
      "POST https://persyn.es.us-west-2.aws.found.io:443/anna-summaries-v0/_search [status:200 duration:0.029s]\n",
      "POST https://persyn.es.us-west-2.aws.found.io:443/anna-conversations-v0/_search [status:200 duration:0.022s]\n",
      "POST https://persyn.es.us-west-2.aws.found.io:443/anna-summaries-v0/_update/TmYohH4Byo-dF4zkdoSO [status:200 duration:0.024s]\n",
      "POST https://persyn.es.us-west-2.aws.found.io:443/anna-summaries-v0/_search [status:200 duration:0.025s]\n",
      "POST https://persyn.es.us-west-2.aws.found.io:443/anna-conversations-v0/_search [status:200 duration:0.033s]\n",
      "POST https://persyn.es.us-west-2.aws.found.io:443/anna-summaries-v0/_update/6GaQf34Byo-dF4zkMIJ7 [status:200 duration:0.028s]\n",
      "POST https://persyn.es.us-west-2.aws.found.io:443/anna-summaries-v0/_search [status:200 duration:0.028s]\n",
      "POST https://persyn.es.us-west-2.aws.found.io:443/anna-conversations-v0/_search [status:200 duration:0.021s]\n",
      "POST https://persyn.es.us-west-2.aws.found.io:443/anna-summaries-v0/_update/PWb1en4Byo-dF4zkw4HB [status:200 duration:0.028s]\n"
     ]
    },
    {
     "name": "stdout",
     "output_type": "stream",
     "text": [
      "{'_index': 'anna-summaries-v0', '_id': 'TmYohH4Byo-dF4zkdoSO', '_version': 4, 'result': 'updated', '_shards': {'total': 2, 'successful': 2, 'failed': 0}, '_seq_no': 1653, '_primary_term': 17}\n",
      "{'_index': 'anna-summaries-v0', '_id': '6GaQf34Byo-dF4zkMIJ7', '_version': 4, 'result': 'updated', '_shards': {'total': 2, 'successful': 2, 'failed': 0}, '_seq_no': 1654, '_primary_term': 17}\n",
      "{'_index': 'anna-summaries-v0', '_id': 'PWb1en4Byo-dF4zkw4HB', '_version': 4, 'result': 'updated', '_shards': {'total': 2, 'successful': 2, 'failed': 0}, '_seq_no': 1655, '_primary_term': 17}\n"
     ]
    },
    {
     "name": "stderr",
     "output_type": "stream",
     "text": [
      "POST https://persyn.es.us-west-2.aws.found.io:443/anna-summaries-v0/_search [status:200 duration:0.028s]\n",
      "POST https://persyn.es.us-west-2.aws.found.io:443/anna-conversations-v0/_search [status:200 duration:0.028s]\n",
      "POST https://persyn.es.us-west-2.aws.found.io:443/anna-summaries-v0/_update/mWZVen4Byo-dF4zkhYAc [status:200 duration:0.023s]\n",
      "POST https://persyn.es.us-west-2.aws.found.io:443/anna-conversations-v0/_search [status:200 duration:0.028s]\n",
      "POST https://persyn.es.us-west-2.aws.found.io:443/anna-summaries-v0/_update/lmZVen4Byo-dF4zkS4Av [status:200 duration:0.025s]\n",
      "POST https://persyn.es.us-west-2.aws.found.io:443/anna-summaries-v0/_search [status:200 duration:0.026s]\n",
      "POST https://persyn.es.us-west-2.aws.found.io:443/anna-conversations-v0/_search [status:200 duration:0.028s]\n",
      "POST https://persyn.es.us-west-2.aws.found.io:443/anna-summaries-v0/_update/nWZVen4Byo-dF4zk1YDx [status:200 duration:0.025s]\n",
      "POST https://persyn.es.us-west-2.aws.found.io:443/anna-summaries-v0/_search [status:200 duration:0.026s]\n",
      "POST https://persyn.es.us-west-2.aws.found.io:443/anna-conversations-v0/_search [status:200 duration:0.022s]\n"
     ]
    },
    {
     "name": "stdout",
     "output_type": "stream",
     "text": [
      "{'_index': 'anna-summaries-v0', '_id': 'mWZVen4Byo-dF4zkhYAc', '_version': 4, 'result': 'updated', '_shards': {'total': 2, 'successful': 2, 'failed': 0}, '_seq_no': 1656, '_primary_term': 17}\n",
      "{'_index': 'anna-summaries-v0', '_id': 'lmZVen4Byo-dF4zkS4Av', '_version': 4, 'result': 'updated', '_shards': {'total': 2, 'successful': 2, 'failed': 0}, '_seq_no': 1657, '_primary_term': 17}\n",
      "{'_index': 'anna-summaries-v0', '_id': 'nWZVen4Byo-dF4zk1YDx', '_version': 4, 'result': 'updated', '_shards': {'total': 2, 'successful': 2, 'failed': 0}, '_seq_no': 1658, '_primary_term': 17}\n"
     ]
    },
    {
     "name": "stderr",
     "output_type": "stream",
     "text": [
      "POST https://persyn.es.us-west-2.aws.found.io:443/anna-summaries-v0/_update/ZmZRen4Byo-dF4zkC4Bt [status:200 duration:0.028s]\n",
      "POST https://persyn.es.us-west-2.aws.found.io:443/anna-summaries-v0/_search [status:200 duration:0.030s]\n",
      "POST https://persyn.es.us-west-2.aws.found.io:443/anna-conversations-v0/_search [status:200 duration:0.033s]\n",
      "POST https://persyn.es.us-west-2.aws.found.io:443/anna-summaries-v0/_update/b2ZRen4Byo-dF4zk9oCd [status:200 duration:0.027s]\n",
      "POST https://persyn.es.us-west-2.aws.found.io:443/anna-summaries-v0/_search [status:200 duration:0.027s]\n",
      "POST https://persyn.es.us-west-2.aws.found.io:443/anna-conversations-v0/_search [status:200 duration:0.030s]\n",
      "POST https://persyn.es.us-west-2.aws.found.io:443/anna-summaries-v0/_update/Rmb2en4Byo-dF4zkm4FP [status:200 duration:0.030s]\n"
     ]
    },
    {
     "name": "stdout",
     "output_type": "stream",
     "text": [
      "{'_index': 'anna-summaries-v0', '_id': 'ZmZRen4Byo-dF4zkC4Bt', '_version': 4, 'result': 'updated', '_shards': {'total': 2, 'successful': 2, 'failed': 0}, '_seq_no': 1659, '_primary_term': 17}\n",
      "{'_index': 'anna-summaries-v0', '_id': 'b2ZRen4Byo-dF4zk9oCd', '_version': 4, 'result': 'updated', '_shards': {'total': 2, 'successful': 2, 'failed': 0}, '_seq_no': 1660, '_primary_term': 17}\n",
      "{'_index': 'anna-summaries-v0', '_id': 'Rmb2en4Byo-dF4zkm4FP', '_version': 4, 'result': 'updated', '_shards': {'total': 2, 'successful': 2, 'failed': 0}, '_seq_no': 1661, '_primary_term': 17}\n"
     ]
    },
    {
     "name": "stderr",
     "output_type": "stream",
     "text": [
      "POST https://persyn.es.us-west-2.aws.found.io:443/anna-summaries-v0/_search [status:200 duration:0.030s]\n",
      "POST https://persyn.es.us-west-2.aws.found.io:443/anna-conversations-v0/_search [status:200 duration:0.025s]\n",
      "POST https://persyn.es.us-west-2.aws.found.io:443/anna-summaries-v0/_update/RGb2en4Byo-dF4zkWIEH [status:200 duration:0.031s]\n",
      "POST https://persyn.es.us-west-2.aws.found.io:443/anna-summaries-v0/_search [status:200 duration:0.031s]\n",
      "POST https://persyn.es.us-west-2.aws.found.io:443/anna-conversations-v0/_search [status:200 duration:0.025s]\n",
      "POST https://persyn.es.us-west-2.aws.found.io:443/anna-summaries-v0/_update/5WaYg34Byo-dF4zk8YMj [status:200 duration:0.030s]\n",
      "POST https://persyn.es.us-west-2.aws.found.io:443/anna-summaries-v0/_search [status:200 duration:0.030s]\n",
      "POST https://persyn.es.us-west-2.aws.found.io:443/anna-conversations-v0/_search [status:200 duration:0.024s]\n",
      "POST https://persyn.es.us-west-2.aws.found.io:443/anna-summaries-v0/_update/F9SLMIEBBCovfdTkjZfz [status:200 duration:0.027s]\n"
     ]
    },
    {
     "name": "stdout",
     "output_type": "stream",
     "text": [
      "{'_index': 'anna-summaries-v0', '_id': 'RGb2en4Byo-dF4zkWIEH', '_version': 4, 'result': 'updated', '_shards': {'total': 2, 'successful': 2, 'failed': 0}, '_seq_no': 1662, '_primary_term': 17}\n",
      "{'_index': 'anna-summaries-v0', '_id': '5WaYg34Byo-dF4zk8YMj', '_version': 4, 'result': 'updated', '_shards': {'total': 2, 'successful': 2, 'failed': 0}, '_seq_no': 1663, '_primary_term': 17}\n",
      "{'_index': 'anna-summaries-v0', '_id': 'F9SLMIEBBCovfdTkjZfz', '_version': 2, 'result': 'updated', '_shards': {'total': 2, 'successful': 2, 'failed': 0}, '_seq_no': 1664, '_primary_term': 17}\n"
     ]
    },
    {
     "name": "stderr",
     "output_type": "stream",
     "text": [
      "POST https://persyn.es.us-west-2.aws.found.io:443/anna-summaries-v0/_search [status:200 duration:0.026s]\n",
      "POST https://persyn.es.us-west-2.aws.found.io:443/anna-conversations-v0/_search [status:200 duration:0.029s]\n",
      "POST https://persyn.es.us-west-2.aws.found.io:443/anna-summaries-v0/_update/emZSen4Byo-dF4zk04CM [status:200 duration:0.029s]\n",
      "POST https://persyn.es.us-west-2.aws.found.io:443/anna-summaries-v0/_search [status:200 duration:0.030s]\n",
      "POST https://persyn.es.us-west-2.aws.found.io:443/anna-conversations-v0/_search [status:200 duration:0.026s]\n",
      "POST https://persyn.es.us-west-2.aws.found.io:443/anna-summaries-v0/_update/XtSRL4EBBCovfdTkGpVL [status:200 duration:0.029s]\n",
      "POST https://persyn.es.us-west-2.aws.found.io:443/anna-summaries-v0/_search [status:200 duration:0.027s]\n",
      "POST https://persyn.es.us-west-2.aws.found.io:443/anna-conversations-v0/_search [status:200 duration:0.031s]\n",
      "POST https://persyn.es.us-west-2.aws.found.io:443/anna-summaries-v0/_update/iq-B9oMBBNi73XUqmqQC [status:200 duration:0.031s]\n"
     ]
    },
    {
     "name": "stdout",
     "output_type": "stream",
     "text": [
      "{'_index': 'anna-summaries-v0', '_id': 'emZSen4Byo-dF4zk04CM', '_version': 4, 'result': 'updated', '_shards': {'total': 2, 'successful': 2, 'failed': 0}, '_seq_no': 1665, '_primary_term': 17}\n",
      "{'_index': 'anna-summaries-v0', '_id': 'XtSRL4EBBCovfdTkGpVL', '_version': 2, 'result': 'updated', '_shards': {'total': 2, 'successful': 2, 'failed': 0}, '_seq_no': 1666, '_primary_term': 17}\n",
      "{'_index': 'anna-summaries-v0', '_id': 'iq-B9oMBBNi73XUqmqQC', '_version': 2, 'result': 'updated', '_shards': {'total': 2, 'successful': 2, 'failed': 0}, '_seq_no': 1667, '_primary_term': 17}\n"
     ]
    },
    {
     "name": "stderr",
     "output_type": "stream",
     "text": [
      "POST https://persyn.es.us-west-2.aws.found.io:443/anna-summaries-v0/_search [status:200 duration:0.032s]\n",
      "POST https://persyn.es.us-west-2.aws.found.io:443/anna-conversations-v0/_search [status:200 duration:0.031s]\n",
      "POST https://persyn.es.us-west-2.aws.found.io:443/anna-summaries-v0/_update/SGb2en4Byo-dF4zkrYGA [status:200 duration:0.030s]\n",
      "POST https://persyn.es.us-west-2.aws.found.io:443/anna-summaries-v0/_search [status:200 duration:0.029s]\n",
      "POST https://persyn.es.us-west-2.aws.found.io:443/anna-conversations-v0/_search [status:200 duration:0.032s]\n",
      "POST https://persyn.es.us-west-2.aws.found.io:443/anna-summaries-v0/_update/qiMXcoMBy5mPdc6P_HD3 [status:200 duration:0.030s]\n",
      "POST https://persyn.es.us-west-2.aws.found.io:443/anna-summaries-v0/_search [status:200 duration:0.030s]\n",
      "POST https://persyn.es.us-west-2.aws.found.io:443/anna-conversations-v0/_search [status:200 duration:0.020s]\n",
      "POST https://persyn.es.us-west-2.aws.found.io:443/anna-summaries-v0/_update/P2b1en4Byo-dF4zk4YGV [status:200 duration:0.031s]\n"
     ]
    },
    {
     "name": "stdout",
     "output_type": "stream",
     "text": [
      "{'_index': 'anna-summaries-v0', '_id': 'SGb2en4Byo-dF4zkrYGA', '_version': 4, 'result': 'updated', '_shards': {'total': 2, 'successful': 2, 'failed': 0}, '_seq_no': 1668, '_primary_term': 17}\n",
      "{'_index': 'anna-summaries-v0', '_id': 'qiMXcoMBy5mPdc6P_HD3', '_version': 2, 'result': 'updated', '_shards': {'total': 2, 'successful': 2, 'failed': 0}, '_seq_no': 1669, '_primary_term': 17}\n",
      "{'_index': 'anna-summaries-v0', '_id': 'P2b1en4Byo-dF4zk4YGV', '_version': 4, 'result': 'updated', '_shards': {'total': 2, 'successful': 2, 'failed': 0}, '_seq_no': 1670, '_primary_term': 17}\n"
     ]
    },
    {
     "name": "stderr",
     "output_type": "stream",
     "text": [
      "POST https://persyn.es.us-west-2.aws.found.io:443/anna-summaries-v0/_search [status:200 duration:0.026s]\n",
      "POST https://persyn.es.us-west-2.aws.found.io:443/anna-conversations-v0/_search [status:200 duration:0.026s]\n",
      "POST https://persyn.es.us-west-2.aws.found.io:443/anna-summaries-v0/_update/9CNDwoIBy5mPdc6PBGdZ [status:200 duration:0.025s]\n",
      "POST https://persyn.es.us-west-2.aws.found.io:443/anna-summaries-v0/_search [status:200 duration:0.027s]\n",
      "POST https://persyn.es.us-west-2.aws.found.io:443/anna-conversations-v0/_search [status:200 duration:0.021s]\n",
      "POST https://persyn.es.us-west-2.aws.found.io:443/anna-summaries-v0/_update/j68wkoQBBNi73XUq3q_e [status:200 duration:0.024s]\n",
      "POST https://persyn.es.us-west-2.aws.found.io:443/anna-summaries-v0/_search [status:200 duration:0.025s]\n",
      "POST https://persyn.es.us-west-2.aws.found.io:443/anna-conversations-v0/_search [status:200 duration:0.025s]\n",
      "POST https://persyn.es.us-west-2.aws.found.io:443/anna-summaries-v0/_update/QBiOU38B1O6hlTWgXEwm [status:200 duration:0.025s]\n",
      "POST https://persyn.es.us-west-2.aws.found.io:443/anna-summaries-v0/_search [status:200 duration:0.026s]\n"
     ]
    },
    {
     "name": "stdout",
     "output_type": "stream",
     "text": [
      "{'_index': 'anna-summaries-v0', '_id': '9CNDwoIBy5mPdc6PBGdZ', '_version': 2, 'result': 'updated', '_shards': {'total': 2, 'successful': 2, 'failed': 0}, '_seq_no': 1671, '_primary_term': 17}\n",
      "{'_index': 'anna-summaries-v0', '_id': 'j68wkoQBBNi73XUq3q_e', '_version': 2, 'result': 'updated', '_shards': {'total': 2, 'successful': 2, 'failed': 0}, '_seq_no': 1672, '_primary_term': 17}\n",
      "{'_index': 'anna-summaries-v0', '_id': 'QBiOU38B1O6hlTWgXEwm', '_version': 2, 'result': 'updated', '_shards': {'total': 2, 'successful': 2, 'failed': 0}, '_seq_no': 1673, '_primary_term': 17}\n"
     ]
    },
    {
     "name": "stderr",
     "output_type": "stream",
     "text": [
      "POST https://persyn.es.us-west-2.aws.found.io:443/anna-conversations-v0/_search [status:200 duration:0.029s]\n",
      "POST https://persyn.es.us-west-2.aws.found.io:443/anna-summaries-v0/_update/duDzboQB6EXxeIxU54Ho [status:200 duration:0.023s]\n",
      "POST https://persyn.es.us-west-2.aws.found.io:443/anna-summaries-v0/_search [status:200 duration:0.028s]\n",
      "POST https://persyn.es.us-west-2.aws.found.io:443/anna-conversations-v0/_search [status:200 duration:0.027s]\n",
      "POST https://persyn.es.us-west-2.aws.found.io:443/anna-summaries-v0/_update/cU1svYIBRfbdi4KAPFBI [status:200 duration:0.025s]\n",
      "POST https://persyn.es.us-west-2.aws.found.io:443/anna-summaries-v0/_search [status:200 duration:0.023s]\n",
      "POST https://persyn.es.us-west-2.aws.found.io:443/anna-conversations-v0/_search [status:200 duration:0.028s]\n",
      "POST https://persyn.es.us-west-2.aws.found.io:443/anna-summaries-v0/_update/GeD-l4QB6EXxeIxUKoUl [status:200 duration:0.027s]\n",
      "POST https://persyn.es.us-west-2.aws.found.io:443/anna-summaries-v0/_search [status:200 duration:0.029s]\n"
     ]
    },
    {
     "name": "stdout",
     "output_type": "stream",
     "text": [
      "{'_index': 'anna-summaries-v0', '_id': 'duDzboQB6EXxeIxU54Ho', '_version': 2, 'result': 'updated', '_shards': {'total': 2, 'successful': 2, 'failed': 0}, '_seq_no': 1674, '_primary_term': 17}\n",
      "{'_index': 'anna-summaries-v0', '_id': 'cU1svYIBRfbdi4KAPFBI', '_version': 2, 'result': 'updated', '_shards': {'total': 2, 'successful': 2, 'failed': 0}, '_seq_no': 1675, '_primary_term': 17}\n",
      "{'_index': 'anna-summaries-v0', '_id': 'GeD-l4QB6EXxeIxUKoUl', '_version': 2, 'result': 'updated', '_shards': {'total': 2, 'successful': 2, 'failed': 0}, '_seq_no': 1676, '_primary_term': 17}\n"
     ]
    },
    {
     "name": "stderr",
     "output_type": "stream",
     "text": [
      "POST https://persyn.es.us-west-2.aws.found.io:443/anna-conversations-v0/_search [status:200 duration:0.023s]\n",
      "POST https://persyn.es.us-west-2.aws.found.io:443/anna-summaries-v0/_update/x69z_oMBBNi73XUqlKWL [status:200 duration:0.042s]\n",
      "POST https://persyn.es.us-west-2.aws.found.io:443/anna-summaries-v0/_search [status:200 duration:0.045s]\n",
      "POST https://persyn.es.us-west-2.aws.found.io:443/anna-conversations-v0/_search [status:200 duration:0.034s]\n",
      "POST https://persyn.es.us-west-2.aws.found.io:443/anna-summaries-v0/_update/kGZUen4Byo-dF4zktIC1 [status:200 duration:0.033s]\n",
      "POST https://persyn.es.us-west-2.aws.found.io:443/anna-summaries-v0/_search [status:200 duration:0.028s]\n",
      "POST https://persyn.es.us-west-2.aws.found.io:443/anna-conversations-v0/_search [status:200 duration:0.030s]\n"
     ]
    },
    {
     "name": "stdout",
     "output_type": "stream",
     "text": [
      "{'_index': 'anna-summaries-v0', '_id': 'x69z_oMBBNi73XUqlKWL', '_version': 2, 'result': 'updated', '_shards': {'total': 2, 'successful': 2, 'failed': 0}, '_seq_no': 1677, '_primary_term': 17}\n",
      "{'_index': 'anna-summaries-v0', '_id': 'kGZUen4Byo-dF4zktIC1', '_version': 4, 'result': 'updated', '_shards': {'total': 2, 'successful': 2, 'failed': 0}, '_seq_no': 1678, '_primary_term': 17}\n"
     ]
    },
    {
     "name": "stderr",
     "output_type": "stream",
     "text": [
      "POST https://persyn.es.us-west-2.aws.found.io:443/anna-summaries-v0/_update/OWb1en4Byo-dF4zkR4G3 [status:200 duration:0.029s]\n",
      "POST https://persyn.es.us-west-2.aws.found.io:443/anna-summaries-v0/_search [status:200 duration:0.035s]\n",
      "POST https://persyn.es.us-west-2.aws.found.io:443/anna-conversations-v0/_search [status:200 duration:0.029s]\n",
      "POST https://persyn.es.us-west-2.aws.found.io:443/anna-summaries-v0/_update/2K94m4MBBNi73XUqvKIW [status:200 duration:0.030s]\n",
      "POST https://persyn.es.us-west-2.aws.found.io:443/anna-summaries-v0/_search [status:200 duration:0.031s]\n",
      "POST https://persyn.es.us-west-2.aws.found.io:443/anna-conversations-v0/_search [status:200 duration:0.030s]\n",
      "POST https://persyn.es.us-west-2.aws.found.io:443/anna-summaries-v0/_update/pa9z2YMBBNi73XUqeaNE [status:200 duration:0.031s]\n"
     ]
    },
    {
     "name": "stdout",
     "output_type": "stream",
     "text": [
      "{'_index': 'anna-summaries-v0', '_id': 'OWb1en4Byo-dF4zkR4G3', '_version': 4, 'result': 'updated', '_shards': {'total': 2, 'successful': 2, 'failed': 0}, '_seq_no': 1679, '_primary_term': 17}\n",
      "{'_index': 'anna-summaries-v0', '_id': '2K94m4MBBNi73XUqvKIW', '_version': 2, 'result': 'updated', '_shards': {'total': 2, 'successful': 2, 'failed': 0}, '_seq_no': 1680, '_primary_term': 17}\n",
      "{'_index': 'anna-summaries-v0', '_id': 'pa9z2YMBBNi73XUqeaNE', '_version': 2, 'result': 'updated', '_shards': {'total': 2, 'successful': 2, 'failed': 0}, '_seq_no': 1681, '_primary_term': 17}\n"
     ]
    },
    {
     "name": "stderr",
     "output_type": "stream",
     "text": [
      "POST https://persyn.es.us-west-2.aws.found.io:443/anna-summaries-v0/_search [status:200 duration:0.029s]\n",
      "POST https://persyn.es.us-west-2.aws.found.io:443/anna-conversations-v0/_search [status:200 duration:0.030s]\n",
      "POST https://persyn.es.us-west-2.aws.found.io:443/anna-summaries-v0/_update/ZWZRen4Byo-dF4zkA4Di [status:200 duration:0.031s]\n",
      "POST https://persyn.es.us-west-2.aws.found.io:443/anna-summaries-v0/_search [status:200 duration:0.026s]\n",
      "POST https://persyn.es.us-west-2.aws.found.io:443/anna-conversations-v0/_search [status:200 duration:0.027s]\n",
      "POST https://persyn.es.us-west-2.aws.found.io:443/anna-summaries-v0/_update/Jq-FAIQBBNi73XUqiKbW [status:200 duration:0.028s]\n",
      "POST https://persyn.es.us-west-2.aws.found.io:443/anna-summaries-v0/_search [status:200 duration:0.026s]\n",
      "POST https://persyn.es.us-west-2.aws.found.io:443/anna-conversations-v0/_search [status:200 duration:0.032s]\n",
      "POST https://persyn.es.us-west-2.aws.found.io:443/anna-summaries-v0/_update/7q8JloQBBNi73XUqHq8c [status:200 duration:0.032s]\n"
     ]
    },
    {
     "name": "stdout",
     "output_type": "stream",
     "text": [
      "{'_index': 'anna-summaries-v0', '_id': 'ZWZRen4Byo-dF4zkA4Di', '_version': 4, 'result': 'updated', '_shards': {'total': 2, 'successful': 2, 'failed': 0}, '_seq_no': 1682, '_primary_term': 17}\n",
      "{'_index': 'anna-summaries-v0', '_id': 'Jq-FAIQBBNi73XUqiKbW', '_version': 2, 'result': 'updated', '_shards': {'total': 2, 'successful': 2, 'failed': 0}, '_seq_no': 1683, '_primary_term': 17}\n",
      "{'_index': 'anna-summaries-v0', '_id': '7q8JloQBBNi73XUqHq8c', '_version': 2, 'result': 'updated', '_shards': {'total': 2, 'successful': 2, 'failed': 0}, '_seq_no': 1684, '_primary_term': 17}\n"
     ]
    },
    {
     "name": "stderr",
     "output_type": "stream",
     "text": [
      "POST https://persyn.es.us-west-2.aws.found.io:443/anna-summaries-v0/_search [status:200 duration:0.028s]\n",
      "POST https://persyn.es.us-west-2.aws.found.io:443/anna-conversations-v0/_search [status:200 duration:0.027s]\n",
      "POST https://persyn.es.us-west-2.aws.found.io:443/anna-summaries-v0/_update/huCXsIQB6EXxeIxUIof7 [status:200 duration:0.029s]\n",
      "POST https://persyn.es.us-west-2.aws.found.io:443/anna-summaries-v0/_search [status:200 duration:0.027s]\n",
      "POST https://persyn.es.us-west-2.aws.found.io:443/anna-conversations-v0/_search [status:200 duration:0.028s]\n",
      "POST https://persyn.es.us-west-2.aws.found.io:443/anna-summaries-v0/_update/r69eY4QBBNi73XUq96y9 [status:200 duration:0.030s]\n",
      "POST https://persyn.es.us-west-2.aws.found.io:443/anna-summaries-v0/_search [status:200 duration:0.026s]\n",
      "POST https://persyn.es.us-west-2.aws.found.io:443/anna-conversations-v0/_search [status:200 duration:0.027s]\n",
      "POST https://persyn.es.us-west-2.aws.found.io:443/anna-summaries-v0/_update/oBjOcIAB1O6hlTWgqWb4 [status:200 duration:0.028s]\n"
     ]
    },
    {
     "name": "stdout",
     "output_type": "stream",
     "text": [
      "{'_index': 'anna-summaries-v0', '_id': 'huCXsIQB6EXxeIxUIof7', '_version': 2, 'result': 'updated', '_shards': {'total': 2, 'successful': 2, 'failed': 0}, '_seq_no': 1685, '_primary_term': 17}\n",
      "{'_index': 'anna-summaries-v0', '_id': 'r69eY4QBBNi73XUq96y9', '_version': 2, 'result': 'updated', '_shards': {'total': 2, 'successful': 2, 'failed': 0}, '_seq_no': 1686, '_primary_term': 17}\n",
      "{'_index': 'anna-summaries-v0', '_id': 'oBjOcIAB1O6hlTWgqWb4', '_version': 2, 'result': 'updated', '_shards': {'total': 2, 'successful': 2, 'failed': 0}, '_seq_no': 1687, '_primary_term': 17}\n"
     ]
    },
    {
     "name": "stderr",
     "output_type": "stream",
     "text": [
      "POST https://persyn.es.us-west-2.aws.found.io:443/anna-summaries-v0/_search [status:200 duration:0.026s]\n",
      "POST https://persyn.es.us-west-2.aws.found.io:443/anna-conversations-v0/_search [status:200 duration:0.028s]\n",
      "POST https://persyn.es.us-west-2.aws.found.io:443/anna-summaries-v0/_update/AU2PcIMBRfbdi4KASVqv [status:200 duration:0.031s]\n",
      "POST https://persyn.es.us-west-2.aws.found.io:443/anna-summaries-v0/_search [status:200 duration:0.027s]\n",
      "POST https://persyn.es.us-west-2.aws.found.io:443/anna-conversations-v0/_search [status:200 duration:0.025s]\n",
      "POST https://persyn.es.us-west-2.aws.found.io:443/anna-summaries-v0/_update/ZBg8jYAB1O6hlTWgLG9z [status:200 duration:0.028s]\n",
      "POST https://persyn.es.us-west-2.aws.found.io:443/anna-summaries-v0/_search [status:200 duration:0.027s]\n",
      "POST https://persyn.es.us-west-2.aws.found.io:443/anna-conversations-v0/_search [status:200 duration:0.024s]\n",
      "POST https://persyn.es.us-west-2.aws.found.io:443/anna-summaries-v0/_update/ah2zV4IBGYbVpQ0odLQw [status:200 duration:0.034s]\n"
     ]
    },
    {
     "name": "stdout",
     "output_type": "stream",
     "text": [
      "{'_index': 'anna-summaries-v0', '_id': 'AU2PcIMBRfbdi4KASVqv', '_version': 2, 'result': 'updated', '_shards': {'total': 2, 'successful': 2, 'failed': 0}, '_seq_no': 1688, '_primary_term': 17}\n",
      "{'_index': 'anna-summaries-v0', '_id': 'ZBg8jYAB1O6hlTWgLG9z', '_version': 2, 'result': 'updated', '_shards': {'total': 2, 'successful': 2, 'failed': 0}, '_seq_no': 1689, '_primary_term': 17}\n",
      "{'_index': 'anna-summaries-v0', '_id': 'ah2zV4IBGYbVpQ0odLQw', '_version': 2, 'result': 'updated', '_shards': {'total': 2, 'successful': 2, 'failed': 0}, '_seq_no': 1690, '_primary_term': 17}\n"
     ]
    },
    {
     "name": "stderr",
     "output_type": "stream",
     "text": [
      "POST https://persyn.es.us-west-2.aws.found.io:443/anna-summaries-v0/_search [status:200 duration:0.026s]\n",
      "POST https://persyn.es.us-west-2.aws.found.io:443/anna-conversations-v0/_search [status:200 duration:0.030s]\n",
      "POST https://persyn.es.us-west-2.aws.found.io:443/anna-summaries-v0/_update/shgzu4AB1O6hlTWgsHN4 [status:200 duration:0.028s]\n",
      "POST https://persyn.es.us-west-2.aws.found.io:443/anna-summaries-v0/_search [status:200 duration:0.027s]\n",
      "POST https://persyn.es.us-west-2.aws.found.io:443/anna-conversations-v0/_search [status:200 duration:0.029s]\n",
      "POST https://persyn.es.us-west-2.aws.found.io:443/anna-summaries-v0/_update/h2ZTen4Byo-dF4zk1oCh [status:200 duration:0.029s]\n",
      "POST https://persyn.es.us-west-2.aws.found.io:443/anna-conversations-v0/_search [status:200 duration:0.027s]\n",
      "POST https://persyn.es.us-west-2.aws.found.io:443/anna-summaries-v0/_update/imZUen4Byo-dF4zkHoC9 [status:200 duration:0.026s]\n",
      "POST https://persyn.es.us-west-2.aws.found.io:443/anna-summaries-v0/_search [status:200 duration:0.030s]\n"
     ]
    },
    {
     "name": "stdout",
     "output_type": "stream",
     "text": [
      "{'_index': 'anna-summaries-v0', '_id': 'shgzu4AB1O6hlTWgsHN4', '_version': 2, 'result': 'updated', '_shards': {'total': 2, 'successful': 2, 'failed': 0}, '_seq_no': 1691, '_primary_term': 17}\n",
      "{'_index': 'anna-summaries-v0', '_id': 'h2ZTen4Byo-dF4zk1oCh', '_version': 4, 'result': 'updated', '_shards': {'total': 2, 'successful': 2, 'failed': 0}, '_seq_no': 1692, '_primary_term': 17}\n",
      "{'_index': 'anna-summaries-v0', '_id': 'imZUen4Byo-dF4zkHoC9', '_version': 4, 'result': 'updated', '_shards': {'total': 2, 'successful': 2, 'failed': 0}, '_seq_no': 1693, '_primary_term': 17}\n"
     ]
    },
    {
     "name": "stderr",
     "output_type": "stream",
     "text": [
      "POST https://persyn.es.us-west-2.aws.found.io:443/anna-conversations-v0/_search [status:200 duration:0.030s]\n",
      "POST https://persyn.es.us-west-2.aws.found.io:443/anna-summaries-v0/_update/e2ZSen4Byo-dF4zk3oDp [status:200 duration:0.028s]\n",
      "POST https://persyn.es.us-west-2.aws.found.io:443/anna-summaries-v0/_search [status:200 duration:0.028s]\n",
      "POST https://persyn.es.us-west-2.aws.found.io:443/anna-conversations-v0/_search [status:200 duration:0.029s]\n",
      "POST https://persyn.es.us-west-2.aws.found.io:443/anna-summaries-v0/_update/gCNjcIMBy5mPdc6P5G_X [status:200 duration:0.026s]\n",
      "POST https://persyn.es.us-west-2.aws.found.io:443/anna-summaries-v0/_search [status:200 duration:0.023s]\n",
      "POST https://persyn.es.us-west-2.aws.found.io:443/anna-conversations-v0/_search [status:200 duration:0.029s]\n",
      "POST https://persyn.es.us-west-2.aws.found.io:443/anna-summaries-v0/_update/mGZVen4Byo-dF4zkeIDN [status:200 duration:0.025s]\n",
      "POST https://persyn.es.us-west-2.aws.found.io:443/anna-summaries-v0/_search [status:200 duration:0.028s]\n"
     ]
    },
    {
     "name": "stdout",
     "output_type": "stream",
     "text": [
      "{'_index': 'anna-summaries-v0', '_id': 'e2ZSen4Byo-dF4zk3oDp', '_version': 4, 'result': 'updated', '_shards': {'total': 2, 'successful': 2, 'failed': 0}, '_seq_no': 1694, '_primary_term': 17}\n",
      "{'_index': 'anna-summaries-v0', '_id': 'gCNjcIMBy5mPdc6P5G_X', '_version': 2, 'result': 'updated', '_shards': {'total': 2, 'successful': 2, 'failed': 0}, '_seq_no': 1695, '_primary_term': 17}\n",
      "{'_index': 'anna-summaries-v0', '_id': 'mGZVen4Byo-dF4zkeIDN', '_version': 4, 'result': 'updated', '_shards': {'total': 2, 'successful': 2, 'failed': 0}, '_seq_no': 1696, '_primary_term': 17}\n"
     ]
    },
    {
     "name": "stderr",
     "output_type": "stream",
     "text": [
      "POST https://persyn.es.us-west-2.aws.found.io:443/anna-conversations-v0/_search [status:200 duration:0.027s]\n",
      "POST https://persyn.es.us-west-2.aws.found.io:443/anna-summaries-v0/_update/FE1leIMBRfbdi4KAXltu [status:200 duration:0.032s]\n",
      "POST https://persyn.es.us-west-2.aws.found.io:443/anna-summaries-v0/_search [status:200 duration:0.028s]\n",
      "POST https://persyn.es.us-west-2.aws.found.io:443/anna-conversations-v0/_search [status:200 duration:0.030s]\n",
      "POST https://persyn.es.us-west-2.aws.found.io:443/anna-summaries-v0/_update/QWb2en4Byo-dF4zkF4GU [status:200 duration:0.035s]\n",
      "POST https://persyn.es.us-west-2.aws.found.io:443/anna-summaries-v0/_search [status:200 duration:0.030s]\n",
      "POST https://persyn.es.us-west-2.aws.found.io:443/anna-conversations-v0/_search [status:200 duration:0.023s]\n",
      "POST https://persyn.es.us-west-2.aws.found.io:443/anna-summaries-v0/_update/36-5EYQBBNi73XUqoahN [status:200 duration:0.032s]\n"
     ]
    },
    {
     "name": "stdout",
     "output_type": "stream",
     "text": [
      "{'_index': 'anna-summaries-v0', '_id': 'FE1leIMBRfbdi4KAXltu', '_version': 2, 'result': 'updated', '_shards': {'total': 2, 'successful': 2, 'failed': 0}, '_seq_no': 1697, '_primary_term': 17}\n",
      "{'_index': 'anna-summaries-v0', '_id': 'QWb2en4Byo-dF4zkF4GU', '_version': 4, 'result': 'updated', '_shards': {'total': 2, 'successful': 2, 'failed': 0}, '_seq_no': 1698, '_primary_term': 17}\n",
      "{'_index': 'anna-summaries-v0', '_id': '36-5EYQBBNi73XUqoahN', '_version': 2, 'result': 'updated', '_shards': {'total': 2, 'successful': 2, 'failed': 0}, '_seq_no': 1699, '_primary_term': 17}\n"
     ]
    },
    {
     "name": "stderr",
     "output_type": "stream",
     "text": [
      "POST https://persyn.es.us-west-2.aws.found.io:443/anna-summaries-v0/_search [status:200 duration:0.030s]\n",
      "POST https://persyn.es.us-west-2.aws.found.io:443/anna-conversations-v0/_search [status:200 duration:0.029s]\n",
      "POST https://persyn.es.us-west-2.aws.found.io:443/anna-summaries-v0/_update/pU168IIBRfbdi4KAJlTX [status:200 duration:0.027s]\n",
      "POST https://persyn.es.us-west-2.aws.found.io:443/anna-summaries-v0/_search [status:200 duration:0.032s]\n",
      "POST https://persyn.es.us-west-2.aws.found.io:443/anna-conversations-v0/_search [status:200 duration:0.023s]\n",
      "POST https://persyn.es.us-west-2.aws.found.io:443/anna-summaries-v0/_update/VtSRYIEBBCovfdTkWqNA [status:200 duration:0.025s]\n",
      "POST https://persyn.es.us-west-2.aws.found.io:443/anna-summaries-v0/_search [status:200 duration:0.023s]\n",
      "POST https://persyn.es.us-west-2.aws.found.io:443/anna-conversations-v0/_search [status:200 duration:0.031s]\n",
      "POST https://persyn.es.us-west-2.aws.found.io:443/anna-summaries-v0/_update/Kq-iCoQBBNi73XUq2ags [status:200 duration:0.026s]\n"
     ]
    },
    {
     "name": "stdout",
     "output_type": "stream",
     "text": [
      "{'_index': 'anna-summaries-v0', '_id': 'pU168IIBRfbdi4KAJlTX', '_version': 2, 'result': 'updated', '_shards': {'total': 2, 'successful': 2, 'failed': 0}, '_seq_no': 1700, '_primary_term': 17}\n",
      "{'_index': 'anna-summaries-v0', '_id': 'VtSRYIEBBCovfdTkWqNA', '_version': 2, 'result': 'updated', '_shards': {'total': 2, 'successful': 2, 'failed': 0}, '_seq_no': 1701, '_primary_term': 17}\n",
      "{'_index': 'anna-summaries-v0', '_id': 'Kq-iCoQBBNi73XUq2ags', '_version': 2, 'result': 'updated', '_shards': {'total': 2, 'successful': 2, 'failed': 0}, '_seq_no': 1702, '_primary_term': 17}\n"
     ]
    },
    {
     "name": "stderr",
     "output_type": "stream",
     "text": [
      "POST https://persyn.es.us-west-2.aws.found.io:443/anna-summaries-v0/_search [status:200 duration:0.028s]\n",
      "POST https://persyn.es.us-west-2.aws.found.io:443/anna-conversations-v0/_search [status:200 duration:0.032s]\n",
      "POST https://persyn.es.us-west-2.aws.found.io:443/anna-summaries-v0/_update/SuCF2YMB6EXxeIxUUXiD [status:200 duration:0.025s]\n",
      "POST https://persyn.es.us-west-2.aws.found.io:443/anna-summaries-v0/_search [status:200 duration:0.023s]\n",
      "POST https://persyn.es.us-west-2.aws.found.io:443/anna-conversations-v0/_search [status:200 duration:0.027s]\n",
      "POST https://persyn.es.us-west-2.aws.found.io:443/anna-summaries-v0/_update/cU1BbIIBRfbdi4KAxUjg [status:200 duration:0.029s]\n",
      "POST https://persyn.es.us-west-2.aws.found.io:443/anna-summaries-v0/_search [status:200 duration:0.027s]\n",
      "POST https://persyn.es.us-west-2.aws.found.io:443/anna-conversations-v0/_search [status:200 duration:0.025s]\n",
      "POST https://persyn.es.us-west-2.aws.found.io:443/anna-summaries-v0/_update/PuAUooQB6EXxeIxUXIVm [status:200 duration:0.028s]\n",
      "POST https://persyn.es.us-west-2.aws.found.io:443/anna-summaries-v0/_search [status:200 duration:0.020s]\n"
     ]
    },
    {
     "name": "stdout",
     "output_type": "stream",
     "text": [
      "{'_index': 'anna-summaries-v0', '_id': 'SuCF2YMB6EXxeIxUUXiD', '_version': 2, 'result': 'updated', '_shards': {'total': 2, 'successful': 2, 'failed': 0}, '_seq_no': 1703, '_primary_term': 17}\n",
      "{'_index': 'anna-summaries-v0', '_id': 'cU1BbIIBRfbdi4KAxUjg', '_version': 2, 'result': 'updated', '_shards': {'total': 2, 'successful': 2, 'failed': 0}, '_seq_no': 1704, '_primary_term': 17}\n",
      "{'_index': 'anna-summaries-v0', '_id': 'PuAUooQB6EXxeIxUXIVm', '_version': 2, 'result': 'updated', '_shards': {'total': 2, 'successful': 2, 'failed': 0}, '_seq_no': 1705, '_primary_term': 17}\n"
     ]
    },
    {
     "name": "stderr",
     "output_type": "stream",
     "text": [
      "POST https://persyn.es.us-west-2.aws.found.io:443/anna-conversations-v0/_search [status:200 duration:0.028s]\n",
      "POST https://persyn.es.us-west-2.aws.found.io:443/anna-summaries-v0/_update/etShWIEBBCovfdTk-qFk [status:200 duration:0.025s]\n",
      "POST https://persyn.es.us-west-2.aws.found.io:443/anna-summaries-v0/_search [status:200 duration:0.027s]\n",
      "POST https://persyn.es.us-west-2.aws.found.io:443/anna-conversations-v0/_search [status:200 duration:0.028s]\n",
      "POST https://persyn.es.us-west-2.aws.found.io:443/anna-summaries-v0/_update/ik1d8IIBRfbdi4KA3VQB [status:200 duration:0.024s]\n",
      "POST https://persyn.es.us-west-2.aws.found.io:443/anna-summaries-v0/_search [status:200 duration:0.025s]\n",
      "POST https://persyn.es.us-west-2.aws.found.io:443/anna-conversations-v0/_search [status:200 duration:0.026s]\n",
      "POST https://persyn.es.us-west-2.aws.found.io:443/anna-summaries-v0/_update/bq8OkoQBBNi73XUq_K-x [status:200 duration:0.026s]\n",
      "POST https://persyn.es.us-west-2.aws.found.io:443/anna-summaries-v0/_search [status:200 duration:0.026s]\n"
     ]
    },
    {
     "name": "stdout",
     "output_type": "stream",
     "text": [
      "{'_index': 'anna-summaries-v0', '_id': 'etShWIEBBCovfdTk-qFk', '_version': 2, 'result': 'updated', '_shards': {'total': 2, 'successful': 2, 'failed': 0}, '_seq_no': 1706, '_primary_term': 17}\n",
      "{'_index': 'anna-summaries-v0', '_id': 'ik1d8IIBRfbdi4KA3VQB', '_version': 2, 'result': 'updated', '_shards': {'total': 2, 'successful': 2, 'failed': 0}, '_seq_no': 1707, '_primary_term': 17}\n",
      "{'_index': 'anna-summaries-v0', '_id': 'bq8OkoQBBNi73XUq_K-x', '_version': 2, 'result': 'updated', '_shards': {'total': 2, 'successful': 2, 'failed': 0}, '_seq_no': 1708, '_primary_term': 17}\n"
     ]
    },
    {
     "name": "stderr",
     "output_type": "stream",
     "text": [
      "POST https://persyn.es.us-west-2.aws.found.io:443/anna-conversations-v0/_search [status:200 duration:0.020s]\n",
      "POST https://persyn.es.us-west-2.aws.found.io:443/anna-summaries-v0/_update/E-DfT4QB6EXxeIxUX4Cx [status:200 duration:0.031s]\n",
      "POST https://persyn.es.us-west-2.aws.found.io:443/anna-summaries-v0/_search [status:200 duration:0.031s]\n",
      "POST https://persyn.es.us-west-2.aws.found.io:443/anna-conversations-v0/_search [status:200 duration:0.029s]\n",
      "POST https://persyn.es.us-west-2.aws.found.io:443/anna-summaries-v0/_update/vuBF-4MB6EXxeIxU53nK [status:200 duration:0.028s]\n",
      "POST https://persyn.es.us-west-2.aws.found.io:443/anna-summaries-v0/_search [status:200 duration:0.027s]\n",
      "POST https://persyn.es.us-west-2.aws.found.io:443/anna-conversations-v0/_search [status:200 duration:0.030s]\n",
      "POST https://persyn.es.us-west-2.aws.found.io:443/anna-summaries-v0/_update/_K8-PoQBBNi73XUqL6qa [status:200 duration:0.026s]\n"
     ]
    },
    {
     "name": "stdout",
     "output_type": "stream",
     "text": [
      "{'_index': 'anna-summaries-v0', '_id': 'E-DfT4QB6EXxeIxUX4Cx', '_version': 2, 'result': 'updated', '_shards': {'total': 2, 'successful': 2, 'failed': 0}, '_seq_no': 1709, '_primary_term': 17}\n",
      "{'_index': 'anna-summaries-v0', '_id': 'vuBF-4MB6EXxeIxU53nK', '_version': 2, 'result': 'updated', '_shards': {'total': 2, 'successful': 2, 'failed': 0}, '_seq_no': 1710, '_primary_term': 17}\n",
      "{'_index': 'anna-summaries-v0', '_id': '_K8-PoQBBNi73XUqL6qa', '_version': 2, 'result': 'updated', '_shards': {'total': 2, 'successful': 2, 'failed': 0}, '_seq_no': 1711, '_primary_term': 17}\n"
     ]
    },
    {
     "name": "stderr",
     "output_type": "stream",
     "text": [
      "POST https://persyn.es.us-west-2.aws.found.io:443/anna-summaries-v0/_search [status:200 duration:0.027s]\n",
      "POST https://persyn.es.us-west-2.aws.found.io:443/anna-conversations-v0/_search [status:200 duration:0.028s]\n",
      "POST https://persyn.es.us-west-2.aws.found.io:443/anna-summaries-v0/_update/c6_gWoQBBNi73XUq96wQ [status:200 duration:0.027s]\n",
      "POST https://persyn.es.us-west-2.aws.found.io:443/anna-summaries-v0/_search [status:200 duration:0.029s]\n",
      "POST https://persyn.es.us-west-2.aws.found.io:443/anna-conversations-v0/_search [status:200 duration:0.022s]\n",
      "POST https://persyn.es.us-west-2.aws.found.io:443/anna-summaries-v0/_update/f6_CnYQBBNi73XUq4LC2 [status:200 duration:0.030s]\n",
      "POST https://persyn.es.us-west-2.aws.found.io:443/anna-summaries-v0/_search [status:200 duration:0.027s]\n",
      "POST https://persyn.es.us-west-2.aws.found.io:443/anna-conversations-v0/_search [status:200 duration:0.030s]\n",
      "POST https://persyn.es.us-west-2.aws.found.io:443/anna-summaries-v0/_update/VE1aB4MBRfbdi4KAhVZh [status:200 duration:0.033s]\n"
     ]
    },
    {
     "name": "stdout",
     "output_type": "stream",
     "text": [
      "{'_index': 'anna-summaries-v0', '_id': 'c6_gWoQBBNi73XUq96wQ', '_version': 2, 'result': 'updated', '_shards': {'total': 2, 'successful': 2, 'failed': 0}, '_seq_no': 1712, '_primary_term': 17}\n",
      "{'_index': 'anna-summaries-v0', '_id': 'f6_CnYQBBNi73XUq4LC2', '_version': 2, 'result': 'updated', '_shards': {'total': 2, 'successful': 2, 'failed': 0}, '_seq_no': 1713, '_primary_term': 17}\n",
      "{'_index': 'anna-summaries-v0', '_id': 'VE1aB4MBRfbdi4KAhVZh', '_version': 2, 'result': 'updated', '_shards': {'total': 2, 'successful': 2, 'failed': 0}, '_seq_no': 1714, '_primary_term': 17}\n"
     ]
    },
    {
     "name": "stderr",
     "output_type": "stream",
     "text": [
      "POST https://persyn.es.us-west-2.aws.found.io:443/anna-summaries-v0/_search [status:200 duration:0.027s]\n",
      "POST https://persyn.es.us-west-2.aws.found.io:443/anna-conversations-v0/_search [status:200 duration:0.030s]\n",
      "POST https://persyn.es.us-west-2.aws.found.io:443/anna-summaries-v0/_update/YuCy2YMB6EXxeIxU8nhM [status:200 duration:0.029s]\n",
      "POST https://persyn.es.us-west-2.aws.found.io:443/anna-summaries-v0/_search [status:200 duration:0.031s]\n",
      "POST https://persyn.es.us-west-2.aws.found.io:443/anna-conversations-v0/_search [status:200 duration:0.026s]\n",
      "POST https://persyn.es.us-west-2.aws.found.io:443/anna-summaries-v0/_update/ZuBe84MB6EXxeIxUtHmL [status:200 duration:0.024s]\n",
      "POST https://persyn.es.us-west-2.aws.found.io:443/anna-summaries-v0/_search [status:200 duration:0.027s]\n",
      "POST https://persyn.es.us-west-2.aws.found.io:443/anna-conversations-v0/_search [status:200 duration:0.028s]\n",
      "POST https://persyn.es.us-west-2.aws.found.io:443/anna-summaries-v0/_update/LGbzen4Byo-dF4zk64Hw [status:200 duration:0.025s]\n",
      "POST https://persyn.es.us-west-2.aws.found.io:443/anna-summaries-v0/_search [status:200 duration:0.020s]\n"
     ]
    },
    {
     "name": "stdout",
     "output_type": "stream",
     "text": [
      "{'_index': 'anna-summaries-v0', '_id': 'YuCy2YMB6EXxeIxU8nhM', '_version': 2, 'result': 'updated', '_shards': {'total': 2, 'successful': 2, 'failed': 0}, '_seq_no': 1715, '_primary_term': 17}\n",
      "{'_index': 'anna-summaries-v0', '_id': 'ZuBe84MB6EXxeIxUtHmL', '_version': 2, 'result': 'updated', '_shards': {'total': 2, 'successful': 2, 'failed': 0}, '_seq_no': 1716, '_primary_term': 17}\n",
      "{'_index': 'anna-summaries-v0', '_id': 'LGbzen4Byo-dF4zk64Hw', '_version': 4, 'result': 'updated', '_shards': {'total': 2, 'successful': 2, 'failed': 0}, '_seq_no': 1717, '_primary_term': 17}\n"
     ]
    },
    {
     "name": "stderr",
     "output_type": "stream",
     "text": [
      "POST https://persyn.es.us-west-2.aws.found.io:443/anna-conversations-v0/_search [status:200 duration:0.026s]\n",
      "POST https://persyn.es.us-west-2.aws.found.io:443/anna-summaries-v0/_update/4q9TAIQBBNi73XUqsqVA [status:200 duration:0.024s]\n",
      "POST https://persyn.es.us-west-2.aws.found.io:443/anna-summaries-v0/_search [status:200 duration:0.028s]\n",
      "POST https://persyn.es.us-west-2.aws.found.io:443/anna-conversations-v0/_search [status:200 duration:0.027s]\n",
      "POST https://persyn.es.us-west-2.aws.found.io:443/anna-summaries-v0/_update/xWN-on4BSsm-lZhBmgvG [status:200 duration:0.030s]\n",
      "POST https://persyn.es.us-west-2.aws.found.io:443/anna-summaries-v0/_search [status:200 duration:0.027s]\n",
      "POST https://persyn.es.us-west-2.aws.found.io:443/anna-conversations-v0/_search [status:200 duration:0.029s]\n",
      "POST https://persyn.es.us-west-2.aws.found.io:443/anna-summaries-v0/_update/Pmb1en4Byo-dF4zk1IHM [status:200 duration:0.026s]\n"
     ]
    },
    {
     "name": "stdout",
     "output_type": "stream",
     "text": [
      "{'_index': 'anna-summaries-v0', '_id': '4q9TAIQBBNi73XUqsqVA', '_version': 2, 'result': 'updated', '_shards': {'total': 2, 'successful': 2, 'failed': 0}, '_seq_no': 1718, '_primary_term': 17}\n",
      "{'_index': 'anna-summaries-v0', '_id': 'xWN-on4BSsm-lZhBmgvG', '_version': 4, 'result': 'updated', '_shards': {'total': 2, 'successful': 2, 'failed': 0}, '_seq_no': 1719, '_primary_term': 17}\n",
      "{'_index': 'anna-summaries-v0', '_id': 'Pmb1en4Byo-dF4zk1IHM', '_version': 4, 'result': 'updated', '_shards': {'total': 2, 'successful': 2, 'failed': 0}, '_seq_no': 1720, '_primary_term': 17}\n"
     ]
    },
    {
     "name": "stderr",
     "output_type": "stream",
     "text": [
      "POST https://persyn.es.us-west-2.aws.found.io:443/anna-summaries-v0/_search [status:200 duration:0.027s]\n",
      "POST https://persyn.es.us-west-2.aws.found.io:443/anna-conversations-v0/_search [status:200 duration:0.028s]\n",
      "POST https://persyn.es.us-west-2.aws.found.io:443/anna-summaries-v0/_update/6CMjFYMBy5mPdc6P7msB [status:200 duration:0.025s]\n",
      "POST https://persyn.es.us-west-2.aws.found.io:443/anna-summaries-v0/_search [status:200 duration:0.028s]\n",
      "POST https://persyn.es.us-west-2.aws.found.io:443/anna-conversations-v0/_search [status:200 duration:0.024s]\n",
      "POST https://persyn.es.us-west-2.aws.found.io:443/anna-summaries-v0/_update/KdS77oABBCovfdTkuoW_ [status:200 duration:0.024s]\n",
      "POST https://persyn.es.us-west-2.aws.found.io:443/anna-summaries-v0/_search [status:200 duration:0.027s]\n",
      "POST https://persyn.es.us-west-2.aws.found.io:443/anna-conversations-v0/_search [status:200 duration:0.022s]\n",
      "POST https://persyn.es.us-west-2.aws.found.io:443/anna-summaries-v0/_update/emaXfn4Byo-dF4zkd4Le [status:200 duration:0.030s]\n",
      "POST https://persyn.es.us-west-2.aws.found.io:443/anna-summaries-v0/_search [status:200 duration:0.028s]\n"
     ]
    },
    {
     "name": "stdout",
     "output_type": "stream",
     "text": [
      "{'_index': 'anna-summaries-v0', '_id': '6CMjFYMBy5mPdc6P7msB', '_version': 2, 'result': 'updated', '_shards': {'total': 2, 'successful': 2, 'failed': 0}, '_seq_no': 1721, '_primary_term': 17}\n",
      "{'_index': 'anna-summaries-v0', '_id': 'KdS77oABBCovfdTkuoW_', '_version': 2, 'result': 'updated', '_shards': {'total': 2, 'successful': 2, 'failed': 0}, '_seq_no': 1722, '_primary_term': 17}\n",
      "{'_index': 'anna-summaries-v0', '_id': 'emaXfn4Byo-dF4zkd4Le', '_version': 4, 'result': 'updated', '_shards': {'total': 2, 'successful': 2, 'failed': 0}, '_seq_no': 1723, '_primary_term': 17}\n"
     ]
    },
    {
     "name": "stderr",
     "output_type": "stream",
     "text": [
      "POST https://persyn.es.us-west-2.aws.found.io:443/anna-conversations-v0/_search [status:200 duration:0.030s]\n",
      "POST https://persyn.es.us-west-2.aws.found.io:443/anna-summaries-v0/_update/i68ukoQBBNi73XUqSK8Y [status:200 duration:0.028s]\n",
      "POST https://persyn.es.us-west-2.aws.found.io:443/anna-summaries-v0/_search [status:200 duration:0.027s]\n",
      "POST https://persyn.es.us-west-2.aws.found.io:443/anna-conversations-v0/_search [status:200 duration:0.026s]\n",
      "POST https://persyn.es.us-west-2.aws.found.io:443/anna-summaries-v0/_update/j69Lp4QBBNi73XUqPLIQ [status:200 duration:0.030s]\n",
      "POST https://persyn.es.us-west-2.aws.found.io:443/anna-summaries-v0/_search [status:200 duration:0.027s]\n",
      "POST https://persyn.es.us-west-2.aws.found.io:443/anna-conversations-v0/_search [status:200 duration:0.028s]\n",
      "POST https://persyn.es.us-west-2.aws.found.io:443/anna-summaries-v0/_update/hE04U4MBRfbdi4KAplib [status:200 duration:0.024s]\n"
     ]
    },
    {
     "name": "stdout",
     "output_type": "stream",
     "text": [
      "{'_index': 'anna-summaries-v0', '_id': 'i68ukoQBBNi73XUqSK8Y', '_version': 2, 'result': 'updated', '_shards': {'total': 2, 'successful': 2, 'failed': 0}, '_seq_no': 1724, '_primary_term': 17}\n",
      "{'_index': 'anna-summaries-v0', '_id': 'j69Lp4QBBNi73XUqPLIQ', '_version': 2, 'result': 'updated', '_shards': {'total': 2, 'successful': 2, 'failed': 0}, '_seq_no': 1725, '_primary_term': 17}\n",
      "{'_index': 'anna-summaries-v0', '_id': 'hE04U4MBRfbdi4KAplib', '_version': 2, 'result': 'updated', '_shards': {'total': 2, 'successful': 2, 'failed': 0}, '_seq_no': 1726, '_primary_term': 17}\n"
     ]
    },
    {
     "name": "stderr",
     "output_type": "stream",
     "text": [
      "POST https://persyn.es.us-west-2.aws.found.io:443/anna-summaries-v0/_search [status:200 duration:0.029s]\n",
      "POST https://persyn.es.us-west-2.aws.found.io:443/anna-conversations-v0/_search [status:200 duration:0.029s]\n",
      "POST https://persyn.es.us-west-2.aws.found.io:443/anna-summaries-v0/_update/zR0zBYIBGYbVpQ0odI4n [status:200 duration:0.031s]\n",
      "POST https://persyn.es.us-west-2.aws.found.io:443/anna-summaries-v0/_search [status:200 duration:0.023s]\n",
      "POST https://persyn.es.us-west-2.aws.found.io:443/anna-conversations-v0/_search [status:200 duration:0.029s]\n",
      "POST https://persyn.es.us-west-2.aws.found.io:443/anna-summaries-v0/_update/TRjaXoAB1O6hlTWgNGC8 [status:200 duration:0.028s]\n",
      "POST https://persyn.es.us-west-2.aws.found.io:443/anna-summaries-v0/_search [status:200 duration:0.028s]\n",
      "POST https://persyn.es.us-west-2.aws.found.io:443/anna-conversations-v0/_search [status:200 duration:0.030s]\n",
      "POST https://persyn.es.us-west-2.aws.found.io:443/anna-summaries-v0/_update/Ik0NqoIBRfbdi4KAXk-g [status:200 duration:0.028s]\n"
     ]
    },
    {
     "name": "stdout",
     "output_type": "stream",
     "text": [
      "{'_index': 'anna-summaries-v0', '_id': 'zR0zBYIBGYbVpQ0odI4n', '_version': 2, 'result': 'updated', '_shards': {'total': 2, 'successful': 2, 'failed': 0}, '_seq_no': 1727, '_primary_term': 17}\n",
      "{'_index': 'anna-summaries-v0', '_id': 'TRjaXoAB1O6hlTWgNGC8', '_version': 2, 'result': 'updated', '_shards': {'total': 2, 'successful': 2, 'failed': 0}, '_seq_no': 1728, '_primary_term': 17}\n",
      "{'_index': 'anna-summaries-v0', '_id': 'Ik0NqoIBRfbdi4KAXk-g', '_version': 2, 'result': 'updated', '_shards': {'total': 2, 'successful': 2, 'failed': 0}, '_seq_no': 1729, '_primary_term': 17}\n"
     ]
    },
    {
     "name": "stderr",
     "output_type": "stream",
     "text": [
      "POST https://persyn.es.us-west-2.aws.found.io:443/anna-summaries-v0/_search [status:200 duration:0.030s]\n",
      "POST https://persyn.es.us-west-2.aws.found.io:443/anna-conversations-v0/_search [status:200 duration:0.031s]\n",
      "POST https://persyn.es.us-west-2.aws.found.io:443/anna-summaries-v0/_update/FtT_B4EBBCovfdTk14x0 [status:200 duration:0.027s]\n",
      "POST https://persyn.es.us-west-2.aws.found.io:443/anna-summaries-v0/_search [status:200 duration:0.031s]\n",
      "POST https://persyn.es.us-west-2.aws.found.io:443/anna-conversations-v0/_search [status:200 duration:0.025s]\n",
      "POST https://persyn.es.us-west-2.aws.found.io:443/anna-summaries-v0/_update/QGb2en4Byo-dF4zkAYGj [status:200 duration:0.048s]\n",
      "POST https://persyn.es.us-west-2.aws.found.io:443/anna-summaries-v0/_search [status:200 duration:0.039s]\n",
      "POST https://persyn.es.us-west-2.aws.found.io:443/anna-conversations-v0/_search [status:200 duration:0.024s]\n"
     ]
    },
    {
     "name": "stdout",
     "output_type": "stream",
     "text": [
      "{'_index': 'anna-summaries-v0', '_id': 'FtT_B4EBBCovfdTk14x0', '_version': 2, 'result': 'updated', '_shards': {'total': 2, 'successful': 2, 'failed': 0}, '_seq_no': 1730, '_primary_term': 17}\n",
      "{'_index': 'anna-summaries-v0', '_id': 'QGb2en4Byo-dF4zkAYGj', '_version': 4, 'result': 'updated', '_shards': {'total': 2, 'successful': 2, 'failed': 0}, '_seq_no': 1731, '_primary_term': 17}\n"
     ]
    },
    {
     "name": "stderr",
     "output_type": "stream",
     "text": [
      "POST https://persyn.es.us-west-2.aws.found.io:443/anna-summaries-v0/_update/POD7noMB6EXxeIxU-HeO [status:200 duration:0.027s]\n",
      "POST https://persyn.es.us-west-2.aws.found.io:443/anna-summaries-v0/_search [status:200 duration:0.023s]\n",
      "POST https://persyn.es.us-west-2.aws.found.io:443/anna-conversations-v0/_search [status:200 duration:0.031s]\n",
      "POST https://persyn.es.us-west-2.aws.found.io:443/anna-summaries-v0/_update/JWbzg34Byo-dF4zkioRb [status:200 duration:0.034s]\n",
      "POST https://persyn.es.us-west-2.aws.found.io:443/anna-summaries-v0/_search [status:200 duration:0.031s]\n",
      "POST https://persyn.es.us-west-2.aws.found.io:443/anna-conversations-v0/_search [status:200 duration:0.033s]\n",
      "POST https://persyn.es.us-west-2.aws.found.io:443/anna-summaries-v0/_update/jK9Cp4QBBNi73XUq0LIc [status:200 duration:0.026s]\n"
     ]
    },
    {
     "name": "stdout",
     "output_type": "stream",
     "text": [
      "{'_index': 'anna-summaries-v0', '_id': 'POD7noMB6EXxeIxU-HeO', '_version': 2, 'result': 'updated', '_shards': {'total': 2, 'successful': 2, 'failed': 0}, '_seq_no': 1732, '_primary_term': 17}\n",
      "{'_index': 'anna-summaries-v0', '_id': 'JWbzg34Byo-dF4zkioRb', '_version': 4, 'result': 'updated', '_shards': {'total': 2, 'successful': 2, 'failed': 0}, '_seq_no': 1733, '_primary_term': 17}\n",
      "{'_index': 'anna-summaries-v0', '_id': 'jK9Cp4QBBNi73XUq0LIc', '_version': 2, 'result': 'updated', '_shards': {'total': 2, 'successful': 2, 'failed': 0}, '_seq_no': 1734, '_primary_term': 17}\n"
     ]
    },
    {
     "name": "stderr",
     "output_type": "stream",
     "text": [
      "POST https://persyn.es.us-west-2.aws.found.io:443/anna-summaries-v0/_search [status:200 duration:0.039s]\n",
      "POST https://persyn.es.us-west-2.aws.found.io:443/anna-conversations-v0/_search [status:200 duration:0.021s]\n",
      "POST https://persyn.es.us-west-2.aws.found.io:443/anna-summaries-v0/_update/Z2ZRen4Byo-dF4zkKID_ [status:200 duration:0.028s]\n",
      "POST https://persyn.es.us-west-2.aws.found.io:443/anna-summaries-v0/_search [status:200 duration:0.029s]\n",
      "POST https://persyn.es.us-west-2.aws.found.io:443/anna-conversations-v0/_search [status:200 duration:0.031s]\n",
      "POST https://persyn.es.us-west-2.aws.found.io:443/anna-summaries-v0/_update/xq9uB4QBBNi73XUqe6dk [status:200 duration:0.028s]\n",
      "POST https://persyn.es.us-west-2.aws.found.io:443/anna-summaries-v0/_search [status:200 duration:0.030s]\n",
      "POST https://persyn.es.us-west-2.aws.found.io:443/anna-conversations-v0/_search [status:200 duration:0.030s]\n",
      "POST https://persyn.es.us-west-2.aws.found.io:443/anna-summaries-v0/_update/pdTQL4EBBCovfdTkDJXZ [status:200 duration:0.026s]\n"
     ]
    },
    {
     "name": "stdout",
     "output_type": "stream",
     "text": [
      "{'_index': 'anna-summaries-v0', '_id': 'Z2ZRen4Byo-dF4zkKID_', '_version': 4, 'result': 'updated', '_shards': {'total': 2, 'successful': 2, 'failed': 0}, '_seq_no': 1735, '_primary_term': 17}\n",
      "{'_index': 'anna-summaries-v0', '_id': 'xq9uB4QBBNi73XUqe6dk', '_version': 2, 'result': 'updated', '_shards': {'total': 2, 'successful': 2, 'failed': 0}, '_seq_no': 1736, '_primary_term': 17}\n",
      "{'_index': 'anna-summaries-v0', '_id': 'pdTQL4EBBCovfdTkDJXZ', '_version': 2, 'result': 'updated', '_shards': {'total': 2, 'successful': 2, 'failed': 0}, '_seq_no': 1737, '_primary_term': 17}\n"
     ]
    },
    {
     "name": "stderr",
     "output_type": "stream",
     "text": [
      "POST https://persyn.es.us-west-2.aws.found.io:443/anna-summaries-v0/_search [status:200 duration:0.027s]\n",
      "POST https://persyn.es.us-west-2.aws.found.io:443/anna-conversations-v0/_search [status:200 duration:0.027s]\n",
      "POST https://persyn.es.us-west-2.aws.found.io:443/anna-summaries-v0/_update/Yx0fJ4IBGYbVpQ0o9aE9 [status:200 duration:0.028s]\n",
      "POST https://persyn.es.us-west-2.aws.found.io:443/anna-summaries-v0/_search [status:200 duration:0.027s]\n",
      "POST https://persyn.es.us-west-2.aws.found.io:443/anna-conversations-v0/_search [status:200 duration:0.023s]\n",
      "POST https://persyn.es.us-west-2.aws.found.io:443/anna-summaries-v0/_update/ryNdXoMBy5mPdc6PbW67 [status:200 duration:0.027s]\n",
      "POST https://persyn.es.us-west-2.aws.found.io:443/anna-summaries-v0/_search [status:200 duration:0.023s]\n",
      "POST https://persyn.es.us-west-2.aws.found.io:443/anna-conversations-v0/_search [status:200 duration:0.033s]\n",
      "POST https://persyn.es.us-west-2.aws.found.io:443/anna-summaries-v0/_update/_B22UYIBGYbVpQ0oqLDk [status:200 duration:0.028s]\n"
     ]
    },
    {
     "name": "stdout",
     "output_type": "stream",
     "text": [
      "{'_index': 'anna-summaries-v0', '_id': 'Yx0fJ4IBGYbVpQ0o9aE9', '_version': 2, 'result': 'updated', '_shards': {'total': 2, 'successful': 2, 'failed': 0}, '_seq_no': 1738, '_primary_term': 17}\n",
      "{'_index': 'anna-summaries-v0', '_id': 'ryNdXoMBy5mPdc6PbW67', '_version': 2, 'result': 'updated', '_shards': {'total': 2, 'successful': 2, 'failed': 0}, '_seq_no': 1739, '_primary_term': 17}\n",
      "{'_index': 'anna-summaries-v0', '_id': '_B22UYIBGYbVpQ0oqLDk', '_version': 2, 'result': 'updated', '_shards': {'total': 2, 'successful': 2, 'failed': 0}, '_seq_no': 1740, '_primary_term': 17}\n"
     ]
    },
    {
     "name": "stderr",
     "output_type": "stream",
     "text": [
      "POST https://persyn.es.us-west-2.aws.found.io:443/anna-summaries-v0/_search [status:200 duration:0.030s]\n",
      "POST https://persyn.es.us-west-2.aws.found.io:443/anna-conversations-v0/_search [status:200 duration:0.028s]\n",
      "POST https://persyn.es.us-west-2.aws.found.io:443/anna-summaries-v0/_update/tSP7NIMBy5mPdc6PtGzq [status:200 duration:0.029s]\n",
      "POST https://persyn.es.us-west-2.aws.found.io:443/anna-summaries-v0/_search [status:200 duration:0.029s]\n",
      "POST https://persyn.es.us-west-2.aws.found.io:443/anna-conversations-v0/_search [status:200 duration:0.030s]\n",
      "POST https://persyn.es.us-west-2.aws.found.io:443/anna-summaries-v0/_update/c69KEoQBBNi73XUqS6mv [status:200 duration:0.026s]\n",
      "POST https://persyn.es.us-west-2.aws.found.io:443/anna-summaries-v0/_search [status:200 duration:0.029s]\n",
      "POST https://persyn.es.us-west-2.aws.found.io:443/anna-conversations-v0/_search [status:200 duration:0.031s]\n",
      "POST https://persyn.es.us-west-2.aws.found.io:443/anna-summaries-v0/_update/X-B1WoQB6EXxeIxUe4Dy [status:200 duration:0.028s]\n"
     ]
    },
    {
     "name": "stdout",
     "output_type": "stream",
     "text": [
      "{'_index': 'anna-summaries-v0', '_id': 'tSP7NIMBy5mPdc6PtGzq', '_version': 2, 'result': 'updated', '_shards': {'total': 2, 'successful': 2, 'failed': 0}, '_seq_no': 1741, '_primary_term': 17}\n",
      "{'_index': 'anna-summaries-v0', '_id': 'c69KEoQBBNi73XUqS6mv', '_version': 2, 'result': 'updated', '_shards': {'total': 2, 'successful': 2, 'failed': 0}, '_seq_no': 1742, '_primary_term': 17}\n",
      "{'_index': 'anna-summaries-v0', '_id': 'X-B1WoQB6EXxeIxUe4Dy', '_version': 2, 'result': 'updated', '_shards': {'total': 2, 'successful': 2, 'failed': 0}, '_seq_no': 1743, '_primary_term': 17}\n"
     ]
    },
    {
     "name": "stderr",
     "output_type": "stream",
     "text": [
      "POST https://persyn.es.us-west-2.aws.found.io:443/anna-summaries-v0/_search [status:200 duration:0.028s]\n",
      "POST https://persyn.es.us-west-2.aws.found.io:443/anna-conversations-v0/_search [status:200 duration:0.027s]\n",
      "POST https://persyn.es.us-west-2.aws.found.io:443/anna-summaries-v0/_update/8a83l4QBBNi73XUqJa9W [status:200 duration:0.032s]\n",
      "POST https://persyn.es.us-west-2.aws.found.io:443/anna-summaries-v0/_search [status:200 duration:0.030s]\n",
      "POST https://persyn.es.us-west-2.aws.found.io:443/anna-conversations-v0/_search [status:200 duration:0.027s]\n",
      "POST https://persyn.es.us-west-2.aws.found.io:443/anna-summaries-v0/_update/Cq-drIQBBNi73XUqT7Qp [status:200 duration:0.026s]\n",
      "POST https://persyn.es.us-west-2.aws.found.io:443/anna-summaries-v0/_search [status:200 duration:0.030s]\n",
      "POST https://persyn.es.us-west-2.aws.found.io:443/anna-conversations-v0/_search [status:200 duration:0.030s]\n",
      "POST https://persyn.es.us-west-2.aws.found.io:443/anna-summaries-v0/_update/eWZSen4Byo-dF4zktIA1 [status:200 duration:0.025s]\n"
     ]
    },
    {
     "name": "stdout",
     "output_type": "stream",
     "text": [
      "{'_index': 'anna-summaries-v0', '_id': '8a83l4QBBNi73XUqJa9W', '_version': 2, 'result': 'updated', '_shards': {'total': 2, 'successful': 2, 'failed': 0}, '_seq_no': 1744, '_primary_term': 17}\n",
      "{'_index': 'anna-summaries-v0', '_id': 'Cq-drIQBBNi73XUqT7Qp', '_version': 2, 'result': 'updated', '_shards': {'total': 2, 'successful': 2, 'failed': 0}, '_seq_no': 1745, '_primary_term': 17}\n",
      "{'_index': 'anna-summaries-v0', '_id': 'eWZSen4Byo-dF4zktIA1', '_version': 4, 'result': 'updated', '_shards': {'total': 2, 'successful': 2, 'failed': 0}, '_seq_no': 1746, '_primary_term': 17}\n"
     ]
    },
    {
     "name": "stderr",
     "output_type": "stream",
     "text": [
      "POST https://persyn.es.us-west-2.aws.found.io:443/anna-summaries-v0/_search [status:200 duration:0.028s]\n",
      "POST https://persyn.es.us-west-2.aws.found.io:443/anna-conversations-v0/_search [status:200 duration:0.024s]\n",
      "POST https://persyn.es.us-west-2.aws.found.io:443/anna-summaries-v0/_update/8U0To4IBRfbdi4KATk3u [status:200 duration:0.026s]\n",
      "POST https://persyn.es.us-west-2.aws.found.io:443/anna-summaries-v0/_search [status:200 duration:0.020s]\n",
      "POST https://persyn.es.us-west-2.aws.found.io:443/anna-conversations-v0/_search [status:200 duration:0.026s]\n",
      "POST https://persyn.es.us-west-2.aws.found.io:443/anna-summaries-v0/_update/3yNAcoMBy5mPdc6PDnB2 [status:200 duration:0.031s]\n",
      "POST https://persyn.es.us-west-2.aws.found.io:443/anna-summaries-v0/_search [status:200 duration:0.024s]\n",
      "POST https://persyn.es.us-west-2.aws.found.io:443/anna-conversations-v0/_search [status:200 duration:0.029s]\n",
      "POST https://persyn.es.us-west-2.aws.found.io:443/anna-summaries-v0/_update/jGZUen4Byo-dF4zkXoCQ [status:200 duration:0.031s]\n",
      "POST https://persyn.es.us-west-2.aws.found.io:443/anna-summaries-v0/_search [status:200 duration:0.025s]\n"
     ]
    },
    {
     "name": "stdout",
     "output_type": "stream",
     "text": [
      "{'_index': 'anna-summaries-v0', '_id': '8U0To4IBRfbdi4KATk3u', '_version': 2, 'result': 'updated', '_shards': {'total': 2, 'successful': 2, 'failed': 0}, '_seq_no': 1747, '_primary_term': 17}\n",
      "{'_index': 'anna-summaries-v0', '_id': '3yNAcoMBy5mPdc6PDnB2', '_version': 2, 'result': 'updated', '_shards': {'total': 2, 'successful': 2, 'failed': 0}, '_seq_no': 1748, '_primary_term': 17}\n",
      "{'_index': 'anna-summaries-v0', '_id': 'jGZUen4Byo-dF4zkXoCQ', '_version': 4, 'result': 'updated', '_shards': {'total': 2, 'successful': 2, 'failed': 0}, '_seq_no': 1749, '_primary_term': 17}\n"
     ]
    },
    {
     "name": "stderr",
     "output_type": "stream",
     "text": [
      "POST https://persyn.es.us-west-2.aws.found.io:443/anna-conversations-v0/_search [status:200 duration:0.028s]\n",
      "POST https://persyn.es.us-west-2.aws.found.io:443/anna-summaries-v0/_update/udRxMIEBBCovfdTkhpZj [status:200 duration:0.029s]\n",
      "POST https://persyn.es.us-west-2.aws.found.io:443/anna-summaries-v0/_search [status:200 duration:0.022s]\n",
      "POST https://persyn.es.us-west-2.aws.found.io:443/anna-conversations-v0/_search [status:200 duration:0.028s]\n",
      "POST https://persyn.es.us-west-2.aws.found.io:443/anna-summaries-v0/_update/q9TTBoEBBCovfdTk14vL [status:200 duration:0.031s]\n",
      "POST https://persyn.es.us-west-2.aws.found.io:443/anna-summaries-v0/_search [status:200 duration:0.028s]\n",
      "POST https://persyn.es.us-west-2.aws.found.io:443/anna-conversations-v0/_search [status:200 duration:0.026s]\n",
      "POST https://persyn.es.us-west-2.aws.found.io:443/anna-summaries-v0/_update/bR3jUIIBGYbVpQ0o37BS [status:200 duration:0.023s]\n",
      "POST https://persyn.es.us-west-2.aws.found.io:443/anna-summaries-v0/_search [status:200 duration:0.026s]\n"
     ]
    },
    {
     "name": "stdout",
     "output_type": "stream",
     "text": [
      "{'_index': 'anna-summaries-v0', '_id': 'udRxMIEBBCovfdTkhpZj', '_version': 2, 'result': 'updated', '_shards': {'total': 2, 'successful': 2, 'failed': 0}, '_seq_no': 1750, '_primary_term': 17}\n",
      "{'_index': 'anna-summaries-v0', '_id': 'q9TTBoEBBCovfdTk14vL', '_version': 2, 'result': 'updated', '_shards': {'total': 2, 'successful': 2, 'failed': 0}, '_seq_no': 1751, '_primary_term': 17}\n",
      "{'_index': 'anna-summaries-v0', '_id': 'bR3jUIIBGYbVpQ0o37BS', '_version': 2, 'result': 'updated', '_shards': {'total': 2, 'successful': 2, 'failed': 0}, '_seq_no': 1752, '_primary_term': 17}\n"
     ]
    },
    {
     "name": "stderr",
     "output_type": "stream",
     "text": [
      "POST https://persyn.es.us-west-2.aws.found.io:443/anna-conversations-v0/_search [status:200 duration:0.029s]\n",
      "POST https://persyn.es.us-west-2.aws.found.io:443/anna-summaries-v0/_update/FNT_B4EBBCovfdTkN4wG [status:200 duration:0.032s]\n",
      "POST https://persyn.es.us-west-2.aws.found.io:443/anna-summaries-v0/_search [status:200 duration:0.029s]\n",
      "POST https://persyn.es.us-west-2.aws.found.io:443/anna-conversations-v0/_search [status:200 duration:0.027s]\n",
      "POST https://persyn.es.us-west-2.aws.found.io:443/anna-summaries-v0/_update/SuC0FYQB6EXxeIxUwn0a [status:200 duration:0.028s]\n",
      "POST https://persyn.es.us-west-2.aws.found.io:443/anna-summaries-v0/_search [status:200 duration:0.022s]\n",
      "POST https://persyn.es.us-west-2.aws.found.io:443/anna-conversations-v0/_search [status:200 duration:0.029s]\n",
      "POST https://persyn.es.us-west-2.aws.found.io:443/anna-summaries-v0/_update/qiNOU4MBy5mPdc6PGW0d [status:200 duration:0.027s]\n"
     ]
    },
    {
     "name": "stdout",
     "output_type": "stream",
     "text": [
      "{'_index': 'anna-summaries-v0', '_id': 'FNT_B4EBBCovfdTkN4wG', '_version': 2, 'result': 'updated', '_shards': {'total': 2, 'successful': 2, 'failed': 0}, '_seq_no': 1753, '_primary_term': 17}\n",
      "{'_index': 'anna-summaries-v0', '_id': 'SuC0FYQB6EXxeIxUwn0a', '_version': 2, 'result': 'updated', '_shards': {'total': 2, 'successful': 2, 'failed': 0}, '_seq_no': 1754, '_primary_term': 17}\n",
      "{'_index': 'anna-summaries-v0', '_id': 'qiNOU4MBy5mPdc6PGW0d', '_version': 2, 'result': 'updated', '_shards': {'total': 2, 'successful': 2, 'failed': 0}, '_seq_no': 1755, '_primary_term': 17}\n"
     ]
    },
    {
     "name": "stderr",
     "output_type": "stream",
     "text": [
      "POST https://persyn.es.us-west-2.aws.found.io:443/anna-summaries-v0/_search [status:200 duration:0.031s]\n",
      "POST https://persyn.es.us-west-2.aws.found.io:443/anna-conversations-v0/_search [status:200 duration:0.031s]\n",
      "POST https://persyn.es.us-west-2.aws.found.io:443/anna-summaries-v0/_update/Ja8DCIQBBNi73XUqh6je [status:200 duration:0.028s]\n",
      "POST https://persyn.es.us-west-2.aws.found.io:443/anna-summaries-v0/_search [status:200 duration:0.031s]\n",
      "POST https://persyn.es.us-west-2.aws.found.io:443/anna-conversations-v0/_search [status:200 duration:0.027s]\n",
      "POST https://persyn.es.us-west-2.aws.found.io:443/anna-summaries-v0/_update/86_M-4MBBNi73XUqL6Ts [status:200 duration:0.027s]\n",
      "POST https://persyn.es.us-west-2.aws.found.io:443/anna-summaries-v0/_search [status:200 duration:0.029s]\n",
      "POST https://persyn.es.us-west-2.aws.found.io:443/anna-conversations-v0/_search [status:200 duration:0.028s]\n",
      "POST https://persyn.es.us-west-2.aws.found.io:443/anna-summaries-v0/_update/ZK-y9YMBBNi73XUqsaR4 [status:200 duration:0.025s]\n"
     ]
    },
    {
     "name": "stdout",
     "output_type": "stream",
     "text": [
      "{'_index': 'anna-summaries-v0', '_id': 'Ja8DCIQBBNi73XUqh6je', '_version': 2, 'result': 'updated', '_shards': {'total': 2, 'successful': 2, 'failed': 0}, '_seq_no': 1756, '_primary_term': 17}\n",
      "{'_index': 'anna-summaries-v0', '_id': '86_M-4MBBNi73XUqL6Ts', '_version': 2, 'result': 'updated', '_shards': {'total': 2, 'successful': 2, 'failed': 0}, '_seq_no': 1757, '_primary_term': 17}\n",
      "{'_index': 'anna-summaries-v0', '_id': 'ZK-y9YMBBNi73XUqsaR4', '_version': 2, 'result': 'updated', '_shards': {'total': 2, 'successful': 2, 'failed': 0}, '_seq_no': 1758, '_primary_term': 17}\n"
     ]
    },
    {
     "name": "stderr",
     "output_type": "stream",
     "text": [
      "POST https://persyn.es.us-west-2.aws.found.io:443/anna-summaries-v0/_search [status:200 duration:0.027s]\n",
      "POST https://persyn.es.us-west-2.aws.found.io:443/anna-conversations-v0/_search [status:200 duration:0.025s]\n",
      "POST https://persyn.es.us-west-2.aws.found.io:443/anna-summaries-v0/_update/YRgiaIAB1O6hlTWgOGMJ [status:200 duration:0.026s]\n",
      "POST https://persyn.es.us-west-2.aws.found.io:443/anna-summaries-v0/_search [status:200 duration:0.024s]\n",
      "POST https://persyn.es.us-west-2.aws.found.io:443/anna-conversations-v0/_search [status:200 duration:0.027s]\n",
      "POST https://persyn.es.us-west-2.aws.found.io:443/anna-summaries-v0/_update/OOCkkIQB6EXxeIxUioNc [status:200 duration:0.028s]\n",
      "POST https://persyn.es.us-west-2.aws.found.io:443/anna-summaries-v0/_search [status:200 duration:0.029s]\n",
      "POST https://persyn.es.us-west-2.aws.found.io:443/anna-conversations-v0/_search [status:200 duration:0.033s]\n",
      "POST https://persyn.es.us-west-2.aws.found.io:443/anna-summaries-v0/_update/NGb0en4Byo-dF4zkuIFr [status:200 duration:0.028s]\n"
     ]
    },
    {
     "name": "stdout",
     "output_type": "stream",
     "text": [
      "{'_index': 'anna-summaries-v0', '_id': 'YRgiaIAB1O6hlTWgOGMJ', '_version': 2, 'result': 'updated', '_shards': {'total': 2, 'successful': 2, 'failed': 0}, '_seq_no': 1759, '_primary_term': 17}\n",
      "{'_index': 'anna-summaries-v0', '_id': 'OOCkkIQB6EXxeIxUioNc', '_version': 2, 'result': 'updated', '_shards': {'total': 2, 'successful': 2, 'failed': 0}, '_seq_no': 1760, '_primary_term': 17}\n",
      "{'_index': 'anna-summaries-v0', '_id': 'NGb0en4Byo-dF4zkuIFr', '_version': 4, 'result': 'updated', '_shards': {'total': 2, 'successful': 2, 'failed': 0}, '_seq_no': 1761, '_primary_term': 17}\n"
     ]
    },
    {
     "name": "stderr",
     "output_type": "stream",
     "text": [
      "POST https://persyn.es.us-west-2.aws.found.io:443/anna-summaries-v0/_search [status:200 duration:0.027s]\n",
      "POST https://persyn.es.us-west-2.aws.found.io:443/anna-conversations-v0/_search [status:200 duration:0.028s]\n",
      "POST https://persyn.es.us-west-2.aws.found.io:443/anna-summaries-v0/_update/c00nU4MBRfbdi4KA2Fhy [status:200 duration:0.024s]\n",
      "POST https://persyn.es.us-west-2.aws.found.io:443/anna-summaries-v0/_search [status:200 duration:0.027s]\n",
      "POST https://persyn.es.us-west-2.aws.found.io:443/anna-conversations-v0/_search [status:200 duration:0.021s]\n",
      "POST https://persyn.es.us-west-2.aws.found.io:443/anna-summaries-v0/_update/Jmbzen4Byo-dF4zkhIH- [status:200 duration:0.024s]\n",
      "POST https://persyn.es.us-west-2.aws.found.io:443/anna-summaries-v0/_search [status:200 duration:0.028s]\n",
      "POST https://persyn.es.us-west-2.aws.found.io:443/anna-conversations-v0/_search [status:200 duration:0.028s]\n",
      "POST https://persyn.es.us-west-2.aws.found.io:443/anna-summaries-v0/_update/3a-V_oMBBNi73XUqSKWJ [status:200 duration:0.025s]\n",
      "POST https://persyn.es.us-west-2.aws.found.io:443/anna-summaries-v0/_search [status:200 duration:0.025s]\n"
     ]
    },
    {
     "name": "stdout",
     "output_type": "stream",
     "text": [
      "{'_index': 'anna-summaries-v0', '_id': 'c00nU4MBRfbdi4KA2Fhy', '_version': 2, 'result': 'updated', '_shards': {'total': 2, 'successful': 2, 'failed': 0}, '_seq_no': 1762, '_primary_term': 17}\n",
      "{'_index': 'anna-summaries-v0', '_id': 'Jmbzen4Byo-dF4zkhIH-', '_version': 4, 'result': 'updated', '_shards': {'total': 2, 'successful': 2, 'failed': 0}, '_seq_no': 1763, '_primary_term': 17}\n",
      "{'_index': 'anna-summaries-v0', '_id': '3a-V_oMBBNi73XUqSKWJ', '_version': 2, 'result': 'updated', '_shards': {'total': 2, 'successful': 2, 'failed': 0}, '_seq_no': 1764, '_primary_term': 17}\n"
     ]
    },
    {
     "name": "stderr",
     "output_type": "stream",
     "text": [
      "POST https://persyn.es.us-west-2.aws.found.io:443/anna-conversations-v0/_search [status:200 duration:0.026s]\n",
      "POST https://persyn.es.us-west-2.aws.found.io:443/anna-summaries-v0/_update/q-D_AIQB6EXxeIxU2no3 [status:200 duration:0.026s]\n",
      "POST https://persyn.es.us-west-2.aws.found.io:443/anna-summaries-v0/_search [status:200 duration:0.027s]\n",
      "POST https://persyn.es.us-west-2.aws.found.io:443/anna-conversations-v0/_search [status:200 duration:0.030s]\n",
      "POST https://persyn.es.us-west-2.aws.found.io:443/anna-summaries-v0/_update/nNSyMIEBBCovfdTkjZdd [status:200 duration:0.030s]\n",
      "POST https://persyn.es.us-west-2.aws.found.io:443/anna-summaries-v0/_search [status:200 duration:0.027s]\n",
      "POST https://persyn.es.us-west-2.aws.found.io:443/anna-conversations-v0/_search [status:200 duration:0.029s]\n",
      "POST https://persyn.es.us-west-2.aws.found.io:443/anna-summaries-v0/_update/Xh1cBIIBGYbVpQ0ogI0o [status:200 duration:0.024s]\n"
     ]
    },
    {
     "name": "stdout",
     "output_type": "stream",
     "text": [
      "{'_index': 'anna-summaries-v0', '_id': 'q-D_AIQB6EXxeIxU2no3', '_version': 2, 'result': 'updated', '_shards': {'total': 2, 'successful': 2, 'failed': 0}, '_seq_no': 1765, '_primary_term': 17}\n",
      "{'_index': 'anna-summaries-v0', '_id': 'nNSyMIEBBCovfdTkjZdd', '_version': 2, 'result': 'updated', '_shards': {'total': 2, 'successful': 2, 'failed': 0}, '_seq_no': 1766, '_primary_term': 17}\n",
      "{'_index': 'anna-summaries-v0', '_id': 'Xh1cBIIBGYbVpQ0ogI0o', '_version': 2, 'result': 'updated', '_shards': {'total': 2, 'successful': 2, 'failed': 0}, '_seq_no': 1767, '_primary_term': 17}\n"
     ]
    },
    {
     "name": "stderr",
     "output_type": "stream",
     "text": [
      "POST https://persyn.es.us-west-2.aws.found.io:443/anna-summaries-v0/_search [status:200 duration:0.022s]\n",
      "POST https://persyn.es.us-west-2.aws.found.io:443/anna-conversations-v0/_search [status:200 duration:0.023s]\n",
      "POST https://persyn.es.us-west-2.aws.found.io:443/anna-summaries-v0/_update/Q6-Qt4QBBNi73XUqybRj [status:200 duration:0.029s]\n",
      "POST https://persyn.es.us-west-2.aws.found.io:443/anna-summaries-v0/_search [status:200 duration:0.028s]\n",
      "POST https://persyn.es.us-west-2.aws.found.io:443/anna-conversations-v0/_search [status:200 duration:0.036s]\n",
      "POST https://persyn.es.us-west-2.aws.found.io:443/anna-summaries-v0/_update/myNrcIMBy5mPdc6PR2-o [status:200 duration:0.026s]\n",
      "POST https://persyn.es.us-west-2.aws.found.io:443/anna-summaries-v0/_search [status:200 duration:0.026s]\n",
      "POST https://persyn.es.us-west-2.aws.found.io:443/anna-conversations-v0/_search [status:200 duration:0.032s]\n",
      "POST https://persyn.es.us-west-2.aws.found.io:443/anna-summaries-v0/_update/Hh1xJoIBGYbVpQ0oHaGT [status:200 duration:0.032s]\n"
     ]
    },
    {
     "name": "stdout",
     "output_type": "stream",
     "text": [
      "{'_index': 'anna-summaries-v0', '_id': 'Q6-Qt4QBBNi73XUqybRj', '_version': 2, 'result': 'updated', '_shards': {'total': 2, 'successful': 2, 'failed': 0}, '_seq_no': 1768, '_primary_term': 17}\n",
      "{'_index': 'anna-summaries-v0', '_id': 'myNrcIMBy5mPdc6PR2-o', '_version': 2, 'result': 'updated', '_shards': {'total': 2, 'successful': 2, 'failed': 0}, '_seq_no': 1769, '_primary_term': 17}\n",
      "{'_index': 'anna-summaries-v0', '_id': 'Hh1xJoIBGYbVpQ0oHaGT', '_version': 2, 'result': 'updated', '_shards': {'total': 2, 'successful': 2, 'failed': 0}, '_seq_no': 1770, '_primary_term': 17}\n"
     ]
    },
    {
     "name": "stderr",
     "output_type": "stream",
     "text": [
      "POST https://persyn.es.us-west-2.aws.found.io:443/anna-summaries-v0/_search [status:200 duration:0.026s]\n",
      "POST https://persyn.es.us-west-2.aws.found.io:443/anna-conversations-v0/_search [status:200 duration:0.028s]\n",
      "POST https://persyn.es.us-west-2.aws.found.io:443/anna-summaries-v0/_update/YWZQen4Byo-dF4zkpIC2 [status:200 duration:0.031s]\n",
      "POST https://persyn.es.us-west-2.aws.found.io:443/anna-summaries-v0/_search [status:200 duration:0.024s]\n",
      "POST https://persyn.es.us-west-2.aws.found.io:443/anna-conversations-v0/_search [status:200 duration:0.030s]\n",
      "POST https://persyn.es.us-west-2.aws.found.io:443/anna-summaries-v0/_update/1681OoQBBNi73XUqiqq_ [status:200 duration:0.030s]\n",
      "POST https://persyn.es.us-west-2.aws.found.io:443/anna-summaries-v0/_search [status:200 duration:0.030s]\n",
      "POST https://persyn.es.us-west-2.aws.found.io:443/anna-conversations-v0/_search [status:200 duration:0.029s]\n",
      "POST https://persyn.es.us-west-2.aws.found.io:443/anna-summaries-v0/_update/0maTg34Byo-dF4zkA4Ok [status:200 duration:0.028s]\n"
     ]
    },
    {
     "name": "stdout",
     "output_type": "stream",
     "text": [
      "{'_index': 'anna-summaries-v0', '_id': 'YWZQen4Byo-dF4zkpIC2', '_version': 4, 'result': 'updated', '_shards': {'total': 2, 'successful': 2, 'failed': 0}, '_seq_no': 1771, '_primary_term': 17}\n",
      "{'_index': 'anna-summaries-v0', '_id': '1681OoQBBNi73XUqiqq_', '_version': 2, 'result': 'updated', '_shards': {'total': 2, 'successful': 2, 'failed': 0}, '_seq_no': 1772, '_primary_term': 17}\n",
      "{'_index': 'anna-summaries-v0', '_id': '0maTg34Byo-dF4zkA4Ok', '_version': 4, 'result': 'updated', '_shards': {'total': 2, 'successful': 2, 'failed': 0}, '_seq_no': 1773, '_primary_term': 17}\n"
     ]
    },
    {
     "name": "stderr",
     "output_type": "stream",
     "text": [
      "POST https://persyn.es.us-west-2.aws.found.io:443/anna-summaries-v0/_search [status:200 duration:0.028s]\n",
      "POST https://persyn.es.us-west-2.aws.found.io:443/anna-conversations-v0/_search [status:200 duration:0.029s]\n",
      "POST https://persyn.es.us-west-2.aws.found.io:443/anna-summaries-v0/_update/amZRen4Byo-dF4zkZ4AY [status:200 duration:0.027s]\n",
      "POST https://persyn.es.us-west-2.aws.found.io:443/anna-summaries-v0/_search [status:200 duration:0.031s]\n",
      "POST https://persyn.es.us-west-2.aws.found.io:443/anna-conversations-v0/_search [status:200 duration:0.030s]\n",
      "POST https://persyn.es.us-west-2.aws.found.io:443/anna-summaries-v0/_update/FB10J4IBGYbVpQ0o-KJ5 [status:200 duration:0.026s]\n",
      "POST https://persyn.es.us-west-2.aws.found.io:443/anna-summaries-v0/_search [status:200 duration:0.029s]\n",
      "POST https://persyn.es.us-west-2.aws.found.io:443/anna-conversations-v0/_search [status:200 duration:0.027s]\n",
      "POST https://persyn.es.us-west-2.aws.found.io:443/anna-summaries-v0/_update/KWbzen4Byo-dF4zkwIHB [status:200 duration:0.030s]\n"
     ]
    },
    {
     "name": "stdout",
     "output_type": "stream",
     "text": [
      "{'_index': 'anna-summaries-v0', '_id': 'amZRen4Byo-dF4zkZ4AY', '_version': 4, 'result': 'updated', '_shards': {'total': 2, 'successful': 2, 'failed': 0}, '_seq_no': 1774, '_primary_term': 17}\n",
      "{'_index': 'anna-summaries-v0', '_id': 'FB10J4IBGYbVpQ0o-KJ5', '_version': 2, 'result': 'updated', '_shards': {'total': 2, 'successful': 2, 'failed': 0}, '_seq_no': 1775, '_primary_term': 17}\n",
      "{'_index': 'anna-summaries-v0', '_id': 'KWbzen4Byo-dF4zkwIHB', '_version': 4, 'result': 'updated', '_shards': {'total': 2, 'successful': 2, 'failed': 0}, '_seq_no': 1776, '_primary_term': 17}\n"
     ]
    },
    {
     "name": "stderr",
     "output_type": "stream",
     "text": [
      "POST https://persyn.es.us-west-2.aws.found.io:443/anna-summaries-v0/_search [status:200 duration:0.026s]\n",
      "POST https://persyn.es.us-west-2.aws.found.io:443/anna-conversations-v0/_search [status:200 duration:0.025s]\n",
      "POST https://persyn.es.us-west-2.aws.found.io:443/anna-summaries-v0/_update/NNSQMIEBBCovfdTk4Jc1 [status:200 duration:0.024s]\n",
      "POST https://persyn.es.us-west-2.aws.found.io:443/anna-summaries-v0/_search [status:200 duration:0.027s]\n",
      "POST https://persyn.es.us-west-2.aws.found.io:443/anna-conversations-v0/_search [status:200 duration:0.023s]\n",
      "POST https://persyn.es.us-west-2.aws.found.io:443/anna-summaries-v0/_update/Zq_MFYQBBNi73XUqQaoh [status:200 duration:0.025s]\n",
      "POST https://persyn.es.us-west-2.aws.found.io:443/anna-summaries-v0/_search [status:200 duration:0.026s]\n",
      "POST https://persyn.es.us-west-2.aws.found.io:443/anna-conversations-v0/_search [status:200 duration:0.027s]\n",
      "POST https://persyn.es.us-west-2.aws.found.io:443/anna-summaries-v0/_update/J6-ZAIQBBNi73XUqz6b2 [status:200 duration:0.032s]\n",
      "POST https://persyn.es.us-west-2.aws.found.io:443/anna-summaries-v0/_search [status:200 duration:0.025s]\n"
     ]
    },
    {
     "name": "stdout",
     "output_type": "stream",
     "text": [
      "{'_index': 'anna-summaries-v0', '_id': 'NNSQMIEBBCovfdTk4Jc1', '_version': 2, 'result': 'updated', '_shards': {'total': 2, 'successful': 2, 'failed': 0}, '_seq_no': 1777, '_primary_term': 17}\n",
      "{'_index': 'anna-summaries-v0', '_id': 'Zq_MFYQBBNi73XUqQaoh', '_version': 2, 'result': 'updated', '_shards': {'total': 2, 'successful': 2, 'failed': 0}, '_seq_no': 1778, '_primary_term': 17}\n",
      "{'_index': 'anna-summaries-v0', '_id': 'J6-ZAIQBBNi73XUqz6b2', '_version': 2, 'result': 'updated', '_shards': {'total': 2, 'successful': 2, 'failed': 0}, '_seq_no': 1779, '_primary_term': 17}\n"
     ]
    },
    {
     "name": "stderr",
     "output_type": "stream",
     "text": [
      "POST https://persyn.es.us-west-2.aws.found.io:443/anna-conversations-v0/_search [status:200 duration:0.028s]\n",
      "POST https://persyn.es.us-west-2.aws.found.io:443/anna-summaries-v0/_update/O9R_L4EBBCovfdTkb5WQ [status:200 duration:0.030s]\n",
      "POST https://persyn.es.us-west-2.aws.found.io:443/anna-summaries-v0/_search [status:200 duration:0.025s]\n",
      "POST https://persyn.es.us-west-2.aws.found.io:443/anna-conversations-v0/_search [status:200 duration:0.026s]\n",
      "POST https://persyn.es.us-west-2.aws.found.io:443/anna-summaries-v0/_update/G023ToMBRfbdi4KAelh7 [status:200 duration:0.027s]\n",
      "POST https://persyn.es.us-west-2.aws.found.io:443/anna-summaries-v0/_search [status:200 duration:0.027s]\n",
      "POST https://persyn.es.us-west-2.aws.found.io:443/anna-conversations-v0/_search [status:200 duration:0.029s]\n",
      "POST https://persyn.es.us-west-2.aws.found.io:443/anna-summaries-v0/_update/CeA96IMB6EXxeIxU7Xm3 [status:200 duration:0.028s]\n"
     ]
    },
    {
     "name": "stdout",
     "output_type": "stream",
     "text": [
      "{'_index': 'anna-summaries-v0', '_id': 'O9R_L4EBBCovfdTkb5WQ', '_version': 2, 'result': 'updated', '_shards': {'total': 2, 'successful': 2, 'failed': 0}, '_seq_no': 1780, '_primary_term': 17}\n",
      "{'_index': 'anna-summaries-v0', '_id': 'G023ToMBRfbdi4KAelh7', '_version': 2, 'result': 'updated', '_shards': {'total': 2, 'successful': 2, 'failed': 0}, '_seq_no': 1781, '_primary_term': 17}\n",
      "{'_index': 'anna-summaries-v0', '_id': 'CeA96IMB6EXxeIxU7Xm3', '_version': 2, 'result': 'updated', '_shards': {'total': 2, 'successful': 2, 'failed': 0}, '_seq_no': 1782, '_primary_term': 17}\n"
     ]
    },
    {
     "name": "stderr",
     "output_type": "stream",
     "text": [
      "POST https://persyn.es.us-west-2.aws.found.io:443/anna-summaries-v0/_search [status:200 duration:0.029s]\n",
      "POST https://persyn.es.us-west-2.aws.found.io:443/anna-conversations-v0/_search [status:200 duration:0.029s]\n",
      "POST https://persyn.es.us-west-2.aws.found.io:443/anna-summaries-v0/_update/JuDwT4QB6EXxeIxUZYDn [status:200 duration:0.032s]\n",
      "POST https://persyn.es.us-west-2.aws.found.io:443/anna-summaries-v0/_search [status:200 duration:0.029s]\n",
      "POST https://persyn.es.us-west-2.aws.found.io:443/anna-conversations-v0/_search [status:200 duration:0.030s]\n",
      "POST https://persyn.es.us-west-2.aws.found.io:443/anna-summaries-v0/_update/MuCnBYQB6EXxeIxURHvL [status:200 duration:0.031s]\n",
      "POST https://persyn.es.us-west-2.aws.found.io:443/anna-summaries-v0/_search [status:200 duration:0.030s]\n",
      "POST https://persyn.es.us-west-2.aws.found.io:443/anna-conversations-v0/_search [status:200 duration:0.031s]\n",
      "POST https://persyn.es.us-west-2.aws.found.io:443/anna-summaries-v0/_update/fRgo734B1O6hlTWg0Ema [status:200 duration:0.027s]\n"
     ]
    },
    {
     "name": "stdout",
     "output_type": "stream",
     "text": [
      "{'_index': 'anna-summaries-v0', '_id': 'JuDwT4QB6EXxeIxUZYDn', '_version': 2, 'result': 'updated', '_shards': {'total': 2, 'successful': 2, 'failed': 0}, '_seq_no': 1783, '_primary_term': 17}\n",
      "{'_index': 'anna-summaries-v0', '_id': 'MuCnBYQB6EXxeIxURHvL', '_version': 2, 'result': 'updated', '_shards': {'total': 2, 'successful': 2, 'failed': 0}, '_seq_no': 1784, '_primary_term': 17}\n",
      "{'_index': 'anna-summaries-v0', '_id': 'fRgo734B1O6hlTWg0Ema', '_version': 2, 'result': 'updated', '_shards': {'total': 2, 'successful': 2, 'failed': 0}, '_seq_no': 1785, '_primary_term': 17}\n"
     ]
    },
    {
     "name": "stderr",
     "output_type": "stream",
     "text": [
      "POST https://persyn.es.us-west-2.aws.found.io:443/anna-summaries-v0/_search [status:200 duration:0.030s]\n",
      "POST https://persyn.es.us-west-2.aws.found.io:443/anna-conversations-v0/_search [status:200 duration:0.024s]\n",
      "POST https://persyn.es.us-west-2.aws.found.io:443/anna-summaries-v0/_update/xE3wdIIBRfbdi4KAl0lf [status:200 duration:0.029s]\n",
      "POST https://persyn.es.us-west-2.aws.found.io:443/anna-summaries-v0/_search [status:200 duration:0.029s]\n",
      "POST https://persyn.es.us-west-2.aws.found.io:443/anna-conversations-v0/_search [status:200 duration:0.021s]\n",
      "POST https://persyn.es.us-west-2.aws.found.io:443/anna-summaries-v0/_update/nk3g1YIBRfbdi4KAKVPa [status:200 duration:0.025s]\n",
      "POST https://persyn.es.us-west-2.aws.found.io:443/anna-summaries-v0/_search [status:200 duration:0.026s]\n",
      "POST https://persyn.es.us-west-2.aws.found.io:443/anna-conversations-v0/_search [status:200 duration:0.027s]\n",
      "POST https://persyn.es.us-west-2.aws.found.io:443/anna-summaries-v0/_update/_xgEcYAB1O6hlTWgwmbY [status:200 duration:0.025s]\n",
      "POST https://persyn.es.us-west-2.aws.found.io:443/anna-summaries-v0/_search [status:200 duration:0.026s]\n"
     ]
    },
    {
     "name": "stdout",
     "output_type": "stream",
     "text": [
      "{'_index': 'anna-summaries-v0', '_id': 'xE3wdIIBRfbdi4KAl0lf', '_version': 2, 'result': 'updated', '_shards': {'total': 2, 'successful': 2, 'failed': 0}, '_seq_no': 1786, '_primary_term': 17}\n",
      "{'_index': 'anna-summaries-v0', '_id': 'nk3g1YIBRfbdi4KAKVPa', '_version': 2, 'result': 'updated', '_shards': {'total': 2, 'successful': 2, 'failed': 0}, '_seq_no': 1787, '_primary_term': 17}\n",
      "{'_index': 'anna-summaries-v0', '_id': '_xgEcYAB1O6hlTWgwmbY', '_version': 2, 'result': 'updated', '_shards': {'total': 2, 'successful': 2, 'failed': 0}, '_seq_no': 1788, '_primary_term': 17}\n"
     ]
    },
    {
     "name": "stderr",
     "output_type": "stream",
     "text": [
      "POST https://persyn.es.us-west-2.aws.found.io:443/anna-conversations-v0/_search [status:200 duration:0.030s]\n",
      "POST https://persyn.es.us-west-2.aws.found.io:443/anna-summaries-v0/_update/Q2b2en4Byo-dF4zkOYGO [status:200 duration:0.029s]\n",
      "POST https://persyn.es.us-west-2.aws.found.io:443/anna-summaries-v0/_search [status:200 duration:0.028s]\n",
      "POST https://persyn.es.us-west-2.aws.found.io:443/anna-conversations-v0/_search [status:200 duration:0.028s]\n",
      "POST https://persyn.es.us-west-2.aws.found.io:443/anna-summaries-v0/_update/dmZSen4Byo-dF4zkfoAi [status:200 duration:0.024s]\n",
      "POST https://persyn.es.us-west-2.aws.found.io:443/anna-summaries-v0/_search [status:200 duration:0.025s]\n",
      "POST https://persyn.es.us-west-2.aws.found.io:443/anna-conversations-v0/_search [status:200 duration:0.034s]\n",
      "POST https://persyn.es.us-west-2.aws.found.io:443/anna-summaries-v0/_update/Qq_EkYQBBNi73XUq168Q [status:200 duration:0.025s]\n"
     ]
    },
    {
     "name": "stdout",
     "output_type": "stream",
     "text": [
      "{'_index': 'anna-summaries-v0', '_id': 'Q2b2en4Byo-dF4zkOYGO', '_version': 4, 'result': 'updated', '_shards': {'total': 2, 'successful': 2, 'failed': 0}, '_seq_no': 1789, '_primary_term': 17}\n",
      "{'_index': 'anna-summaries-v0', '_id': 'dmZSen4Byo-dF4zkfoAi', '_version': 4, 'result': 'updated', '_shards': {'total': 2, 'successful': 2, 'failed': 0}, '_seq_no': 1790, '_primary_term': 17}\n",
      "{'_index': 'anna-summaries-v0', '_id': 'Qq_EkYQBBNi73XUq168Q', '_version': 2, 'result': 'updated', '_shards': {'total': 2, 'successful': 2, 'failed': 0}, '_seq_no': 1791, '_primary_term': 17}\n"
     ]
    },
    {
     "name": "stderr",
     "output_type": "stream",
     "text": [
      "POST https://persyn.es.us-west-2.aws.found.io:443/anna-summaries-v0/_search [status:200 duration:0.030s]\n",
      "POST https://persyn.es.us-west-2.aws.found.io:443/anna-conversations-v0/_search [status:200 duration:0.026s]\n",
      "POST https://persyn.es.us-west-2.aws.found.io:443/anna-summaries-v0/_update/IOBAA4QB6EXxeIxUmXuS [status:200 duration:0.031s]\n",
      "POST https://persyn.es.us-west-2.aws.found.io:443/anna-summaries-v0/_search [status:200 duration:0.029s]\n",
      "POST https://persyn.es.us-west-2.aws.found.io:443/anna-conversations-v0/_search [status:200 duration:0.027s]\n",
      "POST https://persyn.es.us-west-2.aws.found.io:443/anna-summaries-v0/_update/_6-X8IMBBNi73XUqAaMR [status:200 duration:0.027s]\n",
      "POST https://persyn.es.us-west-2.aws.found.io:443/anna-summaries-v0/_search [status:200 duration:0.026s]\n",
      "POST https://persyn.es.us-west-2.aws.found.io:443/anna-conversations-v0/_search [status:200 duration:0.028s]\n",
      "POST https://persyn.es.us-west-2.aws.found.io:443/anna-summaries-v0/_update/oCN9MoMBy5mPdc6PRGwm [status:200 duration:0.024s]\n"
     ]
    },
    {
     "name": "stdout",
     "output_type": "stream",
     "text": [
      "{'_index': 'anna-summaries-v0', '_id': 'IOBAA4QB6EXxeIxUmXuS', '_version': 2, 'result': 'updated', '_shards': {'total': 2, 'successful': 2, 'failed': 0}, '_seq_no': 1792, '_primary_term': 17}\n",
      "{'_index': 'anna-summaries-v0', '_id': '_6-X8IMBBNi73XUqAaMR', '_version': 2, 'result': 'updated', '_shards': {'total': 2, 'successful': 2, 'failed': 0}, '_seq_no': 1793, '_primary_term': 17}\n",
      "{'_index': 'anna-summaries-v0', '_id': 'oCN9MoMBy5mPdc6PRGwm', '_version': 2, 'result': 'updated', '_shards': {'total': 2, 'successful': 2, 'failed': 0}, '_seq_no': 1794, '_primary_term': 17}\n"
     ]
    },
    {
     "name": "stderr",
     "output_type": "stream",
     "text": [
      "POST https://persyn.es.us-west-2.aws.found.io:443/anna-summaries-v0/_search [status:200 duration:0.027s]\n",
      "POST https://persyn.es.us-west-2.aws.found.io:443/anna-conversations-v0/_search [status:200 duration:0.025s]\n",
      "POST https://persyn.es.us-west-2.aws.found.io:443/anna-summaries-v0/_update/jK8nXoQBBNi73XUqTKw8 [status:200 duration:0.028s]\n",
      "POST https://persyn.es.us-west-2.aws.found.io:443/anna-summaries-v0/_search [status:200 duration:0.026s]\n",
      "POST https://persyn.es.us-west-2.aws.found.io:443/anna-conversations-v0/_search [status:200 duration:0.027s]\n",
      "POST https://persyn.es.us-west-2.aws.found.io:443/anna-summaries-v0/_update/uOAYDIQB6EXxeIxUuns7 [status:200 duration:0.029s]\n",
      "POST https://persyn.es.us-west-2.aws.found.io:443/anna-summaries-v0/_search [status:200 duration:0.020s]\n",
      "POST https://persyn.es.us-west-2.aws.found.io:443/anna-conversations-v0/_search [status:200 duration:0.022s]\n",
      "POST https://persyn.es.us-west-2.aws.found.io:443/anna-summaries-v0/_update/ISNslYIBy5mPdc6PrWY_ [status:200 duration:0.026s]\n",
      "POST https://persyn.es.us-west-2.aws.found.io:443/anna-summaries-v0/_search [status:200 duration:0.026s]\n"
     ]
    },
    {
     "name": "stdout",
     "output_type": "stream",
     "text": [
      "{'_index': 'anna-summaries-v0', '_id': 'jK8nXoQBBNi73XUqTKw8', '_version': 2, 'result': 'updated', '_shards': {'total': 2, 'successful': 2, 'failed': 0}, '_seq_no': 1795, '_primary_term': 17}\n",
      "{'_index': 'anna-summaries-v0', '_id': 'uOAYDIQB6EXxeIxUuns7', '_version': 2, 'result': 'updated', '_shards': {'total': 2, 'successful': 2, 'failed': 0}, '_seq_no': 1796, '_primary_term': 17}\n",
      "{'_index': 'anna-summaries-v0', '_id': 'ISNslYIBy5mPdc6PrWY_', '_version': 2, 'result': 'updated', '_shards': {'total': 2, 'successful': 2, 'failed': 0}, '_seq_no': 1797, '_primary_term': 17}\n"
     ]
    },
    {
     "name": "stderr",
     "output_type": "stream",
     "text": [
      "POST https://persyn.es.us-west-2.aws.found.io:443/anna-conversations-v0/_search [status:200 duration:0.022s]\n",
      "POST https://persyn.es.us-west-2.aws.found.io:443/anna-summaries-v0/_update/rhhTg4AB1O6hlTWgNWzt [status:200 duration:0.024s]\n",
      "POST https://persyn.es.us-west-2.aws.found.io:443/anna-summaries-v0/_search [status:200 duration:0.030s]\n",
      "POST https://persyn.es.us-west-2.aws.found.io:443/anna-conversations-v0/_search [status:200 duration:0.022s]\n",
      "POST https://persyn.es.us-west-2.aws.found.io:443/anna-summaries-v0/_update/hCObKoMBy5mPdc6PmmzF [status:200 duration:0.025s]\n",
      "POST https://persyn.es.us-west-2.aws.found.io:443/anna-summaries-v0/_search [status:200 duration:0.027s]\n",
      "POST https://persyn.es.us-west-2.aws.found.io:443/anna-conversations-v0/_search [status:200 duration:0.027s]\n",
      "POST https://persyn.es.us-west-2.aws.found.io:443/anna-summaries-v0/_update/wNQhiIEBBCovfdTkxazP [status:200 duration:0.024s]\n",
      "POST https://persyn.es.us-west-2.aws.found.io:443/anna-summaries-v0/_search [status:200 duration:0.021s]\n"
     ]
    },
    {
     "name": "stdout",
     "output_type": "stream",
     "text": [
      "{'_index': 'anna-summaries-v0', '_id': 'rhhTg4AB1O6hlTWgNWzt', '_version': 2, 'result': 'updated', '_shards': {'total': 2, 'successful': 2, 'failed': 0}, '_seq_no': 1798, '_primary_term': 17}\n",
      "{'_index': 'anna-summaries-v0', '_id': 'hCObKoMBy5mPdc6PmmzF', '_version': 2, 'result': 'updated', '_shards': {'total': 2, 'successful': 2, 'failed': 0}, '_seq_no': 1799, '_primary_term': 17}\n",
      "{'_index': 'anna-summaries-v0', '_id': 'wNQhiIEBBCovfdTkxazP', '_version': 2, 'result': 'updated', '_shards': {'total': 2, 'successful': 2, 'failed': 0}, '_seq_no': 1800, '_primary_term': 17}\n"
     ]
    },
    {
     "name": "stderr",
     "output_type": "stream",
     "text": [
      "POST https://persyn.es.us-west-2.aws.found.io:443/anna-conversations-v0/_search [status:200 duration:0.027s]\n",
      "POST https://persyn.es.us-west-2.aws.found.io:443/anna-summaries-v0/_update/ZU0aDIMBRfbdi4KAoVYe [status:200 duration:0.023s]\n",
      "POST https://persyn.es.us-west-2.aws.found.io:443/anna-summaries-v0/_search [status:200 duration:0.021s]\n",
      "POST https://persyn.es.us-west-2.aws.found.io:443/anna-conversations-v0/_search [status:200 duration:0.028s]\n",
      "POST https://persyn.es.us-west-2.aws.found.io:443/anna-summaries-v0/_update/Ca_9B4QBBNi73XUqwKiZ [status:200 duration:0.028s]\n",
      "POST https://persyn.es.us-west-2.aws.found.io:443/anna-summaries-v0/_search [status:200 duration:0.027s]\n",
      "POST https://persyn.es.us-west-2.aws.found.io:443/anna-conversations-v0/_search [status:200 duration:0.027s]\n",
      "POST https://persyn.es.us-west-2.aws.found.io:443/anna-summaries-v0/_update/XGZQen4Byo-dF4zkKICQ [status:200 duration:0.024s]\n",
      "POST https://persyn.es.us-west-2.aws.found.io:443/anna-summaries-v0/_search [status:200 duration:0.025s]\n"
     ]
    },
    {
     "name": "stdout",
     "output_type": "stream",
     "text": [
      "{'_index': 'anna-summaries-v0', '_id': 'ZU0aDIMBRfbdi4KAoVYe', '_version': 2, 'result': 'updated', '_shards': {'total': 2, 'successful': 2, 'failed': 0}, '_seq_no': 1801, '_primary_term': 17}\n",
      "{'_index': 'anna-summaries-v0', '_id': 'Ca_9B4QBBNi73XUqwKiZ', '_version': 2, 'result': 'updated', '_shards': {'total': 2, 'successful': 2, 'failed': 0}, '_seq_no': 1802, '_primary_term': 17}\n",
      "{'_index': 'anna-summaries-v0', '_id': 'XGZQen4Byo-dF4zkKICQ', '_version': 4, 'result': 'updated', '_shards': {'total': 2, 'successful': 2, 'failed': 0}, '_seq_no': 1803, '_primary_term': 17}\n"
     ]
    },
    {
     "name": "stderr",
     "output_type": "stream",
     "text": [
      "POST https://persyn.es.us-west-2.aws.found.io:443/anna-conversations-v0/_search [status:200 duration:0.028s]\n",
      "POST https://persyn.es.us-west-2.aws.found.io:443/anna-summaries-v0/_update/i2ZUen4Byo-dF4zkQIDV [status:200 duration:0.026s]\n",
      "POST https://persyn.es.us-west-2.aws.found.io:443/anna-summaries-v0/_search [status:200 duration:0.028s]\n",
      "POST https://persyn.es.us-west-2.aws.found.io:443/anna-conversations-v0/_search [status:200 duration:0.030s]\n",
      "POST https://persyn.es.us-west-2.aws.found.io:443/anna-summaries-v0/_update/d2ZSen4Byo-dF4zkk4A- [status:200 duration:0.028s]\n",
      "POST https://persyn.es.us-west-2.aws.found.io:443/anna-summaries-v0/_search [status:200 duration:0.030s]\n",
      "POST https://persyn.es.us-west-2.aws.found.io:443/anna-conversations-v0/_search [status:200 duration:0.021s]\n",
      "POST https://persyn.es.us-west-2.aws.found.io:443/anna-summaries-v0/_update/Mmb0en4Byo-dF4zkdYE5 [status:200 duration:0.024s]\n",
      "POST https://persyn.es.us-west-2.aws.found.io:443/anna-summaries-v0/_search [status:200 duration:0.026s]\n"
     ]
    },
    {
     "name": "stdout",
     "output_type": "stream",
     "text": [
      "{'_index': 'anna-summaries-v0', '_id': 'i2ZUen4Byo-dF4zkQIDV', '_version': 4, 'result': 'updated', '_shards': {'total': 2, 'successful': 2, 'failed': 0}, '_seq_no': 1804, '_primary_term': 17}\n",
      "{'_index': 'anna-summaries-v0', '_id': 'd2ZSen4Byo-dF4zkk4A-', '_version': 4, 'result': 'updated', '_shards': {'total': 2, 'successful': 2, 'failed': 0}, '_seq_no': 1805, '_primary_term': 17}\n",
      "{'_index': 'anna-summaries-v0', '_id': 'Mmb0en4Byo-dF4zkdYE5', '_version': 4, 'result': 'updated', '_shards': {'total': 2, 'successful': 2, 'failed': 0}, '_seq_no': 1806, '_primary_term': 17}\n"
     ]
    },
    {
     "name": "stderr",
     "output_type": "stream",
     "text": [
      "POST https://persyn.es.us-west-2.aws.found.io:443/anna-conversations-v0/_search [status:200 duration:0.021s]\n",
      "POST https://persyn.es.us-west-2.aws.found.io:443/anna-summaries-v0/_update/UCMwf4IBy5mPdc6P3mUs [status:200 duration:0.033s]\n",
      "POST https://persyn.es.us-west-2.aws.found.io:443/anna-summaries-v0/_search [status:200 duration:0.024s]\n",
      "POST https://persyn.es.us-west-2.aws.found.io:443/anna-conversations-v0/_search [status:200 duration:0.026s]\n",
      "POST https://persyn.es.us-west-2.aws.found.io:443/anna-summaries-v0/_update/HuCO7oMB6EXxeIxUp3mu [status:200 duration:0.027s]\n",
      "POST https://persyn.es.us-west-2.aws.found.io:443/anna-summaries-v0/_search [status:200 duration:0.027s]\n",
      "POST https://persyn.es.us-west-2.aws.found.io:443/anna-conversations-v0/_search [status:200 duration:0.026s]\n",
      "POST https://persyn.es.us-west-2.aws.found.io:443/anna-summaries-v0/_update/Q6_zAIQBBNi73XUqkaah [status:200 duration:0.027s]\n",
      "POST https://persyn.es.us-west-2.aws.found.io:443/anna-summaries-v0/_search [status:200 duration:0.023s]\n"
     ]
    },
    {
     "name": "stdout",
     "output_type": "stream",
     "text": [
      "{'_index': 'anna-summaries-v0', '_id': 'UCMwf4IBy5mPdc6P3mUs', '_version': 2, 'result': 'updated', '_shards': {'total': 2, 'successful': 2, 'failed': 0}, '_seq_no': 1807, '_primary_term': 17}\n",
      "{'_index': 'anna-summaries-v0', '_id': 'HuCO7oMB6EXxeIxUp3mu', '_version': 2, 'result': 'updated', '_shards': {'total': 2, 'successful': 2, 'failed': 0}, '_seq_no': 1808, '_primary_term': 17}\n",
      "{'_index': 'anna-summaries-v0', '_id': 'Q6_zAIQBBNi73XUqkaah', '_version': 2, 'result': 'updated', '_shards': {'total': 2, 'successful': 2, 'failed': 0}, '_seq_no': 1809, '_primary_term': 17}\n"
     ]
    },
    {
     "name": "stderr",
     "output_type": "stream",
     "text": [
      "POST https://persyn.es.us-west-2.aws.found.io:443/anna-conversations-v0/_search [status:200 duration:0.022s]\n",
      "POST https://persyn.es.us-west-2.aws.found.io:443/anna-summaries-v0/_update/fWZSen4Byo-dF4zk9oC1 [status:200 duration:0.024s]\n",
      "POST https://persyn.es.us-west-2.aws.found.io:443/anna-summaries-v0/_search [status:200 duration:0.026s]\n",
      "POST https://persyn.es.us-west-2.aws.found.io:443/anna-conversations-v0/_search [status:200 duration:0.022s]\n",
      "POST https://persyn.es.us-west-2.aws.found.io:443/anna-summaries-v0/_update/-01Oo4IBRfbdi4KA4U3Y [status:200 duration:0.023s]\n",
      "POST https://persyn.es.us-west-2.aws.found.io:443/anna-summaries-v0/_search [status:200 duration:0.022s]\n",
      "POST https://persyn.es.us-west-2.aws.found.io:443/anna-conversations-v0/_search [status:200 duration:0.027s]\n",
      "POST https://persyn.es.us-west-2.aws.found.io:443/anna-summaries-v0/_update/Y2ZQen4Byo-dF4zk04Dw [status:200 duration:0.026s]\n",
      "POST https://persyn.es.us-west-2.aws.found.io:443/anna-summaries-v0/_search [status:200 duration:0.027s]\n"
     ]
    },
    {
     "name": "stdout",
     "output_type": "stream",
     "text": [
      "{'_index': 'anna-summaries-v0', '_id': 'fWZSen4Byo-dF4zk9oC1', '_version': 4, 'result': 'updated', '_shards': {'total': 2, 'successful': 2, 'failed': 0}, '_seq_no': 1810, '_primary_term': 17}\n",
      "{'_index': 'anna-summaries-v0', '_id': '-01Oo4IBRfbdi4KA4U3Y', '_version': 2, 'result': 'updated', '_shards': {'total': 2, 'successful': 2, 'failed': 0}, '_seq_no': 1811, '_primary_term': 17}\n",
      "{'_index': 'anna-summaries-v0', '_id': 'Y2ZQen4Byo-dF4zk04Dw', '_version': 4, 'result': 'updated', '_shards': {'total': 2, 'successful': 2, 'failed': 0}, '_seq_no': 1812, '_primary_term': 17}\n"
     ]
    },
    {
     "name": "stderr",
     "output_type": "stream",
     "text": [
      "POST https://persyn.es.us-west-2.aws.found.io:443/anna-conversations-v0/_search [status:200 duration:0.028s]\n",
      "POST https://persyn.es.us-west-2.aws.found.io:443/anna-summaries-v0/_update/oU1l8IIBRfbdi4KAXFTk [status:200 duration:0.025s]\n",
      "POST https://persyn.es.us-west-2.aws.found.io:443/anna-summaries-v0/_search [status:200 duration:0.028s]\n",
      "POST https://persyn.es.us-west-2.aws.found.io:443/anna-conversations-v0/_search [status:200 duration:0.026s]\n",
      "POST https://persyn.es.us-west-2.aws.found.io:443/anna-summaries-v0/_update/fGZSen4Byo-dF4zk6IDD [status:200 duration:0.024s]\n",
      "POST https://persyn.es.us-west-2.aws.found.io:443/anna-summaries-v0/_search [status:200 duration:0.027s]\n",
      "POST https://persyn.es.us-west-2.aws.found.io:443/anna-conversations-v0/_search [status:200 duration:0.028s]\n",
      "POST https://persyn.es.us-west-2.aws.found.io:443/anna-summaries-v0/_update/ZGZQen4Byo-dF4zk5IB7 [status:200 duration:0.026s]\n"
     ]
    },
    {
     "name": "stdout",
     "output_type": "stream",
     "text": [
      "{'_index': 'anna-summaries-v0', '_id': 'oU1l8IIBRfbdi4KAXFTk', '_version': 2, 'result': 'updated', '_shards': {'total': 2, 'successful': 2, 'failed': 0}, '_seq_no': 1813, '_primary_term': 17}\n",
      "{'_index': 'anna-summaries-v0', '_id': 'fGZSen4Byo-dF4zk6IDD', '_version': 4, 'result': 'updated', '_shards': {'total': 2, 'successful': 2, 'failed': 0}, '_seq_no': 1814, '_primary_term': 17}\n",
      "{'_index': 'anna-summaries-v0', '_id': 'ZGZQen4Byo-dF4zk5IB7', '_version': 4, 'result': 'updated', '_shards': {'total': 2, 'successful': 2, 'failed': 0}, '_seq_no': 1815, '_primary_term': 17}\n"
     ]
    },
    {
     "name": "stderr",
     "output_type": "stream",
     "text": [
      "POST https://persyn.es.us-west-2.aws.found.io:443/anna-summaries-v0/_search [status:200 duration:0.030s]\n",
      "POST https://persyn.es.us-west-2.aws.found.io:443/anna-conversations-v0/_search [status:200 duration:0.025s]\n",
      "POST https://persyn.es.us-west-2.aws.found.io:443/anna-summaries-v0/_update/b68wb4QBBNi73XUqrK24 [status:200 duration:0.029s]\n",
      "POST https://persyn.es.us-west-2.aws.found.io:443/anna-summaries-v0/_search [status:200 duration:0.021s]\n",
      "POST https://persyn.es.us-west-2.aws.found.io:443/anna-conversations-v0/_search [status:200 duration:0.026s]\n",
      "POST https://persyn.es.us-west-2.aws.found.io:443/anna-summaries-v0/_update/5SMCwoIBy5mPdc6PYmfM [status:200 duration:0.025s]\n",
      "POST https://persyn.es.us-west-2.aws.found.io:443/anna-summaries-v0/_search [status:200 duration:0.021s]\n",
      "POST https://persyn.es.us-west-2.aws.found.io:443/anna-conversations-v0/_search [status:200 duration:0.027s]\n",
      "POST https://persyn.es.us-west-2.aws.found.io:443/anna-summaries-v0/_update/_6_JQIQBBNi73XUqiKrf [status:200 duration:0.031s]\n",
      "POST https://persyn.es.us-west-2.aws.found.io:443/anna-summaries-v0/_search [status:200 duration:0.021s]\n"
     ]
    },
    {
     "name": "stdout",
     "output_type": "stream",
     "text": [
      "{'_index': 'anna-summaries-v0', '_id': 'b68wb4QBBNi73XUqrK24', '_version': 2, 'result': 'updated', '_shards': {'total': 2, 'successful': 2, 'failed': 0}, '_seq_no': 1816, '_primary_term': 17}\n",
      "{'_index': 'anna-summaries-v0', '_id': '5SMCwoIBy5mPdc6PYmfM', '_version': 2, 'result': 'updated', '_shards': {'total': 2, 'successful': 2, 'failed': 0}, '_seq_no': 1817, '_primary_term': 17}\n",
      "{'_index': 'anna-summaries-v0', '_id': '_6_JQIQBBNi73XUqiKrf', '_version': 2, 'result': 'updated', '_shards': {'total': 2, 'successful': 2, 'failed': 0}, '_seq_no': 1818, '_primary_term': 17}\n"
     ]
    },
    {
     "name": "stderr",
     "output_type": "stream",
     "text": [
      "POST https://persyn.es.us-west-2.aws.found.io:443/anna-conversations-v0/_search [status:200 duration:0.022s]\n",
      "POST https://persyn.es.us-west-2.aws.found.io:443/anna-summaries-v0/_update/M-BmaYQB6EXxeIxU8YE6 [status:200 duration:0.028s]\n",
      "POST https://persyn.es.us-west-2.aws.found.io:443/anna-summaries-v0/_search [status:200 duration:0.029s]\n",
      "POST https://persyn.es.us-west-2.aws.found.io:443/anna-conversations-v0/_search [status:200 duration:0.021s]\n",
      "POST https://persyn.es.us-west-2.aws.found.io:443/anna-summaries-v0/_update/jq_704MBBNi73XUqFKP7 [status:200 duration:0.031s]\n",
      "POST https://persyn.es.us-west-2.aws.found.io:443/anna-summaries-v0/_search [status:200 duration:0.026s]\n",
      "POST https://persyn.es.us-west-2.aws.found.io:443/anna-conversations-v0/_search [status:200 duration:0.026s]\n",
      "POST https://persyn.es.us-west-2.aws.found.io:443/anna-summaries-v0/_update/DuAJEYQB6EXxeIxUHny8 [status:200 duration:0.026s]\n",
      "POST https://persyn.es.us-west-2.aws.found.io:443/anna-summaries-v0/_search [status:200 duration:0.021s]\n"
     ]
    },
    {
     "name": "stdout",
     "output_type": "stream",
     "text": [
      "{'_index': 'anna-summaries-v0', '_id': 'M-BmaYQB6EXxeIxU8YE6', '_version': 2, 'result': 'updated', '_shards': {'total': 2, 'successful': 2, 'failed': 0}, '_seq_no': 1819, '_primary_term': 17}\n",
      "{'_index': 'anna-summaries-v0', '_id': 'jq_704MBBNi73XUqFKP7', '_version': 2, 'result': 'updated', '_shards': {'total': 2, 'successful': 2, 'failed': 0}, '_seq_no': 1820, '_primary_term': 17}\n",
      "{'_index': 'anna-summaries-v0', '_id': 'DuAJEYQB6EXxeIxUHny8', '_version': 2, 'result': 'updated', '_shards': {'total': 2, 'successful': 2, 'failed': 0}, '_seq_no': 1821, '_primary_term': 17}\n"
     ]
    },
    {
     "name": "stderr",
     "output_type": "stream",
     "text": [
      "POST https://persyn.es.us-west-2.aws.found.io:443/anna-conversations-v0/_search [status:200 duration:0.020s]\n",
      "POST https://persyn.es.us-west-2.aws.found.io:443/anna-summaries-v0/_update/WE3_UoMBRfbdi4KAFlg9 [status:200 duration:0.024s]\n",
      "POST https://persyn.es.us-west-2.aws.found.io:443/anna-summaries-v0/_search [status:200 duration:0.028s]\n",
      "POST https://persyn.es.us-west-2.aws.found.io:443/anna-conversations-v0/_search [status:200 duration:0.030s]\n",
      "POST https://persyn.es.us-west-2.aws.found.io:443/anna-summaries-v0/_update/r6_jqoQBBNi73XUq9rJy [status:200 duration:0.028s]\n",
      "POST https://persyn.es.us-west-2.aws.found.io:443/anna-summaries-v0/_search [status:200 duration:0.030s]\n",
      "POST https://persyn.es.us-west-2.aws.found.io:443/anna-conversations-v0/_search [status:200 duration:0.028s]\n",
      "POST https://persyn.es.us-west-2.aws.found.io:443/anna-summaries-v0/_update/hBgUXIAB1O6hlTWgWV5o [status:200 duration:0.030s]\n"
     ]
    },
    {
     "name": "stdout",
     "output_type": "stream",
     "text": [
      "{'_index': 'anna-summaries-v0', '_id': 'WE3_UoMBRfbdi4KAFlg9', '_version': 2, 'result': 'updated', '_shards': {'total': 2, 'successful': 2, 'failed': 0}, '_seq_no': 1822, '_primary_term': 17}\n",
      "{'_index': 'anna-summaries-v0', '_id': 'r6_jqoQBBNi73XUq9rJy', '_version': 2, 'result': 'updated', '_shards': {'total': 2, 'successful': 2, 'failed': 0}, '_seq_no': 1823, '_primary_term': 17}\n",
      "{'_index': 'anna-summaries-v0', '_id': 'hBgUXIAB1O6hlTWgWV5o', '_version': 2, 'result': 'updated', '_shards': {'total': 2, 'successful': 2, 'failed': 0}, '_seq_no': 1824, '_primary_term': 17}\n"
     ]
    },
    {
     "name": "stderr",
     "output_type": "stream",
     "text": [
      "POST https://persyn.es.us-west-2.aws.found.io:443/anna-summaries-v0/_search [status:200 duration:0.029s]\n",
      "POST https://persyn.es.us-west-2.aws.found.io:443/anna-conversations-v0/_search [status:200 duration:0.023s]\n",
      "POST https://persyn.es.us-west-2.aws.found.io:443/anna-summaries-v0/_update/Smb2en4Byo-dF4zkzYF1 [status:200 duration:0.031s]\n",
      "POST https://persyn.es.us-west-2.aws.found.io:443/anna-conversations-v0/_search [status:200 duration:0.023s]\n",
      "POST https://persyn.es.us-west-2.aws.found.io:443/anna-summaries-v0/_update/gmbYhH4Byo-dF4zk24Qd [status:200 duration:0.026s]\n",
      "POST https://persyn.es.us-west-2.aws.found.io:443/anna-summaries-v0/_search [status:200 duration:0.028s]\n",
      "POST https://persyn.es.us-west-2.aws.found.io:443/anna-conversations-v0/_search [status:200 duration:0.022s]\n",
      "POST https://persyn.es.us-west-2.aws.found.io:443/anna-summaries-v0/_update/Qmb2en4Byo-dF4zkG4Gn [status:200 duration:0.026s]\n",
      "POST https://persyn.es.us-west-2.aws.found.io:443/anna-summaries-v0/_search [status:200 duration:0.029s]\n",
      "POST https://persyn.es.us-west-2.aws.found.io:443/anna-conversations-v0/_search [status:200 duration:0.022s]\n"
     ]
    },
    {
     "name": "stdout",
     "output_type": "stream",
     "text": [
      "{'_index': 'anna-summaries-v0', '_id': 'Smb2en4Byo-dF4zkzYF1', '_version': 4, 'result': 'updated', '_shards': {'total': 2, 'successful': 2, 'failed': 0}, '_seq_no': 1825, '_primary_term': 17}\n",
      "{'_index': 'anna-summaries-v0', '_id': 'gmbYhH4Byo-dF4zk24Qd', '_version': 4, 'result': 'updated', '_shards': {'total': 2, 'successful': 2, 'failed': 0}, '_seq_no': 1826, '_primary_term': 17}\n",
      "{'_index': 'anna-summaries-v0', '_id': 'Qmb2en4Byo-dF4zkG4Gn', '_version': 4, 'result': 'updated', '_shards': {'total': 2, 'successful': 2, 'failed': 0}, '_seq_no': 1827, '_primary_term': 17}\n"
     ]
    },
    {
     "name": "stderr",
     "output_type": "stream",
     "text": [
      "POST https://persyn.es.us-west-2.aws.found.io:443/anna-summaries-v0/_update/CGP1on4BSsm-lZhBVgwu [status:200 duration:0.031s]\n",
      "POST https://persyn.es.us-west-2.aws.found.io:443/anna-summaries-v0/_search [status:200 duration:0.025s]\n",
      "POST https://persyn.es.us-west-2.aws.found.io:443/anna-conversations-v0/_search [status:200 duration:0.029s]\n",
      "POST https://persyn.es.us-west-2.aws.found.io:443/anna-summaries-v0/_update/r6982YMBBNi73XUqtqOV [status:200 duration:0.031s]\n",
      "POST https://persyn.es.us-west-2.aws.found.io:443/anna-summaries-v0/_search [status:200 duration:0.030s]\n",
      "POST https://persyn.es.us-west-2.aws.found.io:443/anna-conversations-v0/_search [status:200 duration:0.028s]\n",
      "POST https://persyn.es.us-west-2.aws.found.io:443/anna-summaries-v0/_update/dq-5mYMBBNi73XUqsaLH [status:200 duration:0.025s]\n"
     ]
    },
    {
     "name": "stdout",
     "output_type": "stream",
     "text": [
      "{'_index': 'anna-summaries-v0', '_id': 'CGP1on4BSsm-lZhBVgwu', '_version': 3, 'result': 'updated', '_shards': {'total': 2, 'successful': 2, 'failed': 0}, '_seq_no': 1828, '_primary_term': 17}\n",
      "{'_index': 'anna-summaries-v0', '_id': 'r6982YMBBNi73XUqtqOV', '_version': 2, 'result': 'updated', '_shards': {'total': 2, 'successful': 2, 'failed': 0}, '_seq_no': 1829, '_primary_term': 17}\n",
      "{'_index': 'anna-summaries-v0', '_id': 'dq-5mYMBBNi73XUqsaLH', '_version': 2, 'result': 'updated', '_shards': {'total': 2, 'successful': 2, 'failed': 0}, '_seq_no': 1830, '_primary_term': 17}\n"
     ]
    },
    {
     "name": "stderr",
     "output_type": "stream",
     "text": [
      "POST https://persyn.es.us-west-2.aws.found.io:443/anna-summaries-v0/_search [status:200 duration:0.029s]\n",
      "POST https://persyn.es.us-west-2.aws.found.io:443/anna-conversations-v0/_search [status:200 duration:0.029s]\n",
      "POST https://persyn.es.us-west-2.aws.found.io:443/anna-summaries-v0/_update/Ta89_oMBBNi73XUq6qVK [status:200 duration:0.026s]\n",
      "POST https://persyn.es.us-west-2.aws.found.io:443/anna-summaries-v0/_search [status:200 duration:0.020s]\n",
      "POST https://persyn.es.us-west-2.aws.found.io:443/anna-conversations-v0/_search [status:200 duration:0.028s]\n",
      "POST https://persyn.es.us-west-2.aws.found.io:443/anna-summaries-v0/_update/Y68QkYMBBNi73XUqNqJI [status:200 duration:0.027s]\n",
      "POST https://persyn.es.us-west-2.aws.found.io:443/anna-summaries-v0/_search [status:200 duration:0.028s]\n",
      "POST https://persyn.es.us-west-2.aws.found.io:443/anna-conversations-v0/_search [status:200 duration:0.031s]\n",
      "POST https://persyn.es.us-west-2.aws.found.io:443/anna-summaries-v0/_update/yK9AT4QBBNi73XUq9Ktg [status:200 duration:0.029s]\n"
     ]
    },
    {
     "name": "stdout",
     "output_type": "stream",
     "text": [
      "{'_index': 'anna-summaries-v0', '_id': 'Ta89_oMBBNi73XUq6qVK', '_version': 2, 'result': 'updated', '_shards': {'total': 2, 'successful': 2, 'failed': 0}, '_seq_no': 1831, '_primary_term': 17}\n",
      "{'_index': 'anna-summaries-v0', '_id': 'Y68QkYMBBNi73XUqNqJI', '_version': 2, 'result': 'updated', '_shards': {'total': 2, 'successful': 2, 'failed': 0}, '_seq_no': 1832, '_primary_term': 17}\n",
      "{'_index': 'anna-summaries-v0', '_id': 'yK9AT4QBBNi73XUq9Ktg', '_version': 2, 'result': 'updated', '_shards': {'total': 2, 'successful': 2, 'failed': 0}, '_seq_no': 1833, '_primary_term': 17}\n"
     ]
    },
    {
     "name": "stderr",
     "output_type": "stream",
     "text": [
      "POST https://persyn.es.us-west-2.aws.found.io:443/anna-summaries-v0/_search [status:200 duration:0.026s]\n",
      "POST https://persyn.es.us-west-2.aws.found.io:443/anna-conversations-v0/_search [status:200 duration:0.029s]\n",
      "POST https://persyn.es.us-west-2.aws.found.io:443/anna-summaries-v0/_update/Na8xj4MBBNi73XUqsqJs [status:200 duration:0.023s]\n",
      "POST https://persyn.es.us-west-2.aws.found.io:443/anna-summaries-v0/_search [status:200 duration:0.027s]\n",
      "POST https://persyn.es.us-west-2.aws.found.io:443/anna-conversations-v0/_search [status:200 duration:0.021s]\n",
      "POST https://persyn.es.us-west-2.aws.found.io:443/anna-summaries-v0/_update/7uA26IMB6EXxeIxU1nhi [status:200 duration:0.028s]\n",
      "POST https://persyn.es.us-west-2.aws.found.io:443/anna-summaries-v0/_search [status:200 duration:0.028s]\n",
      "POST https://persyn.es.us-west-2.aws.found.io:443/anna-conversations-v0/_search [status:200 duration:0.028s]\n",
      "POST https://persyn.es.us-west-2.aws.found.io:443/anna-summaries-v0/_update/MODMQIQB6EXxeIxUNX-y [status:200 duration:0.030s]\n"
     ]
    },
    {
     "name": "stdout",
     "output_type": "stream",
     "text": [
      "{'_index': 'anna-summaries-v0', '_id': 'Na8xj4MBBNi73XUqsqJs', '_version': 2, 'result': 'updated', '_shards': {'total': 2, 'successful': 2, 'failed': 0}, '_seq_no': 1834, '_primary_term': 17}\n",
      "{'_index': 'anna-summaries-v0', '_id': '7uA26IMB6EXxeIxU1nhi', '_version': 2, 'result': 'updated', '_shards': {'total': 2, 'successful': 2, 'failed': 0}, '_seq_no': 1835, '_primary_term': 17}\n",
      "{'_index': 'anna-summaries-v0', '_id': 'MODMQIQB6EXxeIxUNX-y', '_version': 2, 'result': 'updated', '_shards': {'total': 2, 'successful': 2, 'failed': 0}, '_seq_no': 1836, '_primary_term': 17}\n"
     ]
    },
    {
     "name": "stderr",
     "output_type": "stream",
     "text": [
      "POST https://persyn.es.us-west-2.aws.found.io:443/anna-summaries-v0/_search [status:200 duration:0.026s]\n",
      "POST https://persyn.es.us-west-2.aws.found.io:443/anna-conversations-v0/_search [status:200 duration:0.027s]\n",
      "POST https://persyn.es.us-west-2.aws.found.io:443/anna-summaries-v0/_update/VtS29oABBCovfdTkGIf7 [status:200 duration:0.031s]\n",
      "POST https://persyn.es.us-west-2.aws.found.io:443/anna-summaries-v0/_search [status:200 duration:0.027s]\n",
      "POST https://persyn.es.us-west-2.aws.found.io:443/anna-conversations-v0/_search [status:200 duration:0.027s]\n",
      "POST https://persyn.es.us-west-2.aws.found.io:443/anna-summaries-v0/_update/Tq_7ToQBBNi73XUq_atD [status:200 duration:0.028s]\n",
      "POST https://persyn.es.us-west-2.aws.found.io:443/anna-summaries-v0/_search [status:200 duration:0.028s]\n",
      "POST https://persyn.es.us-west-2.aws.found.io:443/anna-conversations-v0/_search [status:200 duration:0.027s]\n",
      "POST https://persyn.es.us-west-2.aws.found.io:443/anna-summaries-v0/_update/cGZSen4Byo-dF4zkE4CM [status:200 duration:0.025s]\n"
     ]
    },
    {
     "name": "stdout",
     "output_type": "stream",
     "text": [
      "{'_index': 'anna-summaries-v0', '_id': 'VtS29oABBCovfdTkGIf7', '_version': 2, 'result': 'updated', '_shards': {'total': 2, 'successful': 2, 'failed': 0}, '_seq_no': 1837, '_primary_term': 17}\n",
      "{'_index': 'anna-summaries-v0', '_id': 'Tq_7ToQBBNi73XUq_atD', '_version': 2, 'result': 'updated', '_shards': {'total': 2, 'successful': 2, 'failed': 0}, '_seq_no': 1838, '_primary_term': 17}\n",
      "{'_index': 'anna-summaries-v0', '_id': 'cGZSen4Byo-dF4zkE4CM', '_version': 4, 'result': 'updated', '_shards': {'total': 2, 'successful': 2, 'failed': 0}, '_seq_no': 1839, '_primary_term': 17}\n"
     ]
    },
    {
     "name": "stderr",
     "output_type": "stream",
     "text": [
      "POST https://persyn.es.us-west-2.aws.found.io:443/anna-summaries-v0/_search [status:200 duration:0.028s]\n",
      "POST https://persyn.es.us-west-2.aws.found.io:443/anna-conversations-v0/_search [status:200 duration:0.024s]\n",
      "POST https://persyn.es.us-west-2.aws.found.io:443/anna-summaries-v0/_update/JGbzen4Byo-dF4zkRYHX [status:200 duration:0.024s]\n",
      "POST https://persyn.es.us-west-2.aws.found.io:443/anna-summaries-v0/_search [status:200 duration:0.028s]\n",
      "POST https://persyn.es.us-west-2.aws.found.io:443/anna-conversations-v0/_search [status:200 duration:0.028s]\n",
      "POST https://persyn.es.us-west-2.aws.found.io:443/anna-summaries-v0/_update/eU0yU4MBRfbdi4KAj1hS [status:200 duration:0.029s]\n",
      "POST https://persyn.es.us-west-2.aws.found.io:443/anna-summaries-v0/_search [status:200 duration:0.028s]\n",
      "POST https://persyn.es.us-west-2.aws.found.io:443/anna-conversations-v0/_search [status:200 duration:0.031s]\n",
      "POST https://persyn.es.us-west-2.aws.found.io:443/anna-summaries-v0/_update/mK-ymoMBBNi73XUqyKKW [status:200 duration:0.028s]\n"
     ]
    },
    {
     "name": "stdout",
     "output_type": "stream",
     "text": [
      "{'_index': 'anna-summaries-v0', '_id': 'JGbzen4Byo-dF4zkRYHX', '_version': 4, 'result': 'updated', '_shards': {'total': 2, 'successful': 2, 'failed': 0}, '_seq_no': 1840, '_primary_term': 17}\n",
      "{'_index': 'anna-summaries-v0', '_id': 'eU0yU4MBRfbdi4KAj1hS', '_version': 2, 'result': 'updated', '_shards': {'total': 2, 'successful': 2, 'failed': 0}, '_seq_no': 1841, '_primary_term': 17}\n",
      "{'_index': 'anna-summaries-v0', '_id': 'mK-ymoMBBNi73XUqyKKW', '_version': 2, 'result': 'updated', '_shards': {'total': 2, 'successful': 2, 'failed': 0}, '_seq_no': 1842, '_primary_term': 17}\n"
     ]
    },
    {
     "name": "stderr",
     "output_type": "stream",
     "text": [
      "POST https://persyn.es.us-west-2.aws.found.io:443/anna-summaries-v0/_search [status:200 duration:0.028s]\n",
      "POST https://persyn.es.us-west-2.aws.found.io:443/anna-conversations-v0/_search [status:200 duration:0.026s]\n",
      "POST https://persyn.es.us-west-2.aws.found.io:443/anna-summaries-v0/_update/3-AhDIQB6EXxeIxUDHsI [status:200 duration:0.025s]\n",
      "POST https://persyn.es.us-west-2.aws.found.io:443/anna-summaries-v0/_search [status:200 duration:0.027s]\n",
      "POST https://persyn.es.us-west-2.aws.found.io:443/anna-conversations-v0/_search [status:200 duration:0.027s]\n",
      "POST https://persyn.es.us-west-2.aws.found.io:443/anna-summaries-v0/_update/JWbzen4Byo-dF4zkZoE4 [status:200 duration:0.026s]\n",
      "POST https://persyn.es.us-west-2.aws.found.io:443/anna-summaries-v0/_search [status:200 duration:0.023s]\n",
      "POST https://persyn.es.us-west-2.aws.found.io:443/anna-conversations-v0/_search [status:200 duration:0.028s]\n",
      "POST https://persyn.es.us-west-2.aws.found.io:443/anna-summaries-v0/_update/_RgfboAB1O6hlTWgwGSf [status:200 duration:0.028s]\n"
     ]
    },
    {
     "name": "stdout",
     "output_type": "stream",
     "text": [
      "{'_index': 'anna-summaries-v0', '_id': '3-AhDIQB6EXxeIxUDHsI', '_version': 2, 'result': 'updated', '_shards': {'total': 2, 'successful': 2, 'failed': 0}, '_seq_no': 1843, '_primary_term': 17}\n",
      "{'_index': 'anna-summaries-v0', '_id': 'JWbzen4Byo-dF4zkZoE4', '_version': 4, 'result': 'updated', '_shards': {'total': 2, 'successful': 2, 'failed': 0}, '_seq_no': 1844, '_primary_term': 17}\n",
      "{'_index': 'anna-summaries-v0', '_id': '_RgfboAB1O6hlTWgwGSf', '_version': 2, 'result': 'updated', '_shards': {'total': 2, 'successful': 2, 'failed': 0}, '_seq_no': 1845, '_primary_term': 17}\n"
     ]
    },
    {
     "name": "stderr",
     "output_type": "stream",
     "text": [
      "POST https://persyn.es.us-west-2.aws.found.io:443/anna-summaries-v0/_search [status:200 duration:0.034s]\n",
      "POST https://persyn.es.us-west-2.aws.found.io:443/anna-conversations-v0/_search [status:200 duration:0.029s]\n",
      "POST https://persyn.es.us-west-2.aws.found.io:443/anna-summaries-v0/_update/NWb0en4Byo-dF4zk2oH9 [status:200 duration:0.032s]\n",
      "POST https://persyn.es.us-west-2.aws.found.io:443/anna-summaries-v0/_search [status:200 duration:0.027s]\n",
      "POST https://persyn.es.us-west-2.aws.found.io:443/anna-conversations-v0/_search [status:200 duration:0.028s]\n",
      "POST https://persyn.es.us-west-2.aws.found.io:443/anna-summaries-v0/_update/sCOfhoMBy5mPdc6PSnGP [status:200 duration:0.040s]\n",
      "POST https://persyn.es.us-west-2.aws.found.io:443/anna-summaries-v0/_search [status:200 duration:0.028s]\n",
      "POST https://persyn.es.us-west-2.aws.found.io:443/anna-conversations-v0/_search [status:200 duration:0.030s]\n",
      "POST https://persyn.es.us-west-2.aws.found.io:443/anna-summaries-v0/_update/KRiZXoAB1O6hlTWgu2B- [status:200 duration:0.027s]\n"
     ]
    },
    {
     "name": "stdout",
     "output_type": "stream",
     "text": [
      "{'_index': 'anna-summaries-v0', '_id': 'NWb0en4Byo-dF4zk2oH9', '_version': 4, 'result': 'updated', '_shards': {'total': 2, 'successful': 2, 'failed': 0}, '_seq_no': 1846, '_primary_term': 17}\n",
      "{'_index': 'anna-summaries-v0', '_id': 'sCOfhoMBy5mPdc6PSnGP', '_version': 2, 'result': 'updated', '_shards': {'total': 2, 'successful': 2, 'failed': 0}, '_seq_no': 1847, '_primary_term': 17}\n",
      "{'_index': 'anna-summaries-v0', '_id': 'KRiZXoAB1O6hlTWgu2B-', '_version': 2, 'result': 'updated', '_shards': {'total': 2, 'successful': 2, 'failed': 0}, '_seq_no': 1848, '_primary_term': 17}\n"
     ]
    },
    {
     "name": "stderr",
     "output_type": "stream",
     "text": [
      "POST https://persyn.es.us-west-2.aws.found.io:443/anna-summaries-v0/_search [status:200 duration:0.029s]\n",
      "POST https://persyn.es.us-west-2.aws.found.io:443/anna-conversations-v0/_search [status:200 duration:0.029s]\n",
      "POST https://persyn.es.us-west-2.aws.found.io:443/anna-summaries-v0/_update/Va_IaYQBBNi73XUqJK0x [status:200 duration:0.026s]\n",
      "POST https://persyn.es.us-west-2.aws.found.io:443/anna-summaries-v0/_search [status:200 duration:0.030s]\n",
      "POST https://persyn.es.us-west-2.aws.found.io:443/anna-conversations-v0/_search [status:200 duration:0.026s]\n",
      "POST https://persyn.es.us-west-2.aws.found.io:443/anna-summaries-v0/_update/V68684MBBNi73XUqS6Sy [status:200 duration:0.024s]\n",
      "POST https://persyn.es.us-west-2.aws.found.io:443/anna-summaries-v0/_search [status:200 duration:0.026s]\n",
      "POST https://persyn.es.us-west-2.aws.found.io:443/anna-conversations-v0/_search [status:200 duration:0.020s]\n",
      "POST https://persyn.es.us-west-2.aws.found.io:443/anna-summaries-v0/_update/cRiR3H4B1O6hlTWgA0c4 [status:200 duration:0.025s]\n",
      "POST https://persyn.es.us-west-2.aws.found.io:443/anna-summaries-v0/_search [status:200 duration:0.028s]\n"
     ]
    },
    {
     "name": "stdout",
     "output_type": "stream",
     "text": [
      "{'_index': 'anna-summaries-v0', '_id': 'Va_IaYQBBNi73XUqJK0x', '_version': 2, 'result': 'updated', '_shards': {'total': 2, 'successful': 2, 'failed': 0}, '_seq_no': 1849, '_primary_term': 17}\n",
      "{'_index': 'anna-summaries-v0', '_id': 'V68684MBBNi73XUqS6Sy', '_version': 2, 'result': 'updated', '_shards': {'total': 2, 'successful': 2, 'failed': 0}, '_seq_no': 1850, '_primary_term': 17}\n",
      "{'_index': 'anna-summaries-v0', '_id': 'cRiR3H4B1O6hlTWgA0c4', '_version': 2, 'result': 'updated', '_shards': {'total': 2, 'successful': 2, 'failed': 0}, '_seq_no': 1851, '_primary_term': 17}\n"
     ]
    },
    {
     "name": "stderr",
     "output_type": "stream",
     "text": [
      "POST https://persyn.es.us-west-2.aws.found.io:443/anna-conversations-v0/_search [status:200 duration:0.027s]\n",
      "POST https://persyn.es.us-west-2.aws.found.io:443/anna-summaries-v0/_update/9tTu44EBBCovfdTkor4N [status:200 duration:0.026s]\n",
      "POST https://persyn.es.us-west-2.aws.found.io:443/anna-summaries-v0/_search [status:200 duration:0.025s]\n",
      "POST https://persyn.es.us-west-2.aws.found.io:443/anna-conversations-v0/_search [status:200 duration:0.026s]\n",
      "POST https://persyn.es.us-west-2.aws.found.io:443/anna-summaries-v0/_update/5a_FPYQBBNi73XUqk6ri [status:200 duration:0.023s]\n",
      "POST https://persyn.es.us-west-2.aws.found.io:443/anna-summaries-v0/_search [status:200 duration:0.027s]\n",
      "POST https://persyn.es.us-west-2.aws.found.io:443/anna-conversations-v0/_search [status:200 duration:0.028s]\n",
      "POST https://persyn.es.us-west-2.aws.found.io:443/anna-summaries-v0/_update/vhhAPn8B1O6hlTWgEUtw [status:200 duration:0.025s]\n",
      "POST https://persyn.es.us-west-2.aws.found.io:443/anna-summaries-v0/_search [status:200 duration:0.027s]\n"
     ]
    },
    {
     "name": "stdout",
     "output_type": "stream",
     "text": [
      "{'_index': 'anna-summaries-v0', '_id': '9tTu44EBBCovfdTkor4N', '_version': 2, 'result': 'updated', '_shards': {'total': 2, 'successful': 2, 'failed': 0}, '_seq_no': 1852, '_primary_term': 17}\n",
      "{'_index': 'anna-summaries-v0', '_id': '5a_FPYQBBNi73XUqk6ri', '_version': 2, 'result': 'updated', '_shards': {'total': 2, 'successful': 2, 'failed': 0}, '_seq_no': 1853, '_primary_term': 17}\n",
      "{'_index': 'anna-summaries-v0', '_id': 'vhhAPn8B1O6hlTWgEUtw', '_version': 2, 'result': 'updated', '_shards': {'total': 2, 'successful': 2, 'failed': 0}, '_seq_no': 1854, '_primary_term': 17}\n"
     ]
    },
    {
     "name": "stderr",
     "output_type": "stream",
     "text": [
      "POST https://persyn.es.us-west-2.aws.found.io:443/anna-conversations-v0/_search [status:200 duration:0.027s]\n",
      "POST https://persyn.es.us-west-2.aws.found.io:443/anna-summaries-v0/_update/zxheboAB1O6hlTWg_mXS [status:200 duration:0.028s]\n",
      "POST https://persyn.es.us-west-2.aws.found.io:443/anna-summaries-v0/_search [status:200 duration:0.025s]\n",
      "POST https://persyn.es.us-west-2.aws.found.io:443/anna-conversations-v0/_search [status:200 duration:0.022s]\n",
      "POST https://persyn.es.us-west-2.aws.found.io:443/anna-summaries-v0/_update/sOCSY4QB6EXxeIxUHYAn [status:200 duration:0.031s]\n",
      "POST https://persyn.es.us-west-2.aws.found.io:443/anna-summaries-v0/_search [status:200 duration:0.033s]\n",
      "POST https://persyn.es.us-west-2.aws.found.io:443/anna-conversations-v0/_search [status:200 duration:0.022s]\n",
      "POST https://persyn.es.us-west-2.aws.found.io:443/anna-summaries-v0/_update/Bxg944AB1O6hlTWgLXQt [status:200 duration:0.027s]\n"
     ]
    },
    {
     "name": "stdout",
     "output_type": "stream",
     "text": [
      "{'_index': 'anna-summaries-v0', '_id': 'zxheboAB1O6hlTWg_mXS', '_version': 2, 'result': 'updated', '_shards': {'total': 2, 'successful': 2, 'failed': 0}, '_seq_no': 1855, '_primary_term': 17}\n",
      "{'_index': 'anna-summaries-v0', '_id': 'sOCSY4QB6EXxeIxUHYAn', '_version': 2, 'result': 'updated', '_shards': {'total': 2, 'successful': 2, 'failed': 0}, '_seq_no': 1856, '_primary_term': 17}\n",
      "{'_index': 'anna-summaries-v0', '_id': 'Bxg944AB1O6hlTWgLXQt', '_version': 2, 'result': 'updated', '_shards': {'total': 2, 'successful': 2, 'failed': 0}, '_seq_no': 1857, '_primary_term': 17}\n"
     ]
    },
    {
     "name": "stderr",
     "output_type": "stream",
     "text": [
      "POST https://persyn.es.us-west-2.aws.found.io:443/anna-summaries-v0/_search [status:200 duration:0.030s]\n",
      "POST https://persyn.es.us-west-2.aws.found.io:443/anna-conversations-v0/_search [status:200 duration:0.032s]\n",
      "POST https://persyn.es.us-west-2.aws.found.io:443/anna-summaries-v0/_update/GK9tU4QBBNi73XUqTqze [status:200 duration:0.030s]\n",
      "POST https://persyn.es.us-west-2.aws.found.io:443/anna-summaries-v0/_search [status:200 duration:0.027s]\n",
      "POST https://persyn.es.us-west-2.aws.found.io:443/anna-conversations-v0/_search [status:200 duration:0.028s]\n",
      "POST https://persyn.es.us-west-2.aws.found.io:443/anna-summaries-v0/_update/2B33QoIBGYbVpQ0ozasC [status:200 duration:0.034s]\n",
      "POST https://persyn.es.us-west-2.aws.found.io:443/anna-summaries-v0/_search [status:200 duration:0.029s]\n",
      "POST https://persyn.es.us-west-2.aws.found.io:443/anna-conversations-v0/_search [status:200 duration:0.031s]\n",
      "POST https://persyn.es.us-west-2.aws.found.io:443/anna-summaries-v0/_update/f2ZTen4Byo-dF4zkMoBz [status:200 duration:0.031s]\n"
     ]
    },
    {
     "name": "stdout",
     "output_type": "stream",
     "text": [
      "{'_index': 'anna-summaries-v0', '_id': 'GK9tU4QBBNi73XUqTqze', '_version': 2, 'result': 'updated', '_shards': {'total': 2, 'successful': 2, 'failed': 0}, '_seq_no': 1858, '_primary_term': 17}\n",
      "{'_index': 'anna-summaries-v0', '_id': '2B33QoIBGYbVpQ0ozasC', '_version': 2, 'result': 'updated', '_shards': {'total': 2, 'successful': 2, 'failed': 0}, '_seq_no': 1859, '_primary_term': 17}\n",
      "{'_index': 'anna-summaries-v0', '_id': 'f2ZTen4Byo-dF4zkMoBz', '_version': 4, 'result': 'updated', '_shards': {'total': 2, 'successful': 2, 'failed': 0}, '_seq_no': 1860, '_primary_term': 17}\n"
     ]
    },
    {
     "name": "stderr",
     "output_type": "stream",
     "text": [
      "POST https://persyn.es.us-west-2.aws.found.io:443/anna-summaries-v0/_search [status:200 duration:0.024s]\n",
      "POST https://persyn.es.us-west-2.aws.found.io:443/anna-conversations-v0/_search [status:200 duration:0.028s]\n",
      "POST https://persyn.es.us-west-2.aws.found.io:443/anna-summaries-v0/_update/YGZQen4Byo-dF4zkiICO [status:200 duration:0.028s]\n",
      "POST https://persyn.es.us-west-2.aws.found.io:443/anna-summaries-v0/_search [status:200 duration:0.028s]\n",
      "POST https://persyn.es.us-west-2.aws.found.io:443/anna-conversations-v0/_search [status:200 duration:0.028s]\n",
      "POST https://persyn.es.us-west-2.aws.found.io:443/anna-summaries-v0/_update/hq8FT4QBBNi73XUqvKsO [status:200 duration:0.027s]\n",
      "POST https://persyn.es.us-west-2.aws.found.io:443/anna-summaries-v0/_search [status:200 duration:0.030s]\n",
      "POST https://persyn.es.us-west-2.aws.found.io:443/anna-conversations-v0/_search [status:200 duration:0.030s]\n",
      "POST https://persyn.es.us-west-2.aws.found.io:443/anna-summaries-v0/_update/qdQG9IABBCovfdTkL4af [status:200 duration:0.024s]\n"
     ]
    },
    {
     "name": "stdout",
     "output_type": "stream",
     "text": [
      "{'_index': 'anna-summaries-v0', '_id': 'YGZQen4Byo-dF4zkiICO', '_version': 4, 'result': 'updated', '_shards': {'total': 2, 'successful': 2, 'failed': 0}, '_seq_no': 1861, '_primary_term': 17}\n",
      "{'_index': 'anna-summaries-v0', '_id': 'hq8FT4QBBNi73XUqvKsO', '_version': 2, 'result': 'updated', '_shards': {'total': 2, 'successful': 2, 'failed': 0}, '_seq_no': 1862, '_primary_term': 17}\n",
      "{'_index': 'anna-summaries-v0', '_id': 'qdQG9IABBCovfdTkL4af', '_version': 2, 'result': 'updated', '_shards': {'total': 2, 'successful': 2, 'failed': 0}, '_seq_no': 1863, '_primary_term': 17}\n"
     ]
    },
    {
     "name": "stderr",
     "output_type": "stream",
     "text": [
      "POST https://persyn.es.us-west-2.aws.found.io:443/anna-summaries-v0/_search [status:200 duration:0.022s]\n",
      "POST https://persyn.es.us-west-2.aws.found.io:443/anna-conversations-v0/_search [status:200 duration:0.027s]\n",
      "POST https://persyn.es.us-west-2.aws.found.io:443/anna-summaries-v0/_update/_eDrl4QB6EXxeIxUYoQp [status:200 duration:0.031s]\n",
      "POST https://persyn.es.us-west-2.aws.found.io:443/anna-summaries-v0/_search [status:200 duration:0.026s]\n",
      "POST https://persyn.es.us-west-2.aws.found.io:443/anna-conversations-v0/_search [status:200 duration:0.024s]\n",
      "POST https://persyn.es.us-west-2.aws.found.io:443/anna-summaries-v0/_update/bNSbMIEBBCovfdTk0Jd0 [status:200 duration:0.025s]\n",
      "POST https://persyn.es.us-west-2.aws.found.io:443/anna-summaries-v0/_search [status:200 duration:0.031s]\n",
      "POST https://persyn.es.us-west-2.aws.found.io:443/anna-conversations-v0/_search [status:200 duration:0.038s]\n",
      "POST https://persyn.es.us-west-2.aws.found.io:443/anna-summaries-v0/_update/5OACEYQB6EXxeIxUknup [status:200 duration:0.031s]\n"
     ]
    },
    {
     "name": "stdout",
     "output_type": "stream",
     "text": [
      "{'_index': 'anna-summaries-v0', '_id': '_eDrl4QB6EXxeIxUYoQp', '_version': 2, 'result': 'updated', '_shards': {'total': 2, 'successful': 2, 'failed': 0}, '_seq_no': 1864, '_primary_term': 17}\n",
      "{'_index': 'anna-summaries-v0', '_id': 'bNSbMIEBBCovfdTk0Jd0', '_version': 2, 'result': 'updated', '_shards': {'total': 2, 'successful': 2, 'failed': 0}, '_seq_no': 1865, '_primary_term': 17}\n",
      "{'_index': 'anna-summaries-v0', '_id': '5OACEYQB6EXxeIxUknup', '_version': 2, 'result': 'updated', '_shards': {'total': 2, 'successful': 2, 'failed': 0}, '_seq_no': 1866, '_primary_term': 17}\n"
     ]
    },
    {
     "name": "stderr",
     "output_type": "stream",
     "text": [
      "POST https://persyn.es.us-west-2.aws.found.io:443/anna-summaries-v0/_search [status:200 duration:0.030s]\n",
      "POST https://persyn.es.us-west-2.aws.found.io:443/anna-conversations-v0/_search [status:200 duration:0.024s]\n",
      "POST https://persyn.es.us-west-2.aws.found.io:443/anna-summaries-v0/_update/kOA7-4MB6EXxeIxUaHlv [status:200 duration:0.029s]\n",
      "POST https://persyn.es.us-west-2.aws.found.io:443/anna-summaries-v0/_search [status:200 duration:0.020s]\n",
      "POST https://persyn.es.us-west-2.aws.found.io:443/anna-conversations-v0/_search [status:200 duration:0.027s]\n",
      "POST https://persyn.es.us-west-2.aws.found.io:443/anna-summaries-v0/_update/Kq-k8IMBBNi73XUqAqRW [status:200 duration:0.023s]\n",
      "POST https://persyn.es.us-west-2.aws.found.io:443/anna-summaries-v0/_search [status:200 duration:0.027s]\n",
      "POST https://persyn.es.us-west-2.aws.found.io:443/anna-conversations-v0/_search [status:200 duration:0.027s]\n",
      "POST https://persyn.es.us-west-2.aws.found.io:443/anna-summaries-v0/_update/aWZRen4Byo-dF4zkToBg [status:200 duration:0.025s]\n",
      "POST https://persyn.es.us-west-2.aws.found.io:443/anna-summaries-v0/_search [status:200 duration:0.028s]\n"
     ]
    },
    {
     "name": "stdout",
     "output_type": "stream",
     "text": [
      "{'_index': 'anna-summaries-v0', '_id': 'kOA7-4MB6EXxeIxUaHlv', '_version': 2, 'result': 'updated', '_shards': {'total': 2, 'successful': 2, 'failed': 0}, '_seq_no': 1867, '_primary_term': 17}\n",
      "{'_index': 'anna-summaries-v0', '_id': 'Kq-k8IMBBNi73XUqAqRW', '_version': 2, 'result': 'updated', '_shards': {'total': 2, 'successful': 2, 'failed': 0}, '_seq_no': 1868, '_primary_term': 17}\n",
      "{'_index': 'anna-summaries-v0', '_id': 'aWZRen4Byo-dF4zkToBg', '_version': 4, 'result': 'updated', '_shards': {'total': 2, 'successful': 2, 'failed': 0}, '_seq_no': 1869, '_primary_term': 17}\n"
     ]
    },
    {
     "name": "stderr",
     "output_type": "stream",
     "text": [
      "POST https://persyn.es.us-west-2.aws.found.io:443/anna-conversations-v0/_search [status:200 duration:0.028s]\n",
      "POST https://persyn.es.us-west-2.aws.found.io:443/anna-summaries-v0/_update/wiOZlIIBy5mPdc6PcWX_ [status:200 duration:0.030s]\n",
      "POST https://persyn.es.us-west-2.aws.found.io:443/anna-summaries-v0/_search [status:200 duration:0.033s]\n",
      "POST https://persyn.es.us-west-2.aws.found.io:443/anna-conversations-v0/_search [status:200 duration:0.029s]\n",
      "POST https://persyn.es.us-west-2.aws.found.io:443/anna-summaries-v0/_update/O2b1en4Byo-dF4zkf4HR [status:200 duration:0.028s]\n",
      "POST https://persyn.es.us-west-2.aws.found.io:443/anna-summaries-v0/_search [status:200 duration:0.027s]\n",
      "POST https://persyn.es.us-west-2.aws.found.io:443/anna-conversations-v0/_search [status:200 duration:0.024s]\n",
      "POST https://persyn.es.us-west-2.aws.found.io:443/anna-summaries-v0/_update/fmZTen4Byo-dF4zkEoDQ [status:200 duration:0.023s]\n"
     ]
    },
    {
     "name": "stdout",
     "output_type": "stream",
     "text": [
      "{'_index': 'anna-summaries-v0', '_id': 'wiOZlIIBy5mPdc6PcWX_', '_version': 2, 'result': 'updated', '_shards': {'total': 2, 'successful': 2, 'failed': 0}, '_seq_no': 1870, '_primary_term': 17}\n",
      "{'_index': 'anna-summaries-v0', '_id': 'O2b1en4Byo-dF4zkf4HR', '_version': 4, 'result': 'updated', '_shards': {'total': 2, 'successful': 2, 'failed': 0}, '_seq_no': 1871, '_primary_term': 17}\n",
      "{'_index': 'anna-summaries-v0', '_id': 'fmZTen4Byo-dF4zkEoDQ', '_version': 4, 'result': 'updated', '_shards': {'total': 2, 'successful': 2, 'failed': 0}, '_seq_no': 1872, '_primary_term': 17}\n"
     ]
    },
    {
     "name": "stderr",
     "output_type": "stream",
     "text": [
      "POST https://persyn.es.us-west-2.aws.found.io:443/anna-summaries-v0/_search [status:200 duration:0.029s]\n",
      "POST https://persyn.es.us-west-2.aws.found.io:443/anna-conversations-v0/_search [status:200 duration:0.027s]\n",
      "POST https://persyn.es.us-west-2.aws.found.io:443/anna-summaries-v0/_update/nGZVen4Byo-dF4zkx4CL [status:200 duration:0.025s]\n",
      "POST https://persyn.es.us-west-2.aws.found.io:443/anna-summaries-v0/_search [status:200 duration:0.025s]\n",
      "POST https://persyn.es.us-west-2.aws.found.io:443/anna-conversations-v0/_search [status:200 duration:0.033s]\n",
      "POST https://persyn.es.us-west-2.aws.found.io:443/anna-summaries-v0/_update/-tTsL4EBBCovfdTkopU7 [status:200 duration:0.028s]\n",
      "POST https://persyn.es.us-west-2.aws.found.io:443/anna-summaries-v0/_search [status:200 duration:0.022s]\n",
      "POST https://persyn.es.us-west-2.aws.found.io:443/anna-conversations-v0/_search [status:200 duration:0.029s]\n",
      "POST https://persyn.es.us-west-2.aws.found.io:443/anna-summaries-v0/_update/KuAV2IMB6EXxeIxU-Xj8 [status:200 duration:0.028s]\n"
     ]
    },
    {
     "name": "stdout",
     "output_type": "stream",
     "text": [
      "{'_index': 'anna-summaries-v0', '_id': 'nGZVen4Byo-dF4zkx4CL', '_version': 4, 'result': 'updated', '_shards': {'total': 2, 'successful': 2, 'failed': 0}, '_seq_no': 1873, '_primary_term': 17}\n",
      "{'_index': 'anna-summaries-v0', '_id': '-tTsL4EBBCovfdTkopU7', '_version': 2, 'result': 'updated', '_shards': {'total': 2, 'successful': 2, 'failed': 0}, '_seq_no': 1874, '_primary_term': 17}\n",
      "{'_index': 'anna-summaries-v0', '_id': 'KuAV2IMB6EXxeIxU-Xj8', '_version': 2, 'result': 'updated', '_shards': {'total': 2, 'successful': 2, 'failed': 0}, '_seq_no': 1875, '_primary_term': 17}\n"
     ]
    },
    {
     "name": "stderr",
     "output_type": "stream",
     "text": [
      "POST https://persyn.es.us-west-2.aws.found.io:443/anna-summaries-v0/_search [status:200 duration:0.028s]\n",
      "POST https://persyn.es.us-west-2.aws.found.io:443/anna-conversations-v0/_search [status:200 duration:0.024s]\n",
      "POST https://persyn.es.us-west-2.aws.found.io:443/anna-summaries-v0/_update/72aag34Byo-dF4zkK4MR [status:200 duration:0.032s]\n",
      "POST https://persyn.es.us-west-2.aws.found.io:443/anna-summaries-v0/_search [status:200 duration:0.027s]\n",
      "POST https://persyn.es.us-west-2.aws.found.io:443/anna-conversations-v0/_search [status:200 duration:0.028s]\n",
      "POST https://persyn.es.us-west-2.aws.found.io:443/anna-summaries-v0/_update/HNSmfYEBBCovfdTkearn [status:200 duration:0.033s]\n",
      "POST https://persyn.es.us-west-2.aws.found.io:443/anna-summaries-v0/_search [status:200 duration:0.043s]\n",
      "POST https://persyn.es.us-west-2.aws.found.io:443/anna-conversations-v0/_search [status:200 duration:0.029s]\n",
      "POST https://persyn.es.us-west-2.aws.found.io:443/anna-summaries-v0/_update/1NQ7_YABBCovfdTkq4ga [status:200 duration:0.027s]\n"
     ]
    },
    {
     "name": "stdout",
     "output_type": "stream",
     "text": [
      "{'_index': 'anna-summaries-v0', '_id': '72aag34Byo-dF4zkK4MR', '_version': 4, 'result': 'updated', '_shards': {'total': 2, 'successful': 2, 'failed': 0}, '_seq_no': 1876, '_primary_term': 17}\n",
      "{'_index': 'anna-summaries-v0', '_id': 'HNSmfYEBBCovfdTkearn', '_version': 2, 'result': 'updated', '_shards': {'total': 2, 'successful': 2, 'failed': 0}, '_seq_no': 1877, '_primary_term': 17}\n"
     ]
    },
    {
     "name": "stderr",
     "output_type": "stream",
     "text": [
      "POST https://persyn.es.us-west-2.aws.found.io:443/anna-summaries-v0/_search [status:200 duration:0.028s]\n",
      "POST https://persyn.es.us-west-2.aws.found.io:443/anna-conversations-v0/_search [status:200 duration:0.028s]\n",
      "POST https://persyn.es.us-west-2.aws.found.io:443/anna-summaries-v0/_update/xuBGloQB6EXxeIxUS4Sv [status:200 duration:0.025s]\n",
      "POST https://persyn.es.us-west-2.aws.found.io:443/anna-summaries-v0/_search [status:200 duration:0.028s]\n",
      "POST https://persyn.es.us-west-2.aws.found.io:443/anna-conversations-v0/_search [status:200 duration:0.029s]\n",
      "POST https://persyn.es.us-west-2.aws.found.io:443/anna-summaries-v0/_update/bRgW734B1O6hlTWgF0l9 [status:200 duration:0.025s]\n",
      "POST https://persyn.es.us-west-2.aws.found.io:443/anna-summaries-v0/_search [status:200 duration:0.028s]\n",
      "POST https://persyn.es.us-west-2.aws.found.io:443/anna-conversations-v0/_search [status:200 duration:0.030s]\n",
      "POST https://persyn.es.us-west-2.aws.found.io:443/anna-summaries-v0/_update/wCOwwYIBy5mPdc6PZ2es [status:200 duration:0.032s]\n"
     ]
    },
    {
     "name": "stdout",
     "output_type": "stream",
     "text": [
      "{'_index': 'anna-summaries-v0', '_id': '1NQ7_YABBCovfdTkq4ga', '_version': 2, 'result': 'updated', '_shards': {'total': 2, 'successful': 2, 'failed': 0}, '_seq_no': 1878, '_primary_term': 17}\n",
      "{'_index': 'anna-summaries-v0', '_id': 'xuBGloQB6EXxeIxUS4Sv', '_version': 2, 'result': 'updated', '_shards': {'total': 2, 'successful': 2, 'failed': 0}, '_seq_no': 1879, '_primary_term': 17}\n",
      "{'_index': 'anna-summaries-v0', '_id': 'bRgW734B1O6hlTWgF0l9', '_version': 2, 'result': 'updated', '_shards': {'total': 2, 'successful': 2, 'failed': 0}, '_seq_no': 1880, '_primary_term': 17}\n",
      "{'_index': 'anna-summaries-v0', '_id': 'wCOwwYIBy5mPdc6PZ2es', '_version': 2, 'result': 'updated', '_shards': {'total': 2, 'successful': 2, 'failed': 0}, '_seq_no': 1881, '_primary_term': 17}\n"
     ]
    },
    {
     "name": "stderr",
     "output_type": "stream",
     "text": [
      "POST https://persyn.es.us-west-2.aws.found.io:443/anna-summaries-v0/_search [status:200 duration:0.026s]\n",
      "POST https://persyn.es.us-west-2.aws.found.io:443/anna-conversations-v0/_search [status:200 duration:0.028s]\n",
      "POST https://persyn.es.us-west-2.aws.found.io:443/anna-summaries-v0/_update/u68ak4QBBNi73XUqrq-G [status:200 duration:0.025s]\n",
      "POST https://persyn.es.us-west-2.aws.found.io:443/anna-summaries-v0/_search [status:200 duration:0.029s]\n",
      "POST https://persyn.es.us-west-2.aws.found.io:443/anna-conversations-v0/_search [status:200 duration:0.023s]\n",
      "POST https://persyn.es.us-west-2.aws.found.io:443/anna-summaries-v0/_update/GODrT4QB6EXxeIxUnYBx [status:200 duration:0.031s]\n",
      "POST https://persyn.es.us-west-2.aws.found.io:443/anna-summaries-v0/_search [status:200 duration:0.027s]\n",
      "POST https://persyn.es.us-west-2.aws.found.io:443/anna-conversations-v0/_search [status:200 duration:0.027s]\n",
      "POST https://persyn.es.us-west-2.aws.found.io:443/anna-summaries-v0/_update/I69VsYQBBNi73XUqp7Sk [status:200 duration:0.029s]\n"
     ]
    },
    {
     "name": "stdout",
     "output_type": "stream",
     "text": [
      "{'_index': 'anna-summaries-v0', '_id': 'u68ak4QBBNi73XUqrq-G', '_version': 2, 'result': 'updated', '_shards': {'total': 2, 'successful': 2, 'failed': 0}, '_seq_no': 1882, '_primary_term': 17}\n",
      "{'_index': 'anna-summaries-v0', '_id': 'GODrT4QB6EXxeIxUnYBx', '_version': 2, 'result': 'updated', '_shards': {'total': 2, 'successful': 2, 'failed': 0}, '_seq_no': 1883, '_primary_term': 17}\n",
      "{'_index': 'anna-summaries-v0', '_id': 'I69VsYQBBNi73XUqp7Sk', '_version': 2, 'result': 'updated', '_shards': {'total': 2, 'successful': 2, 'failed': 0}, '_seq_no': 1884, '_primary_term': 17}\n"
     ]
    },
    {
     "name": "stderr",
     "output_type": "stream",
     "text": [
      "POST https://persyn.es.us-west-2.aws.found.io:443/anna-summaries-v0/_search [status:200 duration:0.026s]\n",
      "POST https://persyn.es.us-west-2.aws.found.io:443/anna-conversations-v0/_search [status:200 duration:0.027s]\n",
      "POST https://persyn.es.us-west-2.aws.found.io:443/anna-summaries-v0/_update/7hhA3X4B1O6hlTWg60gg [status:200 duration:0.024s]\n",
      "POST https://persyn.es.us-west-2.aws.found.io:443/anna-summaries-v0/_search [status:200 duration:0.033s]\n",
      "POST https://persyn.es.us-west-2.aws.found.io:443/anna-conversations-v0/_search [status:200 duration:0.021s]\n",
      "POST https://persyn.es.us-west-2.aws.found.io:443/anna-summaries-v0/_update/9dQEfYEBBCovfdTkNamU [status:200 duration:0.031s]\n",
      "POST https://persyn.es.us-west-2.aws.found.io:443/anna-summaries-v0/_search [status:200 duration:0.021s]\n",
      "POST https://persyn.es.us-west-2.aws.found.io:443/anna-conversations-v0/_search [status:200 duration:0.028s]\n",
      "POST https://persyn.es.us-west-2.aws.found.io:443/anna-summaries-v0/_update/gmZTen4Byo-dF4zkZYAQ [status:200 duration:0.024s]\n",
      "POST https://persyn.es.us-west-2.aws.found.io:443/anna-summaries-v0/_search [status:200 duration:0.028s]\n"
     ]
    },
    {
     "name": "stdout",
     "output_type": "stream",
     "text": [
      "{'_index': 'anna-summaries-v0', '_id': '7hhA3X4B1O6hlTWg60gg', '_version': 2, 'result': 'updated', '_shards': {'total': 2, 'successful': 2, 'failed': 0}, '_seq_no': 1885, '_primary_term': 17}\n",
      "{'_index': 'anna-summaries-v0', '_id': '9dQEfYEBBCovfdTkNamU', '_version': 2, 'result': 'updated', '_shards': {'total': 2, 'successful': 2, 'failed': 0}, '_seq_no': 1886, '_primary_term': 17}\n",
      "{'_index': 'anna-summaries-v0', '_id': 'gmZTen4Byo-dF4zkZYAQ', '_version': 4, 'result': 'updated', '_shards': {'total': 2, 'successful': 2, 'failed': 0}, '_seq_no': 1887, '_primary_term': 17}\n"
     ]
    },
    {
     "name": "stderr",
     "output_type": "stream",
     "text": [
      "POST https://persyn.es.us-west-2.aws.found.io:443/anna-conversations-v0/_search [status:200 duration:0.030s]\n",
      "POST https://persyn.es.us-west-2.aws.found.io:443/anna-summaries-v0/_update/nB1gV4IBGYbVpQ0oirN7 [status:200 duration:0.030s]\n",
      "POST https://persyn.es.us-west-2.aws.found.io:443/anna-summaries-v0/_search [status:200 duration:0.027s]\n",
      "POST https://persyn.es.us-west-2.aws.found.io:443/anna-conversations-v0/_search [status:200 duration:0.028s]\n",
      "POST https://persyn.es.us-west-2.aws.found.io:443/anna-summaries-v0/_update/uSNFy4IBy5mPdc6PRGhl [status:200 duration:0.032s]\n",
      "POST https://persyn.es.us-west-2.aws.found.io:443/anna-summaries-v0/_search [status:200 duration:0.027s]\n",
      "POST https://persyn.es.us-west-2.aws.found.io:443/anna-conversations-v0/_search [status:200 duration:0.023s]\n",
      "POST https://persyn.es.us-west-2.aws.found.io:443/anna-summaries-v0/_update/6q85rIQBBNi73XUqDbPr [status:200 duration:0.031s]\n"
     ]
    },
    {
     "name": "stdout",
     "output_type": "stream",
     "text": [
      "{'_index': 'anna-summaries-v0', '_id': 'nB1gV4IBGYbVpQ0oirN7', '_version': 2, 'result': 'updated', '_shards': {'total': 2, 'successful': 2, 'failed': 0}, '_seq_no': 1888, '_primary_term': 17}\n",
      "{'_index': 'anna-summaries-v0', '_id': 'uSNFy4IBy5mPdc6PRGhl', '_version': 2, 'result': 'updated', '_shards': {'total': 2, 'successful': 2, 'failed': 0}, '_seq_no': 1889, '_primary_term': 17}\n",
      "{'_index': 'anna-summaries-v0', '_id': '6q85rIQBBNi73XUqDbPr', '_version': 2, 'result': 'updated', '_shards': {'total': 2, 'successful': 2, 'failed': 0}, '_seq_no': 1890, '_primary_term': 17}\n"
     ]
    },
    {
     "name": "stderr",
     "output_type": "stream",
     "text": [
      "POST https://persyn.es.us-west-2.aws.found.io:443/anna-summaries-v0/_search [status:200 duration:0.029s]\n",
      "POST https://persyn.es.us-west-2.aws.found.io:443/anna-conversations-v0/_search [status:200 duration:0.025s]\n",
      "POST https://persyn.es.us-west-2.aws.found.io:443/anna-summaries-v0/_update/KK_zRYQBBNi73XUqt6tH [status:200 duration:0.024s]\n",
      "POST https://persyn.es.us-west-2.aws.found.io:443/anna-summaries-v0/_search [status:200 duration:0.029s]\n",
      "POST https://persyn.es.us-west-2.aws.found.io:443/anna-conversations-v0/_search [status:200 duration:0.030s]\n",
      "POST https://persyn.es.us-west-2.aws.found.io:443/anna-summaries-v0/_update/Aa__EYQBBNi73XUq_alh [status:200 duration:0.032s]\n",
      "POST https://persyn.es.us-west-2.aws.found.io:443/anna-summaries-v0/_search [status:200 duration:0.032s]\n",
      "POST https://persyn.es.us-west-2.aws.found.io:443/anna-conversations-v0/_search [status:200 duration:0.031s]\n",
      "POST https://persyn.es.us-west-2.aws.found.io:443/anna-summaries-v0/_update/xiOkhoMBy5mPdc6PrnHY [status:200 duration:0.028s]\n"
     ]
    },
    {
     "name": "stdout",
     "output_type": "stream",
     "text": [
      "{'_index': 'anna-summaries-v0', '_id': 'KK_zRYQBBNi73XUqt6tH', '_version': 2, 'result': 'updated', '_shards': {'total': 2, 'successful': 2, 'failed': 0}, '_seq_no': 1891, '_primary_term': 17}\n",
      "{'_index': 'anna-summaries-v0', '_id': 'Aa__EYQBBNi73XUq_alh', '_version': 2, 'result': 'updated', '_shards': {'total': 2, 'successful': 2, 'failed': 0}, '_seq_no': 1892, '_primary_term': 17}\n",
      "{'_index': 'anna-summaries-v0', '_id': 'xiOkhoMBy5mPdc6PrnHY', '_version': 2, 'result': 'updated', '_shards': {'total': 2, 'successful': 2, 'failed': 0}, '_seq_no': 1893, '_primary_term': 17}\n"
     ]
    },
    {
     "name": "stderr",
     "output_type": "stream",
     "text": [
      "POST https://persyn.es.us-west-2.aws.found.io:443/anna-summaries-v0/_search [status:200 duration:0.030s]\n",
      "POST https://persyn.es.us-west-2.aws.found.io:443/anna-conversations-v0/_search [status:200 duration:0.032s]\n",
      "POST https://persyn.es.us-west-2.aws.found.io:443/anna-summaries-v0/_update/PuAREYQB6EXxeIxUu3xn [status:200 duration:0.031s]\n",
      "POST https://persyn.es.us-west-2.aws.found.io:443/anna-summaries-v0/_search [status:200 duration:0.022s]\n",
      "POST https://persyn.es.us-west-2.aws.found.io:443/anna-conversations-v0/_search [status:200 duration:0.028s]\n",
      "POST https://persyn.es.us-west-2.aws.found.io:443/anna-summaries-v0/_update/TOCf2YMB6EXxeIxU9XjQ [status:200 duration:0.025s]\n",
      "POST https://persyn.es.us-west-2.aws.found.io:443/anna-summaries-v0/_search [status:200 duration:0.029s]\n",
      "POST https://persyn.es.us-west-2.aws.found.io:443/anna-conversations-v0/_search [status:200 duration:0.027s]\n",
      "POST https://persyn.es.us-west-2.aws.found.io:443/anna-summaries-v0/_update/jyM8pIIBy5mPdc6PV2b6 [status:200 duration:0.027s]\n",
      "POST https://persyn.es.us-west-2.aws.found.io:443/anna-summaries-v0/_search [status:200 duration:0.027s]\n"
     ]
    },
    {
     "name": "stdout",
     "output_type": "stream",
     "text": [
      "{'_index': 'anna-summaries-v0', '_id': 'PuAREYQB6EXxeIxUu3xn', '_version': 2, 'result': 'updated', '_shards': {'total': 2, 'successful': 2, 'failed': 0}, '_seq_no': 1894, '_primary_term': 17}\n",
      "{'_index': 'anna-summaries-v0', '_id': 'TOCf2YMB6EXxeIxU9XjQ', '_version': 2, 'result': 'updated', '_shards': {'total': 2, 'successful': 2, 'failed': 0}, '_seq_no': 1895, '_primary_term': 17}\n",
      "{'_index': 'anna-summaries-v0', '_id': 'jyM8pIIBy5mPdc6PV2b6', '_version': 2, 'result': 'updated', '_shards': {'total': 2, 'successful': 2, 'failed': 0}, '_seq_no': 1896, '_primary_term': 17}\n"
     ]
    },
    {
     "name": "stderr",
     "output_type": "stream",
     "text": [
      "POST https://persyn.es.us-west-2.aws.found.io:443/anna-conversations-v0/_search [status:200 duration:0.021s]\n",
      "POST https://persyn.es.us-west-2.aws.found.io:443/anna-summaries-v0/_update/gq8tkoQBBNi73XUql6_2 [status:200 duration:0.029s]\n",
      "POST https://persyn.es.us-west-2.aws.found.io:443/anna-summaries-v0/_search [status:200 duration:0.025s]\n",
      "POST https://persyn.es.us-west-2.aws.found.io:443/anna-conversations-v0/_search [status:200 duration:0.027s]\n",
      "POST https://persyn.es.us-west-2.aws.found.io:443/anna-summaries-v0/_update/I9SOMIEBBCovfdTkDpcO [status:200 duration:0.032s]\n",
      "POST https://persyn.es.us-west-2.aws.found.io:443/anna-summaries-v0/_search [status:200 duration:0.028s]\n",
      "POST https://persyn.es.us-west-2.aws.found.io:443/anna-conversations-v0/_search [status:200 duration:0.022s]\n",
      "POST https://persyn.es.us-west-2.aws.found.io:443/anna-summaries-v0/_update/FRgvWoAB1O6hlTWgnF7t [status:200 duration:0.026s]\n"
     ]
    },
    {
     "name": "stdout",
     "output_type": "stream",
     "text": [
      "{'_index': 'anna-summaries-v0', '_id': 'gq8tkoQBBNi73XUql6_2', '_version': 2, 'result': 'updated', '_shards': {'total': 2, 'successful': 2, 'failed': 0}, '_seq_no': 1897, '_primary_term': 17}\n",
      "{'_index': 'anna-summaries-v0', '_id': 'I9SOMIEBBCovfdTkDpcO', '_version': 2, 'result': 'updated', '_shards': {'total': 2, 'successful': 2, 'failed': 0}, '_seq_no': 1898, '_primary_term': 17}\n",
      "{'_index': 'anna-summaries-v0', '_id': 'FRgvWoAB1O6hlTWgnF7t', '_version': 2, 'result': 'updated', '_shards': {'total': 2, 'successful': 2, 'failed': 0}, '_seq_no': 1899, '_primary_term': 17}\n"
     ]
    },
    {
     "name": "stderr",
     "output_type": "stream",
     "text": [
      "POST https://persyn.es.us-west-2.aws.found.io:443/anna-summaries-v0/_search [status:200 duration:0.028s]\n",
      "POST https://persyn.es.us-west-2.aws.found.io:443/anna-conversations-v0/_search [status:200 duration:0.026s]\n",
      "POST https://persyn.es.us-west-2.aws.found.io:443/anna-summaries-v0/_update/AtQBQYEBBCovfdTkQJw3 [status:200 duration:0.025s]\n",
      "POST https://persyn.es.us-west-2.aws.found.io:443/anna-summaries-v0/_search [status:200 duration:0.027s]\n",
      "POST https://persyn.es.us-west-2.aws.found.io:443/anna-conversations-v0/_search [status:200 duration:0.031s]\n",
      "POST https://persyn.es.us-west-2.aws.found.io:443/anna-summaries-v0/_update/WNSFCIEBBCovfdTk7owx [status:200 duration:0.030s]\n",
      "POST https://persyn.es.us-west-2.aws.found.io:443/anna-summaries-v0/_search [status:200 duration:0.027s]\n",
      "POST https://persyn.es.us-west-2.aws.found.io:443/anna-conversations-v0/_search [status:200 duration:0.022s]\n",
      "POST https://persyn.es.us-west-2.aws.found.io:443/anna-summaries-v0/_update/xE2PzIIBRfbdi4KAyVJ6 [status:200 duration:0.030s]\n"
     ]
    },
    {
     "name": "stdout",
     "output_type": "stream",
     "text": [
      "{'_index': 'anna-summaries-v0', '_id': 'AtQBQYEBBCovfdTkQJw3', '_version': 2, 'result': 'updated', '_shards': {'total': 2, 'successful': 2, 'failed': 0}, '_seq_no': 1900, '_primary_term': 17}\n",
      "{'_index': 'anna-summaries-v0', '_id': 'WNSFCIEBBCovfdTk7owx', '_version': 2, 'result': 'updated', '_shards': {'total': 2, 'successful': 2, 'failed': 0}, '_seq_no': 1901, '_primary_term': 17}\n",
      "{'_index': 'anna-summaries-v0', '_id': 'xE2PzIIBRfbdi4KAyVJ6', '_version': 2, 'result': 'updated', '_shards': {'total': 2, 'successful': 2, 'failed': 0}, '_seq_no': 1902, '_primary_term': 17}\n"
     ]
    },
    {
     "name": "stderr",
     "output_type": "stream",
     "text": [
      "POST https://persyn.es.us-west-2.aws.found.io:443/anna-summaries-v0/_search [status:200 duration:0.027s]\n",
      "POST https://persyn.es.us-west-2.aws.found.io:443/anna-conversations-v0/_search [status:200 duration:0.026s]\n",
      "POST https://persyn.es.us-west-2.aws.found.io:443/anna-summaries-v0/_update/fuBjiIQB6EXxeIxU3oJI [status:200 duration:0.028s]\n",
      "POST https://persyn.es.us-west-2.aws.found.io:443/anna-summaries-v0/_search [status:200 duration:0.029s]\n",
      "POST https://persyn.es.us-west-2.aws.found.io:443/anna-conversations-v0/_search [status:200 duration:0.028s]\n",
      "POST https://persyn.es.us-west-2.aws.found.io:443/anna-summaries-v0/_update/4hj1cIAB1O6hlTWgmGYa [status:200 duration:0.024s]\n",
      "POST https://persyn.es.us-west-2.aws.found.io:443/anna-summaries-v0/_search [status:200 duration:0.027s]\n",
      "POST https://persyn.es.us-west-2.aws.found.io:443/anna-conversations-v0/_search [status:200 duration:0.026s]\n",
      "POST https://persyn.es.us-west-2.aws.found.io:443/anna-summaries-v0/_update/lE3b1YIBRfbdi4KAh1Om [status:200 duration:0.030s]\n",
      "POST https://persyn.es.us-west-2.aws.found.io:443/anna-summaries-v0/_search [status:200 duration:0.021s]\n"
     ]
    },
    {
     "name": "stdout",
     "output_type": "stream",
     "text": [
      "{'_index': 'anna-summaries-v0', '_id': 'fuBjiIQB6EXxeIxU3oJI', '_version': 2, 'result': 'updated', '_shards': {'total': 2, 'successful': 2, 'failed': 0}, '_seq_no': 1903, '_primary_term': 17}\n",
      "{'_index': 'anna-summaries-v0', '_id': '4hj1cIAB1O6hlTWgmGYa', '_version': 2, 'result': 'updated', '_shards': {'total': 2, 'successful': 2, 'failed': 0}, '_seq_no': 1904, '_primary_term': 17}\n",
      "{'_index': 'anna-summaries-v0', '_id': 'lE3b1YIBRfbdi4KAh1Om', '_version': 2, 'result': 'updated', '_shards': {'total': 2, 'successful': 2, 'failed': 0}, '_seq_no': 1905, '_primary_term': 17}\n"
     ]
    },
    {
     "name": "stderr",
     "output_type": "stream",
     "text": [
      "POST https://persyn.es.us-west-2.aws.found.io:443/anna-conversations-v0/_search [status:200 duration:0.032s]\n",
      "POST https://persyn.es.us-west-2.aws.found.io:443/anna-summaries-v0/_update/LR2oVoIBGYbVpQ0o9bM_ [status:200 duration:0.028s]\n",
      "POST https://persyn.es.us-west-2.aws.found.io:443/anna-summaries-v0/_search [status:200 duration:0.028s]\n",
      "POST https://persyn.es.us-west-2.aws.found.io:443/anna-conversations-v0/_search [status:200 duration:0.031s]\n",
      "POST https://persyn.es.us-west-2.aws.found.io:443/anna-summaries-v0/_update/dNShMIEBBCovfdTkCpe_ [status:200 duration:0.028s]\n",
      "POST https://persyn.es.us-west-2.aws.found.io:443/anna-summaries-v0/_search [status:200 duration:0.036s]\n",
      "POST https://persyn.es.us-west-2.aws.found.io:443/anna-conversations-v0/_search [status:200 duration:0.029s]\n",
      "POST https://persyn.es.us-west-2.aws.found.io:443/anna-summaries-v0/_update/wK95kIQBBNi73XUqsK5R [status:200 duration:0.027s]\n"
     ]
    },
    {
     "name": "stdout",
     "output_type": "stream",
     "text": [
      "{'_index': 'anna-summaries-v0', '_id': 'LR2oVoIBGYbVpQ0o9bM_', '_version': 2, 'result': 'updated', '_shards': {'total': 2, 'successful': 2, 'failed': 0}, '_seq_no': 1906, '_primary_term': 17}\n",
      "{'_index': 'anna-summaries-v0', '_id': 'dNShMIEBBCovfdTkCpe_', '_version': 2, 'result': 'updated', '_shards': {'total': 2, 'successful': 2, 'failed': 0}, '_seq_no': 1907, '_primary_term': 17}\n",
      "{'_index': 'anna-summaries-v0', '_id': 'wK95kIQBBNi73XUqsK5R', '_version': 2, 'result': 'updated', '_shards': {'total': 2, 'successful': 2, 'failed': 0}, '_seq_no': 1908, '_primary_term': 17}\n"
     ]
    },
    {
     "name": "stderr",
     "output_type": "stream",
     "text": [
      "POST https://persyn.es.us-west-2.aws.found.io:443/anna-summaries-v0/_search [status:200 duration:0.029s]\n",
      "POST https://persyn.es.us-west-2.aws.found.io:443/anna-conversations-v0/_search [status:200 duration:0.024s]\n",
      "POST https://persyn.es.us-west-2.aws.found.io:443/anna-summaries-v0/_update/Ma8tj4MBBNi73XUqkaJJ [status:200 duration:0.028s]\n",
      "POST https://persyn.es.us-west-2.aws.found.io:443/anna-summaries-v0/_search [status:200 duration:0.029s]\n",
      "POST https://persyn.es.us-west-2.aws.found.io:443/anna-conversations-v0/_search [status:200 duration:0.031s]\n",
      "POST https://persyn.es.us-west-2.aws.found.io:443/anna-summaries-v0/_update/zK9hEoQBBNi73XUqzakF [status:200 duration:0.031s]\n",
      "POST https://persyn.es.us-west-2.aws.found.io:443/anna-summaries-v0/_search [status:200 duration:0.029s]\n",
      "POST https://persyn.es.us-west-2.aws.found.io:443/anna-conversations-v0/_search [status:200 duration:0.020s]\n",
      "POST https://persyn.es.us-west-2.aws.found.io:443/anna-summaries-v0/_update/W69a84MBBNi73XUqYaQA [status:200 duration:0.030s]\n"
     ]
    },
    {
     "name": "stdout",
     "output_type": "stream",
     "text": [
      "{'_index': 'anna-summaries-v0', '_id': 'Ma8tj4MBBNi73XUqkaJJ', '_version': 2, 'result': 'updated', '_shards': {'total': 2, 'successful': 2, 'failed': 0}, '_seq_no': 1909, '_primary_term': 17}\n",
      "{'_index': 'anna-summaries-v0', '_id': 'zK9hEoQBBNi73XUqzakF', '_version': 2, 'result': 'updated', '_shards': {'total': 2, 'successful': 2, 'failed': 0}, '_seq_no': 1910, '_primary_term': 17}\n",
      "{'_index': 'anna-summaries-v0', '_id': 'W69a84MBBNi73XUqYaQA', '_version': 2, 'result': 'updated', '_shards': {'total': 2, 'successful': 2, 'failed': 0}, '_seq_no': 1911, '_primary_term': 17}\n"
     ]
    },
    {
     "name": "stderr",
     "output_type": "stream",
     "text": [
      "POST https://persyn.es.us-west-2.aws.found.io:443/anna-summaries-v0/_search [status:200 duration:0.030s]\n",
      "POST https://persyn.es.us-west-2.aws.found.io:443/anna-conversations-v0/_search [status:200 duration:0.029s]\n",
      "POST https://persyn.es.us-west-2.aws.found.io:443/anna-summaries-v0/_update/Ua9SnYQBBNi73XUqEbAf [status:200 duration:0.025s]\n",
      "POST https://persyn.es.us-west-2.aws.found.io:443/anna-summaries-v0/_search [status:200 duration:0.029s]\n",
      "POST https://persyn.es.us-west-2.aws.found.io:443/anna-conversations-v0/_search [status:200 duration:0.024s]\n",
      "POST https://persyn.es.us-west-2.aws.found.io:443/anna-summaries-v0/_update/XtSGCIEBBCovfdTkr4zu [status:200 duration:0.023s]\n",
      "POST https://persyn.es.us-west-2.aws.found.io:443/anna-summaries-v0/_search [status:200 duration:0.028s]\n",
      "POST https://persyn.es.us-west-2.aws.found.io:443/anna-conversations-v0/_search [status:200 duration:0.030s]\n",
      "POST https://persyn.es.us-west-2.aws.found.io:443/anna-summaries-v0/_update/lq9d_oMBBNi73XUqfKXk [status:200 duration:0.031s]\n"
     ]
    },
    {
     "name": "stdout",
     "output_type": "stream",
     "text": [
      "{'_index': 'anna-summaries-v0', '_id': 'Ua9SnYQBBNi73XUqEbAf', '_version': 2, 'result': 'updated', '_shards': {'total': 2, 'successful': 2, 'failed': 0}, '_seq_no': 1912, '_primary_term': 17}\n",
      "{'_index': 'anna-summaries-v0', '_id': 'XtSGCIEBBCovfdTkr4zu', '_version': 2, 'result': 'updated', '_shards': {'total': 2, 'successful': 2, 'failed': 0}, '_seq_no': 1913, '_primary_term': 17}\n",
      "{'_index': 'anna-summaries-v0', '_id': 'lq9d_oMBBNi73XUqfKXk', '_version': 2, 'result': 'updated', '_shards': {'total': 2, 'successful': 2, 'failed': 0}, '_seq_no': 1914, '_primary_term': 17}\n"
     ]
    },
    {
     "name": "stderr",
     "output_type": "stream",
     "text": [
      "POST https://persyn.es.us-west-2.aws.found.io:443/anna-summaries-v0/_search [status:200 duration:0.037s]\n",
      "POST https://persyn.es.us-west-2.aws.found.io:443/anna-conversations-v0/_search [status:200 duration:0.028s]\n",
      "POST https://persyn.es.us-west-2.aws.found.io:443/anna-summaries-v0/_update/9a_xB4QBBNi73XUqh6dG [status:200 duration:0.030s]\n",
      "POST https://persyn.es.us-west-2.aws.found.io:443/anna-summaries-v0/_search [status:200 duration:0.027s]\n",
      "POST https://persyn.es.us-west-2.aws.found.io:443/anna-conversations-v0/_search [status:200 duration:0.030s]\n",
      "POST https://persyn.es.us-west-2.aws.found.io:443/anna-summaries-v0/_update/_hgPCH8B1O6hlTWgQ0r_ [status:200 duration:0.030s]\n",
      "POST https://persyn.es.us-west-2.aws.found.io:443/anna-summaries-v0/_search [status:200 duration:0.026s]\n",
      "POST https://persyn.es.us-west-2.aws.found.io:443/anna-conversations-v0/_search [status:200 duration:0.027s]\n",
      "POST https://persyn.es.us-west-2.aws.found.io:443/anna-summaries-v0/_update/heCIEYQB6EXxeIxUG3wb [status:200 duration:0.029s]\n"
     ]
    },
    {
     "name": "stdout",
     "output_type": "stream",
     "text": [
      "{'_index': 'anna-summaries-v0', '_id': '9a_xB4QBBNi73XUqh6dG', '_version': 2, 'result': 'updated', '_shards': {'total': 2, 'successful': 2, 'failed': 0}, '_seq_no': 1915, '_primary_term': 17}\n",
      "{'_index': 'anna-summaries-v0', '_id': '_hgPCH8B1O6hlTWgQ0r_', '_version': 2, 'result': 'updated', '_shards': {'total': 2, 'successful': 2, 'failed': 0}, '_seq_no': 1916, '_primary_term': 17}\n",
      "{'_index': 'anna-summaries-v0', '_id': 'heCIEYQB6EXxeIxUG3wb', '_version': 2, 'result': 'updated', '_shards': {'total': 2, 'successful': 2, 'failed': 0}, '_seq_no': 1917, '_primary_term': 17}\n"
     ]
    },
    {
     "name": "stderr",
     "output_type": "stream",
     "text": [
      "POST https://persyn.es.us-west-2.aws.found.io:443/anna-summaries-v0/_search [status:200 duration:0.026s]\n",
      "POST https://persyn.es.us-west-2.aws.found.io:443/anna-conversations-v0/_search [status:200 duration:0.027s]\n",
      "POST https://persyn.es.us-west-2.aws.found.io:443/anna-summaries-v0/_update/R9SWMIEBBCovfdTk6JeG [status:200 duration:0.030s]\n",
      "POST https://persyn.es.us-west-2.aws.found.io:443/anna-summaries-v0/_search [status:200 duration:0.026s]\n",
      "POST https://persyn.es.us-west-2.aws.found.io:443/anna-conversations-v0/_search [status:200 duration:0.026s]\n",
      "POST https://persyn.es.us-west-2.aws.found.io:443/anna-summaries-v0/_update/SODQkIMB6EXxeIxUonbH [status:200 duration:0.028s]\n",
      "POST https://persyn.es.us-west-2.aws.found.io:443/anna-summaries-v0/_search [status:200 duration:0.028s]\n",
      "POST https://persyn.es.us-west-2.aws.found.io:443/anna-conversations-v0/_search [status:200 duration:0.023s]\n",
      "POST https://persyn.es.us-west-2.aws.found.io:443/anna-summaries-v0/_update/9RhBXoAB1O6hlTWg91-d [status:200 duration:0.023s]\n",
      "POST https://persyn.es.us-west-2.aws.found.io:443/anna-summaries-v0/_search [status:200 duration:0.029s]\n"
     ]
    },
    {
     "name": "stdout",
     "output_type": "stream",
     "text": [
      "{'_index': 'anna-summaries-v0', '_id': 'R9SWMIEBBCovfdTk6JeG', '_version': 2, 'result': 'updated', '_shards': {'total': 2, 'successful': 2, 'failed': 0}, '_seq_no': 1918, '_primary_term': 17}\n",
      "{'_index': 'anna-summaries-v0', '_id': 'SODQkIMB6EXxeIxUonbH', '_version': 2, 'result': 'updated', '_shards': {'total': 2, 'successful': 2, 'failed': 0}, '_seq_no': 1919, '_primary_term': 17}\n",
      "{'_index': 'anna-summaries-v0', '_id': '9RhBXoAB1O6hlTWg91-d', '_version': 2, 'result': 'updated', '_shards': {'total': 2, 'successful': 2, 'failed': 0}, '_seq_no': 1920, '_primary_term': 17}\n"
     ]
    },
    {
     "name": "stderr",
     "output_type": "stream",
     "text": [
      "POST https://persyn.es.us-west-2.aws.found.io:443/anna-conversations-v0/_search [status:200 duration:0.028s]\n",
      "POST https://persyn.es.us-west-2.aws.found.io:443/anna-summaries-v0/_update/29TCfIEBBCovfdTkt6mJ [status:200 duration:0.028s]\n",
      "POST https://persyn.es.us-west-2.aws.found.io:443/anna-summaries-v0/_search [status:200 duration:0.027s]\n",
      "POST https://persyn.es.us-west-2.aws.found.io:443/anna-conversations-v0/_search [status:200 duration:0.028s]\n",
      "POST https://persyn.es.us-west-2.aws.found.io:443/anna-summaries-v0/_update/59TUMIEBBCovfdTkWpdW [status:200 duration:0.030s]\n",
      "POST https://persyn.es.us-west-2.aws.found.io:443/anna-summaries-v0/_search [status:200 duration:0.028s]\n",
      "POST https://persyn.es.us-west-2.aws.found.io:443/anna-conversations-v0/_search [status:200 duration:0.020s]\n",
      "POST https://persyn.es.us-west-2.aws.found.io:443/anna-summaries-v0/_update/la8sT4QBBNi73XUqGquP [status:200 duration:0.029s]\n",
      "POST https://persyn.es.us-west-2.aws.found.io:443/anna-summaries-v0/_search [status:200 duration:0.020s]\n"
     ]
    },
    {
     "name": "stdout",
     "output_type": "stream",
     "text": [
      "{'_index': 'anna-summaries-v0', '_id': '29TCfIEBBCovfdTkt6mJ', '_version': 2, 'result': 'updated', '_shards': {'total': 2, 'successful': 2, 'failed': 0}, '_seq_no': 1921, '_primary_term': 17}\n",
      "{'_index': 'anna-summaries-v0', '_id': '59TUMIEBBCovfdTkWpdW', '_version': 2, 'result': 'updated', '_shards': {'total': 2, 'successful': 2, 'failed': 0}, '_seq_no': 1922, '_primary_term': 17}\n",
      "{'_index': 'anna-summaries-v0', '_id': 'la8sT4QBBNi73XUqGquP', '_version': 2, 'result': 'updated', '_shards': {'total': 2, 'successful': 2, 'failed': 0}, '_seq_no': 1923, '_primary_term': 17}\n"
     ]
    },
    {
     "name": "stderr",
     "output_type": "stream",
     "text": [
      "POST https://persyn.es.us-west-2.aws.found.io:443/anna-conversations-v0/_search [status:200 duration:0.021s]\n",
      "POST https://persyn.es.us-west-2.aws.found.io:443/anna-summaries-v0/_update/UNSFCIEBBCovfdTkt4zS [status:200 duration:0.028s]\n",
      "POST https://persyn.es.us-west-2.aws.found.io:443/anna-summaries-v0/_search [status:200 duration:0.021s]\n",
      "POST https://persyn.es.us-west-2.aws.found.io:443/anna-conversations-v0/_search [status:200 duration:0.023s]\n",
      "POST https://persyn.es.us-west-2.aws.found.io:443/anna-summaries-v0/_update/hdSeBoEBBCovfdTkyov8 [status:200 duration:0.023s]\n",
      "POST https://persyn.es.us-west-2.aws.found.io:443/anna-summaries-v0/_search [status:200 duration:0.022s]\n",
      "POST https://persyn.es.us-west-2.aws.found.io:443/anna-conversations-v0/_search [status:200 duration:0.027s]\n",
      "POST https://persyn.es.us-west-2.aws.found.io:443/anna-summaries-v0/_update/dB0hJ4IBGYbVpQ0o3qFU [status:200 duration:0.034s]\n",
      "POST https://persyn.es.us-west-2.aws.found.io:443/anna-summaries-v0/_search [status:200 duration:0.027s]\n"
     ]
    },
    {
     "name": "stdout",
     "output_type": "stream",
     "text": [
      "{'_index': 'anna-summaries-v0', '_id': 'UNSFCIEBBCovfdTkt4zS', '_version': 2, 'result': 'updated', '_shards': {'total': 2, 'successful': 2, 'failed': 0}, '_seq_no': 1924, '_primary_term': 17}\n",
      "{'_index': 'anna-summaries-v0', '_id': 'hdSeBoEBBCovfdTkyov8', '_version': 2, 'result': 'updated', '_shards': {'total': 2, 'successful': 2, 'failed': 0}, '_seq_no': 1925, '_primary_term': 17}\n",
      "{'_index': 'anna-summaries-v0', '_id': 'dB0hJ4IBGYbVpQ0o3qFU', '_version': 2, 'result': 'updated', '_shards': {'total': 2, 'successful': 2, 'failed': 0}, '_seq_no': 1926, '_primary_term': 17}\n"
     ]
    },
    {
     "name": "stderr",
     "output_type": "stream",
     "text": [
      "POST https://persyn.es.us-west-2.aws.found.io:443/anna-conversations-v0/_search [status:200 duration:0.021s]\n",
      "POST https://persyn.es.us-west-2.aws.found.io:443/anna-summaries-v0/_update/QRi1a4AB1O6hlTWg_WRw [status:200 duration:0.025s]\n",
      "POST https://persyn.es.us-west-2.aws.found.io:443/anna-summaries-v0/_search [status:200 duration:0.026s]\n",
      "POST https://persyn.es.us-west-2.aws.found.io:443/anna-conversations-v0/_search [status:200 duration:0.032s]\n",
      "POST https://persyn.es.us-west-2.aws.found.io:443/anna-summaries-v0/_update/_SNHwoIBy5mPdc6P7Wd4 [status:200 duration:0.025s]\n",
      "POST https://persyn.es.us-west-2.aws.found.io:443/anna-summaries-v0/_search [status:200 duration:0.028s]\n",
      "POST https://persyn.es.us-west-2.aws.found.io:443/anna-conversations-v0/_search [status:200 duration:0.029s]\n",
      "POST https://persyn.es.us-west-2.aws.found.io:443/anna-summaries-v0/_update/z-BHOoQB6EXxeIxU135p [status:200 duration:0.031s]\n"
     ]
    },
    {
     "name": "stdout",
     "output_type": "stream",
     "text": [
      "{'_index': 'anna-summaries-v0', '_id': 'QRi1a4AB1O6hlTWg_WRw', '_version': 2, 'result': 'updated', '_shards': {'total': 2, 'successful': 2, 'failed': 0}, '_seq_no': 1927, '_primary_term': 17}\n",
      "{'_index': 'anna-summaries-v0', '_id': '_SNHwoIBy5mPdc6P7Wd4', '_version': 2, 'result': 'updated', '_shards': {'total': 2, 'successful': 2, 'failed': 0}, '_seq_no': 1928, '_primary_term': 17}\n",
      "{'_index': 'anna-summaries-v0', '_id': 'z-BHOoQB6EXxeIxU135p', '_version': 2, 'result': 'updated', '_shards': {'total': 2, 'successful': 2, 'failed': 0}, '_seq_no': 1929, '_primary_term': 17}\n"
     ]
    },
    {
     "name": "stderr",
     "output_type": "stream",
     "text": [
      "POST https://persyn.es.us-west-2.aws.found.io:443/anna-summaries-v0/_search [status:200 duration:0.029s]\n",
      "POST https://persyn.es.us-west-2.aws.found.io:443/anna-conversations-v0/_search [status:200 duration:0.028s]\n",
      "POST https://persyn.es.us-west-2.aws.found.io:443/anna-summaries-v0/_update/s69p-4MBBNi73XUq0KTM [status:200 duration:0.032s]\n",
      "POST https://persyn.es.us-west-2.aws.found.io:443/anna-summaries-v0/_search [status:200 duration:0.027s]\n",
      "POST https://persyn.es.us-west-2.aws.found.io:443/anna-conversations-v0/_search [status:200 duration:0.022s]\n",
      "POST https://persyn.es.us-west-2.aws.found.io:443/anna-summaries-v0/_update/cuDxboQB6EXxeIxUGIE_ [status:200 duration:0.027s]\n",
      "POST https://persyn.es.us-west-2.aws.found.io:443/anna-summaries-v0/_search [status:200 duration:0.027s]\n",
      "POST https://persyn.es.us-west-2.aws.found.io:443/anna-conversations-v0/_search [status:200 duration:0.028s]\n",
      "POST https://persyn.es.us-west-2.aws.found.io:443/anna-summaries-v0/_update/TNSDYIEBBCovfdTkh6P0 [status:200 duration:0.030s]\n"
     ]
    },
    {
     "name": "stdout",
     "output_type": "stream",
     "text": [
      "{'_index': 'anna-summaries-v0', '_id': 's69p-4MBBNi73XUq0KTM', '_version': 2, 'result': 'updated', '_shards': {'total': 2, 'successful': 2, 'failed': 0}, '_seq_no': 1930, '_primary_term': 17}\n",
      "{'_index': 'anna-summaries-v0', '_id': 'cuDxboQB6EXxeIxUGIE_', '_version': 2, 'result': 'updated', '_shards': {'total': 2, 'successful': 2, 'failed': 0}, '_seq_no': 1931, '_primary_term': 17}\n",
      "{'_index': 'anna-summaries-v0', '_id': 'TNSDYIEBBCovfdTkh6P0', '_version': 2, 'result': 'updated', '_shards': {'total': 2, 'successful': 2, 'failed': 0}, '_seq_no': 1932, '_primary_term': 17}\n"
     ]
    },
    {
     "name": "stderr",
     "output_type": "stream",
     "text": [
      "POST https://persyn.es.us-west-2.aws.found.io:443/anna-summaries-v0/_search [status:200 duration:0.029s]\n",
      "POST https://persyn.es.us-west-2.aws.found.io:443/anna-conversations-v0/_search [status:200 duration:0.029s]\n",
      "POST https://persyn.es.us-west-2.aws.found.io:443/anna-summaries-v0/_update/1q_HZIQBBNi73XUqe6yF [status:200 duration:0.028s]\n",
      "POST https://persyn.es.us-west-2.aws.found.io:443/anna-summaries-v0/_search [status:200 duration:0.027s]\n",
      "POST https://persyn.es.us-west-2.aws.found.io:443/anna-conversations-v0/_search [status:200 duration:0.023s]\n",
      "POST https://persyn.es.us-west-2.aws.found.io:443/anna-summaries-v0/_update/itSxL4EBBCovfdTkYZW7 [status:200 duration:0.031s]\n",
      "POST https://persyn.es.us-west-2.aws.found.io:443/anna-summaries-v0/_search [status:200 duration:0.030s]\n",
      "POST https://persyn.es.us-west-2.aws.found.io:443/anna-conversations-v0/_search [status:200 duration:0.029s]\n",
      "POST https://persyn.es.us-west-2.aws.found.io:443/anna-summaries-v0/_update/0012lYIBRfbdi4KA80y1 [status:200 duration:0.030s]\n"
     ]
    },
    {
     "name": "stdout",
     "output_type": "stream",
     "text": [
      "{'_index': 'anna-summaries-v0', '_id': '1q_HZIQBBNi73XUqe6yF', '_version': 2, 'result': 'updated', '_shards': {'total': 2, 'successful': 2, 'failed': 0}, '_seq_no': 1933, '_primary_term': 17}\n",
      "{'_index': 'anna-summaries-v0', '_id': 'itSxL4EBBCovfdTkYZW7', '_version': 2, 'result': 'updated', '_shards': {'total': 2, 'successful': 2, 'failed': 0}, '_seq_no': 1934, '_primary_term': 17}\n",
      "{'_index': 'anna-summaries-v0', '_id': '0012lYIBRfbdi4KA80y1', '_version': 2, 'result': 'updated', '_shards': {'total': 2, 'successful': 2, 'failed': 0}, '_seq_no': 1935, '_primary_term': 17}\n"
     ]
    },
    {
     "name": "stderr",
     "output_type": "stream",
     "text": [
      "POST https://persyn.es.us-west-2.aws.found.io:443/anna-summaries-v0/_search [status:200 duration:0.029s]\n",
      "POST https://persyn.es.us-west-2.aws.found.io:443/anna-conversations-v0/_search [status:200 duration:0.027s]\n",
      "POST https://persyn.es.us-west-2.aws.found.io:443/anna-summaries-v0/_update/Cq9rQ4QBBNi73XUqj6uJ [status:200 duration:0.031s]\n",
      "POST https://persyn.es.us-west-2.aws.found.io:443/anna-summaries-v0/_search [status:200 duration:0.023s]\n",
      "POST https://persyn.es.us-west-2.aws.found.io:443/anna-conversations-v0/_search [status:200 duration:0.031s]\n",
      "POST https://persyn.es.us-west-2.aws.found.io:443/anna-summaries-v0/_update/ZiO7aoMBy5mPdc6Pu294 [status:200 duration:0.025s]\n",
      "POST https://persyn.es.us-west-2.aws.found.io:443/anna-summaries-v0/_search [status:200 duration:0.025s]\n",
      "POST https://persyn.es.us-west-2.aws.found.io:443/anna-conversations-v0/_search [status:200 duration:0.028s]\n",
      "POST https://persyn.es.us-west-2.aws.found.io:443/anna-summaries-v0/_update/H69naIQBBNi73XUqQK1L [status:200 duration:0.025s]\n",
      "POST https://persyn.es.us-west-2.aws.found.io:443/anna-summaries-v0/_search [status:200 duration:0.024s]\n"
     ]
    },
    {
     "name": "stdout",
     "output_type": "stream",
     "text": [
      "{'_index': 'anna-summaries-v0', '_id': 'Cq9rQ4QBBNi73XUqj6uJ', '_version': 2, 'result': 'updated', '_shards': {'total': 2, 'successful': 2, 'failed': 0}, '_seq_no': 1936, '_primary_term': 17}\n",
      "{'_index': 'anna-summaries-v0', '_id': 'ZiO7aoMBy5mPdc6Pu294', '_version': 2, 'result': 'updated', '_shards': {'total': 2, 'successful': 2, 'failed': 0}, '_seq_no': 1937, '_primary_term': 17}\n",
      "{'_index': 'anna-summaries-v0', '_id': 'H69naIQBBNi73XUqQK1L', '_version': 2, 'result': 'updated', '_shards': {'total': 2, 'successful': 2, 'failed': 0}, '_seq_no': 1938, '_primary_term': 17}\n"
     ]
    },
    {
     "name": "stderr",
     "output_type": "stream",
     "text": [
      "POST https://persyn.es.us-west-2.aws.found.io:443/anna-conversations-v0/_search [status:200 duration:0.029s]\n",
      "POST https://persyn.es.us-west-2.aws.found.io:443/anna-summaries-v0/_update/6hjt04AB1O6hlTWgs3OI [status:200 duration:0.030s]\n",
      "POST https://persyn.es.us-west-2.aws.found.io:443/anna-summaries-v0/_search [status:200 duration:0.021s]\n",
      "POST https://persyn.es.us-west-2.aws.found.io:443/anna-conversations-v0/_search [status:200 duration:0.026s]\n",
      "POST https://persyn.es.us-west-2.aws.found.io:443/anna-summaries-v0/_update/ROC1aYQB6EXxeIxU9oGM [status:200 duration:0.024s]\n",
      "POST https://persyn.es.us-west-2.aws.found.io:443/anna-summaries-v0/_search [status:200 duration:0.024s]\n",
      "POST https://persyn.es.us-west-2.aws.found.io:443/anna-conversations-v0/_search [status:200 duration:0.026s]\n",
      "POST https://persyn.es.us-west-2.aws.found.io:443/anna-summaries-v0/_update/Ak2WJ4MBRfbdi4KAi1cN [status:200 duration:0.024s]\n",
      "POST https://persyn.es.us-west-2.aws.found.io:443/anna-summaries-v0/_search [status:200 duration:0.026s]\n"
     ]
    },
    {
     "name": "stdout",
     "output_type": "stream",
     "text": [
      "{'_index': 'anna-summaries-v0', '_id': '6hjt04AB1O6hlTWgs3OI', '_version': 2, 'result': 'updated', '_shards': {'total': 2, 'successful': 2, 'failed': 0}, '_seq_no': 1939, '_primary_term': 17}\n",
      "{'_index': 'anna-summaries-v0', '_id': 'ROC1aYQB6EXxeIxU9oGM', '_version': 2, 'result': 'updated', '_shards': {'total': 2, 'successful': 2, 'failed': 0}, '_seq_no': 1940, '_primary_term': 17}\n",
      "{'_index': 'anna-summaries-v0', '_id': 'Ak2WJ4MBRfbdi4KAi1cN', '_version': 2, 'result': 'updated', '_shards': {'total': 2, 'successful': 2, 'failed': 0}, '_seq_no': 1941, '_primary_term': 17}\n"
     ]
    },
    {
     "name": "stderr",
     "output_type": "stream",
     "text": [
      "POST https://persyn.es.us-west-2.aws.found.io:443/anna-conversations-v0/_search [status:200 duration:0.026s]\n",
      "POST https://persyn.es.us-west-2.aws.found.io:443/anna-summaries-v0/_update/oa9jkoQBBNi73XUqBq_T [status:200 duration:0.030s]\n",
      "POST https://persyn.es.us-west-2.aws.found.io:443/anna-summaries-v0/_search [status:200 duration:0.026s]\n",
      "POST https://persyn.es.us-west-2.aws.found.io:443/anna-conversations-v0/_search [status:200 duration:0.024s]\n",
      "POST https://persyn.es.us-west-2.aws.found.io:443/anna-summaries-v0/_update/Sa84_oMBBNi73XUqKqWG [status:200 duration:0.024s]\n",
      "POST https://persyn.es.us-west-2.aws.found.io:443/anna-summaries-v0/_search [status:200 duration:0.026s]\n",
      "POST https://persyn.es.us-west-2.aws.found.io:443/anna-conversations-v0/_search [status:200 duration:0.027s]\n",
      "POST https://persyn.es.us-west-2.aws.found.io:443/anna-summaries-v0/_update/pK_fqoQBBNi73XUq1LL0 [status:200 duration:0.032s]\n",
      "POST https://persyn.es.us-west-2.aws.found.io:443/anna-summaries-v0/_search [status:200 duration:0.026s]\n"
     ]
    },
    {
     "name": "stdout",
     "output_type": "stream",
     "text": [
      "{'_index': 'anna-summaries-v0', '_id': 'oa9jkoQBBNi73XUqBq_T', '_version': 2, 'result': 'updated', '_shards': {'total': 2, 'successful': 2, 'failed': 0}, '_seq_no': 1942, '_primary_term': 17}\n",
      "{'_index': 'anna-summaries-v0', '_id': 'Sa84_oMBBNi73XUqKqWG', '_version': 2, 'result': 'updated', '_shards': {'total': 2, 'successful': 2, 'failed': 0}, '_seq_no': 1943, '_primary_term': 17}\n",
      "{'_index': 'anna-summaries-v0', '_id': 'pK_fqoQBBNi73XUq1LL0', '_version': 2, 'result': 'updated', '_shards': {'total': 2, 'successful': 2, 'failed': 0}, '_seq_no': 1944, '_primary_term': 17}\n"
     ]
    },
    {
     "name": "stderr",
     "output_type": "stream",
     "text": [
      "POST https://persyn.es.us-west-2.aws.found.io:443/anna-conversations-v0/_search [status:200 duration:0.027s]\n",
      "POST https://persyn.es.us-west-2.aws.found.io:443/anna-summaries-v0/_update/v-DqFoQB6EXxeIxUhX1d [status:200 duration:0.025s]\n",
      "POST https://persyn.es.us-west-2.aws.found.io:443/anna-summaries-v0/_search [status:200 duration:0.028s]\n",
      "POST https://persyn.es.us-west-2.aws.found.io:443/anna-conversations-v0/_search [status:200 duration:0.028s]\n",
      "POST https://persyn.es.us-west-2.aws.found.io:443/anna-summaries-v0/_update/9tR-MIEBBCovfdTkMZal [status:200 duration:0.030s]\n",
      "POST https://persyn.es.us-west-2.aws.found.io:443/anna-summaries-v0/_search [status:200 duration:0.028s]\n",
      "POST https://persyn.es.us-west-2.aws.found.io:443/anna-conversations-v0/_search [status:200 duration:0.020s]\n",
      "POST https://persyn.es.us-west-2.aws.found.io:443/anna-summaries-v0/_update/46_G-4MBBNi73XUq8qT4 [status:200 duration:0.030s]\n"
     ]
    },
    {
     "name": "stdout",
     "output_type": "stream",
     "text": [
      "{'_index': 'anna-summaries-v0', '_id': 'v-DqFoQB6EXxeIxUhX1d', '_version': 2, 'result': 'updated', '_shards': {'total': 2, 'successful': 2, 'failed': 0}, '_seq_no': 1945, '_primary_term': 17}\n",
      "{'_index': 'anna-summaries-v0', '_id': '9tR-MIEBBCovfdTkMZal', '_version': 2, 'result': 'updated', '_shards': {'total': 2, 'successful': 2, 'failed': 0}, '_seq_no': 1946, '_primary_term': 17}\n",
      "{'_index': 'anna-summaries-v0', '_id': '46_G-4MBBNi73XUq8qT4', '_version': 2, 'result': 'updated', '_shards': {'total': 2, 'successful': 2, 'failed': 0}, '_seq_no': 1947, '_primary_term': 17}\n"
     ]
    },
    {
     "name": "stderr",
     "output_type": "stream",
     "text": [
      "POST https://persyn.es.us-west-2.aws.found.io:443/anna-summaries-v0/_search [status:200 duration:0.023s]\n",
      "POST https://persyn.es.us-west-2.aws.found.io:443/anna-conversations-v0/_search [status:200 duration:0.027s]\n",
      "POST https://persyn.es.us-west-2.aws.found.io:443/anna-summaries-v0/_update/oxhUboAB1O6hlTWg7GUL [status:200 duration:0.025s]\n",
      "POST https://persyn.es.us-west-2.aws.found.io:443/anna-summaries-v0/_search [status:200 duration:0.029s]\n",
      "POST https://persyn.es.us-west-2.aws.found.io:443/anna-conversations-v0/_search [status:200 duration:0.021s]\n",
      "POST https://persyn.es.us-west-2.aws.found.io:443/anna-summaries-v0/_update/YuBCBoQB6EXxeIxUsHuW [status:200 duration:0.026s]\n",
      "POST https://persyn.es.us-west-2.aws.found.io:443/anna-summaries-v0/_search [status:200 duration:0.027s]\n",
      "POST https://persyn.es.us-west-2.aws.found.io:443/anna-conversations-v0/_search [status:200 duration:0.029s]\n",
      "POST https://persyn.es.us-west-2.aws.found.io:443/anna-summaries-v0/_update/zuB0m4MB6EXxeIxU_nY_ [status:200 duration:0.031s]\n"
     ]
    },
    {
     "name": "stdout",
     "output_type": "stream",
     "text": [
      "{'_index': 'anna-summaries-v0', '_id': 'oxhUboAB1O6hlTWg7GUL', '_version': 2, 'result': 'updated', '_shards': {'total': 2, 'successful': 2, 'failed': 0}, '_seq_no': 1948, '_primary_term': 17}\n",
      "{'_index': 'anna-summaries-v0', '_id': 'YuBCBoQB6EXxeIxUsHuW', '_version': 2, 'result': 'updated', '_shards': {'total': 2, 'successful': 2, 'failed': 0}, '_seq_no': 1949, '_primary_term': 17}\n",
      "{'_index': 'anna-summaries-v0', '_id': 'zuB0m4MB6EXxeIxU_nY_', '_version': 2, 'result': 'updated', '_shards': {'total': 2, 'successful': 2, 'failed': 0}, '_seq_no': 1950, '_primary_term': 17}\n"
     ]
    },
    {
     "name": "stderr",
     "output_type": "stream",
     "text": [
      "POST https://persyn.es.us-west-2.aws.found.io:443/anna-summaries-v0/_search [status:200 duration:0.027s]\n",
      "POST https://persyn.es.us-west-2.aws.found.io:443/anna-conversations-v0/_search [status:200 duration:0.028s]\n",
      "POST https://persyn.es.us-west-2.aws.found.io:443/anna-summaries-v0/_update/4-D-04MB6EXxeIxUlHcx [status:200 duration:0.029s]\n",
      "POST https://persyn.es.us-west-2.aws.found.io:443/anna-summaries-v0/_search [status:200 duration:0.027s]\n",
      "POST https://persyn.es.us-west-2.aws.found.io:443/anna-conversations-v0/_search [status:200 duration:0.028s]\n",
      "POST https://persyn.es.us-west-2.aws.found.io:443/anna-summaries-v0/_update/W-ApooQB6EXxeIxU8YXO [status:200 duration:0.023s]\n",
      "POST https://persyn.es.us-west-2.aws.found.io:443/anna-summaries-v0/_search [status:200 duration:0.026s]\n",
      "POST https://persyn.es.us-west-2.aws.found.io:443/anna-conversations-v0/_search [status:200 duration:0.029s]\n",
      "POST https://persyn.es.us-west-2.aws.found.io:443/anna-summaries-v0/_update/r9TZBoEBBCovfdTk9ost [status:200 duration:0.028s]\n"
     ]
    },
    {
     "name": "stdout",
     "output_type": "stream",
     "text": [
      "{'_index': 'anna-summaries-v0', '_id': '4-D-04MB6EXxeIxUlHcx', '_version': 2, 'result': 'updated', '_shards': {'total': 2, 'successful': 2, 'failed': 0}, '_seq_no': 1951, '_primary_term': 17}\n",
      "{'_index': 'anna-summaries-v0', '_id': 'W-ApooQB6EXxeIxU8YXO', '_version': 2, 'result': 'updated', '_shards': {'total': 2, 'successful': 2, 'failed': 0}, '_seq_no': 1952, '_primary_term': 17}\n",
      "{'_index': 'anna-summaries-v0', '_id': 'r9TZBoEBBCovfdTk9ost', '_version': 2, 'result': 'updated', '_shards': {'total': 2, 'successful': 2, 'failed': 0}, '_seq_no': 1953, '_primary_term': 17}\n"
     ]
    },
    {
     "name": "stderr",
     "output_type": "stream",
     "text": [
      "POST https://persyn.es.us-west-2.aws.found.io:443/anna-summaries-v0/_search [status:200 duration:0.028s]\n",
      "POST https://persyn.es.us-west-2.aws.found.io:443/anna-conversations-v0/_search [status:200 duration:0.025s]\n",
      "POST https://persyn.es.us-west-2.aws.found.io:443/anna-summaries-v0/_update/qhhodoAB1O6hlTWgIGn2 [status:200 duration:0.026s]\n",
      "POST https://persyn.es.us-west-2.aws.found.io:443/anna-summaries-v0/_search [status:200 duration:0.025s]\n",
      "POST https://persyn.es.us-west-2.aws.found.io:443/anna-conversations-v0/_search [status:200 duration:0.024s]\n",
      "POST https://persyn.es.us-west-2.aws.found.io:443/anna-summaries-v0/_update/bq8AT4QBBNi73XUqhqtL [status:200 duration:0.025s]\n",
      "POST https://persyn.es.us-west-2.aws.found.io:443/anna-summaries-v0/_search [status:200 duration:0.027s]\n",
      "POST https://persyn.es.us-west-2.aws.found.io:443/anna-conversations-v0/_search [status:200 duration:0.021s]\n",
      "POST https://persyn.es.us-west-2.aws.found.io:443/anna-summaries-v0/_update/X69CEoQBBNi73XUqpKmo [status:200 duration:0.028s]\n",
      "POST https://persyn.es.us-west-2.aws.found.io:443/anna-summaries-v0/_search [status:200 duration:0.027s]\n"
     ]
    },
    {
     "name": "stdout",
     "output_type": "stream",
     "text": [
      "{'_index': 'anna-summaries-v0', '_id': 'qhhodoAB1O6hlTWgIGn2', '_version': 2, 'result': 'updated', '_shards': {'total': 2, 'successful': 2, 'failed': 0}, '_seq_no': 1954, '_primary_term': 17}\n",
      "{'_index': 'anna-summaries-v0', '_id': 'bq8AT4QBBNi73XUqhqtL', '_version': 2, 'result': 'updated', '_shards': {'total': 2, 'successful': 2, 'failed': 0}, '_seq_no': 1955, '_primary_term': 17}\n",
      "{'_index': 'anna-summaries-v0', '_id': 'X69CEoQBBNi73XUqpKmo', '_version': 2, 'result': 'updated', '_shards': {'total': 2, 'successful': 2, 'failed': 0}, '_seq_no': 1956, '_primary_term': 17}\n"
     ]
    },
    {
     "name": "stderr",
     "output_type": "stream",
     "text": [
      "POST https://persyn.es.us-west-2.aws.found.io:443/anna-conversations-v0/_search [status:200 duration:0.027s]\n",
      "POST https://persyn.es.us-west-2.aws.found.io:443/anna-summaries-v0/_update/AdSA5YEBBCovfdTklr_E [status:200 duration:0.026s]\n",
      "POST https://persyn.es.us-west-2.aws.found.io:443/anna-summaries-v0/_search [status:200 duration:0.024s]\n",
      "POST https://persyn.es.us-west-2.aws.found.io:443/anna-conversations-v0/_search [status:200 duration:0.027s]\n",
      "POST https://persyn.es.us-west-2.aws.found.io:443/anna-summaries-v0/_update/quD-kYQB6EXxeIxUWYNb [status:200 duration:0.028s]\n",
      "POST https://persyn.es.us-west-2.aws.found.io:443/anna-summaries-v0/_search [status:200 duration:0.024s]\n",
      "POST https://persyn.es.us-west-2.aws.found.io:443/anna-conversations-v0/_search [status:200 duration:0.026s]\n",
      "POST https://persyn.es.us-west-2.aws.found.io:443/anna-summaries-v0/_update/YBhv6YAB1O6hlTWgK3SH [status:200 duration:0.033s]\n",
      "POST https://persyn.es.us-west-2.aws.found.io:443/anna-summaries-v0/_search [status:200 duration:0.022s]\n"
     ]
    },
    {
     "name": "stdout",
     "output_type": "stream",
     "text": [
      "{'_index': 'anna-summaries-v0', '_id': 'AdSA5YEBBCovfdTklr_E', '_version': 2, 'result': 'updated', '_shards': {'total': 2, 'successful': 2, 'failed': 0}, '_seq_no': 1957, '_primary_term': 17}\n",
      "{'_index': 'anna-summaries-v0', '_id': 'quD-kYQB6EXxeIxUWYNb', '_version': 2, 'result': 'updated', '_shards': {'total': 2, 'successful': 2, 'failed': 0}, '_seq_no': 1958, '_primary_term': 17}\n",
      "{'_index': 'anna-summaries-v0', '_id': 'YBhv6YAB1O6hlTWgK3SH', '_version': 2, 'result': 'updated', '_shards': {'total': 2, 'successful': 2, 'failed': 0}, '_seq_no': 1959, '_primary_term': 17}\n"
     ]
    },
    {
     "name": "stderr",
     "output_type": "stream",
     "text": [
      "POST https://persyn.es.us-west-2.aws.found.io:443/anna-conversations-v0/_search [status:200 duration:0.032s]\n",
      "POST https://persyn.es.us-west-2.aws.found.io:443/anna-summaries-v0/_update/x00SHoMBRfbdi4KAgFap [status:200 duration:0.026s]\n",
      "POST https://persyn.es.us-west-2.aws.found.io:443/anna-summaries-v0/_search [status:200 duration:0.028s]\n",
      "POST https://persyn.es.us-west-2.aws.found.io:443/anna-conversations-v0/_search [status:200 duration:0.021s]\n",
      "POST https://persyn.es.us-west-2.aws.found.io:443/anna-summaries-v0/_update/Wa_MbIQBBNi73XUqZK1T [status:200 duration:0.027s]\n",
      "POST https://persyn.es.us-west-2.aws.found.io:443/anna-summaries-v0/_search [status:200 duration:0.026s]\n",
      "POST https://persyn.es.us-west-2.aws.found.io:443/anna-conversations-v0/_search [status:200 duration:0.025s]\n",
      "POST https://persyn.es.us-west-2.aws.found.io:443/anna-summaries-v0/_update/liP6yoIBy5mPdc6PkWj8 [status:200 duration:0.025s]\n",
      "POST https://persyn.es.us-west-2.aws.found.io:443/anna-summaries-v0/_search [status:200 duration:0.022s]\n"
     ]
    },
    {
     "name": "stdout",
     "output_type": "stream",
     "text": [
      "{'_index': 'anna-summaries-v0', '_id': 'x00SHoMBRfbdi4KAgFap', '_version': 2, 'result': 'updated', '_shards': {'total': 2, 'successful': 2, 'failed': 0}, '_seq_no': 1960, '_primary_term': 17}\n",
      "{'_index': 'anna-summaries-v0', '_id': 'Wa_MbIQBBNi73XUqZK1T', '_version': 2, 'result': 'updated', '_shards': {'total': 2, 'successful': 2, 'failed': 0}, '_seq_no': 1961, '_primary_term': 17}\n",
      "{'_index': 'anna-summaries-v0', '_id': 'liP6yoIBy5mPdc6PkWj8', '_version': 2, 'result': 'updated', '_shards': {'total': 2, 'successful': 2, 'failed': 0}, '_seq_no': 1962, '_primary_term': 17}\n"
     ]
    },
    {
     "name": "stderr",
     "output_type": "stream",
     "text": [
      "POST https://persyn.es.us-west-2.aws.found.io:443/anna-conversations-v0/_search [status:200 duration:0.030s]\n",
      "POST https://persyn.es.us-west-2.aws.found.io:443/anna-summaries-v0/_update/vk35aoMBRfbdi4KAEllK [status:200 duration:0.028s]\n",
      "POST https://persyn.es.us-west-2.aws.found.io:443/anna-summaries-v0/_search [status:200 duration:0.030s]\n",
      "POST https://persyn.es.us-west-2.aws.found.io:443/anna-conversations-v0/_search [status:200 duration:0.030s]\n",
      "POST https://persyn.es.us-west-2.aws.found.io:443/anna-summaries-v0/_update/6K_p4oMBBNi73XUq76NQ [status:200 duration:0.026s]\n",
      "POST https://persyn.es.us-west-2.aws.found.io:443/anna-summaries-v0/_search [status:200 duration:0.029s]\n",
      "POST https://persyn.es.us-west-2.aws.found.io:443/anna-conversations-v0/_search [status:200 duration:0.030s]\n",
      "POST https://persyn.es.us-west-2.aws.found.io:443/anna-summaries-v0/_update/5Bg7BH8B1O6hlTWgn0qR [status:200 duration:0.032s]\n"
     ]
    },
    {
     "name": "stdout",
     "output_type": "stream",
     "text": [
      "{'_index': 'anna-summaries-v0', '_id': 'vk35aoMBRfbdi4KAEllK', '_version': 2, 'result': 'updated', '_shards': {'total': 2, 'successful': 2, 'failed': 0}, '_seq_no': 1963, '_primary_term': 17}\n",
      "{'_index': 'anna-summaries-v0', '_id': '6K_p4oMBBNi73XUq76NQ', '_version': 2, 'result': 'updated', '_shards': {'total': 2, 'successful': 2, 'failed': 0}, '_seq_no': 1964, '_primary_term': 17}\n",
      "{'_index': 'anna-summaries-v0', '_id': '5Bg7BH8B1O6hlTWgn0qR', '_version': 2, 'result': 'updated', '_shards': {'total': 2, 'successful': 2, 'failed': 0}, '_seq_no': 1965, '_primary_term': 17}\n"
     ]
    },
    {
     "name": "stderr",
     "output_type": "stream",
     "text": [
      "POST https://persyn.es.us-west-2.aws.found.io:443/anna-summaries-v0/_search [status:200 duration:0.031s]\n",
      "POST https://persyn.es.us-west-2.aws.found.io:443/anna-conversations-v0/_search [status:200 duration:0.030s]\n",
      "POST https://persyn.es.us-west-2.aws.found.io:443/anna-summaries-v0/_update/BK_S_YMBBNi73XUq56WQ [status:200 duration:0.026s]\n",
      "POST https://persyn.es.us-west-2.aws.found.io:443/anna-summaries-v0/_search [status:200 duration:0.027s]\n",
      "POST https://persyn.es.us-west-2.aws.found.io:443/anna-conversations-v0/_search [status:200 duration:0.027s]\n",
      "POST https://persyn.es.us-west-2.aws.found.io:443/anna-summaries-v0/_update/RuArd4QB6EXxeIxUWYIM [status:200 duration:0.025s]\n",
      "POST https://persyn.es.us-west-2.aws.found.io:443/anna-summaries-v0/_search [status:200 duration:0.029s]\n",
      "POST https://persyn.es.us-west-2.aws.found.io:443/anna-conversations-v0/_search [status:200 duration:0.031s]\n",
      "POST https://persyn.es.us-west-2.aws.found.io:443/anna-summaries-v0/_update/GeAK2IMB6EXxeIxUenjE [status:200 duration:0.025s]\n"
     ]
    },
    {
     "name": "stdout",
     "output_type": "stream",
     "text": [
      "{'_index': 'anna-summaries-v0', '_id': 'BK_S_YMBBNi73XUq56WQ', '_version': 2, 'result': 'updated', '_shards': {'total': 2, 'successful': 2, 'failed': 0}, '_seq_no': 1966, '_primary_term': 17}\n",
      "{'_index': 'anna-summaries-v0', '_id': 'RuArd4QB6EXxeIxUWYIM', '_version': 2, 'result': 'updated', '_shards': {'total': 2, 'successful': 2, 'failed': 0}, '_seq_no': 1967, '_primary_term': 17}\n",
      "{'_index': 'anna-summaries-v0', '_id': 'GeAK2IMB6EXxeIxUenjE', '_version': 2, 'result': 'updated', '_shards': {'total': 2, 'successful': 2, 'failed': 0}, '_seq_no': 1968, '_primary_term': 17}\n"
     ]
    },
    {
     "name": "stderr",
     "output_type": "stream",
     "text": [
      "POST https://persyn.es.us-west-2.aws.found.io:443/anna-summaries-v0/_search [status:200 duration:0.025s]\n",
      "POST https://persyn.es.us-west-2.aws.found.io:443/anna-conversations-v0/_search [status:200 duration:0.021s]\n",
      "POST https://persyn.es.us-west-2.aws.found.io:443/anna-summaries-v0/_update/F-D5l4QB6EXxeIxUb4Ue [status:200 duration:0.028s]\n",
      "POST https://persyn.es.us-west-2.aws.found.io:443/anna-summaries-v0/_search [status:200 duration:0.025s]\n",
      "POST https://persyn.es.us-west-2.aws.found.io:443/anna-conversations-v0/_search [status:200 duration:0.028s]\n",
      "POST https://persyn.es.us-west-2.aws.found.io:443/anna-summaries-v0/_update/TRiQdYAB1O6hlTWguWme [status:200 duration:0.025s]\n",
      "POST https://persyn.es.us-west-2.aws.found.io:443/anna-summaries-v0/_search [status:200 duration:0.028s]\n",
      "POST https://persyn.es.us-west-2.aws.found.io:443/anna-conversations-v0/_search [status:200 duration:0.029s]\n",
      "POST https://persyn.es.us-west-2.aws.found.io:443/anna-summaries-v0/_update/T-Ac84MB6EXxeIxUmnlT [status:200 duration:0.028s]\n"
     ]
    },
    {
     "name": "stdout",
     "output_type": "stream",
     "text": [
      "{'_index': 'anna-summaries-v0', '_id': 'F-D5l4QB6EXxeIxUb4Ue', '_version': 2, 'result': 'updated', '_shards': {'total': 2, 'successful': 2, 'failed': 0}, '_seq_no': 1969, '_primary_term': 17}\n",
      "{'_index': 'anna-summaries-v0', '_id': 'TRiQdYAB1O6hlTWguWme', '_version': 2, 'result': 'updated', '_shards': {'total': 2, 'successful': 2, 'failed': 0}, '_seq_no': 1970, '_primary_term': 17}\n",
      "{'_index': 'anna-summaries-v0', '_id': 'T-Ac84MB6EXxeIxUmnlT', '_version': 2, 'result': 'updated', '_shards': {'total': 2, 'successful': 2, 'failed': 0}, '_seq_no': 1971, '_primary_term': 17}\n"
     ]
    },
    {
     "name": "stderr",
     "output_type": "stream",
     "text": [
      "POST https://persyn.es.us-west-2.aws.found.io:443/anna-summaries-v0/_search [status:200 duration:0.027s]\n",
      "POST https://persyn.es.us-west-2.aws.found.io:443/anna-conversations-v0/_search [status:200 duration:0.024s]\n",
      "POST https://persyn.es.us-west-2.aws.found.io:443/anna-summaries-v0/_update/RR1YBIIBGYbVpQ0oa434 [status:200 duration:0.024s]\n",
      "POST https://persyn.es.us-west-2.aws.found.io:443/anna-summaries-v0/_search [status:200 duration:0.029s]\n",
      "POST https://persyn.es.us-west-2.aws.found.io:443/anna-conversations-v0/_search [status:200 duration:0.028s]\n",
      "POST https://persyn.es.us-west-2.aws.found.io:443/anna-summaries-v0/_update/Mq-qEoQBBNi73XUq0Kq- [status:200 duration:0.027s]\n",
      "POST https://persyn.es.us-west-2.aws.found.io:443/anna-summaries-v0/_search [status:200 duration:0.023s]\n",
      "POST https://persyn.es.us-west-2.aws.found.io:443/anna-conversations-v0/_search [status:200 duration:0.024s]\n",
      "POST https://persyn.es.us-west-2.aws.found.io:443/anna-summaries-v0/_update/qa9m-4MBBNi73XUqJqS2 [status:200 duration:0.031s]\n",
      "POST https://persyn.es.us-west-2.aws.found.io:443/anna-summaries-v0/_search [status:200 duration:0.020s]\n"
     ]
    },
    {
     "name": "stdout",
     "output_type": "stream",
     "text": [
      "{'_index': 'anna-summaries-v0', '_id': 'RR1YBIIBGYbVpQ0oa434', '_version': 2, 'result': 'updated', '_shards': {'total': 2, 'successful': 2, 'failed': 0}, '_seq_no': 1972, '_primary_term': 17}\n",
      "{'_index': 'anna-summaries-v0', '_id': 'Mq-qEoQBBNi73XUq0Kq-', '_version': 2, 'result': 'updated', '_shards': {'total': 2, 'successful': 2, 'failed': 0}, '_seq_no': 1973, '_primary_term': 17}\n",
      "{'_index': 'anna-summaries-v0', '_id': 'qa9m-4MBBNi73XUqJqS2', '_version': 2, 'result': 'updated', '_shards': {'total': 2, 'successful': 2, 'failed': 0}, '_seq_no': 1974, '_primary_term': 17}\n"
     ]
    },
    {
     "name": "stderr",
     "output_type": "stream",
     "text": [
      "POST https://persyn.es.us-west-2.aws.found.io:443/anna-conversations-v0/_search [status:200 duration:0.025s]\n",
      "POST https://persyn.es.us-west-2.aws.found.io:443/anna-summaries-v0/_update/ZCN3uYIBy5mPdc6Pv2dl [status:200 duration:0.024s]\n",
      "POST https://persyn.es.us-west-2.aws.found.io:443/anna-summaries-v0/_search [status:200 duration:0.020s]\n",
      "POST https://persyn.es.us-west-2.aws.found.io:443/anna-conversations-v0/_search [status:200 duration:0.024s]\n",
      "POST https://persyn.es.us-west-2.aws.found.io:443/anna-summaries-v0/_update/nNRxA4EBBCovfdTknIqd [status:200 duration:0.023s]\n",
      "POST https://persyn.es.us-west-2.aws.found.io:443/anna-summaries-v0/_search [status:200 duration:0.025s]\n",
      "POST https://persyn.es.us-west-2.aws.found.io:443/anna-conversations-v0/_search [status:200 duration:0.021s]\n",
      "POST https://persyn.es.us-west-2.aws.found.io:443/anna-summaries-v0/_update/pU12y4IBRfbdi4KAYVJZ [status:200 duration:0.026s]\n",
      "POST https://persyn.es.us-west-2.aws.found.io:443/anna-summaries-v0/_search [status:200 duration:0.021s]\n",
      "POST https://persyn.es.us-west-2.aws.found.io:443/anna-conversations-v0/_search [status:200 duration:0.020s]\n"
     ]
    },
    {
     "name": "stdout",
     "output_type": "stream",
     "text": [
      "{'_index': 'anna-summaries-v0', '_id': 'ZCN3uYIBy5mPdc6Pv2dl', '_version': 2, 'result': 'updated', '_shards': {'total': 2, 'successful': 2, 'failed': 0}, '_seq_no': 1975, '_primary_term': 17}\n",
      "{'_index': 'anna-summaries-v0', '_id': 'nNRxA4EBBCovfdTknIqd', '_version': 2, 'result': 'updated', '_shards': {'total': 2, 'successful': 2, 'failed': 0}, '_seq_no': 1976, '_primary_term': 17}\n",
      "{'_index': 'anna-summaries-v0', '_id': 'pU12y4IBRfbdi4KAYVJZ', '_version': 2, 'result': 'updated', '_shards': {'total': 2, 'successful': 2, 'failed': 0}, '_seq_no': 1977, '_primary_term': 17}\n"
     ]
    },
    {
     "name": "stderr",
     "output_type": "stream",
     "text": [
      "POST https://persyn.es.us-west-2.aws.found.io:443/anna-summaries-v0/_update/ZOBlJoQB6EXxeIxUsH5s [status:200 duration:0.024s]\n",
      "POST https://persyn.es.us-west-2.aws.found.io:443/anna-summaries-v0/_search [status:200 duration:0.018s]\n",
      "POST https://persyn.es.us-west-2.aws.found.io:443/anna-conversations-v0/_search [status:200 duration:0.020s]\n",
      "POST https://persyn.es.us-west-2.aws.found.io:443/anna-summaries-v0/_update/VBjiXoAB1O6hlTWgy2CE [status:200 duration:0.022s]\n",
      "POST https://persyn.es.us-west-2.aws.found.io:443/anna-summaries-v0/_search [status:200 duration:0.023s]\n",
      "POST https://persyn.es.us-west-2.aws.found.io:443/anna-conversations-v0/_search [status:200 duration:0.025s]\n",
      "POST https://persyn.es.us-west-2.aws.found.io:443/anna-summaries-v0/_update/mCMdDIMBy5mPdc6PrmuG [status:200 duration:0.028s]\n",
      "POST https://persyn.es.us-west-2.aws.found.io:443/anna-summaries-v0/_search [status:200 duration:0.024s]\n",
      "POST https://persyn.es.us-west-2.aws.found.io:443/anna-conversations-v0/_search [status:200 duration:0.028s]\n"
     ]
    },
    {
     "name": "stdout",
     "output_type": "stream",
     "text": [
      "{'_index': 'anna-summaries-v0', '_id': 'ZOBlJoQB6EXxeIxUsH5s', '_version': 2, 'result': 'updated', '_shards': {'total': 2, 'successful': 2, 'failed': 0}, '_seq_no': 1978, '_primary_term': 17}\n",
      "{'_index': 'anna-summaries-v0', '_id': 'VBjiXoAB1O6hlTWgy2CE', '_version': 2, 'result': 'updated', '_shards': {'total': 2, 'successful': 2, 'failed': 0}, '_seq_no': 1979, '_primary_term': 17}\n",
      "{'_index': 'anna-summaries-v0', '_id': 'mCMdDIMBy5mPdc6PrmuG', '_version': 2, 'result': 'updated', '_shards': {'total': 2, 'successful': 2, 'failed': 0}, '_seq_no': 1980, '_primary_term': 17}\n"
     ]
    },
    {
     "name": "stderr",
     "output_type": "stream",
     "text": [
      "POST https://persyn.es.us-west-2.aws.found.io:443/anna-summaries-v0/_update/9NQLsYEBBCovfdTk7rUm [status:200 duration:0.038s]\n",
      "POST https://persyn.es.us-west-2.aws.found.io:443/anna-summaries-v0/_search [status:200 duration:0.019s]\n",
      "POST https://persyn.es.us-west-2.aws.found.io:443/anna-conversations-v0/_search [status:200 duration:0.022s]\n",
      "POST https://persyn.es.us-west-2.aws.found.io:443/anna-summaries-v0/_update/q02eqYIBRfbdi4KAAU6I [status:200 duration:0.029s]\n",
      "POST https://persyn.es.us-west-2.aws.found.io:443/anna-summaries-v0/_search [status:200 duration:0.022s]\n",
      "POST https://persyn.es.us-west-2.aws.found.io:443/anna-conversations-v0/_search [status:200 duration:0.021s]\n",
      "POST https://persyn.es.us-west-2.aws.found.io:443/anna-summaries-v0/_update/iE3X1YIBRfbdi4KADlMb [status:200 duration:0.029s]\n",
      "POST https://persyn.es.us-west-2.aws.found.io:443/anna-summaries-v0/_search [status:200 duration:0.028s]\n"
     ]
    },
    {
     "name": "stdout",
     "output_type": "stream",
     "text": [
      "{'_index': 'anna-summaries-v0', '_id': '9NQLsYEBBCovfdTk7rUm', '_version': 2, 'result': 'updated', '_shards': {'total': 2, 'successful': 2, 'failed': 0}, '_seq_no': 1981, '_primary_term': 17}\n",
      "{'_index': 'anna-summaries-v0', '_id': 'q02eqYIBRfbdi4KAAU6I', '_version': 2, 'result': 'updated', '_shards': {'total': 2, 'successful': 2, 'failed': 0}, '_seq_no': 1982, '_primary_term': 17}\n",
      "{'_index': 'anna-summaries-v0', '_id': 'iE3X1YIBRfbdi4KADlMb', '_version': 2, 'result': 'updated', '_shards': {'total': 2, 'successful': 2, 'failed': 0}, '_seq_no': 1983, '_primary_term': 17}\n"
     ]
    },
    {
     "name": "stderr",
     "output_type": "stream",
     "text": [
      "POST https://persyn.es.us-west-2.aws.found.io:443/anna-conversations-v0/_search [status:200 duration:0.027s]\n",
      "POST https://persyn.es.us-west-2.aws.found.io:443/anna-summaries-v0/_update/XNTQ7oABBCovfdTk7oVT [status:200 duration:0.034s]\n",
      "POST https://persyn.es.us-west-2.aws.found.io:443/anna-summaries-v0/_search [status:200 duration:0.025s]\n",
      "POST https://persyn.es.us-west-2.aws.found.io:443/anna-conversations-v0/_search [status:200 duration:0.022s]\n",
      "POST https://persyn.es.us-west-2.aws.found.io:443/anna-summaries-v0/_update/568IrIQBBNi73XUqBbMa [status:200 duration:0.028s]\n",
      "POST https://persyn.es.us-west-2.aws.found.io:443/anna-summaries-v0/_search [status:200 duration:0.030s]\n",
      "POST https://persyn.es.us-west-2.aws.found.io:443/anna-conversations-v0/_search [status:200 duration:0.027s]\n",
      "POST https://persyn.es.us-west-2.aws.found.io:443/anna-summaries-v0/_update/2U2WH4MBRfbdi4KADla- [status:200 duration:0.023s]\n",
      "POST https://persyn.es.us-west-2.aws.found.io:443/anna-summaries-v0/_search [status:200 duration:0.027s]\n"
     ]
    },
    {
     "name": "stdout",
     "output_type": "stream",
     "text": [
      "{'_index': 'anna-summaries-v0', '_id': 'XNTQ7oABBCovfdTk7oVT', '_version': 2, 'result': 'updated', '_shards': {'total': 2, 'successful': 2, 'failed': 0}, '_seq_no': 1984, '_primary_term': 17}\n",
      "{'_index': 'anna-summaries-v0', '_id': '568IrIQBBNi73XUqBbMa', '_version': 2, 'result': 'updated', '_shards': {'total': 2, 'successful': 2, 'failed': 0}, '_seq_no': 1985, '_primary_term': 17}\n",
      "{'_index': 'anna-summaries-v0', '_id': '2U2WH4MBRfbdi4KADla-', '_version': 2, 'result': 'updated', '_shards': {'total': 2, 'successful': 2, 'failed': 0}, '_seq_no': 1986, '_primary_term': 17}\n"
     ]
    },
    {
     "name": "stderr",
     "output_type": "stream",
     "text": [
      "POST https://persyn.es.us-west-2.aws.found.io:443/anna-conversations-v0/_search [status:200 duration:0.022s]\n",
      "POST https://persyn.es.us-west-2.aws.found.io:443/anna-summaries-v0/_update/5R1EBIIBGYbVpQ0o_ox1 [status:200 duration:0.031s]\n",
      "POST https://persyn.es.us-west-2.aws.found.io:443/anna-summaries-v0/_search [status:200 duration:0.022s]\n",
      "POST https://persyn.es.us-west-2.aws.found.io:443/anna-conversations-v0/_search [status:200 duration:0.025s]\n",
      "POST https://persyn.es.us-west-2.aws.found.io:443/anna-summaries-v0/_update/EE2WyIIBRfbdi4KAHVL_ [status:200 duration:0.022s]\n",
      "POST https://persyn.es.us-west-2.aws.found.io:443/anna-summaries-v0/_search [status:200 duration:0.020s]\n",
      "POST https://persyn.es.us-west-2.aws.found.io:443/anna-conversations-v0/_search [status:200 duration:0.020s]\n",
      "POST https://persyn.es.us-west-2.aws.found.io:443/anna-summaries-v0/_update/6uCbl4QB6EXxeIxUI4QH [status:200 duration:0.027s]\n",
      "POST https://persyn.es.us-west-2.aws.found.io:443/anna-summaries-v0/_search [status:200 duration:0.021s]\n",
      "POST https://persyn.es.us-west-2.aws.found.io:443/anna-conversations-v0/_search [status:200 duration:0.019s]\n"
     ]
    },
    {
     "name": "stdout",
     "output_type": "stream",
     "text": [
      "{'_index': 'anna-summaries-v0', '_id': '5R1EBIIBGYbVpQ0o_ox1', '_version': 2, 'result': 'updated', '_shards': {'total': 2, 'successful': 2, 'failed': 0}, '_seq_no': 1987, '_primary_term': 17}\n",
      "{'_index': 'anna-summaries-v0', '_id': 'EE2WyIIBRfbdi4KAHVL_', '_version': 2, 'result': 'updated', '_shards': {'total': 2, 'successful': 2, 'failed': 0}, '_seq_no': 1988, '_primary_term': 17}\n",
      "{'_index': 'anna-summaries-v0', '_id': '6uCbl4QB6EXxeIxUI4QH', '_version': 2, 'result': 'updated', '_shards': {'total': 2, 'successful': 2, 'failed': 0}, '_seq_no': 1989, '_primary_term': 17}\n"
     ]
    },
    {
     "name": "stderr",
     "output_type": "stream",
     "text": [
      "POST https://persyn.es.us-west-2.aws.found.io:443/anna-summaries-v0/_update/x-D2uoQB6EXxeIxUYYfc [status:200 duration:0.022s]\n",
      "POST https://persyn.es.us-west-2.aws.found.io:443/anna-summaries-v0/_search [status:200 duration:0.023s]\n",
      "POST https://persyn.es.us-west-2.aws.found.io:443/anna-conversations-v0/_search [status:200 duration:0.020s]\n",
      "POST https://persyn.es.us-west-2.aws.found.io:443/anna-summaries-v0/_update/g69PcoQBBNi73XUqga1z [status:200 duration:0.022s]\n",
      "POST https://persyn.es.us-west-2.aws.found.io:443/anna-summaries-v0/_search [status:200 duration:0.019s]\n",
      "POST https://persyn.es.us-west-2.aws.found.io:443/anna-conversations-v0/_search [status:200 duration:0.023s]\n",
      "POST https://persyn.es.us-west-2.aws.found.io:443/anna-summaries-v0/_update/v9QBF4EBBCovfdTkyo_Q [status:200 duration:0.021s]\n",
      "POST https://persyn.es.us-west-2.aws.found.io:443/anna-summaries-v0/_search [status:200 duration:0.020s]\n",
      "POST https://persyn.es.us-west-2.aws.found.io:443/anna-conversations-v0/_search [status:200 duration:0.021s]\n",
      "POST https://persyn.es.us-west-2.aws.found.io:443/anna-summaries-v0/_update/suD3sIQB6EXxeIxUNYed [status:200 duration:0.022s]\n"
     ]
    },
    {
     "name": "stdout",
     "output_type": "stream",
     "text": [
      "{'_index': 'anna-summaries-v0', '_id': 'x-D2uoQB6EXxeIxUYYfc', '_version': 2, 'result': 'updated', '_shards': {'total': 2, 'successful': 2, 'failed': 0}, '_seq_no': 1990, '_primary_term': 17}\n",
      "{'_index': 'anna-summaries-v0', '_id': 'g69PcoQBBNi73XUqga1z', '_version': 2, 'result': 'updated', '_shards': {'total': 2, 'successful': 2, 'failed': 0}, '_seq_no': 1991, '_primary_term': 17}\n",
      "{'_index': 'anna-summaries-v0', '_id': 'v9QBF4EBBCovfdTkyo_Q', '_version': 2, 'result': 'updated', '_shards': {'total': 2, 'successful': 2, 'failed': 0}, '_seq_no': 1992, '_primary_term': 17}\n",
      "{'_index': 'anna-summaries-v0', '_id': 'suD3sIQB6EXxeIxUNYed', '_version': 2, 'result': 'updated', '_shards': {'total': 2, 'successful': 2, 'failed': 0}, '_seq_no': 1993, '_primary_term': 17}\n"
     ]
    },
    {
     "name": "stderr",
     "output_type": "stream",
     "text": [
      "POST https://persyn.es.us-west-2.aws.found.io:443/anna-summaries-v0/_search [status:200 duration:0.024s]\n",
      "POST https://persyn.es.us-west-2.aws.found.io:443/anna-conversations-v0/_search [status:200 duration:0.021s]\n",
      "POST https://persyn.es.us-west-2.aws.found.io:443/anna-summaries-v0/_update/_RiFYYAB1O6hlTWgTWCw [status:200 duration:0.027s]\n",
      "POST https://persyn.es.us-west-2.aws.found.io:443/anna-summaries-v0/_search [status:200 duration:0.019s]\n",
      "POST https://persyn.es.us-west-2.aws.found.io:443/anna-conversations-v0/_search [status:200 duration:0.020s]\n",
      "POST https://persyn.es.us-west-2.aws.found.io:443/anna-summaries-v0/_update/-yNHcoMBy5mPdc6Pj3Df [status:200 duration:0.026s]\n",
      "POST https://persyn.es.us-west-2.aws.found.io:443/anna-summaries-v0/_search [status:200 duration:0.020s]\n",
      "POST https://persyn.es.us-west-2.aws.found.io:443/anna-conversations-v0/_search [status:200 duration:0.020s]\n",
      "POST https://persyn.es.us-west-2.aws.found.io:443/anna-summaries-v0/_update/VOBcJoQB6EXxeIxUw36E [status:200 duration:0.028s]\n",
      "POST https://persyn.es.us-west-2.aws.found.io:443/anna-summaries-v0/_search [status:200 duration:0.020s]\n",
      "POST https://persyn.es.us-west-2.aws.found.io:443/anna-conversations-v0/_search [status:200 duration:0.022s]\n"
     ]
    },
    {
     "name": "stdout",
     "output_type": "stream",
     "text": [
      "{'_index': 'anna-summaries-v0', '_id': '_RiFYYAB1O6hlTWgTWCw', '_version': 2, 'result': 'updated', '_shards': {'total': 2, 'successful': 2, 'failed': 0}, '_seq_no': 1994, '_primary_term': 17}\n",
      "{'_index': 'anna-summaries-v0', '_id': '-yNHcoMBy5mPdc6Pj3Df', '_version': 2, 'result': 'updated', '_shards': {'total': 2, 'successful': 2, 'failed': 0}, '_seq_no': 1995, '_primary_term': 17}\n",
      "{'_index': 'anna-summaries-v0', '_id': 'VOBcJoQB6EXxeIxUw36E', '_version': 2, 'result': 'updated', '_shards': {'total': 2, 'successful': 2, 'failed': 0}, '_seq_no': 1996, '_primary_term': 17}\n"
     ]
    },
    {
     "name": "stderr",
     "output_type": "stream",
     "text": [
      "POST https://persyn.es.us-west-2.aws.found.io:443/anna-summaries-v0/_update/m-BniIQB6EXxeIxUnYIT [status:200 duration:0.027s]\n",
      "POST https://persyn.es.us-west-2.aws.found.io:443/anna-summaries-v0/_search [status:200 duration:0.031s]\n",
      "POST https://persyn.es.us-west-2.aws.found.io:443/anna-conversations-v0/_search [status:200 duration:0.020s]\n",
      "POST https://persyn.es.us-west-2.aws.found.io:443/anna-summaries-v0/_update/8xgp2H4B1O6hlTWgvkY3 [status:200 duration:0.025s]\n",
      "POST https://persyn.es.us-west-2.aws.found.io:443/anna-summaries-v0/_search [status:200 duration:0.099s]\n"
     ]
    },
    {
     "name": "stdout",
     "output_type": "stream",
     "text": [
      "{'_index': 'anna-summaries-v0', '_id': 'm-BniIQB6EXxeIxUnYIT', '_version': 2, 'result': 'updated', '_shards': {'total': 2, 'successful': 2, 'failed': 0}, '_seq_no': 1997, '_primary_term': 17}\n",
      "{'_index': 'anna-summaries-v0', '_id': '8xgp2H4B1O6hlTWgvkY3', '_version': 2, 'result': 'updated', '_shards': {'total': 2, 'successful': 2, 'failed': 0}, '_seq_no': 1998, '_primary_term': 17}\n"
     ]
    },
    {
     "name": "stderr",
     "output_type": "stream",
     "text": [
      "POST https://persyn.es.us-west-2.aws.found.io:443/anna-conversations-v0/_search [status:200 duration:0.025s]\n",
      "POST https://persyn.es.us-west-2.aws.found.io:443/anna-summaries-v0/_update/TU2lcYMBRfbdi4KAwVoI [status:200 duration:0.024s]\n",
      "POST https://persyn.es.us-west-2.aws.found.io:443/anna-summaries-v0/_search [status:200 duration:0.025s]\n",
      "POST https://persyn.es.us-west-2.aws.found.io:443/anna-conversations-v0/_search [status:200 duration:0.025s]\n",
      "POST https://persyn.es.us-west-2.aws.found.io:443/anna-summaries-v0/_update/1OBHO4QB6EXxeIxUNn65 [status:200 duration:0.022s]\n",
      "POST https://persyn.es.us-west-2.aws.found.io:443/anna-summaries-v0/_search [status:200 duration:0.021s]\n",
      "POST https://persyn.es.us-west-2.aws.found.io:443/anna-conversations-v0/_search [status:200 duration:0.021s]\n",
      "POST https://persyn.es.us-west-2.aws.found.io:443/anna-summaries-v0/_update/T-BSrIQB6EXxeIxUXIdC [status:200 duration:0.031s]\n",
      "POST https://persyn.es.us-west-2.aws.found.io:443/anna-summaries-v0/_search [status:200 duration:0.021s]\n",
      "POST https://persyn.es.us-west-2.aws.found.io:443/anna-conversations-v0/_search [status:200 duration:0.022s]\n"
     ]
    },
    {
     "name": "stdout",
     "output_type": "stream",
     "text": [
      "{'_index': 'anna-summaries-v0', '_id': 'TU2lcYMBRfbdi4KAwVoI', '_version': 2, 'result': 'updated', '_shards': {'total': 2, 'successful': 2, 'failed': 0}, '_seq_no': 1999, '_primary_term': 17}\n",
      "{'_index': 'anna-summaries-v0', '_id': '1OBHO4QB6EXxeIxUNn65', '_version': 2, 'result': 'updated', '_shards': {'total': 2, 'successful': 2, 'failed': 0}, '_seq_no': 2000, '_primary_term': 17}\n",
      "{'_index': 'anna-summaries-v0', '_id': 'T-BSrIQB6EXxeIxUXIdC', '_version': 2, 'result': 'updated', '_shards': {'total': 2, 'successful': 2, 'failed': 0}, '_seq_no': 2001, '_primary_term': 17}\n"
     ]
    },
    {
     "name": "stderr",
     "output_type": "stream",
     "text": [
      "POST https://persyn.es.us-west-2.aws.found.io:443/anna-summaries-v0/_update/RuAPBoQB6EXxeIxUoXvG [status:200 duration:0.030s]\n",
      "POST https://persyn.es.us-west-2.aws.found.io:443/anna-summaries-v0/_search [status:200 duration:0.028s]\n",
      "POST https://persyn.es.us-west-2.aws.found.io:443/anna-conversations-v0/_search [status:200 duration:0.022s]\n",
      "POST https://persyn.es.us-west-2.aws.found.io:443/anna-summaries-v0/_update/7Bjd8n8B1O6hlTWgAkyw [status:200 duration:0.031s]\n",
      "POST https://persyn.es.us-west-2.aws.found.io:443/anna-summaries-v0/_search [status:200 duration:0.019s]\n",
      "POST https://persyn.es.us-west-2.aws.found.io:443/anna-conversations-v0/_search [status:200 duration:0.028s]\n",
      "POST https://persyn.es.us-west-2.aws.found.io:443/anna-summaries-v0/_update/gCOJKYMBy5mPdc6Pa2xD [status:200 duration:0.026s]\n",
      "POST https://persyn.es.us-west-2.aws.found.io:443/anna-summaries-v0/_search [status:200 duration:0.020s]\n"
     ]
    },
    {
     "name": "stdout",
     "output_type": "stream",
     "text": [
      "{'_index': 'anna-summaries-v0', '_id': 'RuAPBoQB6EXxeIxUoXvG', '_version': 2, 'result': 'updated', '_shards': {'total': 2, 'successful': 2, 'failed': 0}, '_seq_no': 2002, '_primary_term': 17}\n",
      "{'_index': 'anna-summaries-v0', '_id': '7Bjd8n8B1O6hlTWgAkyw', '_version': 2, 'result': 'updated', '_shards': {'total': 2, 'successful': 2, 'failed': 0}, '_seq_no': 2003, '_primary_term': 17}\n",
      "{'_index': 'anna-summaries-v0', '_id': 'gCOJKYMBy5mPdc6Pa2xD', '_version': 2, 'result': 'updated', '_shards': {'total': 2, 'successful': 2, 'failed': 0}, '_seq_no': 2004, '_primary_term': 17}\n"
     ]
    },
    {
     "name": "stderr",
     "output_type": "stream",
     "text": [
      "POST https://persyn.es.us-west-2.aws.found.io:443/anna-conversations-v0/_search [status:200 duration:0.023s]\n",
      "POST https://persyn.es.us-west-2.aws.found.io:443/anna-summaries-v0/_update/LNT2L4EBBCovfdTkx5Zy [status:200 duration:0.031s]\n",
      "POST https://persyn.es.us-west-2.aws.found.io:443/anna-summaries-v0/_search [status:200 duration:0.019s]\n",
      "POST https://persyn.es.us-west-2.aws.found.io:443/anna-conversations-v0/_search [status:200 duration:0.025s]\n",
      "POST https://persyn.es.us-west-2.aws.found.io:443/anna-summaries-v0/_update/ceBeiIQB6EXxeIxUbYL- [status:200 duration:0.025s]\n",
      "POST https://persyn.es.us-west-2.aws.found.io:443/anna-summaries-v0/_search [status:200 duration:0.024s]\n",
      "POST https://persyn.es.us-west-2.aws.found.io:443/anna-conversations-v0/_search [status:200 duration:0.025s]\n",
      "POST https://persyn.es.us-west-2.aws.found.io:443/anna-summaries-v0/_update/IiOTFYMBy5mPdc6P4Wy7 [status:200 duration:0.027s]\n",
      "POST https://persyn.es.us-west-2.aws.found.io:443/anna-summaries-v0/_search [status:200 duration:0.024s]\n",
      "POST https://persyn.es.us-west-2.aws.found.io:443/anna-conversations-v0/_search [status:200 duration:0.020s]\n"
     ]
    },
    {
     "name": "stdout",
     "output_type": "stream",
     "text": [
      "{'_index': 'anna-summaries-v0', '_id': 'LNT2L4EBBCovfdTkx5Zy', '_version': 2, 'result': 'updated', '_shards': {'total': 2, 'successful': 2, 'failed': 0}, '_seq_no': 2005, '_primary_term': 17}\n",
      "{'_index': 'anna-summaries-v0', '_id': 'ceBeiIQB6EXxeIxUbYL-', '_version': 2, 'result': 'updated', '_shards': {'total': 2, 'successful': 2, 'failed': 0}, '_seq_no': 2006, '_primary_term': 17}\n",
      "{'_index': 'anna-summaries-v0', '_id': 'IiOTFYMBy5mPdc6P4Wy7', '_version': 2, 'result': 'updated', '_shards': {'total': 2, 'successful': 2, 'failed': 0}, '_seq_no': 2007, '_primary_term': 17}\n"
     ]
    },
    {
     "name": "stderr",
     "output_type": "stream",
     "text": [
      "POST https://persyn.es.us-west-2.aws.found.io:443/anna-summaries-v0/_update/FOCIAoQB6EXxeIxUCHuU [status:200 duration:0.024s]\n",
      "POST https://persyn.es.us-west-2.aws.found.io:443/anna-summaries-v0/_search [status:200 duration:0.022s]\n",
      "POST https://persyn.es.us-west-2.aws.found.io:443/anna-conversations-v0/_search [status:200 duration:0.020s]\n",
      "POST https://persyn.es.us-west-2.aws.found.io:443/anna-summaries-v0/_update/MhircYAB1O6hlTWgs2ci [status:200 duration:0.026s]\n",
      "POST https://persyn.es.us-west-2.aws.found.io:443/anna-summaries-v0/_search [status:200 duration:0.019s]\n",
      "POST https://persyn.es.us-west-2.aws.found.io:443/anna-conversations-v0/_search [status:200 duration:0.020s]\n",
      "POST https://persyn.es.us-west-2.aws.found.io:443/anna-summaries-v0/_update/Ck23LYMBRfbdi4KASFc6 [status:200 duration:0.025s]\n",
      "POST https://persyn.es.us-west-2.aws.found.io:443/anna-summaries-v0/_search [status:200 duration:0.019s]\n",
      "POST https://persyn.es.us-west-2.aws.found.io:443/anna-conversations-v0/_search [status:200 duration:0.020s]\n",
      "POST https://persyn.es.us-west-2.aws.found.io:443/anna-summaries-v0/_update/WyME_IIBy5mPdc6PUmsF [status:200 duration:0.026s]\n"
     ]
    },
    {
     "name": "stdout",
     "output_type": "stream",
     "text": [
      "{'_index': 'anna-summaries-v0', '_id': 'FOCIAoQB6EXxeIxUCHuU', '_version': 2, 'result': 'updated', '_shards': {'total': 2, 'successful': 2, 'failed': 0}, '_seq_no': 2008, '_primary_term': 17}\n",
      "{'_index': 'anna-summaries-v0', '_id': 'MhircYAB1O6hlTWgs2ci', '_version': 2, 'result': 'updated', '_shards': {'total': 2, 'successful': 2, 'failed': 0}, '_seq_no': 2009, '_primary_term': 17}\n",
      "{'_index': 'anna-summaries-v0', '_id': 'Ck23LYMBRfbdi4KASFc6', '_version': 2, 'result': 'updated', '_shards': {'total': 2, 'successful': 2, 'failed': 0}, '_seq_no': 2010, '_primary_term': 17}\n"
     ]
    },
    {
     "name": "stderr",
     "output_type": "stream",
     "text": [
      "POST https://persyn.es.us-west-2.aws.found.io:443/anna-summaries-v0/_search [status:200 duration:0.023s]\n",
      "POST https://persyn.es.us-west-2.aws.found.io:443/anna-conversations-v0/_search [status:200 duration:0.019s]\n",
      "POST https://persyn.es.us-west-2.aws.found.io:443/anna-summaries-v0/_update/nq88koQBBNi73XUqFK_U [status:200 duration:0.026s]\n",
      "POST https://persyn.es.us-west-2.aws.found.io:443/anna-summaries-v0/_search [status:200 duration:0.025s]\n",
      "POST https://persyn.es.us-west-2.aws.found.io:443/anna-conversations-v0/_search [status:200 duration:0.022s]\n",
      "POST https://persyn.es.us-west-2.aws.found.io:443/anna-summaries-v0/_update/e69fEYQBBNi73XUqwqgk [status:200 duration:0.021s]\n",
      "POST https://persyn.es.us-west-2.aws.found.io:443/anna-summaries-v0/_search [status:200 duration:0.024s]\n",
      "POST https://persyn.es.us-west-2.aws.found.io:443/anna-conversations-v0/_search [status:200 duration:0.026s]\n",
      "POST https://persyn.es.us-west-2.aws.found.io:443/anna-summaries-v0/_update/c-DQWoQB6EXxeIxU5YD- [status:200 duration:0.029s]\n",
      "POST https://persyn.es.us-west-2.aws.found.io:443/anna-summaries-v0/_search [status:200 duration:0.027s]\n"
     ]
    },
    {
     "name": "stdout",
     "output_type": "stream",
     "text": [
      "{'_index': 'anna-summaries-v0', '_id': 'WyME_IIBy5mPdc6PUmsF', '_version': 2, 'result': 'updated', '_shards': {'total': 2, 'successful': 2, 'failed': 0}, '_seq_no': 2011, '_primary_term': 17}\n",
      "{'_index': 'anna-summaries-v0', '_id': 'nq88koQBBNi73XUqFK_U', '_version': 2, 'result': 'updated', '_shards': {'total': 2, 'successful': 2, 'failed': 0}, '_seq_no': 2012, '_primary_term': 17}\n",
      "{'_index': 'anna-summaries-v0', '_id': 'e69fEYQBBNi73XUqwqgk', '_version': 2, 'result': 'updated', '_shards': {'total': 2, 'successful': 2, 'failed': 0}, '_seq_no': 2013, '_primary_term': 17}\n",
      "{'_index': 'anna-summaries-v0', '_id': 'c-DQWoQB6EXxeIxU5YD-', '_version': 2, 'result': 'updated', '_shards': {'total': 2, 'successful': 2, 'failed': 0}, '_seq_no': 2014, '_primary_term': 17}\n"
     ]
    },
    {
     "name": "stderr",
     "output_type": "stream",
     "text": [
      "POST https://persyn.es.us-west-2.aws.found.io:443/anna-conversations-v0/_search [status:200 duration:0.027s]\n",
      "POST https://persyn.es.us-west-2.aws.found.io:443/anna-summaries-v0/_update/0-D5p4QB6EXxeIxUd4bB [status:200 duration:0.024s]\n",
      "POST https://persyn.es.us-west-2.aws.found.io:443/anna-summaries-v0/_search [status:200 duration:0.026s]\n",
      "POST https://persyn.es.us-west-2.aws.found.io:443/anna-conversations-v0/_search [status:200 duration:0.028s]\n",
      "POST https://persyn.es.us-west-2.aws.found.io:443/anna-summaries-v0/_update/DU3nqYIBRfbdi4KAh0_L [status:200 duration:0.026s]\n",
      "POST https://persyn.es.us-west-2.aws.found.io:443/anna-summaries-v0/_search [status:200 duration:0.026s]\n",
      "POST https://persyn.es.us-west-2.aws.found.io:443/anna-conversations-v0/_search [status:200 duration:0.027s]\n",
      "POST https://persyn.es.us-west-2.aws.found.io:443/anna-summaries-v0/_update/na-lX4QBBNi73XUq6Kx8 [status:200 duration:0.029s]\n"
     ]
    },
    {
     "name": "stdout",
     "output_type": "stream",
     "text": [
      "{'_index': 'anna-summaries-v0', '_id': '0-D5p4QB6EXxeIxUd4bB', '_version': 2, 'result': 'updated', '_shards': {'total': 2, 'successful': 2, 'failed': 0}, '_seq_no': 2015, '_primary_term': 17}\n",
      "{'_index': 'anna-summaries-v0', '_id': 'DU3nqYIBRfbdi4KAh0_L', '_version': 2, 'result': 'updated', '_shards': {'total': 2, 'successful': 2, 'failed': 0}, '_seq_no': 2016, '_primary_term': 17}\n",
      "{'_index': 'anna-summaries-v0', '_id': 'na-lX4QBBNi73XUq6Kx8', '_version': 2, 'result': 'updated', '_shards': {'total': 2, 'successful': 2, 'failed': 0}, '_seq_no': 2017, '_primary_term': 17}\n"
     ]
    },
    {
     "name": "stderr",
     "output_type": "stream",
     "text": [
      "POST https://persyn.es.us-west-2.aws.found.io:443/anna-summaries-v0/_search [status:200 duration:0.027s]\n",
      "POST https://persyn.es.us-west-2.aws.found.io:443/anna-conversations-v0/_search [status:200 duration:0.025s]\n",
      "POST https://persyn.es.us-west-2.aws.found.io:443/anna-summaries-v0/_update/yq_OB4QBBNi73XUqOqeT [status:200 duration:0.032s]\n",
      "POST https://persyn.es.us-west-2.aws.found.io:443/anna-summaries-v0/_search [status:200 duration:0.028s]\n",
      "POST https://persyn.es.us-west-2.aws.found.io:443/anna-conversations-v0/_search [status:200 duration:0.027s]\n",
      "POST https://persyn.es.us-west-2.aws.found.io:443/anna-summaries-v0/_update/C68GEoQBBNi73XUqqKkR [status:200 duration:0.032s]\n",
      "POST https://persyn.es.us-west-2.aws.found.io:443/anna-summaries-v0/_search [status:200 duration:0.029s]\n",
      "POST https://persyn.es.us-west-2.aws.found.io:443/anna-conversations-v0/_search [status:200 duration:0.030s]\n",
      "POST https://persyn.es.us-west-2.aws.found.io:443/anna-summaries-v0/_update/PdTVxoEBBCovfdTkgbsa [status:200 duration:0.030s]\n"
     ]
    },
    {
     "name": "stdout",
     "output_type": "stream",
     "text": [
      "{'_index': 'anna-summaries-v0', '_id': 'yq_OB4QBBNi73XUqOqeT', '_version': 2, 'result': 'updated', '_shards': {'total': 2, 'successful': 2, 'failed': 0}, '_seq_no': 2018, '_primary_term': 17}\n",
      "{'_index': 'anna-summaries-v0', '_id': 'C68GEoQBBNi73XUqqKkR', '_version': 2, 'result': 'updated', '_shards': {'total': 2, 'successful': 2, 'failed': 0}, '_seq_no': 2019, '_primary_term': 17}\n",
      "{'_index': 'anna-summaries-v0', '_id': 'PdTVxoEBBCovfdTkgbsa', '_version': 2, 'result': 'updated', '_shards': {'total': 2, 'successful': 2, 'failed': 0}, '_seq_no': 2020, '_primary_term': 17}\n"
     ]
    },
    {
     "name": "stderr",
     "output_type": "stream",
     "text": [
      "POST https://persyn.es.us-west-2.aws.found.io:443/anna-summaries-v0/_search [status:200 duration:0.028s]\n",
      "POST https://persyn.es.us-west-2.aws.found.io:443/anna-conversations-v0/_search [status:200 duration:0.028s]\n",
      "POST https://persyn.es.us-west-2.aws.found.io:443/anna-summaries-v0/_update/beCRmoMB6EXxeIxUIHZP [status:200 duration:0.032s]\n",
      "POST https://persyn.es.us-west-2.aws.found.io:443/anna-summaries-v0/_search [status:200 duration:0.029s]\n",
      "POST https://persyn.es.us-west-2.aws.found.io:443/anna-conversations-v0/_search [status:200 duration:0.033s]\n",
      "POST https://persyn.es.us-west-2.aws.found.io:443/anna-summaries-v0/_update/Yxh46YAB1O6hlTWgQnSe [status:200 duration:0.031s]\n",
      "POST https://persyn.es.us-west-2.aws.found.io:443/anna-summaries-v0/_search [status:200 duration:0.035s]\n",
      "POST https://persyn.es.us-west-2.aws.found.io:443/anna-conversations-v0/_search [status:200 duration:0.023s]\n",
      "POST https://persyn.es.us-west-2.aws.found.io:443/anna-summaries-v0/_update/WB2oUIIBGYbVpQ0o3bAr [status:200 duration:0.028s]\n"
     ]
    },
    {
     "name": "stdout",
     "output_type": "stream",
     "text": [
      "{'_index': 'anna-summaries-v0', '_id': 'beCRmoMB6EXxeIxUIHZP', '_version': 2, 'result': 'updated', '_shards': {'total': 2, 'successful': 2, 'failed': 0}, '_seq_no': 2021, '_primary_term': 17}\n",
      "{'_index': 'anna-summaries-v0', '_id': 'Yxh46YAB1O6hlTWgQnSe', '_version': 2, 'result': 'updated', '_shards': {'total': 2, 'successful': 2, 'failed': 0}, '_seq_no': 2022, '_primary_term': 17}\n",
      "{'_index': 'anna-summaries-v0', '_id': 'WB2oUIIBGYbVpQ0o3bAr', '_version': 2, 'result': 'updated', '_shards': {'total': 2, 'successful': 2, 'failed': 0}, '_seq_no': 2023, '_primary_term': 17}\n"
     ]
    },
    {
     "name": "stderr",
     "output_type": "stream",
     "text": [
      "POST https://persyn.es.us-west-2.aws.found.io:443/anna-summaries-v0/_search [status:200 duration:0.029s]\n",
      "POST https://persyn.es.us-west-2.aws.found.io:443/anna-conversations-v0/_search [status:200 duration:0.030s]\n",
      "POST https://persyn.es.us-west-2.aws.found.io:443/anna-summaries-v0/_update/gxjoioAB1O6hlTWgPW7I [status:200 duration:0.028s]\n",
      "POST https://persyn.es.us-west-2.aws.found.io:443/anna-summaries-v0/_search [status:200 duration:0.022s]\n",
      "POST https://persyn.es.us-west-2.aws.found.io:443/anna-conversations-v0/_search [status:200 duration:0.028s]\n",
      "POST https://persyn.es.us-west-2.aws.found.io:443/anna-summaries-v0/_update/PB2x5YEBGYbVpQ0oloI4 [status:200 duration:0.025s]\n",
      "POST https://persyn.es.us-west-2.aws.found.io:443/anna-summaries-v0/_search [status:200 duration:0.027s]\n",
      "POST https://persyn.es.us-west-2.aws.found.io:443/anna-conversations-v0/_search [status:200 duration:0.026s]\n",
      "POST https://persyn.es.us-west-2.aws.found.io:443/anna-summaries-v0/_update/Gq_5kIQBBNi73XUqxK-y [status:200 duration:0.031s]\n",
      "POST https://persyn.es.us-west-2.aws.found.io:443/anna-summaries-v0/_search [status:200 duration:0.020s]\n"
     ]
    },
    {
     "name": "stdout",
     "output_type": "stream",
     "text": [
      "{'_index': 'anna-summaries-v0', '_id': 'gxjoioAB1O6hlTWgPW7I', '_version': 2, 'result': 'updated', '_shards': {'total': 2, 'successful': 2, 'failed': 0}, '_seq_no': 2024, '_primary_term': 17}\n",
      "{'_index': 'anna-summaries-v0', '_id': 'PB2x5YEBGYbVpQ0oloI4', '_version': 2, 'result': 'updated', '_shards': {'total': 2, 'successful': 2, 'failed': 0}, '_seq_no': 2025, '_primary_term': 17}\n",
      "{'_index': 'anna-summaries-v0', '_id': 'Gq_5kIQBBNi73XUqxK-y', '_version': 2, 'result': 'updated', '_shards': {'total': 2, 'successful': 2, 'failed': 0}, '_seq_no': 2026, '_primary_term': 17}\n"
     ]
    },
    {
     "name": "stderr",
     "output_type": "stream",
     "text": [
      "POST https://persyn.es.us-west-2.aws.found.io:443/anna-conversations-v0/_search [status:200 duration:0.028s]\n",
      "POST https://persyn.es.us-west-2.aws.found.io:443/anna-summaries-v0/_update/0x2BF4IBGYbVpQ0oNJvq [status:200 duration:0.028s]\n",
      "POST https://persyn.es.us-west-2.aws.found.io:443/anna-summaries-v0/_search [status:200 duration:0.026s]\n",
      "POST https://persyn.es.us-west-2.aws.found.io:443/anna-conversations-v0/_search [status:200 duration:0.028s]\n",
      "POST https://persyn.es.us-west-2.aws.found.io:443/anna-summaries-v0/_update/S6-9l4QBBNi73XUqELDQ [status:200 duration:0.033s]\n",
      "POST https://persyn.es.us-west-2.aws.found.io:443/anna-summaries-v0/_search [status:200 duration:0.033s]\n",
      "POST https://persyn.es.us-west-2.aws.found.io:443/anna-conversations-v0/_search [status:200 duration:0.030s]\n",
      "POST https://persyn.es.us-west-2.aws.found.io:443/anna-summaries-v0/_update/xyMXFYMBy5mPdc6PAmuk [status:200 duration:0.025s]\n"
     ]
    },
    {
     "name": "stdout",
     "output_type": "stream",
     "text": [
      "{'_index': 'anna-summaries-v0', '_id': '0x2BF4IBGYbVpQ0oNJvq', '_version': 2, 'result': 'updated', '_shards': {'total': 2, 'successful': 2, 'failed': 0}, '_seq_no': 2027, '_primary_term': 17}\n",
      "{'_index': 'anna-summaries-v0', '_id': 'S6-9l4QBBNi73XUqELDQ', '_version': 2, 'result': 'updated', '_shards': {'total': 2, 'successful': 2, 'failed': 0}, '_seq_no': 2028, '_primary_term': 17}\n",
      "{'_index': 'anna-summaries-v0', '_id': 'xyMXFYMBy5mPdc6PAmuk', '_version': 2, 'result': 'updated', '_shards': {'total': 2, 'successful': 2, 'failed': 0}, '_seq_no': 2029, '_primary_term': 17}\n"
     ]
    },
    {
     "name": "stderr",
     "output_type": "stream",
     "text": [
      "POST https://persyn.es.us-west-2.aws.found.io:443/anna-summaries-v0/_search [status:200 duration:0.021s]\n",
      "POST https://persyn.es.us-west-2.aws.found.io:443/anna-conversations-v0/_search [status:200 duration:0.022s]\n",
      "POST https://persyn.es.us-west-2.aws.found.io:443/anna-summaries-v0/_update/4eDt_YMB6EXxeIxUKnl2 [status:200 duration:0.029s]\n",
      "POST https://persyn.es.us-west-2.aws.found.io:443/anna-summaries-v0/_search [status:200 duration:0.028s]\n",
      "POST https://persyn.es.us-west-2.aws.found.io:443/anna-conversations-v0/_search [status:200 duration:0.022s]\n",
      "POST https://persyn.es.us-west-2.aws.found.io:443/anna-summaries-v0/_update/SeA9VYQB6EXxeIxUyYCU [status:200 duration:0.026s]\n",
      "POST https://persyn.es.us-west-2.aws.found.io:443/anna-summaries-v0/_search [status:200 duration:0.026s]\n",
      "POST https://persyn.es.us-west-2.aws.found.io:443/anna-conversations-v0/_search [status:200 duration:0.026s]\n",
      "POST https://persyn.es.us-west-2.aws.found.io:443/anna-summaries-v0/_update/bOBZiIQB6EXxeIxUhYLO [status:200 duration:0.023s]\n",
      "POST https://persyn.es.us-west-2.aws.found.io:443/anna-summaries-v0/_search [status:200 duration:0.027s]\n"
     ]
    },
    {
     "name": "stdout",
     "output_type": "stream",
     "text": [
      "{'_index': 'anna-summaries-v0', '_id': '4eDt_YMB6EXxeIxUKnl2', '_version': 2, 'result': 'updated', '_shards': {'total': 2, 'successful': 2, 'failed': 0}, '_seq_no': 2030, '_primary_term': 17}\n",
      "{'_index': 'anna-summaries-v0', '_id': 'SeA9VYQB6EXxeIxUyYCU', '_version': 2, 'result': 'updated', '_shards': {'total': 2, 'successful': 2, 'failed': 0}, '_seq_no': 2031, '_primary_term': 17}\n",
      "{'_index': 'anna-summaries-v0', '_id': 'bOBZiIQB6EXxeIxUhYLO', '_version': 2, 'result': 'updated', '_shards': {'total': 2, 'successful': 2, 'failed': 0}, '_seq_no': 2032, '_primary_term': 17}\n"
     ]
    },
    {
     "name": "stderr",
     "output_type": "stream",
     "text": [
      "POST https://persyn.es.us-west-2.aws.found.io:443/anna-conversations-v0/_search [status:200 duration:0.027s]\n",
      "POST https://persyn.es.us-west-2.aws.found.io:443/anna-summaries-v0/_update/1U05SYMBRfbdi4KATlfP [status:200 duration:0.024s]\n",
      "POST https://persyn.es.us-west-2.aws.found.io:443/anna-summaries-v0/_search [status:200 duration:0.020s]\n",
      "POST https://persyn.es.us-west-2.aws.found.io:443/anna-conversations-v0/_search [status:200 duration:0.029s]\n",
      "POST https://persyn.es.us-west-2.aws.found.io:443/anna-summaries-v0/_update/N-Ad2IMB6EXxeIxUrXjp [status:200 duration:0.023s]\n",
      "POST https://persyn.es.us-west-2.aws.found.io:443/anna-summaries-v0/_search [status:200 duration:0.027s]\n",
      "POST https://persyn.es.us-west-2.aws.found.io:443/anna-conversations-v0/_search [status:200 duration:0.021s]\n",
      "POST https://persyn.es.us-west-2.aws.found.io:443/anna-summaries-v0/_update/Rq8sEoQBBNi73XUqD6m_ [status:200 duration:0.028s]\n",
      "POST https://persyn.es.us-west-2.aws.found.io:443/anna-summaries-v0/_search [status:200 duration:0.031s]\n"
     ]
    },
    {
     "name": "stdout",
     "output_type": "stream",
     "text": [
      "{'_index': 'anna-summaries-v0', '_id': '1U05SYMBRfbdi4KATlfP', '_version': 2, 'result': 'updated', '_shards': {'total': 2, 'successful': 2, 'failed': 0}, '_seq_no': 2033, '_primary_term': 17}\n",
      "{'_index': 'anna-summaries-v0', '_id': 'N-Ad2IMB6EXxeIxUrXjp', '_version': 2, 'result': 'updated', '_shards': {'total': 2, 'successful': 2, 'failed': 0}, '_seq_no': 2034, '_primary_term': 17}\n",
      "{'_index': 'anna-summaries-v0', '_id': 'Rq8sEoQBBNi73XUqD6m_', '_version': 2, 'result': 'updated', '_shards': {'total': 2, 'successful': 2, 'failed': 0}, '_seq_no': 2035, '_primary_term': 17}\n"
     ]
    },
    {
     "name": "stderr",
     "output_type": "stream",
     "text": [
      "POST https://persyn.es.us-west-2.aws.found.io:443/anna-conversations-v0/_search [status:200 duration:0.022s]\n",
      "POST https://persyn.es.us-west-2.aws.found.io:443/anna-summaries-v0/_update/fuDZkYQB6EXxeIxUPoPk [status:200 duration:0.029s]\n",
      "POST https://persyn.es.us-west-2.aws.found.io:443/anna-summaries-v0/_search [status:200 duration:0.029s]\n",
      "POST https://persyn.es.us-west-2.aws.found.io:443/anna-conversations-v0/_search [status:200 duration:0.026s]\n",
      "POST https://persyn.es.us-west-2.aws.found.io:443/anna-summaries-v0/_update/86_NZIQBBNi73XUqg6wv [status:200 duration:0.026s]\n",
      "POST https://persyn.es.us-west-2.aws.found.io:443/anna-summaries-v0/_search [status:200 duration:0.027s]\n",
      "POST https://persyn.es.us-west-2.aws.found.io:443/anna-conversations-v0/_search [status:200 duration:0.030s]\n",
      "POST https://persyn.es.us-west-2.aws.found.io:443/anna-summaries-v0/_update/7K-Iq4QBBNi73XUqWbID [status:200 duration:0.024s]\n"
     ]
    },
    {
     "name": "stdout",
     "output_type": "stream",
     "text": [
      "{'_index': 'anna-summaries-v0', '_id': 'fuDZkYQB6EXxeIxUPoPk', '_version': 2, 'result': 'updated', '_shards': {'total': 2, 'successful': 2, 'failed': 0}, '_seq_no': 2036, '_primary_term': 17}\n",
      "{'_index': 'anna-summaries-v0', '_id': '86_NZIQBBNi73XUqg6wv', '_version': 2, 'result': 'updated', '_shards': {'total': 2, 'successful': 2, 'failed': 0}, '_seq_no': 2037, '_primary_term': 17}\n",
      "{'_index': 'anna-summaries-v0', '_id': '7K-Iq4QBBNi73XUqWbID', '_version': 2, 'result': 'updated', '_shards': {'total': 2, 'successful': 2, 'failed': 0}, '_seq_no': 2038, '_primary_term': 17}\n"
     ]
    },
    {
     "name": "stderr",
     "output_type": "stream",
     "text": [
      "POST https://persyn.es.us-west-2.aws.found.io:443/anna-summaries-v0/_search [status:200 duration:0.031s]\n",
      "POST https://persyn.es.us-west-2.aws.found.io:443/anna-conversations-v0/_search [status:200 duration:0.026s]\n",
      "POST https://persyn.es.us-west-2.aws.found.io:443/anna-summaries-v0/_update/x9Q0_YABBCovfdTkH4gu [status:200 duration:0.033s]\n",
      "POST https://persyn.es.us-west-2.aws.found.io:443/anna-summaries-v0/_search [status:200 duration:0.031s]\n",
      "POST https://persyn.es.us-west-2.aws.found.io:443/anna-conversations-v0/_search [status:200 duration:0.030s]\n",
      "POST https://persyn.es.us-west-2.aws.found.io:443/anna-summaries-v0/_update/-iMUOYMBy5mPdc6Pmmzu [status:200 duration:0.028s]\n",
      "POST https://persyn.es.us-west-2.aws.found.io:443/anna-summaries-v0/_search [status:200 duration:0.024s]\n",
      "POST https://persyn.es.us-west-2.aws.found.io:443/anna-conversations-v0/_search [status:200 duration:0.029s]\n",
      "POST https://persyn.es.us-west-2.aws.found.io:443/anna-summaries-v0/_update/gtRsfoEBBCovfdTkdKpA [status:200 duration:0.030s]\n"
     ]
    },
    {
     "name": "stdout",
     "output_type": "stream",
     "text": [
      "{'_index': 'anna-summaries-v0', '_id': 'x9Q0_YABBCovfdTkH4gu', '_version': 2, 'result': 'updated', '_shards': {'total': 2, 'successful': 2, 'failed': 0}, '_seq_no': 2039, '_primary_term': 17}\n",
      "{'_index': 'anna-summaries-v0', '_id': '-iMUOYMBy5mPdc6Pmmzu', '_version': 2, 'result': 'updated', '_shards': {'total': 2, 'successful': 2, 'failed': 0}, '_seq_no': 2040, '_primary_term': 17}\n",
      "{'_index': 'anna-summaries-v0', '_id': 'gtRsfoEBBCovfdTkdKpA', '_version': 2, 'result': 'updated', '_shards': {'total': 2, 'successful': 2, 'failed': 0}, '_seq_no': 2041, '_primary_term': 17}\n"
     ]
    },
    {
     "name": "stderr",
     "output_type": "stream",
     "text": [
      "POST https://persyn.es.us-west-2.aws.found.io:443/anna-summaries-v0/_search [status:200 duration:0.028s]\n",
      "POST https://persyn.es.us-west-2.aws.found.io:443/anna-conversations-v0/_search [status:200 duration:0.027s]\n",
      "POST https://persyn.es.us-west-2.aws.found.io:443/anna-summaries-v0/_update/aOD_9oMB6EXxeIxUSXmS [status:200 duration:0.033s]\n",
      "POST https://persyn.es.us-west-2.aws.found.io:443/anna-summaries-v0/_search [status:200 duration:0.026s]\n",
      "POST https://persyn.es.us-west-2.aws.found.io:443/anna-conversations-v0/_search [status:200 duration:0.024s]\n",
      "POST https://persyn.es.us-west-2.aws.found.io:443/anna-summaries-v0/_update/AtRhtYEBBCovfdTkZ7fp [status:200 duration:0.029s]\n",
      "POST https://persyn.es.us-west-2.aws.found.io:443/anna-summaries-v0/_search [status:200 duration:0.028s]\n",
      "POST https://persyn.es.us-west-2.aws.found.io:443/anna-conversations-v0/_search [status:200 duration:0.029s]\n",
      "POST https://persyn.es.us-west-2.aws.found.io:443/anna-summaries-v0/_update/yK_LB4QBBNi73XUquKdq [status:200 duration:0.030s]\n"
     ]
    },
    {
     "name": "stdout",
     "output_type": "stream",
     "text": [
      "{'_index': 'anna-summaries-v0', '_id': 'aOD_9oMB6EXxeIxUSXmS', '_version': 2, 'result': 'updated', '_shards': {'total': 2, 'successful': 2, 'failed': 0}, '_seq_no': 2042, '_primary_term': 17}\n",
      "{'_index': 'anna-summaries-v0', '_id': 'AtRhtYEBBCovfdTkZ7fp', '_version': 2, 'result': 'updated', '_shards': {'total': 2, 'successful': 2, 'failed': 0}, '_seq_no': 2043, '_primary_term': 17}\n",
      "{'_index': 'anna-summaries-v0', '_id': 'yK_LB4QBBNi73XUquKdq', '_version': 2, 'result': 'updated', '_shards': {'total': 2, 'successful': 2, 'failed': 0}, '_seq_no': 2044, '_primary_term': 17}\n"
     ]
    },
    {
     "name": "stderr",
     "output_type": "stream",
     "text": [
      "POST https://persyn.es.us-west-2.aws.found.io:443/anna-summaries-v0/_search [status:200 duration:0.030s]\n",
      "POST https://persyn.es.us-west-2.aws.found.io:443/anna-conversations-v0/_search [status:200 duration:0.027s]\n",
      "POST https://persyn.es.us-west-2.aws.found.io:443/anna-summaries-v0/_update/fhjwcoAB1O6hlTWgQWfg [status:200 duration:0.024s]\n",
      "POST https://persyn.es.us-west-2.aws.found.io:443/anna-summaries-v0/_search [status:200 duration:0.021s]\n",
      "POST https://persyn.es.us-west-2.aws.found.io:443/anna-conversations-v0/_search [status:200 duration:0.028s]\n",
      "POST https://persyn.es.us-west-2.aws.found.io:443/anna-summaries-v0/_update/fCNhgoMBy5mPdc6PzHGU [status:200 duration:0.025s]\n",
      "POST https://persyn.es.us-west-2.aws.found.io:443/anna-summaries-v0/_search [status:200 duration:0.029s]\n",
      "POST https://persyn.es.us-west-2.aws.found.io:443/anna-conversations-v0/_search [status:200 duration:0.022s]\n",
      "POST https://persyn.es.us-west-2.aws.found.io:443/anna-summaries-v0/_update/MeC0H4QB6EXxeIxUHH4s [status:200 duration:0.025s]\n",
      "POST https://persyn.es.us-west-2.aws.found.io:443/anna-summaries-v0/_search [status:200 duration:0.028s]\n"
     ]
    },
    {
     "name": "stdout",
     "output_type": "stream",
     "text": [
      "{'_index': 'anna-summaries-v0', '_id': 'fhjwcoAB1O6hlTWgQWfg', '_version': 2, 'result': 'updated', '_shards': {'total': 2, 'successful': 2, 'failed': 0}, '_seq_no': 2045, '_primary_term': 17}\n",
      "{'_index': 'anna-summaries-v0', '_id': 'fCNhgoMBy5mPdc6PzHGU', '_version': 2, 'result': 'updated', '_shards': {'total': 2, 'successful': 2, 'failed': 0}, '_seq_no': 2046, '_primary_term': 17}\n",
      "{'_index': 'anna-summaries-v0', '_id': 'MeC0H4QB6EXxeIxUHH4s', '_version': 2, 'result': 'updated', '_shards': {'total': 2, 'successful': 2, 'failed': 0}, '_seq_no': 2047, '_primary_term': 17}\n"
     ]
    },
    {
     "name": "stderr",
     "output_type": "stream",
     "text": [
      "POST https://persyn.es.us-west-2.aws.found.io:443/anna-conversations-v0/_search [status:200 duration:0.027s]\n",
      "POST https://persyn.es.us-west-2.aws.found.io:443/anna-summaries-v0/_update/n6-cBoQBBNi73XUqjKdF [status:200 duration:0.027s]\n",
      "POST https://persyn.es.us-west-2.aws.found.io:443/anna-summaries-v0/_search [status:200 duration:0.027s]\n",
      "POST https://persyn.es.us-west-2.aws.found.io:443/anna-conversations-v0/_search [status:200 duration:0.021s]\n",
      "POST https://persyn.es.us-west-2.aws.found.io:443/anna-summaries-v0/_update/veAhAYQB6EXxeIxUnHoG [status:200 duration:0.028s]\n",
      "POST https://persyn.es.us-west-2.aws.found.io:443/anna-summaries-v0/_search [status:200 duration:0.023s]\n",
      "POST https://persyn.es.us-west-2.aws.found.io:443/anna-conversations-v0/_search [status:200 duration:0.027s]\n",
      "POST https://persyn.es.us-west-2.aws.found.io:443/anna-summaries-v0/_update/wx0oBIIBGYbVpQ0oP4xx [status:200 duration:0.025s]\n",
      "POST https://persyn.es.us-west-2.aws.found.io:443/anna-summaries-v0/_search [status:200 duration:0.028s]\n"
     ]
    },
    {
     "name": "stdout",
     "output_type": "stream",
     "text": [
      "{'_index': 'anna-summaries-v0', '_id': 'n6-cBoQBBNi73XUqjKdF', '_version': 2, 'result': 'updated', '_shards': {'total': 2, 'successful': 2, 'failed': 0}, '_seq_no': 2048, '_primary_term': 17}\n",
      "{'_index': 'anna-summaries-v0', '_id': 'veAhAYQB6EXxeIxUnHoG', '_version': 2, 'result': 'updated', '_shards': {'total': 2, 'successful': 2, 'failed': 0}, '_seq_no': 2049, '_primary_term': 17}\n",
      "{'_index': 'anna-summaries-v0', '_id': 'wx0oBIIBGYbVpQ0oP4xx', '_version': 2, 'result': 'updated', '_shards': {'total': 2, 'successful': 2, 'failed': 0}, '_seq_no': 2050, '_primary_term': 17}\n"
     ]
    },
    {
     "name": "stderr",
     "output_type": "stream",
     "text": [
      "POST https://persyn.es.us-west-2.aws.found.io:443/anna-conversations-v0/_search [status:200 duration:0.027s]\n",
      "POST https://persyn.es.us-west-2.aws.found.io:443/anna-summaries-v0/_update/leAHSoQB6EXxeIxUxH83 [status:200 duration:0.026s]\n",
      "POST https://persyn.es.us-west-2.aws.found.io:443/anna-summaries-v0/_search [status:200 duration:0.022s]\n",
      "POST https://persyn.es.us-west-2.aws.found.io:443/anna-conversations-v0/_search [status:200 duration:0.021s]\n",
      "POST https://persyn.es.us-west-2.aws.found.io:443/anna-summaries-v0/_update/HeDtT4QB6EXxeIxUfoBy [status:200 duration:0.023s]\n",
      "POST https://persyn.es.us-west-2.aws.found.io:443/anna-summaries-v0/_search [status:200 duration:0.026s]\n",
      "POST https://persyn.es.us-west-2.aws.found.io:443/anna-conversations-v0/_search [status:200 duration:0.023s]\n",
      "POST https://persyn.es.us-west-2.aws.found.io:443/anna-summaries-v0/_update/-Rg-Bn8B1O6hlTWgskoJ [status:200 duration:0.026s]\n",
      "POST https://persyn.es.us-west-2.aws.found.io:443/anna-summaries-v0/_search [status:200 duration:0.023s]\n",
      "POST https://persyn.es.us-west-2.aws.found.io:443/anna-conversations-v0/_search [status:200 duration:0.023s]\n"
     ]
    },
    {
     "name": "stdout",
     "output_type": "stream",
     "text": [
      "{'_index': 'anna-summaries-v0', '_id': 'leAHSoQB6EXxeIxUxH83', '_version': 2, 'result': 'updated', '_shards': {'total': 2, 'successful': 2, 'failed': 0}, '_seq_no': 2051, '_primary_term': 17}\n",
      "{'_index': 'anna-summaries-v0', '_id': 'HeDtT4QB6EXxeIxUfoBy', '_version': 2, 'result': 'updated', '_shards': {'total': 2, 'successful': 2, 'failed': 0}, '_seq_no': 2052, '_primary_term': 17}\n",
      "{'_index': 'anna-summaries-v0', '_id': '-Rg-Bn8B1O6hlTWgskoJ', '_version': 2, 'result': 'updated', '_shards': {'total': 2, 'successful': 2, 'failed': 0}, '_seq_no': 2053, '_primary_term': 17}\n"
     ]
    },
    {
     "name": "stderr",
     "output_type": "stream",
     "text": [
      "POST https://persyn.es.us-west-2.aws.found.io:443/anna-summaries-v0/_update/ECNRwoIBy5mPdc6PnWjL [status:200 duration:0.029s]\n",
      "POST https://persyn.es.us-west-2.aws.found.io:443/anna-summaries-v0/_search [status:200 duration:0.028s]\n",
      "POST https://persyn.es.us-west-2.aws.found.io:443/anna-conversations-v0/_search [status:200 duration:0.029s]\n",
      "POST https://persyn.es.us-west-2.aws.found.io:443/anna-summaries-v0/_update/S-Ae8oMB6EXxeIxU53lO [status:200 duration:0.028s]\n",
      "POST https://persyn.es.us-west-2.aws.found.io:443/anna-summaries-v0/_search [status:200 duration:0.031s]\n",
      "POST https://persyn.es.us-west-2.aws.found.io:443/anna-conversations-v0/_search [status:200 duration:0.030s]\n",
      "POST https://persyn.es.us-west-2.aws.found.io:443/anna-summaries-v0/_update/Q9SNbYEBBCovfdTkOKYl [status:200 duration:0.027s]\n"
     ]
    },
    {
     "name": "stdout",
     "output_type": "stream",
     "text": [
      "{'_index': 'anna-summaries-v0', '_id': 'ECNRwoIBy5mPdc6PnWjL', '_version': 2, 'result': 'updated', '_shards': {'total': 2, 'successful': 2, 'failed': 0}, '_seq_no': 2054, '_primary_term': 17}\n",
      "{'_index': 'anna-summaries-v0', '_id': 'S-Ae8oMB6EXxeIxU53lO', '_version': 2, 'result': 'updated', '_shards': {'total': 2, 'successful': 2, 'failed': 0}, '_seq_no': 2055, '_primary_term': 17}\n",
      "{'_index': 'anna-summaries-v0', '_id': 'Q9SNbYEBBCovfdTkOKYl', '_version': 2, 'result': 'updated', '_shards': {'total': 2, 'successful': 2, 'failed': 0}, '_seq_no': 2056, '_primary_term': 17}\n"
     ]
    },
    {
     "name": "stderr",
     "output_type": "stream",
     "text": [
      "POST https://persyn.es.us-west-2.aws.found.io:443/anna-summaries-v0/_search [status:200 duration:0.025s]\n",
      "POST https://persyn.es.us-west-2.aws.found.io:443/anna-conversations-v0/_search [status:200 duration:0.031s]\n",
      "POST https://persyn.es.us-west-2.aws.found.io:443/anna-summaries-v0/_update/_00OTIMBRfbdi4KAI1fM [status:200 duration:0.028s]\n",
      "POST https://persyn.es.us-west-2.aws.found.io:443/anna-summaries-v0/_search [status:200 duration:0.030s]\n",
      "POST https://persyn.es.us-west-2.aws.found.io:443/anna-conversations-v0/_search [status:200 duration:0.025s]\n",
      "POST https://persyn.es.us-west-2.aws.found.io:443/anna-summaries-v0/_update/I-B9_oMB6EXxeIxUYXp8 [status:200 duration:0.027s]\n",
      "POST https://persyn.es.us-west-2.aws.found.io:443/anna-summaries-v0/_search [status:200 duration:0.030s]\n",
      "POST https://persyn.es.us-west-2.aws.found.io:443/anna-conversations-v0/_search [status:200 duration:0.028s]\n",
      "POST https://persyn.es.us-west-2.aws.found.io:443/anna-summaries-v0/_update/g69nXYQBBNi73XUq1ayf [status:200 duration:0.027s]\n"
     ]
    },
    {
     "name": "stdout",
     "output_type": "stream",
     "text": [
      "{'_index': 'anna-summaries-v0', '_id': '_00OTIMBRfbdi4KAI1fM', '_version': 2, 'result': 'updated', '_shards': {'total': 2, 'successful': 2, 'failed': 0}, '_seq_no': 2057, '_primary_term': 17}\n",
      "{'_index': 'anna-summaries-v0', '_id': 'I-B9_oMB6EXxeIxUYXp8', '_version': 2, 'result': 'updated', '_shards': {'total': 2, 'successful': 2, 'failed': 0}, '_seq_no': 2058, '_primary_term': 17}\n",
      "{'_index': 'anna-summaries-v0', '_id': 'g69nXYQBBNi73XUq1ayf', '_version': 2, 'result': 'updated', '_shards': {'total': 2, 'successful': 2, 'failed': 0}, '_seq_no': 2059, '_primary_term': 17}\n"
     ]
    },
    {
     "name": "stderr",
     "output_type": "stream",
     "text": [
      "POST https://persyn.es.us-west-2.aws.found.io:443/anna-summaries-v0/_search [status:200 duration:0.028s]\n",
      "POST https://persyn.es.us-west-2.aws.found.io:443/anna-conversations-v0/_search [status:200 duration:0.022s]\n",
      "POST https://persyn.es.us-west-2.aws.found.io:443/anna-summaries-v0/_update/8a-O7oMBBNi73XUqU6PI [status:200 duration:0.025s]\n",
      "POST https://persyn.es.us-west-2.aws.found.io:443/anna-summaries-v0/_search [status:200 duration:0.022s]\n",
      "POST https://persyn.es.us-west-2.aws.found.io:443/anna-conversations-v0/_search [status:200 duration:0.029s]\n",
      "POST https://persyn.es.us-west-2.aws.found.io:443/anna-summaries-v0/_update/Uq_5uoQBBNi73XUqo7Tz [status:200 duration:0.032s]\n",
      "POST https://persyn.es.us-west-2.aws.found.io:443/anna-summaries-v0/_search [status:200 duration:0.027s]\n",
      "POST https://persyn.es.us-west-2.aws.found.io:443/anna-conversations-v0/_search [status:200 duration:0.022s]\n",
      "POST https://persyn.es.us-west-2.aws.found.io:443/anna-summaries-v0/_update/MOAKmIQB6EXxeIxUlIUR [status:200 duration:0.026s]\n",
      "POST https://persyn.es.us-west-2.aws.found.io:443/anna-summaries-v0/_search [status:200 duration:0.025s]\n"
     ]
    },
    {
     "name": "stdout",
     "output_type": "stream",
     "text": [
      "{'_index': 'anna-summaries-v0', '_id': '8a-O7oMBBNi73XUqU6PI', '_version': 2, 'result': 'updated', '_shards': {'total': 2, 'successful': 2, 'failed': 0}, '_seq_no': 2060, '_primary_term': 17}\n",
      "{'_index': 'anna-summaries-v0', '_id': 'Uq_5uoQBBNi73XUqo7Tz', '_version': 2, 'result': 'updated', '_shards': {'total': 2, 'successful': 2, 'failed': 0}, '_seq_no': 2061, '_primary_term': 17}\n",
      "{'_index': 'anna-summaries-v0', '_id': 'MOAKmIQB6EXxeIxUlIUR', '_version': 2, 'result': 'updated', '_shards': {'total': 2, 'successful': 2, 'failed': 0}, '_seq_no': 2062, '_primary_term': 17}\n"
     ]
    },
    {
     "name": "stderr",
     "output_type": "stream",
     "text": [
      "POST https://persyn.es.us-west-2.aws.found.io:443/anna-conversations-v0/_search [status:200 duration:0.029s]\n",
      "POST https://persyn.es.us-west-2.aws.found.io:443/anna-summaries-v0/_update/cK8kAYQBBNi73XUqp6as [status:200 duration:0.026s]\n",
      "POST https://persyn.es.us-west-2.aws.found.io:443/anna-summaries-v0/_search [status:200 duration:0.028s]\n",
      "POST https://persyn.es.us-west-2.aws.found.io:443/anna-conversations-v0/_search [status:200 duration:0.027s]\n",
      "POST https://persyn.es.us-west-2.aws.found.io:443/anna-summaries-v0/_update/ANT6AYEBBCovfdTknorI [status:200 duration:0.027s]\n",
      "POST https://persyn.es.us-west-2.aws.found.io:443/anna-summaries-v0/_search [status:200 duration:0.032s]\n",
      "POST https://persyn.es.us-west-2.aws.found.io:443/anna-conversations-v0/_search [status:200 duration:0.022s]\n",
      "POST https://persyn.es.us-west-2.aws.found.io:443/anna-summaries-v0/_update/nSP734IBy5mPdc6PfWmH [status:200 duration:0.029s]\n",
      "POST https://persyn.es.us-west-2.aws.found.io:443/anna-summaries-v0/_search [status:200 duration:0.021s]\n"
     ]
    },
    {
     "name": "stdout",
     "output_type": "stream",
     "text": [
      "{'_index': 'anna-summaries-v0', '_id': 'cK8kAYQBBNi73XUqp6as', '_version': 2, 'result': 'updated', '_shards': {'total': 2, 'successful': 2, 'failed': 0}, '_seq_no': 2063, '_primary_term': 17}\n",
      "{'_index': 'anna-summaries-v0', '_id': 'ANT6AYEBBCovfdTknorI', '_version': 2, 'result': 'updated', '_shards': {'total': 2, 'successful': 2, 'failed': 0}, '_seq_no': 2064, '_primary_term': 17}\n",
      "{'_index': 'anna-summaries-v0', '_id': 'nSP734IBy5mPdc6PfWmH', '_version': 2, 'result': 'updated', '_shards': {'total': 2, 'successful': 2, 'failed': 0}, '_seq_no': 2065, '_primary_term': 17}\n"
     ]
    },
    {
     "name": "stderr",
     "output_type": "stream",
     "text": [
      "POST https://persyn.es.us-west-2.aws.found.io:443/anna-conversations-v0/_search [status:200 duration:0.028s]\n",
      "POST https://persyn.es.us-west-2.aws.found.io:443/anna-summaries-v0/_update/f69PEoQBBNi73XUqvKkl [status:200 duration:0.026s]\n",
      "POST https://persyn.es.us-west-2.aws.found.io:443/anna-summaries-v0/_search [status:200 duration:0.027s]\n",
      "POST https://persyn.es.us-west-2.aws.found.io:443/anna-conversations-v0/_search [status:200 duration:0.027s]\n",
      "POST https://persyn.es.us-west-2.aws.found.io:443/anna-summaries-v0/_update/uuACsYQB6EXxeIxUx4cV [status:200 duration:0.025s]\n",
      "POST https://persyn.es.us-west-2.aws.found.io:443/anna-summaries-v0/_search [status:200 duration:0.025s]\n",
      "POST https://persyn.es.us-west-2.aws.found.io:443/anna-conversations-v0/_search [status:200 duration:0.029s]\n",
      "POST https://persyn.es.us-west-2.aws.found.io:443/anna-summaries-v0/_update/RK-2l4QBBNi73XUqybDm [status:200 duration:0.028s]\n",
      "POST https://persyn.es.us-west-2.aws.found.io:443/anna-summaries-v0/_search [status:200 duration:0.027s]\n"
     ]
    },
    {
     "name": "stdout",
     "output_type": "stream",
     "text": [
      "{'_index': 'anna-summaries-v0', '_id': 'f69PEoQBBNi73XUqvKkl', '_version': 2, 'result': 'updated', '_shards': {'total': 2, 'successful': 2, 'failed': 0}, '_seq_no': 2066, '_primary_term': 17}\n",
      "{'_index': 'anna-summaries-v0', '_id': 'uuACsYQB6EXxeIxUx4cV', '_version': 2, 'result': 'updated', '_shards': {'total': 2, 'successful': 2, 'failed': 0}, '_seq_no': 2067, '_primary_term': 17}\n",
      "{'_index': 'anna-summaries-v0', '_id': 'RK-2l4QBBNi73XUqybDm', '_version': 2, 'result': 'updated', '_shards': {'total': 2, 'successful': 2, 'failed': 0}, '_seq_no': 2068, '_primary_term': 17}\n"
     ]
    },
    {
     "name": "stderr",
     "output_type": "stream",
     "text": [
      "POST https://persyn.es.us-west-2.aws.found.io:443/anna-conversations-v0/_search [status:200 duration:0.027s]\n",
      "POST https://persyn.es.us-west-2.aws.found.io:443/anna-summaries-v0/_update/AE2ecoMBRfbdi4KAz1vW [status:200 duration:0.029s]\n",
      "POST https://persyn.es.us-west-2.aws.found.io:443/anna-summaries-v0/_search [status:200 duration:0.021s]\n",
      "POST https://persyn.es.us-west-2.aws.found.io:443/anna-conversations-v0/_search [status:200 duration:0.029s]\n",
      "POST https://persyn.es.us-west-2.aws.found.io:443/anna-summaries-v0/_update/rk2gqYIBRfbdi4KA7k6o [status:200 duration:0.028s]\n",
      "POST https://persyn.es.us-west-2.aws.found.io:443/anna-summaries-v0/_search [status:200 duration:0.026s]\n",
      "POST https://persyn.es.us-west-2.aws.found.io:443/anna-conversations-v0/_search [status:200 duration:0.028s]\n",
      "POST https://persyn.es.us-west-2.aws.found.io:443/anna-summaries-v0/_update/aeBShoQB6EXxeIxUdoK9 [status:200 duration:0.026s]\n",
      "POST https://persyn.es.us-west-2.aws.found.io:443/anna-summaries-v0/_search [status:200 duration:0.026s]\n"
     ]
    },
    {
     "name": "stdout",
     "output_type": "stream",
     "text": [
      "{'_index': 'anna-summaries-v0', '_id': 'AE2ecoMBRfbdi4KAz1vW', '_version': 2, 'result': 'updated', '_shards': {'total': 2, 'successful': 2, 'failed': 0}, '_seq_no': 2069, '_primary_term': 17}\n",
      "{'_index': 'anna-summaries-v0', '_id': 'rk2gqYIBRfbdi4KA7k6o', '_version': 2, 'result': 'updated', '_shards': {'total': 2, 'successful': 2, 'failed': 0}, '_seq_no': 2070, '_primary_term': 17}\n",
      "{'_index': 'anna-summaries-v0', '_id': 'aeBShoQB6EXxeIxUdoK9', '_version': 2, 'result': 'updated', '_shards': {'total': 2, 'successful': 2, 'failed': 0}, '_seq_no': 2071, '_primary_term': 17}\n"
     ]
    },
    {
     "name": "stderr",
     "output_type": "stream",
     "text": [
      "POST https://persyn.es.us-west-2.aws.found.io:443/anna-conversations-v0/_search [status:200 duration:0.027s]\n",
      "POST https://persyn.es.us-west-2.aws.found.io:443/anna-summaries-v0/_update/kdRzfoEBBCovfdTk86pw [status:200 duration:0.026s]\n",
      "POST https://persyn.es.us-west-2.aws.found.io:443/anna-summaries-v0/_search [status:200 duration:0.027s]\n",
      "POST https://persyn.es.us-west-2.aws.found.io:443/anna-conversations-v0/_search [status:200 duration:0.030s]\n",
      "POST https://persyn.es.us-west-2.aws.found.io:443/anna-summaries-v0/_update/Nk2gyIIBRfbdi4KAaVLB [status:200 duration:0.026s]\n",
      "POST https://persyn.es.us-west-2.aws.found.io:443/anna-summaries-v0/_search [status:200 duration:0.026s]\n",
      "POST https://persyn.es.us-west-2.aws.found.io:443/anna-conversations-v0/_search [status:200 duration:0.030s]\n",
      "POST https://persyn.es.us-west-2.aws.found.io:443/anna-summaries-v0/_update/zCPry4IBy5mPdc6PBmhb [status:200 duration:0.025s]\n",
      "POST https://persyn.es.us-west-2.aws.found.io:443/anna-summaries-v0/_search [status:200 duration:0.022s]\n"
     ]
    },
    {
     "name": "stdout",
     "output_type": "stream",
     "text": [
      "{'_index': 'anna-summaries-v0', '_id': 'kdRzfoEBBCovfdTk86pw', '_version': 2, 'result': 'updated', '_shards': {'total': 2, 'successful': 2, 'failed': 0}, '_seq_no': 2072, '_primary_term': 17}\n",
      "{'_index': 'anna-summaries-v0', '_id': 'Nk2gyIIBRfbdi4KAaVLB', '_version': 2, 'result': 'updated', '_shards': {'total': 2, 'successful': 2, 'failed': 0}, '_seq_no': 2073, '_primary_term': 17}\n",
      "{'_index': 'anna-summaries-v0', '_id': 'zCPry4IBy5mPdc6PBmhb', '_version': 2, 'result': 'updated', '_shards': {'total': 2, 'successful': 2, 'failed': 0}, '_seq_no': 2074, '_primary_term': 17}\n"
     ]
    },
    {
     "name": "stderr",
     "output_type": "stream",
     "text": [
      "POST https://persyn.es.us-west-2.aws.found.io:443/anna-conversations-v0/_search [status:200 duration:0.025s]\n",
      "POST https://persyn.es.us-west-2.aws.found.io:443/anna-summaries-v0/_update/2k3XqYIBRfbdi4KAu060 [status:200 duration:0.024s]\n",
      "POST https://persyn.es.us-west-2.aws.found.io:443/anna-summaries-v0/_search [status:200 duration:0.028s]\n",
      "POST https://persyn.es.us-west-2.aws.found.io:443/anna-conversations-v0/_search [status:200 duration:0.023s]\n",
      "POST https://persyn.es.us-west-2.aws.found.io:443/anna-summaries-v0/_update/z01EcoMBRfbdi4KArlp6 [status:200 duration:0.031s]\n",
      "POST https://persyn.es.us-west-2.aws.found.io:443/anna-summaries-v0/_search [status:200 duration:0.031s]\n",
      "POST https://persyn.es.us-west-2.aws.found.io:443/anna-conversations-v0/_search [status:200 duration:0.027s]\n",
      "POST https://persyn.es.us-west-2.aws.found.io:443/anna-summaries-v0/_update/NhjTYYAB1O6hlTWgtWE1 [status:200 duration:0.032s]\n"
     ]
    },
    {
     "name": "stdout",
     "output_type": "stream",
     "text": [
      "{'_index': 'anna-summaries-v0', '_id': '2k3XqYIBRfbdi4KAu060', '_version': 2, 'result': 'updated', '_shards': {'total': 2, 'successful': 2, 'failed': 0}, '_seq_no': 2075, '_primary_term': 17}\n",
      "{'_index': 'anna-summaries-v0', '_id': 'z01EcoMBRfbdi4KArlp6', '_version': 2, 'result': 'updated', '_shards': {'total': 2, 'successful': 2, 'failed': 0}, '_seq_no': 2076, '_primary_term': 17}\n",
      "{'_index': 'anna-summaries-v0', '_id': 'NhjTYYAB1O6hlTWgtWE1', '_version': 2, 'result': 'updated', '_shards': {'total': 2, 'successful': 2, 'failed': 0}, '_seq_no': 2077, '_primary_term': 17}\n"
     ]
    },
    {
     "name": "stderr",
     "output_type": "stream",
     "text": [
      "POST https://persyn.es.us-west-2.aws.found.io:443/anna-summaries-v0/_search [status:200 duration:0.028s]\n",
      "POST https://persyn.es.us-west-2.aws.found.io:443/anna-conversations-v0/_search [status:200 duration:0.029s]\n",
      "POST https://persyn.es.us-west-2.aws.found.io:443/anna-summaries-v0/_update/L9SqfYEBBCovfdTk9KpI [status:200 duration:0.026s]\n",
      "POST https://persyn.es.us-west-2.aws.found.io:443/anna-summaries-v0/_search [status:200 duration:0.027s]\n",
      "POST https://persyn.es.us-west-2.aws.found.io:443/anna-conversations-v0/_search [status:200 duration:0.028s]\n",
      "POST https://persyn.es.us-west-2.aws.found.io:443/anna-summaries-v0/_update/ZNSHCIEBBCovfdTksIwb [status:200 duration:0.028s]\n",
      "POST https://persyn.es.us-west-2.aws.found.io:443/anna-summaries-v0/_search [status:200 duration:0.030s]\n",
      "POST https://persyn.es.us-west-2.aws.found.io:443/anna-conversations-v0/_search [status:200 duration:0.038s]\n",
      "POST https://persyn.es.us-west-2.aws.found.io:443/anna-summaries-v0/_update/sk0UlYIBRfbdi4KAvkzj [status:200 duration:0.030s]\n"
     ]
    },
    {
     "name": "stdout",
     "output_type": "stream",
     "text": [
      "{'_index': 'anna-summaries-v0', '_id': 'L9SqfYEBBCovfdTk9KpI', '_version': 2, 'result': 'updated', '_shards': {'total': 2, 'successful': 2, 'failed': 0}, '_seq_no': 2078, '_primary_term': 17}\n",
      "{'_index': 'anna-summaries-v0', '_id': 'ZNSHCIEBBCovfdTksIwb', '_version': 2, 'result': 'updated', '_shards': {'total': 2, 'successful': 2, 'failed': 0}, '_seq_no': 2079, '_primary_term': 17}\n",
      "{'_index': 'anna-summaries-v0', '_id': 'sk0UlYIBRfbdi4KAvkzj', '_version': 2, 'result': 'updated', '_shards': {'total': 2, 'successful': 2, 'failed': 0}, '_seq_no': 2080, '_primary_term': 17}\n"
     ]
    },
    {
     "name": "stderr",
     "output_type": "stream",
     "text": [
      "POST https://persyn.es.us-west-2.aws.found.io:443/anna-summaries-v0/_search [status:200 duration:0.028s]\n",
      "POST https://persyn.es.us-west-2.aws.found.io:443/anna-conversations-v0/_search [status:200 duration:0.027s]\n",
      "POST https://persyn.es.us-west-2.aws.found.io:443/anna-summaries-v0/_update/4OD8EYQB6EXxeIxUCXyk [status:200 duration:0.030s]\n",
      "POST https://persyn.es.us-west-2.aws.found.io:443/anna-summaries-v0/_search [status:200 duration:0.028s]\n",
      "POST https://persyn.es.us-west-2.aws.found.io:443/anna-conversations-v0/_search [status:200 duration:0.026s]\n",
      "POST https://persyn.es.us-west-2.aws.found.io:443/anna-summaries-v0/_update/qOCssIQB6EXxeIxU54dw [status:200 duration:0.027s]\n",
      "POST https://persyn.es.us-west-2.aws.found.io:443/anna-summaries-v0/_search [status:200 duration:0.023s]\n",
      "POST https://persyn.es.us-west-2.aws.found.io:443/anna-conversations-v0/_search [status:200 duration:0.028s]\n",
      "POST https://persyn.es.us-west-2.aws.found.io:443/anna-summaries-v0/_update/iuCZsIQB6EXxeIxUgoeH [status:200 duration:0.025s]\n",
      "POST https://persyn.es.us-west-2.aws.found.io:443/anna-summaries-v0/_search [status:200 duration:0.029s]\n"
     ]
    },
    {
     "name": "stdout",
     "output_type": "stream",
     "text": [
      "{'_index': 'anna-summaries-v0', '_id': '4OD8EYQB6EXxeIxUCXyk', '_version': 2, 'result': 'updated', '_shards': {'total': 2, 'successful': 2, 'failed': 0}, '_seq_no': 2081, '_primary_term': 17}\n",
      "{'_index': 'anna-summaries-v0', '_id': 'qOCssIQB6EXxeIxU54dw', '_version': 2, 'result': 'updated', '_shards': {'total': 2, 'successful': 2, 'failed': 0}, '_seq_no': 2082, '_primary_term': 17}\n",
      "{'_index': 'anna-summaries-v0', '_id': 'iuCZsIQB6EXxeIxUgoeH', '_version': 2, 'result': 'updated', '_shards': {'total': 2, 'successful': 2, 'failed': 0}, '_seq_no': 2083, '_primary_term': 17}\n"
     ]
    },
    {
     "name": "stderr",
     "output_type": "stream",
     "text": [
      "POST https://persyn.es.us-west-2.aws.found.io:443/anna-conversations-v0/_search [status:200 duration:0.028s]\n",
      "POST https://persyn.es.us-west-2.aws.found.io:443/anna-summaries-v0/_update/euCXKoQB6EXxeIxUv34_ [status:200 duration:0.028s]\n",
      "POST https://persyn.es.us-west-2.aws.found.io:443/anna-summaries-v0/_search [status:200 duration:0.030s]\n",
      "POST https://persyn.es.us-west-2.aws.found.io:443/anna-conversations-v0/_search [status:200 duration:0.028s]\n",
      "POST https://persyn.es.us-west-2.aws.found.io:443/anna-summaries-v0/_update/6R3TF4IBGYbVpQ0oM5uB [status:200 duration:0.031s]\n",
      "POST https://persyn.es.us-west-2.aws.found.io:443/anna-summaries-v0/_search [status:200 duration:0.030s]\n",
      "POST https://persyn.es.us-west-2.aws.found.io:443/anna-conversations-v0/_search [status:200 duration:0.023s]\n",
      "POST https://persyn.es.us-west-2.aws.found.io:443/anna-summaries-v0/_update/OeC5H4QB6EXxeIxUoX5t [status:200 duration:0.028s]\n"
     ]
    },
    {
     "name": "stdout",
     "output_type": "stream",
     "text": [
      "{'_index': 'anna-summaries-v0', '_id': 'euCXKoQB6EXxeIxUv34_', '_version': 2, 'result': 'updated', '_shards': {'total': 2, 'successful': 2, 'failed': 0}, '_seq_no': 2084, '_primary_term': 17}\n",
      "{'_index': 'anna-summaries-v0', '_id': '6R3TF4IBGYbVpQ0oM5uB', '_version': 2, 'result': 'updated', '_shards': {'total': 2, 'successful': 2, 'failed': 0}, '_seq_no': 2085, '_primary_term': 17}\n",
      "{'_index': 'anna-summaries-v0', '_id': 'OeC5H4QB6EXxeIxUoX5t', '_version': 2, 'result': 'updated', '_shards': {'total': 2, 'successful': 2, 'failed': 0}, '_seq_no': 2086, '_primary_term': 17}\n"
     ]
    },
    {
     "name": "stderr",
     "output_type": "stream",
     "text": [
      "POST https://persyn.es.us-west-2.aws.found.io:443/anna-summaries-v0/_search [status:200 duration:0.026s]\n",
      "POST https://persyn.es.us-west-2.aws.found.io:443/anna-conversations-v0/_search [status:200 duration:0.021s]\n",
      "POST https://persyn.es.us-west-2.aws.found.io:443/anna-summaries-v0/_update/a-BMRYQB6EXxeIxUdX8s [status:200 duration:0.034s]\n",
      "POST https://persyn.es.us-west-2.aws.found.io:443/anna-summaries-v0/_search [status:200 duration:0.027s]\n",
      "POST https://persyn.es.us-west-2.aws.found.io:443/anna-conversations-v0/_search [status:200 duration:0.028s]\n",
      "POST https://persyn.es.us-west-2.aws.found.io:443/anna-summaries-v0/_update/ptS5MIEBBCovfdTkhpcz [status:200 duration:0.025s]\n",
      "POST https://persyn.es.us-west-2.aws.found.io:443/anna-summaries-v0/_search [status:200 duration:0.028s]\n",
      "POST https://persyn.es.us-west-2.aws.found.io:443/anna-conversations-v0/_search [status:200 duration:0.023s]\n",
      "POST https://persyn.es.us-west-2.aws.found.io:443/anna-summaries-v0/_update/_k0i_4IBRfbdi4KAoVUG [status:200 duration:0.030s]\n"
     ]
    },
    {
     "name": "stdout",
     "output_type": "stream",
     "text": [
      "{'_index': 'anna-summaries-v0', '_id': 'a-BMRYQB6EXxeIxUdX8s', '_version': 2, 'result': 'updated', '_shards': {'total': 2, 'successful': 2, 'failed': 0}, '_seq_no': 2087, '_primary_term': 17}\n",
      "{'_index': 'anna-summaries-v0', '_id': 'ptS5MIEBBCovfdTkhpcz', '_version': 2, 'result': 'updated', '_shards': {'total': 2, 'successful': 2, 'failed': 0}, '_seq_no': 2088, '_primary_term': 17}\n",
      "{'_index': 'anna-summaries-v0', '_id': '_k0i_4IBRfbdi4KAoVUG', '_version': 2, 'result': 'updated', '_shards': {'total': 2, 'successful': 2, 'failed': 0}, '_seq_no': 2089, '_primary_term': 17}\n"
     ]
    },
    {
     "name": "stderr",
     "output_type": "stream",
     "text": [
      "POST https://persyn.es.us-west-2.aws.found.io:443/anna-summaries-v0/_search [status:200 duration:0.027s]\n",
      "POST https://persyn.es.us-west-2.aws.found.io:443/anna-conversations-v0/_search [status:200 duration:0.026s]\n",
      "POST https://persyn.es.us-west-2.aws.found.io:443/anna-summaries-v0/_update/PE0LkIIBRfbdi4KAf0zR [status:200 duration:0.026s]\n",
      "POST https://persyn.es.us-west-2.aws.found.io:443/anna-summaries-v0/_search [status:200 duration:0.027s]\n",
      "POST https://persyn.es.us-west-2.aws.found.io:443/anna-conversations-v0/_search [status:200 duration:0.026s]\n",
      "POST https://persyn.es.us-west-2.aws.found.io:443/anna-summaries-v0/_update/3R1zUYIBGYbVpQ0om7DU [status:200 duration:0.025s]\n",
      "POST https://persyn.es.us-west-2.aws.found.io:443/anna-summaries-v0/_search [status:200 duration:0.026s]\n",
      "POST https://persyn.es.us-west-2.aws.found.io:443/anna-conversations-v0/_search [status:200 duration:0.023s]\n",
      "POST https://persyn.es.us-west-2.aws.found.io:443/anna-summaries-v0/_update/o-DCmoMB6EXxeIxUjHY- [status:200 duration:0.023s]\n",
      "POST https://persyn.es.us-west-2.aws.found.io:443/anna-summaries-v0/_search [status:200 duration:0.026s]\n"
     ]
    },
    {
     "name": "stdout",
     "output_type": "stream",
     "text": [
      "{'_index': 'anna-summaries-v0', '_id': 'PE0LkIIBRfbdi4KAf0zR', '_version': 2, 'result': 'updated', '_shards': {'total': 2, 'successful': 2, 'failed': 0}, '_seq_no': 2090, '_primary_term': 17}\n",
      "{'_index': 'anna-summaries-v0', '_id': '3R1zUYIBGYbVpQ0om7DU', '_version': 2, 'result': 'updated', '_shards': {'total': 2, 'successful': 2, 'failed': 0}, '_seq_no': 2091, '_primary_term': 17}\n",
      "{'_index': 'anna-summaries-v0', '_id': 'o-DCmoMB6EXxeIxUjHY-', '_version': 2, 'result': 'updated', '_shards': {'total': 2, 'successful': 2, 'failed': 0}, '_seq_no': 2092, '_primary_term': 17}\n"
     ]
    },
    {
     "name": "stderr",
     "output_type": "stream",
     "text": [
      "POST https://persyn.es.us-west-2.aws.found.io:443/anna-conversations-v0/_search [status:200 duration:0.028s]\n",
      "POST https://persyn.es.us-west-2.aws.found.io:443/anna-summaries-v0/_update/-OAgd4QB6EXxeIxUcYGG [status:200 duration:0.023s]\n",
      "POST https://persyn.es.us-west-2.aws.found.io:443/anna-summaries-v0/_search [status:200 duration:0.026s]\n",
      "POST https://persyn.es.us-west-2.aws.found.io:443/anna-conversations-v0/_search [status:200 duration:0.022s]\n",
      "POST https://persyn.es.us-west-2.aws.found.io:443/anna-summaries-v0/_update/xuAOkoQB6EXxeIxUZIN1 [status:200 duration:0.024s]\n",
      "POST https://persyn.es.us-west-2.aws.found.io:443/anna-summaries-v0/_search [status:200 duration:0.025s]\n",
      "POST https://persyn.es.us-west-2.aws.found.io:443/anna-conversations-v0/_search [status:200 duration:0.022s]\n",
      "POST https://persyn.es.us-west-2.aws.found.io:443/anna-summaries-v0/_update/ctSgCIEBBCovfdTkpIxz [status:200 duration:0.022s]\n",
      "POST https://persyn.es.us-west-2.aws.found.io:443/anna-summaries-v0/_search [status:200 duration:0.027s]\n"
     ]
    },
    {
     "name": "stdout",
     "output_type": "stream",
     "text": [
      "{'_index': 'anna-summaries-v0', '_id': '-OAgd4QB6EXxeIxUcYGG', '_version': 2, 'result': 'updated', '_shards': {'total': 2, 'successful': 2, 'failed': 0}, '_seq_no': 2093, '_primary_term': 17}\n",
      "{'_index': 'anna-summaries-v0', '_id': 'xuAOkoQB6EXxeIxUZIN1', '_version': 2, 'result': 'updated', '_shards': {'total': 2, 'successful': 2, 'failed': 0}, '_seq_no': 2094, '_primary_term': 17}\n",
      "{'_index': 'anna-summaries-v0', '_id': 'ctSgCIEBBCovfdTkpIxz', '_version': 2, 'result': 'updated', '_shards': {'total': 2, 'successful': 2, 'failed': 0}, '_seq_no': 2095, '_primary_term': 17}\n"
     ]
    },
    {
     "name": "stderr",
     "output_type": "stream",
     "text": [
      "POST https://persyn.es.us-west-2.aws.found.io:443/anna-conversations-v0/_search [status:200 duration:0.021s]\n",
      "POST https://persyn.es.us-west-2.aws.found.io:443/anna-summaries-v0/_update/KBhAVYAB1O6hlTWgH1wL [status:200 duration:0.027s]\n",
      "POST https://persyn.es.us-west-2.aws.found.io:443/anna-summaries-v0/_search [status:200 duration:0.026s]\n",
      "POST https://persyn.es.us-west-2.aws.found.io:443/anna-conversations-v0/_search [status:200 duration:0.035s]\n",
      "POST https://persyn.es.us-west-2.aws.found.io:443/anna-summaries-v0/_update/qyP2NIMBy5mPdc6P_Wwk [status:200 duration:0.041s]\n",
      "POST https://persyn.es.us-west-2.aws.found.io:443/anna-summaries-v0/_search [status:200 duration:0.028s]\n",
      "POST https://persyn.es.us-west-2.aws.found.io:443/anna-conversations-v0/_search [status:200 duration:0.027s]\n",
      "POST https://persyn.es.us-west-2.aws.found.io:443/anna-summaries-v0/_update/8h2DUIIBGYbVpQ0oA6_U [status:200 duration:0.025s]\n"
     ]
    },
    {
     "name": "stdout",
     "output_type": "stream",
     "text": [
      "{'_index': 'anna-summaries-v0', '_id': 'KBhAVYAB1O6hlTWgH1wL', '_version': 2, 'result': 'updated', '_shards': {'total': 2, 'successful': 2, 'failed': 0}, '_seq_no': 2096, '_primary_term': 17}\n",
      "{'_index': 'anna-summaries-v0', '_id': 'qyP2NIMBy5mPdc6P_Wwk', '_version': 2, 'result': 'updated', '_shards': {'total': 2, 'successful': 2, 'failed': 0}, '_seq_no': 2097, '_primary_term': 17}\n",
      "{'_index': 'anna-summaries-v0', '_id': '8h2DUIIBGYbVpQ0oA6_U', '_version': 2, 'result': 'updated', '_shards': {'total': 2, 'successful': 2, 'failed': 0}, '_seq_no': 2098, '_primary_term': 17}\n"
     ]
    },
    {
     "name": "stderr",
     "output_type": "stream",
     "text": [
      "POST https://persyn.es.us-west-2.aws.found.io:443/anna-summaries-v0/_search [status:200 duration:0.028s]\n",
      "POST https://persyn.es.us-west-2.aws.found.io:443/anna-conversations-v0/_search [status:200 duration:0.031s]\n",
      "POST https://persyn.es.us-west-2.aws.found.io:443/anna-summaries-v0/_update/ba9YnYQBBNi73XUqdLBB [status:200 duration:0.028s]\n",
      "POST https://persyn.es.us-west-2.aws.found.io:443/anna-summaries-v0/_search [status:200 duration:0.027s]\n",
      "POST https://persyn.es.us-west-2.aws.found.io:443/anna-conversations-v0/_search [status:200 duration:0.029s]\n",
      "POST https://persyn.es.us-west-2.aws.found.io:443/anna-summaries-v0/_update/nOCBAIQB6EXxeIxUCnpu [status:200 duration:0.029s]\n",
      "POST https://persyn.es.us-west-2.aws.found.io:443/anna-summaries-v0/_search [status:200 duration:0.032s]\n",
      "POST https://persyn.es.us-west-2.aws.found.io:443/anna-conversations-v0/_search [status:200 duration:0.032s]\n",
      "POST https://persyn.es.us-west-2.aws.found.io:443/anna-summaries-v0/_update/dBj4FYAB1O6hlTWgmk2Q [status:200 duration:0.027s]\n"
     ]
    },
    {
     "name": "stdout",
     "output_type": "stream",
     "text": [
      "{'_index': 'anna-summaries-v0', '_id': 'ba9YnYQBBNi73XUqdLBB', '_version': 2, 'result': 'updated', '_shards': {'total': 2, 'successful': 2, 'failed': 0}, '_seq_no': 2099, '_primary_term': 17}\n",
      "{'_index': 'anna-summaries-v0', '_id': 'nOCBAIQB6EXxeIxUCnpu', '_version': 2, 'result': 'updated', '_shards': {'total': 2, 'successful': 2, 'failed': 0}, '_seq_no': 2100, '_primary_term': 17}\n",
      "{'_index': 'anna-summaries-v0', '_id': 'dBj4FYAB1O6hlTWgmk2Q', '_version': 2, 'result': 'updated', '_shards': {'total': 2, 'successful': 2, 'failed': 0}, '_seq_no': 2101, '_primary_term': 17}\n"
     ]
    },
    {
     "name": "stderr",
     "output_type": "stream",
     "text": [
      "POST https://persyn.es.us-west-2.aws.found.io:443/anna-summaries-v0/_search [status:200 duration:0.030s]\n",
      "POST https://persyn.es.us-west-2.aws.found.io:443/anna-conversations-v0/_search [status:200 duration:0.025s]\n",
      "POST https://persyn.es.us-west-2.aws.found.io:443/anna-summaries-v0/_update/eBgXWYAB1O6hlTWgMl2L [status:200 duration:0.033s]\n",
      "POST https://persyn.es.us-west-2.aws.found.io:443/anna-summaries-v0/_search [status:200 duration:0.028s]\n",
      "POST https://persyn.es.us-west-2.aws.found.io:443/anna-conversations-v0/_search [status:200 duration:0.027s]\n",
      "POST https://persyn.es.us-west-2.aws.found.io:443/anna-summaries-v0/_update/iq9sXYQBBNi73XUq06xl [status:200 duration:0.031s]\n",
      "POST https://persyn.es.us-west-2.aws.found.io:443/anna-summaries-v0/_search [status:200 duration:0.023s]\n",
      "POST https://persyn.es.us-west-2.aws.found.io:443/anna-conversations-v0/_search [status:200 duration:0.028s]\n",
      "POST https://persyn.es.us-west-2.aws.found.io:443/anna-summaries-v0/_update/uK8Nk4QBBNi73XUqYa8h [status:200 duration:0.026s]\n"
     ]
    },
    {
     "name": "stdout",
     "output_type": "stream",
     "text": [
      "{'_index': 'anna-summaries-v0', '_id': 'eBgXWYAB1O6hlTWgMl2L', '_version': 2, 'result': 'updated', '_shards': {'total': 2, 'successful': 2, 'failed': 0}, '_seq_no': 2102, '_primary_term': 17}\n",
      "{'_index': 'anna-summaries-v0', '_id': 'iq9sXYQBBNi73XUq06xl', '_version': 2, 'result': 'updated', '_shards': {'total': 2, 'successful': 2, 'failed': 0}, '_seq_no': 2103, '_primary_term': 17}\n",
      "{'_index': 'anna-summaries-v0', '_id': 'uK8Nk4QBBNi73XUqYa8h', '_version': 2, 'result': 'updated', '_shards': {'total': 2, 'successful': 2, 'failed': 0}, '_seq_no': 2104, '_primary_term': 17}\n"
     ]
    },
    {
     "name": "stderr",
     "output_type": "stream",
     "text": [
      "POST https://persyn.es.us-west-2.aws.found.io:443/anna-summaries-v0/_search [status:200 duration:0.025s]\n",
      "POST https://persyn.es.us-west-2.aws.found.io:443/anna-conversations-v0/_search [status:200 duration:0.027s]\n",
      "POST https://persyn.es.us-west-2.aws.found.io:443/anna-summaries-v0/_update/2B17UIIBGYbVpQ0oKq_w [status:200 duration:0.030s]\n",
      "POST https://persyn.es.us-west-2.aws.found.io:443/anna-summaries-v0/_search [status:200 duration:0.027s]\n",
      "POST https://persyn.es.us-west-2.aws.found.io:443/anna-conversations-v0/_search [status:200 duration:0.022s]\n",
      "POST https://persyn.es.us-west-2.aws.found.io:443/anna-summaries-v0/_update/rK9bEoQBBNi73XUquqk- [status:200 duration:0.023s]\n",
      "POST https://persyn.es.us-west-2.aws.found.io:443/anna-summaries-v0/_search [status:200 duration:0.027s]\n",
      "POST https://persyn.es.us-west-2.aws.found.io:443/anna-conversations-v0/_search [status:200 duration:0.021s]\n",
      "POST https://persyn.es.us-west-2.aws.found.io:443/anna-summaries-v0/_update/utTDMIEBBCovfdTkyJfW [status:200 duration:0.027s]\n",
      "POST https://persyn.es.us-west-2.aws.found.io:443/anna-summaries-v0/_search [status:200 duration:0.027s]\n"
     ]
    },
    {
     "name": "stdout",
     "output_type": "stream",
     "text": [
      "{'_index': 'anna-summaries-v0', '_id': '2B17UIIBGYbVpQ0oKq_w', '_version': 2, 'result': 'updated', '_shards': {'total': 2, 'successful': 2, 'failed': 0}, '_seq_no': 2105, '_primary_term': 17}\n",
      "{'_index': 'anna-summaries-v0', '_id': 'rK9bEoQBBNi73XUquqk-', '_version': 2, 'result': 'updated', '_shards': {'total': 2, 'successful': 2, 'failed': 0}, '_seq_no': 2106, '_primary_term': 17}\n",
      "{'_index': 'anna-summaries-v0', '_id': 'utTDMIEBBCovfdTkyJfW', '_version': 2, 'result': 'updated', '_shards': {'total': 2, 'successful': 2, 'failed': 0}, '_seq_no': 2107, '_primary_term': 17}\n"
     ]
    },
    {
     "name": "stderr",
     "output_type": "stream",
     "text": [
      "POST https://persyn.es.us-west-2.aws.found.io:443/anna-conversations-v0/_search [status:200 duration:0.028s]\n",
      "POST https://persyn.es.us-west-2.aws.found.io:443/anna-summaries-v0/_update/YdSGCIEBBCovfdTk04wl [status:200 duration:0.029s]\n",
      "POST https://persyn.es.us-west-2.aws.found.io:443/anna-summaries-v0/_search [status:200 duration:0.020s]\n",
      "POST https://persyn.es.us-west-2.aws.found.io:443/anna-conversations-v0/_search [status:200 duration:0.028s]\n",
      "POST https://persyn.es.us-west-2.aws.found.io:443/anna-summaries-v0/_update/U-ADkYMB6EXxeIxUTXa2 [status:200 duration:0.025s]\n",
      "POST https://persyn.es.us-west-2.aws.found.io:443/anna-summaries-v0/_search [status:200 duration:0.021s]\n",
      "POST https://persyn.es.us-west-2.aws.found.io:443/anna-conversations-v0/_search [status:200 duration:0.027s]\n",
      "POST https://persyn.es.us-west-2.aws.found.io:443/anna-summaries-v0/_update/3BjFXIAB1O6hlTWgn14E [status:200 duration:0.030s]\n",
      "POST https://persyn.es.us-west-2.aws.found.io:443/anna-summaries-v0/_search [status:200 duration:0.021s]\n"
     ]
    },
    {
     "name": "stdout",
     "output_type": "stream",
     "text": [
      "{'_index': 'anna-summaries-v0', '_id': 'YdSGCIEBBCovfdTk04wl', '_version': 2, 'result': 'updated', '_shards': {'total': 2, 'successful': 2, 'failed': 0}, '_seq_no': 2108, '_primary_term': 17}\n",
      "{'_index': 'anna-summaries-v0', '_id': 'U-ADkYMB6EXxeIxUTXa2', '_version': 2, 'result': 'updated', '_shards': {'total': 2, 'successful': 2, 'failed': 0}, '_seq_no': 2109, '_primary_term': 17}\n",
      "{'_index': 'anna-summaries-v0', '_id': '3BjFXIAB1O6hlTWgn14E', '_version': 2, 'result': 'updated', '_shards': {'total': 2, 'successful': 2, 'failed': 0}, '_seq_no': 2110, '_primary_term': 17}\n"
     ]
    },
    {
     "name": "stderr",
     "output_type": "stream",
     "text": [
      "POST https://persyn.es.us-west-2.aws.found.io:443/anna-conversations-v0/_search [status:200 duration:0.031s]\n",
      "POST https://persyn.es.us-west-2.aws.found.io:443/anna-summaries-v0/_update/_K-U7oMBBNi73XUqEaN6 [status:200 duration:0.026s]\n",
      "POST https://persyn.es.us-west-2.aws.found.io:443/anna-summaries-v0/_search [status:200 duration:0.028s]\n",
      "POST https://persyn.es.us-west-2.aws.found.io:443/anna-conversations-v0/_search [status:200 duration:0.023s]\n",
      "POST https://persyn.es.us-west-2.aws.found.io:443/anna-summaries-v0/_update/4xjsbYAB1O6hlTWgfWTI [status:200 duration:0.026s]\n",
      "POST https://persyn.es.us-west-2.aws.found.io:443/anna-summaries-v0/_search [status:200 duration:0.027s]\n",
      "POST https://persyn.es.us-west-2.aws.found.io:443/anna-conversations-v0/_search [status:200 duration:0.030s]\n",
      "POST https://persyn.es.us-west-2.aws.found.io:443/anna-summaries-v0/_update/StSu9oABBCovfdTkuIfA [status:200 duration:0.028s]\n"
     ]
    },
    {
     "name": "stdout",
     "output_type": "stream",
     "text": [
      "{'_index': 'anna-summaries-v0', '_id': '_K-U7oMBBNi73XUqEaN6', '_version': 2, 'result': 'updated', '_shards': {'total': 2, 'successful': 2, 'failed': 0}, '_seq_no': 2111, '_primary_term': 17}\n",
      "{'_index': 'anna-summaries-v0', '_id': '4xjsbYAB1O6hlTWgfWTI', '_version': 2, 'result': 'updated', '_shards': {'total': 2, 'successful': 2, 'failed': 0}, '_seq_no': 2112, '_primary_term': 17}\n",
      "{'_index': 'anna-summaries-v0', '_id': 'StSu9oABBCovfdTkuIfA', '_version': 2, 'result': 'updated', '_shards': {'total': 2, 'successful': 2, 'failed': 0}, '_seq_no': 2113, '_primary_term': 17}\n"
     ]
    },
    {
     "name": "stderr",
     "output_type": "stream",
     "text": [
      "POST https://persyn.es.us-west-2.aws.found.io:443/anna-summaries-v0/_search [status:200 duration:0.032s]\n",
      "POST https://persyn.es.us-west-2.aws.found.io:443/anna-conversations-v0/_search [status:200 duration:0.029s]\n",
      "POST https://persyn.es.us-west-2.aws.found.io:443/anna-summaries-v0/_update/o032aoMBRfbdi4KAv1mR [status:200 duration:0.029s]\n",
      "POST https://persyn.es.us-west-2.aws.found.io:443/anna-summaries-v0/_search [status:200 duration:0.031s]\n",
      "POST https://persyn.es.us-west-2.aws.found.io:443/anna-conversations-v0/_search [status:200 duration:0.028s]\n",
      "POST https://persyn.es.us-west-2.aws.found.io:443/anna-summaries-v0/_update/ua_BZIQBBNi73XUq56w2 [status:200 duration:0.030s]\n",
      "POST https://persyn.es.us-west-2.aws.found.io:443/anna-summaries-v0/_search [status:200 duration:0.029s]\n",
      "POST https://persyn.es.us-west-2.aws.found.io:443/anna-conversations-v0/_search [status:200 duration:0.030s]\n",
      "POST https://persyn.es.us-west-2.aws.found.io:443/anna-summaries-v0/_update/uK-VEYQBBNi73XUqJ6im [status:200 duration:0.025s]\n"
     ]
    },
    {
     "name": "stdout",
     "output_type": "stream",
     "text": [
      "{'_index': 'anna-summaries-v0', '_id': 'o032aoMBRfbdi4KAv1mR', '_version': 2, 'result': 'updated', '_shards': {'total': 2, 'successful': 2, 'failed': 0}, '_seq_no': 2114, '_primary_term': 17}\n",
      "{'_index': 'anna-summaries-v0', '_id': 'ua_BZIQBBNi73XUq56w2', '_version': 2, 'result': 'updated', '_shards': {'total': 2, 'successful': 2, 'failed': 0}, '_seq_no': 2115, '_primary_term': 17}\n",
      "{'_index': 'anna-summaries-v0', '_id': 'uK-VEYQBBNi73XUqJ6im', '_version': 2, 'result': 'updated', '_shards': {'total': 2, 'successful': 2, 'failed': 0}, '_seq_no': 2116, '_primary_term': 17}\n"
     ]
    },
    {
     "name": "stderr",
     "output_type": "stream",
     "text": [
      "POST https://persyn.es.us-west-2.aws.found.io:443/anna-summaries-v0/_search [status:200 duration:0.030s]\n",
      "POST https://persyn.es.us-west-2.aws.found.io:443/anna-conversations-v0/_search [status:200 duration:0.031s]\n",
      "POST https://persyn.es.us-west-2.aws.found.io:443/anna-summaries-v0/_update/niN2qYIBy5mPdc6PpmYs [status:200 duration:0.026s]\n",
      "POST https://persyn.es.us-west-2.aws.found.io:443/anna-summaries-v0/_search [status:200 duration:0.028s]\n",
      "POST https://persyn.es.us-west-2.aws.found.io:443/anna-conversations-v0/_search [status:200 duration:0.032s]\n",
      "POST https://persyn.es.us-west-2.aws.found.io:443/anna-summaries-v0/_update/069t-4MBBNi73XUqrqSv [status:200 duration:0.031s]\n",
      "POST https://persyn.es.us-west-2.aws.found.io:443/anna-summaries-v0/_search [status:200 duration:0.027s]\n",
      "POST https://persyn.es.us-west-2.aws.found.io:443/anna-conversations-v0/_search [status:200 duration:0.024s]\n",
      "POST https://persyn.es.us-west-2.aws.found.io:443/anna-summaries-v0/_update/TB3UVoIBGYbVpQ0o2rP5 [status:200 duration:0.029s]\n"
     ]
    },
    {
     "name": "stdout",
     "output_type": "stream",
     "text": [
      "{'_index': 'anna-summaries-v0', '_id': 'niN2qYIBy5mPdc6PpmYs', '_version': 2, 'result': 'updated', '_shards': {'total': 2, 'successful': 2, 'failed': 0}, '_seq_no': 2117, '_primary_term': 17}\n",
      "{'_index': 'anna-summaries-v0', '_id': '069t-4MBBNi73XUqrqSv', '_version': 2, 'result': 'updated', '_shards': {'total': 2, 'successful': 2, 'failed': 0}, '_seq_no': 2118, '_primary_term': 17}\n",
      "{'_index': 'anna-summaries-v0', '_id': 'TB3UVoIBGYbVpQ0o2rP5', '_version': 2, 'result': 'updated', '_shards': {'total': 2, 'successful': 2, 'failed': 0}, '_seq_no': 2119, '_primary_term': 17}\n"
     ]
    },
    {
     "name": "stderr",
     "output_type": "stream",
     "text": [
      "POST https://persyn.es.us-west-2.aws.found.io:443/anna-summaries-v0/_search [status:200 duration:0.029s]\n",
      "POST https://persyn.es.us-west-2.aws.found.io:443/anna-conversations-v0/_search [status:200 duration:0.024s]\n",
      "POST https://persyn.es.us-west-2.aws.found.io:443/anna-summaries-v0/_update/uBg6u4AB1O6hlTWg0nOy [status:200 duration:0.032s]\n",
      "POST https://persyn.es.us-west-2.aws.found.io:443/anna-summaries-v0/_search [status:200 duration:0.030s]\n",
      "POST https://persyn.es.us-west-2.aws.found.io:443/anna-conversations-v0/_search [status:200 duration:0.030s]\n",
      "POST https://persyn.es.us-west-2.aws.found.io:443/anna-summaries-v0/_update/mq8rXoQBBNi73XUqd6w2 [status:200 duration:0.027s]\n",
      "POST https://persyn.es.us-west-2.aws.found.io:443/anna-summaries-v0/_search [status:200 duration:0.020s]\n",
      "POST https://persyn.es.us-west-2.aws.found.io:443/anna-conversations-v0/_search [status:200 duration:0.025s]\n",
      "POST https://persyn.es.us-west-2.aws.found.io:443/anna-summaries-v0/_update/oa8aqIQBBNi73XUqYbLO [status:200 duration:0.023s]\n",
      "POST https://persyn.es.us-west-2.aws.found.io:443/anna-summaries-v0/_search [status:200 duration:0.021s]\n"
     ]
    },
    {
     "name": "stdout",
     "output_type": "stream",
     "text": [
      "{'_index': 'anna-summaries-v0', '_id': 'uBg6u4AB1O6hlTWg0nOy', '_version': 2, 'result': 'updated', '_shards': {'total': 2, 'successful': 2, 'failed': 0}, '_seq_no': 2120, '_primary_term': 17}\n",
      "{'_index': 'anna-summaries-v0', '_id': 'mq8rXoQBBNi73XUqd6w2', '_version': 2, 'result': 'updated', '_shards': {'total': 2, 'successful': 2, 'failed': 0}, '_seq_no': 2121, '_primary_term': 17}\n",
      "{'_index': 'anna-summaries-v0', '_id': 'oa8aqIQBBNi73XUqYbLO', '_version': 2, 'result': 'updated', '_shards': {'total': 2, 'successful': 2, 'failed': 0}, '_seq_no': 2122, '_primary_term': 17}\n"
     ]
    },
    {
     "name": "stderr",
     "output_type": "stream",
     "text": [
      "POST https://persyn.es.us-west-2.aws.found.io:443/anna-conversations-v0/_search [status:200 duration:0.028s]\n",
      "POST https://persyn.es.us-west-2.aws.found.io:443/anna-summaries-v0/_update/f6-59YMBBNi73XUq8qQk [status:200 duration:0.023s]\n",
      "POST https://persyn.es.us-west-2.aws.found.io:443/anna-summaries-v0/_search [status:200 duration:0.028s]\n",
      "POST https://persyn.es.us-west-2.aws.found.io:443/anna-conversations-v0/_search [status:200 duration:0.026s]\n",
      "POST https://persyn.es.us-west-2.aws.found.io:443/anna-summaries-v0/_update/v-Dic4QB6EXxeIxUXoFu [status:200 duration:0.023s]\n",
      "POST https://persyn.es.us-west-2.aws.found.io:443/anna-summaries-v0/_search [status:200 duration:0.026s]\n",
      "POST https://persyn.es.us-west-2.aws.found.io:443/anna-conversations-v0/_search [status:200 duration:0.026s]\n",
      "POST https://persyn.es.us-west-2.aws.found.io:443/anna-summaries-v0/_update/z69hEoQBBNi73XUq96nP [status:200 duration:0.027s]\n",
      "POST https://persyn.es.us-west-2.aws.found.io:443/anna-summaries-v0/_search [status:200 duration:0.026s]\n"
     ]
    },
    {
     "name": "stdout",
     "output_type": "stream",
     "text": [
      "{'_index': 'anna-summaries-v0', '_id': 'f6-59YMBBNi73XUq8qQk', '_version': 2, 'result': 'updated', '_shards': {'total': 2, 'successful': 2, 'failed': 0}, '_seq_no': 2123, '_primary_term': 17}\n",
      "{'_index': 'anna-summaries-v0', '_id': 'v-Dic4QB6EXxeIxUXoFu', '_version': 2, 'result': 'updated', '_shards': {'total': 2, 'successful': 2, 'failed': 0}, '_seq_no': 2124, '_primary_term': 17}\n",
      "{'_index': 'anna-summaries-v0', '_id': 'z69hEoQBBNi73XUq96nP', '_version': 2, 'result': 'updated', '_shards': {'total': 2, 'successful': 2, 'failed': 0}, '_seq_no': 2125, '_primary_term': 17}\n"
     ]
    },
    {
     "name": "stderr",
     "output_type": "stream",
     "text": [
      "POST https://persyn.es.us-west-2.aws.found.io:443/anna-conversations-v0/_search [status:200 duration:0.024s]\n",
      "POST https://persyn.es.us-west-2.aws.found.io:443/anna-summaries-v0/_update/ka_5q4QBBNi73XUqALNL [status:200 duration:0.026s]\n",
      "POST https://persyn.es.us-west-2.aws.found.io:443/anna-summaries-v0/_search [status:200 duration:0.027s]\n",
      "POST https://persyn.es.us-west-2.aws.found.io:443/anna-conversations-v0/_search [status:200 duration:0.025s]\n",
      "POST https://persyn.es.us-west-2.aws.found.io:443/anna-summaries-v0/_update/oxihPH8B1O6hlTWgSkvG [status:200 duration:0.024s]\n",
      "POST https://persyn.es.us-west-2.aws.found.io:443/anna-summaries-v0/_search [status:200 duration:0.029s]\n",
      "POST https://persyn.es.us-west-2.aws.found.io:443/anna-conversations-v0/_search [status:200 duration:0.023s]\n",
      "POST https://persyn.es.us-west-2.aws.found.io:443/anna-summaries-v0/_update/UK_CsIMBBNi73XUqp6Od [status:200 duration:0.027s]\n",
      "POST https://persyn.es.us-west-2.aws.found.io:443/anna-summaries-v0/_search [status:200 duration:0.026s]\n"
     ]
    },
    {
     "name": "stdout",
     "output_type": "stream",
     "text": [
      "{'_index': 'anna-summaries-v0', '_id': 'ka_5q4QBBNi73XUqALNL', '_version': 2, 'result': 'updated', '_shards': {'total': 2, 'successful': 2, 'failed': 0}, '_seq_no': 2126, '_primary_term': 17}\n",
      "{'_index': 'anna-summaries-v0', '_id': 'oxihPH8B1O6hlTWgSkvG', '_version': 2, 'result': 'updated', '_shards': {'total': 2, 'successful': 2, 'failed': 0}, '_seq_no': 2127, '_primary_term': 17}\n",
      "{'_index': 'anna-summaries-v0', '_id': 'UK_CsIMBBNi73XUqp6Od', '_version': 2, 'result': 'updated', '_shards': {'total': 2, 'successful': 2, 'failed': 0}, '_seq_no': 2128, '_primary_term': 17}\n"
     ]
    },
    {
     "name": "stderr",
     "output_type": "stream",
     "text": [
      "POST https://persyn.es.us-west-2.aws.found.io:443/anna-conversations-v0/_search [status:200 duration:0.027s]\n",
      "POST https://persyn.es.us-west-2.aws.found.io:443/anna-summaries-v0/_update/6xidWYAB1O6hlTWgJF1E [status:200 duration:0.026s]\n",
      "POST https://persyn.es.us-west-2.aws.found.io:443/anna-summaries-v0/_search [status:200 duration:0.021s]\n",
      "POST https://persyn.es.us-west-2.aws.found.io:443/anna-conversations-v0/_search [status:200 duration:0.025s]\n",
      "POST https://persyn.es.us-west-2.aws.found.io:443/anna-summaries-v0/_update/Mk2r0oIBRfbdi4KAeFPe [status:200 duration:0.029s]\n",
      "POST https://persyn.es.us-west-2.aws.found.io:443/anna-summaries-v0/_search [status:200 duration:0.031s]\n",
      "POST https://persyn.es.us-west-2.aws.found.io:443/anna-conversations-v0/_search [status:200 duration:0.026s]\n",
      "POST https://persyn.es.us-west-2.aws.found.io:443/anna-summaries-v0/_update/eOBxAIQB6EXxeIxUknrj [status:200 duration:0.030s]\n"
     ]
    },
    {
     "name": "stdout",
     "output_type": "stream",
     "text": [
      "{'_index': 'anna-summaries-v0', '_id': '6xidWYAB1O6hlTWgJF1E', '_version': 2, 'result': 'updated', '_shards': {'total': 2, 'successful': 2, 'failed': 0}, '_seq_no': 2129, '_primary_term': 17}\n",
      "{'_index': 'anna-summaries-v0', '_id': 'Mk2r0oIBRfbdi4KAeFPe', '_version': 2, 'result': 'updated', '_shards': {'total': 2, 'successful': 2, 'failed': 0}, '_seq_no': 2130, '_primary_term': 17}\n",
      "{'_index': 'anna-summaries-v0', '_id': 'eOBxAIQB6EXxeIxUknrj', '_version': 2, 'result': 'updated', '_shards': {'total': 2, 'successful': 2, 'failed': 0}, '_seq_no': 2131, '_primary_term': 17}\n"
     ]
    },
    {
     "name": "stderr",
     "output_type": "stream",
     "text": [
      "POST https://persyn.es.us-west-2.aws.found.io:443/anna-summaries-v0/_search [status:200 duration:0.029s]\n",
      "POST https://persyn.es.us-west-2.aws.found.io:443/anna-conversations-v0/_search [status:200 duration:0.026s]\n",
      "POST https://persyn.es.us-west-2.aws.found.io:443/anna-summaries-v0/_update/ANSr7oABBCovfdTklIWv [status:200 duration:0.024s]\n",
      "POST https://persyn.es.us-west-2.aws.found.io:443/anna-summaries-v0/_search [status:200 duration:0.033s]\n",
      "POST https://persyn.es.us-west-2.aws.found.io:443/anna-conversations-v0/_search [status:200 duration:0.024s]\n",
      "POST https://persyn.es.us-west-2.aws.found.io:443/anna-summaries-v0/_update/fU1Ny4IBRfbdi4KA61JC [status:200 duration:0.030s]\n",
      "POST https://persyn.es.us-west-2.aws.found.io:443/anna-summaries-v0/_search [status:200 duration:0.026s]\n",
      "POST https://persyn.es.us-west-2.aws.found.io:443/anna-conversations-v0/_search [status:200 duration:0.027s]\n",
      "POST https://persyn.es.us-west-2.aws.found.io:443/anna-summaries-v0/_update/JiOxFYMBy5mPdc6PnGyR [status:200 duration:0.029s]\n"
     ]
    },
    {
     "name": "stdout",
     "output_type": "stream",
     "text": [
      "{'_index': 'anna-summaries-v0', '_id': 'ANSr7oABBCovfdTklIWv', '_version': 2, 'result': 'updated', '_shards': {'total': 2, 'successful': 2, 'failed': 0}, '_seq_no': 2132, '_primary_term': 17}\n",
      "{'_index': 'anna-summaries-v0', '_id': 'fU1Ny4IBRfbdi4KA61JC', '_version': 2, 'result': 'updated', '_shards': {'total': 2, 'successful': 2, 'failed': 0}, '_seq_no': 2133, '_primary_term': 17}\n",
      "{'_index': 'anna-summaries-v0', '_id': 'JiOxFYMBy5mPdc6PnGyR', '_version': 2, 'result': 'updated', '_shards': {'total': 2, 'successful': 2, 'failed': 0}, '_seq_no': 2134, '_primary_term': 17}\n"
     ]
    },
    {
     "name": "stderr",
     "output_type": "stream",
     "text": [
      "POST https://persyn.es.us-west-2.aws.found.io:443/anna-summaries-v0/_search [status:200 duration:0.030s]\n",
      "POST https://persyn.es.us-west-2.aws.found.io:443/anna-conversations-v0/_search [status:200 duration:0.029s]\n",
      "POST https://persyn.es.us-west-2.aws.found.io:443/anna-summaries-v0/_update/eiNUXoMBy5mPdc6PKG6f [status:200 duration:0.026s]\n",
      "POST https://persyn.es.us-west-2.aws.found.io:443/anna-summaries-v0/_search [status:200 duration:0.026s]\n",
      "POST https://persyn.es.us-west-2.aws.found.io:443/anna-conversations-v0/_search [status:200 duration:0.029s]\n",
      "POST https://persyn.es.us-west-2.aws.found.io:443/anna-summaries-v0/_update/3B02BIIBGYbVpQ0oY4yX [status:200 duration:0.029s]\n",
      "POST https://persyn.es.us-west-2.aws.found.io:443/anna-summaries-v0/_search [status:200 duration:0.026s]\n",
      "POST https://persyn.es.us-west-2.aws.found.io:443/anna-conversations-v0/_search [status:200 duration:0.021s]\n",
      "POST https://persyn.es.us-west-2.aws.found.io:443/anna-summaries-v0/_update/Qx3KVoIBGYbVpQ0o4bM6 [status:200 duration:0.025s]\n",
      "POST https://persyn.es.us-west-2.aws.found.io:443/anna-summaries-v0/_search [status:200 duration:0.026s]\n"
     ]
    },
    {
     "name": "stdout",
     "output_type": "stream",
     "text": [
      "{'_index': 'anna-summaries-v0', '_id': 'eiNUXoMBy5mPdc6PKG6f', '_version': 2, 'result': 'updated', '_shards': {'total': 2, 'successful': 2, 'failed': 0}, '_seq_no': 2135, '_primary_term': 17}\n",
      "{'_index': 'anna-summaries-v0', '_id': '3B02BIIBGYbVpQ0oY4yX', '_version': 2, 'result': 'updated', '_shards': {'total': 2, 'successful': 2, 'failed': 0}, '_seq_no': 2136, '_primary_term': 17}\n",
      "{'_index': 'anna-summaries-v0', '_id': 'Qx3KVoIBGYbVpQ0o4bM6', '_version': 2, 'result': 'updated', '_shards': {'total': 2, 'successful': 2, 'failed': 0}, '_seq_no': 2137, '_primary_term': 17}\n"
     ]
    },
    {
     "name": "stderr",
     "output_type": "stream",
     "text": [
      "POST https://persyn.es.us-west-2.aws.found.io:443/anna-conversations-v0/_search [status:200 duration:0.024s]\n",
      "POST https://persyn.es.us-west-2.aws.found.io:443/anna-summaries-v0/_update/ZSMzxoIBy5mPdc6P2Wig [status:200 duration:0.024s]\n",
      "POST https://persyn.es.us-west-2.aws.found.io:443/anna-summaries-v0/_search [status:200 duration:0.023s]\n",
      "POST https://persyn.es.us-west-2.aws.found.io:443/anna-conversations-v0/_search [status:200 duration:0.022s]\n",
      "POST https://persyn.es.us-west-2.aws.found.io:443/anna-summaries-v0/_update/Mx2p5YEBGYbVpQ0ocYKt [status:200 duration:0.028s]\n",
      "POST https://persyn.es.us-west-2.aws.found.io:443/anna-summaries-v0/_search [status:200 duration:0.025s]\n",
      "POST https://persyn.es.us-west-2.aws.found.io:443/anna-conversations-v0/_search [status:200 duration:0.027s]\n",
      "POST https://persyn.es.us-west-2.aws.found.io:443/anna-summaries-v0/_update/XeBPhoQB6EXxeIxUc4LJ [status:200 duration:0.024s]\n",
      "POST https://persyn.es.us-west-2.aws.found.io:443/anna-summaries-v0/_search [status:200 duration:0.026s]\n"
     ]
    },
    {
     "name": "stdout",
     "output_type": "stream",
     "text": [
      "{'_index': 'anna-summaries-v0', '_id': 'ZSMzxoIBy5mPdc6P2Wig', '_version': 2, 'result': 'updated', '_shards': {'total': 2, 'successful': 2, 'failed': 0}, '_seq_no': 2138, '_primary_term': 17}\n",
      "{'_index': 'anna-summaries-v0', '_id': 'Mx2p5YEBGYbVpQ0ocYKt', '_version': 2, 'result': 'updated', '_shards': {'total': 2, 'successful': 2, 'failed': 0}, '_seq_no': 2139, '_primary_term': 17}\n",
      "{'_index': 'anna-summaries-v0', '_id': 'XeBPhoQB6EXxeIxUc4LJ', '_version': 2, 'result': 'updated', '_shards': {'total': 2, 'successful': 2, 'failed': 0}, '_seq_no': 2140, '_primary_term': 17}\n"
     ]
    },
    {
     "name": "stderr",
     "output_type": "stream",
     "text": [
      "POST https://persyn.es.us-west-2.aws.found.io:443/anna-conversations-v0/_search [status:200 duration:0.021s]\n",
      "POST https://persyn.es.us-west-2.aws.found.io:443/anna-summaries-v0/_update/T9S0fYEBBCovfdTkO6oc [status:200 duration:0.026s]\n",
      "POST https://persyn.es.us-west-2.aws.found.io:443/anna-summaries-v0/_search [status:200 duration:0.027s]\n",
      "POST https://persyn.es.us-west-2.aws.found.io:443/anna-conversations-v0/_search [status:200 duration:0.021s]\n",
      "POST https://persyn.es.us-west-2.aws.found.io:443/anna-summaries-v0/_update/huDCRYQB6EXxeIxUcX9l [status:200 duration:0.025s]\n",
      "POST https://persyn.es.us-west-2.aws.found.io:443/anna-summaries-v0/_search [status:200 duration:0.023s]\n",
      "POST https://persyn.es.us-west-2.aws.found.io:443/anna-conversations-v0/_search [status:200 duration:0.024s]\n",
      "POST https://persyn.es.us-west-2.aws.found.io:443/anna-summaries-v0/_update/r01WGoMBRfbdi4KA0Va_ [status:200 duration:0.022s]\n",
      "POST https://persyn.es.us-west-2.aws.found.io:443/anna-summaries-v0/_search [status:200 duration:0.026s]\n"
     ]
    },
    {
     "name": "stdout",
     "output_type": "stream",
     "text": [
      "{'_index': 'anna-summaries-v0', '_id': 'T9S0fYEBBCovfdTkO6oc', '_version': 2, 'result': 'updated', '_shards': {'total': 2, 'successful': 2, 'failed': 0}, '_seq_no': 2141, '_primary_term': 17}\n",
      "{'_index': 'anna-summaries-v0', '_id': 'huDCRYQB6EXxeIxUcX9l', '_version': 2, 'result': 'updated', '_shards': {'total': 2, 'successful': 2, 'failed': 0}, '_seq_no': 2142, '_primary_term': 17}\n",
      "{'_index': 'anna-summaries-v0', '_id': 'r01WGoMBRfbdi4KA0Va_', '_version': 2, 'result': 'updated', '_shards': {'total': 2, 'successful': 2, 'failed': 0}, '_seq_no': 2143, '_primary_term': 17}\n"
     ]
    },
    {
     "name": "stderr",
     "output_type": "stream",
     "text": [
      "POST https://persyn.es.us-west-2.aws.found.io:443/anna-conversations-v0/_search [status:200 duration:0.023s]\n",
      "POST https://persyn.es.us-west-2.aws.found.io:443/anna-summaries-v0/_update/W9S78oABBCovfdTkhIY4 [status:200 duration:0.026s]\n",
      "POST https://persyn.es.us-west-2.aws.found.io:443/anna-summaries-v0/_search [status:200 duration:0.032s]\n",
      "POST https://persyn.es.us-west-2.aws.found.io:443/anna-conversations-v0/_search [status:200 duration:0.024s]\n",
      "POST https://persyn.es.us-west-2.aws.found.io:443/anna-summaries-v0/_update/Ya8MAYQBBNi73XUqiqZx [status:200 duration:0.030s]\n",
      "POST https://persyn.es.us-west-2.aws.found.io:443/anna-summaries-v0/_search [status:200 duration:0.028s]\n",
      "POST https://persyn.es.us-west-2.aws.found.io:443/anna-conversations-v0/_search [status:200 duration:0.021s]\n",
      "POST https://persyn.es.us-west-2.aws.found.io:443/anna-summaries-v0/_update/XeACkYQB6EXxeIxUJYNi [status:200 duration:0.026s]\n"
     ]
    },
    {
     "name": "stdout",
     "output_type": "stream",
     "text": [
      "{'_index': 'anna-summaries-v0', '_id': 'W9S78oABBCovfdTkhIY4', '_version': 2, 'result': 'updated', '_shards': {'total': 2, 'successful': 2, 'failed': 0}, '_seq_no': 2144, '_primary_term': 17}\n",
      "{'_index': 'anna-summaries-v0', '_id': 'Ya8MAYQBBNi73XUqiqZx', '_version': 2, 'result': 'updated', '_shards': {'total': 2, 'successful': 2, 'failed': 0}, '_seq_no': 2145, '_primary_term': 17}\n",
      "{'_index': 'anna-summaries-v0', '_id': 'XeACkYQB6EXxeIxUJYNi', '_version': 2, 'result': 'updated', '_shards': {'total': 2, 'successful': 2, 'failed': 0}, '_seq_no': 2146, '_primary_term': 17}\n"
     ]
    },
    {
     "name": "stderr",
     "output_type": "stream",
     "text": [
      "POST https://persyn.es.us-west-2.aws.found.io:443/anna-summaries-v0/_search [status:200 duration:0.029s]\n",
      "POST https://persyn.es.us-west-2.aws.found.io:443/anna-conversations-v0/_search [status:200 duration:0.031s]\n",
      "POST https://persyn.es.us-west-2.aws.found.io:443/anna-summaries-v0/_update/hR0vLYIBGYbVpQ0oQKOF [status:200 duration:0.030s]\n",
      "POST https://persyn.es.us-west-2.aws.found.io:443/anna-summaries-v0/_search [status:200 duration:0.028s]\n",
      "POST https://persyn.es.us-west-2.aws.found.io:443/anna-conversations-v0/_search [status:200 duration:0.031s]\n",
      "POST https://persyn.es.us-west-2.aws.found.io:443/anna-summaries-v0/_update/yq91_oMBBNi73XUq46VM [status:200 duration:0.029s]\n",
      "POST https://persyn.es.us-west-2.aws.found.io:443/anna-summaries-v0/_search [status:200 duration:0.021s]\n",
      "POST https://persyn.es.us-west-2.aws.found.io:443/anna-conversations-v0/_search [status:200 duration:0.029s]\n",
      "POST https://persyn.es.us-west-2.aws.found.io:443/anna-summaries-v0/_update/heAJXoQB6EXxeIxUI4DI [status:200 duration:0.031s]\n"
     ]
    },
    {
     "name": "stdout",
     "output_type": "stream",
     "text": [
      "{'_index': 'anna-summaries-v0', '_id': 'hR0vLYIBGYbVpQ0oQKOF', '_version': 2, 'result': 'updated', '_shards': {'total': 2, 'successful': 2, 'failed': 0}, '_seq_no': 2147, '_primary_term': 17}\n",
      "{'_index': 'anna-summaries-v0', '_id': 'yq91_oMBBNi73XUq46VM', '_version': 2, 'result': 'updated', '_shards': {'total': 2, 'successful': 2, 'failed': 0}, '_seq_no': 2148, '_primary_term': 17}\n",
      "{'_index': 'anna-summaries-v0', '_id': 'heAJXoQB6EXxeIxUI4DI', '_version': 2, 'result': 'updated', '_shards': {'total': 2, 'successful': 2, 'failed': 0}, '_seq_no': 2149, '_primary_term': 17}\n"
     ]
    },
    {
     "name": "stderr",
     "output_type": "stream",
     "text": [
      "POST https://persyn.es.us-west-2.aws.found.io:443/anna-summaries-v0/_search [status:200 duration:0.027s]\n",
      "POST https://persyn.es.us-west-2.aws.found.io:443/anna-conversations-v0/_search [status:200 duration:0.025s]\n",
      "POST https://persyn.es.us-west-2.aws.found.io:443/anna-summaries-v0/_update/Jk3evYIBRfbdi4KAuVEd [status:200 duration:0.028s]\n",
      "POST https://persyn.es.us-west-2.aws.found.io:443/anna-summaries-v0/_search [status:200 duration:0.027s]\n",
      "POST https://persyn.es.us-west-2.aws.found.io:443/anna-conversations-v0/_search [status:200 duration:0.026s]\n",
      "POST https://persyn.es.us-west-2.aws.found.io:443/anna-summaries-v0/_update/xa-j2YMBBNi73XUqDKOH [status:200 duration:0.031s]\n",
      "POST https://persyn.es.us-west-2.aws.found.io:443/anna-summaries-v0/_search [status:200 duration:0.028s]\n",
      "POST https://persyn.es.us-west-2.aws.found.io:443/anna-conversations-v0/_search [status:200 duration:0.029s]\n",
      "POST https://persyn.es.us-west-2.aws.found.io:443/anna-summaries-v0/_update/ZE1N1YIBRfbdi4KA2VOU [status:200 duration:0.023s]\n"
     ]
    },
    {
     "name": "stdout",
     "output_type": "stream",
     "text": [
      "{'_index': 'anna-summaries-v0', '_id': 'Jk3evYIBRfbdi4KAuVEd', '_version': 2, 'result': 'updated', '_shards': {'total': 2, 'successful': 2, 'failed': 0}, '_seq_no': 2150, '_primary_term': 17}\n",
      "{'_index': 'anna-summaries-v0', '_id': 'xa-j2YMBBNi73XUqDKOH', '_version': 2, 'result': 'updated', '_shards': {'total': 2, 'successful': 2, 'failed': 0}, '_seq_no': 2151, '_primary_term': 17}\n",
      "{'_index': 'anna-summaries-v0', '_id': 'ZE1N1YIBRfbdi4KA2VOU', '_version': 2, 'result': 'updated', '_shards': {'total': 2, 'successful': 2, 'failed': 0}, '_seq_no': 2152, '_primary_term': 17}\n"
     ]
    },
    {
     "name": "stderr",
     "output_type": "stream",
     "text": [
      "POST https://persyn.es.us-west-2.aws.found.io:443/anna-summaries-v0/_search [status:200 duration:0.026s]\n",
      "POST https://persyn.es.us-west-2.aws.found.io:443/anna-conversations-v0/_search [status:200 duration:0.025s]\n",
      "POST https://persyn.es.us-west-2.aws.found.io:443/anna-summaries-v0/_update/cuC62YMB6EXxeIxUHHj_ [status:200 duration:0.025s]\n",
      "POST https://persyn.es.us-west-2.aws.found.io:443/anna-summaries-v0/_search [status:200 duration:0.026s]\n",
      "POST https://persyn.es.us-west-2.aws.found.io:443/anna-conversations-v0/_search [status:200 duration:0.026s]\n",
      "POST https://persyn.es.us-west-2.aws.found.io:443/anna-summaries-v0/_update/bNRMx4EBBCovfdTk-buE [status:200 duration:0.025s]\n",
      "POST https://persyn.es.us-west-2.aws.found.io:443/anna-summaries-v0/_search [status:200 duration:0.026s]\n",
      "POST https://persyn.es.us-west-2.aws.found.io:443/anna-conversations-v0/_search [status:200 duration:0.026s]\n",
      "POST https://persyn.es.us-west-2.aws.found.io:443/anna-summaries-v0/_update/1a-WEoQBBNi73XUqT6k7 [status:200 duration:0.027s]\n",
      "POST https://persyn.es.us-west-2.aws.found.io:443/anna-summaries-v0/_search [status:200 duration:0.029s]\n"
     ]
    },
    {
     "name": "stdout",
     "output_type": "stream",
     "text": [
      "{'_index': 'anna-summaries-v0', '_id': 'cuC62YMB6EXxeIxUHHj_', '_version': 2, 'result': 'updated', '_shards': {'total': 2, 'successful': 2, 'failed': 0}, '_seq_no': 2153, '_primary_term': 17}\n",
      "{'_index': 'anna-summaries-v0', '_id': 'bNRMx4EBBCovfdTk-buE', '_version': 2, 'result': 'updated', '_shards': {'total': 2, 'successful': 2, 'failed': 0}, '_seq_no': 2154, '_primary_term': 17}\n",
      "{'_index': 'anna-summaries-v0', '_id': '1a-WEoQBBNi73XUqT6k7', '_version': 2, 'result': 'updated', '_shards': {'total': 2, 'successful': 2, 'failed': 0}, '_seq_no': 2155, '_primary_term': 17}\n"
     ]
    },
    {
     "name": "stderr",
     "output_type": "stream",
     "text": [
      "POST https://persyn.es.us-west-2.aws.found.io:443/anna-conversations-v0/_search [status:200 duration:0.026s]\n",
      "POST https://persyn.es.us-west-2.aws.found.io:443/anna-summaries-v0/_update/O-Bcq4QB6EXxeIxUjocA [status:200 duration:0.027s]\n",
      "POST https://persyn.es.us-west-2.aws.found.io:443/anna-summaries-v0/_search [status:200 duration:0.028s]\n",
      "POST https://persyn.es.us-west-2.aws.found.io:443/anna-conversations-v0/_search [status:200 duration:0.021s]\n",
      "POST https://persyn.es.us-west-2.aws.found.io:443/anna-summaries-v0/_update/OhgR54AB1O6hlTWgKHTx [status:200 duration:0.029s]\n",
      "POST https://persyn.es.us-west-2.aws.found.io:443/anna-summaries-v0/_search [status:200 duration:0.028s]\n",
      "POST https://persyn.es.us-west-2.aws.found.io:443/anna-conversations-v0/_search [status:200 duration:0.028s]\n",
      "POST https://persyn.es.us-west-2.aws.found.io:443/anna-summaries-v0/_update/pK-Lu4QBBNi73XUqO7S8 [status:200 duration:0.027s]\n"
     ]
    },
    {
     "name": "stdout",
     "output_type": "stream",
     "text": [
      "{'_index': 'anna-summaries-v0', '_id': 'O-Bcq4QB6EXxeIxUjocA', '_version': 2, 'result': 'updated', '_shards': {'total': 2, 'successful': 2, 'failed': 0}, '_seq_no': 2156, '_primary_term': 17}\n",
      "{'_index': 'anna-summaries-v0', '_id': 'OhgR54AB1O6hlTWgKHTx', '_version': 2, 'result': 'updated', '_shards': {'total': 2, 'successful': 2, 'failed': 0}, '_seq_no': 2157, '_primary_term': 17}\n",
      "{'_index': 'anna-summaries-v0', '_id': 'pK-Lu4QBBNi73XUqO7S8', '_version': 2, 'result': 'updated', '_shards': {'total': 2, 'successful': 2, 'failed': 0}, '_seq_no': 2158, '_primary_term': 17}\n"
     ]
    },
    {
     "name": "stderr",
     "output_type": "stream",
     "text": [
      "POST https://persyn.es.us-west-2.aws.found.io:443/anna-summaries-v0/_search [status:200 duration:0.029s]\n",
      "POST https://persyn.es.us-west-2.aws.found.io:443/anna-conversations-v0/_search [status:200 duration:0.029s]\n",
      "POST https://persyn.es.us-west-2.aws.found.io:443/anna-summaries-v0/_update/Rk35UoMBRfbdi4KA6Vho [status:200 duration:0.027s]\n",
      "POST https://persyn.es.us-west-2.aws.found.io:443/anna-summaries-v0/_search [status:200 duration:0.032s]\n",
      "POST https://persyn.es.us-west-2.aws.found.io:443/anna-conversations-v0/_search [status:200 duration:0.030s]\n",
      "POST https://persyn.es.us-west-2.aws.found.io:443/anna-summaries-v0/_update/da8Wo4QBBNi73XUq_bJw [status:200 duration:0.027s]\n",
      "POST https://persyn.es.us-west-2.aws.found.io:443/anna-summaries-v0/_search [status:200 duration:0.031s]\n",
      "POST https://persyn.es.us-west-2.aws.found.io:443/anna-conversations-v0/_search [status:200 duration:0.030s]\n",
      "POST https://persyn.es.us-west-2.aws.found.io:443/anna-summaries-v0/_update/R-CMj4MB6EXxeIxUwXYF [status:200 duration:0.030s]\n"
     ]
    },
    {
     "name": "stdout",
     "output_type": "stream",
     "text": [
      "{'_index': 'anna-summaries-v0', '_id': 'Rk35UoMBRfbdi4KA6Vho', '_version': 2, 'result': 'updated', '_shards': {'total': 2, 'successful': 2, 'failed': 0}, '_seq_no': 2159, '_primary_term': 17}\n",
      "{'_index': 'anna-summaries-v0', '_id': 'da8Wo4QBBNi73XUq_bJw', '_version': 2, 'result': 'updated', '_shards': {'total': 2, 'successful': 2, 'failed': 0}, '_seq_no': 2160, '_primary_term': 17}\n",
      "{'_index': 'anna-summaries-v0', '_id': 'R-CMj4MB6EXxeIxUwXYF', '_version': 2, 'result': 'updated', '_shards': {'total': 2, 'successful': 2, 'failed': 0}, '_seq_no': 2161, '_primary_term': 17}\n"
     ]
    },
    {
     "name": "stderr",
     "output_type": "stream",
     "text": [
      "POST https://persyn.es.us-west-2.aws.found.io:443/anna-summaries-v0/_search [status:200 duration:0.029s]\n",
      "POST https://persyn.es.us-west-2.aws.found.io:443/anna-conversations-v0/_search [status:200 duration:0.025s]\n",
      "POST https://persyn.es.us-west-2.aws.found.io:443/anna-summaries-v0/_update/MBhyY4AB1O6hlTWgxmJS [status:200 duration:0.026s]\n",
      "POST https://persyn.es.us-west-2.aws.found.io:443/anna-summaries-v0/_search [status:200 duration:0.029s]\n",
      "POST https://persyn.es.us-west-2.aws.found.io:443/anna-conversations-v0/_search [status:200 duration:0.029s]\n",
      "POST https://persyn.es.us-west-2.aws.found.io:443/anna-summaries-v0/_update/jdS2L4EBBCovfdTkApUd [status:200 duration:0.024s]\n",
      "POST https://persyn.es.us-west-2.aws.found.io:443/anna-summaries-v0/_search [status:200 duration:0.028s]\n",
      "POST https://persyn.es.us-west-2.aws.found.io:443/anna-conversations-v0/_search [status:200 duration:0.027s]\n",
      "POST https://persyn.es.us-west-2.aws.found.io:443/anna-summaries-v0/_update/2K_l4oMBBNi73XUqV6MD [status:200 duration:0.032s]\n"
     ]
    },
    {
     "name": "stdout",
     "output_type": "stream",
     "text": [
      "{'_index': 'anna-summaries-v0', '_id': 'MBhyY4AB1O6hlTWgxmJS', '_version': 2, 'result': 'updated', '_shards': {'total': 2, 'successful': 2, 'failed': 0}, '_seq_no': 2162, '_primary_term': 17}\n",
      "{'_index': 'anna-summaries-v0', '_id': 'jdS2L4EBBCovfdTkApUd', '_version': 2, 'result': 'updated', '_shards': {'total': 2, 'successful': 2, 'failed': 0}, '_seq_no': 2163, '_primary_term': 17}\n",
      "{'_index': 'anna-summaries-v0', '_id': '2K_l4oMBBNi73XUqV6MD', '_version': 2, 'result': 'updated', '_shards': {'total': 2, 'successful': 2, 'failed': 0}, '_seq_no': 2164, '_primary_term': 17}\n"
     ]
    },
    {
     "name": "stderr",
     "output_type": "stream",
     "text": [
      "POST https://persyn.es.us-west-2.aws.found.io:443/anna-summaries-v0/_search [status:200 duration:0.023s]\n",
      "POST https://persyn.es.us-west-2.aws.found.io:443/anna-conversations-v0/_search [status:200 duration:0.025s]\n",
      "POST https://persyn.es.us-west-2.aws.found.io:443/anna-summaries-v0/_update/mU3EvYIBRfbdi4KAYVBA [status:200 duration:0.027s]\n",
      "POST https://persyn.es.us-west-2.aws.found.io:443/anna-summaries-v0/_search [status:200 duration:0.028s]\n",
      "POST https://persyn.es.us-west-2.aws.found.io:443/anna-conversations-v0/_search [status:200 duration:0.022s]\n",
      "POST https://persyn.es.us-west-2.aws.found.io:443/anna-summaries-v0/_update/_a9kAIQBBNi73XUqtaWY [status:200 duration:0.026s]\n",
      "POST https://persyn.es.us-west-2.aws.found.io:443/anna-summaries-v0/_search [status:200 duration:0.022s]\n",
      "POST https://persyn.es.us-west-2.aws.found.io:443/anna-conversations-v0/_search [status:200 duration:0.026s]\n",
      "POST https://persyn.es.us-west-2.aws.found.io:443/anna-summaries-v0/_update/KRi9YYAB1O6hlTWgQmHN [status:200 duration:0.037s]\n",
      "POST https://persyn.es.us-west-2.aws.found.io:443/anna-summaries-v0/_search [status:200 duration:0.026s]\n"
     ]
    },
    {
     "name": "stdout",
     "output_type": "stream",
     "text": [
      "{'_index': 'anna-summaries-v0', '_id': 'mU3EvYIBRfbdi4KAYVBA', '_version': 2, 'result': 'updated', '_shards': {'total': 2, 'successful': 2, 'failed': 0}, '_seq_no': 2165, '_primary_term': 17}\n",
      "{'_index': 'anna-summaries-v0', '_id': '_a9kAIQBBNi73XUqtaWY', '_version': 2, 'result': 'updated', '_shards': {'total': 2, 'successful': 2, 'failed': 0}, '_seq_no': 2166, '_primary_term': 17}\n",
      "{'_index': 'anna-summaries-v0', '_id': 'KRi9YYAB1O6hlTWgQmHN', '_version': 2, 'result': 'updated', '_shards': {'total': 2, 'successful': 2, 'failed': 0}, '_seq_no': 2167, '_primary_term': 17}\n"
     ]
    },
    {
     "name": "stderr",
     "output_type": "stream",
     "text": [
      "POST https://persyn.es.us-west-2.aws.found.io:443/anna-conversations-v0/_search [status:200 duration:0.027s]\n",
      "POST https://persyn.es.us-west-2.aws.found.io:443/anna-summaries-v0/_update/TB2VVYIBGYbVpQ0oVLLv [status:200 duration:0.030s]\n",
      "POST https://persyn.es.us-west-2.aws.found.io:443/anna-summaries-v0/_search [status:200 duration:0.026s]\n",
      "POST https://persyn.es.us-west-2.aws.found.io:443/anna-conversations-v0/_search [status:200 duration:0.026s]\n",
      "POST https://persyn.es.us-west-2.aws.found.io:443/anna-summaries-v0/_update/FyM9ToMBy5mPdc6PkG1E [status:200 duration:0.023s]\n",
      "POST https://persyn.es.us-west-2.aws.found.io:443/anna-summaries-v0/_search [status:200 duration:0.028s]\n",
      "POST https://persyn.es.us-west-2.aws.found.io:443/anna-conversations-v0/_search [status:200 duration:0.029s]\n",
      "POST https://persyn.es.us-west-2.aws.found.io:443/anna-summaries-v0/_update/XR37BIIBGYbVpQ0oIY6s [status:200 duration:0.024s]\n",
      "POST https://persyn.es.us-west-2.aws.found.io:443/anna-summaries-v0/_search [status:200 duration:0.027s]\n"
     ]
    },
    {
     "name": "stdout",
     "output_type": "stream",
     "text": [
      "{'_index': 'anna-summaries-v0', '_id': 'TB2VVYIBGYbVpQ0oVLLv', '_version': 2, 'result': 'updated', '_shards': {'total': 2, 'successful': 2, 'failed': 0}, '_seq_no': 2168, '_primary_term': 17}\n",
      "{'_index': 'anna-summaries-v0', '_id': 'FyM9ToMBy5mPdc6PkG1E', '_version': 2, 'result': 'updated', '_shards': {'total': 2, 'successful': 2, 'failed': 0}, '_seq_no': 2169, '_primary_term': 17}\n",
      "{'_index': 'anna-summaries-v0', '_id': 'XR37BIIBGYbVpQ0oIY6s', '_version': 2, 'result': 'updated', '_shards': {'total': 2, 'successful': 2, 'failed': 0}, '_seq_no': 2170, '_primary_term': 17}\n"
     ]
    },
    {
     "name": "stderr",
     "output_type": "stream",
     "text": [
      "POST https://persyn.es.us-west-2.aws.found.io:443/anna-conversations-v0/_search [status:200 duration:0.028s]\n",
      "POST https://persyn.es.us-west-2.aws.found.io:443/anna-summaries-v0/_update/3K-2EYQBBNi73XUqk6gu [status:200 duration:0.028s]\n",
      "POST https://persyn.es.us-west-2.aws.found.io:443/anna-summaries-v0/_search [status:200 duration:0.035s]\n",
      "POST https://persyn.es.us-west-2.aws.found.io:443/anna-conversations-v0/_search [status:200 duration:0.023s]\n",
      "POST https://persyn.es.us-west-2.aws.found.io:443/anna-summaries-v0/_update/tU2Kf4IBRfbdi4KAqUqH [status:200 duration:0.025s]\n",
      "POST https://persyn.es.us-west-2.aws.found.io:443/anna-summaries-v0/_search [status:200 duration:0.025s]\n",
      "POST https://persyn.es.us-west-2.aws.found.io:443/anna-conversations-v0/_search [status:200 duration:0.026s]\n",
      "POST https://persyn.es.us-west-2.aws.found.io:443/anna-summaries-v0/_update/uODnFoQB6EXxeIxUAX1L [status:200 duration:0.028s]\n",
      "POST https://persyn.es.us-west-2.aws.found.io:443/anna-summaries-v0/_search [status:200 duration:0.023s]\n"
     ]
    },
    {
     "name": "stdout",
     "output_type": "stream",
     "text": [
      "{'_index': 'anna-summaries-v0', '_id': '3K-2EYQBBNi73XUqk6gu', '_version': 2, 'result': 'updated', '_shards': {'total': 2, 'successful': 2, 'failed': 0}, '_seq_no': 2171, '_primary_term': 17}\n",
      "{'_index': 'anna-summaries-v0', '_id': 'tU2Kf4IBRfbdi4KAqUqH', '_version': 2, 'result': 'updated', '_shards': {'total': 2, 'successful': 2, 'failed': 0}, '_seq_no': 2172, '_primary_term': 17}\n",
      "{'_index': 'anna-summaries-v0', '_id': 'uODnFoQB6EXxeIxUAX1L', '_version': 2, 'result': 'updated', '_shards': {'total': 2, 'successful': 2, 'failed': 0}, '_seq_no': 2173, '_primary_term': 17}\n"
     ]
    },
    {
     "name": "stderr",
     "output_type": "stream",
     "text": [
      "POST https://persyn.es.us-west-2.aws.found.io:443/anna-conversations-v0/_search [status:200 duration:0.022s]\n",
      "POST https://persyn.es.us-west-2.aws.found.io:443/anna-summaries-v0/_update/tx0hBIIBGYbVpQ0oH4zU [status:200 duration:0.030s]\n",
      "POST https://persyn.es.us-west-2.aws.found.io:443/anna-summaries-v0/_search [status:200 duration:0.023s]\n",
      "POST https://persyn.es.us-west-2.aws.found.io:443/anna-conversations-v0/_search [status:200 duration:0.031s]\n",
      "POST https://persyn.es.us-west-2.aws.found.io:443/anna-summaries-v0/_update/UyMEzoIBy5mPdc6Pk2m4 [status:200 duration:0.025s]\n",
      "POST https://persyn.es.us-west-2.aws.found.io:443/anna-summaries-v0/_search [status:200 duration:0.028s]\n",
      "POST https://persyn.es.us-west-2.aws.found.io:443/anna-conversations-v0/_search [status:200 duration:0.030s]\n",
      "POST https://persyn.es.us-west-2.aws.found.io:443/anna-summaries-v0/_update/KxhqhYAB1O6hlTWgoG0Q [status:200 duration:0.024s]\n",
      "POST https://persyn.es.us-west-2.aws.found.io:443/anna-summaries-v0/_search [status:200 duration:0.027s]\n"
     ]
    },
    {
     "name": "stdout",
     "output_type": "stream",
     "text": [
      "{'_index': 'anna-summaries-v0', '_id': 'tx0hBIIBGYbVpQ0oH4zU', '_version': 2, 'result': 'updated', '_shards': {'total': 2, 'successful': 2, 'failed': 0}, '_seq_no': 2174, '_primary_term': 17}\n",
      "{'_index': 'anna-summaries-v0', '_id': 'UyMEzoIBy5mPdc6Pk2m4', '_version': 2, 'result': 'updated', '_shards': {'total': 2, 'successful': 2, 'failed': 0}, '_seq_no': 2175, '_primary_term': 17}\n",
      "{'_index': 'anna-summaries-v0', '_id': 'KxhqhYAB1O6hlTWgoG0Q', '_version': 2, 'result': 'updated', '_shards': {'total': 2, 'successful': 2, 'failed': 0}, '_seq_no': 2176, '_primary_term': 17}\n"
     ]
    },
    {
     "name": "stderr",
     "output_type": "stream",
     "text": [
      "POST https://persyn.es.us-west-2.aws.found.io:443/anna-conversations-v0/_search [status:200 duration:0.027s]\n",
      "POST https://persyn.es.us-west-2.aws.found.io:443/anna-summaries-v0/_update/HK-5r4QBBNi73XUqzbSa [status:200 duration:0.030s]\n",
      "POST https://persyn.es.us-west-2.aws.found.io:443/anna-summaries-v0/_search [status:200 duration:0.025s]\n",
      "POST https://persyn.es.us-west-2.aws.found.io:443/anna-conversations-v0/_search [status:200 duration:0.029s]\n",
      "POST https://persyn.es.us-west-2.aws.found.io:443/anna-summaries-v0/_update/CRgnboAB1O6hlTWgrmUG [status:200 duration:0.025s]\n",
      "POST https://persyn.es.us-west-2.aws.found.io:443/anna-summaries-v0/_search [status:200 duration:0.023s]\n",
      "POST https://persyn.es.us-west-2.aws.found.io:443/anna-conversations-v0/_search [status:200 duration:0.028s]\n",
      "POST https://persyn.es.us-west-2.aws.found.io:443/anna-summaries-v0/_update/3OAD3oMB6EXxeIxUanjW [status:200 duration:0.024s]\n",
      "POST https://persyn.es.us-west-2.aws.found.io:443/anna-summaries-v0/_search [status:200 duration:0.023s]\n"
     ]
    },
    {
     "name": "stdout",
     "output_type": "stream",
     "text": [
      "{'_index': 'anna-summaries-v0', '_id': 'HK-5r4QBBNi73XUqzbSa', '_version': 2, 'result': 'updated', '_shards': {'total': 2, 'successful': 2, 'failed': 0}, '_seq_no': 2177, '_primary_term': 17}\n",
      "{'_index': 'anna-summaries-v0', '_id': 'CRgnboAB1O6hlTWgrmUG', '_version': 2, 'result': 'updated', '_shards': {'total': 2, 'successful': 2, 'failed': 0}, '_seq_no': 2178, '_primary_term': 17}\n",
      "{'_index': 'anna-summaries-v0', '_id': '3OAD3oMB6EXxeIxUanjW', '_version': 2, 'result': 'updated', '_shards': {'total': 2, 'successful': 2, 'failed': 0}, '_seq_no': 2179, '_primary_term': 17}\n"
     ]
    },
    {
     "name": "stderr",
     "output_type": "stream",
     "text": [
      "POST https://persyn.es.us-west-2.aws.found.io:443/anna-conversations-v0/_search [status:200 duration:0.024s]\n",
      "POST https://persyn.es.us-west-2.aws.found.io:443/anna-summaries-v0/_update/NuAKBoQB6EXxeIxUZHs6 [status:200 duration:0.034s]\n",
      "POST https://persyn.es.us-west-2.aws.found.io:443/anna-summaries-v0/_search [status:200 duration:0.030s]\n",
      "POST https://persyn.es.us-west-2.aws.found.io:443/anna-conversations-v0/_search [status:200 duration:0.028s]\n",
      "POST https://persyn.es.us-west-2.aws.found.io:443/anna-summaries-v0/_update/5iMNOYMBy5mPdc6P_mzM [status:200 duration:0.033s]\n",
      "POST https://persyn.es.us-west-2.aws.found.io:443/anna-summaries-v0/_search [status:200 duration:0.034s]\n",
      "POST https://persyn.es.us-west-2.aws.found.io:443/anna-conversations-v0/_search [status:200 duration:0.027s]\n",
      "POST https://persyn.es.us-west-2.aws.found.io:443/anna-summaries-v0/_update/kq9QA4QBBNi73XUqdqch [status:200 duration:0.031s]\n"
     ]
    },
    {
     "name": "stdout",
     "output_type": "stream",
     "text": [
      "{'_index': 'anna-summaries-v0', '_id': 'NuAKBoQB6EXxeIxUZHs6', '_version': 2, 'result': 'updated', '_shards': {'total': 2, 'successful': 2, 'failed': 0}, '_seq_no': 2180, '_primary_term': 17}\n",
      "{'_index': 'anna-summaries-v0', '_id': '5iMNOYMBy5mPdc6P_mzM', '_version': 2, 'result': 'updated', '_shards': {'total': 2, 'successful': 2, 'failed': 0}, '_seq_no': 2181, '_primary_term': 17}\n",
      "{'_index': 'anna-summaries-v0', '_id': 'kq9QA4QBBNi73XUqdqch', '_version': 2, 'result': 'updated', '_shards': {'total': 2, 'successful': 2, 'failed': 0}, '_seq_no': 2182, '_primary_term': 17}\n"
     ]
    },
    {
     "name": "stderr",
     "output_type": "stream",
     "text": [
      "POST https://persyn.es.us-west-2.aws.found.io:443/anna-summaries-v0/_search [status:200 duration:0.021s]\n",
      "POST https://persyn.es.us-west-2.aws.found.io:443/anna-conversations-v0/_search [status:200 duration:0.023s]\n",
      "POST https://persyn.es.us-west-2.aws.found.io:443/anna-summaries-v0/_update/ydTiL4EBBCovfdTkLpVB [status:200 duration:0.026s]\n",
      "POST https://persyn.es.us-west-2.aws.found.io:443/anna-summaries-v0/_search [status:200 duration:0.023s]\n",
      "POST https://persyn.es.us-west-2.aws.found.io:443/anna-conversations-v0/_search [status:200 duration:0.031s]\n",
      "POST https://persyn.es.us-west-2.aws.found.io:443/anna-summaries-v0/_update/CyNOwoIBy5mPdc6Pw2go [status:200 duration:0.030s]\n",
      "POST https://persyn.es.us-west-2.aws.found.io:443/anna-summaries-v0/_search [status:200 duration:0.027s]\n",
      "POST https://persyn.es.us-west-2.aws.found.io:443/anna-conversations-v0/_search [status:200 duration:0.027s]\n",
      "POST https://persyn.es.us-west-2.aws.found.io:443/anna-summaries-v0/_update/fuDUWoQB6EXxeIxULICq [status:200 duration:0.025s]\n"
     ]
    },
    {
     "name": "stdout",
     "output_type": "stream",
     "text": [
      "{'_index': 'anna-summaries-v0', '_id': 'ydTiL4EBBCovfdTkLpVB', '_version': 2, 'result': 'updated', '_shards': {'total': 2, 'successful': 2, 'failed': 0}, '_seq_no': 2183, '_primary_term': 17}\n",
      "{'_index': 'anna-summaries-v0', '_id': 'CyNOwoIBy5mPdc6Pw2go', '_version': 2, 'result': 'updated', '_shards': {'total': 2, 'successful': 2, 'failed': 0}, '_seq_no': 2184, '_primary_term': 17}\n",
      "{'_index': 'anna-summaries-v0', '_id': 'fuDUWoQB6EXxeIxULICq', '_version': 2, 'result': 'updated', '_shards': {'total': 2, 'successful': 2, 'failed': 0}, '_seq_no': 2185, '_primary_term': 17}\n"
     ]
    },
    {
     "name": "stderr",
     "output_type": "stream",
     "text": [
      "POST https://persyn.es.us-west-2.aws.found.io:443/anna-summaries-v0/_search [status:200 duration:0.024s]\n",
      "POST https://persyn.es.us-west-2.aws.found.io:443/anna-conversations-v0/_search [status:200 duration:0.031s]\n",
      "POST https://persyn.es.us-west-2.aws.found.io:443/anna-summaries-v0/_update/luDZFoQB6EXxeIxUun2k [status:200 duration:0.024s]\n",
      "POST https://persyn.es.us-west-2.aws.found.io:443/anna-summaries-v0/_search [status:200 duration:0.025s]\n",
      "POST https://persyn.es.us-west-2.aws.found.io:443/anna-conversations-v0/_search [status:200 duration:0.020s]\n",
      "POST https://persyn.es.us-west-2.aws.found.io:443/anna-summaries-v0/_update/Q02myIIBRfbdi4KAClIj [status:200 duration:0.023s]\n",
      "POST https://persyn.es.us-west-2.aws.found.io:443/anna-summaries-v0/_search [status:200 duration:0.021s]\n",
      "POST https://persyn.es.us-west-2.aws.found.io:443/anna-conversations-v0/_search [status:200 duration:0.028s]\n",
      "POST https://persyn.es.us-west-2.aws.found.io:443/anna-summaries-v0/_update/xR1bUIIBGYbVpQ0opq_f [status:200 duration:0.026s]\n",
      "POST https://persyn.es.us-west-2.aws.found.io:443/anna-summaries-v0/_search [status:200 duration:0.021s]\n"
     ]
    },
    {
     "name": "stdout",
     "output_type": "stream",
     "text": [
      "{'_index': 'anna-summaries-v0', '_id': 'luDZFoQB6EXxeIxUun2k', '_version': 2, 'result': 'updated', '_shards': {'total': 2, 'successful': 2, 'failed': 0}, '_seq_no': 2186, '_primary_term': 17}\n",
      "{'_index': 'anna-summaries-v0', '_id': 'Q02myIIBRfbdi4KAClIj', '_version': 2, 'result': 'updated', '_shards': {'total': 2, 'successful': 2, 'failed': 0}, '_seq_no': 2187, '_primary_term': 17}\n",
      "{'_index': 'anna-summaries-v0', '_id': 'xR1bUIIBGYbVpQ0opq_f', '_version': 2, 'result': 'updated', '_shards': {'total': 2, 'successful': 2, 'failed': 0}, '_seq_no': 2188, '_primary_term': 17}\n"
     ]
    },
    {
     "name": "stderr",
     "output_type": "stream",
     "text": [
      "POST https://persyn.es.us-west-2.aws.found.io:443/anna-conversations-v0/_search [status:200 duration:0.029s]\n",
      "POST https://persyn.es.us-west-2.aws.found.io:443/anna-summaries-v0/_update/LyOmGoMBy5mPdc6PEGzu [status:200 duration:0.028s]\n",
      "POST https://persyn.es.us-west-2.aws.found.io:443/anna-summaries-v0/_search [status:200 duration:0.027s]\n",
      "POST https://persyn.es.us-west-2.aws.found.io:443/anna-conversations-v0/_search [status:200 duration:0.026s]\n",
      "POST https://persyn.es.us-west-2.aws.found.io:443/anna-summaries-v0/_update/Va_FsIMBBNi73XUqi6Pc [status:200 duration:0.023s]\n",
      "POST https://persyn.es.us-west-2.aws.found.io:443/anna-summaries-v0/_search [status:200 duration:0.030s]\n",
      "POST https://persyn.es.us-west-2.aws.found.io:443/anna-conversations-v0/_search [status:200 duration:0.024s]\n",
      "POST https://persyn.es.us-west-2.aws.found.io:443/anna-summaries-v0/_update/siMty4IBy5mPdc6P6mhF [status:200 duration:0.050s]\n"
     ]
    },
    {
     "name": "stdout",
     "output_type": "stream",
     "text": [
      "{'_index': 'anna-summaries-v0', '_id': 'LyOmGoMBy5mPdc6PEGzu', '_version': 2, 'result': 'updated', '_shards': {'total': 2, 'successful': 2, 'failed': 0}, '_seq_no': 2189, '_primary_term': 17}\n",
      "{'_index': 'anna-summaries-v0', '_id': 'Va_FsIMBBNi73XUqi6Pc', '_version': 2, 'result': 'updated', '_shards': {'total': 2, 'successful': 2, 'failed': 0}, '_seq_no': 2190, '_primary_term': 17}\n",
      "{'_index': 'anna-summaries-v0', '_id': 'siMty4IBy5mPdc6P6mhF', '_version': 2, 'result': 'updated', '_shards': {'total': 2, 'successful': 2, 'failed': 0}, '_seq_no': 2191, '_primary_term': 17}\n"
     ]
    },
    {
     "name": "stderr",
     "output_type": "stream",
     "text": [
      "POST https://persyn.es.us-west-2.aws.found.io:443/anna-summaries-v0/_search [status:200 duration:0.030s]\n",
      "POST https://persyn.es.us-west-2.aws.found.io:443/anna-conversations-v0/_search [status:200 duration:0.034s]\n",
      "POST https://persyn.es.us-west-2.aws.found.io:443/anna-summaries-v0/_update/2-ATqIQB6EXxeIxU6IYm [status:200 duration:0.036s]\n",
      "POST https://persyn.es.us-west-2.aws.found.io:443/anna-summaries-v0/_search [status:200 duration:0.027s]\n",
      "POST https://persyn.es.us-west-2.aws.found.io:443/anna-conversations-v0/_search [status:200 duration:0.024s]\n",
      "POST https://persyn.es.us-west-2.aws.found.io:443/anna-summaries-v0/_update/i69ScoQBBNi73XUqIK0O [status:200 duration:0.031s]\n",
      "POST https://persyn.es.us-west-2.aws.found.io:443/anna-summaries-v0/_search [status:200 duration:0.029s]\n",
      "POST https://persyn.es.us-west-2.aws.found.io:443/anna-conversations-v0/_search [status:200 duration:0.023s]\n",
      "POST https://persyn.es.us-west-2.aws.found.io:443/anna-summaries-v0/_update/b-CRKoQB6EXxeIxU2n4u [status:200 duration:0.033s]\n"
     ]
    },
    {
     "name": "stdout",
     "output_type": "stream",
     "text": [
      "{'_index': 'anna-summaries-v0', '_id': '2-ATqIQB6EXxeIxU6IYm', '_version': 2, 'result': 'updated', '_shards': {'total': 2, 'successful': 2, 'failed': 0}, '_seq_no': 2192, '_primary_term': 17}\n",
      "{'_index': 'anna-summaries-v0', '_id': 'i69ScoQBBNi73XUqIK0O', '_version': 2, 'result': 'updated', '_shards': {'total': 2, 'successful': 2, 'failed': 0}, '_seq_no': 2193, '_primary_term': 17}\n",
      "{'_index': 'anna-summaries-v0', '_id': 'b-CRKoQB6EXxeIxU2n4u', '_version': 2, 'result': 'updated', '_shards': {'total': 2, 'successful': 2, 'failed': 0}, '_seq_no': 2194, '_primary_term': 17}\n"
     ]
    },
    {
     "name": "stderr",
     "output_type": "stream",
     "text": [
      "POST https://persyn.es.us-west-2.aws.found.io:443/anna-summaries-v0/_search [status:200 duration:0.029s]\n",
      "POST https://persyn.es.us-west-2.aws.found.io:443/anna-conversations-v0/_search [status:200 duration:0.028s]\n",
      "POST https://persyn.es.us-west-2.aws.found.io:443/anna-summaries-v0/_update/geDckYQB6EXxeIxUfION [status:200 duration:0.032s]\n",
      "POST https://persyn.es.us-west-2.aws.found.io:443/anna-summaries-v0/_search [status:200 duration:0.029s]\n",
      "POST https://persyn.es.us-west-2.aws.found.io:443/anna-conversations-v0/_search [status:200 duration:0.027s]\n",
      "POST https://persyn.es.us-west-2.aws.found.io:443/anna-summaries-v0/_update/POCbq4QB6EXxeIxUR4eH [status:200 duration:0.027s]\n",
      "POST https://persyn.es.us-west-2.aws.found.io:443/anna-summaries-v0/_search [status:200 duration:0.030s]\n",
      "POST https://persyn.es.us-west-2.aws.found.io:443/anna-conversations-v0/_search [status:200 duration:0.027s]\n",
      "POST https://persyn.es.us-west-2.aws.found.io:443/anna-summaries-v0/_update/RNSufYEBBCovfdTki6o7 [status:200 duration:0.024s]\n"
     ]
    },
    {
     "name": "stdout",
     "output_type": "stream",
     "text": [
      "{'_index': 'anna-summaries-v0', '_id': 'geDckYQB6EXxeIxUfION', '_version': 2, 'result': 'updated', '_shards': {'total': 2, 'successful': 2, 'failed': 0}, '_seq_no': 2195, '_primary_term': 17}\n",
      "{'_index': 'anna-summaries-v0', '_id': 'POCbq4QB6EXxeIxUR4eH', '_version': 2, 'result': 'updated', '_shards': {'total': 2, 'successful': 2, 'failed': 0}, '_seq_no': 2196, '_primary_term': 17}\n",
      "{'_index': 'anna-summaries-v0', '_id': 'RNSufYEBBCovfdTki6o7', '_version': 2, 'result': 'updated', '_shards': {'total': 2, 'successful': 2, 'failed': 0}, '_seq_no': 2197, '_primary_term': 17}\n"
     ]
    },
    {
     "name": "stderr",
     "output_type": "stream",
     "text": [
      "POST https://persyn.es.us-west-2.aws.found.io:443/anna-summaries-v0/_search [status:200 duration:0.028s]\n",
      "POST https://persyn.es.us-west-2.aws.found.io:443/anna-conversations-v0/_search [status:200 duration:0.029s]\n",
      "POST https://persyn.es.us-west-2.aws.found.io:443/anna-summaries-v0/_update/1eD9p4QB6EXxeIxUMYYz [status:200 duration:0.031s]\n",
      "POST https://persyn.es.us-west-2.aws.found.io:443/anna-summaries-v0/_search [status:200 duration:0.029s]\n",
      "POST https://persyn.es.us-west-2.aws.found.io:443/anna-conversations-v0/_search [status:200 duration:0.029s]\n",
      "POST https://persyn.es.us-west-2.aws.found.io:443/anna-summaries-v0/_update/Whh-K4AB1O6hlTWgrlIX [status:200 duration:0.031s]\n",
      "POST https://persyn.es.us-west-2.aws.found.io:443/anna-summaries-v0/_search [status:200 duration:0.029s]\n",
      "POST https://persyn.es.us-west-2.aws.found.io:443/anna-conversations-v0/_search [status:200 duration:0.023s]\n",
      "POST https://persyn.es.us-west-2.aws.found.io:443/anna-summaries-v0/_update/a-BzmoMB6EXxeIxUwHZc [status:200 duration:0.026s]\n"
     ]
    },
    {
     "name": "stdout",
     "output_type": "stream",
     "text": [
      "{'_index': 'anna-summaries-v0', '_id': '1eD9p4QB6EXxeIxUMYYz', '_version': 2, 'result': 'updated', '_shards': {'total': 2, 'successful': 2, 'failed': 0}, '_seq_no': 2198, '_primary_term': 17}\n",
      "{'_index': 'anna-summaries-v0', '_id': 'Whh-K4AB1O6hlTWgrlIX', '_version': 2, 'result': 'updated', '_shards': {'total': 2, 'successful': 2, 'failed': 0}, '_seq_no': 2199, '_primary_term': 17}\n",
      "{'_index': 'anna-summaries-v0', '_id': 'a-BzmoMB6EXxeIxUwHZc', '_version': 2, 'result': 'updated', '_shards': {'total': 2, 'successful': 2, 'failed': 0}, '_seq_no': 2200, '_primary_term': 17}\n"
     ]
    },
    {
     "name": "stderr",
     "output_type": "stream",
     "text": [
      "POST https://persyn.es.us-west-2.aws.found.io:443/anna-summaries-v0/_search [status:200 duration:0.030s]\n",
      "POST https://persyn.es.us-west-2.aws.found.io:443/anna-conversations-v0/_search [status:200 duration:0.027s]\n",
      "POST https://persyn.es.us-west-2.aws.found.io:443/anna-summaries-v0/_update/_9RctYEBBCovfdTkt7an [status:200 duration:0.030s]\n",
      "POST https://persyn.es.us-west-2.aws.found.io:443/anna-summaries-v0/_search [status:200 duration:0.029s]\n",
      "POST https://persyn.es.us-west-2.aws.found.io:443/anna-conversations-v0/_search [status:200 duration:0.025s]\n",
      "POST https://persyn.es.us-west-2.aws.found.io:443/anna-summaries-v0/_update/BSNaFYMBy5mPdc6PCWy- [status:200 duration:0.025s]\n",
      "POST https://persyn.es.us-west-2.aws.found.io:443/anna-summaries-v0/_search [status:200 duration:0.027s]\n",
      "POST https://persyn.es.us-west-2.aws.found.io:443/anna-conversations-v0/_search [status:200 duration:0.022s]\n",
      "POST https://persyn.es.us-west-2.aws.found.io:443/anna-summaries-v0/_update/U00q04IBRfbdi4KAklPw [status:200 duration:0.028s]\n",
      "POST https://persyn.es.us-west-2.aws.found.io:443/anna-summaries-v0/_search [status:200 duration:0.020s]\n"
     ]
    },
    {
     "name": "stdout",
     "output_type": "stream",
     "text": [
      "{'_index': 'anna-summaries-v0', '_id': '_9RctYEBBCovfdTkt7an', '_version': 2, 'result': 'updated', '_shards': {'total': 2, 'successful': 2, 'failed': 0}, '_seq_no': 2201, '_primary_term': 17}\n",
      "{'_index': 'anna-summaries-v0', '_id': 'BSNaFYMBy5mPdc6PCWy-', '_version': 2, 'result': 'updated', '_shards': {'total': 2, 'successful': 2, 'failed': 0}, '_seq_no': 2202, '_primary_term': 17}\n",
      "{'_index': 'anna-summaries-v0', '_id': 'U00q04IBRfbdi4KAklPw', '_version': 2, 'result': 'updated', '_shards': {'total': 2, 'successful': 2, 'failed': 0}, '_seq_no': 2203, '_primary_term': 17}\n"
     ]
    },
    {
     "name": "stderr",
     "output_type": "stream",
     "text": [
      "POST https://persyn.es.us-west-2.aws.found.io:443/anna-conversations-v0/_search [status:200 duration:0.020s]\n",
      "POST https://persyn.es.us-west-2.aws.found.io:443/anna-summaries-v0/_update/Ya_JFYQBBNi73XUqYKqt [status:200 duration:0.024s]\n",
      "POST https://persyn.es.us-west-2.aws.found.io:443/anna-summaries-v0/_search [status:200 duration:0.026s]\n",
      "POST https://persyn.es.us-west-2.aws.found.io:443/anna-conversations-v0/_search [status:200 duration:0.023s]\n",
      "POST https://persyn.es.us-west-2.aws.found.io:443/anna-summaries-v0/_update/yBhiWYAB1O6hlTWg5F3w [status:200 duration:0.025s]\n",
      "POST https://persyn.es.us-west-2.aws.found.io:443/anna-summaries-v0/_search [status:200 duration:0.029s]\n",
      "POST https://persyn.es.us-west-2.aws.found.io:443/anna-conversations-v0/_search [status:200 duration:0.021s]\n",
      "POST https://persyn.es.us-west-2.aws.found.io:443/anna-summaries-v0/_update/rRgluoAB1O6hlTWgjXOQ [status:200 duration:0.024s]\n",
      "POST https://persyn.es.us-west-2.aws.found.io:443/anna-summaries-v0/_search [status:200 duration:0.023s]\n"
     ]
    },
    {
     "name": "stdout",
     "output_type": "stream",
     "text": [
      "{'_index': 'anna-summaries-v0', '_id': 'Ya_JFYQBBNi73XUqYKqt', '_version': 2, 'result': 'updated', '_shards': {'total': 2, 'successful': 2, 'failed': 0}, '_seq_no': 2204, '_primary_term': 17}\n",
      "{'_index': 'anna-summaries-v0', '_id': 'yBhiWYAB1O6hlTWg5F3w', '_version': 2, 'result': 'updated', '_shards': {'total': 2, 'successful': 2, 'failed': 0}, '_seq_no': 2205, '_primary_term': 17}\n",
      "{'_index': 'anna-summaries-v0', '_id': 'rRgluoAB1O6hlTWgjXOQ', '_version': 2, 'result': 'updated', '_shards': {'total': 2, 'successful': 2, 'failed': 0}, '_seq_no': 2206, '_primary_term': 17}\n"
     ]
    },
    {
     "name": "stderr",
     "output_type": "stream",
     "text": [
      "POST https://persyn.es.us-west-2.aws.found.io:443/anna-conversations-v0/_search [status:200 duration:0.022s]\n",
      "POST https://persyn.es.us-west-2.aws.found.io:443/anna-summaries-v0/_update/u6-YEYQBBNi73XUqU6hy [status:200 duration:0.023s]\n",
      "POST https://persyn.es.us-west-2.aws.found.io:443/anna-summaries-v0/_search [status:200 duration:0.028s]\n",
      "POST https://persyn.es.us-west-2.aws.found.io:443/anna-conversations-v0/_search [status:200 duration:0.027s]\n",
      "POST https://persyn.es.us-west-2.aws.found.io:443/anna-summaries-v0/_update/_hhlU38B1O6hlTWgiEso [status:200 duration:0.026s]\n",
      "POST https://persyn.es.us-west-2.aws.found.io:443/anna-summaries-v0/_search [status:200 duration:0.029s]\n",
      "POST https://persyn.es.us-west-2.aws.found.io:443/anna-conversations-v0/_search [status:200 duration:0.022s]\n",
      "POST https://persyn.es.us-west-2.aws.found.io:443/anna-summaries-v0/_update/ra9o-4MBBNi73XUqeaTw [status:200 duration:0.026s]\n",
      "POST https://persyn.es.us-west-2.aws.found.io:443/anna-summaries-v0/_search [status:200 duration:0.022s]\n"
     ]
    },
    {
     "name": "stdout",
     "output_type": "stream",
     "text": [
      "{'_index': 'anna-summaries-v0', '_id': 'u6-YEYQBBNi73XUqU6hy', '_version': 2, 'result': 'updated', '_shards': {'total': 2, 'successful': 2, 'failed': 0}, '_seq_no': 2207, '_primary_term': 17}\n",
      "{'_index': 'anna-summaries-v0', '_id': '_hhlU38B1O6hlTWgiEso', '_version': 2, 'result': 'updated', '_shards': {'total': 2, 'successful': 2, 'failed': 0}, '_seq_no': 2208, '_primary_term': 17}\n",
      "{'_index': 'anna-summaries-v0', '_id': 'ra9o-4MBBNi73XUqeaTw', '_version': 2, 'result': 'updated', '_shards': {'total': 2, 'successful': 2, 'failed': 0}, '_seq_no': 2209, '_primary_term': 17}\n"
     ]
    },
    {
     "name": "stderr",
     "output_type": "stream",
     "text": [
      "POST https://persyn.es.us-west-2.aws.found.io:443/anna-conversations-v0/_search [status:200 duration:0.023s]\n",
      "POST https://persyn.es.us-west-2.aws.found.io:443/anna-summaries-v0/_update/IK-am4MBBNi73XUq9aNu [status:200 duration:0.028s]\n",
      "POST https://persyn.es.us-west-2.aws.found.io:443/anna-summaries-v0/_search [status:200 duration:0.031s]\n",
      "POST https://persyn.es.us-west-2.aws.found.io:443/anna-conversations-v0/_search [status:200 duration:0.021s]\n",
      "POST https://persyn.es.us-west-2.aws.found.io:443/anna-summaries-v0/_update/m6_d9oMBBNi73XUqGaSQ [status:200 duration:0.029s]\n",
      "POST https://persyn.es.us-west-2.aws.found.io:443/anna-summaries-v0/_search [status:200 duration:0.021s]\n",
      "POST https://persyn.es.us-west-2.aws.found.io:443/anna-conversations-v0/_search [status:200 duration:0.023s]\n",
      "POST https://persyn.es.us-west-2.aws.found.io:443/anna-summaries-v0/_update/nh24VYIBGYbVpQ0o57KL [status:200 duration:0.028s]\n",
      "POST https://persyn.es.us-west-2.aws.found.io:443/anna-summaries-v0/_search [status:200 duration:0.027s]\n"
     ]
    },
    {
     "name": "stdout",
     "output_type": "stream",
     "text": [
      "{'_index': 'anna-summaries-v0', '_id': 'IK-am4MBBNi73XUq9aNu', '_version': 2, 'result': 'updated', '_shards': {'total': 2, 'successful': 2, 'failed': 0}, '_seq_no': 2210, '_primary_term': 17}\n",
      "{'_index': 'anna-summaries-v0', '_id': 'm6_d9oMBBNi73XUqGaSQ', '_version': 2, 'result': 'updated', '_shards': {'total': 2, 'successful': 2, 'failed': 0}, '_seq_no': 2211, '_primary_term': 17}\n",
      "{'_index': 'anna-summaries-v0', '_id': 'nh24VYIBGYbVpQ0o57KL', '_version': 2, 'result': 'updated', '_shards': {'total': 2, 'successful': 2, 'failed': 0}, '_seq_no': 2212, '_primary_term': 17}\n"
     ]
    },
    {
     "name": "stderr",
     "output_type": "stream",
     "text": [
      "POST https://persyn.es.us-west-2.aws.found.io:443/anna-conversations-v0/_search [status:200 duration:0.024s]\n",
      "POST https://persyn.es.us-west-2.aws.found.io:443/anna-summaries-v0/_update/5OAz6IMB6EXxeIxUKHiJ [status:200 duration:0.030s]\n",
      "POST https://persyn.es.us-west-2.aws.found.io:443/anna-summaries-v0/_search [status:200 duration:0.027s]\n",
      "POST https://persyn.es.us-west-2.aws.found.io:443/anna-conversations-v0/_search [status:200 duration:0.028s]\n",
      "POST https://persyn.es.us-west-2.aws.found.io:443/anna-summaries-v0/_update/OK9cjYQBBNi73XUqQa53 [status:200 duration:0.025s]\n",
      "POST https://persyn.es.us-west-2.aws.found.io:443/anna-summaries-v0/_search [status:200 duration:0.026s]\n",
      "POST https://persyn.es.us-west-2.aws.found.io:443/anna-conversations-v0/_search [status:200 duration:0.029s]\n",
      "POST https://persyn.es.us-west-2.aws.found.io:443/anna-summaries-v0/_update/SSNGXoMBy5mPdc6PvW6E [status:200 duration:0.027s]\n"
     ]
    },
    {
     "name": "stdout",
     "output_type": "stream",
     "text": [
      "{'_index': 'anna-summaries-v0', '_id': '5OAz6IMB6EXxeIxUKHiJ', '_version': 2, 'result': 'updated', '_shards': {'total': 2, 'successful': 2, 'failed': 0}, '_seq_no': 2213, '_primary_term': 17}\n",
      "{'_index': 'anna-summaries-v0', '_id': 'OK9cjYQBBNi73XUqQa53', '_version': 2, 'result': 'updated', '_shards': {'total': 2, 'successful': 2, 'failed': 0}, '_seq_no': 2214, '_primary_term': 17}\n",
      "{'_index': 'anna-summaries-v0', '_id': 'SSNGXoMBy5mPdc6PvW6E', '_version': 2, 'result': 'updated', '_shards': {'total': 2, 'successful': 2, 'failed': 0}, '_seq_no': 2215, '_primary_term': 17}\n"
     ]
    },
    {
     "name": "stderr",
     "output_type": "stream",
     "text": [
      "POST https://persyn.es.us-west-2.aws.found.io:443/anna-summaries-v0/_search [status:200 duration:0.029s]\n",
      "POST https://persyn.es.us-west-2.aws.found.io:443/anna-conversations-v0/_search [status:200 duration:0.028s]\n",
      "POST https://persyn.es.us-west-2.aws.found.io:443/anna-summaries-v0/_update/iuA4-4MB6EXxeIxUIHkk [status:200 duration:0.032s]\n",
      "POST https://persyn.es.us-west-2.aws.found.io:443/anna-summaries-v0/_search [status:200 duration:0.029s]\n",
      "POST https://persyn.es.us-west-2.aws.found.io:443/anna-conversations-v0/_search [status:200 duration:0.023s]\n",
      "POST https://persyn.es.us-west-2.aws.found.io:443/anna-summaries-v0/_update/Bk2PyIIBRfbdi4KAPVJ- [status:200 duration:0.030s]\n",
      "POST https://persyn.es.us-west-2.aws.found.io:443/anna-summaries-v0/_search [status:200 duration:0.023s]\n",
      "POST https://persyn.es.us-west-2.aws.found.io:443/anna-conversations-v0/_search [status:200 duration:0.022s]\n",
      "POST https://persyn.es.us-west-2.aws.found.io:443/anna-summaries-v0/_update/Pq-2l4QBBNi73XUqabCd [status:200 duration:0.023s]\n",
      "POST https://persyn.es.us-west-2.aws.found.io:443/anna-summaries-v0/_search [status:200 duration:0.027s]\n"
     ]
    },
    {
     "name": "stdout",
     "output_type": "stream",
     "text": [
      "{'_index': 'anna-summaries-v0', '_id': 'iuA4-4MB6EXxeIxUIHkk', '_version': 2, 'result': 'updated', '_shards': {'total': 2, 'successful': 2, 'failed': 0}, '_seq_no': 2216, '_primary_term': 17}\n",
      "{'_index': 'anna-summaries-v0', '_id': 'Bk2PyIIBRfbdi4KAPVJ-', '_version': 2, 'result': 'updated', '_shards': {'total': 2, 'successful': 2, 'failed': 0}, '_seq_no': 2217, '_primary_term': 17}\n",
      "{'_index': 'anna-summaries-v0', '_id': 'Pq-2l4QBBNi73XUqabCd', '_version': 2, 'result': 'updated', '_shards': {'total': 2, 'successful': 2, 'failed': 0}, '_seq_no': 2218, '_primary_term': 17}\n"
     ]
    },
    {
     "name": "stderr",
     "output_type": "stream",
     "text": [
      "POST https://persyn.es.us-west-2.aws.found.io:443/anna-conversations-v0/_search [status:200 duration:0.026s]\n",
      "POST https://persyn.es.us-west-2.aws.found.io:443/anna-summaries-v0/_update/la_Z9oMBBNi73XUq96Qx [status:200 duration:0.029s]\n",
      "POST https://persyn.es.us-west-2.aws.found.io:443/anna-summaries-v0/_search [status:200 duration:0.026s]\n",
      "POST https://persyn.es.us-west-2.aws.found.io:443/anna-conversations-v0/_search [status:200 duration:0.021s]\n",
      "POST https://persyn.es.us-west-2.aws.found.io:443/anna-summaries-v0/_update/QU3kvYIBRfbdi4KAylEz [status:200 duration:0.030s]\n",
      "POST https://persyn.es.us-west-2.aws.found.io:443/anna-summaries-v0/_search [status:200 duration:0.026s]\n",
      "POST https://persyn.es.us-west-2.aws.found.io:443/anna-conversations-v0/_search [status:200 duration:0.021s]\n",
      "POST https://persyn.es.us-west-2.aws.found.io:443/anna-summaries-v0/_update/ViP0woIBy5mPdc6PbWhx [status:200 duration:0.024s]\n",
      "POST https://persyn.es.us-west-2.aws.found.io:443/anna-summaries-v0/_search [status:200 duration:0.027s]\n"
     ]
    },
    {
     "name": "stdout",
     "output_type": "stream",
     "text": [
      "{'_index': 'anna-summaries-v0', '_id': 'la_Z9oMBBNi73XUq96Qx', '_version': 2, 'result': 'updated', '_shards': {'total': 2, 'successful': 2, 'failed': 0}, '_seq_no': 2219, '_primary_term': 17}\n",
      "{'_index': 'anna-summaries-v0', '_id': 'QU3kvYIBRfbdi4KAylEz', '_version': 2, 'result': 'updated', '_shards': {'total': 2, 'successful': 2, 'failed': 0}, '_seq_no': 2220, '_primary_term': 17}\n",
      "{'_index': 'anna-summaries-v0', '_id': 'ViP0woIBy5mPdc6PbWhx', '_version': 2, 'result': 'updated', '_shards': {'total': 2, 'successful': 2, 'failed': 0}, '_seq_no': 2221, '_primary_term': 17}\n"
     ]
    },
    {
     "name": "stderr",
     "output_type": "stream",
     "text": [
      "POST https://persyn.es.us-west-2.aws.found.io:443/anna-conversations-v0/_search [status:200 duration:0.027s]\n",
      "POST https://persyn.es.us-west-2.aws.found.io:443/anna-summaries-v0/_update/Z68Eu4QBBNi73XUqabRd [status:200 duration:0.024s]\n",
      "POST https://persyn.es.us-west-2.aws.found.io:443/anna-summaries-v0/_search [status:200 duration:0.026s]\n",
      "POST https://persyn.es.us-west-2.aws.found.io:443/anna-conversations-v0/_search [status:200 duration:0.027s]\n",
      "POST https://persyn.es.us-west-2.aws.found.io:443/anna-summaries-v0/_update/7R0274EBGYbVpQ0oH4R0 [status:200 duration:0.031s]\n",
      "POST https://persyn.es.us-west-2.aws.found.io:443/anna-summaries-v0/_search [status:200 duration:0.028s]\n",
      "POST https://persyn.es.us-west-2.aws.found.io:443/anna-conversations-v0/_search [status:200 duration:0.025s]\n",
      "POST https://persyn.es.us-west-2.aws.found.io:443/anna-summaries-v0/_update/VE2tyIIBRfbdi4KAZ1Jr [status:200 duration:0.027s]\n"
     ]
    },
    {
     "name": "stdout",
     "output_type": "stream",
     "text": [
      "{'_index': 'anna-summaries-v0', '_id': 'Z68Eu4QBBNi73XUqabRd', '_version': 2, 'result': 'updated', '_shards': {'total': 2, 'successful': 2, 'failed': 0}, '_seq_no': 2222, '_primary_term': 17}\n",
      "{'_index': 'anna-summaries-v0', '_id': '7R0274EBGYbVpQ0oH4R0', '_version': 2, 'result': 'updated', '_shards': {'total': 2, 'successful': 2, 'failed': 0}, '_seq_no': 2223, '_primary_term': 17}\n",
      "{'_index': 'anna-summaries-v0', '_id': 'VE2tyIIBRfbdi4KAZ1Jr', '_version': 2, 'result': 'updated', '_shards': {'total': 2, 'successful': 2, 'failed': 0}, '_seq_no': 2224, '_primary_term': 17}\n"
     ]
    },
    {
     "name": "stderr",
     "output_type": "stream",
     "text": [
      "POST https://persyn.es.us-west-2.aws.found.io:443/anna-summaries-v0/_search [status:200 duration:0.026s]\n",
      "POST https://persyn.es.us-west-2.aws.found.io:443/anna-conversations-v0/_search [status:200 duration:0.028s]\n",
      "POST https://persyn.es.us-west-2.aws.found.io:443/anna-summaries-v0/_update/EK-wRYQBBNi73XUqNqsu [status:200 duration:0.032s]\n",
      "POST https://persyn.es.us-west-2.aws.found.io:443/anna-summaries-v0/_search [status:200 duration:0.026s]\n",
      "POST https://persyn.es.us-west-2.aws.found.io:443/anna-conversations-v0/_search [status:200 duration:0.032s]\n",
      "POST https://persyn.es.us-west-2.aws.found.io:443/anna-summaries-v0/_update/ESPa-4IBy5mPdc6P2WvJ [status:200 duration:0.026s]\n",
      "POST https://persyn.es.us-west-2.aws.found.io:443/anna-summaries-v0/_search [status:200 duration:0.030s]\n",
      "POST https://persyn.es.us-west-2.aws.found.io:443/anna-conversations-v0/_search [status:200 duration:0.028s]\n",
      "POST https://persyn.es.us-west-2.aws.found.io:443/anna-summaries-v0/_update/ax2qVYIBGYbVpQ0oZbLh [status:200 duration:0.027s]\n"
     ]
    },
    {
     "name": "stdout",
     "output_type": "stream",
     "text": [
      "{'_index': 'anna-summaries-v0', '_id': 'EK-wRYQBBNi73XUqNqsu', '_version': 2, 'result': 'updated', '_shards': {'total': 2, 'successful': 2, 'failed': 0}, '_seq_no': 2225, '_primary_term': 17}\n",
      "{'_index': 'anna-summaries-v0', '_id': 'ESPa-4IBy5mPdc6P2WvJ', '_version': 2, 'result': 'updated', '_shards': {'total': 2, 'successful': 2, 'failed': 0}, '_seq_no': 2226, '_primary_term': 17}\n",
      "{'_index': 'anna-summaries-v0', '_id': 'ax2qVYIBGYbVpQ0oZbLh', '_version': 2, 'result': 'updated', '_shards': {'total': 2, 'successful': 2, 'failed': 0}, '_seq_no': 2227, '_primary_term': 17}\n"
     ]
    },
    {
     "name": "stderr",
     "output_type": "stream",
     "text": [
      "POST https://persyn.es.us-west-2.aws.found.io:443/anna-summaries-v0/_search [status:200 duration:0.029s]\n",
      "POST https://persyn.es.us-west-2.aws.found.io:443/anna-conversations-v0/_search [status:200 duration:0.022s]\n",
      "POST https://persyn.es.us-west-2.aws.found.io:443/anna-summaries-v0/_update/nRhRWYAB1O6hlTWgPV1m [status:200 duration:0.032s]\n",
      "POST https://persyn.es.us-west-2.aws.found.io:443/anna-summaries-v0/_search [status:200 duration:0.027s]\n",
      "POST https://persyn.es.us-west-2.aws.found.io:443/anna-conversations-v0/_search [status:200 duration:0.024s]\n",
      "POST https://persyn.es.us-west-2.aws.found.io:443/anna-summaries-v0/_update/RSP58IIBy5mPdc6PZWq7 [status:200 duration:0.025s]\n",
      "POST https://persyn.es.us-west-2.aws.found.io:443/anna-summaries-v0/_search [status:200 duration:0.029s]\n",
      "POST https://persyn.es.us-west-2.aws.found.io:443/anna-conversations-v0/_search [status:200 duration:0.029s]\n",
      "POST https://persyn.es.us-west-2.aws.found.io:443/anna-summaries-v0/_update/Ta8084MBBNi73XUqDKQV [status:200 duration:0.027s]\n"
     ]
    },
    {
     "name": "stdout",
     "output_type": "stream",
     "text": [
      "{'_index': 'anna-summaries-v0', '_id': 'nRhRWYAB1O6hlTWgPV1m', '_version': 2, 'result': 'updated', '_shards': {'total': 2, 'successful': 2, 'failed': 0}, '_seq_no': 2228, '_primary_term': 17}\n",
      "{'_index': 'anna-summaries-v0', '_id': 'RSP58IIBy5mPdc6PZWq7', '_version': 2, 'result': 'updated', '_shards': {'total': 2, 'successful': 2, 'failed': 0}, '_seq_no': 2229, '_primary_term': 17}\n",
      "{'_index': 'anna-summaries-v0', '_id': 'Ta8084MBBNi73XUqDKQV', '_version': 2, 'result': 'updated', '_shards': {'total': 2, 'successful': 2, 'failed': 0}, '_seq_no': 2230, '_primary_term': 17}\n"
     ]
    },
    {
     "name": "stderr",
     "output_type": "stream",
     "text": [
      "POST https://persyn.es.us-west-2.aws.found.io:443/anna-summaries-v0/_search [status:200 duration:0.029s]\n",
      "POST https://persyn.es.us-west-2.aws.found.io:443/anna-conversations-v0/_search [status:200 duration:0.027s]\n",
      "POST https://persyn.es.us-west-2.aws.found.io:443/anna-summaries-v0/_update/Da-a8IMBBNi73XUqDaS5 [status:200 duration:0.027s]\n",
      "POST https://persyn.es.us-west-2.aws.found.io:443/anna-summaries-v0/_search [status:200 duration:0.025s]\n",
      "POST https://persyn.es.us-west-2.aws.found.io:443/anna-conversations-v0/_search [status:200 duration:0.023s]\n",
      "POST https://persyn.es.us-west-2.aws.found.io:443/anna-summaries-v0/_update/MeDunIQB6EXxeIxUToVJ [status:200 duration:0.028s]\n",
      "POST https://persyn.es.us-west-2.aws.found.io:443/anna-summaries-v0/_search [status:200 duration:0.026s]\n",
      "POST https://persyn.es.us-west-2.aws.found.io:443/anna-conversations-v0/_search [status:200 duration:0.027s]\n",
      "POST https://persyn.es.us-west-2.aws.found.io:443/anna-summaries-v0/_update/gCN2BoMBy5mPdc6Py2v1 [status:200 duration:0.025s]\n",
      "POST https://persyn.es.us-west-2.aws.found.io:443/anna-summaries-v0/_search [status:200 duration:0.029s]\n"
     ]
    },
    {
     "name": "stdout",
     "output_type": "stream",
     "text": [
      "{'_index': 'anna-summaries-v0', '_id': 'Da-a8IMBBNi73XUqDaS5', '_version': 2, 'result': 'updated', '_shards': {'total': 2, 'successful': 2, 'failed': 0}, '_seq_no': 2231, '_primary_term': 17}\n",
      "{'_index': 'anna-summaries-v0', '_id': 'MeDunIQB6EXxeIxUToVJ', '_version': 2, 'result': 'updated', '_shards': {'total': 2, 'successful': 2, 'failed': 0}, '_seq_no': 2232, '_primary_term': 17}\n",
      "{'_index': 'anna-summaries-v0', '_id': 'gCN2BoMBy5mPdc6Py2v1', '_version': 2, 'result': 'updated', '_shards': {'total': 2, 'successful': 2, 'failed': 0}, '_seq_no': 2233, '_primary_term': 17}\n"
     ]
    },
    {
     "name": "stderr",
     "output_type": "stream",
     "text": [
      "POST https://persyn.es.us-west-2.aws.found.io:443/anna-conversations-v0/_search [status:200 duration:0.027s]\n",
      "POST https://persyn.es.us-west-2.aws.found.io:443/anna-summaries-v0/_update/19TnL4EBBCovfdTkhpXc [status:200 duration:0.027s]\n",
      "POST https://persyn.es.us-west-2.aws.found.io:443/anna-summaries-v0/_search [status:200 duration:0.029s]\n",
      "POST https://persyn.es.us-west-2.aws.found.io:443/anna-conversations-v0/_search [status:200 duration:0.025s]\n",
      "POST https://persyn.es.us-west-2.aws.found.io:443/anna-summaries-v0/_update/zU0t14IBRfbdi4KAh1Mn [status:200 duration:0.024s]\n",
      "POST https://persyn.es.us-west-2.aws.found.io:443/anna-summaries-v0/_search [status:200 duration:0.028s]\n",
      "POST https://persyn.es.us-west-2.aws.found.io:443/anna-conversations-v0/_search [status:200 duration:0.028s]\n",
      "POST https://persyn.es.us-west-2.aws.found.io:443/anna-summaries-v0/_update/H6--r4QBBNi73XUqSLSA [status:200 duration:0.029s]\n"
     ]
    },
    {
     "name": "stdout",
     "output_type": "stream",
     "text": [
      "{'_index': 'anna-summaries-v0', '_id': '19TnL4EBBCovfdTkhpXc', '_version': 2, 'result': 'updated', '_shards': {'total': 2, 'successful': 2, 'failed': 0}, '_seq_no': 2234, '_primary_term': 17}\n",
      "{'_index': 'anna-summaries-v0', '_id': 'zU0t14IBRfbdi4KAh1Mn', '_version': 2, 'result': 'updated', '_shards': {'total': 2, 'successful': 2, 'failed': 0}, '_seq_no': 2235, '_primary_term': 17}\n",
      "{'_index': 'anna-summaries-v0', '_id': 'H6--r4QBBNi73XUqSLSA', '_version': 2, 'result': 'updated', '_shards': {'total': 2, 'successful': 2, 'failed': 0}, '_seq_no': 2236, '_primary_term': 17}\n"
     ]
    },
    {
     "name": "stderr",
     "output_type": "stream",
     "text": [
      "POST https://persyn.es.us-west-2.aws.found.io:443/anna-summaries-v0/_search [status:200 duration:0.027s]\n",
      "POST https://persyn.es.us-west-2.aws.found.io:443/anna-conversations-v0/_search [status:200 duration:0.025s]\n",
      "POST https://persyn.es.us-west-2.aws.found.io:443/anna-summaries-v0/_update/jK9ZJoQBBNi73XUqbqpe [status:200 duration:0.029s]\n",
      "POST https://persyn.es.us-west-2.aws.found.io:443/anna-summaries-v0/_search [status:200 duration:0.026s]\n",
      "POST https://persyn.es.us-west-2.aws.found.io:443/anna-conversations-v0/_search [status:200 duration:0.026s]\n",
      "POST https://persyn.es.us-west-2.aws.found.io:443/anna-summaries-v0/_update/EuBG6IMB6EXxeIxUWnkG [status:200 duration:0.025s]\n",
      "POST https://persyn.es.us-west-2.aws.found.io:443/anna-summaries-v0/_search [status:200 duration:0.028s]\n",
      "POST https://persyn.es.us-west-2.aws.found.io:443/anna-conversations-v0/_search [status:200 duration:0.026s]\n",
      "POST https://persyn.es.us-west-2.aws.found.io:443/anna-summaries-v0/_update/da8ZG4QBBNi73XUqOqoP [status:200 duration:0.029s]\n"
     ]
    },
    {
     "name": "stdout",
     "output_type": "stream",
     "text": [
      "{'_index': 'anna-summaries-v0', '_id': 'jK9ZJoQBBNi73XUqbqpe', '_version': 2, 'result': 'updated', '_shards': {'total': 2, 'successful': 2, 'failed': 0}, '_seq_no': 2237, '_primary_term': 17}\n",
      "{'_index': 'anna-summaries-v0', '_id': 'EuBG6IMB6EXxeIxUWnkG', '_version': 2, 'result': 'updated', '_shards': {'total': 2, 'successful': 2, 'failed': 0}, '_seq_no': 2238, '_primary_term': 17}\n",
      "{'_index': 'anna-summaries-v0', '_id': 'da8ZG4QBBNi73XUqOqoP', '_version': 2, 'result': 'updated', '_shards': {'total': 2, 'successful': 2, 'failed': 0}, '_seq_no': 2239, '_primary_term': 17}\n"
     ]
    },
    {
     "name": "stderr",
     "output_type": "stream",
     "text": [
      "POST https://persyn.es.us-west-2.aws.found.io:443/anna-summaries-v0/_search [status:200 duration:0.026s]\n",
      "POST https://persyn.es.us-west-2.aws.found.io:443/anna-conversations-v0/_search [status:200 duration:0.027s]\n",
      "POST https://persyn.es.us-west-2.aws.found.io:443/anna-summaries-v0/_update/3SO3wYIBy5mPdc6P1md5 [status:200 duration:0.033s]\n",
      "POST https://persyn.es.us-west-2.aws.found.io:443/anna-summaries-v0/_search [status:200 duration:0.025s]\n",
      "POST https://persyn.es.us-west-2.aws.found.io:443/anna-conversations-v0/_search [status:200 duration:0.026s]\n",
      "POST https://persyn.es.us-west-2.aws.found.io:443/anna-summaries-v0/_update/WuAzRYQB6EXxeIxUJX9T [status:200 duration:0.028s]\n",
      "POST https://persyn.es.us-west-2.aws.found.io:443/anna-summaries-v0/_search [status:200 duration:0.027s]\n",
      "POST https://persyn.es.us-west-2.aws.found.io:443/anna-conversations-v0/_search [status:200 duration:0.021s]\n",
      "POST https://persyn.es.us-west-2.aws.found.io:443/anna-summaries-v0/_update/ca8To4QBBNi73XUq77Kj [status:200 duration:0.025s]\n",
      "POST https://persyn.es.us-west-2.aws.found.io:443/anna-summaries-v0/_search [status:200 duration:0.027s]\n"
     ]
    },
    {
     "name": "stdout",
     "output_type": "stream",
     "text": [
      "{'_index': 'anna-summaries-v0', '_id': '3SO3wYIBy5mPdc6P1md5', '_version': 2, 'result': 'updated', '_shards': {'total': 2, 'successful': 2, 'failed': 0}, '_seq_no': 2240, '_primary_term': 17}\n",
      "{'_index': 'anna-summaries-v0', '_id': 'WuAzRYQB6EXxeIxUJX9T', '_version': 2, 'result': 'updated', '_shards': {'total': 2, 'successful': 2, 'failed': 0}, '_seq_no': 2241, '_primary_term': 17}\n",
      "{'_index': 'anna-summaries-v0', '_id': 'ca8To4QBBNi73XUq77Kj', '_version': 2, 'result': 'updated', '_shards': {'total': 2, 'successful': 2, 'failed': 0}, '_seq_no': 2242, '_primary_term': 17}\n"
     ]
    },
    {
     "name": "stderr",
     "output_type": "stream",
     "text": [
      "POST https://persyn.es.us-west-2.aws.found.io:443/anna-conversations-v0/_search [status:200 duration:0.029s]\n",
      "POST https://persyn.es.us-west-2.aws.found.io:443/anna-summaries-v0/_update/i9Ruq4EBBCovfdTk5rSS [status:200 duration:0.028s]\n",
      "POST https://persyn.es.us-west-2.aws.found.io:443/anna-summaries-v0/_search [status:200 duration:0.027s]\n",
      "POST https://persyn.es.us-west-2.aws.found.io:443/anna-conversations-v0/_search [status:200 duration:0.029s]\n",
      "POST https://persyn.es.us-west-2.aws.found.io:443/anna-summaries-v0/_update/xSOp6oIBy5mPdc6Pxmk6 [status:200 duration:0.025s]\n",
      "POST https://persyn.es.us-west-2.aws.found.io:443/anna-summaries-v0/_search [status:200 duration:0.029s]\n",
      "POST https://persyn.es.us-west-2.aws.found.io:443/anna-conversations-v0/_search [status:200 duration:0.032s]\n",
      "POST https://persyn.es.us-west-2.aws.found.io:443/anna-summaries-v0/_update/BhiQYYAB1O6hlTWg5GEV [status:200 duration:0.025s]\n"
     ]
    },
    {
     "name": "stdout",
     "output_type": "stream",
     "text": [
      "{'_index': 'anna-summaries-v0', '_id': 'i9Ruq4EBBCovfdTk5rSS', '_version': 2, 'result': 'updated', '_shards': {'total': 2, 'successful': 2, 'failed': 0}, '_seq_no': 2243, '_primary_term': 17}\n",
      "{'_index': 'anna-summaries-v0', '_id': 'xSOp6oIBy5mPdc6Pxmk6', '_version': 2, 'result': 'updated', '_shards': {'total': 2, 'successful': 2, 'failed': 0}, '_seq_no': 2244, '_primary_term': 17}\n",
      "{'_index': 'anna-summaries-v0', '_id': 'BhiQYYAB1O6hlTWg5GEV', '_version': 2, 'result': 'updated', '_shards': {'total': 2, 'successful': 2, 'failed': 0}, '_seq_no': 2245, '_primary_term': 17}\n"
     ]
    },
    {
     "name": "stderr",
     "output_type": "stream",
     "text": [
      "POST https://persyn.es.us-west-2.aws.found.io:443/anna-summaries-v0/_search [status:200 duration:0.029s]\n",
      "POST https://persyn.es.us-west-2.aws.found.io:443/anna-conversations-v0/_search [status:200 duration:0.028s]\n",
      "POST https://persyn.es.us-west-2.aws.found.io:443/anna-summaries-v0/_update/V69rFYQBBNi73XUqy6qw [status:200 duration:0.034s]\n",
      "POST https://persyn.es.us-west-2.aws.found.io:443/anna-summaries-v0/_search [status:200 duration:0.029s]\n",
      "POST https://persyn.es.us-west-2.aws.found.io:443/anna-conversations-v0/_search [status:200 duration:0.026s]\n",
      "POST https://persyn.es.us-west-2.aws.found.io:443/anna-summaries-v0/_update/ghgvWYAB1O6hlTWgJl00 [status:200 duration:0.033s]\n",
      "POST https://persyn.es.us-west-2.aws.found.io:443/anna-summaries-v0/_search [status:200 duration:0.028s]\n",
      "POST https://persyn.es.us-west-2.aws.found.io:443/anna-conversations-v0/_search [status:200 duration:0.022s]\n",
      "POST https://persyn.es.us-west-2.aws.found.io:443/anna-summaries-v0/_update/uK-jBoQBBNi73XUqkKeO [status:200 duration:0.025s]\n"
     ]
    },
    {
     "name": "stdout",
     "output_type": "stream",
     "text": [
      "{'_index': 'anna-summaries-v0', '_id': 'V69rFYQBBNi73XUqy6qw', '_version': 2, 'result': 'updated', '_shards': {'total': 2, 'successful': 2, 'failed': 0}, '_seq_no': 2246, '_primary_term': 17}\n",
      "{'_index': 'anna-summaries-v0', '_id': 'ghgvWYAB1O6hlTWgJl00', '_version': 2, 'result': 'updated', '_shards': {'total': 2, 'successful': 2, 'failed': 0}, '_seq_no': 2247, '_primary_term': 17}\n",
      "{'_index': 'anna-summaries-v0', '_id': 'uK-jBoQBBNi73XUqkKeO', '_version': 2, 'result': 'updated', '_shards': {'total': 2, 'successful': 2, 'failed': 0}, '_seq_no': 2248, '_primary_term': 17}\n"
     ]
    },
    {
     "name": "stderr",
     "output_type": "stream",
     "text": [
      "POST https://persyn.es.us-west-2.aws.found.io:443/anna-summaries-v0/_search [status:200 duration:0.028s]\n",
      "POST https://persyn.es.us-west-2.aws.found.io:443/anna-conversations-v0/_search [status:200 duration:0.022s]\n",
      "POST https://persyn.es.us-west-2.aws.found.io:443/anna-summaries-v0/_update/Uk34b4IBRfbdi4KAEEnv [status:200 duration:0.026s]\n",
      "POST https://persyn.es.us-west-2.aws.found.io:443/anna-summaries-v0/_search [status:200 duration:0.027s]\n",
      "POST https://persyn.es.us-west-2.aws.found.io:443/anna-conversations-v0/_search [status:200 duration:0.029s]\n",
      "POST https://persyn.es.us-west-2.aws.found.io:443/anna-summaries-v0/_update/LRiBa4AB1O6hlTWg0WQr [status:200 duration:0.028s]\n",
      "POST https://persyn.es.us-west-2.aws.found.io:443/anna-summaries-v0/_search [status:200 duration:0.025s]\n",
      "POST https://persyn.es.us-west-2.aws.found.io:443/anna-conversations-v0/_search [status:200 duration:0.026s]\n",
      "POST https://persyn.es.us-west-2.aws.found.io:443/anna-summaries-v0/_update/gCMRcoMBy5mPdc6PK3Da [status:200 duration:0.025s]\n"
     ]
    },
    {
     "name": "stdout",
     "output_type": "stream",
     "text": [
      "{'_index': 'anna-summaries-v0', '_id': 'Uk34b4IBRfbdi4KAEEnv', '_version': 2, 'result': 'updated', '_shards': {'total': 2, 'successful': 2, 'failed': 0}, '_seq_no': 2249, '_primary_term': 17}\n",
      "{'_index': 'anna-summaries-v0', '_id': 'LRiBa4AB1O6hlTWg0WQr', '_version': 2, 'result': 'updated', '_shards': {'total': 2, 'successful': 2, 'failed': 0}, '_seq_no': 2250, '_primary_term': 17}\n",
      "{'_index': 'anna-summaries-v0', '_id': 'gCMRcoMBy5mPdc6PK3Da', '_version': 2, 'result': 'updated', '_shards': {'total': 2, 'successful': 2, 'failed': 0}, '_seq_no': 2251, '_primary_term': 17}\n"
     ]
    },
    {
     "name": "stderr",
     "output_type": "stream",
     "text": [
      "POST https://persyn.es.us-west-2.aws.found.io:443/anna-summaries-v0/_search [status:200 duration:0.028s]\n",
      "POST https://persyn.es.us-west-2.aws.found.io:443/anna-conversations-v0/_search [status:200 duration:0.028s]\n",
      "POST https://persyn.es.us-west-2.aws.found.io:443/anna-summaries-v0/_update/tODjCoQB6EXxeIxUsXsw [status:200 duration:0.027s]\n",
      "POST https://persyn.es.us-west-2.aws.found.io:443/anna-summaries-v0/_search [status:200 duration:0.028s]\n",
      "POST https://persyn.es.us-west-2.aws.found.io:443/anna-conversations-v0/_search [status:200 duration:0.021s]\n",
      "POST https://persyn.es.us-west-2.aws.found.io:443/anna-summaries-v0/_update/wK-yNYQBBNi73XUqHKol [status:200 duration:0.027s]\n",
      "POST https://persyn.es.us-west-2.aws.found.io:443/anna-summaries-v0/_search [status:200 duration:0.034s]\n",
      "POST https://persyn.es.us-west-2.aws.found.io:443/anna-conversations-v0/_search [status:200 duration:0.029s]\n",
      "POST https://persyn.es.us-west-2.aws.found.io:443/anna-summaries-v0/_update/-eA4qIQB6EXxeIxUYYbW [status:200 duration:0.027s]\n"
     ]
    },
    {
     "name": "stdout",
     "output_type": "stream",
     "text": [
      "{'_index': 'anna-summaries-v0', '_id': 'tODjCoQB6EXxeIxUsXsw', '_version': 2, 'result': 'updated', '_shards': {'total': 2, 'successful': 2, 'failed': 0}, '_seq_no': 2252, '_primary_term': 17}\n",
      "{'_index': 'anna-summaries-v0', '_id': 'wK-yNYQBBNi73XUqHKol', '_version': 2, 'result': 'updated', '_shards': {'total': 2, 'successful': 2, 'failed': 0}, '_seq_no': 2253, '_primary_term': 17}\n",
      "{'_index': 'anna-summaries-v0', '_id': '-eA4qIQB6EXxeIxUYYbW', '_version': 2, 'result': 'updated', '_shards': {'total': 2, 'successful': 2, 'failed': 0}, '_seq_no': 2254, '_primary_term': 17}\n"
     ]
    },
    {
     "name": "stderr",
     "output_type": "stream",
     "text": [
      "POST https://persyn.es.us-west-2.aws.found.io:443/anna-summaries-v0/_search [status:200 duration:0.034s]\n",
      "POST https://persyn.es.us-west-2.aws.found.io:443/anna-conversations-v0/_search [status:200 duration:0.031s]\n",
      "POST https://persyn.es.us-west-2.aws.found.io:443/anna-summaries-v0/_update/6yMkFYMBy5mPdc6Pt2sN [status:200 duration:0.033s]\n",
      "POST https://persyn.es.us-west-2.aws.found.io:443/anna-summaries-v0/_search [status:200 duration:0.032s]\n",
      "POST https://persyn.es.us-west-2.aws.found.io:443/anna-conversations-v0/_search [status:200 duration:0.031s]\n",
      "POST https://persyn.es.us-west-2.aws.found.io:443/anna-summaries-v0/_update/GuBBqIQB6EXxeIxUB4dx [status:200 duration:0.028s]\n",
      "POST https://persyn.es.us-west-2.aws.found.io:443/anna-summaries-v0/_search [status:200 duration:0.022s]\n",
      "POST https://persyn.es.us-west-2.aws.found.io:443/anna-conversations-v0/_search [status:200 duration:0.026s]\n",
      "POST https://persyn.es.us-west-2.aws.found.io:443/anna-summaries-v0/_update/Aa_UkIQBBNi73XUqRq8Y [status:200 duration:0.026s]\n"
     ]
    },
    {
     "name": "stdout",
     "output_type": "stream",
     "text": [
      "{'_index': 'anna-summaries-v0', '_id': '6yMkFYMBy5mPdc6Pt2sN', '_version': 2, 'result': 'updated', '_shards': {'total': 2, 'successful': 2, 'failed': 0}, '_seq_no': 2255, '_primary_term': 17}\n",
      "{'_index': 'anna-summaries-v0', '_id': 'GuBBqIQB6EXxeIxUB4dx', '_version': 2, 'result': 'updated', '_shards': {'total': 2, 'successful': 2, 'failed': 0}, '_seq_no': 2256, '_primary_term': 17}\n",
      "{'_index': 'anna-summaries-v0', '_id': 'Aa_UkIQBBNi73XUqRq8Y', '_version': 2, 'result': 'updated', '_shards': {'total': 2, 'successful': 2, 'failed': 0}, '_seq_no': 2257, '_primary_term': 17}\n"
     ]
    },
    {
     "name": "stderr",
     "output_type": "stream",
     "text": [
      "POST https://persyn.es.us-west-2.aws.found.io:443/anna-summaries-v0/_search [status:200 duration:0.028s]\n",
      "POST https://persyn.es.us-west-2.aws.found.io:443/anna-conversations-v0/_search [status:200 duration:0.026s]\n",
      "POST https://persyn.es.us-west-2.aws.found.io:443/anna-summaries-v0/_update/xB1wV4IBGYbVpQ0oCbP1 [status:200 duration:0.026s]\n",
      "POST https://persyn.es.us-west-2.aws.found.io:443/anna-summaries-v0/_search [status:200 duration:0.032s]\n",
      "POST https://persyn.es.us-west-2.aws.found.io:443/anna-conversations-v0/_search [status:200 duration:0.033s]\n",
      "POST https://persyn.es.us-west-2.aws.found.io:443/anna-summaries-v0/_update/XtSZYIEBBCovfdTk9qM7 [status:200 duration:0.033s]\n",
      "POST https://persyn.es.us-west-2.aws.found.io:443/anna-summaries-v0/_search [status:200 duration:0.031s]\n",
      "POST https://persyn.es.us-west-2.aws.found.io:443/anna-conversations-v0/_search [status:200 duration:0.031s]\n",
      "POST https://persyn.es.us-west-2.aws.found.io:443/anna-summaries-v0/_update/hE2whoMBRfbdi4KA01tF [status:200 duration:0.026s]\n"
     ]
    },
    {
     "name": "stdout",
     "output_type": "stream",
     "text": [
      "{'_index': 'anna-summaries-v0', '_id': 'xB1wV4IBGYbVpQ0oCbP1', '_version': 2, 'result': 'updated', '_shards': {'total': 2, 'successful': 2, 'failed': 0}, '_seq_no': 2258, '_primary_term': 17}\n",
      "{'_index': 'anna-summaries-v0', '_id': 'XtSZYIEBBCovfdTk9qM7', '_version': 2, 'result': 'updated', '_shards': {'total': 2, 'successful': 2, 'failed': 0}, '_seq_no': 2259, '_primary_term': 17}\n",
      "{'_index': 'anna-summaries-v0', '_id': 'hE2whoMBRfbdi4KA01tF', '_version': 2, 'result': 'updated', '_shards': {'total': 2, 'successful': 2, 'failed': 0}, '_seq_no': 2260, '_primary_term': 17}\n"
     ]
    },
    {
     "name": "stderr",
     "output_type": "stream",
     "text": [
      "POST https://persyn.es.us-west-2.aws.found.io:443/anna-summaries-v0/_search [status:200 duration:0.028s]\n",
      "POST https://persyn.es.us-west-2.aws.found.io:443/anna-conversations-v0/_search [status:200 duration:0.030s]\n",
      "POST https://persyn.es.us-west-2.aws.found.io:443/anna-summaries-v0/_update/aNSaWIEBBCovfdTkuqG- [status:200 duration:0.028s]\n",
      "POST https://persyn.es.us-west-2.aws.found.io:443/anna-summaries-v0/_search [status:200 duration:0.028s]\n",
      "POST https://persyn.es.us-west-2.aws.found.io:443/anna-conversations-v0/_search [status:200 duration:0.028s]\n",
      "POST https://persyn.es.us-west-2.aws.found.io:443/anna-summaries-v0/_update/qq9oJoQBBNi73XUqtKoV [status:200 duration:0.032s]\n",
      "POST https://persyn.es.us-west-2.aws.found.io:443/anna-summaries-v0/_search [status:200 duration:0.027s]\n",
      "POST https://persyn.es.us-west-2.aws.found.io:443/anna-conversations-v0/_search [status:200 duration:0.031s]\n",
      "POST https://persyn.es.us-west-2.aws.found.io:443/anna-summaries-v0/_update/9q_J_YMBBNi73XUqm6Sy [status:200 duration:0.028s]\n"
     ]
    },
    {
     "name": "stdout",
     "output_type": "stream",
     "text": [
      "{'_index': 'anna-summaries-v0', '_id': 'aNSaWIEBBCovfdTkuqG-', '_version': 2, 'result': 'updated', '_shards': {'total': 2, 'successful': 2, 'failed': 0}, '_seq_no': 2261, '_primary_term': 17}\n",
      "{'_index': 'anna-summaries-v0', '_id': 'qq9oJoQBBNi73XUqtKoV', '_version': 2, 'result': 'updated', '_shards': {'total': 2, 'successful': 2, 'failed': 0}, '_seq_no': 2262, '_primary_term': 17}\n",
      "{'_index': 'anna-summaries-v0', '_id': '9q_J_YMBBNi73XUqm6Sy', '_version': 2, 'result': 'updated', '_shards': {'total': 2, 'successful': 2, 'failed': 0}, '_seq_no': 2263, '_primary_term': 17}\n"
     ]
    },
    {
     "name": "stderr",
     "output_type": "stream",
     "text": [
      "POST https://persyn.es.us-west-2.aws.found.io:443/anna-summaries-v0/_search [status:200 duration:0.028s]\n",
      "POST https://persyn.es.us-west-2.aws.found.io:443/anna-conversations-v0/_search [status:200 duration:0.027s]\n",
      "POST https://persyn.es.us-west-2.aws.found.io:443/anna-summaries-v0/_update/Ihh79n4B1O6hlTWgcUrc [status:200 duration:0.029s]\n",
      "POST https://persyn.es.us-west-2.aws.found.io:443/anna-summaries-v0/_search [status:200 duration:0.026s]\n",
      "POST https://persyn.es.us-west-2.aws.found.io:443/anna-conversations-v0/_search [status:200 duration:0.027s]\n",
      "POST https://persyn.es.us-west-2.aws.found.io:443/anna-summaries-v0/_update/pBha734B1O6hlTWgQUnd [status:200 duration:0.023s]\n",
      "POST https://persyn.es.us-west-2.aws.found.io:443/anna-summaries-v0/_search [status:200 duration:0.027s]\n",
      "POST https://persyn.es.us-west-2.aws.found.io:443/anna-conversations-v0/_search [status:200 duration:0.025s]\n",
      "POST https://persyn.es.us-west-2.aws.found.io:443/anna-summaries-v0/_update/qRgf9X4B1O6hlTWgmEkB [status:200 duration:0.030s]\n",
      "POST https://persyn.es.us-west-2.aws.found.io:443/anna-summaries-v0/_search [status:200 duration:0.020s]\n"
     ]
    },
    {
     "name": "stdout",
     "output_type": "stream",
     "text": [
      "{'_index': 'anna-summaries-v0', '_id': 'Ihh79n4B1O6hlTWgcUrc', '_version': 2, 'result': 'updated', '_shards': {'total': 2, 'successful': 2, 'failed': 0}, '_seq_no': 2264, '_primary_term': 17}\n",
      "{'_index': 'anna-summaries-v0', '_id': 'pBha734B1O6hlTWgQUnd', '_version': 2, 'result': 'updated', '_shards': {'total': 2, 'successful': 2, 'failed': 0}, '_seq_no': 2265, '_primary_term': 17}\n",
      "{'_index': 'anna-summaries-v0', '_id': 'qRgf9X4B1O6hlTWgmEkB', '_version': 2, 'result': 'updated', '_shards': {'total': 2, 'successful': 2, 'failed': 0}, '_seq_no': 2266, '_primary_term': 17}\n"
     ]
    },
    {
     "name": "stderr",
     "output_type": "stream",
     "text": [
      "POST https://persyn.es.us-west-2.aws.found.io:443/anna-conversations-v0/_search [status:200 duration:0.021s]\n",
      "POST https://persyn.es.us-west-2.aws.found.io:443/anna-summaries-v0/_update/ba9HEoQBBNi73XUqG6ny [status:200 duration:0.027s]\n",
      "POST https://persyn.es.us-west-2.aws.found.io:443/anna-summaries-v0/_search [status:200 duration:0.026s]\n",
      "POST https://persyn.es.us-west-2.aws.found.io:443/anna-conversations-v0/_search [status:200 duration:0.024s]\n",
      "POST https://persyn.es.us-west-2.aws.found.io:443/anna-summaries-v0/_update/reBeb4QB6EXxeIxUvIGa [status:200 duration:0.029s]\n",
      "POST https://persyn.es.us-west-2.aws.found.io:443/anna-summaries-v0/_search [status:200 duration:0.027s]\n",
      "POST https://persyn.es.us-west-2.aws.found.io:443/anna-conversations-v0/_search [status:200 duration:0.032s]\n",
      "POST https://persyn.es.us-west-2.aws.found.io:443/anna-summaries-v0/_update/8K9cAIQBBNi73XUqn6XU [status:200 duration:0.023s]\n",
      "POST https://persyn.es.us-west-2.aws.found.io:443/anna-summaries-v0/_search [status:200 duration:0.022s]\n"
     ]
    },
    {
     "name": "stdout",
     "output_type": "stream",
     "text": [
      "{'_index': 'anna-summaries-v0', '_id': 'ba9HEoQBBNi73XUqG6ny', '_version': 2, 'result': 'updated', '_shards': {'total': 2, 'successful': 2, 'failed': 0}, '_seq_no': 2267, '_primary_term': 17}\n",
      "{'_index': 'anna-summaries-v0', '_id': 'reBeb4QB6EXxeIxUvIGa', '_version': 2, 'result': 'updated', '_shards': {'total': 2, 'successful': 2, 'failed': 0}, '_seq_no': 2268, '_primary_term': 17}\n",
      "{'_index': 'anna-summaries-v0', '_id': '8K9cAIQBBNi73XUqn6XU', '_version': 2, 'result': 'updated', '_shards': {'total': 2, 'successful': 2, 'failed': 0}, '_seq_no': 2269, '_primary_term': 17}\n"
     ]
    },
    {
     "name": "stderr",
     "output_type": "stream",
     "text": [
      "POST https://persyn.es.us-west-2.aws.found.io:443/anna-conversations-v0/_search [status:200 duration:0.030s]\n",
      "POST https://persyn.es.us-west-2.aws.found.io:443/anna-summaries-v0/_update/Mq9kaYQBBNi73XUqNq0p [status:200 duration:0.028s]\n",
      "POST https://persyn.es.us-west-2.aws.found.io:443/anna-summaries-v0/_search [status:200 duration:0.027s]\n",
      "POST https://persyn.es.us-west-2.aws.found.io:443/anna-conversations-v0/_search [status:200 duration:0.028s]\n",
      "POST https://persyn.es.us-west-2.aws.found.io:443/anna-summaries-v0/_update/4-CCkoQB6EXxeIxUBoNs [status:200 duration:0.028s]\n",
      "POST https://persyn.es.us-west-2.aws.found.io:443/anna-summaries-v0/_search [status:200 duration:0.023s]\n",
      "POST https://persyn.es.us-west-2.aws.found.io:443/anna-conversations-v0/_search [status:200 duration:0.029s]\n",
      "POST https://persyn.es.us-west-2.aws.found.io:443/anna-summaries-v0/_update/ba9gjYQBBNi73XUqbq5f [status:200 duration:0.030s]\n"
     ]
    },
    {
     "name": "stdout",
     "output_type": "stream",
     "text": [
      "{'_index': 'anna-summaries-v0', '_id': 'Mq9kaYQBBNi73XUqNq0p', '_version': 2, 'result': 'updated', '_shards': {'total': 2, 'successful': 2, 'failed': 0}, '_seq_no': 2270, '_primary_term': 17}\n",
      "{'_index': 'anna-summaries-v0', '_id': '4-CCkoQB6EXxeIxUBoNs', '_version': 2, 'result': 'updated', '_shards': {'total': 2, 'successful': 2, 'failed': 0}, '_seq_no': 2271, '_primary_term': 17}\n",
      "{'_index': 'anna-summaries-v0', '_id': 'ba9gjYQBBNi73XUqbq5f', '_version': 2, 'result': 'updated', '_shards': {'total': 2, 'successful': 2, 'failed': 0}, '_seq_no': 2272, '_primary_term': 17}\n"
     ]
    },
    {
     "name": "stderr",
     "output_type": "stream",
     "text": [
      "POST https://persyn.es.us-west-2.aws.found.io:443/anna-summaries-v0/_search [status:200 duration:0.030s]\n",
      "POST https://persyn.es.us-west-2.aws.found.io:443/anna-conversations-v0/_search [status:200 duration:0.027s]\n",
      "POST https://persyn.es.us-west-2.aws.found.io:443/anna-summaries-v0/_update/c-BnRYQB6EXxeIxU-n_e [status:200 duration:0.032s]\n",
      "POST https://persyn.es.us-west-2.aws.found.io:443/anna-summaries-v0/_search [status:200 duration:0.031s]\n",
      "POST https://persyn.es.us-west-2.aws.found.io:443/anna-conversations-v0/_search [status:200 duration:0.030s]\n",
      "POST https://persyn.es.us-west-2.aws.found.io:443/anna-summaries-v0/_update/zeCq0oMB6EXxeIxUA3fh [status:200 duration:0.030s]\n",
      "POST https://persyn.es.us-west-2.aws.found.io:443/anna-summaries-v0/_search [status:200 duration:0.023s]\n",
      "POST https://persyn.es.us-west-2.aws.found.io:443/anna-conversations-v0/_search [status:200 duration:0.026s]\n",
      "POST https://persyn.es.us-west-2.aws.found.io:443/anna-summaries-v0/_update/ga9_9oMBBNi73XUqJqQX [status:200 duration:0.032s]\n"
     ]
    },
    {
     "name": "stdout",
     "output_type": "stream",
     "text": [
      "{'_index': 'anna-summaries-v0', '_id': 'c-BnRYQB6EXxeIxU-n_e', '_version': 2, 'result': 'updated', '_shards': {'total': 2, 'successful': 2, 'failed': 0}, '_seq_no': 2273, '_primary_term': 17}\n",
      "{'_index': 'anna-summaries-v0', '_id': 'zeCq0oMB6EXxeIxUA3fh', '_version': 2, 'result': 'updated', '_shards': {'total': 2, 'successful': 2, 'failed': 0}, '_seq_no': 2274, '_primary_term': 17}\n",
      "{'_index': 'anna-summaries-v0', '_id': 'ga9_9oMBBNi73XUqJqQX', '_version': 2, 'result': 'updated', '_shards': {'total': 2, 'successful': 2, 'failed': 0}, '_seq_no': 2275, '_primary_term': 17}\n"
     ]
    },
    {
     "name": "stderr",
     "output_type": "stream",
     "text": [
      "POST https://persyn.es.us-west-2.aws.found.io:443/anna-summaries-v0/_search [status:200 duration:0.027s]\n",
      "POST https://persyn.es.us-west-2.aws.found.io:443/anna-conversations-v0/_search [status:200 duration:0.028s]\n",
      "POST https://persyn.es.us-west-2.aws.found.io:443/anna-summaries-v0/_update/O6-RVYQBBNi73XUqv6yY [status:200 duration:0.027s]\n",
      "POST https://persyn.es.us-west-2.aws.found.io:443/anna-summaries-v0/_search [status:200 duration:0.028s]\n",
      "POST https://persyn.es.us-west-2.aws.found.io:443/anna-conversations-v0/_search [status:200 duration:0.026s]\n",
      "POST https://persyn.es.us-west-2.aws.found.io:443/anna-summaries-v0/_update/1BhmboAB1O6hlTWgUWV0 [status:200 duration:0.030s]\n",
      "POST https://persyn.es.us-west-2.aws.found.io:443/anna-summaries-v0/_search [status:200 duration:0.029s]\n",
      "POST https://persyn.es.us-west-2.aws.found.io:443/anna-conversations-v0/_search [status:200 duration:0.030s]\n",
      "POST https://persyn.es.us-west-2.aws.found.io:443/anna-summaries-v0/_update/-a95T4QBBNi73XUq5atc [status:200 duration:0.031s]\n"
     ]
    },
    {
     "name": "stdout",
     "output_type": "stream",
     "text": [
      "{'_index': 'anna-summaries-v0', '_id': 'O6-RVYQBBNi73XUqv6yY', '_version': 2, 'result': 'updated', '_shards': {'total': 2, 'successful': 2, 'failed': 0}, '_seq_no': 2276, '_primary_term': 17}\n",
      "{'_index': 'anna-summaries-v0', '_id': '1BhmboAB1O6hlTWgUWV0', '_version': 2, 'result': 'updated', '_shards': {'total': 2, 'successful': 2, 'failed': 0}, '_seq_no': 2277, '_primary_term': 17}\n",
      "{'_index': 'anna-summaries-v0', '_id': '-a95T4QBBNi73XUq5atc', '_version': 2, 'result': 'updated', '_shards': {'total': 2, 'successful': 2, 'failed': 0}, '_seq_no': 2278, '_primary_term': 17}\n"
     ]
    },
    {
     "name": "stderr",
     "output_type": "stream",
     "text": [
      "POST https://persyn.es.us-west-2.aws.found.io:443/anna-summaries-v0/_search [status:200 duration:0.032s]\n",
      "POST https://persyn.es.us-west-2.aws.found.io:443/anna-conversations-v0/_search [status:200 duration:0.033s]\n",
      "POST https://persyn.es.us-west-2.aws.found.io:443/anna-summaries-v0/_update/_SMBqoIBy5mPdc6PEWYs [status:200 duration:0.034s]\n",
      "POST https://persyn.es.us-west-2.aws.found.io:443/anna-summaries-v0/_search [status:200 duration:0.029s]\n",
      "POST https://persyn.es.us-west-2.aws.found.io:443/anna-conversations-v0/_search [status:200 duration:0.029s]\n",
      "POST https://persyn.es.us-west-2.aws.found.io:443/anna-summaries-v0/_update/CSMSXoMBy5mPdc6Pt27H [status:200 duration:0.027s]\n",
      "POST https://persyn.es.us-west-2.aws.found.io:443/anna-summaries-v0/_search [status:200 duration:0.027s]\n",
      "POST https://persyn.es.us-west-2.aws.found.io:443/anna-conversations-v0/_search [status:200 duration:0.028s]\n",
      "POST https://persyn.es.us-west-2.aws.found.io:443/anna-summaries-v0/_update/4q9KO4QBBNi73XUqnqrE [status:200 duration:0.026s]\n"
     ]
    },
    {
     "name": "stdout",
     "output_type": "stream",
     "text": [
      "{'_index': 'anna-summaries-v0', '_id': '_SMBqoIBy5mPdc6PEWYs', '_version': 2, 'result': 'updated', '_shards': {'total': 2, 'successful': 2, 'failed': 0}, '_seq_no': 2279, '_primary_term': 17}\n",
      "{'_index': 'anna-summaries-v0', '_id': 'CSMSXoMBy5mPdc6Pt27H', '_version': 2, 'result': 'updated', '_shards': {'total': 2, 'successful': 2, 'failed': 0}, '_seq_no': 2280, '_primary_term': 17}\n",
      "{'_index': 'anna-summaries-v0', '_id': '4q9KO4QBBNi73XUqnqrE', '_version': 2, 'result': 'updated', '_shards': {'total': 2, 'successful': 2, 'failed': 0}, '_seq_no': 2281, '_primary_term': 17}\n"
     ]
    },
    {
     "name": "stderr",
     "output_type": "stream",
     "text": [
      "POST https://persyn.es.us-west-2.aws.found.io:443/anna-summaries-v0/_search [status:200 duration:0.026s]\n",
      "POST https://persyn.es.us-west-2.aws.found.io:443/anna-conversations-v0/_search [status:200 duration:0.026s]\n",
      "POST https://persyn.es.us-west-2.aws.found.io:443/anna-summaries-v0/_update/4CMgFYMBy5mPdc6PP2s2 [status:200 duration:0.030s]\n",
      "POST https://persyn.es.us-west-2.aws.found.io:443/anna-summaries-v0/_search [status:200 duration:0.026s]\n",
      "POST https://persyn.es.us-west-2.aws.found.io:443/anna-conversations-v0/_search [status:200 duration:0.029s]\n",
      "POST https://persyn.es.us-west-2.aws.found.io:443/anna-summaries-v0/_update/AiP2dIIBy5mPdc6PjWWL [status:200 duration:0.023s]\n",
      "POST https://persyn.es.us-west-2.aws.found.io:443/anna-summaries-v0/_search [status:200 duration:0.026s]\n",
      "POST https://persyn.es.us-west-2.aws.found.io:443/anna-conversations-v0/_search [status:200 duration:0.027s]\n",
      "POST https://persyn.es.us-west-2.aws.found.io:443/anna-summaries-v0/_update/PK9QEYQBBNi73XUqT6hE [status:200 duration:0.025s]\n",
      "POST https://persyn.es.us-west-2.aws.found.io:443/anna-summaries-v0/_search [status:200 duration:0.026s]\n"
     ]
    },
    {
     "name": "stdout",
     "output_type": "stream",
     "text": [
      "{'_index': 'anna-summaries-v0', '_id': '4CMgFYMBy5mPdc6PP2s2', '_version': 2, 'result': 'updated', '_shards': {'total': 2, 'successful': 2, 'failed': 0}, '_seq_no': 2282, '_primary_term': 17}\n",
      "{'_index': 'anna-summaries-v0', '_id': 'AiP2dIIBy5mPdc6PjWWL', '_version': 2, 'result': 'updated', '_shards': {'total': 2, 'successful': 2, 'failed': 0}, '_seq_no': 2283, '_primary_term': 17}\n",
      "{'_index': 'anna-summaries-v0', '_id': 'PK9QEYQBBNi73XUqT6hE', '_version': 2, 'result': 'updated', '_shards': {'total': 2, 'successful': 2, 'failed': 0}, '_seq_no': 2284, '_primary_term': 17}\n"
     ]
    },
    {
     "name": "stderr",
     "output_type": "stream",
     "text": [
      "POST https://persyn.es.us-west-2.aws.found.io:443/anna-conversations-v0/_search [status:200 duration:0.021s]\n",
      "POST https://persyn.es.us-west-2.aws.found.io:443/anna-summaries-v0/_update/ZiNdIoMBy5mPdc6PeGyr [status:200 duration:0.024s]\n",
      "POST https://persyn.es.us-west-2.aws.found.io:443/anna-summaries-v0/_search [status:200 duration:0.025s]\n",
      "POST https://persyn.es.us-west-2.aws.found.io:443/anna-conversations-v0/_search [status:200 duration:0.029s]\n",
      "POST https://persyn.es.us-west-2.aws.found.io:443/anna-summaries-v0/_update/W-ACkYQB6EXxeIxUEIOV [status:200 duration:0.029s]\n",
      "POST https://persyn.es.us-west-2.aws.found.io:443/anna-summaries-v0/_search [status:200 duration:0.028s]\n",
      "POST https://persyn.es.us-west-2.aws.found.io:443/anna-conversations-v0/_search [status:200 duration:0.029s]\n",
      "POST https://persyn.es.us-west-2.aws.found.io:443/anna-summaries-v0/_update/Bx2IUIIBGYbVpQ0oH7DU [status:200 duration:0.024s]\n"
     ]
    },
    {
     "name": "stdout",
     "output_type": "stream",
     "text": [
      "{'_index': 'anna-summaries-v0', '_id': 'ZiNdIoMBy5mPdc6PeGyr', '_version': 2, 'result': 'updated', '_shards': {'total': 2, 'successful': 2, 'failed': 0}, '_seq_no': 2285, '_primary_term': 17}\n",
      "{'_index': 'anna-summaries-v0', '_id': 'W-ACkYQB6EXxeIxUEIOV', '_version': 2, 'result': 'updated', '_shards': {'total': 2, 'successful': 2, 'failed': 0}, '_seq_no': 2286, '_primary_term': 17}\n",
      "{'_index': 'anna-summaries-v0', '_id': 'Bx2IUIIBGYbVpQ0oH7DU', '_version': 2, 'result': 'updated', '_shards': {'total': 2, 'successful': 2, 'failed': 0}, '_seq_no': 2287, '_primary_term': 17}\n"
     ]
    },
    {
     "name": "stderr",
     "output_type": "stream",
     "text": [
      "POST https://persyn.es.us-west-2.aws.found.io:443/anna-summaries-v0/_search [status:200 duration:0.029s]\n",
      "POST https://persyn.es.us-west-2.aws.found.io:443/anna-conversations-v0/_search [status:200 duration:0.028s]\n",
      "POST https://persyn.es.us-west-2.aws.found.io:443/anna-summaries-v0/_update/PuDFkIQB6EXxeIxUDIOF [status:200 duration:0.030s]\n",
      "POST https://persyn.es.us-west-2.aws.found.io:443/anna-summaries-v0/_search [status:200 duration:0.026s]\n",
      "POST https://persyn.es.us-west-2.aws.found.io:443/anna-conversations-v0/_search [status:200 duration:0.027s]\n",
      "POST https://persyn.es.us-west-2.aws.found.io:443/anna-summaries-v0/_update/9R1IBIIBGYbVpQ0ovIzC [status:200 duration:0.027s]\n",
      "POST https://persyn.es.us-west-2.aws.found.io:443/anna-summaries-v0/_search [status:200 duration:0.029s]\n",
      "POST https://persyn.es.us-west-2.aws.found.io:443/anna-conversations-v0/_search [status:200 duration:0.021s]\n",
      "POST https://persyn.es.us-west-2.aws.found.io:443/anna-summaries-v0/_update/LE1tQ4MBRfbdi4KASlfu [status:200 duration:0.032s]\n",
      "POST https://persyn.es.us-west-2.aws.found.io:443/anna-summaries-v0/_search [status:200 duration:0.025s]\n"
     ]
    },
    {
     "name": "stdout",
     "output_type": "stream",
     "text": [
      "{'_index': 'anna-summaries-v0', '_id': 'PuDFkIQB6EXxeIxUDIOF', '_version': 2, 'result': 'updated', '_shards': {'total': 2, 'successful': 2, 'failed': 0}, '_seq_no': 2288, '_primary_term': 17}\n",
      "{'_index': 'anna-summaries-v0', '_id': '9R1IBIIBGYbVpQ0ovIzC', '_version': 2, 'result': 'updated', '_shards': {'total': 2, 'successful': 2, 'failed': 0}, '_seq_no': 2289, '_primary_term': 17}\n",
      "{'_index': 'anna-summaries-v0', '_id': 'LE1tQ4MBRfbdi4KASlfu', '_version': 2, 'result': 'updated', '_shards': {'total': 2, 'successful': 2, 'failed': 0}, '_seq_no': 2290, '_primary_term': 17}\n"
     ]
    },
    {
     "name": "stderr",
     "output_type": "stream",
     "text": [
      "POST https://persyn.es.us-west-2.aws.found.io:443/anna-conversations-v0/_search [status:200 duration:0.027s]\n",
      "POST https://persyn.es.us-west-2.aws.found.io:443/anna-summaries-v0/_update/ahi1OX8B1O6hlTWgoUt1 [status:200 duration:0.026s]\n",
      "POST https://persyn.es.us-west-2.aws.found.io:443/anna-summaries-v0/_search [status:200 duration:0.030s]\n",
      "POST https://persyn.es.us-west-2.aws.found.io:443/anna-conversations-v0/_search [status:200 duration:0.026s]\n",
      "POST https://persyn.es.us-west-2.aws.found.io:443/anna-summaries-v0/_update/ja8cAoQBBNi73XUqaKfZ [status:200 duration:0.025s]\n",
      "POST https://persyn.es.us-west-2.aws.found.io:443/anna-summaries-v0/_search [status:200 duration:0.032s]\n",
      "POST https://persyn.es.us-west-2.aws.found.io:443/anna-conversations-v0/_search [status:200 duration:0.030s]\n",
      "POST https://persyn.es.us-west-2.aws.found.io:443/anna-summaries-v0/_update/XBgqUoAB1O6hlTWg-FvF [status:200 duration:0.026s]\n"
     ]
    },
    {
     "name": "stdout",
     "output_type": "stream",
     "text": [
      "{'_index': 'anna-summaries-v0', '_id': 'ahi1OX8B1O6hlTWgoUt1', '_version': 2, 'result': 'updated', '_shards': {'total': 2, 'successful': 2, 'failed': 0}, '_seq_no': 2291, '_primary_term': 17}\n",
      "{'_index': 'anna-summaries-v0', '_id': 'ja8cAoQBBNi73XUqaKfZ', '_version': 2, 'result': 'updated', '_shards': {'total': 2, 'successful': 2, 'failed': 0}, '_seq_no': 2292, '_primary_term': 17}\n",
      "{'_index': 'anna-summaries-v0', '_id': 'XBgqUoAB1O6hlTWg-FvF', '_version': 2, 'result': 'updated', '_shards': {'total': 2, 'successful': 2, 'failed': 0}, '_seq_no': 2293, '_primary_term': 17}\n"
     ]
    },
    {
     "name": "stderr",
     "output_type": "stream",
     "text": [
      "POST https://persyn.es.us-west-2.aws.found.io:443/anna-summaries-v0/_search [status:200 duration:0.031s]\n",
      "POST https://persyn.es.us-west-2.aws.found.io:443/anna-conversations-v0/_search [status:200 duration:0.022s]\n",
      "POST https://persyn.es.us-west-2.aws.found.io:443/anna-summaries-v0/_update/1uBgAYQB6EXxeIxU2Hr0 [status:200 duration:0.027s]\n",
      "POST https://persyn.es.us-west-2.aws.found.io:443/anna-summaries-v0/_search [status:200 duration:0.023s]\n",
      "POST https://persyn.es.us-west-2.aws.found.io:443/anna-conversations-v0/_search [status:200 duration:0.027s]\n",
      "POST https://persyn.es.us-west-2.aws.found.io:443/anna-summaries-v0/_update/pdQUMoEBBCovfdTkXphn [status:200 duration:0.032s]\n",
      "POST https://persyn.es.us-west-2.aws.found.io:443/anna-summaries-v0/_search [status:200 duration:0.031s]\n",
      "POST https://persyn.es.us-west-2.aws.found.io:443/anna-conversations-v0/_search [status:200 duration:0.024s]\n",
      "POST https://persyn.es.us-west-2.aws.found.io:443/anna-summaries-v0/_update/XtTU7oABBCovfdTkvYXo [status:200 duration:0.027s]\n"
     ]
    },
    {
     "name": "stdout",
     "output_type": "stream",
     "text": [
      "{'_index': 'anna-summaries-v0', '_id': '1uBgAYQB6EXxeIxU2Hr0', '_version': 2, 'result': 'updated', '_shards': {'total': 2, 'successful': 2, 'failed': 0}, '_seq_no': 2294, '_primary_term': 17}\n",
      "{'_index': 'anna-summaries-v0', '_id': 'pdQUMoEBBCovfdTkXphn', '_version': 2, 'result': 'updated', '_shards': {'total': 2, 'successful': 2, 'failed': 0}, '_seq_no': 2295, '_primary_term': 17}\n",
      "{'_index': 'anna-summaries-v0', '_id': 'XtTU7oABBCovfdTkvYXo', '_version': 2, 'result': 'updated', '_shards': {'total': 2, 'successful': 2, 'failed': 0}, '_seq_no': 2296, '_primary_term': 17}\n"
     ]
    },
    {
     "name": "stderr",
     "output_type": "stream",
     "text": [
      "POST https://persyn.es.us-west-2.aws.found.io:443/anna-summaries-v0/_search [status:200 duration:0.028s]\n",
      "POST https://persyn.es.us-west-2.aws.found.io:443/anna-conversations-v0/_search [status:200 duration:0.028s]\n",
      "POST https://persyn.es.us-west-2.aws.found.io:443/anna-summaries-v0/_update/1a9vq4QBBNi73XUqM7Jj [status:200 duration:0.029s]\n",
      "POST https://persyn.es.us-west-2.aws.found.io:443/anna-summaries-v0/_search [status:200 duration:0.021s]\n",
      "POST https://persyn.es.us-west-2.aws.found.io:443/anna-conversations-v0/_search [status:200 duration:0.022s]\n",
      "POST https://persyn.es.us-west-2.aws.found.io:443/anna-summaries-v0/_update/IeAEmIQB6EXxeIxU8oV6 [status:200 duration:0.023s]\n",
      "POST https://persyn.es.us-west-2.aws.found.io:443/anna-summaries-v0/_search [status:200 duration:0.028s]\n",
      "POST https://persyn.es.us-west-2.aws.found.io:443/anna-conversations-v0/_search [status:200 duration:0.021s]\n",
      "POST https://persyn.es.us-west-2.aws.found.io:443/anna-summaries-v0/_update/_tSlE4EBBCovfdTkao7a [status:200 duration:0.027s]\n",
      "POST https://persyn.es.us-west-2.aws.found.io:443/anna-summaries-v0/_search [status:200 duration:0.024s]\n"
     ]
    },
    {
     "name": "stdout",
     "output_type": "stream",
     "text": [
      "{'_index': 'anna-summaries-v0', '_id': '1a9vq4QBBNi73XUqM7Jj', '_version': 2, 'result': 'updated', '_shards': {'total': 2, 'successful': 2, 'failed': 0}, '_seq_no': 2297, '_primary_term': 17}\n",
      "{'_index': 'anna-summaries-v0', '_id': 'IeAEmIQB6EXxeIxU8oV6', '_version': 2, 'result': 'updated', '_shards': {'total': 2, 'successful': 2, 'failed': 0}, '_seq_no': 2298, '_primary_term': 17}\n",
      "{'_index': 'anna-summaries-v0', '_id': '_tSlE4EBBCovfdTkao7a', '_version': 2, 'result': 'updated', '_shards': {'total': 2, 'successful': 2, 'failed': 0}, '_seq_no': 2299, '_primary_term': 17}\n"
     ]
    },
    {
     "name": "stderr",
     "output_type": "stream",
     "text": [
      "POST https://persyn.es.us-west-2.aws.found.io:443/anna-conversations-v0/_search [status:200 duration:0.025s]\n",
      "POST https://persyn.es.us-west-2.aws.found.io:443/anna-summaries-v0/_update/BU2ScIMBRfbdi4KAcloR [status:200 duration:0.028s]\n",
      "POST https://persyn.es.us-west-2.aws.found.io:443/anna-summaries-v0/_search [status:200 duration:0.026s]\n",
      "POST https://persyn.es.us-west-2.aws.found.io:443/anna-conversations-v0/_search [status:200 duration:0.027s]\n",
      "POST https://persyn.es.us-west-2.aws.found.io:443/anna-summaries-v0/_update/fa--mYMBBNi73XUqw6Lw [status:200 duration:0.031s]\n",
      "POST https://persyn.es.us-west-2.aws.found.io:443/anna-summaries-v0/_search [status:200 duration:0.028s]\n",
      "POST https://persyn.es.us-west-2.aws.found.io:443/anna-conversations-v0/_search [status:200 duration:0.025s]\n",
      "POST https://persyn.es.us-west-2.aws.found.io:443/anna-summaries-v0/_update/EeAH2IMB6EXxeIxUk3go [status:200 duration:0.030s]\n"
     ]
    },
    {
     "name": "stdout",
     "output_type": "stream",
     "text": [
      "{'_index': 'anna-summaries-v0', '_id': 'BU2ScIMBRfbdi4KAcloR', '_version': 2, 'result': 'updated', '_shards': {'total': 2, 'successful': 2, 'failed': 0}, '_seq_no': 2300, '_primary_term': 17}\n",
      "{'_index': 'anna-summaries-v0', '_id': 'fa--mYMBBNi73XUqw6Lw', '_version': 2, 'result': 'updated', '_shards': {'total': 2, 'successful': 2, 'failed': 0}, '_seq_no': 2301, '_primary_term': 17}\n",
      "{'_index': 'anna-summaries-v0', '_id': 'EeAH2IMB6EXxeIxUk3go', '_version': 2, 'result': 'updated', '_shards': {'total': 2, 'successful': 2, 'failed': 0}, '_seq_no': 2302, '_primary_term': 17}\n"
     ]
    },
    {
     "name": "stderr",
     "output_type": "stream",
     "text": [
      "POST https://persyn.es.us-west-2.aws.found.io:443/anna-summaries-v0/_search [status:200 duration:0.021s]\n",
      "POST https://persyn.es.us-west-2.aws.found.io:443/anna-conversations-v0/_search [status:200 duration:0.026s]\n",
      "POST https://persyn.es.us-west-2.aws.found.io:443/anna-summaries-v0/_update/L68kEoQBBNi73XUqXaki [status:200 duration:0.025s]\n",
      "POST https://persyn.es.us-west-2.aws.found.io:443/anna-summaries-v0/_search [status:200 duration:0.023s]\n",
      "POST https://persyn.es.us-west-2.aws.found.io:443/anna-conversations-v0/_search [status:200 duration:0.027s]\n",
      "POST https://persyn.es.us-west-2.aws.found.io:443/anna-summaries-v0/_update/nK8mBoQBBNi73XUqx6cp [status:200 duration:0.029s]\n",
      "POST https://persyn.es.us-west-2.aws.found.io:443/anna-summaries-v0/_search [status:200 duration:0.026s]\n",
      "POST https://persyn.es.us-west-2.aws.found.io:443/anna-conversations-v0/_search [status:200 duration:0.027s]\n",
      "POST https://persyn.es.us-west-2.aws.found.io:443/anna-summaries-v0/_update/p-CyX4QB6EXxeIxUz4CS [status:200 duration:0.025s]\n",
      "POST https://persyn.es.us-west-2.aws.found.io:443/anna-summaries-v0/_search [status:200 duration:0.029s]\n"
     ]
    },
    {
     "name": "stdout",
     "output_type": "stream",
     "text": [
      "{'_index': 'anna-summaries-v0', '_id': 'L68kEoQBBNi73XUqXaki', '_version': 2, 'result': 'updated', '_shards': {'total': 2, 'successful': 2, 'failed': 0}, '_seq_no': 2303, '_primary_term': 17}\n",
      "{'_index': 'anna-summaries-v0', '_id': 'nK8mBoQBBNi73XUqx6cp', '_version': 2, 'result': 'updated', '_shards': {'total': 2, 'successful': 2, 'failed': 0}, '_seq_no': 2304, '_primary_term': 17}\n",
      "{'_index': 'anna-summaries-v0', '_id': 'p-CyX4QB6EXxeIxUz4CS', '_version': 2, 'result': 'updated', '_shards': {'total': 2, 'successful': 2, 'failed': 0}, '_seq_no': 2305, '_primary_term': 17}\n"
     ]
    },
    {
     "name": "stderr",
     "output_type": "stream",
     "text": [
      "POST https://persyn.es.us-west-2.aws.found.io:443/anna-conversations-v0/_search [status:200 duration:0.028s]\n",
      "POST https://persyn.es.us-west-2.aws.found.io:443/anna-summaries-v0/_update/H6_Wq4QBBNi73XUqFLO6 [status:200 duration:0.029s]\n",
      "POST https://persyn.es.us-west-2.aws.found.io:443/anna-summaries-v0/_search [status:200 duration:0.030s]\n",
      "POST https://persyn.es.us-west-2.aws.found.io:443/anna-conversations-v0/_search [status:200 duration:0.032s]\n",
      "POST https://persyn.es.us-west-2.aws.found.io:443/anna-summaries-v0/_update/Nq-pCoQBBNi73XUqHajh [status:200 duration:0.031s]\n",
      "POST https://persyn.es.us-west-2.aws.found.io:443/anna-summaries-v0/_search [status:200 duration:0.028s]\n",
      "POST https://persyn.es.us-west-2.aws.found.io:443/anna-conversations-v0/_search [status:200 duration:0.030s]\n",
      "POST https://persyn.es.us-west-2.aws.found.io:443/anna-summaries-v0/_update/_OBw14MB6EXxeIxUU3eZ [status:200 duration:0.030s]\n"
     ]
    },
    {
     "name": "stdout",
     "output_type": "stream",
     "text": [
      "{'_index': 'anna-summaries-v0', '_id': 'H6_Wq4QBBNi73XUqFLO6', '_version': 2, 'result': 'updated', '_shards': {'total': 2, 'successful': 2, 'failed': 0}, '_seq_no': 2306, '_primary_term': 17}\n",
      "{'_index': 'anna-summaries-v0', '_id': 'Nq-pCoQBBNi73XUqHajh', '_version': 2, 'result': 'updated', '_shards': {'total': 2, 'successful': 2, 'failed': 0}, '_seq_no': 2307, '_primary_term': 17}\n",
      "{'_index': 'anna-summaries-v0', '_id': '_OBw14MB6EXxeIxUU3eZ', '_version': 2, 'result': 'updated', '_shards': {'total': 2, 'successful': 2, 'failed': 0}, '_seq_no': 2308, '_primary_term': 17}\n"
     ]
    },
    {
     "name": "stderr",
     "output_type": "stream",
     "text": [
      "POST https://persyn.es.us-west-2.aws.found.io:443/anna-summaries-v0/_search [status:200 duration:0.028s]\n",
      "POST https://persyn.es.us-west-2.aws.found.io:443/anna-conversations-v0/_search [status:200 duration:0.028s]\n",
      "POST https://persyn.es.us-west-2.aws.found.io:443/anna-summaries-v0/_update/0K8yOoQBBNi73XUq8aqx [status:200 duration:0.030s]\n",
      "POST https://persyn.es.us-west-2.aws.found.io:443/anna-summaries-v0/_search [status:200 duration:0.029s]\n",
      "POST https://persyn.es.us-west-2.aws.found.io:443/anna-conversations-v0/_search [status:200 duration:0.027s]\n",
      "POST https://persyn.es.us-west-2.aws.found.io:443/anna-summaries-v0/_update/4iMtzIIBy5mPdc6PT2gR [status:200 duration:0.027s]\n",
      "POST https://persyn.es.us-west-2.aws.found.io:443/anna-summaries-v0/_search [status:200 duration:0.033s]\n",
      "POST https://persyn.es.us-west-2.aws.found.io:443/anna-conversations-v0/_search [status:200 duration:0.029s]\n",
      "POST https://persyn.es.us-west-2.aws.found.io:443/anna-summaries-v0/_update/M-CC_oMB6EXxeIxUHHqM [status:200 duration:0.029s]\n"
     ]
    },
    {
     "name": "stdout",
     "output_type": "stream",
     "text": [
      "{'_index': 'anna-summaries-v0', '_id': '0K8yOoQBBNi73XUq8aqx', '_version': 2, 'result': 'updated', '_shards': {'total': 2, 'successful': 2, 'failed': 0}, '_seq_no': 2309, '_primary_term': 17}\n",
      "{'_index': 'anna-summaries-v0', '_id': '4iMtzIIBy5mPdc6PT2gR', '_version': 2, 'result': 'updated', '_shards': {'total': 2, 'successful': 2, 'failed': 0}, '_seq_no': 2310, '_primary_term': 17}\n",
      "{'_index': 'anna-summaries-v0', '_id': 'M-CC_oMB6EXxeIxUHHqM', '_version': 2, 'result': 'updated', '_shards': {'total': 2, 'successful': 2, 'failed': 0}, '_seq_no': 2311, '_primary_term': 17}\n"
     ]
    },
    {
     "name": "stderr",
     "output_type": "stream",
     "text": [
      "POST https://persyn.es.us-west-2.aws.found.io:443/anna-summaries-v0/_search [status:200 duration:0.027s]\n",
      "POST https://persyn.es.us-west-2.aws.found.io:443/anna-conversations-v0/_search [status:200 duration:0.028s]\n",
      "POST https://persyn.es.us-west-2.aws.found.io:443/anna-summaries-v0/_update/SRi-a4AB1O6hlTWgqGTz [status:200 duration:0.028s]\n",
      "POST https://persyn.es.us-west-2.aws.found.io:443/anna-summaries-v0/_search [status:200 duration:0.028s]\n",
      "POST https://persyn.es.us-west-2.aws.found.io:443/anna-conversations-v0/_search [status:200 duration:0.030s]\n",
      "POST https://persyn.es.us-west-2.aws.found.io:443/anna-summaries-v0/_update/feC7RYQB6EXxeIxU83_i [status:200 duration:0.031s]\n",
      "POST https://persyn.es.us-west-2.aws.found.io:443/anna-summaries-v0/_search [status:200 duration:0.029s]\n",
      "POST https://persyn.es.us-west-2.aws.found.io:443/anna-conversations-v0/_search [status:200 duration:0.029s]\n",
      "POST https://persyn.es.us-west-2.aws.found.io:443/anna-summaries-v0/_update/WOAGkYMB6EXxeIxUSXZi [status:200 duration:0.033s]\n"
     ]
    },
    {
     "name": "stdout",
     "output_type": "stream",
     "text": [
      "{'_index': 'anna-summaries-v0', '_id': 'SRi-a4AB1O6hlTWgqGTz', '_version': 2, 'result': 'updated', '_shards': {'total': 2, 'successful': 2, 'failed': 0}, '_seq_no': 2312, '_primary_term': 17}\n",
      "{'_index': 'anna-summaries-v0', '_id': 'feC7RYQB6EXxeIxU83_i', '_version': 2, 'result': 'updated', '_shards': {'total': 2, 'successful': 2, 'failed': 0}, '_seq_no': 2313, '_primary_term': 17}\n",
      "{'_index': 'anna-summaries-v0', '_id': 'WOAGkYMB6EXxeIxUSXZi', '_version': 2, 'result': 'updated', '_shards': {'total': 2, 'successful': 2, 'failed': 0}, '_seq_no': 2314, '_primary_term': 17}\n"
     ]
    },
    {
     "name": "stderr",
     "output_type": "stream",
     "text": [
      "POST https://persyn.es.us-west-2.aws.found.io:443/anna-summaries-v0/_search [status:200 duration:0.029s]\n",
      "POST https://persyn.es.us-west-2.aws.found.io:443/anna-conversations-v0/_search [status:200 duration:0.026s]\n",
      "POST https://persyn.es.us-west-2.aws.found.io:443/anna-summaries-v0/_update/d9QnMIEBBCovfdTkTpZo [status:200 duration:0.027s]\n",
      "POST https://persyn.es.us-west-2.aws.found.io:443/anna-summaries-v0/_search [status:200 duration:0.024s]\n",
      "POST https://persyn.es.us-west-2.aws.found.io:443/anna-conversations-v0/_search [status:200 duration:0.025s]\n",
      "POST https://persyn.es.us-west-2.aws.found.io:443/anna-summaries-v0/_update/LiMwXoMBy5mPdc6PuG62 [status:200 duration:0.027s]\n",
      "POST https://persyn.es.us-west-2.aws.found.io:443/anna-summaries-v0/_search [status:200 duration:0.027s]\n",
      "POST https://persyn.es.us-west-2.aws.found.io:443/anna-conversations-v0/_search [status:200 duration:0.029s]\n",
      "POST https://persyn.es.us-west-2.aws.found.io:443/anna-summaries-v0/_update/r00-XoMBRfbdi4KAaVig [status:200 duration:0.031s]\n"
     ]
    },
    {
     "name": "stdout",
     "output_type": "stream",
     "text": [
      "{'_index': 'anna-summaries-v0', '_id': 'd9QnMIEBBCovfdTkTpZo', '_version': 2, 'result': 'updated', '_shards': {'total': 2, 'successful': 2, 'failed': 0}, '_seq_no': 2315, '_primary_term': 17}\n",
      "{'_index': 'anna-summaries-v0', '_id': 'LiMwXoMBy5mPdc6PuG62', '_version': 2, 'result': 'updated', '_shards': {'total': 2, 'successful': 2, 'failed': 0}, '_seq_no': 2316, '_primary_term': 17}\n",
      "{'_index': 'anna-summaries-v0', '_id': 'r00-XoMBRfbdi4KAaVig', '_version': 2, 'result': 'updated', '_shards': {'total': 2, 'successful': 2, 'failed': 0}, '_seq_no': 2317, '_primary_term': 17}\n"
     ]
    },
    {
     "name": "stderr",
     "output_type": "stream",
     "text": [
      "POST https://persyn.es.us-west-2.aws.found.io:443/anna-summaries-v0/_search [status:200 duration:0.027s]\n",
      "POST https://persyn.es.us-west-2.aws.found.io:443/anna-conversations-v0/_search [status:200 duration:0.024s]\n",
      "POST https://persyn.es.us-west-2.aws.found.io:443/anna-summaries-v0/_update/uxg_u4AB1O6hlTWgyXOs [status:200 duration:0.028s]\n",
      "POST https://persyn.es.us-west-2.aws.found.io:443/anna-summaries-v0/_search [status:200 duration:0.027s]\n",
      "POST https://persyn.es.us-west-2.aws.found.io:443/anna-conversations-v0/_search [status:200 duration:0.026s]\n",
      "POST https://persyn.es.us-west-2.aws.found.io:443/anna-summaries-v0/_update/UCO2aoMBy5mPdc6PKm9G [status:200 duration:0.027s]\n",
      "POST https://persyn.es.us-west-2.aws.found.io:443/anna-summaries-v0/_search [status:200 duration:0.028s]\n",
      "POST https://persyn.es.us-west-2.aws.found.io:443/anna-conversations-v0/_search [status:200 duration:0.021s]\n",
      "POST https://persyn.es.us-west-2.aws.found.io:443/anna-summaries-v0/_update/fiNa8oIBy5mPdc6PAmp- [status:200 duration:0.029s]\n",
      "POST https://persyn.es.us-west-2.aws.found.io:443/anna-summaries-v0/_search [status:200 duration:0.027s]\n"
     ]
    },
    {
     "name": "stdout",
     "output_type": "stream",
     "text": [
      "{'_index': 'anna-summaries-v0', '_id': 'uxg_u4AB1O6hlTWgyXOs', '_version': 2, 'result': 'updated', '_shards': {'total': 2, 'successful': 2, 'failed': 0}, '_seq_no': 2318, '_primary_term': 17}\n",
      "{'_index': 'anna-summaries-v0', '_id': 'UCO2aoMBy5mPdc6PKm9G', '_version': 2, 'result': 'updated', '_shards': {'total': 2, 'successful': 2, 'failed': 0}, '_seq_no': 2319, '_primary_term': 17}\n",
      "{'_index': 'anna-summaries-v0', '_id': 'fiNa8oIBy5mPdc6PAmp-', '_version': 2, 'result': 'updated', '_shards': {'total': 2, 'successful': 2, 'failed': 0}, '_seq_no': 2320, '_primary_term': 17}\n"
     ]
    },
    {
     "name": "stderr",
     "output_type": "stream",
     "text": [
      "POST https://persyn.es.us-west-2.aws.found.io:443/anna-conversations-v0/_search [status:200 duration:0.028s]\n",
      "POST https://persyn.es.us-west-2.aws.found.io:443/anna-summaries-v0/_update/kuCqEYQB6EXxeIxUQ3zc [status:200 duration:0.029s]\n",
      "POST https://persyn.es.us-west-2.aws.found.io:443/anna-summaries-v0/_search [status:200 duration:0.027s]\n",
      "POST https://persyn.es.us-west-2.aws.found.io:443/anna-conversations-v0/_search [status:200 duration:0.027s]\n",
      "POST https://persyn.es.us-west-2.aws.found.io:443/anna-summaries-v0/_update/RK_TkIMBBNi73XUq_qJo [status:200 duration:0.028s]\n",
      "POST https://persyn.es.us-west-2.aws.found.io:443/anna-summaries-v0/_search [status:200 duration:0.027s]\n",
      "POST https://persyn.es.us-west-2.aws.found.io:443/anna-conversations-v0/_search [status:200 duration:0.027s]\n",
      "POST https://persyn.es.us-west-2.aws.found.io:443/anna-summaries-v0/_update/jODnkYQB6EXxeIxUKYMS [status:200 duration:0.024s]\n"
     ]
    },
    {
     "name": "stdout",
     "output_type": "stream",
     "text": [
      "{'_index': 'anna-summaries-v0', '_id': 'kuCqEYQB6EXxeIxUQ3zc', '_version': 2, 'result': 'updated', '_shards': {'total': 2, 'successful': 2, 'failed': 0}, '_seq_no': 2321, '_primary_term': 17}\n",
      "{'_index': 'anna-summaries-v0', '_id': 'RK_TkIMBBNi73XUq_qJo', '_version': 2, 'result': 'updated', '_shards': {'total': 2, 'successful': 2, 'failed': 0}, '_seq_no': 2322, '_primary_term': 17}\n",
      "{'_index': 'anna-summaries-v0', '_id': 'jODnkYQB6EXxeIxUKYMS', '_version': 2, 'result': 'updated', '_shards': {'total': 2, 'successful': 2, 'failed': 0}, '_seq_no': 2323, '_primary_term': 17}\n"
     ]
    },
    {
     "name": "stderr",
     "output_type": "stream",
     "text": [
      "POST https://persyn.es.us-west-2.aws.found.io:443/anna-summaries-v0/_search [status:200 duration:0.030s]\n",
      "POST https://persyn.es.us-west-2.aws.found.io:443/anna-conversations-v0/_search [status:200 duration:0.027s]\n",
      "POST https://persyn.es.us-west-2.aws.found.io:443/anna-summaries-v0/_update/3hjGdoAB1O6hlTWg0Wmi [status:200 duration:0.026s]\n",
      "POST https://persyn.es.us-west-2.aws.found.io:443/anna-summaries-v0/_search [status:200 duration:0.027s]\n",
      "POST https://persyn.es.us-west-2.aws.found.io:443/anna-conversations-v0/_search [status:200 duration:0.021s]\n",
      "POST https://persyn.es.us-west-2.aws.found.io:443/anna-summaries-v0/_update/--CDm4MB6EXxeIxUQ3ZL [status:200 duration:0.030s]\n",
      "POST https://persyn.es.us-west-2.aws.found.io:443/anna-summaries-v0/_search [status:200 duration:0.028s]\n",
      "POST https://persyn.es.us-west-2.aws.found.io:443/anna-conversations-v0/_search [status:200 duration:0.028s]\n",
      "POST https://persyn.es.us-west-2.aws.found.io:443/anna-summaries-v0/_update/qK-Nu4QBBNi73XUqzrQ4 [status:200 duration:0.031s]\n"
     ]
    },
    {
     "name": "stdout",
     "output_type": "stream",
     "text": [
      "{'_index': 'anna-summaries-v0', '_id': '3hjGdoAB1O6hlTWg0Wmi', '_version': 2, 'result': 'updated', '_shards': {'total': 2, 'successful': 2, 'failed': 0}, '_seq_no': 2324, '_primary_term': 17}\n",
      "{'_index': 'anna-summaries-v0', '_id': '--CDm4MB6EXxeIxUQ3ZL', '_version': 2, 'result': 'updated', '_shards': {'total': 2, 'successful': 2, 'failed': 0}, '_seq_no': 2325, '_primary_term': 17}\n",
      "{'_index': 'anna-summaries-v0', '_id': 'qK-Nu4QBBNi73XUqzrQ4', '_version': 2, 'result': 'updated', '_shards': {'total': 2, 'successful': 2, 'failed': 0}, '_seq_no': 2326, '_primary_term': 17}\n"
     ]
    },
    {
     "name": "stderr",
     "output_type": "stream",
     "text": [
      "POST https://persyn.es.us-west-2.aws.found.io:443/anna-summaries-v0/_search [status:200 duration:0.028s]\n",
      "POST https://persyn.es.us-west-2.aws.found.io:443/anna-conversations-v0/_search [status:200 duration:0.030s]\n",
      "POST https://persyn.es.us-west-2.aws.found.io:443/anna-summaries-v0/_update/meAQXoQB6EXxeIxUTID8 [status:200 duration:0.026s]\n",
      "POST https://persyn.es.us-west-2.aws.found.io:443/anna-summaries-v0/_search [status:200 duration:0.032s]\n",
      "POST https://persyn.es.us-west-2.aws.found.io:443/anna-conversations-v0/_search [status:200 duration:0.024s]\n",
      "POST https://persyn.es.us-west-2.aws.found.io:443/anna-summaries-v0/_update/YU31vYIBRfbdi4KAmlGH [status:200 duration:0.028s]\n",
      "POST https://persyn.es.us-west-2.aws.found.io:443/anna-summaries-v0/_search [status:200 duration:0.029s]\n",
      "POST https://persyn.es.us-west-2.aws.found.io:443/anna-conversations-v0/_search [status:200 duration:0.027s]\n",
      "POST https://persyn.es.us-west-2.aws.found.io:443/anna-summaries-v0/_update/-hgb44AB1O6hlTWgcnMn [status:200 duration:0.031s]\n"
     ]
    },
    {
     "name": "stdout",
     "output_type": "stream",
     "text": [
      "{'_index': 'anna-summaries-v0', '_id': 'meAQXoQB6EXxeIxUTID8', '_version': 2, 'result': 'updated', '_shards': {'total': 2, 'successful': 2, 'failed': 0}, '_seq_no': 2327, '_primary_term': 17}\n",
      "{'_index': 'anna-summaries-v0', '_id': 'YU31vYIBRfbdi4KAmlGH', '_version': 2, 'result': 'updated', '_shards': {'total': 2, 'successful': 2, 'failed': 0}, '_seq_no': 2328, '_primary_term': 17}\n",
      "{'_index': 'anna-summaries-v0', '_id': '-hgb44AB1O6hlTWgcnMn', '_version': 2, 'result': 'updated', '_shards': {'total': 2, 'successful': 2, 'failed': 0}, '_seq_no': 2329, '_primary_term': 17}\n"
     ]
    },
    {
     "name": "stderr",
     "output_type": "stream",
     "text": [
      "POST https://persyn.es.us-west-2.aws.found.io:443/anna-summaries-v0/_search [status:200 duration:0.030s]\n",
      "POST https://persyn.es.us-west-2.aws.found.io:443/anna-conversations-v0/_search [status:200 duration:0.023s]\n",
      "POST https://persyn.es.us-west-2.aws.found.io:443/anna-summaries-v0/_update/OeArVYQB6EXxeIxUAYDq [status:200 duration:0.031s]\n",
      "POST https://persyn.es.us-west-2.aws.found.io:443/anna-summaries-v0/_search [status:200 duration:0.026s]\n",
      "POST https://persyn.es.us-west-2.aws.found.io:443/anna-conversations-v0/_search [status:200 duration:0.029s]\n",
      "POST https://persyn.es.us-west-2.aws.found.io:443/anna-summaries-v0/_update/PxjKXoAB1O6hlTWgOWA9 [status:200 duration:0.027s]\n",
      "POST https://persyn.es.us-west-2.aws.found.io:443/anna-summaries-v0/_search [status:200 duration:0.023s]\n",
      "POST https://persyn.es.us-west-2.aws.found.io:443/anna-conversations-v0/_search [status:200 duration:0.023s]\n",
      "POST https://persyn.es.us-west-2.aws.found.io:443/anna-summaries-v0/_update/ZBgNbIAB1O6hlTWgBWQT [status:200 duration:0.030s]\n",
      "POST https://persyn.es.us-west-2.aws.found.io:443/anna-summaries-v0/_search [status:200 duration:0.026s]\n"
     ]
    },
    {
     "name": "stdout",
     "output_type": "stream",
     "text": [
      "{'_index': 'anna-summaries-v0', '_id': 'OeArVYQB6EXxeIxUAYDq', '_version': 2, 'result': 'updated', '_shards': {'total': 2, 'successful': 2, 'failed': 0}, '_seq_no': 2330, '_primary_term': 17}\n",
      "{'_index': 'anna-summaries-v0', '_id': 'PxjKXoAB1O6hlTWgOWA9', '_version': 2, 'result': 'updated', '_shards': {'total': 2, 'successful': 2, 'failed': 0}, '_seq_no': 2331, '_primary_term': 17}\n",
      "{'_index': 'anna-summaries-v0', '_id': 'ZBgNbIAB1O6hlTWgBWQT', '_version': 2, 'result': 'updated', '_shards': {'total': 2, 'successful': 2, 'failed': 0}, '_seq_no': 2332, '_primary_term': 17}\n"
     ]
    },
    {
     "name": "stderr",
     "output_type": "stream",
     "text": [
      "POST https://persyn.es.us-west-2.aws.found.io:443/anna-conversations-v0/_search [status:200 duration:0.026s]\n",
      "POST https://persyn.es.us-west-2.aws.found.io:443/anna-summaries-v0/_update/oRhQboAB1O6hlTWge2UJ [status:200 duration:0.024s]\n",
      "POST https://persyn.es.us-west-2.aws.found.io:443/anna-summaries-v0/_search [status:200 duration:0.027s]\n",
      "POST https://persyn.es.us-west-2.aws.found.io:443/anna-conversations-v0/_search [status:200 duration:0.027s]\n",
      "POST https://persyn.es.us-west-2.aws.found.io:443/anna-summaries-v0/_update/Q-CQ_oMB6EXxeIxU-nqd [status:200 duration:0.026s]\n",
      "POST https://persyn.es.us-west-2.aws.found.io:443/anna-summaries-v0/_search [status:200 duration:0.031s]\n",
      "POST https://persyn.es.us-west-2.aws.found.io:443/anna-conversations-v0/_search [status:200 duration:0.032s]\n",
      "POST https://persyn.es.us-west-2.aws.found.io:443/anna-summaries-v0/_update/NNQzCIEBBCovfdTkMozw [status:200 duration:0.028s]\n"
     ]
    },
    {
     "name": "stdout",
     "output_type": "stream",
     "text": [
      "{'_index': 'anna-summaries-v0', '_id': 'oRhQboAB1O6hlTWge2UJ', '_version': 2, 'result': 'updated', '_shards': {'total': 2, 'successful': 2, 'failed': 0}, '_seq_no': 2333, '_primary_term': 17}\n",
      "{'_index': 'anna-summaries-v0', '_id': 'Q-CQ_oMB6EXxeIxU-nqd', '_version': 2, 'result': 'updated', '_shards': {'total': 2, 'successful': 2, 'failed': 0}, '_seq_no': 2334, '_primary_term': 17}\n",
      "{'_index': 'anna-summaries-v0', '_id': 'NNQzCIEBBCovfdTkMozw', '_version': 2, 'result': 'updated', '_shards': {'total': 2, 'successful': 2, 'failed': 0}, '_seq_no': 2335, '_primary_term': 17}\n"
     ]
    },
    {
     "name": "stderr",
     "output_type": "stream",
     "text": [
      "POST https://persyn.es.us-west-2.aws.found.io:443/anna-summaries-v0/_search [status:200 duration:0.027s]\n",
      "POST https://persyn.es.us-west-2.aws.found.io:443/anna-conversations-v0/_search [status:200 duration:0.021s]\n",
      "POST https://persyn.es.us-west-2.aws.found.io:443/anna-summaries-v0/_update/jk1TGIMBRfbdi4KAdVb7 [status:200 duration:0.023s]\n",
      "POST https://persyn.es.us-west-2.aws.found.io:443/anna-summaries-v0/_search [status:200 duration:0.024s]\n",
      "POST https://persyn.es.us-west-2.aws.found.io:443/anna-conversations-v0/_search [status:200 duration:0.021s]\n",
      "POST https://persyn.es.us-west-2.aws.found.io:443/anna-summaries-v0/_update/XNSUWIEBBCovfdTkM6E8 [status:200 duration:0.024s]\n",
      "POST https://persyn.es.us-west-2.aws.found.io:443/anna-summaries-v0/_search [status:200 duration:0.022s]\n",
      "POST https://persyn.es.us-west-2.aws.found.io:443/anna-conversations-v0/_search [status:200 duration:0.021s]\n",
      "POST https://persyn.es.us-west-2.aws.found.io:443/anna-summaries-v0/_update/0B0wBIIBGYbVpQ0oOIwh [status:200 duration:0.023s]\n",
      "POST https://persyn.es.us-west-2.aws.found.io:443/anna-summaries-v0/_search [status:200 duration:0.021s]\n",
      "POST https://persyn.es.us-west-2.aws.found.io:443/anna-conversations-v0/_search [status:200 duration:0.021s]\n"
     ]
    },
    {
     "name": "stdout",
     "output_type": "stream",
     "text": [
      "{'_index': 'anna-summaries-v0', '_id': 'jk1TGIMBRfbdi4KAdVb7', '_version': 2, 'result': 'updated', '_shards': {'total': 2, 'successful': 2, 'failed': 0}, '_seq_no': 2336, '_primary_term': 17}\n",
      "{'_index': 'anna-summaries-v0', '_id': 'XNSUWIEBBCovfdTkM6E8', '_version': 2, 'result': 'updated', '_shards': {'total': 2, 'successful': 2, 'failed': 0}, '_seq_no': 2337, '_primary_term': 17}\n",
      "{'_index': 'anna-summaries-v0', '_id': '0B0wBIIBGYbVpQ0oOIwh', '_version': 2, 'result': 'updated', '_shards': {'total': 2, 'successful': 2, 'failed': 0}, '_seq_no': 2338, '_primary_term': 17}\n"
     ]
    },
    {
     "name": "stderr",
     "output_type": "stream",
     "text": [
      "POST https://persyn.es.us-west-2.aws.found.io:443/anna-summaries-v0/_update/iU1hy4IBRfbdi4KAmlLc [status:200 duration:0.025s]\n",
      "POST https://persyn.es.us-west-2.aws.found.io:443/anna-summaries-v0/_search [status:200 duration:0.028s]\n",
      "POST https://persyn.es.us-west-2.aws.found.io:443/anna-conversations-v0/_search [status:200 duration:0.029s]\n",
      "POST https://persyn.es.us-west-2.aws.found.io:443/anna-summaries-v0/_update/4K-aEoQBBNi73XUqLqmf [status:200 duration:0.025s]\n",
      "POST https://persyn.es.us-west-2.aws.found.io:443/anna-summaries-v0/_search [status:200 duration:0.028s]\n",
      "POST https://persyn.es.us-west-2.aws.found.io:443/anna-conversations-v0/_search [status:200 duration:0.025s]\n",
      "POST https://persyn.es.us-west-2.aws.found.io:443/anna-summaries-v0/_update/Ga-HU4QBBNi73XUq3axT [status:200 duration:0.028s]\n"
     ]
    },
    {
     "name": "stdout",
     "output_type": "stream",
     "text": [
      "{'_index': 'anna-summaries-v0', '_id': 'iU1hy4IBRfbdi4KAmlLc', '_version': 2, 'result': 'updated', '_shards': {'total': 2, 'successful': 2, 'failed': 0}, '_seq_no': 2339, '_primary_term': 17}\n",
      "{'_index': 'anna-summaries-v0', '_id': '4K-aEoQBBNi73XUqLqmf', '_version': 2, 'result': 'updated', '_shards': {'total': 2, 'successful': 2, 'failed': 0}, '_seq_no': 2340, '_primary_term': 17}\n",
      "{'_index': 'anna-summaries-v0', '_id': 'Ga-HU4QBBNi73XUq3axT', '_version': 2, 'result': 'updated', '_shards': {'total': 2, 'successful': 2, 'failed': 0}, '_seq_no': 2341, '_primary_term': 17}\n"
     ]
    },
    {
     "name": "stderr",
     "output_type": "stream",
     "text": [
      "POST https://persyn.es.us-west-2.aws.found.io:443/anna-summaries-v0/_search [status:200 duration:0.028s]\n",
      "POST https://persyn.es.us-west-2.aws.found.io:443/anna-conversations-v0/_search [status:200 duration:0.028s]\n",
      "POST https://persyn.es.us-west-2.aws.found.io:443/anna-summaries-v0/_update/TuChq4QB6EXxeIxU54dm [status:200 duration:0.028s]\n",
      "POST https://persyn.es.us-west-2.aws.found.io:443/anna-summaries-v0/_search [status:200 duration:0.022s]\n",
      "POST https://persyn.es.us-west-2.aws.found.io:443/anna-conversations-v0/_search [status:200 duration:0.026s]\n",
      "POST https://persyn.es.us-west-2.aws.found.io:443/anna-summaries-v0/_update/7uDYl4QB6EXxeIxUlISe [status:200 duration:0.029s]\n",
      "POST https://persyn.es.us-west-2.aws.found.io:443/anna-summaries-v0/_search [status:200 duration:0.028s]\n",
      "POST https://persyn.es.us-west-2.aws.found.io:443/anna-conversations-v0/_search [status:200 duration:0.028s]\n",
      "POST https://persyn.es.us-west-2.aws.found.io:443/anna-summaries-v0/_update/2hjELYAB1O6hlTWgzVIf [status:200 duration:0.029s]\n"
     ]
    },
    {
     "name": "stdout",
     "output_type": "stream",
     "text": [
      "{'_index': 'anna-summaries-v0', '_id': 'TuChq4QB6EXxeIxU54dm', '_version': 2, 'result': 'updated', '_shards': {'total': 2, 'successful': 2, 'failed': 0}, '_seq_no': 2342, '_primary_term': 17}\n",
      "{'_index': 'anna-summaries-v0', '_id': '7uDYl4QB6EXxeIxUlISe', '_version': 2, 'result': 'updated', '_shards': {'total': 2, 'successful': 2, 'failed': 0}, '_seq_no': 2343, '_primary_term': 17}\n",
      "{'_index': 'anna-summaries-v0', '_id': '2hjELYAB1O6hlTWgzVIf', '_version': 2, 'result': 'updated', '_shards': {'total': 2, 'successful': 2, 'failed': 0}, '_seq_no': 2344, '_primary_term': 17}\n"
     ]
    },
    {
     "name": "stderr",
     "output_type": "stream",
     "text": [
      "POST https://persyn.es.us-west-2.aws.found.io:443/anna-summaries-v0/_search [status:200 duration:0.027s]\n",
      "POST https://persyn.es.us-west-2.aws.found.io:443/anna-conversations-v0/_search [status:200 duration:0.026s]\n",
      "POST https://persyn.es.us-west-2.aws.found.io:443/anna-summaries-v0/_update/jyPYkoIBy5mPdc6PHGVe [status:200 duration:0.026s]\n",
      "POST https://persyn.es.us-west-2.aws.found.io:443/anna-summaries-v0/_search [status:200 duration:0.022s]\n",
      "POST https://persyn.es.us-west-2.aws.found.io:443/anna-conversations-v0/_search [status:200 duration:0.028s]\n",
      "POST https://persyn.es.us-west-2.aws.found.io:443/anna-summaries-v0/_update/K69YsYQBBNi73XUqlLSW [status:200 duration:0.026s]\n",
      "POST https://persyn.es.us-west-2.aws.found.io:443/anna-summaries-v0/_search [status:200 duration:0.028s]\n",
      "POST https://persyn.es.us-west-2.aws.found.io:443/anna-conversations-v0/_search [status:200 duration:0.023s]\n",
      "POST https://persyn.es.us-west-2.aws.found.io:443/anna-summaries-v0/_update/dx39TIIBGYbVpQ0oca4F [status:200 duration:0.025s]\n",
      "POST https://persyn.es.us-west-2.aws.found.io:443/anna-summaries-v0/_search [status:200 duration:0.027s]\n"
     ]
    },
    {
     "name": "stdout",
     "output_type": "stream",
     "text": [
      "{'_index': 'anna-summaries-v0', '_id': 'jyPYkoIBy5mPdc6PHGVe', '_version': 2, 'result': 'updated', '_shards': {'total': 2, 'successful': 2, 'failed': 0}, '_seq_no': 2345, '_primary_term': 17}\n",
      "{'_index': 'anna-summaries-v0', '_id': 'K69YsYQBBNi73XUqlLSW', '_version': 2, 'result': 'updated', '_shards': {'total': 2, 'successful': 2, 'failed': 0}, '_seq_no': 2346, '_primary_term': 17}\n",
      "{'_index': 'anna-summaries-v0', '_id': 'dx39TIIBGYbVpQ0oca4F', '_version': 2, 'result': 'updated', '_shards': {'total': 2, 'successful': 2, 'failed': 0}, '_seq_no': 2347, '_primary_term': 17}\n"
     ]
    },
    {
     "name": "stderr",
     "output_type": "stream",
     "text": [
      "POST https://persyn.es.us-west-2.aws.found.io:443/anna-conversations-v0/_search [status:200 duration:0.021s]\n",
      "POST https://persyn.es.us-west-2.aws.found.io:443/anna-summaries-v0/_update/VK97WoQBBNi73XUqRKyv [status:200 duration:0.027s]\n",
      "POST https://persyn.es.us-west-2.aws.found.io:443/anna-summaries-v0/_search [status:200 duration:0.027s]\n",
      "POST https://persyn.es.us-west-2.aws.found.io:443/anna-conversations-v0/_search [status:200 duration:0.020s]\n",
      "POST https://persyn.es.us-west-2.aws.found.io:443/anna-summaries-v0/_update/geCFEYQB6EXxeIxUtnxq [status:200 duration:0.025s]\n",
      "POST https://persyn.es.us-west-2.aws.found.io:443/anna-summaries-v0/_search [status:200 duration:0.022s]\n",
      "POST https://persyn.es.us-west-2.aws.found.io:443/anna-conversations-v0/_search [status:200 duration:0.029s]\n",
      "POST https://persyn.es.us-west-2.aws.found.io:443/anna-summaries-v0/_update/qK-6koQBBNi73XUqXq9G [status:200 duration:0.031s]\n",
      "POST https://persyn.es.us-west-2.aws.found.io:443/anna-summaries-v0/_search [status:200 duration:0.027s]\n"
     ]
    },
    {
     "name": "stdout",
     "output_type": "stream",
     "text": [
      "{'_index': 'anna-summaries-v0', '_id': 'VK97WoQBBNi73XUqRKyv', '_version': 2, 'result': 'updated', '_shards': {'total': 2, 'successful': 2, 'failed': 0}, '_seq_no': 2348, '_primary_term': 17}\n",
      "{'_index': 'anna-summaries-v0', '_id': 'geCFEYQB6EXxeIxUtnxq', '_version': 2, 'result': 'updated', '_shards': {'total': 2, 'successful': 2, 'failed': 0}, '_seq_no': 2349, '_primary_term': 17}\n",
      "{'_index': 'anna-summaries-v0', '_id': 'qK-6koQBBNi73XUqXq9G', '_version': 2, 'result': 'updated', '_shards': {'total': 2, 'successful': 2, 'failed': 0}, '_seq_no': 2350, '_primary_term': 17}\n"
     ]
    },
    {
     "name": "stderr",
     "output_type": "stream",
     "text": [
      "POST https://persyn.es.us-west-2.aws.found.io:443/anna-conversations-v0/_search [status:200 duration:0.027s]\n",
      "POST https://persyn.es.us-west-2.aws.found.io:443/anna-summaries-v0/_update/yq9BjYQBBNi73XUqCq23 [status:200 duration:0.032s]\n",
      "POST https://persyn.es.us-west-2.aws.found.io:443/anna-summaries-v0/_search [status:200 duration:0.028s]\n",
      "POST https://persyn.es.us-west-2.aws.found.io:443/anna-conversations-v0/_search [status:200 duration:0.029s]\n",
      "POST https://persyn.es.us-west-2.aws.found.io:443/anna-summaries-v0/_update/7iPa-oIBy5mPdc6PXWpO [status:200 duration:0.028s]\n",
      "POST https://persyn.es.us-west-2.aws.found.io:443/anna-summaries-v0/_search [status:200 duration:0.029s]\n",
      "POST https://persyn.es.us-west-2.aws.found.io:443/anna-conversations-v0/_search [status:200 duration:0.029s]\n",
      "POST https://persyn.es.us-west-2.aws.found.io:443/anna-summaries-v0/_update/OK-Vl4QBBNi73XUqi7Dz [status:200 duration:0.026s]\n"
     ]
    },
    {
     "name": "stdout",
     "output_type": "stream",
     "text": [
      "{'_index': 'anna-summaries-v0', '_id': 'yq9BjYQBBNi73XUqCq23', '_version': 2, 'result': 'updated', '_shards': {'total': 2, 'successful': 2, 'failed': 0}, '_seq_no': 2351, '_primary_term': 17}\n",
      "{'_index': 'anna-summaries-v0', '_id': '7iPa-oIBy5mPdc6PXWpO', '_version': 2, 'result': 'updated', '_shards': {'total': 2, 'successful': 2, 'failed': 0}, '_seq_no': 2352, '_primary_term': 17}\n",
      "{'_index': 'anna-summaries-v0', '_id': 'OK-Vl4QBBNi73XUqi7Dz', '_version': 2, 'result': 'updated', '_shards': {'total': 2, 'successful': 2, 'failed': 0}, '_seq_no': 2353, '_primary_term': 17}\n"
     ]
    },
    {
     "name": "stderr",
     "output_type": "stream",
     "text": [
      "POST https://persyn.es.us-west-2.aws.found.io:443/anna-summaries-v0/_search [status:200 duration:0.026s]\n",
      "POST https://persyn.es.us-west-2.aws.found.io:443/anna-conversations-v0/_search [status:200 duration:0.023s]\n",
      "POST https://persyn.es.us-west-2.aws.found.io:443/anna-summaries-v0/_update/1-D-3YMB6EXxeIxUc3jo [status:200 duration:0.028s]\n",
      "POST https://persyn.es.us-west-2.aws.found.io:443/anna-summaries-v0/_search [status:200 duration:0.022s]\n",
      "POST https://persyn.es.us-west-2.aws.found.io:443/anna-conversations-v0/_search [status:200 duration:0.023s]\n",
      "POST https://persyn.es.us-west-2.aws.found.io:443/anna-summaries-v0/_update/j9SxMIEBBCovfdTkgJfr [status:200 duration:0.031s]\n",
      "POST https://persyn.es.us-west-2.aws.found.io:443/anna-summaries-v0/_search [status:200 duration:0.025s]\n",
      "POST https://persyn.es.us-west-2.aws.found.io:443/anna-conversations-v0/_search [status:200 duration:0.031s]\n",
      "POST https://persyn.es.us-west-2.aws.found.io:443/anna-summaries-v0/_update/yiMXYoMBy5mPdc6PSG6o [status:200 duration:0.030s]\n"
     ]
    },
    {
     "name": "stdout",
     "output_type": "stream",
     "text": [
      "{'_index': 'anna-summaries-v0', '_id': '1-D-3YMB6EXxeIxUc3jo', '_version': 2, 'result': 'updated', '_shards': {'total': 2, 'successful': 2, 'failed': 0}, '_seq_no': 2354, '_primary_term': 17}\n",
      "{'_index': 'anna-summaries-v0', '_id': 'j9SxMIEBBCovfdTkgJfr', '_version': 2, 'result': 'updated', '_shards': {'total': 2, 'successful': 2, 'failed': 0}, '_seq_no': 2355, '_primary_term': 17}\n",
      "{'_index': 'anna-summaries-v0', '_id': 'yiMXYoMBy5mPdc6PSG6o', '_version': 2, 'result': 'updated', '_shards': {'total': 2, 'successful': 2, 'failed': 0}, '_seq_no': 2356, '_primary_term': 17}\n"
     ]
    },
    {
     "name": "stderr",
     "output_type": "stream",
     "text": [
      "POST https://persyn.es.us-west-2.aws.found.io:443/anna-summaries-v0/_search [status:200 duration:0.030s]\n",
      "POST https://persyn.es.us-west-2.aws.found.io:443/anna-conversations-v0/_search [status:200 duration:0.028s]\n",
      "POST https://persyn.es.us-west-2.aws.found.io:443/anna-summaries-v0/_update/XSN0uYIBy5mPdc6P9Gcr [status:200 duration:0.026s]\n",
      "POST https://persyn.es.us-west-2.aws.found.io:443/anna-summaries-v0/_search [status:200 duration:0.028s]\n",
      "POST https://persyn.es.us-west-2.aws.found.io:443/anna-conversations-v0/_search [status:200 duration:0.028s]\n",
      "POST https://persyn.es.us-west-2.aws.found.io:443/anna-summaries-v0/_update/AE3XvYIBRfbdi4KA0VEL [status:200 duration:0.027s]\n",
      "POST https://persyn.es.us-west-2.aws.found.io:443/anna-summaries-v0/_search [status:200 duration:0.028s]\n",
      "POST https://persyn.es.us-west-2.aws.found.io:443/anna-conversations-v0/_search [status:200 duration:0.028s]\n",
      "POST https://persyn.es.us-west-2.aws.found.io:443/anna-summaries-v0/_update/eODWkYQB6EXxeIxUP4P- [status:200 duration:0.030s]\n"
     ]
    },
    {
     "name": "stdout",
     "output_type": "stream",
     "text": [
      "{'_index': 'anna-summaries-v0', '_id': 'XSN0uYIBy5mPdc6P9Gcr', '_version': 2, 'result': 'updated', '_shards': {'total': 2, 'successful': 2, 'failed': 0}, '_seq_no': 2357, '_primary_term': 17}\n",
      "{'_index': 'anna-summaries-v0', '_id': 'AE3XvYIBRfbdi4KA0VEL', '_version': 2, 'result': 'updated', '_shards': {'total': 2, 'successful': 2, 'failed': 0}, '_seq_no': 2358, '_primary_term': 17}\n",
      "{'_index': 'anna-summaries-v0', '_id': 'eODWkYQB6EXxeIxUP4P-', '_version': 2, 'result': 'updated', '_shards': {'total': 2, 'successful': 2, 'failed': 0}, '_seq_no': 2359, '_primary_term': 17}\n"
     ]
    },
    {
     "name": "stderr",
     "output_type": "stream",
     "text": [
      "POST https://persyn.es.us-west-2.aws.found.io:443/anna-summaries-v0/_search [status:200 duration:0.026s]\n",
      "POST https://persyn.es.us-west-2.aws.found.io:443/anna-conversations-v0/_search [status:200 duration:0.022s]\n",
      "POST https://persyn.es.us-west-2.aws.found.io:443/anna-summaries-v0/_update/wK8Hq4QBBNi73XUqRbIl [status:200 duration:0.027s]\n",
      "POST https://persyn.es.us-west-2.aws.found.io:443/anna-summaries-v0/_search [status:200 duration:0.021s]\n",
      "POST https://persyn.es.us-west-2.aws.found.io:443/anna-conversations-v0/_search [status:200 duration:0.028s]\n",
      "POST https://persyn.es.us-west-2.aws.found.io:443/anna-summaries-v0/_update/Vh3F5YEBGYbVpQ0oD4Kg [status:200 duration:0.033s]\n",
      "POST https://persyn.es.us-west-2.aws.found.io:443/anna-summaries-v0/_search [status:200 duration:0.026s]\n",
      "POST https://persyn.es.us-west-2.aws.found.io:443/anna-conversations-v0/_search [status:200 duration:0.027s]\n",
      "POST https://persyn.es.us-west-2.aws.found.io:443/anna-summaries-v0/_update/L-Aod4QB6EXxeIxU_oJ8 [status:200 duration:0.026s]\n",
      "POST https://persyn.es.us-west-2.aws.found.io:443/anna-summaries-v0/_search [status:200 duration:0.026s]\n"
     ]
    },
    {
     "name": "stdout",
     "output_type": "stream",
     "text": [
      "{'_index': 'anna-summaries-v0', '_id': 'wK8Hq4QBBNi73XUqRbIl', '_version': 2, 'result': 'updated', '_shards': {'total': 2, 'successful': 2, 'failed': 0}, '_seq_no': 2360, '_primary_term': 17}\n",
      "{'_index': 'anna-summaries-v0', '_id': 'Vh3F5YEBGYbVpQ0oD4Kg', '_version': 2, 'result': 'updated', '_shards': {'total': 2, 'successful': 2, 'failed': 0}, '_seq_no': 2361, '_primary_term': 17}\n",
      "{'_index': 'anna-summaries-v0', '_id': 'L-Aod4QB6EXxeIxU_oJ8', '_version': 2, 'result': 'updated', '_shards': {'total': 2, 'successful': 2, 'failed': 0}, '_seq_no': 2362, '_primary_term': 17}\n"
     ]
    },
    {
     "name": "stderr",
     "output_type": "stream",
     "text": [
      "POST https://persyn.es.us-west-2.aws.found.io:443/anna-conversations-v0/_search [status:200 duration:0.022s]\n",
      "POST https://persyn.es.us-west-2.aws.found.io:443/anna-summaries-v0/_update/phixPH8B1O6hlTWgdkvb [status:200 duration:0.029s]\n",
      "POST https://persyn.es.us-west-2.aws.found.io:443/anna-summaries-v0/_search [status:200 duration:0.025s]\n",
      "POST https://persyn.es.us-west-2.aws.found.io:443/anna-conversations-v0/_search [status:200 duration:0.027s]\n",
      "POST https://persyn.es.us-west-2.aws.found.io:443/anna-summaries-v0/_update/udTaL4EBBCovfdTkhJWy [status:200 duration:0.027s]\n",
      "POST https://persyn.es.us-west-2.aws.found.io:443/anna-summaries-v0/_search [status:200 duration:0.028s]\n",
      "POST https://persyn.es.us-west-2.aws.found.io:443/anna-conversations-v0/_search [status:200 duration:0.025s]\n",
      "POST https://persyn.es.us-west-2.aws.found.io:443/anna-summaries-v0/_update/L69zo4MBBNi73XUqMaMZ [status:200 duration:0.022s]\n",
      "POST https://persyn.es.us-west-2.aws.found.io:443/anna-summaries-v0/_search [status:200 duration:0.018s]\n"
     ]
    },
    {
     "name": "stdout",
     "output_type": "stream",
     "text": [
      "{'_index': 'anna-summaries-v0', '_id': 'phixPH8B1O6hlTWgdkvb', '_version': 2, 'result': 'updated', '_shards': {'total': 2, 'successful': 2, 'failed': 0}, '_seq_no': 2363, '_primary_term': 17}\n",
      "{'_index': 'anna-summaries-v0', '_id': 'udTaL4EBBCovfdTkhJWy', '_version': 2, 'result': 'updated', '_shards': {'total': 2, 'successful': 2, 'failed': 0}, '_seq_no': 2364, '_primary_term': 17}\n",
      "{'_index': 'anna-summaries-v0', '_id': 'L69zo4MBBNi73XUqMaMZ', '_version': 2, 'result': 'updated', '_shards': {'total': 2, 'successful': 2, 'failed': 0}, '_seq_no': 2365, '_primary_term': 17}\n"
     ]
    },
    {
     "name": "stderr",
     "output_type": "stream",
     "text": [
      "POST https://persyn.es.us-west-2.aws.found.io:443/anna-conversations-v0/_search [status:200 duration:0.027s]\n",
      "POST https://persyn.es.us-west-2.aws.found.io:443/anna-summaries-v0/_update/8x1UJ4IBGYbVpQ0oX6GZ [status:200 duration:0.022s]\n",
      "POST https://persyn.es.us-west-2.aws.found.io:443/anna-summaries-v0/_search [status:200 duration:0.027s]\n",
      "POST https://persyn.es.us-west-2.aws.found.io:443/anna-conversations-v0/_search [status:200 duration:0.023s]\n",
      "POST https://persyn.es.us-west-2.aws.found.io:443/anna-summaries-v0/_update/NeCMj4MB6EXxeIxUenaU [status:200 duration:0.025s]\n",
      "POST https://persyn.es.us-west-2.aws.found.io:443/anna-summaries-v0/_search [status:200 duration:0.024s]\n",
      "POST https://persyn.es.us-west-2.aws.found.io:443/anna-conversations-v0/_search [status:200 duration:0.028s]\n",
      "POST https://persyn.es.us-west-2.aws.found.io:443/anna-summaries-v0/_update/7k1-24IBRfbdi4KAgVMT [status:200 duration:0.029s]\n",
      "POST https://persyn.es.us-west-2.aws.found.io:443/anna-summaries-v0/_search [status:200 duration:0.026s]\n"
     ]
    },
    {
     "name": "stdout",
     "output_type": "stream",
     "text": [
      "{'_index': 'anna-summaries-v0', '_id': '8x1UJ4IBGYbVpQ0oX6GZ', '_version': 2, 'result': 'updated', '_shards': {'total': 2, 'successful': 2, 'failed': 0}, '_seq_no': 2366, '_primary_term': 17}\n",
      "{'_index': 'anna-summaries-v0', '_id': 'NeCMj4MB6EXxeIxUenaU', '_version': 2, 'result': 'updated', '_shards': {'total': 2, 'successful': 2, 'failed': 0}, '_seq_no': 2367, '_primary_term': 17}\n",
      "{'_index': 'anna-summaries-v0', '_id': '7k1-24IBRfbdi4KAgVMT', '_version': 2, 'result': 'updated', '_shards': {'total': 2, 'successful': 2, 'failed': 0}, '_seq_no': 2368, '_primary_term': 17}\n"
     ]
    },
    {
     "name": "stderr",
     "output_type": "stream",
     "text": [
      "POST https://persyn.es.us-west-2.aws.found.io:443/anna-conversations-v0/_search [status:200 duration:0.023s]\n",
      "POST https://persyn.es.us-west-2.aws.found.io:443/anna-summaries-v0/_update/I03leYMBRfbdi4KArFsS [status:200 duration:0.029s]\n",
      "POST https://persyn.es.us-west-2.aws.found.io:443/anna-summaries-v0/_search [status:200 duration:0.023s]\n",
      "POST https://persyn.es.us-west-2.aws.found.io:443/anna-conversations-v0/_search [status:200 duration:0.023s]\n",
      "POST https://persyn.es.us-west-2.aws.found.io:443/anna-summaries-v0/_update/TK8p84MBBNi73XUq_aTv [status:200 duration:0.030s]\n",
      "POST https://persyn.es.us-west-2.aws.found.io:443/anna-summaries-v0/_search [status:200 duration:0.030s]\n",
      "POST https://persyn.es.us-west-2.aws.found.io:443/anna-conversations-v0/_search [status:200 duration:0.020s]\n",
      "POST https://persyn.es.us-west-2.aws.found.io:443/anna-summaries-v0/_update/UR3-JoIBGYbVpQ0o0aHe [status:200 duration:0.037s]\n",
      "POST https://persyn.es.us-west-2.aws.found.io:443/anna-summaries-v0/_search [status:200 duration:0.021s]\n"
     ]
    },
    {
     "name": "stdout",
     "output_type": "stream",
     "text": [
      "{'_index': 'anna-summaries-v0', '_id': 'I03leYMBRfbdi4KArFsS', '_version': 2, 'result': 'updated', '_shards': {'total': 2, 'successful': 2, 'failed': 0}, '_seq_no': 2369, '_primary_term': 17}\n",
      "{'_index': 'anna-summaries-v0', '_id': 'TK8p84MBBNi73XUq_aTv', '_version': 2, 'result': 'updated', '_shards': {'total': 2, 'successful': 2, 'failed': 0}, '_seq_no': 2370, '_primary_term': 17}\n",
      "{'_index': 'anna-summaries-v0', '_id': 'UR3-JoIBGYbVpQ0o0aHe', '_version': 2, 'result': 'updated', '_shards': {'total': 2, 'successful': 2, 'failed': 0}, '_seq_no': 2371, '_primary_term': 17}\n"
     ]
    },
    {
     "name": "stderr",
     "output_type": "stream",
     "text": [
      "POST https://persyn.es.us-west-2.aws.found.io:443/anna-conversations-v0/_search [status:200 duration:0.028s]\n",
      "POST https://persyn.es.us-west-2.aws.found.io:443/anna-summaries-v0/_update/6NTn34EBBCovfdTkMr5D [status:200 duration:0.028s]\n",
      "POST https://persyn.es.us-west-2.aws.found.io:443/anna-summaries-v0/_search [status:200 duration:0.023s]\n",
      "POST https://persyn.es.us-west-2.aws.found.io:443/anna-conversations-v0/_search [status:200 duration:0.021s]\n",
      "POST https://persyn.es.us-west-2.aws.found.io:443/anna-summaries-v0/_update/teCVY4QB6EXxeIxUjYDN [status:200 duration:0.023s]\n",
      "POST https://persyn.es.us-west-2.aws.found.io:443/anna-summaries-v0/_search [status:200 duration:0.022s]\n",
      "POST https://persyn.es.us-west-2.aws.found.io:443/anna-conversations-v0/_search [status:200 duration:0.025s]\n",
      "POST https://persyn.es.us-west-2.aws.found.io:443/anna-summaries-v0/_update/UxjUa4AB1O6hlTWgf2R0 [status:200 duration:0.022s]\n",
      "POST https://persyn.es.us-west-2.aws.found.io:443/anna-summaries-v0/_search [status:200 duration:0.026s]\n",
      "POST https://persyn.es.us-west-2.aws.found.io:443/anna-conversations-v0/_search [status:200 duration:0.023s]\n"
     ]
    },
    {
     "name": "stdout",
     "output_type": "stream",
     "text": [
      "{'_index': 'anna-summaries-v0', '_id': '6NTn34EBBCovfdTkMr5D', '_version': 2, 'result': 'updated', '_shards': {'total': 2, 'successful': 2, 'failed': 0}, '_seq_no': 2372, '_primary_term': 17}\n",
      "{'_index': 'anna-summaries-v0', '_id': 'teCVY4QB6EXxeIxUjYDN', '_version': 2, 'result': 'updated', '_shards': {'total': 2, 'successful': 2, 'failed': 0}, '_seq_no': 2373, '_primary_term': 17}\n",
      "{'_index': 'anna-summaries-v0', '_id': 'UxjUa4AB1O6hlTWgf2R0', '_version': 2, 'result': 'updated', '_shards': {'total': 2, 'successful': 2, 'failed': 0}, '_seq_no': 2374, '_primary_term': 17}\n"
     ]
    },
    {
     "name": "stderr",
     "output_type": "stream",
     "text": [
      "POST https://persyn.es.us-west-2.aws.found.io:443/anna-summaries-v0/_update/J9Q78oABBCovfdTkx4Z9 [status:200 duration:0.026s]\n",
      "POST https://persyn.es.us-west-2.aws.found.io:443/anna-summaries-v0/_search [status:200 duration:0.028s]\n",
      "POST https://persyn.es.us-west-2.aws.found.io:443/anna-conversations-v0/_search [status:200 duration:0.020s]\n",
      "POST https://persyn.es.us-west-2.aws.found.io:443/anna-summaries-v0/_update/4a8QAIQBBNi73XUq1aXK [status:200 duration:0.025s]\n",
      "POST https://persyn.es.us-west-2.aws.found.io:443/anna-summaries-v0/_search [status:200 duration:0.025s]\n",
      "POST https://persyn.es.us-west-2.aws.found.io:443/anna-conversations-v0/_search [status:200 duration:0.021s]\n",
      "POST https://persyn.es.us-west-2.aws.found.io:443/anna-summaries-v0/_update/1R0r74EBGYbVpQ0oQYRQ [status:200 duration:0.026s]\n",
      "POST https://persyn.es.us-west-2.aws.found.io:443/anna-summaries-v0/_search [status:200 duration:0.021s]\n",
      "POST https://persyn.es.us-west-2.aws.found.io:443/anna-conversations-v0/_search [status:200 duration:0.025s]\n"
     ]
    },
    {
     "name": "stdout",
     "output_type": "stream",
     "text": [
      "{'_index': 'anna-summaries-v0', '_id': 'J9Q78oABBCovfdTkx4Z9', '_version': 2, 'result': 'updated', '_shards': {'total': 2, 'successful': 2, 'failed': 0}, '_seq_no': 2375, '_primary_term': 17}\n",
      "{'_index': 'anna-summaries-v0', '_id': '4a8QAIQBBNi73XUq1aXK', '_version': 2, 'result': 'updated', '_shards': {'total': 2, 'successful': 2, 'failed': 0}, '_seq_no': 2376, '_primary_term': 17}\n",
      "{'_index': 'anna-summaries-v0', '_id': '1R0r74EBGYbVpQ0oQYRQ', '_version': 2, 'result': 'updated', '_shards': {'total': 2, 'successful': 2, 'failed': 0}, '_seq_no': 2377, '_primary_term': 17}\n"
     ]
    },
    {
     "name": "stderr",
     "output_type": "stream",
     "text": [
      "POST https://persyn.es.us-west-2.aws.found.io:443/anna-summaries-v0/_update/ldSLcoEBBCovfdTkRaeU [status:200 duration:0.021s]\n",
      "POST https://persyn.es.us-west-2.aws.found.io:443/anna-summaries-v0/_search [status:200 duration:0.019s]\n",
      "POST https://persyn.es.us-west-2.aws.found.io:443/anna-conversations-v0/_search [status:200 duration:0.024s]\n",
      "POST https://persyn.es.us-west-2.aws.found.io:443/anna-summaries-v0/_update/SB2TVYIBGYbVpQ0oR7Ij [status:200 duration:0.028s]\n",
      "POST https://persyn.es.us-west-2.aws.found.io:443/anna-summaries-v0/_search [status:200 duration:0.022s]\n",
      "POST https://persyn.es.us-west-2.aws.found.io:443/anna-conversations-v0/_search [status:200 duration:0.025s]\n",
      "POST https://persyn.es.us-west-2.aws.found.io:443/anna-summaries-v0/_update/YeCq2YMB6EXxeIxUUXik [status:200 duration:0.021s]\n",
      "POST https://persyn.es.us-west-2.aws.found.io:443/anna-summaries-v0/_search [status:200 duration:0.019s]\n",
      "POST https://persyn.es.us-west-2.aws.found.io:443/anna-conversations-v0/_search [status:200 duration:0.020s]\n"
     ]
    },
    {
     "name": "stdout",
     "output_type": "stream",
     "text": [
      "{'_index': 'anna-summaries-v0', '_id': 'ldSLcoEBBCovfdTkRaeU', '_version': 2, 'result': 'updated', '_shards': {'total': 2, 'successful': 2, 'failed': 0}, '_seq_no': 2378, '_primary_term': 17}\n",
      "{'_index': 'anna-summaries-v0', '_id': 'SB2TVYIBGYbVpQ0oR7Ij', '_version': 2, 'result': 'updated', '_shards': {'total': 2, 'successful': 2, 'failed': 0}, '_seq_no': 2379, '_primary_term': 17}\n",
      "{'_index': 'anna-summaries-v0', '_id': 'YeCq2YMB6EXxeIxUUXik', '_version': 2, 'result': 'updated', '_shards': {'total': 2, 'successful': 2, 'failed': 0}, '_seq_no': 2380, '_primary_term': 17}\n"
     ]
    },
    {
     "name": "stderr",
     "output_type": "stream",
     "text": [
      "POST https://persyn.es.us-west-2.aws.found.io:443/anna-summaries-v0/_update/ZU0urYIBRfbdi4KAkE-N [status:200 duration:0.026s]\n",
      "POST https://persyn.es.us-west-2.aws.found.io:443/anna-summaries-v0/_search [status:200 duration:0.024s]\n",
      "POST https://persyn.es.us-west-2.aws.found.io:443/anna-conversations-v0/_search [status:200 duration:0.028s]\n",
      "POST https://persyn.es.us-west-2.aws.found.io:443/anna-summaries-v0/_update/Ea-yr4QBBNi73XUqErR- [status:200 duration:0.029s]\n",
      "POST https://persyn.es.us-west-2.aws.found.io:443/anna-summaries-v0/_search [status:200 duration:0.019s]\n",
      "POST https://persyn.es.us-west-2.aws.found.io:443/anna-conversations-v0/_search [status:200 duration:0.021s]\n",
      "POST https://persyn.es.us-west-2.aws.found.io:443/anna-summaries-v0/_update/mhgiXIAB1O6hlTWguV7C [status:200 duration:0.027s]\n",
      "POST https://persyn.es.us-west-2.aws.found.io:443/anna-summaries-v0/_search [status:200 duration:0.027s]\n",
      "POST https://persyn.es.us-west-2.aws.found.io:443/anna-conversations-v0/_search [status:200 duration:0.019s]\n"
     ]
    },
    {
     "name": "stdout",
     "output_type": "stream",
     "text": [
      "{'_index': 'anna-summaries-v0', '_id': 'ZU0urYIBRfbdi4KAkE-N', '_version': 2, 'result': 'updated', '_shards': {'total': 2, 'successful': 2, 'failed': 0}, '_seq_no': 2381, '_primary_term': 17}\n",
      "{'_index': 'anna-summaries-v0', '_id': 'Ea-yr4QBBNi73XUqErR-', '_version': 2, 'result': 'updated', '_shards': {'total': 2, 'successful': 2, 'failed': 0}, '_seq_no': 2382, '_primary_term': 17}\n",
      "{'_index': 'anna-summaries-v0', '_id': 'mhgiXIAB1O6hlTWguV7C', '_version': 2, 'result': 'updated', '_shards': {'total': 2, 'successful': 2, 'failed': 0}, '_seq_no': 2383, '_primary_term': 17}\n"
     ]
    },
    {
     "name": "stderr",
     "output_type": "stream",
     "text": [
      "POST https://persyn.es.us-west-2.aws.found.io:443/anna-summaries-v0/_update/bhizcoAB1O6hlTWggGcq [status:200 duration:0.021s]\n",
      "POST https://persyn.es.us-west-2.aws.found.io:443/anna-summaries-v0/_search [status:200 duration:0.026s]\n",
      "POST https://persyn.es.us-west-2.aws.found.io:443/anna-conversations-v0/_search [status:200 duration:0.019s]\n",
      "POST https://persyn.es.us-west-2.aws.found.io:443/anna-summaries-v0/_update/qK-qX4QBBNi73XUqhaxW [status:200 duration:0.029s]\n",
      "POST https://persyn.es.us-west-2.aws.found.io:443/anna-summaries-v0/_search [status:200 duration:0.027s]\n",
      "POST https://persyn.es.us-west-2.aws.found.io:443/anna-conversations-v0/_search [status:200 duration:0.020s]\n",
      "POST https://persyn.es.us-west-2.aws.found.io:443/anna-summaries-v0/_update/aB3BLIIBGYbVpQ0ovaMd [status:200 duration:0.022s]\n",
      "POST https://persyn.es.us-west-2.aws.found.io:443/anna-summaries-v0/_search [status:200 duration:0.021s]\n",
      "POST https://persyn.es.us-west-2.aws.found.io:443/anna-conversations-v0/_search [status:200 duration:0.022s]\n"
     ]
    },
    {
     "name": "stdout",
     "output_type": "stream",
     "text": [
      "{'_index': 'anna-summaries-v0', '_id': 'bhizcoAB1O6hlTWggGcq', '_version': 2, 'result': 'updated', '_shards': {'total': 2, 'successful': 2, 'failed': 0}, '_seq_no': 2384, '_primary_term': 17}\n",
      "{'_index': 'anna-summaries-v0', '_id': 'qK-qX4QBBNi73XUqhaxW', '_version': 2, 'result': 'updated', '_shards': {'total': 2, 'successful': 2, 'failed': 0}, '_seq_no': 2385, '_primary_term': 17}\n",
      "{'_index': 'anna-summaries-v0', '_id': 'aB3BLIIBGYbVpQ0ovaMd', '_version': 2, 'result': 'updated', '_shards': {'total': 2, 'successful': 2, 'failed': 0}, '_seq_no': 2386, '_primary_term': 17}\n"
     ]
    },
    {
     "name": "stderr",
     "output_type": "stream",
     "text": [
      "POST https://persyn.es.us-west-2.aws.found.io:443/anna-summaries-v0/_update/PuC57oMB6EXxeIxUXXlb [status:200 duration:0.029s]\n",
      "POST https://persyn.es.us-west-2.aws.found.io:443/anna-summaries-v0/_search [status:200 duration:0.025s]\n",
      "POST https://persyn.es.us-west-2.aws.found.io:443/anna-conversations-v0/_search [status:200 duration:0.022s]\n",
      "POST https://persyn.es.us-west-2.aws.found.io:443/anna-summaries-v0/_update/auBHBoQB6EXxeIxUKHsP [status:200 duration:0.026s]\n",
      "POST https://persyn.es.us-west-2.aws.found.io:443/anna-summaries-v0/_search [status:200 duration:0.022s]\n",
      "POST https://persyn.es.us-west-2.aws.found.io:443/anna-conversations-v0/_search [status:200 duration:0.023s]\n",
      "POST https://persyn.es.us-west-2.aws.found.io:443/anna-summaries-v0/_update/NyMGsoIBy5mPdc6PtGfP [status:200 duration:0.025s]\n",
      "POST https://persyn.es.us-west-2.aws.found.io:443/anna-summaries-v0/_search [status:200 duration:0.021s]\n",
      "POST https://persyn.es.us-west-2.aws.found.io:443/anna-conversations-v0/_search [status:200 duration:0.021s]\n"
     ]
    },
    {
     "name": "stdout",
     "output_type": "stream",
     "text": [
      "{'_index': 'anna-summaries-v0', '_id': 'PuC57oMB6EXxeIxUXXlb', '_version': 2, 'result': 'updated', '_shards': {'total': 2, 'successful': 2, 'failed': 0}, '_seq_no': 2387, '_primary_term': 17}\n",
      "{'_index': 'anna-summaries-v0', '_id': 'auBHBoQB6EXxeIxUKHsP', '_version': 2, 'result': 'updated', '_shards': {'total': 2, 'successful': 2, 'failed': 0}, '_seq_no': 2388, '_primary_term': 17}\n",
      "{'_index': 'anna-summaries-v0', '_id': 'NyMGsoIBy5mPdc6PtGfP', '_version': 2, 'result': 'updated', '_shards': {'total': 2, 'successful': 2, 'failed': 0}, '_seq_no': 2389, '_primary_term': 17}\n"
     ]
    },
    {
     "name": "stderr",
     "output_type": "stream",
     "text": [
      "POST https://persyn.es.us-west-2.aws.found.io:443/anna-summaries-v0/_update/Ba_0B4QBBNi73XUqVqjE [status:200 duration:0.025s]\n",
      "POST https://persyn.es.us-west-2.aws.found.io:443/anna-summaries-v0/_search [status:200 duration:0.025s]\n",
      "POST https://persyn.es.us-west-2.aws.found.io:443/anna-conversations-v0/_search [status:200 duration:0.032s]\n",
      "POST https://persyn.es.us-west-2.aws.found.io:443/anna-summaries-v0/_update/HBgxboAB1O6hlTWgZ2Xt [status:200 duration:0.025s]\n",
      "POST https://persyn.es.us-west-2.aws.found.io:443/anna-summaries-v0/_search [status:200 duration:0.030s]\n",
      "POST https://persyn.es.us-west-2.aws.found.io:443/anna-conversations-v0/_search [status:200 duration:0.023s]\n",
      "POST https://persyn.es.us-west-2.aws.found.io:443/anna-summaries-v0/_update/yx3NVYIBGYbVpQ0o_bI6 [status:200 duration:0.025s]\n"
     ]
    },
    {
     "name": "stdout",
     "output_type": "stream",
     "text": [
      "{'_index': 'anna-summaries-v0', '_id': 'Ba_0B4QBBNi73XUqVqjE', '_version': 2, 'result': 'updated', '_shards': {'total': 2, 'successful': 2, 'failed': 0}, '_seq_no': 2390, '_primary_term': 17}\n",
      "{'_index': 'anna-summaries-v0', '_id': 'HBgxboAB1O6hlTWgZ2Xt', '_version': 2, 'result': 'updated', '_shards': {'total': 2, 'successful': 2, 'failed': 0}, '_seq_no': 2391, '_primary_term': 17}\n",
      "{'_index': 'anna-summaries-v0', '_id': 'yx3NVYIBGYbVpQ0o_bI6', '_version': 2, 'result': 'updated', '_shards': {'total': 2, 'successful': 2, 'failed': 0}, '_seq_no': 2392, '_primary_term': 17}\n"
     ]
    },
    {
     "name": "stderr",
     "output_type": "stream",
     "text": [
      "POST https://persyn.es.us-west-2.aws.found.io:443/anna-summaries-v0/_search [status:200 duration:0.028s]\n",
      "POST https://persyn.es.us-west-2.aws.found.io:443/anna-conversations-v0/_search [status:200 duration:0.025s]\n",
      "POST https://persyn.es.us-west-2.aws.found.io:443/anna-summaries-v0/_update/DeB214MB6EXxeIxUPHiA [status:200 duration:0.024s]\n",
      "POST https://persyn.es.us-west-2.aws.found.io:443/anna-summaries-v0/_search [status:200 duration:0.030s]\n",
      "POST https://persyn.es.us-west-2.aws.found.io:443/anna-conversations-v0/_search [status:200 duration:0.027s]\n",
      "POST https://persyn.es.us-west-2.aws.found.io:443/anna-summaries-v0/_update/WBgb6YAB1O6hlTWgqnQd [status:200 duration:0.025s]\n",
      "POST https://persyn.es.us-west-2.aws.found.io:443/anna-summaries-v0/_search [status:200 duration:0.028s]\n",
      "POST https://persyn.es.us-west-2.aws.found.io:443/anna-conversations-v0/_search [status:200 duration:0.028s]\n",
      "POST https://persyn.es.us-west-2.aws.found.io:443/anna-summaries-v0/_update/7a_JPYQBBNi73XUqLarD [status:200 duration:0.032s]\n"
     ]
    },
    {
     "name": "stdout",
     "output_type": "stream",
     "text": [
      "{'_index': 'anna-summaries-v0', '_id': 'DeB214MB6EXxeIxUPHiA', '_version': 2, 'result': 'updated', '_shards': {'total': 2, 'successful': 2, 'failed': 0}, '_seq_no': 2393, '_primary_term': 17}\n",
      "{'_index': 'anna-summaries-v0', '_id': 'WBgb6YAB1O6hlTWgqnQd', '_version': 2, 'result': 'updated', '_shards': {'total': 2, 'successful': 2, 'failed': 0}, '_seq_no': 2394, '_primary_term': 17}\n",
      "{'_index': 'anna-summaries-v0', '_id': '7a_JPYQBBNi73XUqLarD', '_version': 2, 'result': 'updated', '_shards': {'total': 2, 'successful': 2, 'failed': 0}, '_seq_no': 2395, '_primary_term': 17}\n"
     ]
    },
    {
     "name": "stderr",
     "output_type": "stream",
     "text": [
      "POST https://persyn.es.us-west-2.aws.found.io:443/anna-summaries-v0/_search [status:200 duration:0.027s]\n",
      "POST https://persyn.es.us-west-2.aws.found.io:443/anna-conversations-v0/_search [status:200 duration:0.028s]\n",
      "POST https://persyn.es.us-west-2.aws.found.io:443/anna-summaries-v0/_update/sx2_VYIBGYbVpQ0oTrJh [status:200 duration:0.031s]\n",
      "POST https://persyn.es.us-west-2.aws.found.io:443/anna-summaries-v0/_search [status:200 duration:0.027s]\n",
      "POST https://persyn.es.us-west-2.aws.found.io:443/anna-conversations-v0/_search [status:200 duration:0.025s]\n",
      "POST https://persyn.es.us-west-2.aws.found.io:443/anna-summaries-v0/_update/GE1neIMBRfbdi4KA2VuX [status:200 duration:0.027s]\n",
      "POST https://persyn.es.us-west-2.aws.found.io:443/anna-summaries-v0/_search [status:200 duration:0.022s]\n",
      "POST https://persyn.es.us-west-2.aws.found.io:443/anna-conversations-v0/_search [status:200 duration:0.026s]\n",
      "POST https://persyn.es.us-west-2.aws.found.io:443/anna-summaries-v0/_update/kODkB4QB6EXxeIxUfnsu [status:200 duration:0.026s]\n",
      "POST https://persyn.es.us-west-2.aws.found.io:443/anna-summaries-v0/_search [status:200 duration:0.027s]\n"
     ]
    },
    {
     "name": "stdout",
     "output_type": "stream",
     "text": [
      "{'_index': 'anna-summaries-v0', '_id': 'sx2_VYIBGYbVpQ0oTrJh', '_version': 2, 'result': 'updated', '_shards': {'total': 2, 'successful': 2, 'failed': 0}, '_seq_no': 2396, '_primary_term': 17}\n",
      "{'_index': 'anna-summaries-v0', '_id': 'GE1neIMBRfbdi4KA2VuX', '_version': 2, 'result': 'updated', '_shards': {'total': 2, 'successful': 2, 'failed': 0}, '_seq_no': 2397, '_primary_term': 17}\n",
      "{'_index': 'anna-summaries-v0', '_id': 'kODkB4QB6EXxeIxUfnsu', '_version': 2, 'result': 'updated', '_shards': {'total': 2, 'successful': 2, 'failed': 0}, '_seq_no': 2398, '_primary_term': 17}\n"
     ]
    },
    {
     "name": "stderr",
     "output_type": "stream",
     "text": [
      "POST https://persyn.es.us-west-2.aws.found.io:443/anna-conversations-v0/_search [status:200 duration:0.028s]\n",
      "POST https://persyn.es.us-west-2.aws.found.io:443/anna-summaries-v0/_update/0RhrWYAB1O6hlTWgaV2v [status:200 duration:0.025s]\n",
      "POST https://persyn.es.us-west-2.aws.found.io:443/anna-summaries-v0/_search [status:200 duration:0.021s]\n",
      "POST https://persyn.es.us-west-2.aws.found.io:443/anna-conversations-v0/_search [status:200 duration:0.028s]\n",
      "POST https://persyn.es.us-west-2.aws.found.io:443/anna-summaries-v0/_update/J-CQ7oMB6EXxeIxU9XnS [status:200 duration:0.029s]\n",
      "POST https://persyn.es.us-west-2.aws.found.io:443/anna-summaries-v0/_search [status:200 duration:0.029s]\n",
      "POST https://persyn.es.us-west-2.aws.found.io:443/anna-conversations-v0/_search [status:200 duration:0.028s]\n",
      "POST https://persyn.es.us-west-2.aws.found.io:443/anna-summaries-v0/_update/Ah2BVYIBGYbVpQ0obrLk [status:200 duration:0.026s]\n",
      "POST https://persyn.es.us-west-2.aws.found.io:443/anna-summaries-v0/_search [status:200 duration:0.020s]\n"
     ]
    },
    {
     "name": "stdout",
     "output_type": "stream",
     "text": [
      "{'_index': 'anna-summaries-v0', '_id': '0RhrWYAB1O6hlTWgaV2v', '_version': 2, 'result': 'updated', '_shards': {'total': 2, 'successful': 2, 'failed': 0}, '_seq_no': 2399, '_primary_term': 17}\n",
      "{'_index': 'anna-summaries-v0', '_id': 'J-CQ7oMB6EXxeIxU9XnS', '_version': 2, 'result': 'updated', '_shards': {'total': 2, 'successful': 2, 'failed': 0}, '_seq_no': 2400, '_primary_term': 17}\n",
      "{'_index': 'anna-summaries-v0', '_id': 'Ah2BVYIBGYbVpQ0obrLk', '_version': 2, 'result': 'updated', '_shards': {'total': 2, 'successful': 2, 'failed': 0}, '_seq_no': 2401, '_primary_term': 17}\n"
     ]
    },
    {
     "name": "stderr",
     "output_type": "stream",
     "text": [
      "POST https://persyn.es.us-west-2.aws.found.io:443/anna-conversations-v0/_search [status:200 duration:0.021s]\n",
      "POST https://persyn.es.us-west-2.aws.found.io:443/anna-summaries-v0/_update/Ka9-VYQBBNi73XUqOKw6 [status:200 duration:0.030s]\n",
      "POST https://persyn.es.us-west-2.aws.found.io:443/anna-summaries-v0/_search [status:200 duration:0.023s]\n",
      "POST https://persyn.es.us-west-2.aws.found.io:443/anna-conversations-v0/_search [status:200 duration:0.021s]\n",
      "POST https://persyn.es.us-west-2.aws.found.io:443/anna-summaries-v0/_update/liOH24IBy5mPdc6PsGlM [status:200 duration:0.023s]\n",
      "POST https://persyn.es.us-west-2.aws.found.io:443/anna-summaries-v0/_search [status:200 duration:0.022s]\n",
      "POST https://persyn.es.us-west-2.aws.found.io:443/anna-conversations-v0/_search [status:200 duration:0.023s]\n",
      "POST https://persyn.es.us-west-2.aws.found.io:443/anna-summaries-v0/_update/dyNegoMBy5mPdc6P5nFz [status:200 duration:0.022s]\n",
      "POST https://persyn.es.us-west-2.aws.found.io:443/anna-summaries-v0/_search [status:200 duration:0.027s]\n"
     ]
    },
    {
     "name": "stdout",
     "output_type": "stream",
     "text": [
      "{'_index': 'anna-summaries-v0', '_id': 'Ka9-VYQBBNi73XUqOKw6', '_version': 2, 'result': 'updated', '_shards': {'total': 2, 'successful': 2, 'failed': 0}, '_seq_no': 2402, '_primary_term': 17}\n",
      "{'_index': 'anna-summaries-v0', '_id': 'liOH24IBy5mPdc6PsGlM', '_version': 2, 'result': 'updated', '_shards': {'total': 2, 'successful': 2, 'failed': 0}, '_seq_no': 2403, '_primary_term': 17}\n",
      "{'_index': 'anna-summaries-v0', '_id': 'dyNegoMBy5mPdc6P5nFz', '_version': 2, 'result': 'updated', '_shards': {'total': 2, 'successful': 2, 'failed': 0}, '_seq_no': 2404, '_primary_term': 17}\n"
     ]
    },
    {
     "name": "stderr",
     "output_type": "stream",
     "text": [
      "POST https://persyn.es.us-west-2.aws.found.io:443/anna-conversations-v0/_search [status:200 duration:0.027s]\n",
      "POST https://persyn.es.us-west-2.aws.found.io:443/anna-summaries-v0/_update/dU1HFYMBRfbdi4KAAVZi [status:200 duration:0.029s]\n",
      "POST https://persyn.es.us-west-2.aws.found.io:443/anna-summaries-v0/_search [status:200 duration:0.031s]\n",
      "POST https://persyn.es.us-west-2.aws.found.io:443/anna-conversations-v0/_search [status:200 duration:0.029s]\n",
      "POST https://persyn.es.us-west-2.aws.found.io:443/anna-summaries-v0/_update/1q88k4QBBNi73XUqpK8X [status:200 duration:0.026s]\n",
      "POST https://persyn.es.us-west-2.aws.found.io:443/anna-summaries-v0/_search [status:200 duration:0.029s]\n",
      "POST https://persyn.es.us-west-2.aws.found.io:443/anna-conversations-v0/_search [status:200 duration:0.027s]\n",
      "POST https://persyn.es.us-west-2.aws.found.io:443/anna-summaries-v0/_update/4SOEW4MBy5mPdc6P7G0A [status:200 duration:0.027s]\n"
     ]
    },
    {
     "name": "stdout",
     "output_type": "stream",
     "text": [
      "{'_index': 'anna-summaries-v0', '_id': 'dU1HFYMBRfbdi4KAAVZi', '_version': 2, 'result': 'updated', '_shards': {'total': 2, 'successful': 2, 'failed': 0}, '_seq_no': 2405, '_primary_term': 17}\n",
      "{'_index': 'anna-summaries-v0', '_id': '1q88k4QBBNi73XUqpK8X', '_version': 2, 'result': 'updated', '_shards': {'total': 2, 'successful': 2, 'failed': 0}, '_seq_no': 2406, '_primary_term': 17}\n",
      "{'_index': 'anna-summaries-v0', '_id': '4SOEW4MBy5mPdc6P7G0A', '_version': 2, 'result': 'updated', '_shards': {'total': 2, 'successful': 2, 'failed': 0}, '_seq_no': 2407, '_primary_term': 17}\n"
     ]
    },
    {
     "name": "stderr",
     "output_type": "stream",
     "text": [
      "POST https://persyn.es.us-west-2.aws.found.io:443/anna-summaries-v0/_search [status:200 duration:0.029s]\n",
      "POST https://persyn.es.us-west-2.aws.found.io:443/anna-conversations-v0/_search [status:200 duration:0.032s]\n",
      "POST https://persyn.es.us-west-2.aws.found.io:443/anna-summaries-v0/_update/yuDNmoMB6EXxeIxUMHZs [status:200 duration:0.024s]\n",
      "POST https://persyn.es.us-west-2.aws.found.io:443/anna-summaries-v0/_search [status:200 duration:0.030s]\n",
      "POST https://persyn.es.us-west-2.aws.found.io:443/anna-conversations-v0/_search [status:200 duration:0.024s]\n",
      "POST https://persyn.es.us-west-2.aws.found.io:443/anna-summaries-v0/_update/TU0n04IBRfbdi4KAl1Ok [status:200 duration:0.028s]\n",
      "POST https://persyn.es.us-west-2.aws.found.io:443/anna-summaries-v0/_search [status:200 duration:0.023s]\n",
      "POST https://persyn.es.us-west-2.aws.found.io:443/anna-conversations-v0/_search [status:200 duration:0.029s]\n",
      "POST https://persyn.es.us-west-2.aws.found.io:443/anna-summaries-v0/_update/2x03BYIBGYbVpQ0o3Y6v [status:200 duration:0.025s]\n",
      "POST https://persyn.es.us-west-2.aws.found.io:443/anna-summaries-v0/_search [status:200 duration:0.027s]\n"
     ]
    },
    {
     "name": "stdout",
     "output_type": "stream",
     "text": [
      "{'_index': 'anna-summaries-v0', '_id': 'yuDNmoMB6EXxeIxUMHZs', '_version': 2, 'result': 'updated', '_shards': {'total': 2, 'successful': 2, 'failed': 0}, '_seq_no': 2408, '_primary_term': 17}\n",
      "{'_index': 'anna-summaries-v0', '_id': 'TU0n04IBRfbdi4KAl1Ok', '_version': 2, 'result': 'updated', '_shards': {'total': 2, 'successful': 2, 'failed': 0}, '_seq_no': 2409, '_primary_term': 17}\n",
      "{'_index': 'anna-summaries-v0', '_id': '2x03BYIBGYbVpQ0o3Y6v', '_version': 2, 'result': 'updated', '_shards': {'total': 2, 'successful': 2, 'failed': 0}, '_seq_no': 2410, '_primary_term': 17}\n"
     ]
    },
    {
     "name": "stderr",
     "output_type": "stream",
     "text": [
      "POST https://persyn.es.us-west-2.aws.found.io:443/anna-conversations-v0/_search [status:200 duration:0.020s]\n",
      "POST https://persyn.es.us-west-2.aws.found.io:443/anna-summaries-v0/_update/U9SFCIEBBCovfdTk1Yx8 [status:200 duration:0.032s]\n",
      "POST https://persyn.es.us-west-2.aws.found.io:443/anna-summaries-v0/_search [status:200 duration:0.026s]\n",
      "POST https://persyn.es.us-west-2.aws.found.io:443/anna-conversations-v0/_search [status:200 duration:0.028s]\n",
      "POST https://persyn.es.us-west-2.aws.found.io:443/anna-summaries-v0/_update/dODv3YMB6EXxeIxUqnjL [status:200 duration:0.029s]\n",
      "POST https://persyn.es.us-west-2.aws.found.io:443/anna-summaries-v0/_search [status:200 duration:0.028s]\n",
      "POST https://persyn.es.us-west-2.aws.found.io:443/anna-conversations-v0/_search [status:200 duration:0.022s]\n",
      "POST https://persyn.es.us-west-2.aws.found.io:443/anna-summaries-v0/_update/ruC3OYQB6EXxeIxUQ345 [status:200 duration:0.023s]\n",
      "POST https://persyn.es.us-west-2.aws.found.io:443/anna-summaries-v0/_search [status:200 duration:0.027s]\n"
     ]
    },
    {
     "name": "stdout",
     "output_type": "stream",
     "text": [
      "{'_index': 'anna-summaries-v0', '_id': 'U9SFCIEBBCovfdTk1Yx8', '_version': 2, 'result': 'updated', '_shards': {'total': 2, 'successful': 2, 'failed': 0}, '_seq_no': 2411, '_primary_term': 17}\n",
      "{'_index': 'anna-summaries-v0', '_id': 'dODv3YMB6EXxeIxUqnjL', '_version': 2, 'result': 'updated', '_shards': {'total': 2, 'successful': 2, 'failed': 0}, '_seq_no': 2412, '_primary_term': 17}\n",
      "{'_index': 'anna-summaries-v0', '_id': 'ruC3OYQB6EXxeIxUQ345', '_version': 2, 'result': 'updated', '_shards': {'total': 2, 'successful': 2, 'failed': 0}, '_seq_no': 2413, '_primary_term': 17}\n"
     ]
    },
    {
     "name": "stderr",
     "output_type": "stream",
     "text": [
      "POST https://persyn.es.us-west-2.aws.found.io:443/anna-conversations-v0/_search [status:200 duration:0.026s]\n",
      "POST https://persyn.es.us-west-2.aws.found.io:443/anna-summaries-v0/_update/QCM58IIBy5mPdc6P62oR [status:200 duration:0.031s]\n",
      "POST https://persyn.es.us-west-2.aws.found.io:443/anna-summaries-v0/_search [status:200 duration:0.033s]\n",
      "POST https://persyn.es.us-west-2.aws.found.io:443/anna-conversations-v0/_search [status:200 duration:0.027s]\n",
      "POST https://persyn.es.us-west-2.aws.found.io:443/anna-summaries-v0/_update/y-BXAYQB6EXxeIxUPXo2 [status:200 duration:0.028s]\n",
      "POST https://persyn.es.us-west-2.aws.found.io:443/anna-summaries-v0/_search [status:200 duration:0.028s]\n",
      "POST https://persyn.es.us-west-2.aws.found.io:443/anna-conversations-v0/_search [status:200 duration:0.027s]\n",
      "POST https://persyn.es.us-west-2.aws.found.io:443/anna-summaries-v0/_update/RuAORIQB6EXxeIxUg3-q [status:200 duration:0.032s]\n"
     ]
    },
    {
     "name": "stdout",
     "output_type": "stream",
     "text": [
      "{'_index': 'anna-summaries-v0', '_id': 'QCM58IIBy5mPdc6P62oR', '_version': 2, 'result': 'updated', '_shards': {'total': 2, 'successful': 2, 'failed': 0}, '_seq_no': 2414, '_primary_term': 17}\n",
      "{'_index': 'anna-summaries-v0', '_id': 'y-BXAYQB6EXxeIxUPXo2', '_version': 2, 'result': 'updated', '_shards': {'total': 2, 'successful': 2, 'failed': 0}, '_seq_no': 2415, '_primary_term': 17}\n",
      "{'_index': 'anna-summaries-v0', '_id': 'RuAORIQB6EXxeIxUg3-q', '_version': 2, 'result': 'updated', '_shards': {'total': 2, 'successful': 2, 'failed': 0}, '_seq_no': 2416, '_primary_term': 17}\n"
     ]
    },
    {
     "name": "stderr",
     "output_type": "stream",
     "text": [
      "POST https://persyn.es.us-west-2.aws.found.io:443/anna-summaries-v0/_search [status:200 duration:0.022s]\n",
      "POST https://persyn.es.us-west-2.aws.found.io:443/anna-conversations-v0/_search [status:200 duration:0.027s]\n",
      "POST https://persyn.es.us-west-2.aws.found.io:443/anna-summaries-v0/_update/dK-604MBBNi73XUqyKPx [status:200 duration:0.027s]\n",
      "POST https://persyn.es.us-west-2.aws.found.io:443/anna-summaries-v0/_search [status:200 duration:0.031s]\n",
      "POST https://persyn.es.us-west-2.aws.found.io:443/anna-conversations-v0/_search [status:200 duration:0.029s]\n",
      "POST https://persyn.es.us-west-2.aws.found.io:443/anna-summaries-v0/_update/C02mcoMBRfbdi4KAuFtM [status:200 duration:0.029s]\n",
      "POST https://persyn.es.us-west-2.aws.found.io:443/anna-summaries-v0/_search [status:200 duration:0.028s]\n",
      "POST https://persyn.es.us-west-2.aws.found.io:443/anna-conversations-v0/_search [status:200 duration:0.027s]\n",
      "POST https://persyn.es.us-west-2.aws.found.io:443/anna-summaries-v0/_update/Nmb0en4Byo-dF4zk_YEv [status:200 duration:0.025s]\n"
     ]
    },
    {
     "name": "stdout",
     "output_type": "stream",
     "text": [
      "{'_index': 'anna-summaries-v0', '_id': 'dK-604MBBNi73XUqyKPx', '_version': 2, 'result': 'updated', '_shards': {'total': 2, 'successful': 2, 'failed': 0}, '_seq_no': 2417, '_primary_term': 17}\n",
      "{'_index': 'anna-summaries-v0', '_id': 'C02mcoMBRfbdi4KAuFtM', '_version': 2, 'result': 'updated', '_shards': {'total': 2, 'successful': 2, 'failed': 0}, '_seq_no': 2418, '_primary_term': 17}\n",
      "{'_index': 'anna-summaries-v0', '_id': 'Nmb0en4Byo-dF4zk_YEv', '_version': 4, 'result': 'updated', '_shards': {'total': 2, 'successful': 2, 'failed': 0}, '_seq_no': 2419, '_primary_term': 17}\n"
     ]
    },
    {
     "name": "stderr",
     "output_type": "stream",
     "text": [
      "POST https://persyn.es.us-west-2.aws.found.io:443/anna-summaries-v0/_search [status:200 duration:0.029s]\n",
      "POST https://persyn.es.us-west-2.aws.found.io:443/anna-conversations-v0/_search [status:200 duration:0.029s]\n",
      "POST https://persyn.es.us-west-2.aws.found.io:443/anna-summaries-v0/_update/n2ZWen4Byo-dF4zkBoCS [status:200 duration:0.022s]\n",
      "POST https://persyn.es.us-west-2.aws.found.io:443/anna-summaries-v0/_search [status:200 duration:0.028s]\n",
      "POST https://persyn.es.us-west-2.aws.found.io:443/anna-conversations-v0/_search [status:200 duration:0.021s]\n",
      "POST https://persyn.es.us-west-2.aws.found.io:443/anna-summaries-v0/_update/hWZTen4Byo-dF4zkoIBw [status:200 duration:0.028s]\n",
      "POST https://persyn.es.us-west-2.aws.found.io:443/anna-summaries-v0/_search [status:200 duration:0.027s]\n",
      "POST https://persyn.es.us-west-2.aws.found.io:443/anna-conversations-v0/_search [status:200 duration:0.024s]\n",
      "POST https://persyn.es.us-west-2.aws.found.io:443/anna-summaries-v0/_update/cmZSen4Byo-dF4zkOIBe [status:200 duration:0.031s]\n",
      "POST https://persyn.es.us-west-2.aws.found.io:443/anna-summaries-v0/_search [status:200 duration:0.026s]\n"
     ]
    },
    {
     "name": "stdout",
     "output_type": "stream",
     "text": [
      "{'_index': 'anna-summaries-v0', '_id': 'n2ZWen4Byo-dF4zkBoCS', '_version': 4, 'result': 'updated', '_shards': {'total': 2, 'successful': 2, 'failed': 0}, '_seq_no': 2420, '_primary_term': 17}\n",
      "{'_index': 'anna-summaries-v0', '_id': 'hWZTen4Byo-dF4zkoIBw', '_version': 4, 'result': 'updated', '_shards': {'total': 2, 'successful': 2, 'failed': 0}, '_seq_no': 2421, '_primary_term': 17}\n",
      "{'_index': 'anna-summaries-v0', '_id': 'cmZSen4Byo-dF4zkOIBe', '_version': 4, 'result': 'updated', '_shards': {'total': 2, 'successful': 2, 'failed': 0}, '_seq_no': 2422, '_primary_term': 17}\n"
     ]
    },
    {
     "name": "stderr",
     "output_type": "stream",
     "text": [
      "POST https://persyn.es.us-west-2.aws.found.io:443/anna-conversations-v0/_search [status:200 duration:0.030s]\n",
      "POST https://persyn.es.us-west-2.aws.found.io:443/anna-summaries-v0/_update/F6-b8IMBBNi73XUq26Tv [status:200 duration:0.027s]\n",
      "POST https://persyn.es.us-west-2.aws.found.io:443/anna-summaries-v0/_search [status:200 duration:0.029s]\n",
      "POST https://persyn.es.us-west-2.aws.found.io:443/anna-conversations-v0/_search [status:200 duration:0.022s]\n",
      "POST https://persyn.es.us-west-2.aws.found.io:443/anna-summaries-v0/_update/pODFEYQB6EXxeIxUr3y3 [status:200 duration:0.026s]\n",
      "POST https://persyn.es.us-west-2.aws.found.io:443/anna-summaries-v0/_search [status:200 duration:0.022s]\n",
      "POST https://persyn.es.us-west-2.aws.found.io:443/anna-conversations-v0/_search [status:200 duration:0.026s]\n",
      "POST https://persyn.es.us-west-2.aws.found.io:443/anna-summaries-v0/_update/4x06BYIBGYbVpQ0o9o6C [status:200 duration:0.027s]\n",
      "POST https://persyn.es.us-west-2.aws.found.io:443/anna-summaries-v0/_search [status:200 duration:0.028s]\n"
     ]
    },
    {
     "name": "stdout",
     "output_type": "stream",
     "text": [
      "{'_index': 'anna-summaries-v0', '_id': 'F6-b8IMBBNi73XUq26Tv', '_version': 2, 'result': 'updated', '_shards': {'total': 2, 'successful': 2, 'failed': 0}, '_seq_no': 2423, '_primary_term': 17}\n",
      "{'_index': 'anna-summaries-v0', '_id': 'pODFEYQB6EXxeIxUr3y3', '_version': 2, 'result': 'updated', '_shards': {'total': 2, 'successful': 2, 'failed': 0}, '_seq_no': 2424, '_primary_term': 17}\n",
      "{'_index': 'anna-summaries-v0', '_id': '4x06BYIBGYbVpQ0o9o6C', '_version': 2, 'result': 'updated', '_shards': {'total': 2, 'successful': 2, 'failed': 0}, '_seq_no': 2425, '_primary_term': 17}\n"
     ]
    },
    {
     "name": "stderr",
     "output_type": "stream",
     "text": [
      "POST https://persyn.es.us-west-2.aws.found.io:443/anna-conversations-v0/_search [status:200 duration:0.027s]\n",
      "POST https://persyn.es.us-west-2.aws.found.io:443/anna-summaries-v0/_update/MGb0en4Byo-dF4zkR4Gf [status:200 duration:0.028s]\n",
      "POST https://persyn.es.us-west-2.aws.found.io:443/anna-summaries-v0/_search [status:200 duration:0.029s]\n",
      "POST https://persyn.es.us-west-2.aws.found.io:443/anna-conversations-v0/_search [status:200 duration:0.029s]\n",
      "POST https://persyn.es.us-west-2.aws.found.io:443/anna-summaries-v0/_update/RU0g04IBRfbdi4KAulMp [status:200 duration:0.028s]\n",
      "POST https://persyn.es.us-west-2.aws.found.io:443/anna-summaries-v0/_search [status:200 duration:0.025s]\n",
      "POST https://persyn.es.us-west-2.aws.found.io:443/anna-conversations-v0/_search [status:200 duration:0.028s]\n",
      "POST https://persyn.es.us-west-2.aws.found.io:443/anna-summaries-v0/_update/s02xwYIBRfbdi4KAJ1FV [status:200 duration:0.028s]\n"
     ]
    },
    {
     "name": "stdout",
     "output_type": "stream",
     "text": [
      "{'_index': 'anna-summaries-v0', '_id': 'MGb0en4Byo-dF4zkR4Gf', '_version': 4, 'result': 'updated', '_shards': {'total': 2, 'successful': 2, 'failed': 0}, '_seq_no': 2426, '_primary_term': 17}\n",
      "{'_index': 'anna-summaries-v0', '_id': 'RU0g04IBRfbdi4KAulMp', '_version': 2, 'result': 'updated', '_shards': {'total': 2, 'successful': 2, 'failed': 0}, '_seq_no': 2427, '_primary_term': 17}\n",
      "{'_index': 'anna-summaries-v0', '_id': 's02xwYIBRfbdi4KAJ1FV', '_version': 2, 'result': 'updated', '_shards': {'total': 2, 'successful': 2, 'failed': 0}, '_seq_no': 2428, '_primary_term': 17}\n"
     ]
    },
    {
     "name": "stderr",
     "output_type": "stream",
     "text": [
      "POST https://persyn.es.us-west-2.aws.found.io:443/anna-summaries-v0/_search [status:200 duration:0.025s]\n",
      "POST https://persyn.es.us-west-2.aws.found.io:443/anna-conversations-v0/_search [status:200 duration:0.028s]\n",
      "POST https://persyn.es.us-west-2.aws.found.io:443/anna-summaries-v0/_update/Mk2VcYMBRfbdi4KAilp3 [status:200 duration:0.029s]\n",
      "POST https://persyn.es.us-west-2.aws.found.io:443/anna-summaries-v0/_search [status:200 duration:0.026s]\n",
      "POST https://persyn.es.us-west-2.aws.found.io:443/anna-conversations-v0/_search [status:200 duration:0.021s]\n",
      "POST https://persyn.es.us-west-2.aws.found.io:443/anna-summaries-v0/_update/2NTl34EBBCovfdTkEb4P [status:200 duration:0.025s]\n",
      "POST https://persyn.es.us-west-2.aws.found.io:443/anna-summaries-v0/_search [status:200 duration:0.022s]\n",
      "POST https://persyn.es.us-west-2.aws.found.io:443/anna-conversations-v0/_search [status:200 duration:0.030s]\n",
      "POST https://persyn.es.us-west-2.aws.found.io:443/anna-summaries-v0/_update/Yx3e5YEBGYbVpQ0oZoLt [status:200 duration:0.024s]\n",
      "POST https://persyn.es.us-west-2.aws.found.io:443/anna-summaries-v0/_search [status:200 duration:0.026s]\n"
     ]
    },
    {
     "name": "stdout",
     "output_type": "stream",
     "text": [
      "{'_index': 'anna-summaries-v0', '_id': 'Mk2VcYMBRfbdi4KAilp3', '_version': 2, 'result': 'updated', '_shards': {'total': 2, 'successful': 2, 'failed': 0}, '_seq_no': 2429, '_primary_term': 17}\n",
      "{'_index': 'anna-summaries-v0', '_id': '2NTl34EBBCovfdTkEb4P', '_version': 2, 'result': 'updated', '_shards': {'total': 2, 'successful': 2, 'failed': 0}, '_seq_no': 2430, '_primary_term': 17}\n",
      "{'_index': 'anna-summaries-v0', '_id': 'Yx3e5YEBGYbVpQ0oZoLt', '_version': 2, 'result': 'updated', '_shards': {'total': 2, 'successful': 2, 'failed': 0}, '_seq_no': 2431, '_primary_term': 17}\n"
     ]
    },
    {
     "name": "stderr",
     "output_type": "stream",
     "text": [
      "POST https://persyn.es.us-west-2.aws.found.io:443/anna-conversations-v0/_search [status:200 duration:0.028s]\n",
      "POST https://persyn.es.us-west-2.aws.found.io:443/anna-summaries-v0/_update/mhhcdoAB1O6hlTWg0Wny [status:200 duration:0.029s]\n",
      "POST https://persyn.es.us-west-2.aws.found.io:443/anna-summaries-v0/_search [status:200 duration:0.027s]\n",
      "POST https://persyn.es.us-west-2.aws.found.io:443/anna-conversations-v0/_search [status:200 duration:0.027s]\n",
      "POST https://persyn.es.us-west-2.aws.found.io:443/anna-summaries-v0/_update/bRh7cIAB1O6hlTWgqWb0 [status:200 duration:0.028s]\n",
      "POST https://persyn.es.us-west-2.aws.found.io:443/anna-summaries-v0/_search [status:200 duration:0.028s]\n",
      "POST https://persyn.es.us-west-2.aws.found.io:443/anna-conversations-v0/_search [status:200 duration:0.027s]\n",
      "POST https://persyn.es.us-west-2.aws.found.io:443/anna-summaries-v0/_update/VeApooQB6EXxeIxUvIVv [status:200 duration:0.031s]\n"
     ]
    },
    {
     "name": "stdout",
     "output_type": "stream",
     "text": [
      "{'_index': 'anna-summaries-v0', '_id': 'mhhcdoAB1O6hlTWg0Wny', '_version': 2, 'result': 'updated', '_shards': {'total': 2, 'successful': 2, 'failed': 0}, '_seq_no': 2432, '_primary_term': 17}\n",
      "{'_index': 'anna-summaries-v0', '_id': 'bRh7cIAB1O6hlTWgqWb0', '_version': 2, 'result': 'updated', '_shards': {'total': 2, 'successful': 2, 'failed': 0}, '_seq_no': 2433, '_primary_term': 17}\n",
      "{'_index': 'anna-summaries-v0', '_id': 'VeApooQB6EXxeIxUvIVv', '_version': 2, 'result': 'updated', '_shards': {'total': 2, 'successful': 2, 'failed': 0}, '_seq_no': 2434, '_primary_term': 17}\n"
     ]
    },
    {
     "name": "stderr",
     "output_type": "stream",
     "text": [
      "POST https://persyn.es.us-west-2.aws.found.io:443/anna-summaries-v0/_search [status:200 duration:0.027s]\n",
      "POST https://persyn.es.us-west-2.aws.found.io:443/anna-conversations-v0/_search [status:200 duration:0.026s]\n",
      "POST https://persyn.es.us-west-2.aws.found.io:443/anna-summaries-v0/_update/cRgPWYAB1O6hlTWg710- [status:200 duration:0.026s]\n",
      "POST https://persyn.es.us-west-2.aws.found.io:443/anna-summaries-v0/_search [status:200 duration:0.029s]\n",
      "POST https://persyn.es.us-west-2.aws.found.io:443/anna-conversations-v0/_search [status:200 duration:0.027s]\n",
      "POST https://persyn.es.us-west-2.aws.found.io:443/anna-summaries-v0/_update/K-Cz7oMB6EXxeIxUcnnw [status:200 duration:0.028s]\n",
      "POST https://persyn.es.us-west-2.aws.found.io:443/anna-summaries-v0/_search [status:200 duration:0.021s]\n",
      "POST https://persyn.es.us-west-2.aws.found.io:443/anna-conversations-v0/_search [status:200 duration:0.022s]\n",
      "POST https://persyn.es.us-west-2.aws.found.io:443/anna-summaries-v0/_update/lmZVen4Byo-dF4zkS4Av [status:200 duration:0.025s]\n",
      "POST https://persyn.es.us-west-2.aws.found.io:443/anna-conversations-v0/_search [status:200 duration:0.029s]\n"
     ]
    },
    {
     "name": "stdout",
     "output_type": "stream",
     "text": [
      "{'_index': 'anna-summaries-v0', '_id': 'cRgPWYAB1O6hlTWg710-', '_version': 2, 'result': 'updated', '_shards': {'total': 2, 'successful': 2, 'failed': 0}, '_seq_no': 2435, '_primary_term': 17}\n",
      "{'_index': 'anna-summaries-v0', '_id': 'K-Cz7oMB6EXxeIxUcnnw', '_version': 2, 'result': 'updated', '_shards': {'total': 2, 'successful': 2, 'failed': 0}, '_seq_no': 2436, '_primary_term': 17}\n",
      "{'_index': 'anna-summaries-v0', '_id': 'lmZVen4Byo-dF4zkS4Av', '_version': 4, 'result': 'noop', '_shards': {'total': 0, 'successful': 0, 'failed': 0}, '_seq_no': 1657, '_primary_term': 17}\n"
     ]
    },
    {
     "name": "stderr",
     "output_type": "stream",
     "text": [
      "POST https://persyn.es.us-west-2.aws.found.io:443/anna-summaries-v0/_update/mWZVen4Byo-dF4zkhYAc [status:200 duration:0.021s]\n",
      "POST https://persyn.es.us-west-2.aws.found.io:443/anna-summaries-v0/_search [status:200 duration:0.028s]\n",
      "POST https://persyn.es.us-west-2.aws.found.io:443/anna-conversations-v0/_search [status:200 duration:0.028s]\n",
      "POST https://persyn.es.us-west-2.aws.found.io:443/anna-summaries-v0/_update/3maXg34Byo-dF4zk2oOd [status:200 duration:0.030s]\n",
      "POST https://persyn.es.us-west-2.aws.found.io:443/anna-summaries-v0/_search [status:200 duration:0.031s]\n",
      "POST https://persyn.es.us-west-2.aws.found.io:443/anna-conversations-v0/_search [status:200 duration:0.028s]\n",
      "POST https://persyn.es.us-west-2.aws.found.io:443/anna-summaries-v0/_update/oGZWen4Byo-dF4zkC4De [status:200 duration:0.026s]\n"
     ]
    },
    {
     "name": "stdout",
     "output_type": "stream",
     "text": [
      "{'_index': 'anna-summaries-v0', '_id': 'mWZVen4Byo-dF4zkhYAc', '_version': 4, 'result': 'noop', '_shards': {'total': 0, 'successful': 0, 'failed': 0}, '_seq_no': 1656, '_primary_term': 17}\n",
      "{'_index': 'anna-summaries-v0', '_id': '3maXg34Byo-dF4zk2oOd', '_version': 4, 'result': 'updated', '_shards': {'total': 2, 'successful': 2, 'failed': 0}, '_seq_no': 2437, '_primary_term': 17}\n",
      "{'_index': 'anna-summaries-v0', '_id': 'oGZWen4Byo-dF4zkC4De', '_version': 4, 'result': 'updated', '_shards': {'total': 2, 'successful': 2, 'failed': 0}, '_seq_no': 2438, '_primary_term': 17}\n"
     ]
    },
    {
     "name": "stderr",
     "output_type": "stream",
     "text": [
      "POST https://persyn.es.us-west-2.aws.found.io:443/anna-summaries-v0/_search [status:200 duration:0.032s]\n",
      "POST https://persyn.es.us-west-2.aws.found.io:443/anna-conversations-v0/_search [status:200 duration:0.028s]\n",
      "POST https://persyn.es.us-west-2.aws.found.io:443/anna-summaries-v0/_update/YmZQen4Byo-dF4zkv4DI [status:200 duration:0.030s]\n",
      "POST https://persyn.es.us-west-2.aws.found.io:443/anna-summaries-v0/_search [status:200 duration:0.030s]\n",
      "POST https://persyn.es.us-west-2.aws.found.io:443/anna-conversations-v0/_search [status:200 duration:0.031s]\n",
      "POST https://persyn.es.us-west-2.aws.found.io:443/anna-summaries-v0/_update/L2b0en4Byo-dF4zkL4Ex [status:200 duration:0.029s]\n",
      "POST https://persyn.es.us-west-2.aws.found.io:443/anna-summaries-v0/_search [status:200 duration:0.034s]\n",
      "POST https://persyn.es.us-west-2.aws.found.io:443/anna-conversations-v0/_search [status:200 duration:0.029s]\n",
      "POST https://persyn.es.us-west-2.aws.found.io:443/anna-summaries-v0/_update/rU3iiYIBRfbdi4KAJ0sU [status:200 duration:0.030s]\n"
     ]
    },
    {
     "name": "stdout",
     "output_type": "stream",
     "text": [
      "{'_index': 'anna-summaries-v0', '_id': 'YmZQen4Byo-dF4zkv4DI', '_version': 4, 'result': 'updated', '_shards': {'total': 2, 'successful': 2, 'failed': 0}, '_seq_no': 2439, '_primary_term': 17}\n",
      "{'_index': 'anna-summaries-v0', '_id': 'L2b0en4Byo-dF4zkL4Ex', '_version': 4, 'result': 'updated', '_shards': {'total': 2, 'successful': 2, 'failed': 0}, '_seq_no': 2440, '_primary_term': 17}\n",
      "{'_index': 'anna-summaries-v0', '_id': 'rU3iiYIBRfbdi4KAJ0sU', '_version': 2, 'result': 'updated', '_shards': {'total': 2, 'successful': 2, 'failed': 0}, '_seq_no': 2441, '_primary_term': 17}\n"
     ]
    },
    {
     "name": "stderr",
     "output_type": "stream",
     "text": [
      "POST https://persyn.es.us-west-2.aws.found.io:443/anna-summaries-v0/_search [status:200 duration:0.025s]\n",
      "POST https://persyn.es.us-west-2.aws.found.io:443/anna-conversations-v0/_search [status:200 duration:0.030s]\n",
      "POST https://persyn.es.us-west-2.aws.found.io:443/anna-summaries-v0/_update/uOC7c4QB6EXxeIxUeIEY [status:200 duration:0.034s]\n",
      "POST https://persyn.es.us-west-2.aws.found.io:443/anna-summaries-v0/_search [status:200 duration:0.023s]\n",
      "POST https://persyn.es.us-west-2.aws.found.io:443/anna-conversations-v0/_search [status:200 duration:0.022s]\n",
      "POST https://persyn.es.us-west-2.aws.found.io:443/anna-summaries-v0/_update/7B39QoIBGYbVpQ0oH6uD [status:200 duration:0.026s]\n",
      "POST https://persyn.es.us-west-2.aws.found.io:443/anna-summaries-v0/_search [status:200 duration:0.027s]\n",
      "POST https://persyn.es.us-west-2.aws.found.io:443/anna-conversations-v0/_search [status:200 duration:0.026s]\n",
      "POST https://persyn.es.us-west-2.aws.found.io:443/anna-summaries-v0/_update/x687m4MBBNi73XUqDqKa [status:200 duration:0.025s]\n",
      "POST https://persyn.es.us-west-2.aws.found.io:443/anna-summaries-v0/_search [status:200 duration:0.026s]\n"
     ]
    },
    {
     "name": "stdout",
     "output_type": "stream",
     "text": [
      "{'_index': 'anna-summaries-v0', '_id': 'uOC7c4QB6EXxeIxUeIEY', '_version': 2, 'result': 'updated', '_shards': {'total': 2, 'successful': 2, 'failed': 0}, '_seq_no': 2442, '_primary_term': 17}\n",
      "{'_index': 'anna-summaries-v0', '_id': '7B39QoIBGYbVpQ0oH6uD', '_version': 2, 'result': 'updated', '_shards': {'total': 2, 'successful': 2, 'failed': 0}, '_seq_no': 2443, '_primary_term': 17}\n",
      "{'_index': 'anna-summaries-v0', '_id': 'x687m4MBBNi73XUqDqKa', '_version': 2, 'result': 'updated', '_shards': {'total': 2, 'successful': 2, 'failed': 0}, '_seq_no': 2444, '_primary_term': 17}\n"
     ]
    },
    {
     "name": "stderr",
     "output_type": "stream",
     "text": [
      "POST https://persyn.es.us-west-2.aws.found.io:443/anna-conversations-v0/_search [status:200 duration:0.028s]\n",
      "POST https://persyn.es.us-west-2.aws.found.io:443/anna-summaries-v0/_update/bK8mb4QBBNi73XUqR60Z [status:200 duration:0.025s]\n",
      "POST https://persyn.es.us-west-2.aws.found.io:443/anna-summaries-v0/_search [status:200 duration:0.024s]\n",
      "POST https://persyn.es.us-west-2.aws.found.io:443/anna-conversations-v0/_search [status:200 duration:0.021s]\n",
      "POST https://persyn.es.us-west-2.aws.found.io:443/anna-summaries-v0/_update/3K91q4QBBNi73XUqPrIL [status:200 duration:0.027s]\n",
      "POST https://persyn.es.us-west-2.aws.found.io:443/anna-summaries-v0/_search [status:200 duration:0.027s]\n",
      "POST https://persyn.es.us-west-2.aws.found.io:443/anna-conversations-v0/_search [status:200 duration:0.026s]\n",
      "POST https://persyn.es.us-west-2.aws.found.io:443/anna-summaries-v0/_update/9ODbl4QB6EXxeIxUboSR [status:200 duration:0.023s]\n",
      "POST https://persyn.es.us-west-2.aws.found.io:443/anna-summaries-v0/_search [status:200 duration:0.030s]\n"
     ]
    },
    {
     "name": "stdout",
     "output_type": "stream",
     "text": [
      "{'_index': 'anna-summaries-v0', '_id': 'bK8mb4QBBNi73XUqR60Z', '_version': 2, 'result': 'updated', '_shards': {'total': 2, 'successful': 2, 'failed': 0}, '_seq_no': 2445, '_primary_term': 17}\n",
      "{'_index': 'anna-summaries-v0', '_id': '3K91q4QBBNi73XUqPrIL', '_version': 2, 'result': 'updated', '_shards': {'total': 2, 'successful': 2, 'failed': 0}, '_seq_no': 2446, '_primary_term': 17}\n",
      "{'_index': 'anna-summaries-v0', '_id': '9ODbl4QB6EXxeIxUboSR', '_version': 2, 'result': 'updated', '_shards': {'total': 2, 'successful': 2, 'failed': 0}, '_seq_no': 2447, '_primary_term': 17}\n"
     ]
    },
    {
     "name": "stderr",
     "output_type": "stream",
     "text": [
      "POST https://persyn.es.us-west-2.aws.found.io:443/anna-conversations-v0/_search [status:200 duration:0.024s]\n",
      "POST https://persyn.es.us-west-2.aws.found.io:443/anna-summaries-v0/_update/o-CcAIQB6EXxeIxUvXpm [status:200 duration:0.028s]\n",
      "POST https://persyn.es.us-west-2.aws.found.io:443/anna-summaries-v0/_search [status:200 duration:0.027s]\n",
      "POST https://persyn.es.us-west-2.aws.found.io:443/anna-conversations-v0/_search [status:200 duration:0.028s]\n",
      "POST https://persyn.es.us-west-2.aws.found.io:443/anna-summaries-v0/_update/a6-304MBBNi73XUqYqMn [status:200 duration:0.031s]\n",
      "POST https://persyn.es.us-west-2.aws.found.io:443/anna-summaries-v0/_search [status:200 duration:0.030s]\n",
      "POST https://persyn.es.us-west-2.aws.found.io:443/anna-conversations-v0/_search [status:200 duration:0.021s]\n",
      "POST https://persyn.es.us-west-2.aws.found.io:443/anna-summaries-v0/_update/E001_4IBRfbdi4KAplaK [status:200 duration:0.024s]\n"
     ]
    },
    {
     "name": "stdout",
     "output_type": "stream",
     "text": [
      "{'_index': 'anna-summaries-v0', '_id': 'o-CcAIQB6EXxeIxUvXpm', '_version': 2, 'result': 'updated', '_shards': {'total': 2, 'successful': 2, 'failed': 0}, '_seq_no': 2448, '_primary_term': 17}\n",
      "{'_index': 'anna-summaries-v0', '_id': 'a6-304MBBNi73XUqYqMn', '_version': 2, 'result': 'updated', '_shards': {'total': 2, 'successful': 2, 'failed': 0}, '_seq_no': 2449, '_primary_term': 17}\n",
      "{'_index': 'anna-summaries-v0', '_id': 'E001_4IBRfbdi4KAplaK', '_version': 2, 'result': 'updated', '_shards': {'total': 2, 'successful': 2, 'failed': 0}, '_seq_no': 2450, '_primary_term': 17}\n"
     ]
    },
    {
     "name": "stderr",
     "output_type": "stream",
     "text": [
      "POST https://persyn.es.us-west-2.aws.found.io:443/anna-summaries-v0/_search [status:200 duration:0.027s]\n",
      "POST https://persyn.es.us-west-2.aws.found.io:443/anna-conversations-v0/_search [status:200 duration:0.029s]\n",
      "POST https://persyn.es.us-west-2.aws.found.io:443/anna-summaries-v0/_update/ueAfAYQB6EXxeIxUM3oX [status:200 duration:0.026s]\n",
      "POST https://persyn.es.us-west-2.aws.found.io:443/anna-summaries-v0/_search [status:200 duration:0.027s]\n",
      "POST https://persyn.es.us-west-2.aws.found.io:443/anna-conversations-v0/_search [status:200 duration:0.028s]\n",
      "POST https://persyn.es.us-west-2.aws.found.io:443/anna-summaries-v0/_update/KGbzen4Byo-dF4zkvIH1 [status:200 duration:0.023s]\n",
      "POST https://persyn.es.us-west-2.aws.found.io:443/anna-summaries-v0/_search [status:200 duration:0.023s]\n",
      "POST https://persyn.es.us-west-2.aws.found.io:443/anna-conversations-v0/_search [status:200 duration:0.028s]\n",
      "POST https://persyn.es.us-west-2.aws.found.io:443/anna-summaries-v0/_update/92aag34Byo-dF4zk5IOj [status:200 duration:0.031s]\n",
      "POST https://persyn.es.us-west-2.aws.found.io:443/anna-summaries-v0/_search [status:200 duration:0.028s]\n"
     ]
    },
    {
     "name": "stdout",
     "output_type": "stream",
     "text": [
      "{'_index': 'anna-summaries-v0', '_id': 'ueAfAYQB6EXxeIxUM3oX', '_version': 2, 'result': 'updated', '_shards': {'total': 2, 'successful': 2, 'failed': 0}, '_seq_no': 2451, '_primary_term': 17}\n",
      "{'_index': 'anna-summaries-v0', '_id': 'KGbzen4Byo-dF4zkvIH1', '_version': 4, 'result': 'updated', '_shards': {'total': 2, 'successful': 2, 'failed': 0}, '_seq_no': 2452, '_primary_term': 17}\n",
      "{'_index': 'anna-summaries-v0', '_id': '92aag34Byo-dF4zk5IOj', '_version': 4, 'result': 'updated', '_shards': {'total': 2, 'successful': 2, 'failed': 0}, '_seq_no': 2453, '_primary_term': 17}\n"
     ]
    },
    {
     "name": "stderr",
     "output_type": "stream",
     "text": [
      "POST https://persyn.es.us-west-2.aws.found.io:443/anna-conversations-v0/_search [status:200 duration:0.031s]\n",
      "POST https://persyn.es.us-west-2.aws.found.io:443/anna-summaries-v0/_update/VOAWEYQB6EXxeIxUAnxg [status:200 duration:0.026s]\n",
      "POST https://persyn.es.us-west-2.aws.found.io:443/anna-summaries-v0/_search [status:200 duration:0.031s]\n",
      "POST https://persyn.es.us-west-2.aws.found.io:443/anna-conversations-v0/_search [status:200 duration:0.023s]\n",
      "POST https://persyn.es.us-west-2.aws.found.io:443/anna-summaries-v0/_update/Pa80_oMBBNi73XUqfqUc [status:200 duration:0.030s]\n",
      "POST https://persyn.es.us-west-2.aws.found.io:443/anna-summaries-v0/_search [status:200 duration:0.028s]\n",
      "POST https://persyn.es.us-west-2.aws.found.io:443/anna-conversations-v0/_search [status:200 duration:0.028s]\n",
      "POST https://persyn.es.us-west-2.aws.found.io:443/anna-summaries-v0/_update/eGZSen4Byo-dF4zkpICI [status:200 duration:0.031s]\n"
     ]
    },
    {
     "name": "stdout",
     "output_type": "stream",
     "text": [
      "{'_index': 'anna-summaries-v0', '_id': 'VOAWEYQB6EXxeIxUAnxg', '_version': 2, 'result': 'updated', '_shards': {'total': 2, 'successful': 2, 'failed': 0}, '_seq_no': 2454, '_primary_term': 17}\n",
      "{'_index': 'anna-summaries-v0', '_id': 'Pa80_oMBBNi73XUqfqUc', '_version': 2, 'result': 'updated', '_shards': {'total': 2, 'successful': 2, 'failed': 0}, '_seq_no': 2455, '_primary_term': 17}\n",
      "{'_index': 'anna-summaries-v0', '_id': 'eGZSen4Byo-dF4zkpICI', '_version': 4, 'result': 'updated', '_shards': {'total': 2, 'successful': 2, 'failed': 0}, '_seq_no': 2456, '_primary_term': 17}\n"
     ]
    },
    {
     "name": "stderr",
     "output_type": "stream",
     "text": [
      "POST https://persyn.es.us-west-2.aws.found.io:443/anna-summaries-v0/_search [status:200 duration:0.030s]\n",
      "POST https://persyn.es.us-west-2.aws.found.io:443/anna-conversations-v0/_search [status:200 duration:0.031s]\n",
      "POST https://persyn.es.us-west-2.aws.found.io:443/anna-summaries-v0/_update/q2YFhX4Byo-dF4zkH4TO [status:200 duration:0.024s]\n",
      "POST https://persyn.es.us-west-2.aws.found.io:443/anna-summaries-v0/_search [status:200 duration:0.030s]\n",
      "POST https://persyn.es.us-west-2.aws.found.io:443/anna-conversations-v0/_search [status:200 duration:0.029s]\n",
      "POST https://persyn.es.us-west-2.aws.found.io:443/anna-summaries-v0/_update/1Bi0A38B1O6hlTWgEErW [status:200 duration:0.025s]\n",
      "POST https://persyn.es.us-west-2.aws.found.io:443/anna-summaries-v0/_search [status:200 duration:0.028s]\n",
      "POST https://persyn.es.us-west-2.aws.found.io:443/anna-conversations-v0/_search [status:200 duration:0.029s]\n",
      "POST https://persyn.es.us-west-2.aws.found.io:443/anna-summaries-v0/_update/0eDmc4QB6EXxeIxUOYF2 [status:200 duration:0.028s]\n"
     ]
    },
    {
     "name": "stdout",
     "output_type": "stream",
     "text": [
      "{'_index': 'anna-summaries-v0', '_id': 'q2YFhX4Byo-dF4zkH4TO', '_version': 4, 'result': 'updated', '_shards': {'total': 2, 'successful': 2, 'failed': 0}, '_seq_no': 2457, '_primary_term': 17}\n",
      "{'_index': 'anna-summaries-v0', '_id': '1Bi0A38B1O6hlTWgEErW', '_version': 2, 'result': 'updated', '_shards': {'total': 2, 'successful': 2, 'failed': 0}, '_seq_no': 2458, '_primary_term': 17}\n",
      "{'_index': 'anna-summaries-v0', '_id': '0eDmc4QB6EXxeIxUOYF2', '_version': 2, 'result': 'updated', '_shards': {'total': 2, 'successful': 2, 'failed': 0}, '_seq_no': 2459, '_primary_term': 17}\n"
     ]
    },
    {
     "name": "stderr",
     "output_type": "stream",
     "text": [
      "POST https://persyn.es.us-west-2.aws.found.io:443/anna-summaries-v0/_search [status:200 duration:0.027s]\n",
      "POST https://persyn.es.us-west-2.aws.found.io:443/anna-conversations-v0/_search [status:200 duration:0.027s]\n",
      "POST https://persyn.es.us-west-2.aws.found.io:443/anna-summaries-v0/_update/Lh2NVYIBGYbVpQ0oFbKY [status:200 duration:0.024s]\n",
      "POST https://persyn.es.us-west-2.aws.found.io:443/anna-summaries-v0/_search [status:200 duration:0.027s]\n",
      "POST https://persyn.es.us-west-2.aws.found.io:443/anna-conversations-v0/_search [status:200 duration:0.025s]\n",
      "POST https://persyn.es.us-west-2.aws.found.io:443/anna-summaries-v0/_update/aeADkYQB6EXxeIxUkoMs [status:200 duration:0.028s]\n",
      "POST https://persyn.es.us-west-2.aws.found.io:443/anna-summaries-v0/_search [status:200 duration:0.027s]\n",
      "POST https://persyn.es.us-west-2.aws.found.io:443/anna-conversations-v0/_search [status:200 duration:0.029s]\n",
      "POST https://persyn.es.us-west-2.aws.found.io:443/anna-summaries-v0/_update/_x1_VYIBGYbVpQ0oB7Ek [status:200 duration:0.025s]\n",
      "POST https://persyn.es.us-west-2.aws.found.io:443/anna-summaries-v0/_search [status:200 duration:0.026s]\n"
     ]
    },
    {
     "name": "stdout",
     "output_type": "stream",
     "text": [
      "{'_index': 'anna-summaries-v0', '_id': 'Lh2NVYIBGYbVpQ0oFbKY', '_version': 2, 'result': 'updated', '_shards': {'total': 2, 'successful': 2, 'failed': 0}, '_seq_no': 2460, '_primary_term': 17}\n",
      "{'_index': 'anna-summaries-v0', '_id': 'aeADkYQB6EXxeIxUkoMs', '_version': 2, 'result': 'updated', '_shards': {'total': 2, 'successful': 2, 'failed': 0}, '_seq_no': 2461, '_primary_term': 17}\n",
      "{'_index': 'anna-summaries-v0', '_id': '_x1_VYIBGYbVpQ0oB7Ek', '_version': 2, 'result': 'updated', '_shards': {'total': 2, 'successful': 2, 'failed': 0}, '_seq_no': 2462, '_primary_term': 17}\n"
     ]
    },
    {
     "name": "stderr",
     "output_type": "stream",
     "text": [
      "POST https://persyn.es.us-west-2.aws.found.io:443/anna-conversations-v0/_search [status:200 duration:0.021s]\n",
      "POST https://persyn.es.us-west-2.aws.found.io:443/anna-summaries-v0/_update/neDfCoQB6EXxeIxUDHsZ [status:200 duration:0.022s]\n",
      "POST https://persyn.es.us-west-2.aws.found.io:443/anna-summaries-v0/_search [status:200 duration:0.027s]\n",
      "POST https://persyn.es.us-west-2.aws.found.io:443/anna-conversations-v0/_search [status:200 duration:0.028s]\n",
      "POST https://persyn.es.us-west-2.aws.found.io:443/anna-summaries-v0/_update/bSMGU4MBy5mPdc6PYG0D [status:200 duration:0.026s]\n",
      "POST https://persyn.es.us-west-2.aws.found.io:443/anna-summaries-v0/_search [status:200 duration:0.028s]\n",
      "POST https://persyn.es.us-west-2.aws.found.io:443/anna-conversations-v0/_search [status:200 duration:0.032s]\n",
      "POST https://persyn.es.us-west-2.aws.found.io:443/anna-summaries-v0/_update/nU02-oIBRfbdi4KA01Vq [status:200 duration:0.024s]\n"
     ]
    },
    {
     "name": "stdout",
     "output_type": "stream",
     "text": [
      "{'_index': 'anna-summaries-v0', '_id': 'neDfCoQB6EXxeIxUDHsZ', '_version': 2, 'result': 'updated', '_shards': {'total': 2, 'successful': 2, 'failed': 0}, '_seq_no': 2463, '_primary_term': 17}\n",
      "{'_index': 'anna-summaries-v0', '_id': 'bSMGU4MBy5mPdc6PYG0D', '_version': 2, 'result': 'updated', '_shards': {'total': 2, 'successful': 2, 'failed': 0}, '_seq_no': 2464, '_primary_term': 17}\n",
      "{'_index': 'anna-summaries-v0', '_id': 'nU02-oIBRfbdi4KA01Vq', '_version': 2, 'result': 'updated', '_shards': {'total': 2, 'successful': 2, 'failed': 0}, '_seq_no': 2465, '_primary_term': 17}\n"
     ]
    },
    {
     "name": "stderr",
     "output_type": "stream",
     "text": [
      "POST https://persyn.es.us-west-2.aws.found.io:443/anna-summaries-v0/_search [status:200 duration:0.025s]\n",
      "POST https://persyn.es.us-west-2.aws.found.io:443/anna-conversations-v0/_search [status:200 duration:0.024s]\n",
      "POST https://persyn.es.us-west-2.aws.found.io:443/anna-summaries-v0/_update/mh1HLYIBGYbVpQ0oEKPI [status:200 duration:0.030s]\n",
      "POST https://persyn.es.us-west-2.aws.found.io:443/anna-summaries-v0/_search [status:200 duration:0.020s]\n",
      "POST https://persyn.es.us-west-2.aws.found.io:443/anna-conversations-v0/_search [status:200 duration:0.025s]\n",
      "POST https://persyn.es.us-west-2.aws.found.io:443/anna-summaries-v0/_update/fK8gkoQBBNi73XUqXK8U [status:200 duration:0.023s]\n",
      "POST https://persyn.es.us-west-2.aws.found.io:443/anna-summaries-v0/_search [status:200 duration:0.028s]\n",
      "POST https://persyn.es.us-west-2.aws.found.io:443/anna-conversations-v0/_search [status:200 duration:0.027s]\n",
      "POST https://persyn.es.us-west-2.aws.found.io:443/anna-summaries-v0/_update/zxhyc4AB1O6hlTWgLGjv [status:200 duration:0.025s]\n",
      "POST https://persyn.es.us-west-2.aws.found.io:443/anna-summaries-v0/_search [status:200 duration:0.027s]\n"
     ]
    },
    {
     "name": "stdout",
     "output_type": "stream",
     "text": [
      "{'_index': 'anna-summaries-v0', '_id': 'mh1HLYIBGYbVpQ0oEKPI', '_version': 2, 'result': 'updated', '_shards': {'total': 2, 'successful': 2, 'failed': 0}, '_seq_no': 2466, '_primary_term': 17}\n",
      "{'_index': 'anna-summaries-v0', '_id': 'fK8gkoQBBNi73XUqXK8U', '_version': 2, 'result': 'updated', '_shards': {'total': 2, 'successful': 2, 'failed': 0}, '_seq_no': 2467, '_primary_term': 17}\n",
      "{'_index': 'anna-summaries-v0', '_id': 'zxhyc4AB1O6hlTWgLGjv', '_version': 2, 'result': 'updated', '_shards': {'total': 2, 'successful': 2, 'failed': 0}, '_seq_no': 2468, '_primary_term': 17}\n"
     ]
    },
    {
     "name": "stderr",
     "output_type": "stream",
     "text": [
      "POST https://persyn.es.us-west-2.aws.found.io:443/anna-conversations-v0/_search [status:200 duration:0.032s]\n",
      "POST https://persyn.es.us-west-2.aws.found.io:443/anna-summaries-v0/_update/gGZTen4Byo-dF4zkRoC7 [status:200 duration:0.031s]\n",
      "POST https://persyn.es.us-west-2.aws.found.io:443/anna-summaries-v0/_search [status:200 duration:0.027s]\n",
      "POST https://persyn.es.us-west-2.aws.found.io:443/anna-conversations-v0/_search [status:200 duration:0.022s]\n",
      "POST https://persyn.es.us-west-2.aws.found.io:443/anna-summaries-v0/_update/Imbzen4Byo-dF4zkIoFR [status:200 duration:0.026s]\n",
      "POST https://persyn.es.us-west-2.aws.found.io:443/anna-summaries-v0/_search [status:200 duration:0.028s]\n",
      "POST https://persyn.es.us-west-2.aws.found.io:443/anna-conversations-v0/_search [status:200 duration:0.029s]\n",
      "POST https://persyn.es.us-west-2.aws.found.io:443/anna-summaries-v0/_update/yiPCOIMBy5mPdc6PxGxU [status:200 duration:0.029s]\n"
     ]
    },
    {
     "name": "stdout",
     "output_type": "stream",
     "text": [
      "{'_index': 'anna-summaries-v0', '_id': 'gGZTen4Byo-dF4zkRoC7', '_version': 4, 'result': 'updated', '_shards': {'total': 2, 'successful': 2, 'failed': 0}, '_seq_no': 2469, '_primary_term': 17}\n",
      "{'_index': 'anna-summaries-v0', '_id': 'Imbzen4Byo-dF4zkIoFR', '_version': 4, 'result': 'updated', '_shards': {'total': 2, 'successful': 2, 'failed': 0}, '_seq_no': 2470, '_primary_term': 17}\n",
      "{'_index': 'anna-summaries-v0', '_id': 'yiPCOIMBy5mPdc6PxGxU', '_version': 2, 'result': 'updated', '_shards': {'total': 2, 'successful': 2, 'failed': 0}, '_seq_no': 2471, '_primary_term': 17}\n"
     ]
    },
    {
     "name": "stderr",
     "output_type": "stream",
     "text": [
      "POST https://persyn.es.us-west-2.aws.found.io:443/anna-summaries-v0/_search [status:200 duration:0.031s]\n",
      "POST https://persyn.es.us-west-2.aws.found.io:443/anna-conversations-v0/_search [status:200 duration:0.022s]\n",
      "POST https://persyn.es.us-west-2.aws.found.io:443/anna-summaries-v0/_update/v683k4QBBNi73XUqDq81 [status:200 duration:0.032s]\n",
      "POST https://persyn.es.us-west-2.aws.found.io:443/anna-summaries-v0/_search [status:200 duration:0.028s]\n",
      "POST https://persyn.es.us-west-2.aws.found.io:443/anna-conversations-v0/_search [status:200 duration:0.024s]\n",
      "POST https://persyn.es.us-west-2.aws.found.io:443/anna-summaries-v0/_update/g2ZTen4Byo-dF4zkgYBD [status:200 duration:0.026s]\n",
      "POST https://persyn.es.us-west-2.aws.found.io:443/anna-summaries-v0/_search [status:200 duration:0.035s]\n",
      "POST https://persyn.es.us-west-2.aws.found.io:443/anna-conversations-v0/_search [status:200 duration:0.030s]\n",
      "POST https://persyn.es.us-west-2.aws.found.io:443/anna-summaries-v0/_update/Lmb0en4Byo-dF4zkHYEU [status:200 duration:0.028s]\n"
     ]
    },
    {
     "name": "stdout",
     "output_type": "stream",
     "text": [
      "{'_index': 'anna-summaries-v0', '_id': 'v683k4QBBNi73XUqDq81', '_version': 2, 'result': 'updated', '_shards': {'total': 2, 'successful': 2, 'failed': 0}, '_seq_no': 2472, '_primary_term': 17}\n",
      "{'_index': 'anna-summaries-v0', '_id': 'g2ZTen4Byo-dF4zkgYBD', '_version': 4, 'result': 'updated', '_shards': {'total': 2, 'successful': 2, 'failed': 0}, '_seq_no': 2473, '_primary_term': 17}\n",
      "{'_index': 'anna-summaries-v0', '_id': 'Lmb0en4Byo-dF4zkHYEU', '_version': 4, 'result': 'updated', '_shards': {'total': 2, 'successful': 2, 'failed': 0}, '_seq_no': 2474, '_primary_term': 17}\n"
     ]
    },
    {
     "name": "stderr",
     "output_type": "stream",
     "text": [
      "POST https://persyn.es.us-west-2.aws.found.io:443/anna-summaries-v0/_search [status:200 duration:0.032s]\n",
      "POST https://persyn.es.us-west-2.aws.found.io:443/anna-conversations-v0/_search [status:200 duration:0.029s]\n",
      "POST https://persyn.es.us-west-2.aws.found.io:443/anna-summaries-v0/_update/DK9lRYQBBNi73XUqHKuP [status:200 duration:0.030s]\n",
      "POST https://persyn.es.us-west-2.aws.found.io:443/anna-summaries-v0/_search [status:200 duration:0.030s]\n",
      "POST https://persyn.es.us-west-2.aws.found.io:443/anna-conversations-v0/_search [status:200 duration:0.033s]\n",
      "POST https://persyn.es.us-west-2.aws.found.io:443/anna-summaries-v0/_update/XWZQen4Byo-dF4zkSICb [status:200 duration:0.026s]\n",
      "POST https://persyn.es.us-west-2.aws.found.io:443/anna-summaries-v0/_search [status:200 duration:0.028s]\n",
      "POST https://persyn.es.us-west-2.aws.found.io:443/anna-conversations-v0/_search [status:200 duration:0.029s]\n",
      "POST https://persyn.es.us-west-2.aws.found.io:443/anna-summaries-v0/_update/dGZSen4Byo-dF4zkYYDD [status:200 duration:0.031s]\n"
     ]
    },
    {
     "name": "stdout",
     "output_type": "stream",
     "text": [
      "{'_index': 'anna-summaries-v0', '_id': 'DK9lRYQBBNi73XUqHKuP', '_version': 2, 'result': 'updated', '_shards': {'total': 2, 'successful': 2, 'failed': 0}, '_seq_no': 2475, '_primary_term': 17}\n",
      "{'_index': 'anna-summaries-v0', '_id': 'XWZQen4Byo-dF4zkSICb', '_version': 4, 'result': 'updated', '_shards': {'total': 2, 'successful': 2, 'failed': 0}, '_seq_no': 2476, '_primary_term': 17}\n",
      "{'_index': 'anna-summaries-v0', '_id': 'dGZSen4Byo-dF4zkYYDD', '_version': 4, 'result': 'updated', '_shards': {'total': 2, 'successful': 2, 'failed': 0}, '_seq_no': 2477, '_primary_term': 17}\n"
     ]
    },
    {
     "name": "stderr",
     "output_type": "stream",
     "text": [
      "POST https://persyn.es.us-west-2.aws.found.io:443/anna-summaries-v0/_search [status:200 duration:0.027s]\n",
      "POST https://persyn.es.us-west-2.aws.found.io:443/anna-conversations-v0/_search [status:200 duration:0.032s]\n",
      "POST https://persyn.es.us-west-2.aws.found.io:443/anna-summaries-v0/_update/Gq-e8IMBBNi73XUqIqRC [status:200 duration:0.026s]\n",
      "POST https://persyn.es.us-west-2.aws.found.io:443/anna-summaries-v0/_search [status:200 duration:0.031s]\n",
      "POST https://persyn.es.us-west-2.aws.found.io:443/anna-conversations-v0/_search [status:200 duration:0.027s]\n",
      "POST https://persyn.es.us-west-2.aws.found.io:443/anna-summaries-v0/_update/gOC9moMB6EXxeIxUrXYW [status:200 duration:0.029s]\n",
      "POST https://persyn.es.us-west-2.aws.found.io:443/anna-summaries-v0/_search [status:200 duration:0.025s]\n",
      "POST https://persyn.es.us-west-2.aws.found.io:443/anna-conversations-v0/_search [status:200 duration:0.030s]\n",
      "POST https://persyn.es.us-west-2.aws.found.io:443/anna-summaries-v0/_update/mq86koQBBNi73XUqeq-1 [status:200 duration:0.029s]\n"
     ]
    },
    {
     "name": "stdout",
     "output_type": "stream",
     "text": [
      "{'_index': 'anna-summaries-v0', '_id': 'Gq-e8IMBBNi73XUqIqRC', '_version': 2, 'result': 'updated', '_shards': {'total': 2, 'successful': 2, 'failed': 0}, '_seq_no': 2478, '_primary_term': 17}\n",
      "{'_index': 'anna-summaries-v0', '_id': 'gOC9moMB6EXxeIxUrXYW', '_version': 2, 'result': 'updated', '_shards': {'total': 2, 'successful': 2, 'failed': 0}, '_seq_no': 2479, '_primary_term': 17}\n",
      "{'_index': 'anna-summaries-v0', '_id': 'mq86koQBBNi73XUqeq-1', '_version': 2, 'result': 'updated', '_shards': {'total': 2, 'successful': 2, 'failed': 0}, '_seq_no': 2480, '_primary_term': 17}\n"
     ]
    },
    {
     "name": "stderr",
     "output_type": "stream",
     "text": [
      "POST https://persyn.es.us-west-2.aws.found.io:443/anna-summaries-v0/_search [status:200 duration:0.027s]\n",
      "POST https://persyn.es.us-west-2.aws.found.io:443/anna-conversations-v0/_search [status:200 duration:0.022s]\n",
      "POST https://persyn.es.us-west-2.aws.found.io:443/anna-summaries-v0/_update/l2ZVen4Byo-dF4zkWoDl [status:200 duration:0.026s]\n",
      "POST https://persyn.es.us-west-2.aws.found.io:443/anna-summaries-v0/_search [status:200 duration:0.024s]\n",
      "POST https://persyn.es.us-west-2.aws.found.io:443/anna-conversations-v0/_search [status:200 duration:0.032s]\n",
      "POST https://persyn.es.us-west-2.aws.found.io:443/anna-summaries-v0/_update/umaDiX4Byo-dF4zk24V5 [status:200 duration:0.025s]\n",
      "POST https://persyn.es.us-west-2.aws.found.io:443/anna-summaries-v0/_search [status:200 duration:0.028s]\n",
      "POST https://persyn.es.us-west-2.aws.found.io:443/anna-conversations-v0/_search [status:200 duration:0.027s]\n",
      "POST https://persyn.es.us-west-2.aws.found.io:443/anna-summaries-v0/_update/qSMCvoIBy5mPdc6PU2fl [status:200 duration:0.026s]\n"
     ]
    },
    {
     "name": "stdout",
     "output_type": "stream",
     "text": [
      "{'_index': 'anna-summaries-v0', '_id': 'l2ZVen4Byo-dF4zkWoDl', '_version': 4, 'result': 'updated', '_shards': {'total': 2, 'successful': 2, 'failed': 0}, '_seq_no': 2481, '_primary_term': 17}\n",
      "{'_index': 'anna-summaries-v0', '_id': 'umaDiX4Byo-dF4zk24V5', '_version': 4, 'result': 'updated', '_shards': {'total': 2, 'successful': 2, 'failed': 0}, '_seq_no': 2482, '_primary_term': 17}\n",
      "{'_index': 'anna-summaries-v0', '_id': 'qSMCvoIBy5mPdc6PU2fl', '_version': 2, 'result': 'updated', '_shards': {'total': 2, 'successful': 2, 'failed': 0}, '_seq_no': 2483, '_primary_term': 17}\n"
     ]
    },
    {
     "name": "stderr",
     "output_type": "stream",
     "text": [
      "POST https://persyn.es.us-west-2.aws.found.io:443/anna-summaries-v0/_search [status:200 duration:0.027s]\n",
      "POST https://persyn.es.us-west-2.aws.found.io:443/anna-conversations-v0/_search [status:200 duration:0.025s]\n",
      "POST https://persyn.es.us-west-2.aws.found.io:443/anna-summaries-v0/_update/cq8fkoQBBNi73XUqFK-x [status:200 duration:0.029s]\n",
      "POST https://persyn.es.us-west-2.aws.found.io:443/anna-summaries-v0/_search [status:200 duration:0.027s]\n",
      "POST https://persyn.es.us-west-2.aws.found.io:443/anna-conversations-v0/_search [status:200 duration:0.022s]\n",
      "POST https://persyn.es.us-west-2.aws.found.io:443/anna-summaries-v0/_update/zk0j_IIBRfbdi4KAxlX7 [status:200 duration:0.025s]\n",
      "POST https://persyn.es.us-west-2.aws.found.io:443/anna-summaries-v0/_search [status:200 duration:0.026s]\n",
      "POST https://persyn.es.us-west-2.aws.found.io:443/anna-conversations-v0/_search [status:200 duration:0.027s]\n",
      "POST https://persyn.es.us-west-2.aws.found.io:443/anna-summaries-v0/_update/utTd34EBBCovfdTkd75Q [status:200 duration:0.024s]\n",
      "POST https://persyn.es.us-west-2.aws.found.io:443/anna-summaries-v0/_search [status:200 duration:0.026s]\n"
     ]
    },
    {
     "name": "stdout",
     "output_type": "stream",
     "text": [
      "{'_index': 'anna-summaries-v0', '_id': 'cq8fkoQBBNi73XUqFK-x', '_version': 2, 'result': 'updated', '_shards': {'total': 2, 'successful': 2, 'failed': 0}, '_seq_no': 2484, '_primary_term': 17}\n",
      "{'_index': 'anna-summaries-v0', '_id': 'zk0j_IIBRfbdi4KAxlX7', '_version': 2, 'result': 'updated', '_shards': {'total': 2, 'successful': 2, 'failed': 0}, '_seq_no': 2485, '_primary_term': 17}\n",
      "{'_index': 'anna-summaries-v0', '_id': 'utTd34EBBCovfdTkd75Q', '_version': 2, 'result': 'updated', '_shards': {'total': 2, 'successful': 2, 'failed': 0}, '_seq_no': 2486, '_primary_term': 17}\n"
     ]
    },
    {
     "name": "stderr",
     "output_type": "stream",
     "text": [
      "POST https://persyn.es.us-west-2.aws.found.io:443/anna-conversations-v0/_search [status:200 duration:0.028s]\n",
      "POST https://persyn.es.us-west-2.aws.found.io:443/anna-summaries-v0/_update/ttTVL4EBBCovfdTk35Vs [status:200 duration:0.025s]\n",
      "POST https://persyn.es.us-west-2.aws.found.io:443/anna-summaries-v0/_search [status:200 duration:0.027s]\n",
      "POST https://persyn.es.us-west-2.aws.found.io:443/anna-conversations-v0/_search [status:200 duration:0.031s]\n",
      "POST https://persyn.es.us-west-2.aws.found.io:443/anna-summaries-v0/_update/4-B-l4QB6EXxeIxUx4Ri [status:200 duration:0.029s]\n",
      "POST https://persyn.es.us-west-2.aws.found.io:443/anna-summaries-v0/_search [status:200 duration:0.027s]\n",
      "POST https://persyn.es.us-west-2.aws.found.io:443/anna-conversations-v0/_search [status:200 duration:0.029s]\n",
      "POST https://persyn.es.us-west-2.aws.found.io:443/anna-summaries-v0/_update/o-DLToQB6EXxeIxUAH9s [status:200 duration:0.033s]\n"
     ]
    },
    {
     "name": "stdout",
     "output_type": "stream",
     "text": [
      "{'_index': 'anna-summaries-v0', '_id': 'ttTVL4EBBCovfdTk35Vs', '_version': 2, 'result': 'updated', '_shards': {'total': 2, 'successful': 2, 'failed': 0}, '_seq_no': 2487, '_primary_term': 17}\n",
      "{'_index': 'anna-summaries-v0', '_id': '4-B-l4QB6EXxeIxUx4Ri', '_version': 2, 'result': 'updated', '_shards': {'total': 2, 'successful': 2, 'failed': 0}, '_seq_no': 2488, '_primary_term': 17}\n",
      "{'_index': 'anna-summaries-v0', '_id': 'o-DLToQB6EXxeIxUAH9s', '_version': 2, 'result': 'updated', '_shards': {'total': 2, 'successful': 2, 'failed': 0}, '_seq_no': 2489, '_primary_term': 17}\n"
     ]
    },
    {
     "name": "stderr",
     "output_type": "stream",
     "text": [
      "POST https://persyn.es.us-west-2.aws.found.io:443/anna-summaries-v0/_search [status:200 duration:0.022s]\n",
      "POST https://persyn.es.us-west-2.aws.found.io:443/anna-conversations-v0/_search [status:200 duration:0.031s]\n",
      "POST https://persyn.es.us-west-2.aws.found.io:443/anna-summaries-v0/_update/1E3RqYIBRfbdi4KAY04H [status:200 duration:0.028s]\n",
      "POST https://persyn.es.us-west-2.aws.found.io:443/anna-summaries-v0/_search [status:200 duration:0.029s]\n",
      "POST https://persyn.es.us-west-2.aws.found.io:443/anna-conversations-v0/_search [status:200 duration:0.026s]\n",
      "POST https://persyn.es.us-west-2.aws.found.io:443/anna-summaries-v0/_update/KuBGA4QB6EXxeIxUgntA [status:200 duration:0.030s]\n",
      "POST https://persyn.es.us-west-2.aws.found.io:443/anna-summaries-v0/_search [status:200 duration:0.029s]\n",
      "POST https://persyn.es.us-west-2.aws.found.io:443/anna-conversations-v0/_search [status:200 duration:0.028s]\n",
      "POST https://persyn.es.us-west-2.aws.found.io:443/anna-summaries-v0/_update/ihiP-34B1O6hlTWgRkpu [status:200 duration:0.027s]\n"
     ]
    },
    {
     "name": "stdout",
     "output_type": "stream",
     "text": [
      "{'_index': 'anna-summaries-v0', '_id': '1E3RqYIBRfbdi4KAY04H', '_version': 2, 'result': 'updated', '_shards': {'total': 2, 'successful': 2, 'failed': 0}, '_seq_no': 2490, '_primary_term': 17}\n",
      "{'_index': 'anna-summaries-v0', '_id': 'KuBGA4QB6EXxeIxUgntA', '_version': 2, 'result': 'updated', '_shards': {'total': 2, 'successful': 2, 'failed': 0}, '_seq_no': 2491, '_primary_term': 17}\n",
      "{'_index': 'anna-summaries-v0', '_id': 'ihiP-34B1O6hlTWgRkpu', '_version': 2, 'result': 'updated', '_shards': {'total': 2, 'successful': 2, 'failed': 0}, '_seq_no': 2492, '_primary_term': 17}\n"
     ]
    },
    {
     "name": "stderr",
     "output_type": "stream",
     "text": [
      "POST https://persyn.es.us-west-2.aws.found.io:443/anna-summaries-v0/_search [status:200 duration:0.028s]\n",
      "POST https://persyn.es.us-west-2.aws.found.io:443/anna-conversations-v0/_search [status:200 duration:0.026s]\n",
      "POST https://persyn.es.us-west-2.aws.found.io:443/anna-summaries-v0/_update/ueBEOoQB6EXxeIxUR362 [status:200 duration:0.025s]\n",
      "POST https://persyn.es.us-west-2.aws.found.io:443/anna-summaries-v0/_search [status:200 duration:0.030s]\n",
      "POST https://persyn.es.us-west-2.aws.found.io:443/anna-conversations-v0/_search [status:200 duration:0.022s]\n",
      "POST https://persyn.es.us-west-2.aws.found.io:443/anna-summaries-v0/_update/J2bzen4Byo-dF4zknoHi [status:200 duration:0.028s]\n",
      "POST https://persyn.es.us-west-2.aws.found.io:443/anna-summaries-v0/_search [status:200 duration:0.026s]\n",
      "POST https://persyn.es.us-west-2.aws.found.io:443/anna-conversations-v0/_search [status:200 duration:0.030s]\n",
      "POST https://persyn.es.us-west-2.aws.found.io:443/anna-summaries-v0/_update/dWZSen4Byo-dF4zkb4Cz [status:200 duration:0.027s]\n",
      "POST https://persyn.es.us-west-2.aws.found.io:443/anna-summaries-v0/_search [status:200 duration:0.023s]\n"
     ]
    },
    {
     "name": "stdout",
     "output_type": "stream",
     "text": [
      "{'_index': 'anna-summaries-v0', '_id': 'ueBEOoQB6EXxeIxUR362', '_version': 2, 'result': 'updated', '_shards': {'total': 2, 'successful': 2, 'failed': 0}, '_seq_no': 2493, '_primary_term': 17}\n",
      "{'_index': 'anna-summaries-v0', '_id': 'J2bzen4Byo-dF4zknoHi', '_version': 4, 'result': 'updated', '_shards': {'total': 2, 'successful': 2, 'failed': 0}, '_seq_no': 2494, '_primary_term': 17}\n",
      "{'_index': 'anna-summaries-v0', '_id': 'dWZSen4Byo-dF4zkb4Cz', '_version': 4, 'result': 'updated', '_shards': {'total': 2, 'successful': 2, 'failed': 0}, '_seq_no': 2495, '_primary_term': 17}\n"
     ]
    },
    {
     "name": "stderr",
     "output_type": "stream",
     "text": [
      "POST https://persyn.es.us-west-2.aws.found.io:443/anna-conversations-v0/_search [status:200 duration:0.028s]\n",
      "POST https://persyn.es.us-west-2.aws.found.io:443/anna-summaries-v0/_update/22bDen4Byo-dF4zk_ICG [status:200 duration:0.025s]\n",
      "POST https://persyn.es.us-west-2.aws.found.io:443/anna-summaries-v0/_search [status:200 duration:0.027s]\n",
      "POST https://persyn.es.us-west-2.aws.found.io:443/anna-conversations-v0/_search [status:200 duration:0.022s]\n",
      "POST https://persyn.es.us-west-2.aws.found.io:443/anna-summaries-v0/_update/pGZWen4Byo-dF4zkcYCZ [status:200 duration:0.028s]\n",
      "POST https://persyn.es.us-west-2.aws.found.io:443/anna-summaries-v0/_search [status:200 duration:0.031s]\n",
      "POST https://persyn.es.us-west-2.aws.found.io:443/anna-conversations-v0/_search [status:200 duration:0.021s]\n",
      "POST https://persyn.es.us-west-2.aws.found.io:443/anna-summaries-v0/_update/6q96q4QBBNi73XUqD7IH [status:200 duration:0.023s]\n",
      "POST https://persyn.es.us-west-2.aws.found.io:443/anna-summaries-v0/_search [status:200 duration:0.027s]\n"
     ]
    },
    {
     "name": "stdout",
     "output_type": "stream",
     "text": [
      "{'_index': 'anna-summaries-v0', '_id': '22bDen4Byo-dF4zk_ICG', '_version': 4, 'result': 'updated', '_shards': {'total': 2, 'successful': 2, 'failed': 0}, '_seq_no': 2496, '_primary_term': 17}\n",
      "{'_index': 'anna-summaries-v0', '_id': 'pGZWen4Byo-dF4zkcYCZ', '_version': 4, 'result': 'updated', '_shards': {'total': 2, 'successful': 2, 'failed': 0}, '_seq_no': 2497, '_primary_term': 17}\n",
      "{'_index': 'anna-summaries-v0', '_id': '6q96q4QBBNi73XUqD7IH', '_version': 2, 'result': 'updated', '_shards': {'total': 2, 'successful': 2, 'failed': 0}, '_seq_no': 2498, '_primary_term': 17}\n"
     ]
    },
    {
     "name": "stderr",
     "output_type": "stream",
     "text": [
      "POST https://persyn.es.us-west-2.aws.found.io:443/anna-conversations-v0/_search [status:200 duration:0.029s]\n",
      "POST https://persyn.es.us-west-2.aws.found.io:443/anna-summaries-v0/_update/V9SYMIEBBCovfdTkk5ct [status:200 duration:0.025s]\n",
      "POST https://persyn.es.us-west-2.aws.found.io:443/anna-summaries-v0/_search [status:200 duration:0.026s]\n",
      "POST https://persyn.es.us-west-2.aws.found.io:443/anna-conversations-v0/_search [status:200 duration:0.028s]\n",
      "POST https://persyn.es.us-west-2.aws.found.io:443/anna-summaries-v0/_update/VK-0EoQBBNi73XUqrqrh [status:200 duration:0.031s]\n",
      "POST https://persyn.es.us-west-2.aws.found.io:443/anna-summaries-v0/_search [status:200 duration:0.026s]\n",
      "POST https://persyn.es.us-west-2.aws.found.io:443/anna-conversations-v0/_search [status:200 duration:0.027s]\n",
      "POST https://persyn.es.us-west-2.aws.found.io:443/anna-summaries-v0/_update/a-CPKoQB6EXxeIxUCX7F [status:200 duration:0.029s]\n"
     ]
    },
    {
     "name": "stdout",
     "output_type": "stream",
     "text": [
      "{'_index': 'anna-summaries-v0', '_id': 'V9SYMIEBBCovfdTkk5ct', '_version': 2, 'result': 'updated', '_shards': {'total': 2, 'successful': 2, 'failed': 0}, '_seq_no': 2499, '_primary_term': 17}\n",
      "{'_index': 'anna-summaries-v0', '_id': 'VK-0EoQBBNi73XUqrqrh', '_version': 2, 'result': 'updated', '_shards': {'total': 2, 'successful': 2, 'failed': 0}, '_seq_no': 2500, '_primary_term': 17}\n",
      "{'_index': 'anna-summaries-v0', '_id': 'a-CPKoQB6EXxeIxUCX7F', '_version': 2, 'result': 'updated', '_shards': {'total': 2, 'successful': 2, 'failed': 0}, '_seq_no': 2501, '_primary_term': 17}\n"
     ]
    },
    {
     "name": "stderr",
     "output_type": "stream",
     "text": [
      "POST https://persyn.es.us-west-2.aws.found.io:443/anna-summaries-v0/_search [status:200 duration:0.022s]\n",
      "POST https://persyn.es.us-west-2.aws.found.io:443/anna-conversations-v0/_search [status:200 duration:0.027s]\n",
      "POST https://persyn.es.us-west-2.aws.found.io:443/anna-summaries-v0/_update/CCN6FYMBy5mPdc6PT2yn [status:200 duration:0.029s]\n",
      "POST https://persyn.es.us-west-2.aws.found.io:443/anna-summaries-v0/_search [status:200 duration:0.026s]\n",
      "POST https://persyn.es.us-west-2.aws.found.io:443/anna-conversations-v0/_search [status:200 duration:0.029s]\n",
      "POST https://persyn.es.us-west-2.aws.found.io:443/anna-summaries-v0/_update/dSMshYIBy5mPdc6PEmUK [status:200 duration:0.025s]\n",
      "POST https://persyn.es.us-west-2.aws.found.io:443/anna-summaries-v0/_search [status:200 duration:0.024s]\n",
      "POST https://persyn.es.us-west-2.aws.found.io:443/anna-conversations-v0/_search [status:200 duration:0.028s]\n",
      "POST https://persyn.es.us-west-2.aws.found.io:443/anna-summaries-v0/_update/ciPFaoMBy5mPdc6PL2_N [status:200 duration:0.028s]\n"
     ]
    },
    {
     "name": "stdout",
     "output_type": "stream",
     "text": [
      "{'_index': 'anna-summaries-v0', '_id': 'CCN6FYMBy5mPdc6PT2yn', '_version': 2, 'result': 'updated', '_shards': {'total': 2, 'successful': 2, 'failed': 0}, '_seq_no': 2502, '_primary_term': 17}\n",
      "{'_index': 'anna-summaries-v0', '_id': 'dSMshYIBy5mPdc6PEmUK', '_version': 2, 'result': 'updated', '_shards': {'total': 2, 'successful': 2, 'failed': 0}, '_seq_no': 2503, '_primary_term': 17}\n",
      "{'_index': 'anna-summaries-v0', '_id': 'ciPFaoMBy5mPdc6PL2_N', '_version': 2, 'result': 'updated', '_shards': {'total': 2, 'successful': 2, 'failed': 0}, '_seq_no': 2504, '_primary_term': 17}\n"
     ]
    },
    {
     "name": "stderr",
     "output_type": "stream",
     "text": [
      "POST https://persyn.es.us-west-2.aws.found.io:443/anna-summaries-v0/_search [status:200 duration:0.028s]\n",
      "POST https://persyn.es.us-west-2.aws.found.io:443/anna-conversations-v0/_search [status:200 duration:0.025s]\n",
      "POST https://persyn.es.us-west-2.aws.found.io:443/anna-summaries-v0/_update/TOBwn4MB6EXxeIxU4HcT [status:200 duration:0.024s]\n",
      "POST https://persyn.es.us-west-2.aws.found.io:443/anna-summaries-v0/_search [status:200 duration:0.027s]\n",
      "POST https://persyn.es.us-west-2.aws.found.io:443/anna-conversations-v0/_search [status:200 duration:0.023s]\n",
      "POST https://persyn.es.us-west-2.aws.found.io:443/anna-summaries-v0/_update/juA7-4MB6EXxeIxUGHly [status:200 duration:0.029s]\n",
      "POST https://persyn.es.us-west-2.aws.found.io:443/anna-summaries-v0/_search [status:200 duration:0.029s]\n",
      "POST https://persyn.es.us-west-2.aws.found.io:443/anna-conversations-v0/_search [status:200 duration:0.022s]\n",
      "POST https://persyn.es.us-west-2.aws.found.io:443/anna-summaries-v0/_update/yU1xlYIBRfbdi4KA3Ezy [status:200 duration:0.025s]\n",
      "POST https://persyn.es.us-west-2.aws.found.io:443/anna-summaries-v0/_search [status:200 duration:0.028s]\n"
     ]
    },
    {
     "name": "stdout",
     "output_type": "stream",
     "text": [
      "{'_index': 'anna-summaries-v0', '_id': 'TOBwn4MB6EXxeIxU4HcT', '_version': 2, 'result': 'updated', '_shards': {'total': 2, 'successful': 2, 'failed': 0}, '_seq_no': 2505, '_primary_term': 17}\n",
      "{'_index': 'anna-summaries-v0', '_id': 'juA7-4MB6EXxeIxUGHly', '_version': 2, 'result': 'updated', '_shards': {'total': 2, 'successful': 2, 'failed': 0}, '_seq_no': 2506, '_primary_term': 17}\n",
      "{'_index': 'anna-summaries-v0', '_id': 'yU1xlYIBRfbdi4KA3Ezy', '_version': 2, 'result': 'updated', '_shards': {'total': 2, 'successful': 2, 'failed': 0}, '_seq_no': 2507, '_primary_term': 17}\n"
     ]
    },
    {
     "name": "stderr",
     "output_type": "stream",
     "text": [
      "POST https://persyn.es.us-west-2.aws.found.io:443/anna-conversations-v0/_search [status:200 duration:0.022s]\n",
      "POST https://persyn.es.us-west-2.aws.found.io:443/anna-summaries-v0/_update/xuD53YMB6EXxeIxUhHhn [status:200 duration:0.025s]\n",
      "POST https://persyn.es.us-west-2.aws.found.io:443/anna-summaries-v0/_search [status:200 duration:0.027s]\n",
      "POST https://persyn.es.us-west-2.aws.found.io:443/anna-conversations-v0/_search [status:200 duration:0.026s]\n",
      "POST https://persyn.es.us-west-2.aws.found.io:443/anna-summaries-v0/_update/puCFooQB6EXxeIxUs4Y6 [status:200 duration:0.025s]\n",
      "POST https://persyn.es.us-west-2.aws.found.io:443/anna-summaries-v0/_search [status:200 duration:0.027s]\n",
      "POST https://persyn.es.us-west-2.aws.found.io:443/anna-conversations-v0/_search [status:200 duration:0.022s]\n",
      "POST https://persyn.es.us-west-2.aws.found.io:443/anna-summaries-v0/_update/uSM0coMBy5mPdc6PUHD8 [status:200 duration:0.029s]\n",
      "POST https://persyn.es.us-west-2.aws.found.io:443/anna-summaries-v0/_search [status:200 duration:0.022s]\n"
     ]
    },
    {
     "name": "stdout",
     "output_type": "stream",
     "text": [
      "{'_index': 'anna-summaries-v0', '_id': 'xuD53YMB6EXxeIxUhHhn', '_version': 2, 'result': 'updated', '_shards': {'total': 2, 'successful': 2, 'failed': 0}, '_seq_no': 2508, '_primary_term': 17}\n",
      "{'_index': 'anna-summaries-v0', '_id': 'puCFooQB6EXxeIxUs4Y6', '_version': 2, 'result': 'updated', '_shards': {'total': 2, 'successful': 2, 'failed': 0}, '_seq_no': 2509, '_primary_term': 17}\n",
      "{'_index': 'anna-summaries-v0', '_id': 'uSM0coMBy5mPdc6PUHD8', '_version': 2, 'result': 'updated', '_shards': {'total': 2, 'successful': 2, 'failed': 0}, '_seq_no': 2510, '_primary_term': 17}\n"
     ]
    },
    {
     "name": "stderr",
     "output_type": "stream",
     "text": [
      "POST https://persyn.es.us-west-2.aws.found.io:443/anna-conversations-v0/_search [status:200 duration:0.034s]\n",
      "POST https://persyn.es.us-west-2.aws.found.io:443/anna-summaries-v0/_update/AuB_AoQB6EXxeIxUgHsH [status:200 duration:0.029s]\n",
      "POST https://persyn.es.us-west-2.aws.found.io:443/anna-summaries-v0/_search [status:200 duration:0.026s]\n",
      "POST https://persyn.es.us-west-2.aws.found.io:443/anna-conversations-v0/_search [status:200 duration:0.030s]\n",
      "POST https://persyn.es.us-west-2.aws.found.io:443/anna-summaries-v0/_update/XmZQen4Byo-dF4zkV4Cq [status:200 duration:0.033s]\n",
      "POST https://persyn.es.us-west-2.aws.found.io:443/anna-summaries-v0/_search [status:200 duration:0.021s]\n",
      "POST https://persyn.es.us-west-2.aws.found.io:443/anna-conversations-v0/_search [status:200 duration:0.029s]\n",
      "POST https://persyn.es.us-west-2.aws.found.io:443/anna-summaries-v0/_update/iGZTen4Byo-dF4zk74Bn [status:200 duration:0.027s]\n"
     ]
    },
    {
     "name": "stdout",
     "output_type": "stream",
     "text": [
      "{'_index': 'anna-summaries-v0', '_id': 'AuB_AoQB6EXxeIxUgHsH', '_version': 2, 'result': 'updated', '_shards': {'total': 2, 'successful': 2, 'failed': 0}, '_seq_no': 2511, '_primary_term': 17}\n",
      "{'_index': 'anna-summaries-v0', '_id': 'XmZQen4Byo-dF4zkV4Cq', '_version': 4, 'result': 'updated', '_shards': {'total': 2, 'successful': 2, 'failed': 0}, '_seq_no': 2512, '_primary_term': 17}\n",
      "{'_index': 'anna-summaries-v0', '_id': 'iGZTen4Byo-dF4zk74Bn', '_version': 4, 'result': 'updated', '_shards': {'total': 2, 'successful': 2, 'failed': 0}, '_seq_no': 2513, '_primary_term': 17}\n"
     ]
    },
    {
     "name": "stderr",
     "output_type": "stream",
     "text": [
      "POST https://persyn.es.us-west-2.aws.found.io:443/anna-summaries-v0/_search [status:200 duration:0.021s]\n",
      "POST https://persyn.es.us-west-2.aws.found.io:443/anna-conversations-v0/_search [status:200 duration:0.033s]\n",
      "POST https://persyn.es.us-west-2.aws.found.io:443/anna-summaries-v0/_update/sq8Aq4QBBNi73XUqdrJO [status:200 duration:0.025s]\n",
      "POST https://persyn.es.us-west-2.aws.found.io:443/anna-summaries-v0/_search [status:200 duration:0.027s]\n",
      "POST https://persyn.es.us-west-2.aws.found.io:443/anna-conversations-v0/_search [status:200 duration:0.029s]\n",
      "POST https://persyn.es.us-west-2.aws.found.io:443/anna-summaries-v0/_update/K2bzen4Byo-dF4zk1YHs [status:200 duration:0.024s]\n",
      "POST https://persyn.es.us-west-2.aws.found.io:443/anna-summaries-v0/_search [status:200 duration:0.027s]\n",
      "POST https://persyn.es.us-west-2.aws.found.io:443/anna-conversations-v0/_search [status:200 duration:0.023s]\n",
      "POST https://persyn.es.us-west-2.aws.found.io:443/anna-summaries-v0/_update/O-BVEoQB6EXxeIxUVn3P [status:200 duration:0.025s]\n",
      "POST https://persyn.es.us-west-2.aws.found.io:443/anna-summaries-v0/_search [status:200 duration:0.028s]\n"
     ]
    },
    {
     "name": "stdout",
     "output_type": "stream",
     "text": [
      "{'_index': 'anna-summaries-v0', '_id': 'sq8Aq4QBBNi73XUqdrJO', '_version': 2, 'result': 'updated', '_shards': {'total': 2, 'successful': 2, 'failed': 0}, '_seq_no': 2514, '_primary_term': 17}\n",
      "{'_index': 'anna-summaries-v0', '_id': 'K2bzen4Byo-dF4zk1YHs', '_version': 4, 'result': 'updated', '_shards': {'total': 2, 'successful': 2, 'failed': 0}, '_seq_no': 2515, '_primary_term': 17}\n",
      "{'_index': 'anna-summaries-v0', '_id': 'O-BVEoQB6EXxeIxUVn3P', '_version': 2, 'result': 'updated', '_shards': {'total': 2, 'successful': 2, 'failed': 0}, '_seq_no': 2516, '_primary_term': 17}\n"
     ]
    },
    {
     "name": "stderr",
     "output_type": "stream",
     "text": [
      "POST https://persyn.es.us-west-2.aws.found.io:443/anna-conversations-v0/_search [status:200 duration:0.030s]\n",
      "POST https://persyn.es.us-west-2.aws.found.io:443/anna-summaries-v0/_update/rBg7XIAB1O6hlTWgOV50 [status:200 duration:0.025s]\n",
      "POST https://persyn.es.us-west-2.aws.found.io:443/anna-summaries-v0/_search [status:200 duration:0.027s]\n",
      "POST https://persyn.es.us-west-2.aws.found.io:443/anna-conversations-v0/_search [status:200 duration:0.030s]\n",
      "POST https://persyn.es.us-west-2.aws.found.io:443/anna-summaries-v0/_update/1uDN_YMB6EXxeIxU43nH [status:200 duration:0.032s]\n",
      "POST https://persyn.es.us-west-2.aws.found.io:443/anna-summaries-v0/_search [status:200 duration:0.026s]\n",
      "POST https://persyn.es.us-west-2.aws.found.io:443/anna-conversations-v0/_search [status:200 duration:0.023s]\n",
      "POST https://persyn.es.us-west-2.aws.found.io:443/anna-summaries-v0/_update/w037aoMBRfbdi4KAtlkK [status:200 duration:0.031s]\n"
     ]
    },
    {
     "name": "stdout",
     "output_type": "stream",
     "text": [
      "{'_index': 'anna-summaries-v0', '_id': 'rBg7XIAB1O6hlTWgOV50', '_version': 2, 'result': 'updated', '_shards': {'total': 2, 'successful': 2, 'failed': 0}, '_seq_no': 2517, '_primary_term': 17}\n",
      "{'_index': 'anna-summaries-v0', '_id': '1uDN_YMB6EXxeIxU43nH', '_version': 2, 'result': 'updated', '_shards': {'total': 2, 'successful': 2, 'failed': 0}, '_seq_no': 2518, '_primary_term': 17}\n",
      "{'_index': 'anna-summaries-v0', '_id': 'w037aoMBRfbdi4KAtlkK', '_version': 2, 'result': 'updated', '_shards': {'total': 2, 'successful': 2, 'failed': 0}, '_seq_no': 2519, '_primary_term': 17}\n"
     ]
    },
    {
     "name": "stderr",
     "output_type": "stream",
     "text": [
      "POST https://persyn.es.us-west-2.aws.found.io:443/anna-summaries-v0/_search [status:200 duration:0.027s]\n",
      "POST https://persyn.es.us-west-2.aws.found.io:443/anna-conversations-v0/_search [status:200 duration:0.024s]\n",
      "POST https://persyn.es.us-west-2.aws.found.io:443/anna-summaries-v0/_update/rh1YUIIBGYbVpQ0olq97 [status:200 duration:0.027s]\n",
      "POST https://persyn.es.us-west-2.aws.found.io:443/anna-summaries-v0/_search [status:200 duration:0.030s]\n",
      "POST https://persyn.es.us-west-2.aws.found.io:443/anna-conversations-v0/_search [status:200 duration:0.024s]\n",
      "POST https://persyn.es.us-west-2.aws.found.io:443/anna-summaries-v0/_update/sk3c8IIBRfbdi4KA3FTO [status:200 duration:0.028s]\n",
      "POST https://persyn.es.us-west-2.aws.found.io:443/anna-summaries-v0/_search [status:200 duration:0.030s]\n",
      "POST https://persyn.es.us-west-2.aws.found.io:443/anna-conversations-v0/_search [status:200 duration:0.030s]\n",
      "POST https://persyn.es.us-west-2.aws.found.io:443/anna-summaries-v0/_update/cRhVPH8B1O6hlTWgREta [status:200 duration:0.028s]\n"
     ]
    },
    {
     "name": "stdout",
     "output_type": "stream",
     "text": [
      "{'_index': 'anna-summaries-v0', '_id': 'rh1YUIIBGYbVpQ0olq97', '_version': 2, 'result': 'updated', '_shards': {'total': 2, 'successful': 2, 'failed': 0}, '_seq_no': 2520, '_primary_term': 17}\n",
      "{'_index': 'anna-summaries-v0', '_id': 'sk3c8IIBRfbdi4KA3FTO', '_version': 2, 'result': 'updated', '_shards': {'total': 2, 'successful': 2, 'failed': 0}, '_seq_no': 2521, '_primary_term': 17}\n",
      "{'_index': 'anna-summaries-v0', '_id': 'cRhVPH8B1O6hlTWgREta', '_version': 2, 'result': 'updated', '_shards': {'total': 2, 'successful': 2, 'failed': 0}, '_seq_no': 2522, '_primary_term': 17}\n"
     ]
    },
    {
     "name": "stderr",
     "output_type": "stream",
     "text": [
      "POST https://persyn.es.us-west-2.aws.found.io:443/anna-summaries-v0/_search [status:200 duration:0.029s]\n",
      "POST https://persyn.es.us-west-2.aws.found.io:443/anna-conversations-v0/_search [status:200 duration:0.023s]\n",
      "POST https://persyn.es.us-west-2.aws.found.io:443/anna-summaries-v0/_update/WOAURIQB6EXxeIxUrH9x [status:200 duration:0.028s]\n",
      "POST https://persyn.es.us-west-2.aws.found.io:443/anna-summaries-v0/_search [status:200 duration:0.029s]\n",
      "POST https://persyn.es.us-west-2.aws.found.io:443/anna-conversations-v0/_search [status:200 duration:0.023s]\n",
      "POST https://persyn.es.us-west-2.aws.found.io:443/anna-summaries-v0/_update/lGZVen4Byo-dF4zkEIDX [status:200 duration:0.025s]\n",
      "POST https://persyn.es.us-west-2.aws.found.io:443/anna-summaries-v0/_search [status:200 duration:0.027s]\n",
      "POST https://persyn.es.us-west-2.aws.found.io:443/anna-conversations-v0/_search [status:200 duration:0.029s]\n",
      "POST https://persyn.es.us-west-2.aws.found.io:443/anna-summaries-v0/_update/Pk0R04IBRfbdi4KAvlNv [status:200 duration:0.026s]\n"
     ]
    },
    {
     "name": "stdout",
     "output_type": "stream",
     "text": [
      "{'_index': 'anna-summaries-v0', '_id': 'WOAURIQB6EXxeIxUrH9x', '_version': 2, 'result': 'updated', '_shards': {'total': 2, 'successful': 2, 'failed': 0}, '_seq_no': 2523, '_primary_term': 17}\n",
      "{'_index': 'anna-summaries-v0', '_id': 'lGZVen4Byo-dF4zkEIDX', '_version': 4, 'result': 'updated', '_shards': {'total': 2, 'successful': 2, 'failed': 0}, '_seq_no': 2524, '_primary_term': 17}\n",
      "{'_index': 'anna-summaries-v0', '_id': 'Pk0R04IBRfbdi4KAvlNv', '_version': 2, 'result': 'updated', '_shards': {'total': 2, 'successful': 2, 'failed': 0}, '_seq_no': 2525, '_primary_term': 17}\n"
     ]
    },
    {
     "name": "stderr",
     "output_type": "stream",
     "text": [
      "POST https://persyn.es.us-west-2.aws.found.io:443/anna-summaries-v0/_search [status:200 duration:0.029s]\n",
      "POST https://persyn.es.us-west-2.aws.found.io:443/anna-conversations-v0/_search [status:200 duration:0.038s]\n",
      "POST https://persyn.es.us-west-2.aws.found.io:443/anna-summaries-v0/_update/kWZUen4Byo-dF4zk1YBD [status:200 duration:0.027s]\n",
      "POST https://persyn.es.us-west-2.aws.found.io:443/anna-summaries-v0/_search [status:200 duration:0.030s]\n",
      "POST https://persyn.es.us-west-2.aws.found.io:443/anna-conversations-v0/_search [status:200 duration:0.029s]\n",
      "POST https://persyn.es.us-west-2.aws.found.io:443/anna-summaries-v0/_update/1U3OvYIBRfbdi4KA6lAr [status:200 duration:0.027s]\n",
      "POST https://persyn.es.us-west-2.aws.found.io:443/anna-summaries-v0/_search [status:200 duration:0.026s]\n",
      "POST https://persyn.es.us-west-2.aws.found.io:443/anna-conversations-v0/_search [status:200 duration:0.021s]\n",
      "POST https://persyn.es.us-west-2.aws.found.io:443/anna-summaries-v0/_update/M2b0en4Byo-dF4zkmIEn [status:200 duration:0.024s]\n",
      "POST https://persyn.es.us-west-2.aws.found.io:443/anna-summaries-v0/_search [status:200 duration:0.026s]\n"
     ]
    },
    {
     "name": "stdout",
     "output_type": "stream",
     "text": [
      "{'_index': 'anna-summaries-v0', '_id': 'kWZUen4Byo-dF4zk1YBD', '_version': 4, 'result': 'updated', '_shards': {'total': 2, 'successful': 2, 'failed': 0}, '_seq_no': 2526, '_primary_term': 17}\n",
      "{'_index': 'anna-summaries-v0', '_id': '1U3OvYIBRfbdi4KA6lAr', '_version': 2, 'result': 'updated', '_shards': {'total': 2, 'successful': 2, 'failed': 0}, '_seq_no': 2527, '_primary_term': 17}\n",
      "{'_index': 'anna-summaries-v0', '_id': 'M2b0en4Byo-dF4zkmIEn', '_version': 4, 'result': 'updated', '_shards': {'total': 2, 'successful': 2, 'failed': 0}, '_seq_no': 2528, '_primary_term': 17}\n"
     ]
    },
    {
     "name": "stderr",
     "output_type": "stream",
     "text": [
      "POST https://persyn.es.us-west-2.aws.found.io:443/anna-conversations-v0/_search [status:200 duration:0.032s]\n",
      "POST https://persyn.es.us-west-2.aws.found.io:443/anna-summaries-v0/_update/hmZTen4Byo-dF4zktoD_ [status:200 duration:0.025s]\n",
      "POST https://persyn.es.us-west-2.aws.found.io:443/anna-summaries-v0/_search [status:200 duration:0.027s]\n",
      "POST https://persyn.es.us-west-2.aws.found.io:443/anna-conversations-v0/_search [status:200 duration:0.027s]\n",
      "POST https://persyn.es.us-west-2.aws.found.io:443/anna-summaries-v0/_update/yGZ9g34Byo-dF4zkp4PW [status:200 duration:0.029s]\n",
      "POST https://persyn.es.us-west-2.aws.found.io:443/anna-summaries-v0/_search [status:200 duration:0.027s]\n",
      "POST https://persyn.es.us-west-2.aws.found.io:443/anna-conversations-v0/_search [status:200 duration:0.027s]\n",
      "POST https://persyn.es.us-west-2.aws.found.io:443/anna-summaries-v0/_update/X2ZQen4Byo-dF4zkZYCZ [status:200 duration:0.024s]\n",
      "POST https://persyn.es.us-west-2.aws.found.io:443/anna-summaries-v0/_search [status:200 duration:0.025s]\n"
     ]
    },
    {
     "name": "stdout",
     "output_type": "stream",
     "text": [
      "{'_index': 'anna-summaries-v0', '_id': 'hmZTen4Byo-dF4zktoD_', '_version': 4, 'result': 'updated', '_shards': {'total': 2, 'successful': 2, 'failed': 0}, '_seq_no': 2529, '_primary_term': 17}\n",
      "{'_index': 'anna-summaries-v0', '_id': 'yGZ9g34Byo-dF4zkp4PW', '_version': 4, 'result': 'updated', '_shards': {'total': 2, 'successful': 2, 'failed': 0}, '_seq_no': 2530, '_primary_term': 17}\n",
      "{'_index': 'anna-summaries-v0', '_id': 'X2ZQen4Byo-dF4zkZYCZ', '_version': 4, 'result': 'updated', '_shards': {'total': 2, 'successful': 2, 'failed': 0}, '_seq_no': 2531, '_primary_term': 17}\n"
     ]
    },
    {
     "name": "stderr",
     "output_type": "stream",
     "text": [
      "POST https://persyn.es.us-west-2.aws.found.io:443/anna-conversations-v0/_search [status:200 duration:0.025s]\n",
      "POST https://persyn.es.us-west-2.aws.found.io:443/anna-summaries-v0/_update/cWZSen4Byo-dF4zkKYDy [status:200 duration:0.028s]\n",
      "POST https://persyn.es.us-west-2.aws.found.io:443/anna-summaries-v0/_search [status:200 duration:0.025s]\n",
      "POST https://persyn.es.us-west-2.aws.found.io:443/anna-conversations-v0/_search [status:200 duration:0.028s]\n",
      "POST https://persyn.es.us-west-2.aws.found.io:443/anna-summaries-v0/_update/0tTMMIEBBCovfdTkvJfe [status:200 duration:0.029s]\n",
      "POST https://persyn.es.us-west-2.aws.found.io:443/anna-summaries-v0/_search [status:200 duration:0.030s]\n",
      "POST https://persyn.es.us-west-2.aws.found.io:443/anna-conversations-v0/_search [status:200 duration:0.032s]\n",
      "POST https://persyn.es.us-west-2.aws.found.io:443/anna-summaries-v0/_update/e68yAYQBBNi73XUqPKaj [status:200 duration:0.027s]\n"
     ]
    },
    {
     "name": "stdout",
     "output_type": "stream",
     "text": [
      "{'_index': 'anna-summaries-v0', '_id': 'cWZSen4Byo-dF4zkKYDy', '_version': 4, 'result': 'updated', '_shards': {'total': 2, 'successful': 2, 'failed': 0}, '_seq_no': 2532, '_primary_term': 17}\n",
      "{'_index': 'anna-summaries-v0', '_id': '0tTMMIEBBCovfdTkvJfe', '_version': 2, 'result': 'updated', '_shards': {'total': 2, 'successful': 2, 'failed': 0}, '_seq_no': 2533, '_primary_term': 17}\n",
      "{'_index': 'anna-summaries-v0', '_id': 'e68yAYQBBNi73XUqPKaj', '_version': 2, 'result': 'updated', '_shards': {'total': 2, 'successful': 2, 'failed': 0}, '_seq_no': 2534, '_primary_term': 17}\n"
     ]
    },
    {
     "name": "stderr",
     "output_type": "stream",
     "text": [
      "POST https://persyn.es.us-west-2.aws.found.io:443/anna-summaries-v0/_search [status:200 duration:0.030s]\n",
      "POST https://persyn.es.us-west-2.aws.found.io:443/anna-conversations-v0/_search [status:200 duration:0.030s]\n",
      "POST https://persyn.es.us-west-2.aws.found.io:443/anna-summaries-v0/_update/Ia_wRYQBBNi73XUq8Kts [status:200 duration:0.030s]\n",
      "POST https://persyn.es.us-west-2.aws.found.io:443/anna-summaries-v0/_search [status:200 duration:0.029s]\n",
      "POST https://persyn.es.us-west-2.aws.found.io:443/anna-conversations-v0/_search [status:200 duration:0.027s]\n",
      "POST https://persyn.es.us-west-2.aws.found.io:443/anna-summaries-v0/_update/56-8lYQBBNi73XUq9a-k [status:200 duration:0.026s]\n",
      "POST https://persyn.es.us-west-2.aws.found.io:443/anna-summaries-v0/_search [status:200 duration:0.023s]\n",
      "POST https://persyn.es.us-west-2.aws.found.io:443/anna-conversations-v0/_search [status:200 duration:0.026s]\n",
      "POST https://persyn.es.us-west-2.aws.found.io:443/anna-summaries-v0/_update/Hxj-XIAB1O6hlTWg0V9n [status:200 duration:0.026s]\n",
      "POST https://persyn.es.us-west-2.aws.found.io:443/anna-summaries-v0/_search [status:200 duration:0.020s]\n"
     ]
    },
    {
     "name": "stdout",
     "output_type": "stream",
     "text": [
      "{'_index': 'anna-summaries-v0', '_id': 'Ia_wRYQBBNi73XUq8Kts', '_version': 2, 'result': 'updated', '_shards': {'total': 2, 'successful': 2, 'failed': 0}, '_seq_no': 2535, '_primary_term': 17}\n",
      "{'_index': 'anna-summaries-v0', '_id': '56-8lYQBBNi73XUq9a-k', '_version': 2, 'result': 'updated', '_shards': {'total': 2, 'successful': 2, 'failed': 0}, '_seq_no': 2536, '_primary_term': 17}\n",
      "{'_index': 'anna-summaries-v0', '_id': 'Hxj-XIAB1O6hlTWg0V9n', '_version': 2, 'result': 'updated', '_shards': {'total': 2, 'successful': 2, 'failed': 0}, '_seq_no': 2537, '_primary_term': 17}\n"
     ]
    },
    {
     "name": "stderr",
     "output_type": "stream",
     "text": [
      "POST https://persyn.es.us-west-2.aws.found.io:443/anna-conversations-v0/_search [status:200 duration:0.030s]\n",
      "POST https://persyn.es.us-west-2.aws.found.io:443/anna-summaries-v0/_update/htQuMIEBBCovfdTkkJa7 [status:200 duration:0.025s]\n",
      "POST https://persyn.es.us-west-2.aws.found.io:443/anna-summaries-v0/_search [status:200 duration:0.031s]\n",
      "POST https://persyn.es.us-west-2.aws.found.io:443/anna-conversations-v0/_search [status:200 duration:0.023s]\n",
      "POST https://persyn.es.us-west-2.aws.found.io:443/anna-summaries-v0/_update/mNQ5MIEBBCovfdTk5Zbi [status:200 duration:0.024s]\n",
      "POST https://persyn.es.us-west-2.aws.found.io:443/anna-summaries-v0/_search [status:200 duration:0.026s]\n",
      "POST https://persyn.es.us-west-2.aws.found.io:443/anna-conversations-v0/_search [status:200 duration:0.028s]\n",
      "POST https://persyn.es.us-west-2.aws.found.io:443/anna-summaries-v0/_update/B02jcoMBRfbdi4KAN1vL [status:200 duration:0.029s]\n",
      "POST https://persyn.es.us-west-2.aws.found.io:443/anna-summaries-v0/_search [status:200 duration:0.020s]\n"
     ]
    },
    {
     "name": "stdout",
     "output_type": "stream",
     "text": [
      "{'_index': 'anna-summaries-v0', '_id': 'htQuMIEBBCovfdTkkJa7', '_version': 2, 'result': 'updated', '_shards': {'total': 2, 'successful': 2, 'failed': 0}, '_seq_no': 2538, '_primary_term': 17}\n",
      "{'_index': 'anna-summaries-v0', '_id': 'mNQ5MIEBBCovfdTk5Zbi', '_version': 2, 'result': 'updated', '_shards': {'total': 2, 'successful': 2, 'failed': 0}, '_seq_no': 2539, '_primary_term': 17}\n",
      "{'_index': 'anna-summaries-v0', '_id': 'B02jcoMBRfbdi4KAN1vL', '_version': 2, 'result': 'updated', '_shards': {'total': 2, 'successful': 2, 'failed': 0}, '_seq_no': 2540, '_primary_term': 17}\n"
     ]
    },
    {
     "name": "stderr",
     "output_type": "stream",
     "text": [
      "POST https://persyn.es.us-west-2.aws.found.io:443/anna-conversations-v0/_search [status:200 duration:0.028s]\n",
      "POST https://persyn.es.us-west-2.aws.found.io:443/anna-summaries-v0/_update/100HdYIBRfbdi4KAo0nU [status:200 duration:0.024s]\n",
      "POST https://persyn.es.us-west-2.aws.found.io:443/anna-summaries-v0/_search [status:200 duration:0.026s]\n",
      "POST https://persyn.es.us-west-2.aws.found.io:443/anna-conversations-v0/_search [status:200 duration:0.023s]\n",
      "POST https://persyn.es.us-west-2.aws.found.io:443/anna-summaries-v0/_update/ICMZXoMBy5mPdc6PUW48 [status:200 duration:0.024s]\n",
      "POST https://persyn.es.us-west-2.aws.found.io:443/anna-summaries-v0/_search [status:200 duration:0.020s]\n",
      "POST https://persyn.es.us-west-2.aws.found.io:443/anna-conversations-v0/_search [status:200 duration:0.027s]\n",
      "POST https://persyn.es.us-west-2.aws.found.io:443/anna-summaries-v0/_update/oiN_MoMBy5mPdc6PfGyq [status:200 duration:0.024s]\n",
      "POST https://persyn.es.us-west-2.aws.found.io:443/anna-summaries-v0/_search [status:200 duration:0.035s]\n"
     ]
    },
    {
     "name": "stdout",
     "output_type": "stream",
     "text": [
      "{'_index': 'anna-summaries-v0', '_id': '100HdYIBRfbdi4KAo0nU', '_version': 2, 'result': 'updated', '_shards': {'total': 2, 'successful': 2, 'failed': 0}, '_seq_no': 2541, '_primary_term': 17}\n",
      "{'_index': 'anna-summaries-v0', '_id': 'ICMZXoMBy5mPdc6PUW48', '_version': 2, 'result': 'updated', '_shards': {'total': 2, 'successful': 2, 'failed': 0}, '_seq_no': 2542, '_primary_term': 17}\n",
      "{'_index': 'anna-summaries-v0', '_id': 'oiN_MoMBy5mPdc6PfGyq', '_version': 2, 'result': 'updated', '_shards': {'total': 2, 'successful': 2, 'failed': 0}, '_seq_no': 2543, '_primary_term': 17}\n"
     ]
    },
    {
     "name": "stderr",
     "output_type": "stream",
     "text": [
      "POST https://persyn.es.us-west-2.aws.found.io:443/anna-conversations-v0/_search [status:200 duration:0.027s]\n",
      "POST https://persyn.es.us-west-2.aws.found.io:443/anna-summaries-v0/_update/imZUen4Byo-dF4zkHoC9 [status:200 duration:0.022s]\n",
      "POST https://persyn.es.us-west-2.aws.found.io:443/anna-conversations-v0/_search [status:200 duration:0.024s]\n",
      "POST https://persyn.es.us-west-2.aws.found.io:443/anna-summaries-v0/_update/h2ZTen4Byo-dF4zk1oCh [status:200 duration:0.025s]\n",
      "POST https://persyn.es.us-west-2.aws.found.io:443/anna-summaries-v0/_search [status:200 duration:0.025s]\n",
      "POST https://persyn.es.us-west-2.aws.found.io:443/anna-conversations-v0/_search [status:200 duration:0.026s]\n",
      "POST https://persyn.es.us-west-2.aws.found.io:443/anna-summaries-v0/_update/jmZUen4Byo-dF4zkjoAt [status:200 duration:0.023s]\n",
      "POST https://persyn.es.us-west-2.aws.found.io:443/anna-summaries-v0/_search [status:200 duration:0.028s]\n",
      "POST https://persyn.es.us-west-2.aws.found.io:443/anna-conversations-v0/_search [status:200 duration:0.021s]\n"
     ]
    },
    {
     "name": "stdout",
     "output_type": "stream",
     "text": [
      "{'_index': 'anna-summaries-v0', '_id': 'imZUen4Byo-dF4zkHoC9', '_version': 4, 'result': 'noop', '_shards': {'total': 0, 'successful': 0, 'failed': 0}, '_seq_no': 1693, '_primary_term': 17}\n",
      "{'_index': 'anna-summaries-v0', '_id': 'h2ZTen4Byo-dF4zk1oCh', '_version': 4, 'result': 'noop', '_shards': {'total': 0, 'successful': 0, 'failed': 0}, '_seq_no': 1692, '_primary_term': 17}\n",
      "{'_index': 'anna-summaries-v0', '_id': 'jmZUen4Byo-dF4zkjoAt', '_version': 4, 'result': 'updated', '_shards': {'total': 2, 'successful': 2, 'failed': 0}, '_seq_no': 2544, '_primary_term': 17}\n"
     ]
    },
    {
     "name": "stderr",
     "output_type": "stream",
     "text": [
      "POST https://persyn.es.us-west-2.aws.found.io:443/anna-summaries-v0/_update/z2Php34BSsm-lZhBrw2k [status:200 duration:0.025s]\n",
      "POST https://persyn.es.us-west-2.aws.found.io:443/anna-summaries-v0/_search [status:200 duration:0.024s]\n",
      "POST https://persyn.es.us-west-2.aws.found.io:443/anna-conversations-v0/_search [status:200 duration:0.025s]\n",
      "POST https://persyn.es.us-west-2.aws.found.io:443/anna-summaries-v0/_update/BeBHaIQB6EXxeIxUJIHw [status:200 duration:0.024s]\n",
      "POST https://persyn.es.us-west-2.aws.found.io:443/anna-summaries-v0/_search [status:200 duration:0.027s]\n",
      "POST https://persyn.es.us-west-2.aws.found.io:443/anna-conversations-v0/_search [status:200 duration:0.022s]\n",
      "POST https://persyn.es.us-west-2.aws.found.io:443/anna-summaries-v0/_update/I2bzen4Byo-dF4zkNYEy [status:200 duration:0.026s]\n",
      "POST https://persyn.es.us-west-2.aws.found.io:443/anna-summaries-v0/_search [status:200 duration:0.026s]\n"
     ]
    },
    {
     "name": "stdout",
     "output_type": "stream",
     "text": [
      "{'_index': 'anna-summaries-v0', '_id': 'z2Php34BSsm-lZhBrw2k', '_version': 2, 'result': 'updated', '_shards': {'total': 2, 'successful': 2, 'failed': 0}, '_seq_no': 2545, '_primary_term': 17}\n",
      "{'_index': 'anna-summaries-v0', '_id': 'BeBHaIQB6EXxeIxUJIHw', '_version': 2, 'result': 'updated', '_shards': {'total': 2, 'successful': 2, 'failed': 0}, '_seq_no': 2546, '_primary_term': 17}\n",
      "{'_index': 'anna-summaries-v0', '_id': 'I2bzen4Byo-dF4zkNYEy', '_version': 4, 'result': 'updated', '_shards': {'total': 2, 'successful': 2, 'failed': 0}, '_seq_no': 2547, '_primary_term': 17}\n"
     ]
    },
    {
     "name": "stderr",
     "output_type": "stream",
     "text": [
      "POST https://persyn.es.us-west-2.aws.found.io:443/anna-conversations-v0/_search [status:200 duration:0.022s]\n",
      "POST https://persyn.es.us-west-2.aws.found.io:443/anna-summaries-v0/_update/gmbYhH4Byo-dF4zk24Qd [status:200 duration:0.021s]\n",
      "POST https://persyn.es.us-west-2.aws.found.io:443/anna-conversations-v0/_search [status:200 duration:0.026s]\n",
      "POST https://persyn.es.us-west-2.aws.found.io:443/anna-summaries-v0/_update/Smb2en4Byo-dF4zkzYF1 [status:200 duration:0.022s]\n",
      "POST https://persyn.es.us-west-2.aws.found.io:443/anna-summaries-v0/_search [status:200 duration:0.020s]\n",
      "POST https://persyn.es.us-west-2.aws.found.io:443/anna-conversations-v0/_search [status:200 duration:0.026s]\n",
      "POST https://persyn.es.us-west-2.aws.found.io:443/anna-summaries-v0/_update/aGZRen4Byo-dF4zkO4AD [status:200 duration:0.029s]\n",
      "POST https://persyn.es.us-west-2.aws.found.io:443/anna-summaries-v0/_search [status:200 duration:0.030s]\n",
      "POST https://persyn.es.us-west-2.aws.found.io:443/anna-conversations-v0/_search [status:200 duration:0.025s]\n"
     ]
    },
    {
     "name": "stdout",
     "output_type": "stream",
     "text": [
      "{'_index': 'anna-summaries-v0', '_id': 'gmbYhH4Byo-dF4zk24Qd', '_version': 4, 'result': 'noop', '_shards': {'total': 0, 'successful': 0, 'failed': 0}, '_seq_no': 1826, '_primary_term': 17}\n",
      "{'_index': 'anna-summaries-v0', '_id': 'Smb2en4Byo-dF4zkzYF1', '_version': 4, 'result': 'noop', '_shards': {'total': 0, 'successful': 0, 'failed': 0}, '_seq_no': 1825, '_primary_term': 17}\n",
      "{'_index': 'anna-summaries-v0', '_id': 'aGZRen4Byo-dF4zkO4AD', '_version': 4, 'result': 'updated', '_shards': {'total': 2, 'successful': 2, 'failed': 0}, '_seq_no': 2548, '_primary_term': 17}\n"
     ]
    },
    {
     "name": "stderr",
     "output_type": "stream",
     "text": [
      "POST https://persyn.es.us-west-2.aws.found.io:443/anna-summaries-v0/_update/_Wbjen4Byo-dF4zkYYBc [status:200 duration:0.026s]\n",
      "POST https://persyn.es.us-west-2.aws.found.io:443/anna-summaries-v0/_search [status:200 duration:0.026s]\n",
      "POST https://persyn.es.us-west-2.aws.found.io:443/anna-conversations-v0/_search [status:200 duration:0.025s]\n",
      "POST https://persyn.es.us-west-2.aws.found.io:443/anna-summaries-v0/_update/HuAAmIQB6EXxeIxU-4Uc [status:200 duration:0.030s]\n",
      "POST https://persyn.es.us-west-2.aws.found.io:443/anna-summaries-v0/_search [status:200 duration:0.022s]\n",
      "POST https://persyn.es.us-west-2.aws.found.io:443/anna-conversations-v0/_search [status:200 duration:0.022s]\n",
      "POST https://persyn.es.us-west-2.aws.found.io:443/anna-summaries-v0/_update/HB2IVYIBGYbVpQ0oWrLz [status:200 duration:0.028s]\n",
      "POST https://persyn.es.us-west-2.aws.found.io:443/anna-summaries-v0/_search [status:200 duration:0.022s]\n"
     ]
    },
    {
     "name": "stdout",
     "output_type": "stream",
     "text": [
      "{'_index': 'anna-summaries-v0', '_id': '_Wbjen4Byo-dF4zkYYBc', '_version': 4, 'result': 'updated', '_shards': {'total': 2, 'successful': 2, 'failed': 0}, '_seq_no': 2549, '_primary_term': 17}\n",
      "{'_index': 'anna-summaries-v0', '_id': 'HuAAmIQB6EXxeIxU-4Uc', '_version': 2, 'result': 'updated', '_shards': {'total': 2, 'successful': 2, 'failed': 0}, '_seq_no': 2550, '_primary_term': 17}\n",
      "{'_index': 'anna-summaries-v0', '_id': 'HB2IVYIBGYbVpQ0oWrLz', '_version': 2, 'result': 'updated', '_shards': {'total': 2, 'successful': 2, 'failed': 0}, '_seq_no': 2551, '_primary_term': 17}\n"
     ]
    },
    {
     "name": "stderr",
     "output_type": "stream",
     "text": [
      "POST https://persyn.es.us-west-2.aws.found.io:443/anna-conversations-v0/_search [status:200 duration:0.029s]\n",
      "POST https://persyn.es.us-west-2.aws.found.io:443/anna-summaries-v0/_update/Ia8hsIQBBNi73XUqHLTU [status:200 duration:0.033s]\n",
      "POST https://persyn.es.us-west-2.aws.found.io:443/anna-summaries-v0/_search [status:200 duration:0.026s]\n",
      "POST https://persyn.es.us-west-2.aws.found.io:443/anna-conversations-v0/_search [status:200 duration:0.030s]\n",
      "POST https://persyn.es.us-west-2.aws.found.io:443/anna-summaries-v0/_update/7dTs34EBBCovfdTkzb4r [status:200 duration:0.033s]\n",
      "POST https://persyn.es.us-west-2.aws.found.io:443/anna-summaries-v0/_search [status:200 duration:0.027s]\n",
      "POST https://persyn.es.us-west-2.aws.found.io:443/anna-conversations-v0/_search [status:200 duration:0.027s]\n",
      "POST https://persyn.es.us-west-2.aws.found.io:443/anna-summaries-v0/_update/Aq9pAIQBBNi73XUqHaZu [status:200 duration:0.029s]\n"
     ]
    },
    {
     "name": "stdout",
     "output_type": "stream",
     "text": [
      "{'_index': 'anna-summaries-v0', '_id': 'Ia8hsIQBBNi73XUqHLTU', '_version': 2, 'result': 'updated', '_shards': {'total': 2, 'successful': 2, 'failed': 0}, '_seq_no': 2552, '_primary_term': 17}\n",
      "{'_index': 'anna-summaries-v0', '_id': '7dTs34EBBCovfdTkzb4r', '_version': 2, 'result': 'updated', '_shards': {'total': 2, 'successful': 2, 'failed': 0}, '_seq_no': 2553, '_primary_term': 17}\n",
      "{'_index': 'anna-summaries-v0', '_id': 'Aq9pAIQBBNi73XUqHaZu', '_version': 2, 'result': 'updated', '_shards': {'total': 2, 'successful': 2, 'failed': 0}, '_seq_no': 2554, '_primary_term': 17}\n"
     ]
    },
    {
     "name": "stderr",
     "output_type": "stream",
     "text": [
      "POST https://persyn.es.us-west-2.aws.found.io:443/anna-summaries-v0/_search [status:200 duration:0.026s]\n",
      "POST https://persyn.es.us-west-2.aws.found.io:443/anna-conversations-v0/_search [status:200 duration:0.031s]\n",
      "POST https://persyn.es.us-west-2.aws.found.io:443/anna-summaries-v0/_update/V-Cl2YMB6EXxeIxUQXiN [status:200 duration:0.025s]\n",
      "POST https://persyn.es.us-west-2.aws.found.io:443/anna-summaries-v0/_search [status:200 duration:0.028s]\n",
      "POST https://persyn.es.us-west-2.aws.found.io:443/anna-conversations-v0/_search [status:200 duration:0.028s]\n",
      "POST https://persyn.es.us-west-2.aws.found.io:443/anna-summaries-v0/_update/2yM9coMBy5mPdc6PQHD6 [status:200 duration:0.026s]\n",
      "POST https://persyn.es.us-west-2.aws.found.io:443/anna-summaries-v0/_search [status:200 duration:0.027s]\n",
      "POST https://persyn.es.us-west-2.aws.found.io:443/anna-conversations-v0/_search [status:200 duration:0.027s]\n",
      "POST https://persyn.es.us-west-2.aws.found.io:443/anna-summaries-v0/_update/juBiNoQB6EXxeIxUlH6F [status:200 duration:0.032s]\n"
     ]
    },
    {
     "name": "stdout",
     "output_type": "stream",
     "text": [
      "{'_index': 'anna-summaries-v0', '_id': 'V-Cl2YMB6EXxeIxUQXiN', '_version': 2, 'result': 'updated', '_shards': {'total': 2, 'successful': 2, 'failed': 0}, '_seq_no': 2555, '_primary_term': 17}\n",
      "{'_index': 'anna-summaries-v0', '_id': '2yM9coMBy5mPdc6PQHD6', '_version': 2, 'result': 'updated', '_shards': {'total': 2, 'successful': 2, 'failed': 0}, '_seq_no': 2556, '_primary_term': 17}\n",
      "{'_index': 'anna-summaries-v0', '_id': 'juBiNoQB6EXxeIxUlH6F', '_version': 2, 'result': 'updated', '_shards': {'total': 2, 'successful': 2, 'failed': 0}, '_seq_no': 2557, '_primary_term': 17}\n"
     ]
    },
    {
     "name": "stderr",
     "output_type": "stream",
     "text": [
      "POST https://persyn.es.us-west-2.aws.found.io:443/anna-summaries-v0/_search [status:200 duration:0.026s]\n",
      "POST https://persyn.es.us-west-2.aws.found.io:443/anna-conversations-v0/_search [status:200 duration:0.026s]\n",
      "POST https://persyn.es.us-west-2.aws.found.io:443/anna-summaries-v0/_update/YE3ARoMBRfbdi4KA_1cF [status:200 duration:0.030s]\n",
      "POST https://persyn.es.us-west-2.aws.found.io:443/anna-summaries-v0/_search [status:200 duration:0.021s]\n",
      "POST https://persyn.es.us-west-2.aws.found.io:443/anna-conversations-v0/_search [status:200 duration:0.025s]\n",
      "POST https://persyn.es.us-west-2.aws.found.io:443/anna-summaries-v0/_update/8K92T4QBBNi73XUqlat9 [status:200 duration:0.030s]\n",
      "POST https://persyn.es.us-west-2.aws.found.io:443/anna-summaries-v0/_search [status:200 duration:0.029s]\n",
      "POST https://persyn.es.us-west-2.aws.found.io:443/anna-conversations-v0/_search [status:200 duration:0.021s]\n",
      "POST https://persyn.es.us-west-2.aws.found.io:443/anna-summaries-v0/_update/iWZUen4Byo-dF4zkDoAG [status:200 duration:0.037s]\n"
     ]
    },
    {
     "name": "stdout",
     "output_type": "stream",
     "text": [
      "{'_index': 'anna-summaries-v0', '_id': 'YE3ARoMBRfbdi4KA_1cF', '_version': 2, 'result': 'updated', '_shards': {'total': 2, 'successful': 2, 'failed': 0}, '_seq_no': 2558, '_primary_term': 17}\n",
      "{'_index': 'anna-summaries-v0', '_id': '8K92T4QBBNi73XUqlat9', '_version': 2, 'result': 'updated', '_shards': {'total': 2, 'successful': 2, 'failed': 0}, '_seq_no': 2559, '_primary_term': 17}\n",
      "{'_index': 'anna-summaries-v0', '_id': 'iWZUen4Byo-dF4zkDoAG', '_version': 4, 'result': 'updated', '_shards': {'total': 2, 'successful': 2, 'failed': 0}, '_seq_no': 2560, '_primary_term': 17}\n"
     ]
    },
    {
     "name": "stderr",
     "output_type": "stream",
     "text": [
      "POST https://persyn.es.us-west-2.aws.found.io:443/anna-summaries-v0/_search [status:200 duration:0.030s]\n",
      "POST https://persyn.es.us-west-2.aws.found.io:443/anna-conversations-v0/_search [status:200 duration:0.030s]\n",
      "POST https://persyn.es.us-west-2.aws.found.io:443/anna-summaries-v0/_update/OGb1en4Byo-dF4zkMIHZ [status:200 duration:0.030s]\n",
      "POST https://persyn.es.us-west-2.aws.found.io:443/anna-summaries-v0/_search [status:200 duration:0.030s]\n",
      "POST https://persyn.es.us-west-2.aws.found.io:443/anna-conversations-v0/_search [status:200 duration:0.027s]\n",
      "POST https://persyn.es.us-west-2.aws.found.io:443/anna-summaries-v0/_update/Omb1en4Byo-dF4zkZYFN [status:200 duration:0.024s]\n",
      "POST https://persyn.es.us-west-2.aws.found.io:443/anna-summaries-v0/_search [status:200 duration:0.025s]\n",
      "POST https://persyn.es.us-west-2.aws.found.io:443/anna-conversations-v0/_search [status:200 duration:0.026s]\n",
      "POST https://persyn.es.us-west-2.aws.found.io:443/anna-summaries-v0/_update/Vq-jWoQBBNi73XUqHayl [status:200 duration:0.024s]\n"
     ]
    },
    {
     "name": "stdout",
     "output_type": "stream",
     "text": [
      "{'_index': 'anna-summaries-v0', '_id': 'OGb1en4Byo-dF4zkMIHZ', '_version': 4, 'result': 'updated', '_shards': {'total': 2, 'successful': 2, 'failed': 0}, '_seq_no': 2561, '_primary_term': 17}\n",
      "{'_index': 'anna-summaries-v0', '_id': 'Omb1en4Byo-dF4zkZYFN', '_version': 4, 'result': 'updated', '_shards': {'total': 2, 'successful': 2, 'failed': 0}, '_seq_no': 2562, '_primary_term': 17}\n",
      "{'_index': 'anna-summaries-v0', '_id': 'Vq-jWoQBBNi73XUqHayl', '_version': 2, 'result': 'updated', '_shards': {'total': 2, 'successful': 2, 'failed': 0}, '_seq_no': 2563, '_primary_term': 17}\n"
     ]
    },
    {
     "name": "stderr",
     "output_type": "stream",
     "text": [
      "POST https://persyn.es.us-west-2.aws.found.io:443/anna-summaries-v0/_search [status:200 duration:0.028s]\n",
      "POST https://persyn.es.us-west-2.aws.found.io:443/anna-conversations-v0/_search [status:200 duration:0.028s]\n",
      "POST https://persyn.es.us-west-2.aws.found.io:443/anna-summaries-v0/_update/oWZWen4Byo-dF4zkIIDw [status:200 duration:0.030s]\n",
      "POST https://persyn.es.us-west-2.aws.found.io:443/anna-summaries-v0/_search [status:200 duration:0.025s]\n",
      "POST https://persyn.es.us-west-2.aws.found.io:443/anna-conversations-v0/_search [status:200 duration:0.024s]\n",
      "POST https://persyn.es.us-west-2.aws.found.io:443/anna-summaries-v0/_update/-iMwFYMBy5mPdc6PeWvs [status:200 duration:0.028s]\n",
      "POST https://persyn.es.us-west-2.aws.found.io:443/anna-summaries-v0/_search [status:200 duration:0.027s]\n",
      "POST https://persyn.es.us-west-2.aws.found.io:443/anna-conversations-v0/_search [status:200 duration:0.025s]\n",
      "POST https://persyn.es.us-west-2.aws.found.io:443/anna-summaries-v0/_update/Rq98o4MBBNi73XUqPaN5 [status:200 duration:0.026s]\n",
      "POST https://persyn.es.us-west-2.aws.found.io:443/anna-summaries-v0/_search [status:200 duration:0.028s]\n"
     ]
    },
    {
     "name": "stdout",
     "output_type": "stream",
     "text": [
      "{'_index': 'anna-summaries-v0', '_id': 'oWZWen4Byo-dF4zkIIDw', '_version': 4, 'result': 'updated', '_shards': {'total': 2, 'successful': 2, 'failed': 0}, '_seq_no': 2564, '_primary_term': 17}\n",
      "{'_index': 'anna-summaries-v0', '_id': '-iMwFYMBy5mPdc6PeWvs', '_version': 2, 'result': 'updated', '_shards': {'total': 2, 'successful': 2, 'failed': 0}, '_seq_no': 2565, '_primary_term': 17}\n",
      "{'_index': 'anna-summaries-v0', '_id': 'Rq98o4MBBNi73XUqPaN5', '_version': 2, 'result': 'updated', '_shards': {'total': 2, 'successful': 2, 'failed': 0}, '_seq_no': 2566, '_primary_term': 17}\n"
     ]
    },
    {
     "name": "stderr",
     "output_type": "stream",
     "text": [
      "POST https://persyn.es.us-west-2.aws.found.io:443/anna-conversations-v0/_search [status:200 duration:0.031s]\n",
      "POST https://persyn.es.us-west-2.aws.found.io:443/anna-summaries-v0/_update/tuC6OYQB6EXxeIxUcn5j [status:200 duration:0.031s]\n",
      "POST https://persyn.es.us-west-2.aws.found.io:443/anna-summaries-v0/_search [status:200 duration:0.029s]\n",
      "POST https://persyn.es.us-west-2.aws.found.io:443/anna-conversations-v0/_search [status:200 duration:0.026s]\n",
      "POST https://persyn.es.us-west-2.aws.found.io:443/anna-summaries-v0/_update/BK89rIQBBNi73XUqxLTW [status:200 duration:0.029s]\n",
      "POST https://persyn.es.us-west-2.aws.found.io:443/anna-summaries-v0/_search [status:200 duration:0.028s]\n",
      "POST https://persyn.es.us-west-2.aws.found.io:443/anna-conversations-v0/_search [status:200 duration:0.029s]\n",
      "POST https://persyn.es.us-west-2.aws.found.io:443/anna-summaries-v0/_update/-OA4qIQB6EXxeIxUQoaz [status:200 duration:0.030s]\n"
     ]
    },
    {
     "name": "stdout",
     "output_type": "stream",
     "text": [
      "{'_index': 'anna-summaries-v0', '_id': 'tuC6OYQB6EXxeIxUcn5j', '_version': 2, 'result': 'updated', '_shards': {'total': 2, 'successful': 2, 'failed': 0}, '_seq_no': 2567, '_primary_term': 17}\n",
      "{'_index': 'anna-summaries-v0', '_id': 'BK89rIQBBNi73XUqxLTW', '_version': 2, 'result': 'updated', '_shards': {'total': 2, 'successful': 2, 'failed': 0}, '_seq_no': 2568, '_primary_term': 17}\n",
      "{'_index': 'anna-summaries-v0', '_id': '-OA4qIQB6EXxeIxUQoaz', '_version': 2, 'result': 'updated', '_shards': {'total': 2, 'successful': 2, 'failed': 0}, '_seq_no': 2569, '_primary_term': 17}\n"
     ]
    },
    {
     "name": "stderr",
     "output_type": "stream",
     "text": [
      "POST https://persyn.es.us-west-2.aws.found.io:443/anna-summaries-v0/_search [status:200 duration:0.028s]\n",
      "POST https://persyn.es.us-west-2.aws.found.io:443/anna-conversations-v0/_search [status:200 duration:0.024s]\n",
      "POST https://persyn.es.us-west-2.aws.found.io:443/anna-summaries-v0/_update/v9RS9IABBCovfdTkFYZH [status:200 duration:0.030s]\n",
      "POST https://persyn.es.us-west-2.aws.found.io:443/anna-summaries-v0/_search [status:200 duration:0.028s]\n",
      "POST https://persyn.es.us-west-2.aws.found.io:443/anna-conversations-v0/_search [status:200 duration:0.029s]\n",
      "POST https://persyn.es.us-west-2.aws.found.io:443/anna-summaries-v0/_update/S-A_BoQB6EXxeIxUAXtT [status:200 duration:0.031s]\n",
      "POST https://persyn.es.us-west-2.aws.found.io:443/anna-summaries-v0/_search [status:200 duration:0.030s]\n",
      "POST https://persyn.es.us-west-2.aws.found.io:443/anna-conversations-v0/_search [status:200 duration:0.028s]\n",
      "POST https://persyn.es.us-west-2.aws.found.io:443/anna-summaries-v0/_update/sNQ6sIEBBCovfdTkprWP [status:200 duration:0.027s]\n"
     ]
    },
    {
     "name": "stdout",
     "output_type": "stream",
     "text": [
      "{'_index': 'anna-summaries-v0', '_id': 'v9RS9IABBCovfdTkFYZH', '_version': 2, 'result': 'updated', '_shards': {'total': 2, 'successful': 2, 'failed': 0}, '_seq_no': 2570, '_primary_term': 17}\n",
      "{'_index': 'anna-summaries-v0', '_id': 'S-A_BoQB6EXxeIxUAXtT', '_version': 2, 'result': 'updated', '_shards': {'total': 2, 'successful': 2, 'failed': 0}, '_seq_no': 2571, '_primary_term': 17}\n",
      "{'_index': 'anna-summaries-v0', '_id': 'sNQ6sIEBBCovfdTkprWP', '_version': 2, 'result': 'updated', '_shards': {'total': 2, 'successful': 2, 'failed': 0}, '_seq_no': 2572, '_primary_term': 17}\n"
     ]
    },
    {
     "name": "stderr",
     "output_type": "stream",
     "text": [
      "POST https://persyn.es.us-west-2.aws.found.io:443/anna-summaries-v0/_search [status:200 duration:0.031s]\n",
      "POST https://persyn.es.us-west-2.aws.found.io:443/anna-conversations-v0/_search [status:200 duration:0.034s]\n",
      "POST https://persyn.es.us-west-2.aws.found.io:443/anna-summaries-v0/_update/R6-7l4QBBNi73XUqDLCY [status:200 duration:0.041s]\n",
      "POST https://persyn.es.us-west-2.aws.found.io:443/anna-summaries-v0/_search [status:200 duration:0.030s]\n",
      "POST https://persyn.es.us-west-2.aws.found.io:443/anna-conversations-v0/_search [status:200 duration:0.024s]\n",
      "POST https://persyn.es.us-west-2.aws.found.io:443/anna-summaries-v0/_update/o2ZWen4Byo-dF4zkXIDA [status:200 duration:0.028s]\n",
      "POST https://persyn.es.us-west-2.aws.found.io:443/anna-summaries-v0/_search [status:200 duration:0.031s]\n",
      "POST https://persyn.es.us-west-2.aws.found.io:443/anna-conversations-v0/_search [status:200 duration:0.023s]\n",
      "POST https://persyn.es.us-west-2.aws.found.io:443/anna-summaries-v0/_update/kmZUen4Byo-dF4zk8oD0 [status:200 duration:0.031s]\n"
     ]
    },
    {
     "name": "stdout",
     "output_type": "stream",
     "text": [
      "{'_index': 'anna-summaries-v0', '_id': 'R6-7l4QBBNi73XUqDLCY', '_version': 2, 'result': 'updated', '_shards': {'total': 2, 'successful': 2, 'failed': 0}, '_seq_no': 2573, '_primary_term': 17}\n",
      "{'_index': 'anna-summaries-v0', '_id': 'o2ZWen4Byo-dF4zkXIDA', '_version': 4, 'result': 'updated', '_shards': {'total': 2, 'successful': 2, 'failed': 0}, '_seq_no': 2574, '_primary_term': 17}\n",
      "{'_index': 'anna-summaries-v0', '_id': 'kmZUen4Byo-dF4zk8oD0', '_version': 4, 'result': 'updated', '_shards': {'total': 2, 'successful': 2, 'failed': 0}, '_seq_no': 2575, '_primary_term': 17}\n"
     ]
    },
    {
     "name": "stderr",
     "output_type": "stream",
     "text": [
      "POST https://persyn.es.us-west-2.aws.found.io:443/anna-summaries-v0/_search [status:200 duration:0.028s]\n",
      "POST https://persyn.es.us-west-2.aws.found.io:443/anna-conversations-v0/_search [status:200 duration:0.028s]\n",
      "POST https://persyn.es.us-west-2.aws.found.io:443/anna-summaries-v0/_update/ga9wmoMBBNi73XUqS6Jc [status:200 duration:0.029s]\n",
      "POST https://persyn.es.us-west-2.aws.found.io:443/anna-summaries-v0/_search [status:200 duration:0.028s]\n",
      "POST https://persyn.es.us-west-2.aws.found.io:443/anna-conversations-v0/_search [status:200 duration:0.027s]\n",
      "POST https://persyn.es.us-west-2.aws.found.io:443/anna-summaries-v0/_update/jBjfVoAB1O6hlTWg0lxT [status:200 duration:0.024s]\n",
      "POST https://persyn.es.us-west-2.aws.found.io:443/anna-summaries-v0/_search [status:200 duration:0.027s]\n",
      "POST https://persyn.es.us-west-2.aws.found.io:443/anna-conversations-v0/_search [status:200 duration:0.026s]\n",
      "POST https://persyn.es.us-west-2.aws.found.io:443/anna-summaries-v0/_update/jWZUen4Byo-dF4zkb4Bp [status:200 duration:0.028s]\n",
      "POST https://persyn.es.us-west-2.aws.found.io:443/anna-summaries-v0/_search [status:200 duration:0.021s]\n"
     ]
    },
    {
     "name": "stdout",
     "output_type": "stream",
     "text": [
      "{'_index': 'anna-summaries-v0', '_id': 'ga9wmoMBBNi73XUqS6Jc', '_version': 2, 'result': 'updated', '_shards': {'total': 2, 'successful': 2, 'failed': 0}, '_seq_no': 2576, '_primary_term': 17}\n",
      "{'_index': 'anna-summaries-v0', '_id': 'jBjfVoAB1O6hlTWg0lxT', '_version': 2, 'result': 'updated', '_shards': {'total': 2, 'successful': 2, 'failed': 0}, '_seq_no': 2577, '_primary_term': 17}\n",
      "{'_index': 'anna-summaries-v0', '_id': 'jWZUen4Byo-dF4zkb4Bp', '_version': 4, 'result': 'updated', '_shards': {'total': 2, 'successful': 2, 'failed': 0}, '_seq_no': 2578, '_primary_term': 17}\n"
     ]
    },
    {
     "name": "stderr",
     "output_type": "stream",
     "text": [
      "POST https://persyn.es.us-west-2.aws.found.io:443/anna-conversations-v0/_search [status:200 duration:0.027s]\n",
      "POST https://persyn.es.us-west-2.aws.found.io:443/anna-summaries-v0/_update/j-Dy3YMB6EXxeIxUbnif [status:200 duration:0.025s]\n",
      "POST https://persyn.es.us-west-2.aws.found.io:443/anna-summaries-v0/_search [status:200 duration:0.028s]\n",
      "POST https://persyn.es.us-west-2.aws.found.io:443/anna-conversations-v0/_search [status:200 duration:0.022s]\n",
      "POST https://persyn.es.us-west-2.aws.found.io:443/anna-summaries-v0/_update/xdRzMIEBBCovfdTk3paR [status:200 duration:0.025s]\n",
      "POST https://persyn.es.us-west-2.aws.found.io:443/anna-summaries-v0/_search [status:200 duration:0.027s]\n",
      "POST https://persyn.es.us-west-2.aws.found.io:443/anna-conversations-v0/_search [status:200 duration:0.024s]\n",
      "POST https://persyn.es.us-west-2.aws.found.io:443/anna-summaries-v0/_update/4R1CBIIBGYbVpQ0oK4yx [status:200 duration:0.023s]\n",
      "POST https://persyn.es.us-west-2.aws.found.io:443/anna-summaries-v0/_search [status:200 duration:0.025s]\n"
     ]
    },
    {
     "name": "stdout",
     "output_type": "stream",
     "text": [
      "{'_index': 'anna-summaries-v0', '_id': 'j-Dy3YMB6EXxeIxUbnif', '_version': 2, 'result': 'updated', '_shards': {'total': 2, 'successful': 2, 'failed': 0}, '_seq_no': 2579, '_primary_term': 17}\n",
      "{'_index': 'anna-summaries-v0', '_id': 'xdRzMIEBBCovfdTk3paR', '_version': 2, 'result': 'updated', '_shards': {'total': 2, 'successful': 2, 'failed': 0}, '_seq_no': 2580, '_primary_term': 17}\n",
      "{'_index': 'anna-summaries-v0', '_id': '4R1CBIIBGYbVpQ0oK4yx', '_version': 2, 'result': 'updated', '_shards': {'total': 2, 'successful': 2, 'failed': 0}, '_seq_no': 2581, '_primary_term': 17}\n"
     ]
    },
    {
     "name": "stderr",
     "output_type": "stream",
     "text": [
      "POST https://persyn.es.us-west-2.aws.found.io:443/anna-conversations-v0/_search [status:200 duration:0.023s]\n",
      "POST https://persyn.es.us-west-2.aws.found.io:443/anna-summaries-v0/_update/BCMJlYIBy5mPdc6PmGY6 [status:200 duration:0.026s]\n",
      "POST https://persyn.es.us-west-2.aws.found.io:443/anna-summaries-v0/_search [status:200 duration:0.029s]\n",
      "POST https://persyn.es.us-west-2.aws.found.io:443/anna-conversations-v0/_search [status:200 duration:0.029s]\n",
      "POST https://persyn.es.us-west-2.aws.found.io:443/anna-summaries-v0/_update/nxgCi4AB1O6hlTWgX24E [status:200 duration:0.029s]\n",
      "POST https://persyn.es.us-west-2.aws.found.io:443/anna-summaries-v0/_search [status:200 duration:0.030s]\n",
      "POST https://persyn.es.us-west-2.aws.found.io:443/anna-conversations-v0/_search [status:200 duration:0.029s]\n",
      "POST https://persyn.es.us-west-2.aws.found.io:443/anna-summaries-v0/_update/_k1XcIMBRfbdi4KAM1n7 [status:200 duration:0.027s]\n"
     ]
    },
    {
     "name": "stdout",
     "output_type": "stream",
     "text": [
      "{'_index': 'anna-summaries-v0', '_id': 'BCMJlYIBy5mPdc6PmGY6', '_version': 2, 'result': 'updated', '_shards': {'total': 2, 'successful': 2, 'failed': 0}, '_seq_no': 2582, '_primary_term': 17}\n",
      "{'_index': 'anna-summaries-v0', '_id': 'nxgCi4AB1O6hlTWgX24E', '_version': 2, 'result': 'updated', '_shards': {'total': 2, 'successful': 2, 'failed': 0}, '_seq_no': 2583, '_primary_term': 17}\n",
      "{'_index': 'anna-summaries-v0', '_id': '_k1XcIMBRfbdi4KAM1n7', '_version': 2, 'result': 'updated', '_shards': {'total': 2, 'successful': 2, 'failed': 0}, '_seq_no': 2584, '_primary_term': 17}\n"
     ]
    },
    {
     "name": "stderr",
     "output_type": "stream",
     "text": [
      "POST https://persyn.es.us-west-2.aws.found.io:443/anna-summaries-v0/_search [status:200 duration:0.028s]\n",
      "POST https://persyn.es.us-west-2.aws.found.io:443/anna-conversations-v0/_search [status:200 duration:0.028s]\n",
      "POST https://persyn.es.us-west-2.aws.found.io:443/anna-summaries-v0/_update/0hji3H4B1O6hlTWggEjI [status:200 duration:0.032s]\n",
      "POST https://persyn.es.us-west-2.aws.found.io:443/anna-summaries-v0/_search [status:200 duration:0.030s]\n",
      "POST https://persyn.es.us-west-2.aws.found.io:443/anna-conversations-v0/_search [status:200 duration:0.023s]\n",
      "POST https://persyn.es.us-west-2.aws.found.io:443/anna-summaries-v0/_update/xyPHqYIBy5mPdc6POGaK [status:200 duration:0.030s]\n",
      "POST https://persyn.es.us-west-2.aws.found.io:443/anna-summaries-v0/_search [status:200 duration:0.029s]\n",
      "POST https://persyn.es.us-west-2.aws.found.io:443/anna-conversations-v0/_search [status:200 duration:0.022s]\n",
      "POST https://persyn.es.us-west-2.aws.found.io:443/anna-summaries-v0/_update/vWPNp34BSsm-lZhBwQ1Y [status:200 duration:0.033s]\n"
     ]
    },
    {
     "name": "stdout",
     "output_type": "stream",
     "text": [
      "{'_index': 'anna-summaries-v0', '_id': '0hji3H4B1O6hlTWggEjI', '_version': 2, 'result': 'updated', '_shards': {'total': 2, 'successful': 2, 'failed': 0}, '_seq_no': 2585, '_primary_term': 17}\n",
      "{'_index': 'anna-summaries-v0', '_id': 'xyPHqYIBy5mPdc6POGaK', '_version': 2, 'result': 'updated', '_shards': {'total': 2, 'successful': 2, 'failed': 0}, '_seq_no': 2586, '_primary_term': 17}\n",
      "{'_index': 'anna-summaries-v0', '_id': 'vWPNp34BSsm-lZhBwQ1Y', '_version': 2, 'result': 'updated', '_shards': {'total': 2, 'successful': 2, 'failed': 0}, '_seq_no': 2587, '_primary_term': 17}\n"
     ]
    },
    {
     "name": "stderr",
     "output_type": "stream",
     "text": [
      "POST https://persyn.es.us-west-2.aws.found.io:443/anna-summaries-v0/_search [status:200 duration:0.028s]\n",
      "POST https://persyn.es.us-west-2.aws.found.io:443/anna-conversations-v0/_search [status:200 duration:0.026s]\n",
      "POST https://persyn.es.us-west-2.aws.found.io:443/anna-summaries-v0/_update/PGb1en4Byo-dF4zkoYGk [status:200 duration:0.034s]\n",
      "POST https://persyn.es.us-west-2.aws.found.io:443/anna-summaries-v0/_search [status:200 duration:0.041s]\n",
      "POST https://persyn.es.us-west-2.aws.found.io:443/anna-conversations-v0/_search [status:200 duration:0.026s]\n",
      "POST https://persyn.es.us-west-2.aws.found.io:443/anna-summaries-v0/_update/Q2bjfX4Byo-dF4zkuYIF [status:200 duration:0.025s]\n",
      "POST https://persyn.es.us-west-2.aws.found.io:443/anna-summaries-v0/_search [status:200 duration:0.033s]\n",
      "POST https://persyn.es.us-west-2.aws.found.io:443/anna-conversations-v0/_search [status:200 duration:0.032s]\n",
      "POST https://persyn.es.us-west-2.aws.found.io:443/anna-summaries-v0/_update/LWbzen4Byo-dF4zk_IGs [status:200 duration:0.029s]\n"
     ]
    },
    {
     "name": "stdout",
     "output_type": "stream",
     "text": [
      "{'_index': 'anna-summaries-v0', '_id': 'PGb1en4Byo-dF4zkoYGk', '_version': 4, 'result': 'updated', '_shards': {'total': 2, 'successful': 2, 'failed': 0}, '_seq_no': 2588, '_primary_term': 17}\n",
      "{'_index': 'anna-summaries-v0', '_id': 'Q2bjfX4Byo-dF4zkuYIF', '_version': 4, 'result': 'updated', '_shards': {'total': 2, 'successful': 2, 'failed': 0}, '_seq_no': 2589, '_primary_term': 17}\n",
      "{'_index': 'anna-summaries-v0', '_id': 'LWbzen4Byo-dF4zk_IGs', '_version': 4, 'result': 'updated', '_shards': {'total': 2, 'successful': 2, 'failed': 0}, '_seq_no': 2590, '_primary_term': 17}\n"
     ]
    },
    {
     "name": "stderr",
     "output_type": "stream",
     "text": [
      "POST https://persyn.es.us-west-2.aws.found.io:443/anna-summaries-v0/_search [status:200 duration:0.028s]\n",
      "POST https://persyn.es.us-west-2.aws.found.io:443/anna-conversations-v0/_search [status:200 duration:0.033s]\n",
      "POST https://persyn.es.us-west-2.aws.found.io:443/anna-summaries-v0/_update/IWbzen4Byo-dF4zkE4EB [status:200 duration:0.026s]\n",
      "POST https://persyn.es.us-west-2.aws.found.io:443/anna-summaries-v0/_search [status:200 duration:0.029s]\n",
      "POST https://persyn.es.us-west-2.aws.found.io:443/anna-conversations-v0/_search [status:200 duration:0.025s]\n",
      "POST https://persyn.es.us-west-2.aws.found.io:443/anna-summaries-v0/_update/omZWen4Byo-dF4zkPoCV [status:200 duration:0.025s]\n",
      "POST https://persyn.es.us-west-2.aws.found.io:443/anna-summaries-v0/_search [status:200 duration:0.024s]\n",
      "POST https://persyn.es.us-west-2.aws.found.io:443/anna-conversations-v0/_search [status:200 duration:0.030s]\n",
      "POST https://persyn.es.us-west-2.aws.found.io:443/anna-summaries-v0/_update/c2ZSen4Byo-dF4zkRYCy [status:200 duration:0.025s]\n"
     ]
    },
    {
     "name": "stdout",
     "output_type": "stream",
     "text": [
      "{'_index': 'anna-summaries-v0', '_id': 'IWbzen4Byo-dF4zkE4EB', '_version': 4, 'result': 'updated', '_shards': {'total': 2, 'successful': 2, 'failed': 0}, '_seq_no': 2591, '_primary_term': 17}\n",
      "{'_index': 'anna-summaries-v0', '_id': 'omZWen4Byo-dF4zkPoCV', '_version': 4, 'result': 'updated', '_shards': {'total': 2, 'successful': 2, 'failed': 0}, '_seq_no': 2592, '_primary_term': 17}\n",
      "{'_index': 'anna-summaries-v0', '_id': 'c2ZSen4Byo-dF4zkRYCy', '_version': 4, 'result': 'updated', '_shards': {'total': 2, 'successful': 2, 'failed': 0}, '_seq_no': 2593, '_primary_term': 17}\n"
     ]
    },
    {
     "name": "stderr",
     "output_type": "stream",
     "text": [
      "POST https://persyn.es.us-west-2.aws.found.io:443/anna-summaries-v0/_search [status:200 duration:0.028s]\n",
      "POST https://persyn.es.us-west-2.aws.found.io:443/anna-conversations-v0/_search [status:200 duration:0.027s]\n",
      "POST https://persyn.es.us-west-2.aws.found.io:443/anna-summaries-v0/_update/G6-2r4QBBNi73XUqjbSB [status:200 duration:0.030s]\n",
      "POST https://persyn.es.us-west-2.aws.found.io:443/anna-summaries-v0/_search [status:200 duration:0.028s]\n",
      "POST https://persyn.es.us-west-2.aws.found.io:443/anna-conversations-v0/_search [status:200 duration:0.026s]\n",
      "POST https://persyn.es.us-west-2.aws.found.io:443/anna-summaries-v0/_update/5iPodIIBy5mPdc6Px2T- [status:200 duration:0.024s]\n",
      "POST https://persyn.es.us-west-2.aws.found.io:443/anna-summaries-v0/_search [status:200 duration:0.029s]\n",
      "POST https://persyn.es.us-west-2.aws.found.io:443/anna-conversations-v0/_search [status:200 duration:0.029s]\n",
      "POST https://persyn.es.us-west-2.aws.found.io:443/anna-summaries-v0/_update/-yOmlIIBy5mPdc6P4GXT [status:200 duration:0.025s]\n"
     ]
    },
    {
     "name": "stdout",
     "output_type": "stream",
     "text": [
      "{'_index': 'anna-summaries-v0', '_id': 'G6-2r4QBBNi73XUqjbSB', '_version': 2, 'result': 'updated', '_shards': {'total': 2, 'successful': 2, 'failed': 0}, '_seq_no': 2594, '_primary_term': 17}\n",
      "{'_index': 'anna-summaries-v0', '_id': '5iPodIIBy5mPdc6Px2T-', '_version': 2, 'result': 'updated', '_shards': {'total': 2, 'successful': 2, 'failed': 0}, '_seq_no': 2595, '_primary_term': 17}\n",
      "{'_index': 'anna-summaries-v0', '_id': '-yOmlIIBy5mPdc6P4GXT', '_version': 2, 'result': 'updated', '_shards': {'total': 2, 'successful': 2, 'failed': 0}, '_seq_no': 2596, '_primary_term': 17}\n"
     ]
    },
    {
     "name": "stderr",
     "output_type": "stream",
     "text": [
      "POST https://persyn.es.us-west-2.aws.found.io:443/anna-summaries-v0/_search [status:200 duration:0.026s]\n",
      "POST https://persyn.es.us-west-2.aws.found.io:443/anna-conversations-v0/_search [status:200 duration:0.027s]\n",
      "POST https://persyn.es.us-west-2.aws.found.io:443/anna-summaries-v0/_update/yyMZFYMBy5mPdc6PV2tE [status:200 duration:0.024s]\n",
      "POST https://persyn.es.us-west-2.aws.found.io:443/anna-summaries-v0/_search [status:200 duration:0.025s]\n",
      "POST https://persyn.es.us-west-2.aws.found.io:443/anna-conversations-v0/_search [status:200 duration:0.027s]\n",
      "POST https://persyn.es.us-west-2.aws.found.io:443/anna-summaries-v0/_update/byNQ8oIBy5mPdc6P7Gon [status:200 duration:0.026s]\n",
      "POST https://persyn.es.us-west-2.aws.found.io:443/anna-summaries-v0/_search [status:200 duration:0.030s]\n",
      "POST https://persyn.es.us-west-2.aws.found.io:443/anna-conversations-v0/_search [status:200 duration:0.029s]\n",
      "POST https://persyn.es.us-west-2.aws.found.io:443/anna-summaries-v0/_update/s6_PgoQBBNi73XUqrK1s [status:200 duration:0.028s]\n"
     ]
    },
    {
     "name": "stdout",
     "output_type": "stream",
     "text": [
      "{'_index': 'anna-summaries-v0', '_id': 'yyMZFYMBy5mPdc6PV2tE', '_version': 2, 'result': 'updated', '_shards': {'total': 2, 'successful': 2, 'failed': 0}, '_seq_no': 2597, '_primary_term': 17}\n",
      "{'_index': 'anna-summaries-v0', '_id': 'byNQ8oIBy5mPdc6P7Gon', '_version': 2, 'result': 'updated', '_shards': {'total': 2, 'successful': 2, 'failed': 0}, '_seq_no': 2598, '_primary_term': 17}\n",
      "{'_index': 'anna-summaries-v0', '_id': 's6_PgoQBBNi73XUqrK1s', '_version': 2, 'result': 'updated', '_shards': {'total': 2, 'successful': 2, 'failed': 0}, '_seq_no': 2599, '_primary_term': 17}\n"
     ]
    },
    {
     "name": "stderr",
     "output_type": "stream",
     "text": [
      "POST https://persyn.es.us-west-2.aws.found.io:443/anna-summaries-v0/_search [status:200 duration:0.028s]\n",
      "POST https://persyn.es.us-west-2.aws.found.io:443/anna-conversations-v0/_search [status:200 duration:0.028s]\n",
      "POST https://persyn.es.us-west-2.aws.found.io:443/anna-summaries-v0/_update/mB1eV4IBGYbVpQ0oKrMF [status:200 duration:0.025s]\n",
      "POST https://persyn.es.us-west-2.aws.found.io:443/anna-summaries-v0/_search [status:200 duration:0.027s]\n",
      "POST https://persyn.es.us-west-2.aws.found.io:443/anna-conversations-v0/_search [status:200 duration:0.024s]\n",
      "POST https://persyn.es.us-west-2.aws.found.io:443/anna-summaries-v0/_update/ZK_zq4QBBNi73XUqLLPq [status:200 duration:0.026s]\n",
      "POST https://persyn.es.us-west-2.aws.found.io:443/anna-summaries-v0/_search [status:200 duration:0.027s]\n",
      "POST https://persyn.es.us-west-2.aws.found.io:443/anna-conversations-v0/_search [status:200 duration:0.029s]\n",
      "POST https://persyn.es.us-west-2.aws.found.io:443/anna-summaries-v0/_update/TdSFCIEBBCovfdTkNozG [status:200 duration:0.031s]\n"
     ]
    },
    {
     "name": "stdout",
     "output_type": "stream",
     "text": [
      "{'_index': 'anna-summaries-v0', '_id': 'mB1eV4IBGYbVpQ0oKrMF', '_version': 2, 'result': 'updated', '_shards': {'total': 2, 'successful': 2, 'failed': 0}, '_seq_no': 2600, '_primary_term': 17}\n",
      "{'_index': 'anna-summaries-v0', '_id': 'ZK_zq4QBBNi73XUqLLPq', '_version': 2, 'result': 'updated', '_shards': {'total': 2, 'successful': 2, 'failed': 0}, '_seq_no': 2601, '_primary_term': 17}\n",
      "{'_index': 'anna-summaries-v0', '_id': 'TdSFCIEBBCovfdTkNozG', '_version': 2, 'result': 'updated', '_shards': {'total': 2, 'successful': 2, 'failed': 0}, '_seq_no': 2602, '_primary_term': 17}\n"
     ]
    },
    {
     "name": "stderr",
     "output_type": "stream",
     "text": [
      "POST https://persyn.es.us-west-2.aws.found.io:443/anna-summaries-v0/_search [status:200 duration:0.028s]\n",
      "POST https://persyn.es.us-west-2.aws.found.io:443/anna-conversations-v0/_search [status:200 duration:0.024s]\n",
      "POST https://persyn.es.us-west-2.aws.found.io:443/anna-summaries-v0/_update/TGb2en4Byo-dF4zk7oFs [status:200 duration:0.028s]\n",
      "POST https://persyn.es.us-west-2.aws.found.io:443/anna-summaries-v0/_search [status:200 duration:0.031s]\n",
      "POST https://persyn.es.us-west-2.aws.found.io:443/anna-conversations-v0/_search [status:200 duration:0.031s]\n",
      "POST https://persyn.es.us-west-2.aws.found.io:443/anna-summaries-v0/_update/EE1ieIMBRfbdi4KAMls5 [status:200 duration:0.029s]\n",
      "POST https://persyn.es.us-west-2.aws.found.io:443/anna-summaries-v0/_search [status:200 duration:0.029s]\n",
      "POST https://persyn.es.us-west-2.aws.found.io:443/anna-conversations-v0/_search [status:200 duration:0.028s]\n",
      "POST https://persyn.es.us-west-2.aws.found.io:443/anna-summaries-v0/_update/0SPxy4IBy5mPdc6Pemh9 [status:200 duration:0.026s]\n"
     ]
    },
    {
     "name": "stdout",
     "output_type": "stream",
     "text": [
      "{'_index': 'anna-summaries-v0', '_id': 'TGb2en4Byo-dF4zk7oFs', '_version': 4, 'result': 'updated', '_shards': {'total': 2, 'successful': 2, 'failed': 0}, '_seq_no': 2603, '_primary_term': 17}\n",
      "{'_index': 'anna-summaries-v0', '_id': 'EE1ieIMBRfbdi4KAMls5', '_version': 2, 'result': 'updated', '_shards': {'total': 2, 'successful': 2, 'failed': 0}, '_seq_no': 2604, '_primary_term': 17}\n",
      "{'_index': 'anna-summaries-v0', '_id': '0SPxy4IBy5mPdc6Pemh9', '_version': 2, 'result': 'updated', '_shards': {'total': 2, 'successful': 2, 'failed': 0}, '_seq_no': 2605, '_primary_term': 17}\n"
     ]
    },
    {
     "name": "stderr",
     "output_type": "stream",
     "text": [
      "POST https://persyn.es.us-west-2.aws.found.io:443/anna-summaries-v0/_search [status:200 duration:0.027s]\n",
      "POST https://persyn.es.us-west-2.aws.found.io:443/anna-conversations-v0/_search [status:200 duration:0.023s]\n",
      "POST https://persyn.es.us-west-2.aws.found.io:443/anna-summaries-v0/_update/nmZVen4Byo-dF4zk7oCW [status:200 duration:0.024s]\n",
      "POST https://persyn.es.us-west-2.aws.found.io:443/anna-summaries-v0/_search [status:200 duration:0.031s]\n",
      "POST https://persyn.es.us-west-2.aws.found.io:443/anna-conversations-v0/_search [status:200 duration:0.027s]\n",
      "POST https://persyn.es.us-west-2.aws.found.io:443/anna-summaries-v0/_update/bGZRen4Byo-dF4zkooBS [status:200 duration:0.025s]\n",
      "POST https://persyn.es.us-west-2.aws.found.io:443/anna-summaries-v0/_search [status:200 duration:0.030s]\n",
      "POST https://persyn.es.us-west-2.aws.found.io:443/anna-conversations-v0/_search [status:200 duration:0.026s]\n",
      "POST https://persyn.es.us-west-2.aws.found.io:443/anna-summaries-v0/_update/Lq-xjIMBBNi73XUqvqIB [status:200 duration:0.030s]\n"
     ]
    },
    {
     "name": "stdout",
     "output_type": "stream",
     "text": [
      "{'_index': 'anna-summaries-v0', '_id': 'nmZVen4Byo-dF4zk7oCW', '_version': 4, 'result': 'updated', '_shards': {'total': 2, 'successful': 2, 'failed': 0}, '_seq_no': 2606, '_primary_term': 17}\n",
      "{'_index': 'anna-summaries-v0', '_id': 'bGZRen4Byo-dF4zkooBS', '_version': 4, 'result': 'updated', '_shards': {'total': 2, 'successful': 2, 'failed': 0}, '_seq_no': 2607, '_primary_term': 17}\n",
      "{'_index': 'anna-summaries-v0', '_id': 'Lq-xjIMBBNi73XUqvqIB', '_version': 2, 'result': 'updated', '_shards': {'total': 2, 'successful': 2, 'failed': 0}, '_seq_no': 2608, '_primary_term': 17}\n"
     ]
    },
    {
     "name": "stderr",
     "output_type": "stream",
     "text": [
      "POST https://persyn.es.us-west-2.aws.found.io:443/anna-summaries-v0/_search [status:200 duration:0.026s]\n",
      "POST https://persyn.es.us-west-2.aws.found.io:443/anna-conversations-v0/_search [status:200 duration:0.037s]\n",
      "POST https://persyn.es.us-west-2.aws.found.io:443/anna-summaries-v0/_update/bWZRen4Byo-dF4zkwIAl [status:200 duration:0.027s]\n",
      "POST https://persyn.es.us-west-2.aws.found.io:443/anna-summaries-v0/_search [status:200 duration:0.029s]\n",
      "POST https://persyn.es.us-west-2.aws.found.io:443/anna-conversations-v0/_search [status:200 duration:0.032s]\n",
      "POST https://persyn.es.us-west-2.aws.found.io:443/anna-summaries-v0/_update/N2b1en4Byo-dF4zkH4Gb [status:200 duration:0.034s]\n",
      "POST https://persyn.es.us-west-2.aws.found.io:443/anna-summaries-v0/_search [status:200 duration:0.023s]\n",
      "POST https://persyn.es.us-west-2.aws.found.io:443/anna-conversations-v0/_search [status:200 duration:0.025s]\n",
      "POST https://persyn.es.us-west-2.aws.found.io:443/anna-summaries-v0/_update/YE1F04IBRfbdi4KAvlPX [status:200 duration:0.029s]\n"
     ]
    },
    {
     "name": "stdout",
     "output_type": "stream",
     "text": [
      "{'_index': 'anna-summaries-v0', '_id': 'bWZRen4Byo-dF4zkwIAl', '_version': 4, 'result': 'updated', '_shards': {'total': 2, 'successful': 2, 'failed': 0}, '_seq_no': 2609, '_primary_term': 17}\n",
      "{'_index': 'anna-summaries-v0', '_id': 'N2b1en4Byo-dF4zkH4Gb', '_version': 4, 'result': 'updated', '_shards': {'total': 2, 'successful': 2, 'failed': 0}, '_seq_no': 2610, '_primary_term': 17}\n",
      "{'_index': 'anna-summaries-v0', '_id': 'YE1F04IBRfbdi4KAvlPX', '_version': 2, 'result': 'updated', '_shards': {'total': 2, 'successful': 2, 'failed': 0}, '_seq_no': 2611, '_primary_term': 17}\n"
     ]
    },
    {
     "name": "stderr",
     "output_type": "stream",
     "text": [
      "POST https://persyn.es.us-west-2.aws.found.io:443/anna-summaries-v0/_search [status:200 duration:0.028s]\n",
      "POST https://persyn.es.us-west-2.aws.found.io:443/anna-conversations-v0/_search [status:200 duration:0.029s]\n",
      "POST https://persyn.es.us-west-2.aws.found.io:443/anna-summaries-v0/_update/i2bwhH4Byo-dF4zkl4Sa [status:200 duration:0.026s]\n",
      "POST https://persyn.es.us-west-2.aws.found.io:443/anna-summaries-v0/_search [status:200 duration:0.027s]\n",
      "POST https://persyn.es.us-west-2.aws.found.io:443/anna-conversations-v0/_search [status:200 duration:0.029s]\n",
      "POST https://persyn.es.us-west-2.aws.found.io:443/anna-summaries-v0/_update/r00ySYMBRfbdi4KA9lcT [status:200 duration:0.027s]\n",
      "POST https://persyn.es.us-west-2.aws.found.io:443/anna-summaries-v0/_search [status:200 duration:0.028s]\n",
      "POST https://persyn.es.us-west-2.aws.found.io:443/anna-conversations-v0/_search [status:200 duration:0.025s]\n",
      "POST https://persyn.es.us-west-2.aws.found.io:443/anna-summaries-v0/_update/FSOMFYMBy5mPdc6PDGyB [status:200 duration:0.027s]\n"
     ]
    },
    {
     "name": "stdout",
     "output_type": "stream",
     "text": [
      "{'_index': 'anna-summaries-v0', '_id': 'i2bwhH4Byo-dF4zkl4Sa', '_version': 4, 'result': 'updated', '_shards': {'total': 2, 'successful': 2, 'failed': 0}, '_seq_no': 2612, '_primary_term': 17}\n",
      "{'_index': 'anna-summaries-v0', '_id': 'r00ySYMBRfbdi4KA9lcT', '_version': 2, 'result': 'updated', '_shards': {'total': 2, 'successful': 2, 'failed': 0}, '_seq_no': 2613, '_primary_term': 17}\n",
      "{'_index': 'anna-summaries-v0', '_id': 'FSOMFYMBy5mPdc6PDGyB', '_version': 2, 'result': 'updated', '_shards': {'total': 2, 'successful': 2, 'failed': 0}, '_seq_no': 2614, '_primary_term': 17}\n"
     ]
    },
    {
     "name": "stderr",
     "output_type": "stream",
     "text": [
      "POST https://persyn.es.us-west-2.aws.found.io:443/anna-summaries-v0/_search [status:200 duration:0.027s]\n",
      "POST https://persyn.es.us-west-2.aws.found.io:443/anna-conversations-v0/_search [status:200 duration:0.026s]\n",
      "POST https://persyn.es.us-west-2.aws.found.io:443/anna-summaries-v0/_update/xa8yq4QBBNi73XUqrrJH [status:200 duration:0.023s]\n",
      "POST https://persyn.es.us-west-2.aws.found.io:443/anna-summaries-v0/_search [status:200 duration:0.021s]\n",
      "POST https://persyn.es.us-west-2.aws.found.io:443/anna-conversations-v0/_search [status:200 duration:0.026s]\n",
      "POST https://persyn.es.us-west-2.aws.found.io:443/anna-summaries-v0/_update/fyNao4IBy5mPdc6P6GZJ [status:200 duration:0.029s]\n",
      "POST https://persyn.es.us-west-2.aws.found.io:443/anna-summaries-v0/_search [status:200 duration:0.024s]\n",
      "POST https://persyn.es.us-west-2.aws.found.io:443/anna-conversations-v0/_search [status:200 duration:0.028s]\n",
      "POST https://persyn.es.us-west-2.aws.found.io:443/anna-summaries-v0/_update/eeC5RYQB6EXxeIxUfn-3 [status:200 duration:0.031s]\n",
      "POST https://persyn.es.us-west-2.aws.found.io:443/anna-summaries-v0/_search [status:200 duration:0.026s]\n"
     ]
    },
    {
     "name": "stdout",
     "output_type": "stream",
     "text": [
      "{'_index': 'anna-summaries-v0', '_id': 'xa8yq4QBBNi73XUqrrJH', '_version': 2, 'result': 'updated', '_shards': {'total': 2, 'successful': 2, 'failed': 0}, '_seq_no': 2615, '_primary_term': 17}\n",
      "{'_index': 'anna-summaries-v0', '_id': 'fyNao4IBy5mPdc6P6GZJ', '_version': 2, 'result': 'updated', '_shards': {'total': 2, 'successful': 2, 'failed': 0}, '_seq_no': 2616, '_primary_term': 17}\n",
      "{'_index': 'anna-summaries-v0', '_id': 'eeC5RYQB6EXxeIxUfn-3', '_version': 2, 'result': 'updated', '_shards': {'total': 2, 'successful': 2, 'failed': 0}, '_seq_no': 2617, '_primary_term': 17}\n"
     ]
    },
    {
     "name": "stderr",
     "output_type": "stream",
     "text": [
      "POST https://persyn.es.us-west-2.aws.found.io:443/anna-conversations-v0/_search [status:200 duration:0.025s]\n",
      "POST https://persyn.es.us-west-2.aws.found.io:443/anna-summaries-v0/_update/IuBQaIQB6EXxeIxUTYEb [status:200 duration:0.028s]\n",
      "POST https://persyn.es.us-west-2.aws.found.io:443/anna-summaries-v0/_search [status:200 duration:0.029s]\n",
      "POST https://persyn.es.us-west-2.aws.found.io:443/anna-conversations-v0/_search [status:200 duration:0.028s]\n",
      "POST https://persyn.es.us-west-2.aws.found.io:443/anna-summaries-v0/_update/Ia_6kIQBBNi73XUqZq_4 [status:200 duration:0.029s]\n",
      "POST https://persyn.es.us-west-2.aws.found.io:443/anna-summaries-v0/_search [status:200 duration:0.032s]\n",
      "POST https://persyn.es.us-west-2.aws.found.io:443/anna-conversations-v0/_search [status:200 duration:0.022s]\n",
      "POST https://persyn.es.us-west-2.aws.found.io:443/anna-summaries-v0/_update/nuANSoQB6EXxeIxU83_J [status:200 duration:0.031s]\n"
     ]
    },
    {
     "name": "stdout",
     "output_type": "stream",
     "text": [
      "{'_index': 'anna-summaries-v0', '_id': 'IuBQaIQB6EXxeIxUTYEb', '_version': 2, 'result': 'updated', '_shards': {'total': 2, 'successful': 2, 'failed': 0}, '_seq_no': 2618, '_primary_term': 17}\n",
      "{'_index': 'anna-summaries-v0', '_id': 'Ia_6kIQBBNi73XUqZq_4', '_version': 2, 'result': 'updated', '_shards': {'total': 2, 'successful': 2, 'failed': 0}, '_seq_no': 2619, '_primary_term': 17}\n",
      "{'_index': 'anna-summaries-v0', '_id': 'nuANSoQB6EXxeIxU83_J', '_version': 2, 'result': 'updated', '_shards': {'total': 2, 'successful': 2, 'failed': 0}, '_seq_no': 2620, '_primary_term': 17}\n"
     ]
    },
    {
     "name": "stderr",
     "output_type": "stream",
     "text": [
      "POST https://persyn.es.us-west-2.aws.found.io:443/anna-summaries-v0/_search [status:200 duration:0.027s]\n",
      "POST https://persyn.es.us-west-2.aws.found.io:443/anna-conversations-v0/_search [status:200 duration:0.025s]\n",
      "POST https://persyn.es.us-west-2.aws.found.io:443/anna-summaries-v0/_update/0a9kEoQBBNi73XUqkqk4 [status:200 duration:0.031s]\n",
      "POST https://persyn.es.us-west-2.aws.found.io:443/anna-summaries-v0/_search [status:200 duration:0.030s]\n",
      "POST https://persyn.es.us-west-2.aws.found.io:443/anna-conversations-v0/_search [status:200 duration:0.031s]\n",
      "POST https://persyn.es.us-west-2.aws.found.io:443/anna-summaries-v0/_update/uR3xQoIBGYbVpQ0o56vS [status:200 duration:0.027s]\n",
      "POST https://persyn.es.us-west-2.aws.found.io:443/anna-summaries-v0/_search [status:200 duration:0.029s]\n",
      "POST https://persyn.es.us-west-2.aws.found.io:443/anna-conversations-v0/_search [status:200 duration:0.027s]\n",
      "POST https://persyn.es.us-west-2.aws.found.io:443/anna-summaries-v0/_update/UhgXaIAB1O6hlTWgZ2PW [status:200 duration:0.029s]\n"
     ]
    },
    {
     "name": "stdout",
     "output_type": "stream",
     "text": [
      "{'_index': 'anna-summaries-v0', '_id': '0a9kEoQBBNi73XUqkqk4', '_version': 2, 'result': 'updated', '_shards': {'total': 2, 'successful': 2, 'failed': 0}, '_seq_no': 2621, '_primary_term': 17}\n",
      "{'_index': 'anna-summaries-v0', '_id': 'uR3xQoIBGYbVpQ0o56vS', '_version': 2, 'result': 'updated', '_shards': {'total': 2, 'successful': 2, 'failed': 0}, '_seq_no': 2622, '_primary_term': 17}\n",
      "{'_index': 'anna-summaries-v0', '_id': 'UhgXaIAB1O6hlTWgZ2PW', '_version': 2, 'result': 'updated', '_shards': {'total': 2, 'successful': 2, 'failed': 0}, '_seq_no': 2623, '_primary_term': 17}\n"
     ]
    },
    {
     "name": "stderr",
     "output_type": "stream",
     "text": [
      "POST https://persyn.es.us-west-2.aws.found.io:443/anna-summaries-v0/_search [status:200 duration:0.028s]\n",
      "POST https://persyn.es.us-west-2.aws.found.io:443/anna-conversations-v0/_search [status:200 duration:0.031s]\n",
      "POST https://persyn.es.us-west-2.aws.found.io:443/anna-summaries-v0/_update/6hhmZoAB1O6hlTWg-2Kt [status:200 duration:0.027s]\n",
      "POST https://persyn.es.us-west-2.aws.found.io:443/anna-summaries-v0/_search [status:200 duration:0.031s]\n",
      "POST https://persyn.es.us-west-2.aws.found.io:443/anna-conversations-v0/_search [status:200 duration:0.024s]\n",
      "POST https://persyn.es.us-west-2.aws.found.io:443/anna-summaries-v0/_update/ja_V04MBBNi73XUqMqPa [status:200 duration:0.027s]\n",
      "POST https://persyn.es.us-west-2.aws.found.io:443/anna-summaries-v0/_search [status:200 duration:0.023s]\n",
      "POST https://persyn.es.us-west-2.aws.found.io:443/anna-conversations-v0/_search [status:200 duration:0.027s]\n",
      "POST https://persyn.es.us-west-2.aws.found.io:443/anna-summaries-v0/_update/8BikWYAB1O6hlTWgdF1T [status:200 duration:0.022s]\n",
      "POST https://persyn.es.us-west-2.aws.found.io:443/anna-summaries-v0/_search [status:200 duration:0.028s]\n"
     ]
    },
    {
     "name": "stdout",
     "output_type": "stream",
     "text": [
      "{'_index': 'anna-summaries-v0', '_id': '6hhmZoAB1O6hlTWg-2Kt', '_version': 2, 'result': 'updated', '_shards': {'total': 2, 'successful': 2, 'failed': 0}, '_seq_no': 2624, '_primary_term': 17}\n",
      "{'_index': 'anna-summaries-v0', '_id': 'ja_V04MBBNi73XUqMqPa', '_version': 2, 'result': 'updated', '_shards': {'total': 2, 'successful': 2, 'failed': 0}, '_seq_no': 2625, '_primary_term': 17}\n",
      "{'_index': 'anna-summaries-v0', '_id': '8BikWYAB1O6hlTWgdF1T', '_version': 2, 'result': 'updated', '_shards': {'total': 2, 'successful': 2, 'failed': 0}, '_seq_no': 2626, '_primary_term': 17}\n"
     ]
    },
    {
     "name": "stderr",
     "output_type": "stream",
     "text": [
      "POST https://persyn.es.us-west-2.aws.found.io:443/anna-conversations-v0/_search [status:200 duration:0.021s]\n",
      "POST https://persyn.es.us-west-2.aws.found.io:443/anna-summaries-v0/_update/rR2KLYIBGYbVpQ0o_qNY [status:200 duration:0.024s]\n",
      "POST https://persyn.es.us-west-2.aws.found.io:443/anna-summaries-v0/_search [status:200 duration:0.028s]\n",
      "POST https://persyn.es.us-west-2.aws.found.io:443/anna-conversations-v0/_search [status:200 duration:0.025s]\n",
      "POST https://persyn.es.us-west-2.aws.found.io:443/anna-summaries-v0/_update/ka-fmoMBBNi73XUqd6Kh [status:200 duration:0.022s]\n",
      "POST https://persyn.es.us-west-2.aws.found.io:443/anna-summaries-v0/_search [status:200 duration:0.026s]\n",
      "POST https://persyn.es.us-west-2.aws.found.io:443/anna-conversations-v0/_search [status:200 duration:0.029s]\n",
      "POST https://persyn.es.us-west-2.aws.found.io:443/anna-summaries-v0/_update/M-CLj4MB6EXxeIxUMnb2 [status:200 duration:0.027s]\n",
      "POST https://persyn.es.us-west-2.aws.found.io:443/anna-summaries-v0/_search [status:200 duration:0.024s]\n"
     ]
    },
    {
     "name": "stdout",
     "output_type": "stream",
     "text": [
      "{'_index': 'anna-summaries-v0', '_id': 'rR2KLYIBGYbVpQ0o_qNY', '_version': 2, 'result': 'updated', '_shards': {'total': 2, 'successful': 2, 'failed': 0}, '_seq_no': 2627, '_primary_term': 17}\n",
      "{'_index': 'anna-summaries-v0', '_id': 'ka-fmoMBBNi73XUqd6Kh', '_version': 2, 'result': 'updated', '_shards': {'total': 2, 'successful': 2, 'failed': 0}, '_seq_no': 2628, '_primary_term': 17}\n",
      "{'_index': 'anna-summaries-v0', '_id': 'M-CLj4MB6EXxeIxUMnb2', '_version': 2, 'result': 'updated', '_shards': {'total': 2, 'successful': 2, 'failed': 0}, '_seq_no': 2629, '_primary_term': 17}\n"
     ]
    },
    {
     "name": "stderr",
     "output_type": "stream",
     "text": [
      "POST https://persyn.es.us-west-2.aws.found.io:443/anna-conversations-v0/_search [status:200 duration:0.027s]\n",
      "POST https://persyn.es.us-west-2.aws.found.io:443/anna-summaries-v0/_update/SiMgf4IBy5mPdc6PR2Vg [status:200 duration:0.030s]\n",
      "POST https://persyn.es.us-west-2.aws.found.io:443/anna-summaries-v0/_search [status:200 duration:0.026s]\n",
      "POST https://persyn.es.us-west-2.aws.found.io:443/anna-conversations-v0/_search [status:200 duration:0.029s]\n",
      "POST https://persyn.es.us-west-2.aws.found.io:443/anna-summaries-v0/_update/RU2gcYMBRfbdi4KAllq6 [status:200 duration:0.027s]\n",
      "POST https://persyn.es.us-west-2.aws.found.io:443/anna-summaries-v0/_search [status:200 duration:0.023s]\n",
      "POST https://persyn.es.us-west-2.aws.found.io:443/anna-conversations-v0/_search [status:200 duration:0.028s]\n",
      "POST https://persyn.es.us-west-2.aws.found.io:443/anna-summaries-v0/_update/Ta_OToQBBNi73XUqMqtK [status:200 duration:0.032s]\n"
     ]
    },
    {
     "name": "stdout",
     "output_type": "stream",
     "text": [
      "{'_index': 'anna-summaries-v0', '_id': 'SiMgf4IBy5mPdc6PR2Vg', '_version': 2, 'result': 'updated', '_shards': {'total': 2, 'successful': 2, 'failed': 0}, '_seq_no': 2630, '_primary_term': 17}\n",
      "{'_index': 'anna-summaries-v0', '_id': 'RU2gcYMBRfbdi4KAllq6', '_version': 2, 'result': 'updated', '_shards': {'total': 2, 'successful': 2, 'failed': 0}, '_seq_no': 2631, '_primary_term': 17}\n",
      "{'_index': 'anna-summaries-v0', '_id': 'Ta_OToQBBNi73XUqMqtK', '_version': 2, 'result': 'updated', '_shards': {'total': 2, 'successful': 2, 'failed': 0}, '_seq_no': 2632, '_primary_term': 17}\n"
     ]
    },
    {
     "name": "stderr",
     "output_type": "stream",
     "text": [
      "POST https://persyn.es.us-west-2.aws.found.io:443/anna-summaries-v0/_search [status:200 duration:0.027s]\n",
      "POST https://persyn.es.us-west-2.aws.found.io:443/anna-conversations-v0/_search [status:200 duration:0.030s]\n",
      "POST https://persyn.es.us-west-2.aws.found.io:443/anna-summaries-v0/_update/BCM5PYMBy5mPdc6P-m3N [status:200 duration:0.024s]\n",
      "POST https://persyn.es.us-west-2.aws.found.io:443/anna-summaries-v0/_search [status:200 duration:0.025s]\n",
      "POST https://persyn.es.us-west-2.aws.found.io:443/anna-conversations-v0/_search [status:200 duration:0.028s]\n",
      "POST https://persyn.es.us-west-2.aws.found.io:443/anna-summaries-v0/_update/IeCKj4MB6EXxeIxU6nZH [status:200 duration:0.029s]\n",
      "POST https://persyn.es.us-west-2.aws.found.io:443/anna-summaries-v0/_search [status:200 duration:0.027s]\n",
      "POST https://persyn.es.us-west-2.aws.found.io:443/anna-conversations-v0/_search [status:200 duration:0.027s]\n",
      "POST https://persyn.es.us-west-2.aws.found.io:443/anna-summaries-v0/_update/-eDfl4QB6EXxeIxUoYSv [status:200 duration:0.024s]\n",
      "POST https://persyn.es.us-west-2.aws.found.io:443/anna-summaries-v0/_search [status:200 duration:0.026s]\n"
     ]
    },
    {
     "name": "stdout",
     "output_type": "stream",
     "text": [
      "{'_index': 'anna-summaries-v0', '_id': 'BCM5PYMBy5mPdc6P-m3N', '_version': 2, 'result': 'updated', '_shards': {'total': 2, 'successful': 2, 'failed': 0}, '_seq_no': 2633, '_primary_term': 17}\n",
      "{'_index': 'anna-summaries-v0', '_id': 'IeCKj4MB6EXxeIxU6nZH', '_version': 2, 'result': 'updated', '_shards': {'total': 2, 'successful': 2, 'failed': 0}, '_seq_no': 2634, '_primary_term': 17}\n",
      "{'_index': 'anna-summaries-v0', '_id': '-eDfl4QB6EXxeIxUoYSv', '_version': 2, 'result': 'updated', '_shards': {'total': 2, 'successful': 2, 'failed': 0}, '_seq_no': 2635, '_primary_term': 17}\n"
     ]
    },
    {
     "name": "stderr",
     "output_type": "stream",
     "text": [
      "POST https://persyn.es.us-west-2.aws.found.io:443/anna-conversations-v0/_search [status:200 duration:0.027s]\n",
      "POST https://persyn.es.us-west-2.aws.found.io:443/anna-summaries-v0/_update/QeD_noMB6EXxeIxUU3dz [status:200 duration:0.022s]\n",
      "POST https://persyn.es.us-west-2.aws.found.io:443/anna-summaries-v0/_search [status:200 duration:0.027s]\n",
      "POST https://persyn.es.us-west-2.aws.found.io:443/anna-conversations-v0/_search [status:200 duration:0.022s]\n",
      "POST https://persyn.es.us-west-2.aws.found.io:443/anna-summaries-v0/_update/wq8kq4QBBNi73XUqDLLe [status:200 duration:0.029s]\n",
      "POST https://persyn.es.us-west-2.aws.found.io:443/anna-summaries-v0/_search [status:200 duration:0.025s]\n",
      "POST https://persyn.es.us-west-2.aws.found.io:443/anna-conversations-v0/_search [status:200 duration:0.024s]\n",
      "POST https://persyn.es.us-west-2.aws.found.io:443/anna-summaries-v0/_update/9SMtFYMBy5mPdc6PzWv_ [status:200 duration:0.030s]\n",
      "POST https://persyn.es.us-west-2.aws.found.io:443/anna-summaries-v0/_search [status:200 duration:0.030s]\n"
     ]
    },
    {
     "name": "stdout",
     "output_type": "stream",
     "text": [
      "{'_index': 'anna-summaries-v0', '_id': 'QeD_noMB6EXxeIxUU3dz', '_version': 2, 'result': 'updated', '_shards': {'total': 2, 'successful': 2, 'failed': 0}, '_seq_no': 2636, '_primary_term': 17}\n",
      "{'_index': 'anna-summaries-v0', '_id': 'wq8kq4QBBNi73XUqDLLe', '_version': 2, 'result': 'updated', '_shards': {'total': 2, 'successful': 2, 'failed': 0}, '_seq_no': 2637, '_primary_term': 17}\n",
      "{'_index': 'anna-summaries-v0', '_id': '9SMtFYMBy5mPdc6PzWv_', '_version': 2, 'result': 'updated', '_shards': {'total': 2, 'successful': 2, 'failed': 0}, '_seq_no': 2638, '_primary_term': 17}\n"
     ]
    },
    {
     "name": "stderr",
     "output_type": "stream",
     "text": [
      "POST https://persyn.es.us-west-2.aws.found.io:443/anna-conversations-v0/_search [status:200 duration:0.030s]\n",
      "POST https://persyn.es.us-west-2.aws.found.io:443/anna-summaries-v0/_update/buAFkYQB6EXxeIxU5IN_ [status:200 duration:0.031s]\n",
      "POST https://persyn.es.us-west-2.aws.found.io:443/anna-summaries-v0/_search [status:200 duration:0.032s]\n",
      "POST https://persyn.es.us-west-2.aws.found.io:443/anna-conversations-v0/_search [status:200 duration:0.029s]\n",
      "POST https://persyn.es.us-west-2.aws.found.io:443/anna-summaries-v0/_update/beDSFoQB6EXxeIxUo32g [status:200 duration:0.028s]\n",
      "POST https://persyn.es.us-west-2.aws.found.io:443/anna-summaries-v0/_search [status:200 duration:0.031s]\n",
      "POST https://persyn.es.us-west-2.aws.found.io:443/anna-conversations-v0/_search [status:200 duration:0.031s]\n",
      "POST https://persyn.es.us-west-2.aws.found.io:443/anna-summaries-v0/_update/59SaB4EBBCovfdTkw4uy [status:200 duration:0.028s]\n"
     ]
    },
    {
     "name": "stdout",
     "output_type": "stream",
     "text": [
      "{'_index': 'anna-summaries-v0', '_id': 'buAFkYQB6EXxeIxU5IN_', '_version': 2, 'result': 'updated', '_shards': {'total': 2, 'successful': 2, 'failed': 0}, '_seq_no': 2639, '_primary_term': 17}\n",
      "{'_index': 'anna-summaries-v0', '_id': 'beDSFoQB6EXxeIxUo32g', '_version': 2, 'result': 'updated', '_shards': {'total': 2, 'successful': 2, 'failed': 0}, '_seq_no': 2640, '_primary_term': 17}\n",
      "{'_index': 'anna-summaries-v0', '_id': '59SaB4EBBCovfdTkw4uy', '_version': 2, 'result': 'updated', '_shards': {'total': 2, 'successful': 2, 'failed': 0}, '_seq_no': 2641, '_primary_term': 17}\n"
     ]
    },
    {
     "name": "stderr",
     "output_type": "stream",
     "text": [
      "POST https://persyn.es.us-west-2.aws.found.io:443/anna-summaries-v0/_search [status:200 duration:0.028s]\n",
      "POST https://persyn.es.us-west-2.aws.found.io:443/anna-conversations-v0/_search [status:200 duration:0.031s]\n",
      "POST https://persyn.es.us-west-2.aws.found.io:443/anna-summaries-v0/_update/huDfB4QB6EXxeIxUrnux [status:200 duration:0.025s]\n",
      "POST https://persyn.es.us-west-2.aws.found.io:443/anna-summaries-v0/_search [status:200 duration:0.028s]\n",
      "POST https://persyn.es.us-west-2.aws.found.io:443/anna-conversations-v0/_search [status:200 duration:0.028s]\n",
      "POST https://persyn.es.us-west-2.aws.found.io:443/anna-summaries-v0/_update/GK8u_oMBBNi73XUq3aU7 [status:200 duration:0.026s]\n",
      "POST https://persyn.es.us-west-2.aws.found.io:443/anna-summaries-v0/_search [status:200 duration:0.027s]\n",
      "POST https://persyn.es.us-west-2.aws.found.io:443/anna-conversations-v0/_search [status:200 duration:0.022s]\n",
      "POST https://persyn.es.us-west-2.aws.found.io:443/anna-summaries-v0/_update/jOB7AIQB6EXxeIxUXXoH [status:200 duration:0.025s]\n",
      "POST https://persyn.es.us-west-2.aws.found.io:443/anna-summaries-v0/_search [status:200 duration:0.020s]\n"
     ]
    },
    {
     "name": "stdout",
     "output_type": "stream",
     "text": [
      "{'_index': 'anna-summaries-v0', '_id': 'huDfB4QB6EXxeIxUrnux', '_version': 2, 'result': 'updated', '_shards': {'total': 2, 'successful': 2, 'failed': 0}, '_seq_no': 2642, '_primary_term': 17}\n",
      "{'_index': 'anna-summaries-v0', '_id': 'GK8u_oMBBNi73XUq3aU7', '_version': 2, 'result': 'updated', '_shards': {'total': 2, 'successful': 2, 'failed': 0}, '_seq_no': 2643, '_primary_term': 17}\n",
      "{'_index': 'anna-summaries-v0', '_id': 'jOB7AIQB6EXxeIxUXXoH', '_version': 2, 'result': 'updated', '_shards': {'total': 2, 'successful': 2, 'failed': 0}, '_seq_no': 2644, '_primary_term': 17}\n"
     ]
    },
    {
     "name": "stderr",
     "output_type": "stream",
     "text": [
      "POST https://persyn.es.us-west-2.aws.found.io:443/anna-conversations-v0/_search [status:200 duration:0.025s]\n",
      "POST https://persyn.es.us-west-2.aws.found.io:443/anna-summaries-v0/_update/vk2KzIIBRfbdi4KAzlIv [status:200 duration:0.027s]\n",
      "POST https://persyn.es.us-west-2.aws.found.io:443/anna-summaries-v0/_search [status:200 duration:0.026s]\n",
      "POST https://persyn.es.us-west-2.aws.found.io:443/anna-conversations-v0/_search [status:200 duration:0.023s]\n",
      "POST https://persyn.es.us-west-2.aws.found.io:443/anna-summaries-v0/_update/IR2cUIIBGYbVpQ0oqLAg [status:200 duration:0.032s]\n",
      "POST https://persyn.es.us-west-2.aws.found.io:443/anna-summaries-v0/_search [status:200 duration:0.026s]\n",
      "POST https://persyn.es.us-west-2.aws.found.io:443/anna-conversations-v0/_search [status:200 duration:0.028s]\n",
      "POST https://persyn.es.us-west-2.aws.found.io:443/anna-summaries-v0/_update/5dTUMIEBBCovfdTkS5cZ [status:200 duration:0.028s]\n"
     ]
    },
    {
     "name": "stdout",
     "output_type": "stream",
     "text": [
      "{'_index': 'anna-summaries-v0', '_id': 'vk2KzIIBRfbdi4KAzlIv', '_version': 2, 'result': 'updated', '_shards': {'total': 2, 'successful': 2, 'failed': 0}, '_seq_no': 2645, '_primary_term': 17}\n",
      "{'_index': 'anna-summaries-v0', '_id': 'IR2cUIIBGYbVpQ0oqLAg', '_version': 2, 'result': 'updated', '_shards': {'total': 2, 'successful': 2, 'failed': 0}, '_seq_no': 2646, '_primary_term': 17}\n",
      "{'_index': 'anna-summaries-v0', '_id': '5dTUMIEBBCovfdTkS5cZ', '_version': 2, 'result': 'updated', '_shards': {'total': 2, 'successful': 2, 'failed': 0}, '_seq_no': 2647, '_primary_term': 17}\n"
     ]
    },
    {
     "name": "stderr",
     "output_type": "stream",
     "text": [
      "POST https://persyn.es.us-west-2.aws.found.io:443/anna-summaries-v0/_search [status:200 duration:0.028s]\n",
      "POST https://persyn.es.us-west-2.aws.found.io:443/anna-conversations-v0/_search [status:200 duration:0.028s]\n",
      "POST https://persyn.es.us-west-2.aws.found.io:443/anna-summaries-v0/_update/4tTpL4EBBCovfdTkJZXp [status:200 duration:0.026s]\n",
      "POST https://persyn.es.us-west-2.aws.found.io:443/anna-summaries-v0/_search [status:200 duration:0.028s]\n",
      "POST https://persyn.es.us-west-2.aws.found.io:443/anna-conversations-v0/_search [status:200 duration:0.027s]\n",
      "POST https://persyn.es.us-west-2.aws.found.io:443/anna-summaries-v0/_update/Nk1JpIIBRfbdi4KAzk5s [status:200 duration:0.024s]\n",
      "POST https://persyn.es.us-west-2.aws.found.io:443/anna-summaries-v0/_search [status:200 duration:0.025s]\n",
      "POST https://persyn.es.us-west-2.aws.found.io:443/anna-conversations-v0/_search [status:200 duration:0.026s]\n",
      "POST https://persyn.es.us-west-2.aws.found.io:443/anna-summaries-v0/_update/0q9EjYQBBNi73XUqga28 [status:200 duration:0.027s]\n",
      "POST https://persyn.es.us-west-2.aws.found.io:443/anna-summaries-v0/_search [status:200 duration:0.024s]\n"
     ]
    },
    {
     "name": "stdout",
     "output_type": "stream",
     "text": [
      "{'_index': 'anna-summaries-v0', '_id': '4tTpL4EBBCovfdTkJZXp', '_version': 2, 'result': 'updated', '_shards': {'total': 2, 'successful': 2, 'failed': 0}, '_seq_no': 2648, '_primary_term': 17}\n",
      "{'_index': 'anna-summaries-v0', '_id': 'Nk1JpIIBRfbdi4KAzk5s', '_version': 2, 'result': 'updated', '_shards': {'total': 2, 'successful': 2, 'failed': 0}, '_seq_no': 2649, '_primary_term': 17}\n",
      "{'_index': 'anna-summaries-v0', '_id': '0q9EjYQBBNi73XUqga28', '_version': 2, 'result': 'updated', '_shards': {'total': 2, 'successful': 2, 'failed': 0}, '_seq_no': 2650, '_primary_term': 17}\n"
     ]
    },
    {
     "name": "stderr",
     "output_type": "stream",
     "text": [
      "POST https://persyn.es.us-west-2.aws.found.io:443/anna-conversations-v0/_search [status:200 duration:0.027s]\n",
      "POST https://persyn.es.us-west-2.aws.found.io:443/anna-summaries-v0/_update/-a9Hl4QBBNi73XUqpq_7 [status:200 duration:0.028s]\n",
      "POST https://persyn.es.us-west-2.aws.found.io:443/anna-summaries-v0/_search [status:200 duration:0.021s]\n",
      "POST https://persyn.es.us-west-2.aws.found.io:443/anna-conversations-v0/_search [status:200 duration:0.026s]\n",
      "POST https://persyn.es.us-west-2.aws.found.io:443/anna-summaries-v0/_update/PK9HtoQBBNi73XUqPrQp [status:200 duration:0.024s]\n",
      "POST https://persyn.es.us-west-2.aws.found.io:443/anna-summaries-v0/_search [status:200 duration:0.025s]\n",
      "POST https://persyn.es.us-west-2.aws.found.io:443/anna-conversations-v0/_search [status:200 duration:0.028s]\n",
      "POST https://persyn.es.us-west-2.aws.found.io:443/anna-summaries-v0/_update/pU2hwYIBRfbdi4KAGlGe [status:200 duration:0.025s]\n",
      "POST https://persyn.es.us-west-2.aws.found.io:443/anna-summaries-v0/_search [status:200 duration:0.025s]\n"
     ]
    },
    {
     "name": "stdout",
     "output_type": "stream",
     "text": [
      "{'_index': 'anna-summaries-v0', '_id': '-a9Hl4QBBNi73XUqpq_7', '_version': 2, 'result': 'updated', '_shards': {'total': 2, 'successful': 2, 'failed': 0}, '_seq_no': 2651, '_primary_term': 17}\n",
      "{'_index': 'anna-summaries-v0', '_id': 'PK9HtoQBBNi73XUqPrQp', '_version': 2, 'result': 'updated', '_shards': {'total': 2, 'successful': 2, 'failed': 0}, '_seq_no': 2652, '_primary_term': 17}\n",
      "{'_index': 'anna-summaries-v0', '_id': 'pU2hwYIBRfbdi4KAGlGe', '_version': 2, 'result': 'updated', '_shards': {'total': 2, 'successful': 2, 'failed': 0}, '_seq_no': 2653, '_primary_term': 17}\n"
     ]
    },
    {
     "name": "stderr",
     "output_type": "stream",
     "text": [
      "POST https://persyn.es.us-west-2.aws.found.io:443/anna-conversations-v0/_search [status:200 duration:0.030s]\n",
      "POST https://persyn.es.us-west-2.aws.found.io:443/anna-summaries-v0/_update/3Rh6WYAB1O6hlTWgG10b [status:200 duration:0.028s]\n",
      "POST https://persyn.es.us-west-2.aws.found.io:443/anna-summaries-v0/_search [status:200 duration:0.027s]\n",
      "POST https://persyn.es.us-west-2.aws.found.io:443/anna-conversations-v0/_search [status:200 duration:0.023s]\n",
      "POST https://persyn.es.us-west-2.aws.found.io:443/anna-summaries-v0/_update/I6-OU4QBBNi73XUqGqw3 [status:200 duration:0.030s]\n",
      "POST https://persyn.es.us-west-2.aws.found.io:443/anna-summaries-v0/_search [status:200 duration:0.032s]\n",
      "POST https://persyn.es.us-west-2.aws.found.io:443/anna-conversations-v0/_search [status:200 duration:0.024s]\n",
      "POST https://persyn.es.us-west-2.aws.found.io:443/anna-summaries-v0/_update/bk20E4MBRfbdi4KAu1ZQ [status:200 duration:0.027s]\n"
     ]
    },
    {
     "name": "stdout",
     "output_type": "stream",
     "text": [
      "{'_index': 'anna-summaries-v0', '_id': '3Rh6WYAB1O6hlTWgG10b', '_version': 2, 'result': 'updated', '_shards': {'total': 2, 'successful': 2, 'failed': 0}, '_seq_no': 2654, '_primary_term': 17}\n",
      "{'_index': 'anna-summaries-v0', '_id': 'I6-OU4QBBNi73XUqGqw3', '_version': 2, 'result': 'updated', '_shards': {'total': 2, 'successful': 2, 'failed': 0}, '_seq_no': 2655, '_primary_term': 17}\n",
      "{'_index': 'anna-summaries-v0', '_id': 'bk20E4MBRfbdi4KAu1ZQ', '_version': 2, 'result': 'updated', '_shards': {'total': 2, 'successful': 2, 'failed': 0}, '_seq_no': 2656, '_primary_term': 17}\n"
     ]
    },
    {
     "name": "stderr",
     "output_type": "stream",
     "text": [
      "POST https://persyn.es.us-west-2.aws.found.io:443/anna-summaries-v0/_search [status:200 duration:0.031s]\n",
      "POST https://persyn.es.us-west-2.aws.found.io:443/anna-conversations-v0/_search [status:200 duration:0.027s]\n",
      "POST https://persyn.es.us-west-2.aws.found.io:443/anna-summaries-v0/_update/Ka9il4QBBNi73XUqdLCh [status:200 duration:0.034s]\n",
      "POST https://persyn.es.us-west-2.aws.found.io:443/anna-summaries-v0/_search [status:200 duration:0.029s]\n",
      "POST https://persyn.es.us-west-2.aws.found.io:443/anna-conversations-v0/_search [status:200 duration:0.030s]\n",
      "POST https://persyn.es.us-west-2.aws.found.io:443/anna-summaries-v0/_update/SOAkBoQB6EXxeIxUBHsS [status:200 duration:0.033s]\n",
      "POST https://persyn.es.us-west-2.aws.found.io:443/anna-summaries-v0/_search [status:200 duration:0.029s]\n",
      "POST https://persyn.es.us-west-2.aws.found.io:443/anna-conversations-v0/_search [status:200 duration:0.033s]\n",
      "POST https://persyn.es.us-west-2.aws.found.io:443/anna-summaries-v0/_update/zK-5NYQBBNi73XUqqapc [status:200 duration:0.027s]\n"
     ]
    },
    {
     "name": "stdout",
     "output_type": "stream",
     "text": [
      "{'_index': 'anna-summaries-v0', '_id': 'Ka9il4QBBNi73XUqdLCh', '_version': 2, 'result': 'updated', '_shards': {'total': 2, 'successful': 2, 'failed': 0}, '_seq_no': 2657, '_primary_term': 17}\n",
      "{'_index': 'anna-summaries-v0', '_id': 'SOAkBoQB6EXxeIxUBHsS', '_version': 2, 'result': 'updated', '_shards': {'total': 2, 'successful': 2, 'failed': 0}, '_seq_no': 2658, '_primary_term': 17}\n",
      "{'_index': 'anna-summaries-v0', '_id': 'zK-5NYQBBNi73XUqqapc', '_version': 2, 'result': 'updated', '_shards': {'total': 2, 'successful': 2, 'failed': 0}, '_seq_no': 2659, '_primary_term': 17}\n"
     ]
    },
    {
     "name": "stderr",
     "output_type": "stream",
     "text": [
      "POST https://persyn.es.us-west-2.aws.found.io:443/anna-summaries-v0/_search [status:200 duration:0.031s]\n",
      "POST https://persyn.es.us-west-2.aws.found.io:443/anna-conversations-v0/_search [status:200 duration:0.030s]\n",
      "POST https://persyn.es.us-west-2.aws.found.io:443/anna-summaries-v0/_update/IRiTXoAB1O6hlTWgp2Dv [status:200 duration:0.032s]\n",
      "POST https://persyn.es.us-west-2.aws.found.io:443/anna-summaries-v0/_search [status:200 duration:0.033s]\n",
      "POST https://persyn.es.us-west-2.aws.found.io:443/anna-conversations-v0/_search [status:200 duration:0.035s]\n",
      "POST https://persyn.es.us-west-2.aws.found.io:443/anna-summaries-v0/_update/QE0bgIMBRfbdi4KAglu8 [status:200 duration:0.027s]\n",
      "POST https://persyn.es.us-west-2.aws.found.io:443/anna-summaries-v0/_search [status:200 duration:0.027s]\n",
      "POST https://persyn.es.us-west-2.aws.found.io:443/anna-conversations-v0/_search [status:200 duration:0.030s]\n",
      "POST https://persyn.es.us-west-2.aws.found.io:443/anna-summaries-v0/_update/2SMcFYMBy5mPdc6PkWtd [status:200 duration:0.026s]\n"
     ]
    },
    {
     "name": "stdout",
     "output_type": "stream",
     "text": [
      "{'_index': 'anna-summaries-v0', '_id': 'IRiTXoAB1O6hlTWgp2Dv', '_version': 2, 'result': 'updated', '_shards': {'total': 2, 'successful': 2, 'failed': 0}, '_seq_no': 2660, '_primary_term': 17}\n",
      "{'_index': 'anna-summaries-v0', '_id': 'QE0bgIMBRfbdi4KAglu8', '_version': 2, 'result': 'updated', '_shards': {'total': 2, 'successful': 2, 'failed': 0}, '_seq_no': 2661, '_primary_term': 17}\n",
      "{'_index': 'anna-summaries-v0', '_id': '2SMcFYMBy5mPdc6PkWtd', '_version': 2, 'result': 'updated', '_shards': {'total': 2, 'successful': 2, 'failed': 0}, '_seq_no': 2662, '_primary_term': 17}\n"
     ]
    },
    {
     "name": "stderr",
     "output_type": "stream",
     "text": [
      "POST https://persyn.es.us-west-2.aws.found.io:443/anna-summaries-v0/_search [status:200 duration:0.028s]\n",
      "POST https://persyn.es.us-west-2.aws.found.io:443/anna-conversations-v0/_search [status:200 duration:0.028s]\n",
      "POST https://persyn.es.us-west-2.aws.found.io:443/anna-summaries-v0/_update/Tx2aVYIBGYbVpQ0oTbIr [status:200 duration:0.028s]\n",
      "POST https://persyn.es.us-west-2.aws.found.io:443/anna-summaries-v0/_search [status:200 duration:0.028s]\n",
      "POST https://persyn.es.us-west-2.aws.found.io:443/anna-conversations-v0/_search [status:200 duration:0.028s]\n",
      "POST https://persyn.es.us-west-2.aws.found.io:443/anna-summaries-v0/_update/tRhYXIAB1O6hlTWgtl6H [status:200 duration:0.030s]\n",
      "POST https://persyn.es.us-west-2.aws.found.io:443/anna-summaries-v0/_search [status:200 duration:0.022s]\n",
      "POST https://persyn.es.us-west-2.aws.found.io:443/anna-conversations-v0/_search [status:200 duration:0.029s]\n",
      "POST https://persyn.es.us-west-2.aws.found.io:443/anna-summaries-v0/_update/7tQGsYEBBCovfdTkl7W_ [status:200 duration:0.025s]\n",
      "POST https://persyn.es.us-west-2.aws.found.io:443/anna-summaries-v0/_search [status:200 duration:0.025s]\n"
     ]
    },
    {
     "name": "stdout",
     "output_type": "stream",
     "text": [
      "{'_index': 'anna-summaries-v0', '_id': 'Tx2aVYIBGYbVpQ0oTbIr', '_version': 2, 'result': 'updated', '_shards': {'total': 2, 'successful': 2, 'failed': 0}, '_seq_no': 2663, '_primary_term': 17}\n",
      "{'_index': 'anna-summaries-v0', '_id': 'tRhYXIAB1O6hlTWgtl6H', '_version': 2, 'result': 'updated', '_shards': {'total': 2, 'successful': 2, 'failed': 0}, '_seq_no': 2664, '_primary_term': 17}\n",
      "{'_index': 'anna-summaries-v0', '_id': '7tQGsYEBBCovfdTkl7W_', '_version': 2, 'result': 'updated', '_shards': {'total': 2, 'successful': 2, 'failed': 0}, '_seq_no': 2665, '_primary_term': 17}\n"
     ]
    },
    {
     "name": "stderr",
     "output_type": "stream",
     "text": [
      "POST https://persyn.es.us-west-2.aws.found.io:443/anna-conversations-v0/_search [status:200 duration:0.029s]\n",
      "POST https://persyn.es.us-west-2.aws.found.io:443/anna-summaries-v0/_update/FxiMXoAB1O6hlTWguWBm [status:200 duration:0.026s]\n",
      "POST https://persyn.es.us-west-2.aws.found.io:443/anna-summaries-v0/_search [status:200 duration:0.022s]\n",
      "POST https://persyn.es.us-west-2.aws.found.io:443/anna-conversations-v0/_search [status:200 duration:0.032s]\n",
      "POST https://persyn.es.us-west-2.aws.found.io:443/anna-summaries-v0/_update/ABgw2H4B1O6hlTWgNkcs [status:200 duration:0.025s]\n",
      "POST https://persyn.es.us-west-2.aws.found.io:443/anna-summaries-v0/_search [status:200 duration:0.021s]\n",
      "POST https://persyn.es.us-west-2.aws.found.io:443/anna-conversations-v0/_search [status:200 duration:0.027s]\n",
      "POST https://persyn.es.us-west-2.aws.found.io:443/anna-summaries-v0/_update/G-AMEYQB6EXxeIxUgnzW [status:200 duration:0.028s]\n",
      "POST https://persyn.es.us-west-2.aws.found.io:443/anna-summaries-v0/_search [status:200 duration:0.027s]\n"
     ]
    },
    {
     "name": "stdout",
     "output_type": "stream",
     "text": [
      "{'_index': 'anna-summaries-v0', '_id': 'FxiMXoAB1O6hlTWguWBm', '_version': 2, 'result': 'updated', '_shards': {'total': 2, 'successful': 2, 'failed': 0}, '_seq_no': 2666, '_primary_term': 17}\n",
      "{'_index': 'anna-summaries-v0', '_id': 'ABgw2H4B1O6hlTWgNkcs', '_version': 2, 'result': 'updated', '_shards': {'total': 2, 'successful': 2, 'failed': 0}, '_seq_no': 2667, '_primary_term': 17}\n",
      "{'_index': 'anna-summaries-v0', '_id': 'G-AMEYQB6EXxeIxUgnzW', '_version': 2, 'result': 'updated', '_shards': {'total': 2, 'successful': 2, 'failed': 0}, '_seq_no': 2668, '_primary_term': 17}\n"
     ]
    },
    {
     "name": "stderr",
     "output_type": "stream",
     "text": [
      "POST https://persyn.es.us-west-2.aws.found.io:443/anna-conversations-v0/_search [status:200 duration:0.027s]\n",
      "POST https://persyn.es.us-west-2.aws.found.io:443/anna-summaries-v0/_update/302Sf4IBRfbdi4KAK0pX [status:200 duration:0.029s]\n",
      "POST https://persyn.es.us-west-2.aws.found.io:443/anna-summaries-v0/_search [status:200 duration:0.021s]\n",
      "POST https://persyn.es.us-west-2.aws.found.io:443/anna-conversations-v0/_search [status:200 duration:0.028s]\n",
      "POST https://persyn.es.us-west-2.aws.found.io:443/anna-summaries-v0/_update/IK-mEoQBBNi73XUqWqqI [status:200 duration:0.026s]\n",
      "POST https://persyn.es.us-west-2.aws.found.io:443/anna-summaries-v0/_search [status:200 duration:0.027s]\n",
      "POST https://persyn.es.us-west-2.aws.found.io:443/anna-conversations-v0/_search [status:200 duration:0.025s]\n",
      "POST https://persyn.es.us-west-2.aws.found.io:443/anna-summaries-v0/_update/LK-4SYQBBNi73XUqA6uE [status:200 duration:0.030s]\n",
      "POST https://persyn.es.us-west-2.aws.found.io:443/anna-summaries-v0/_search [status:200 duration:0.027s]\n"
     ]
    },
    {
     "name": "stdout",
     "output_type": "stream",
     "text": [
      "{'_index': 'anna-summaries-v0', '_id': '302Sf4IBRfbdi4KAK0pX', '_version': 2, 'result': 'updated', '_shards': {'total': 2, 'successful': 2, 'failed': 0}, '_seq_no': 2669, '_primary_term': 17}\n",
      "{'_index': 'anna-summaries-v0', '_id': 'IK-mEoQBBNi73XUqWqqI', '_version': 2, 'result': 'updated', '_shards': {'total': 2, 'successful': 2, 'failed': 0}, '_seq_no': 2670, '_primary_term': 17}\n",
      "{'_index': 'anna-summaries-v0', '_id': 'LK-4SYQBBNi73XUqA6uE', '_version': 2, 'result': 'updated', '_shards': {'total': 2, 'successful': 2, 'failed': 0}, '_seq_no': 2671, '_primary_term': 17}\n"
     ]
    },
    {
     "name": "stderr",
     "output_type": "stream",
     "text": [
      "POST https://persyn.es.us-west-2.aws.found.io:443/anna-conversations-v0/_search [status:200 duration:0.023s]\n",
      "POST https://persyn.es.us-west-2.aws.found.io:443/anna-summaries-v0/_update/u-DVEYQB6EXxeIxUBHz2 [status:200 duration:0.027s]\n",
      "POST https://persyn.es.us-west-2.aws.found.io:443/anna-summaries-v0/_search [status:200 duration:0.025s]\n",
      "POST https://persyn.es.us-west-2.aws.found.io:443/anna-conversations-v0/_search [status:200 duration:0.028s]\n",
      "POST https://persyn.es.us-west-2.aws.found.io:443/anna-summaries-v0/_update/rk3IvYIBRfbdi4KAclDY [status:200 duration:0.034s]\n",
      "POST https://persyn.es.us-west-2.aws.found.io:443/anna-summaries-v0/_search [status:200 duration:0.031s]\n",
      "POST https://persyn.es.us-west-2.aws.found.io:443/anna-conversations-v0/_search [status:200 duration:0.031s]\n",
      "POST https://persyn.es.us-west-2.aws.found.io:443/anna-summaries-v0/_update/mRgcuoAB1O6hlTWglHPF [status:200 duration:0.032s]\n"
     ]
    },
    {
     "name": "stdout",
     "output_type": "stream",
     "text": [
      "{'_index': 'anna-summaries-v0', '_id': 'u-DVEYQB6EXxeIxUBHz2', '_version': 2, 'result': 'updated', '_shards': {'total': 2, 'successful': 2, 'failed': 0}, '_seq_no': 2672, '_primary_term': 17}\n",
      "{'_index': 'anna-summaries-v0', '_id': 'rk3IvYIBRfbdi4KAclDY', '_version': 2, 'result': 'updated', '_shards': {'total': 2, 'successful': 2, 'failed': 0}, '_seq_no': 2673, '_primary_term': 17}\n",
      "{'_index': 'anna-summaries-v0', '_id': 'mRgcuoAB1O6hlTWglHPF', '_version': 2, 'result': 'updated', '_shards': {'total': 2, 'successful': 2, 'failed': 0}, '_seq_no': 2674, '_primary_term': 17}\n"
     ]
    },
    {
     "name": "stderr",
     "output_type": "stream",
     "text": [
      "POST https://persyn.es.us-west-2.aws.found.io:443/anna-summaries-v0/_search [status:200 duration:0.023s]\n",
      "POST https://persyn.es.us-west-2.aws.found.io:443/anna-conversations-v0/_search [status:200 duration:0.029s]\n",
      "POST https://persyn.es.us-west-2.aws.found.io:443/anna-summaries-v0/_update/FdTwL4EBBCovfdTkB5bH [status:200 duration:0.027s]\n",
      "POST https://persyn.es.us-west-2.aws.found.io:443/anna-summaries-v0/_search [status:200 duration:0.028s]\n",
      "POST https://persyn.es.us-west-2.aws.found.io:443/anna-conversations-v0/_search [status:200 duration:0.026s]\n",
      "POST https://persyn.es.us-west-2.aws.found.io:443/anna-summaries-v0/_update/0R3TVYIBGYbVpQ0oYbJM [status:200 duration:0.031s]\n",
      "POST https://persyn.es.us-west-2.aws.found.io:443/anna-summaries-v0/_search [status:200 duration:0.023s]\n",
      "POST https://persyn.es.us-west-2.aws.found.io:443/anna-conversations-v0/_search [status:200 duration:0.022s]\n",
      "POST https://persyn.es.us-west-2.aws.found.io:443/anna-summaries-v0/_update/5dR7MIEBBCovfdTkbZav [status:200 duration:0.029s]\n",
      "POST https://persyn.es.us-west-2.aws.found.io:443/anna-summaries-v0/_search [status:200 duration:0.026s]\n"
     ]
    },
    {
     "name": "stdout",
     "output_type": "stream",
     "text": [
      "{'_index': 'anna-summaries-v0', '_id': 'FdTwL4EBBCovfdTkB5bH', '_version': 2, 'result': 'updated', '_shards': {'total': 2, 'successful': 2, 'failed': 0}, '_seq_no': 2675, '_primary_term': 17}\n",
      "{'_index': 'anna-summaries-v0', '_id': '0R3TVYIBGYbVpQ0oYbJM', '_version': 2, 'result': 'updated', '_shards': {'total': 2, 'successful': 2, 'failed': 0}, '_seq_no': 2676, '_primary_term': 17}\n",
      "{'_index': 'anna-summaries-v0', '_id': '5dR7MIEBBCovfdTkbZav', '_version': 2, 'result': 'updated', '_shards': {'total': 2, 'successful': 2, 'failed': 0}, '_seq_no': 2677, '_primary_term': 17}\n"
     ]
    },
    {
     "name": "stderr",
     "output_type": "stream",
     "text": [
      "POST https://persyn.es.us-west-2.aws.found.io:443/anna-conversations-v0/_search [status:200 duration:0.029s]\n",
      "POST https://persyn.es.us-west-2.aws.found.io:443/anna-summaries-v0/_update/2OB_koQB6EXxeIxUcIM8 [status:200 duration:0.032s]\n",
      "POST https://persyn.es.us-west-2.aws.found.io:443/anna-summaries-v0/_search [status:200 duration:0.030s]\n",
      "POST https://persyn.es.us-west-2.aws.found.io:443/anna-conversations-v0/_search [status:200 duration:0.023s]\n",
      "POST https://persyn.es.us-west-2.aws.found.io:443/anna-summaries-v0/_update/wK8ArIQBBNi73XUq4LMJ [status:200 duration:0.025s]\n",
      "POST https://persyn.es.us-west-2.aws.found.io:443/anna-summaries-v0/_search [status:200 duration:0.030s]\n",
      "POST https://persyn.es.us-west-2.aws.found.io:443/anna-conversations-v0/_search [status:200 duration:0.031s]\n",
      "POST https://persyn.es.us-west-2.aws.found.io:443/anna-summaries-v0/_update/j-DWFoQB6EXxeIxU8X0D [status:200 duration:0.026s]\n"
     ]
    },
    {
     "name": "stdout",
     "output_type": "stream",
     "text": [
      "{'_index': 'anna-summaries-v0', '_id': '2OB_koQB6EXxeIxUcIM8', '_version': 2, 'result': 'updated', '_shards': {'total': 2, 'successful': 2, 'failed': 0}, '_seq_no': 2678, '_primary_term': 17}\n",
      "{'_index': 'anna-summaries-v0', '_id': 'wK8ArIQBBNi73XUq4LMJ', '_version': 2, 'result': 'updated', '_shards': {'total': 2, 'successful': 2, 'failed': 0}, '_seq_no': 2679, '_primary_term': 17}\n",
      "{'_index': 'anna-summaries-v0', '_id': 'j-DWFoQB6EXxeIxU8X0D', '_version': 2, 'result': 'updated', '_shards': {'total': 2, 'successful': 2, 'failed': 0}, '_seq_no': 2680, '_primary_term': 17}\n"
     ]
    },
    {
     "name": "stderr",
     "output_type": "stream",
     "text": [
      "POST https://persyn.es.us-west-2.aws.found.io:443/anna-summaries-v0/_search [status:200 duration:0.028s]\n",
      "POST https://persyn.es.us-west-2.aws.found.io:443/anna-conversations-v0/_search [status:200 duration:0.023s]\n",
      "POST https://persyn.es.us-west-2.aws.found.io:443/anna-summaries-v0/_update/8uB9m4MB6EXxeIxUc3ZQ [status:200 duration:0.029s]\n",
      "POST https://persyn.es.us-west-2.aws.found.io:443/anna-summaries-v0/_search [status:200 duration:0.028s]\n",
      "POST https://persyn.es.us-west-2.aws.found.io:443/anna-conversations-v0/_search [status:200 duration:0.028s]\n",
      "POST https://persyn.es.us-west-2.aws.found.io:443/anna-summaries-v0/_update/m6-Q14MBBNi73XUqeaMu [status:200 duration:0.029s]\n",
      "POST https://persyn.es.us-west-2.aws.found.io:443/anna-summaries-v0/_search [status:200 duration:0.024s]\n",
      "POST https://persyn.es.us-west-2.aws.found.io:443/anna-conversations-v0/_search [status:200 duration:0.021s]\n",
      "POST https://persyn.es.us-west-2.aws.found.io:443/anna-summaries-v0/_update/3xjOLYAB1O6hlTWgBVK8 [status:200 duration:0.030s]\n"
     ]
    },
    {
     "name": "stdout",
     "output_type": "stream",
     "text": [
      "{'_index': 'anna-summaries-v0', '_id': '8uB9m4MB6EXxeIxUc3ZQ', '_version': 2, 'result': 'updated', '_shards': {'total': 2, 'successful': 2, 'failed': 0}, '_seq_no': 2681, '_primary_term': 17}\n",
      "{'_index': 'anna-summaries-v0', '_id': 'm6-Q14MBBNi73XUqeaMu', '_version': 2, 'result': 'updated', '_shards': {'total': 2, 'successful': 2, 'failed': 0}, '_seq_no': 2682, '_primary_term': 17}\n",
      "{'_index': 'anna-summaries-v0', '_id': '3xjOLYAB1O6hlTWgBVK8', '_version': 2, 'result': 'updated', '_shards': {'total': 2, 'successful': 2, 'failed': 0}, '_seq_no': 2683, '_primary_term': 17}\n"
     ]
    },
    {
     "name": "stderr",
     "output_type": "stream",
     "text": [
      "POST https://persyn.es.us-west-2.aws.found.io:443/anna-summaries-v0/_search [status:200 duration:0.030s]\n",
      "POST https://persyn.es.us-west-2.aws.found.io:443/anna-conversations-v0/_search [status:200 duration:0.024s]\n",
      "POST https://persyn.es.us-west-2.aws.found.io:443/anna-summaries-v0/_update/Iq-tjIMBBNi73XUqYKIx [status:200 duration:0.024s]\n",
      "POST https://persyn.es.us-west-2.aws.found.io:443/anna-summaries-v0/_search [status:200 duration:0.025s]\n",
      "POST https://persyn.es.us-west-2.aws.found.io:443/anna-conversations-v0/_search [status:200 duration:0.022s]\n",
      "POST https://persyn.es.us-west-2.aws.found.io:443/anna-summaries-v0/_update/Ka-em4MBBNi73XUqIaM9 [status:200 duration:0.025s]\n",
      "POST https://persyn.es.us-west-2.aws.found.io:443/anna-summaries-v0/_search [status:200 duration:0.026s]\n",
      "POST https://persyn.es.us-west-2.aws.found.io:443/anna-conversations-v0/_search [status:200 duration:0.026s]\n",
      "POST https://persyn.es.us-west-2.aws.found.io:443/anna-summaries-v0/_update/8E0SYoMBRfbdi4KA4lgz [status:200 duration:0.025s]\n",
      "POST https://persyn.es.us-west-2.aws.found.io:443/anna-summaries-v0/_search [status:200 duration:0.027s]\n"
     ]
    },
    {
     "name": "stdout",
     "output_type": "stream",
     "text": [
      "{'_index': 'anna-summaries-v0', '_id': 'Iq-tjIMBBNi73XUqYKIx', '_version': 2, 'result': 'updated', '_shards': {'total': 2, 'successful': 2, 'failed': 0}, '_seq_no': 2684, '_primary_term': 17}\n",
      "{'_index': 'anna-summaries-v0', '_id': 'Ka-em4MBBNi73XUqIaM9', '_version': 2, 'result': 'updated', '_shards': {'total': 2, 'successful': 2, 'failed': 0}, '_seq_no': 2685, '_primary_term': 17}\n",
      "{'_index': 'anna-summaries-v0', '_id': '8E0SYoMBRfbdi4KA4lgz', '_version': 2, 'result': 'updated', '_shards': {'total': 2, 'successful': 2, 'failed': 0}, '_seq_no': 2686, '_primary_term': 17}\n"
     ]
    },
    {
     "name": "stderr",
     "output_type": "stream",
     "text": [
      "POST https://persyn.es.us-west-2.aws.found.io:443/anna-conversations-v0/_search [status:200 duration:0.026s]\n",
      "POST https://persyn.es.us-west-2.aws.found.io:443/anna-summaries-v0/_update/gxiQPH8B1O6hlTWgmEt- [status:200 duration:0.025s]\n",
      "POST https://persyn.es.us-west-2.aws.found.io:443/anna-summaries-v0/_search [status:200 duration:0.026s]\n",
      "POST https://persyn.es.us-west-2.aws.found.io:443/anna-conversations-v0/_search [status:200 duration:0.027s]\n",
      "POST https://persyn.es.us-west-2.aws.found.io:443/anna-summaries-v0/_update/v69r-4MBBNi73XUqhqSO [status:200 duration:0.032s]\n",
      "POST https://persyn.es.us-west-2.aws.found.io:443/anna-summaries-v0/_search [status:200 duration:0.023s]\n",
      "POST https://persyn.es.us-west-2.aws.found.io:443/anna-conversations-v0/_search [status:200 duration:0.030s]\n",
      "POST https://persyn.es.us-west-2.aws.found.io:443/anna-summaries-v0/_update/xOCxY4QB6EXxeIxUF4AN [status:200 duration:0.028s]\n"
     ]
    },
    {
     "name": "stdout",
     "output_type": "stream",
     "text": [
      "{'_index': 'anna-summaries-v0', '_id': 'gxiQPH8B1O6hlTWgmEt-', '_version': 2, 'result': 'updated', '_shards': {'total': 2, 'successful': 2, 'failed': 0}, '_seq_no': 2687, '_primary_term': 17}\n",
      "{'_index': 'anna-summaries-v0', '_id': 'v69r-4MBBNi73XUqhqSO', '_version': 2, 'result': 'updated', '_shards': {'total': 2, 'successful': 2, 'failed': 0}, '_seq_no': 2688, '_primary_term': 17}\n",
      "{'_index': 'anna-summaries-v0', '_id': 'xOCxY4QB6EXxeIxUF4AN', '_version': 2, 'result': 'updated', '_shards': {'total': 2, 'successful': 2, 'failed': 0}, '_seq_no': 2689, '_primary_term': 17}\n"
     ]
    },
    {
     "name": "stderr",
     "output_type": "stream",
     "text": [
      "POST https://persyn.es.us-west-2.aws.found.io:443/anna-summaries-v0/_search [status:200 duration:0.030s]\n",
      "POST https://persyn.es.us-west-2.aws.found.io:443/anna-conversations-v0/_search [status:200 duration:0.028s]\n",
      "POST https://persyn.es.us-west-2.aws.found.io:443/anna-summaries-v0/_update/tuCpY4QB6EXxeIxUw4C2 [status:200 duration:0.033s]\n",
      "POST https://persyn.es.us-west-2.aws.found.io:443/anna-summaries-v0/_search [status:200 duration:0.028s]\n",
      "POST https://persyn.es.us-west-2.aws.found.io:443/anna-conversations-v0/_search [status:200 duration:0.031s]\n",
      "POST https://persyn.es.us-west-2.aws.found.io:443/anna-summaries-v0/_update/EuA3PoQB6EXxeIxUoH9z [status:200 duration:0.032s]\n",
      "POST https://persyn.es.us-west-2.aws.found.io:443/anna-summaries-v0/_search [status:200 duration:0.028s]\n",
      "POST https://persyn.es.us-west-2.aws.found.io:443/anna-conversations-v0/_search [status:200 duration:0.031s]\n",
      "POST https://persyn.es.us-west-2.aws.found.io:443/anna-summaries-v0/_update/Q-AZ8oMB6EXxeIxURnkE [status:200 duration:0.029s]\n"
     ]
    },
    {
     "name": "stdout",
     "output_type": "stream",
     "text": [
      "{'_index': 'anna-summaries-v0', '_id': 'tuCpY4QB6EXxeIxUw4C2', '_version': 2, 'result': 'updated', '_shards': {'total': 2, 'successful': 2, 'failed': 0}, '_seq_no': 2690, '_primary_term': 17}\n",
      "{'_index': 'anna-summaries-v0', '_id': 'EuA3PoQB6EXxeIxUoH9z', '_version': 2, 'result': 'updated', '_shards': {'total': 2, 'successful': 2, 'failed': 0}, '_seq_no': 2691, '_primary_term': 17}\n",
      "{'_index': 'anna-summaries-v0', '_id': 'Q-AZ8oMB6EXxeIxURnkE', '_version': 2, 'result': 'updated', '_shards': {'total': 2, 'successful': 2, 'failed': 0}, '_seq_no': 2692, '_primary_term': 17}\n"
     ]
    },
    {
     "name": "stderr",
     "output_type": "stream",
     "text": [
      "POST https://persyn.es.us-west-2.aws.found.io:443/anna-summaries-v0/_search [status:200 duration:0.028s]\n",
      "POST https://persyn.es.us-west-2.aws.found.io:443/anna-conversations-v0/_search [status:200 duration:0.028s]\n",
      "POST https://persyn.es.us-west-2.aws.found.io:443/anna-summaries-v0/_update/MdS2xoEBBCovfdTkjLvm [status:200 duration:0.035s]\n",
      "POST https://persyn.es.us-west-2.aws.found.io:443/anna-summaries-v0/_search [status:200 duration:0.027s]\n",
      "POST https://persyn.es.us-west-2.aws.found.io:443/anna-conversations-v0/_search [status:200 duration:0.021s]\n",
      "POST https://persyn.es.us-west-2.aws.found.io:443/anna-summaries-v0/_update/6uBdu4QB6EXxeIxUVYca [status:200 duration:0.023s]\n",
      "POST https://persyn.es.us-west-2.aws.found.io:443/anna-summaries-v0/_search [status:200 duration:0.027s]\n",
      "POST https://persyn.es.us-west-2.aws.found.io:443/anna-conversations-v0/_search [status:200 duration:0.027s]\n",
      "POST https://persyn.es.us-west-2.aws.found.io:443/anna-summaries-v0/_update/9tS8B4EBBCovfdTkRIs0 [status:200 duration:0.027s]\n",
      "POST https://persyn.es.us-west-2.aws.found.io:443/anna-summaries-v0/_search [status:200 duration:0.027s]\n"
     ]
    },
    {
     "name": "stdout",
     "output_type": "stream",
     "text": [
      "{'_index': 'anna-summaries-v0', '_id': 'MdS2xoEBBCovfdTkjLvm', '_version': 2, 'result': 'updated', '_shards': {'total': 2, 'successful': 2, 'failed': 0}, '_seq_no': 2693, '_primary_term': 17}\n",
      "{'_index': 'anna-summaries-v0', '_id': '6uBdu4QB6EXxeIxUVYca', '_version': 2, 'result': 'updated', '_shards': {'total': 2, 'successful': 2, 'failed': 0}, '_seq_no': 2694, '_primary_term': 17}\n",
      "{'_index': 'anna-summaries-v0', '_id': '9tS8B4EBBCovfdTkRIs0', '_version': 2, 'result': 'updated', '_shards': {'total': 2, 'successful': 2, 'failed': 0}, '_seq_no': 2695, '_primary_term': 17}\n"
     ]
    },
    {
     "name": "stderr",
     "output_type": "stream",
     "text": [
      "POST https://persyn.es.us-west-2.aws.found.io:443/anna-conversations-v0/_search [status:200 duration:0.031s]\n",
      "POST https://persyn.es.us-west-2.aws.found.io:443/anna-summaries-v0/_update/Eq9iaIQBBNi73XUqp60i [status:200 duration:0.022s]\n",
      "POST https://persyn.es.us-west-2.aws.found.io:443/anna-summaries-v0/_search [status:200 duration:0.029s]\n",
      "POST https://persyn.es.us-west-2.aws.found.io:443/anna-conversations-v0/_search [status:200 duration:0.027s]\n",
      "POST https://persyn.es.us-west-2.aws.found.io:443/anna-summaries-v0/_update/kq-qmoMBBNi73XUqyKKc [status:200 duration:0.029s]\n",
      "POST https://persyn.es.us-west-2.aws.found.io:443/anna-summaries-v0/_search [status:200 duration:0.027s]\n",
      "POST https://persyn.es.us-west-2.aws.found.io:443/anna-conversations-v0/_search [status:200 duration:0.032s]\n",
      "POST https://persyn.es.us-west-2.aws.found.io:443/anna-summaries-v0/_update/DeDznoMB6EXxeIxU6nc8 [status:200 duration:0.024s]\n"
     ]
    },
    {
     "name": "stdout",
     "output_type": "stream",
     "text": [
      "{'_index': 'anna-summaries-v0', '_id': 'Eq9iaIQBBNi73XUqp60i', '_version': 2, 'result': 'updated', '_shards': {'total': 2, 'successful': 2, 'failed': 0}, '_seq_no': 2696, '_primary_term': 17}\n",
      "{'_index': 'anna-summaries-v0', '_id': 'kq-qmoMBBNi73XUqyKKc', '_version': 2, 'result': 'updated', '_shards': {'total': 2, 'successful': 2, 'failed': 0}, '_seq_no': 2697, '_primary_term': 17}\n",
      "{'_index': 'anna-summaries-v0', '_id': 'DeDznoMB6EXxeIxU6nc8', '_version': 2, 'result': 'updated', '_shards': {'total': 2, 'successful': 2, 'failed': 0}, '_seq_no': 2698, '_primary_term': 17}\n"
     ]
    },
    {
     "name": "stderr",
     "output_type": "stream",
     "text": [
      "POST https://persyn.es.us-west-2.aws.found.io:443/anna-summaries-v0/_search [status:200 duration:0.022s]\n",
      "POST https://persyn.es.us-west-2.aws.found.io:443/anna-conversations-v0/_search [status:200 duration:0.029s]\n",
      "POST https://persyn.es.us-west-2.aws.found.io:443/anna-summaries-v0/_update/8BgLBn8B1O6hlTWg0kr0 [status:200 duration:0.025s]\n",
      "POST https://persyn.es.us-west-2.aws.found.io:443/anna-summaries-v0/_search [status:200 duration:0.027s]\n",
      "POST https://persyn.es.us-west-2.aws.found.io:443/anna-conversations-v0/_search [status:200 duration:0.020s]\n",
      "POST https://persyn.es.us-west-2.aws.found.io:443/anna-summaries-v0/_update/nCP8yoIBy5mPdc6P6Gge [status:200 duration:0.029s]\n",
      "POST https://persyn.es.us-west-2.aws.found.io:443/anna-summaries-v0/_search [status:200 duration:0.028s]\n",
      "POST https://persyn.es.us-west-2.aws.found.io:443/anna-conversations-v0/_search [status:200 duration:0.027s]\n",
      "POST https://persyn.es.us-west-2.aws.found.io:443/anna-summaries-v0/_update/wuBJT4QB6EXxeIxUM3-l [status:200 duration:0.027s]\n",
      "POST https://persyn.es.us-west-2.aws.found.io:443/anna-summaries-v0/_search [status:200 duration:0.023s]\n"
     ]
    },
    {
     "name": "stdout",
     "output_type": "stream",
     "text": [
      "{'_index': 'anna-summaries-v0', '_id': '8BgLBn8B1O6hlTWg0kr0', '_version': 2, 'result': 'updated', '_shards': {'total': 2, 'successful': 2, 'failed': 0}, '_seq_no': 2699, '_primary_term': 17}\n",
      "{'_index': 'anna-summaries-v0', '_id': 'nCP8yoIBy5mPdc6P6Gge', '_version': 2, 'result': 'updated', '_shards': {'total': 2, 'successful': 2, 'failed': 0}, '_seq_no': 2700, '_primary_term': 17}\n",
      "{'_index': 'anna-summaries-v0', '_id': 'wuBJT4QB6EXxeIxUM3-l', '_version': 2, 'result': 'updated', '_shards': {'total': 2, 'successful': 2, 'failed': 0}, '_seq_no': 2701, '_primary_term': 17}\n"
     ]
    },
    {
     "name": "stderr",
     "output_type": "stream",
     "text": [
      "POST https://persyn.es.us-west-2.aws.found.io:443/anna-conversations-v0/_search [status:200 duration:0.028s]\n",
      "POST https://persyn.es.us-west-2.aws.found.io:443/anna-summaries-v0/_update/Q02AQ4MBRfbdi4KAJlfy [status:200 duration:0.025s]\n",
      "POST https://persyn.es.us-west-2.aws.found.io:443/anna-summaries-v0/_search [status:200 duration:0.021s]\n",
      "POST https://persyn.es.us-west-2.aws.found.io:443/anna-conversations-v0/_search [status:200 duration:0.026s]\n",
      "POST https://persyn.es.us-west-2.aws.found.io:443/anna-summaries-v0/_update/BK9uAIQBBNi73XUqwaae [status:200 duration:0.028s]\n",
      "POST https://persyn.es.us-west-2.aws.found.io:443/anna-summaries-v0/_search [status:200 duration:0.030s]\n",
      "POST https://persyn.es.us-west-2.aws.found.io:443/anna-conversations-v0/_search [status:200 duration:0.028s]\n",
      "POST https://persyn.es.us-west-2.aws.found.io:443/anna-summaries-v0/_update/e69cnYQBBNi73XUqrLAB [status:200 duration:0.025s]\n"
     ]
    },
    {
     "name": "stdout",
     "output_type": "stream",
     "text": [
      "{'_index': 'anna-summaries-v0', '_id': 'Q02AQ4MBRfbdi4KAJlfy', '_version': 2, 'result': 'updated', '_shards': {'total': 2, 'successful': 2, 'failed': 0}, '_seq_no': 2702, '_primary_term': 17}\n",
      "{'_index': 'anna-summaries-v0', '_id': 'BK9uAIQBBNi73XUqwaae', '_version': 2, 'result': 'updated', '_shards': {'total': 2, 'successful': 2, 'failed': 0}, '_seq_no': 2703, '_primary_term': 17}\n",
      "{'_index': 'anna-summaries-v0', '_id': 'e69cnYQBBNi73XUqrLAB', '_version': 2, 'result': 'updated', '_shards': {'total': 2, 'successful': 2, 'failed': 0}, '_seq_no': 2704, '_primary_term': 17}\n"
     ]
    },
    {
     "name": "stderr",
     "output_type": "stream",
     "text": [
      "POST https://persyn.es.us-west-2.aws.found.io:443/anna-summaries-v0/_search [status:200 duration:0.030s]\n",
      "POST https://persyn.es.us-west-2.aws.found.io:443/anna-conversations-v0/_search [status:200 duration:0.028s]\n",
      "POST https://persyn.es.us-west-2.aws.found.io:443/anna-summaries-v0/_update/6-Dx_YMB6EXxeIxUgnlS [status:200 duration:0.026s]\n",
      "POST https://persyn.es.us-west-2.aws.found.io:443/anna-summaries-v0/_search [status:200 duration:0.028s]\n",
      "POST https://persyn.es.us-west-2.aws.found.io:443/anna-conversations-v0/_search [status:200 duration:0.029s]\n",
      "POST https://persyn.es.us-west-2.aws.found.io:443/anna-summaries-v0/_update/pR3OMYIBGYbVpQ0o0qaC [status:200 duration:0.026s]\n",
      "POST https://persyn.es.us-west-2.aws.found.io:443/anna-summaries-v0/_search [status:200 duration:0.030s]\n",
      "POST https://persyn.es.us-west-2.aws.found.io:443/anna-conversations-v0/_search [status:200 duration:0.027s]\n",
      "POST https://persyn.es.us-west-2.aws.found.io:443/anna-summaries-v0/_update/468-k4QBBNi73XUqGq9d [status:200 duration:0.028s]\n"
     ]
    },
    {
     "name": "stdout",
     "output_type": "stream",
     "text": [
      "{'_index': 'anna-summaries-v0', '_id': '6-Dx_YMB6EXxeIxUgnlS', '_version': 2, 'result': 'updated', '_shards': {'total': 2, 'successful': 2, 'failed': 0}, '_seq_no': 2705, '_primary_term': 17}\n",
      "{'_index': 'anna-summaries-v0', '_id': 'pR3OMYIBGYbVpQ0o0qaC', '_version': 2, 'result': 'updated', '_shards': {'total': 2, 'successful': 2, 'failed': 0}, '_seq_no': 2706, '_primary_term': 17}\n",
      "{'_index': 'anna-summaries-v0', '_id': '468-k4QBBNi73XUqGq9d', '_version': 2, 'result': 'updated', '_shards': {'total': 2, 'successful': 2, 'failed': 0}, '_seq_no': 2707, '_primary_term': 17}\n"
     ]
    },
    {
     "name": "stderr",
     "output_type": "stream",
     "text": [
      "POST https://persyn.es.us-west-2.aws.found.io:443/anna-summaries-v0/_search [status:200 duration:0.023s]\n",
      "POST https://persyn.es.us-west-2.aws.found.io:443/anna-conversations-v0/_search [status:200 duration:0.026s]\n",
      "POST https://persyn.es.us-west-2.aws.found.io:443/anna-summaries-v0/_update/4k3-S4MBRfbdi4KA8Vex [status:200 duration:0.028s]\n",
      "POST https://persyn.es.us-west-2.aws.found.io:443/anna-summaries-v0/_search [status:200 duration:0.028s]\n",
      "POST https://persyn.es.us-west-2.aws.found.io:443/anna-conversations-v0/_search [status:200 duration:0.022s]\n",
      "POST https://persyn.es.us-west-2.aws.found.io:443/anna-summaries-v0/_update/POC_nYQB6EXxeIxU9IVV [status:200 duration:0.024s]\n",
      "POST https://persyn.es.us-west-2.aws.found.io:443/anna-summaries-v0/_search [status:200 duration:0.021s]\n",
      "POST https://persyn.es.us-west-2.aws.found.io:443/anna-conversations-v0/_search [status:200 duration:0.024s]\n",
      "POST https://persyn.es.us-west-2.aws.found.io:443/anna-summaries-v0/_update/JuBKq4QB6EXxeIxUJYfl [status:200 duration:0.030s]\n",
      "POST https://persyn.es.us-west-2.aws.found.io:443/anna-summaries-v0/_search [status:200 duration:0.031s]\n"
     ]
    },
    {
     "name": "stdout",
     "output_type": "stream",
     "text": [
      "{'_index': 'anna-summaries-v0', '_id': '4k3-S4MBRfbdi4KA8Vex', '_version': 2, 'result': 'updated', '_shards': {'total': 2, 'successful': 2, 'failed': 0}, '_seq_no': 2708, '_primary_term': 17}\n",
      "{'_index': 'anna-summaries-v0', '_id': 'POC_nYQB6EXxeIxU9IVV', '_version': 2, 'result': 'updated', '_shards': {'total': 2, 'successful': 2, 'failed': 0}, '_seq_no': 2709, '_primary_term': 17}\n",
      "{'_index': 'anna-summaries-v0', '_id': 'JuBKq4QB6EXxeIxUJYfl', '_version': 2, 'result': 'updated', '_shards': {'total': 2, 'successful': 2, 'failed': 0}, '_seq_no': 2710, '_primary_term': 17}\n"
     ]
    },
    {
     "name": "stderr",
     "output_type": "stream",
     "text": [
      "POST https://persyn.es.us-west-2.aws.found.io:443/anna-conversations-v0/_search [status:200 duration:0.029s]\n",
      "POST https://persyn.es.us-west-2.aws.found.io:443/anna-summaries-v0/_update/hk3ncYMBRfbdi4KAI1qJ [status:200 duration:0.028s]\n",
      "POST https://persyn.es.us-west-2.aws.found.io:443/anna-summaries-v0/_search [status:200 duration:0.026s]\n",
      "POST https://persyn.es.us-west-2.aws.found.io:443/anna-conversations-v0/_search [status:200 duration:0.025s]\n",
      "POST https://persyn.es.us-west-2.aws.found.io:443/anna-summaries-v0/_update/yxhIi4AB1O6hlTWgLm4Q [status:200 duration:0.026s]\n",
      "POST https://persyn.es.us-west-2.aws.found.io:443/anna-summaries-v0/_search [status:200 duration:0.027s]\n",
      "POST https://persyn.es.us-west-2.aws.found.io:443/anna-conversations-v0/_search [status:200 duration:0.023s]\n",
      "POST https://persyn.es.us-west-2.aws.found.io:443/anna-summaries-v0/_update/GtTKrYEBBCovfdTkjrVd [status:200 duration:0.026s]\n",
      "POST https://persyn.es.us-west-2.aws.found.io:443/anna-summaries-v0/_search [status:200 duration:0.023s]\n"
     ]
    },
    {
     "name": "stdout",
     "output_type": "stream",
     "text": [
      "{'_index': 'anna-summaries-v0', '_id': 'hk3ncYMBRfbdi4KAI1qJ', '_version': 2, 'result': 'updated', '_shards': {'total': 2, 'successful': 2, 'failed': 0}, '_seq_no': 2711, '_primary_term': 17}\n",
      "{'_index': 'anna-summaries-v0', '_id': 'yxhIi4AB1O6hlTWgLm4Q', '_version': 2, 'result': 'updated', '_shards': {'total': 2, 'successful': 2, 'failed': 0}, '_seq_no': 2712, '_primary_term': 17}\n",
      "{'_index': 'anna-summaries-v0', '_id': 'GtTKrYEBBCovfdTkjrVd', '_version': 2, 'result': 'updated', '_shards': {'total': 2, 'successful': 2, 'failed': 0}, '_seq_no': 2713, '_primary_term': 17}\n"
     ]
    },
    {
     "name": "stderr",
     "output_type": "stream",
     "text": [
      "POST https://persyn.es.us-west-2.aws.found.io:443/anna-conversations-v0/_search [status:200 duration:0.027s]\n",
      "POST https://persyn.es.us-west-2.aws.found.io:443/anna-summaries-v0/_update/yuB-koQB6EXxeIxU6YN8 [status:200 duration:0.029s]\n",
      "POST https://persyn.es.us-west-2.aws.found.io:443/anna-summaries-v0/_search [status:200 duration:0.027s]\n",
      "POST https://persyn.es.us-west-2.aws.found.io:443/anna-conversations-v0/_search [status:200 duration:0.023s]\n",
      "POST https://persyn.es.us-west-2.aws.found.io:443/anna-summaries-v0/_update/u004zIIBRfbdi4KATFLj [status:200 duration:0.024s]\n",
      "POST https://persyn.es.us-west-2.aws.found.io:443/anna-summaries-v0/_search [status:200 duration:0.027s]\n",
      "POST https://persyn.es.us-west-2.aws.found.io:443/anna-conversations-v0/_search [status:200 duration:0.026s]\n",
      "POST https://persyn.es.us-west-2.aws.found.io:443/anna-summaries-v0/_update/zCN_W4MBy5mPdc6PH22K [status:200 duration:0.024s]\n",
      "POST https://persyn.es.us-west-2.aws.found.io:443/anna-summaries-v0/_search [status:200 duration:0.024s]\n"
     ]
    },
    {
     "name": "stdout",
     "output_type": "stream",
     "text": [
      "{'_index': 'anna-summaries-v0', '_id': 'yuB-koQB6EXxeIxU6YN8', '_version': 2, 'result': 'updated', '_shards': {'total': 2, 'successful': 2, 'failed': 0}, '_seq_no': 2714, '_primary_term': 17}\n",
      "{'_index': 'anna-summaries-v0', '_id': 'u004zIIBRfbdi4KATFLj', '_version': 2, 'result': 'updated', '_shards': {'total': 2, 'successful': 2, 'failed': 0}, '_seq_no': 2715, '_primary_term': 17}\n",
      "{'_index': 'anna-summaries-v0', '_id': 'zCN_W4MBy5mPdc6PH22K', '_version': 2, 'result': 'updated', '_shards': {'total': 2, 'successful': 2, 'failed': 0}, '_seq_no': 2716, '_primary_term': 17}\n"
     ]
    },
    {
     "name": "stderr",
     "output_type": "stream",
     "text": [
      "POST https://persyn.es.us-west-2.aws.found.io:443/anna-conversations-v0/_search [status:200 duration:0.027s]\n",
      "POST https://persyn.es.us-west-2.aws.found.io:443/anna-summaries-v0/_update/3iMeFYMBy5mPdc6PPWsF [status:200 duration:0.028s]\n",
      "POST https://persyn.es.us-west-2.aws.found.io:443/anna-summaries-v0/_search [status:200 duration:0.026s]\n",
      "POST https://persyn.es.us-west-2.aws.found.io:443/anna-conversations-v0/_search [status:200 duration:0.027s]\n",
      "POST https://persyn.es.us-west-2.aws.found.io:443/anna-summaries-v0/_update/kyNApIIBy5mPdc6PR2YF [status:200 duration:0.030s]\n",
      "POST https://persyn.es.us-west-2.aws.found.io:443/anna-summaries-v0/_search [status:200 duration:0.026s]\n",
      "POST https://persyn.es.us-west-2.aws.found.io:443/anna-conversations-v0/_search [status:200 duration:0.028s]\n",
      "POST https://persyn.es.us-west-2.aws.found.io:443/anna-summaries-v0/_update/dOCcmoMB6EXxeIxUCHb8 [status:200 duration:0.029s]\n"
     ]
    },
    {
     "name": "stdout",
     "output_type": "stream",
     "text": [
      "{'_index': 'anna-summaries-v0', '_id': '3iMeFYMBy5mPdc6PPWsF', '_version': 2, 'result': 'updated', '_shards': {'total': 2, 'successful': 2, 'failed': 0}, '_seq_no': 2717, '_primary_term': 17}\n",
      "{'_index': 'anna-summaries-v0', '_id': 'kyNApIIBy5mPdc6PR2YF', '_version': 2, 'result': 'updated', '_shards': {'total': 2, 'successful': 2, 'failed': 0}, '_seq_no': 2718, '_primary_term': 17}\n",
      "{'_index': 'anna-summaries-v0', '_id': 'dOCcmoMB6EXxeIxUCHb8', '_version': 2, 'result': 'updated', '_shards': {'total': 2, 'successful': 2, 'failed': 0}, '_seq_no': 2719, '_primary_term': 17}\n"
     ]
    },
    {
     "name": "stderr",
     "output_type": "stream",
     "text": [
      "POST https://persyn.es.us-west-2.aws.found.io:443/anna-summaries-v0/_search [status:200 duration:0.021s]\n",
      "POST https://persyn.es.us-west-2.aws.found.io:443/anna-conversations-v0/_search [status:200 duration:0.022s]\n",
      "POST https://persyn.es.us-west-2.aws.found.io:443/anna-summaries-v0/_update/HeCYkoQB6EXxeIxURoSN [status:200 duration:0.024s]\n",
      "POST https://persyn.es.us-west-2.aws.found.io:443/anna-summaries-v0/_search [status:200 duration:0.028s]\n",
      "POST https://persyn.es.us-west-2.aws.found.io:443/anna-conversations-v0/_search [status:200 duration:0.028s]\n",
      "POST https://persyn.es.us-west-2.aws.found.io:443/anna-summaries-v0/_update/oq-T14MBBNi73XUqFKOP [status:200 duration:0.023s]\n",
      "POST https://persyn.es.us-west-2.aws.found.io:443/anna-summaries-v0/_search [status:200 duration:0.026s]\n",
      "POST https://persyn.es.us-west-2.aws.found.io:443/anna-conversations-v0/_search [status:200 duration:0.028s]\n",
      "POST https://persyn.es.us-west-2.aws.found.io:443/anna-summaries-v0/_update/u68Eq4QBBNi73XUqhLIP [status:200 duration:0.031s]\n"
     ]
    },
    {
     "name": "stdout",
     "output_type": "stream",
     "text": [
      "{'_index': 'anna-summaries-v0', '_id': 'HeCYkoQB6EXxeIxURoSN', '_version': 2, 'result': 'updated', '_shards': {'total': 2, 'successful': 2, 'failed': 0}, '_seq_no': 2720, '_primary_term': 17}\n",
      "{'_index': 'anna-summaries-v0', '_id': 'oq-T14MBBNi73XUqFKOP', '_version': 2, 'result': 'updated', '_shards': {'total': 2, 'successful': 2, 'failed': 0}, '_seq_no': 2721, '_primary_term': 17}\n",
      "{'_index': 'anna-summaries-v0', '_id': 'u68Eq4QBBNi73XUqhLIP', '_version': 2, 'result': 'updated', '_shards': {'total': 2, 'successful': 2, 'failed': 0}, '_seq_no': 2722, '_primary_term': 17}\n"
     ]
    },
    {
     "name": "stderr",
     "output_type": "stream",
     "text": [
      "POST https://persyn.es.us-west-2.aws.found.io:443/anna-summaries-v0/_search [status:200 duration:0.028s]\n",
      "POST https://persyn.es.us-west-2.aws.found.io:443/anna-conversations-v0/_search [status:200 duration:0.025s]\n",
      "POST https://persyn.es.us-west-2.aws.found.io:443/anna-summaries-v0/_update/--AvAoQB6EXxeIxUrHru [status:200 duration:0.031s]\n",
      "POST https://persyn.es.us-west-2.aws.found.io:443/anna-summaries-v0/_search [status:200 duration:0.030s]\n",
      "POST https://persyn.es.us-west-2.aws.found.io:443/anna-conversations-v0/_search [status:200 duration:0.032s]\n",
      "POST https://persyn.es.us-west-2.aws.found.io:443/anna-summaries-v0/_update/zuDwEYQB6EXxeIxUuHyA [status:200 duration:0.035s]\n",
      "POST https://persyn.es.us-west-2.aws.found.io:443/anna-summaries-v0/_search [status:200 duration:0.022s]\n",
      "POST https://persyn.es.us-west-2.aws.found.io:443/anna-conversations-v0/_search [status:200 duration:0.023s]\n",
      "POST https://persyn.es.us-west-2.aws.found.io:443/anna-summaries-v0/_update/kE0sf4IBRfbdi4KAMUor [status:200 duration:0.031s]\n"
     ]
    },
    {
     "name": "stdout",
     "output_type": "stream",
     "text": [
      "{'_index': 'anna-summaries-v0', '_id': '--AvAoQB6EXxeIxUrHru', '_version': 2, 'result': 'updated', '_shards': {'total': 2, 'successful': 2, 'failed': 0}, '_seq_no': 2723, '_primary_term': 17}\n",
      "{'_index': 'anna-summaries-v0', '_id': 'zuDwEYQB6EXxeIxUuHyA', '_version': 2, 'result': 'updated', '_shards': {'total': 2, 'successful': 2, 'failed': 0}, '_seq_no': 2724, '_primary_term': 17}\n",
      "{'_index': 'anna-summaries-v0', '_id': 'kE0sf4IBRfbdi4KAMUor', '_version': 2, 'result': 'updated', '_shards': {'total': 2, 'successful': 2, 'failed': 0}, '_seq_no': 2725, '_primary_term': 17}\n"
     ]
    },
    {
     "name": "stderr",
     "output_type": "stream",
     "text": [
      "POST https://persyn.es.us-west-2.aws.found.io:443/anna-summaries-v0/_search [status:200 duration:0.022s]\n",
      "POST https://persyn.es.us-west-2.aws.found.io:443/anna-conversations-v0/_search [status:200 duration:0.032s]\n",
      "POST https://persyn.es.us-west-2.aws.found.io:443/anna-summaries-v0/_update/uq8xm4MBBNi73XUq06LY [status:200 duration:0.025s]\n",
      "POST https://persyn.es.us-west-2.aws.found.io:443/anna-summaries-v0/_search [status:200 duration:0.031s]\n",
      "POST https://persyn.es.us-west-2.aws.found.io:443/anna-conversations-v0/_search [status:200 duration:0.027s]\n",
      "POST https://persyn.es.us-west-2.aws.found.io:443/anna-summaries-v0/_update/jq-C9oMBBNi73XUqEKQp [status:200 duration:0.028s]\n",
      "POST https://persyn.es.us-west-2.aws.found.io:443/anna-summaries-v0/_search [status:200 duration:0.029s]\n",
      "POST https://persyn.es.us-west-2.aws.found.io:443/anna-conversations-v0/_search [status:200 duration:0.029s]\n",
      "POST https://persyn.es.us-west-2.aws.found.io:443/anna-summaries-v0/_update/W9SGCIEBBCovfdTkgIwf [status:200 duration:0.029s]\n"
     ]
    },
    {
     "name": "stdout",
     "output_type": "stream",
     "text": [
      "{'_index': 'anna-summaries-v0', '_id': 'uq8xm4MBBNi73XUq06LY', '_version': 2, 'result': 'updated', '_shards': {'total': 2, 'successful': 2, 'failed': 0}, '_seq_no': 2726, '_primary_term': 17}\n",
      "{'_index': 'anna-summaries-v0', '_id': 'jq-C9oMBBNi73XUqEKQp', '_version': 2, 'result': 'updated', '_shards': {'total': 2, 'successful': 2, 'failed': 0}, '_seq_no': 2727, '_primary_term': 17}\n",
      "{'_index': 'anna-summaries-v0', '_id': 'W9SGCIEBBCovfdTkgIwf', '_version': 2, 'result': 'updated', '_shards': {'total': 2, 'successful': 2, 'failed': 0}, '_seq_no': 2728, '_primary_term': 17}\n"
     ]
    },
    {
     "name": "stderr",
     "output_type": "stream",
     "text": [
      "POST https://persyn.es.us-west-2.aws.found.io:443/anna-summaries-v0/_search [status:200 duration:0.027s]\n",
      "POST https://persyn.es.us-west-2.aws.found.io:443/anna-conversations-v0/_search [status:200 duration:0.028s]\n",
      "POST https://persyn.es.us-west-2.aws.found.io:443/anna-summaries-v0/_update/bK-FlIMBBNi73XUqXaJq [status:200 duration:0.023s]\n",
      "POST https://persyn.es.us-west-2.aws.found.io:443/anna-summaries-v0/_search [status:200 duration:0.027s]\n",
      "POST https://persyn.es.us-west-2.aws.found.io:443/anna-conversations-v0/_search [status:200 duration:0.027s]\n",
      "POST https://persyn.es.us-west-2.aws.found.io:443/anna-summaries-v0/_update/9eDrc4QB6EXxeIxUfIH5 [status:200 duration:0.025s]\n",
      "POST https://persyn.es.us-west-2.aws.found.io:443/anna-summaries-v0/_search [status:200 duration:0.022s]\n",
      "POST https://persyn.es.us-west-2.aws.found.io:443/anna-conversations-v0/_search [status:200 duration:0.021s]\n",
      "POST https://persyn.es.us-west-2.aws.found.io:443/anna-summaries-v0/_update/Thir3H4B1O6hlTWg_0jJ [status:200 duration:0.023s]\n",
      "POST https://persyn.es.us-west-2.aws.found.io:443/anna-summaries-v0/_search [status:200 duration:0.027s]\n"
     ]
    },
    {
     "name": "stdout",
     "output_type": "stream",
     "text": [
      "{'_index': 'anna-summaries-v0', '_id': 'bK-FlIMBBNi73XUqXaJq', '_version': 2, 'result': 'updated', '_shards': {'total': 2, 'successful': 2, 'failed': 0}, '_seq_no': 2729, '_primary_term': 17}\n",
      "{'_index': 'anna-summaries-v0', '_id': '9eDrc4QB6EXxeIxUfIH5', '_version': 2, 'result': 'updated', '_shards': {'total': 2, 'successful': 2, 'failed': 0}, '_seq_no': 2730, '_primary_term': 17}\n",
      "{'_index': 'anna-summaries-v0', '_id': 'Thir3H4B1O6hlTWg_0jJ', '_version': 2, 'result': 'updated', '_shards': {'total': 2, 'successful': 2, 'failed': 0}, '_seq_no': 2731, '_primary_term': 17}\n"
     ]
    },
    {
     "name": "stderr",
     "output_type": "stream",
     "text": [
      "POST https://persyn.es.us-west-2.aws.found.io:443/anna-conversations-v0/_search [status:200 duration:0.021s]\n",
      "POST https://persyn.es.us-west-2.aws.found.io:443/anna-summaries-v0/_update/SxgSkYAB1O6hlTWgb3Dm [status:200 duration:0.028s]\n",
      "POST https://persyn.es.us-west-2.aws.found.io:443/anna-summaries-v0/_search [status:200 duration:0.027s]\n",
      "POST https://persyn.es.us-west-2.aws.found.io:443/anna-conversations-v0/_search [status:200 duration:0.029s]\n",
      "POST https://persyn.es.us-west-2.aws.found.io:443/anna-summaries-v0/_update/uCNycIMBy5mPdc6P2m8g [status:200 duration:0.025s]\n",
      "POST https://persyn.es.us-west-2.aws.found.io:443/anna-summaries-v0/_search [status:200 duration:0.021s]\n",
      "POST https://persyn.es.us-west-2.aws.found.io:443/anna-conversations-v0/_search [status:200 duration:0.032s]\n",
      "POST https://persyn.es.us-west-2.aws.found.io:443/anna-summaries-v0/_update/L6-l8IMBBNi73XUqw6Tt [status:200 duration:0.027s]\n",
      "POST https://persyn.es.us-west-2.aws.found.io:443/anna-summaries-v0/_search [status:200 duration:0.020s]\n"
     ]
    },
    {
     "name": "stdout",
     "output_type": "stream",
     "text": [
      "{'_index': 'anna-summaries-v0', '_id': 'SxgSkYAB1O6hlTWgb3Dm', '_version': 2, 'result': 'updated', '_shards': {'total': 2, 'successful': 2, 'failed': 0}, '_seq_no': 2732, '_primary_term': 17}\n",
      "{'_index': 'anna-summaries-v0', '_id': 'uCNycIMBy5mPdc6P2m8g', '_version': 2, 'result': 'updated', '_shards': {'total': 2, 'successful': 2, 'failed': 0}, '_seq_no': 2733, '_primary_term': 17}\n",
      "{'_index': 'anna-summaries-v0', '_id': 'L6-l8IMBBNi73XUqw6Tt', '_version': 2, 'result': 'updated', '_shards': {'total': 2, 'successful': 2, 'failed': 0}, '_seq_no': 2734, '_primary_term': 17}\n"
     ]
    },
    {
     "name": "stderr",
     "output_type": "stream",
     "text": [
      "POST https://persyn.es.us-west-2.aws.found.io:443/anna-conversations-v0/_search [status:200 duration:0.027s]\n",
      "POST https://persyn.es.us-west-2.aws.found.io:443/anna-summaries-v0/_update/b69-ooQBBNi73XUq4rJT [status:200 duration:0.029s]\n",
      "POST https://persyn.es.us-west-2.aws.found.io:443/anna-summaries-v0/_search [status:200 duration:0.026s]\n",
      "POST https://persyn.es.us-west-2.aws.found.io:443/anna-conversations-v0/_search [status:200 duration:0.022s]\n",
      "POST https://persyn.es.us-west-2.aws.found.io:443/anna-summaries-v0/_update/5U1LcoMBRfbdi4KATlpA [status:200 duration:0.022s]\n",
      "POST https://persyn.es.us-west-2.aws.found.io:443/anna-summaries-v0/_search [status:200 duration:0.020s]\n",
      "POST https://persyn.es.us-west-2.aws.found.io:443/anna-conversations-v0/_search [status:200 duration:0.022s]\n",
      "POST https://persyn.es.us-west-2.aws.found.io:443/anna-summaries-v0/_update/zhjZbYAB1O6hlTWgmWQb [status:200 duration:0.022s]\n",
      "POST https://persyn.es.us-west-2.aws.found.io:443/anna-summaries-v0/_search [status:200 duration:0.020s]\n",
      "POST https://persyn.es.us-west-2.aws.found.io:443/anna-conversations-v0/_search [status:200 duration:0.021s]\n",
      "POST https://persyn.es.us-west-2.aws.found.io:443/anna-summaries-v0/_update/IdR4_oABBCovfdTkOom9 [status:200 duration:0.021s]\n"
     ]
    },
    {
     "name": "stdout",
     "output_type": "stream",
     "text": [
      "{'_index': 'anna-summaries-v0', '_id': 'b69-ooQBBNi73XUq4rJT', '_version': 2, 'result': 'updated', '_shards': {'total': 2, 'successful': 2, 'failed': 0}, '_seq_no': 2735, '_primary_term': 17}\n",
      "{'_index': 'anna-summaries-v0', '_id': '5U1LcoMBRfbdi4KATlpA', '_version': 2, 'result': 'updated', '_shards': {'total': 2, 'successful': 2, 'failed': 0}, '_seq_no': 2736, '_primary_term': 17}\n",
      "{'_index': 'anna-summaries-v0', '_id': 'zhjZbYAB1O6hlTWgmWQb', '_version': 2, 'result': 'updated', '_shards': {'total': 2, 'successful': 2, 'failed': 0}, '_seq_no': 2737, '_primary_term': 17}\n",
      "{'_index': 'anna-summaries-v0', '_id': 'IdR4_oABBCovfdTkOom9', '_version': 2, 'result': 'updated', '_shards': {'total': 2, 'successful': 2, 'failed': 0}, '_seq_no': 2738, '_primary_term': 17}\n"
     ]
    },
    {
     "name": "stderr",
     "output_type": "stream",
     "text": [
      "POST https://persyn.es.us-west-2.aws.found.io:443/anna-summaries-v0/_search [status:200 duration:0.027s]\n",
      "POST https://persyn.es.us-west-2.aws.found.io:443/anna-conversations-v0/_search [status:200 duration:0.023s]\n",
      "POST https://persyn.es.us-west-2.aws.found.io:443/anna-summaries-v0/_update/2E2Pf4IBRfbdi4KAdErT [status:200 duration:0.027s]\n",
      "POST https://persyn.es.us-west-2.aws.found.io:443/anna-summaries-v0/_search [status:200 duration:0.020s]\n",
      "POST https://persyn.es.us-west-2.aws.found.io:443/anna-conversations-v0/_search [status:200 duration:0.023s]\n",
      "POST https://persyn.es.us-west-2.aws.found.io:443/anna-summaries-v0/_update/_6_P_YMBBNi73XUqRKSA [status:200 duration:0.027s]\n",
      "POST https://persyn.es.us-west-2.aws.found.io:443/anna-summaries-v0/_search [status:200 duration:0.025s]\n",
      "POST https://persyn.es.us-west-2.aws.found.io:443/anna-conversations-v0/_search [status:200 duration:0.028s]\n",
      "POST https://persyn.es.us-west-2.aws.found.io:443/anna-summaries-v0/_update/p69njYQBBNi73XUqPa7R [status:200 duration:0.028s]\n",
      "POST https://persyn.es.us-west-2.aws.found.io:443/anna-summaries-v0/_search [status:200 duration:0.023s]\n"
     ]
    },
    {
     "name": "stdout",
     "output_type": "stream",
     "text": [
      "{'_index': 'anna-summaries-v0', '_id': '2E2Pf4IBRfbdi4KAdErT', '_version': 2, 'result': 'updated', '_shards': {'total': 2, 'successful': 2, 'failed': 0}, '_seq_no': 2739, '_primary_term': 17}\n",
      "{'_index': 'anna-summaries-v0', '_id': '_6_P_YMBBNi73XUqRKSA', '_version': 2, 'result': 'updated', '_shards': {'total': 2, 'successful': 2, 'failed': 0}, '_seq_no': 2740, '_primary_term': 17}\n",
      "{'_index': 'anna-summaries-v0', '_id': 'p69njYQBBNi73XUqPa7R', '_version': 2, 'result': 'updated', '_shards': {'total': 2, 'successful': 2, 'failed': 0}, '_seq_no': 2741, '_primary_term': 17}\n"
     ]
    },
    {
     "name": "stderr",
     "output_type": "stream",
     "text": [
      "POST https://persyn.es.us-west-2.aws.found.io:443/anna-conversations-v0/_search [status:200 duration:0.026s]\n",
      "POST https://persyn.es.us-west-2.aws.found.io:443/anna-summaries-v0/_update/g69Y_oMBBNi73XUqdKUa [status:200 duration:0.027s]\n",
      "POST https://persyn.es.us-west-2.aws.found.io:443/anna-summaries-v0/_search [status:200 duration:0.025s]\n",
      "POST https://persyn.es.us-west-2.aws.found.io:443/anna-conversations-v0/_search [status:200 duration:0.021s]\n",
      "POST https://persyn.es.us-west-2.aws.found.io:443/anna-summaries-v0/_update/nRgDY4AB1O6hlTWgeWES [status:200 duration:0.027s]\n",
      "POST https://persyn.es.us-west-2.aws.found.io:443/anna-summaries-v0/_search [status:200 duration:0.025s]\n",
      "POST https://persyn.es.us-west-2.aws.found.io:443/anna-conversations-v0/_search [status:200 duration:0.027s]\n",
      "POST https://persyn.es.us-west-2.aws.found.io:443/anna-summaries-v0/_update/6a-OkIQBBNi73XUqAK6G [status:200 duration:0.027s]\n",
      "POST https://persyn.es.us-west-2.aws.found.io:443/anna-summaries-v0/_search [status:200 duration:0.018s]\n"
     ]
    },
    {
     "name": "stdout",
     "output_type": "stream",
     "text": [
      "{'_index': 'anna-summaries-v0', '_id': 'g69Y_oMBBNi73XUqdKUa', '_version': 2, 'result': 'updated', '_shards': {'total': 2, 'successful': 2, 'failed': 0}, '_seq_no': 2742, '_primary_term': 17}\n",
      "{'_index': 'anna-summaries-v0', '_id': 'nRgDY4AB1O6hlTWgeWES', '_version': 2, 'result': 'updated', '_shards': {'total': 2, 'successful': 2, 'failed': 0}, '_seq_no': 2743, '_primary_term': 17}\n",
      "{'_index': 'anna-summaries-v0', '_id': '6a-OkIQBBNi73XUqAK6G', '_version': 2, 'result': 'updated', '_shards': {'total': 2, 'successful': 2, 'failed': 0}, '_seq_no': 2744, '_primary_term': 17}\n"
     ]
    },
    {
     "name": "stderr",
     "output_type": "stream",
     "text": [
      "POST https://persyn.es.us-west-2.aws.found.io:443/anna-conversations-v0/_search [status:200 duration:0.028s]\n",
      "POST https://persyn.es.us-west-2.aws.found.io:443/anna-summaries-v0/_update/Sxiq3H4B1O6hlTWg2Uhd [status:200 duration:0.025s]\n",
      "POST https://persyn.es.us-west-2.aws.found.io:443/anna-summaries-v0/_search [status:200 duration:0.020s]\n",
      "POST https://persyn.es.us-west-2.aws.found.io:443/anna-conversations-v0/_search [status:200 duration:0.020s]\n",
      "POST https://persyn.es.us-west-2.aws.found.io:443/anna-summaries-v0/_update/Ak1azYIBRfbdi4KAIVNc [status:200 duration:0.026s]\n",
      "POST https://persyn.es.us-west-2.aws.found.io:443/anna-summaries-v0/_search [status:200 duration:0.021s]\n",
      "POST https://persyn.es.us-west-2.aws.found.io:443/anna-conversations-v0/_search [status:200 duration:0.023s]\n",
      "POST https://persyn.es.us-west-2.aws.found.io:443/anna-summaries-v0/_update/ahj9WIAB1O6hlTWg_l3L [status:200 duration:0.023s]\n",
      "POST https://persyn.es.us-west-2.aws.found.io:443/anna-summaries-v0/_search [status:200 duration:0.025s]\n",
      "POST https://persyn.es.us-west-2.aws.found.io:443/anna-conversations-v0/_search [status:200 duration:0.021s]\n"
     ]
    },
    {
     "name": "stdout",
     "output_type": "stream",
     "text": [
      "{'_index': 'anna-summaries-v0', '_id': 'Sxiq3H4B1O6hlTWg2Uhd', '_version': 2, 'result': 'updated', '_shards': {'total': 2, 'successful': 2, 'failed': 0}, '_seq_no': 2745, '_primary_term': 17}\n",
      "{'_index': 'anna-summaries-v0', '_id': 'Ak1azYIBRfbdi4KAIVNc', '_version': 2, 'result': 'updated', '_shards': {'total': 2, 'successful': 2, 'failed': 0}, '_seq_no': 2746, '_primary_term': 17}\n",
      "{'_index': 'anna-summaries-v0', '_id': 'ahj9WIAB1O6hlTWg_l3L', '_version': 2, 'result': 'updated', '_shards': {'total': 2, 'successful': 2, 'failed': 0}, '_seq_no': 2747, '_primary_term': 17}\n"
     ]
    },
    {
     "name": "stderr",
     "output_type": "stream",
     "text": [
      "POST https://persyn.es.us-west-2.aws.found.io:443/anna-summaries-v0/_update/86_wB4QBBNi73XUqfqfc [status:200 duration:0.026s]\n",
      "POST https://persyn.es.us-west-2.aws.found.io:443/anna-summaries-v0/_search [status:200 duration:0.025s]\n",
      "POST https://persyn.es.us-west-2.aws.found.io:443/anna-conversations-v0/_search [status:200 duration:0.020s]\n",
      "POST https://persyn.es.us-west-2.aws.found.io:443/anna-summaries-v0/_update/nq88AYQBBNi73XUq16Yp [status:200 duration:0.027s]\n",
      "POST https://persyn.es.us-west-2.aws.found.io:443/anna-summaries-v0/_search [status:200 duration:0.026s]\n",
      "POST https://persyn.es.us-west-2.aws.found.io:443/anna-conversations-v0/_search [status:200 duration:0.020s]\n",
      "POST https://persyn.es.us-west-2.aws.found.io:443/anna-summaries-v0/_update/MeBCaYQB6EXxeIxU8oHf [status:200 duration:0.021s]\n",
      "POST https://persyn.es.us-west-2.aws.found.io:443/anna-summaries-v0/_search [status:200 duration:0.022s]\n",
      "POST https://persyn.es.us-west-2.aws.found.io:443/anna-conversations-v0/_search [status:200 duration:0.027s]\n"
     ]
    },
    {
     "name": "stdout",
     "output_type": "stream",
     "text": [
      "{'_index': 'anna-summaries-v0', '_id': '86_wB4QBBNi73XUqfqfc', '_version': 2, 'result': 'updated', '_shards': {'total': 2, 'successful': 2, 'failed': 0}, '_seq_no': 2748, '_primary_term': 17}\n",
      "{'_index': 'anna-summaries-v0', '_id': 'nq88AYQBBNi73XUq16Yp', '_version': 2, 'result': 'updated', '_shards': {'total': 2, 'successful': 2, 'failed': 0}, '_seq_no': 2749, '_primary_term': 17}\n",
      "{'_index': 'anna-summaries-v0', '_id': 'MeBCaYQB6EXxeIxU8oHf', '_version': 2, 'result': 'updated', '_shards': {'total': 2, 'successful': 2, 'failed': 0}, '_seq_no': 2750, '_primary_term': 17}\n"
     ]
    },
    {
     "name": "stderr",
     "output_type": "stream",
     "text": [
      "POST https://persyn.es.us-west-2.aws.found.io:443/anna-summaries-v0/_update/V9RCx4EBBCovfdTkErve [status:200 duration:0.021s]\n",
      "POST https://persyn.es.us-west-2.aws.found.io:443/anna-summaries-v0/_search [status:200 duration:0.027s]\n",
      "POST https://persyn.es.us-west-2.aws.found.io:443/anna-conversations-v0/_search [status:200 duration:0.022s]\n",
      "POST https://persyn.es.us-west-2.aws.found.io:443/anna-summaries-v0/_update/qx0nJ4IBGYbVpQ0ouKGU [status:200 duration:0.024s]\n",
      "POST https://persyn.es.us-west-2.aws.found.io:443/anna-summaries-v0/_search [status:200 duration:0.020s]\n",
      "POST https://persyn.es.us-west-2.aws.found.io:443/anna-conversations-v0/_search [status:200 duration:0.020s]\n",
      "POST https://persyn.es.us-west-2.aws.found.io:443/anna-summaries-v0/_update/puDQEYQB6EXxeIxUTnzr [status:200 duration:0.024s]\n",
      "POST https://persyn.es.us-west-2.aws.found.io:443/anna-summaries-v0/_search [status:200 duration:0.022s]\n",
      "POST https://persyn.es.us-west-2.aws.found.io:443/anna-conversations-v0/_search [status:200 duration:0.020s]\n"
     ]
    },
    {
     "name": "stdout",
     "output_type": "stream",
     "text": [
      "{'_index': 'anna-summaries-v0', '_id': 'V9RCx4EBBCovfdTkErve', '_version': 2, 'result': 'updated', '_shards': {'total': 2, 'successful': 2, 'failed': 0}, '_seq_no': 2751, '_primary_term': 17}\n",
      "{'_index': 'anna-summaries-v0', '_id': 'qx0nJ4IBGYbVpQ0ouKGU', '_version': 2, 'result': 'updated', '_shards': {'total': 2, 'successful': 2, 'failed': 0}, '_seq_no': 2752, '_primary_term': 17}\n",
      "{'_index': 'anna-summaries-v0', '_id': 'puDQEYQB6EXxeIxUTnzr', '_version': 2, 'result': 'updated', '_shards': {'total': 2, 'successful': 2, 'failed': 0}, '_seq_no': 2753, '_primary_term': 17}\n"
     ]
    },
    {
     "name": "stderr",
     "output_type": "stream",
     "text": [
      "POST https://persyn.es.us-west-2.aws.found.io:443/anna-summaries-v0/_update/Dq-grIQBBNi73XUqcrSi [status:200 duration:0.027s]\n",
      "POST https://persyn.es.us-west-2.aws.found.io:443/anna-summaries-v0/_search [status:200 duration:0.023s]\n",
      "POST https://persyn.es.us-west-2.aws.found.io:443/anna-conversations-v0/_search [status:200 duration:0.022s]\n",
      "POST https://persyn.es.us-west-2.aws.found.io:443/anna-summaries-v0/_update/b038vYIBRfbdi4KAW1E5 [status:200 duration:0.025s]\n",
      "POST https://persyn.es.us-west-2.aws.found.io:443/anna-summaries-v0/_search [status:200 duration:0.021s]\n",
      "POST https://persyn.es.us-west-2.aws.found.io:443/anna-conversations-v0/_search [status:200 duration:0.022s]\n",
      "POST https://persyn.es.us-west-2.aws.found.io:443/anna-summaries-v0/_update/dB0l8IEBGYbVpQ0or4Ua [status:200 duration:0.024s]\n",
      "POST https://persyn.es.us-west-2.aws.found.io:443/anna-summaries-v0/_search [status:200 duration:0.022s]\n",
      "POST https://persyn.es.us-west-2.aws.found.io:443/anna-conversations-v0/_search [status:200 duration:0.025s]\n"
     ]
    },
    {
     "name": "stdout",
     "output_type": "stream",
     "text": [
      "{'_index': 'anna-summaries-v0', '_id': 'Dq-grIQBBNi73XUqcrSi', '_version': 2, 'result': 'updated', '_shards': {'total': 2, 'successful': 2, 'failed': 0}, '_seq_no': 2754, '_primary_term': 17}\n",
      "{'_index': 'anna-summaries-v0', '_id': 'b038vYIBRfbdi4KAW1E5', '_version': 2, 'result': 'updated', '_shards': {'total': 2, 'successful': 2, 'failed': 0}, '_seq_no': 2755, '_primary_term': 17}\n",
      "{'_index': 'anna-summaries-v0', '_id': 'dB0l8IEBGYbVpQ0or4Ua', '_version': 2, 'result': 'updated', '_shards': {'total': 2, 'successful': 2, 'failed': 0}, '_seq_no': 2756, '_primary_term': 17}\n"
     ]
    },
    {
     "name": "stderr",
     "output_type": "stream",
     "text": [
      "POST https://persyn.es.us-west-2.aws.found.io:443/anna-summaries-v0/_update/T69VEYQBBNi73XUq26gI [status:200 duration:0.029s]\n",
      "POST https://persyn.es.us-west-2.aws.found.io:443/anna-summaries-v0/_search [status:200 duration:0.023s]\n",
      "POST https://persyn.es.us-west-2.aws.found.io:443/anna-conversations-v0/_search [status:200 duration:0.019s]\n",
      "POST https://persyn.es.us-west-2.aws.found.io:443/anna-summaries-v0/_update/Iq_pq4QBBNi73XUqgrOg [status:200 duration:0.025s]\n",
      "POST https://persyn.es.us-west-2.aws.found.io:443/anna-summaries-v0/_search [status:200 duration:0.029s]\n",
      "POST https://persyn.es.us-west-2.aws.found.io:443/anna-conversations-v0/_search [status:200 duration:0.023s]\n",
      "POST https://persyn.es.us-west-2.aws.found.io:443/anna-summaries-v0/_update/EB2l74EBGYbVpQ0ohoVP [status:200 duration:0.026s]\n",
      "POST https://persyn.es.us-west-2.aws.found.io:443/anna-summaries-v0/_search [status:200 duration:0.019s]\n",
      "POST https://persyn.es.us-west-2.aws.found.io:443/anna-conversations-v0/_search [status:200 duration:0.030s]\n"
     ]
    },
    {
     "name": "stdout",
     "output_type": "stream",
     "text": [
      "{'_index': 'anna-summaries-v0', '_id': 'T69VEYQBBNi73XUq26gI', '_version': 2, 'result': 'updated', '_shards': {'total': 2, 'successful': 2, 'failed': 0}, '_seq_no': 2757, '_primary_term': 17}\n",
      "{'_index': 'anna-summaries-v0', '_id': 'Iq_pq4QBBNi73XUqgrOg', '_version': 2, 'result': 'updated', '_shards': {'total': 2, 'successful': 2, 'failed': 0}, '_seq_no': 2758, '_primary_term': 17}\n",
      "{'_index': 'anna-summaries-v0', '_id': 'EB2l74EBGYbVpQ0ohoVP', '_version': 2, 'result': 'updated', '_shards': {'total': 2, 'successful': 2, 'failed': 0}, '_seq_no': 2759, '_primary_term': 17}\n"
     ]
    },
    {
     "name": "stderr",
     "output_type": "stream",
     "text": [
      "POST https://persyn.es.us-west-2.aws.found.io:443/anna-summaries-v0/_update/wk0hcoMBRfbdi4KAFFp4 [status:200 duration:0.026s]\n",
      "POST https://persyn.es.us-west-2.aws.found.io:443/anna-summaries-v0/_search [status:200 duration:0.022s]\n",
      "POST https://persyn.es.us-west-2.aws.found.io:443/anna-conversations-v0/_search [status:200 duration:0.024s]\n",
      "POST https://persyn.es.us-west-2.aws.found.io:443/anna-summaries-v0/_update/79TaMIEBBCovfdTkTZfZ [status:200 duration:0.025s]\n",
      "POST https://persyn.es.us-west-2.aws.found.io:443/anna-summaries-v0/_search [status:200 duration:0.026s]\n",
      "POST https://persyn.es.us-west-2.aws.found.io:443/anna-conversations-v0/_search [status:200 duration:0.026s]\n",
      "POST https://persyn.es.us-west-2.aws.found.io:443/anna-summaries-v0/_update/suACAYQB6EXxeIxU53ow [status:200 duration:0.022s]\n",
      "POST https://persyn.es.us-west-2.aws.found.io:443/anna-summaries-v0/_search [status:200 duration:0.025s]\n"
     ]
    },
    {
     "name": "stdout",
     "output_type": "stream",
     "text": [
      "{'_index': 'anna-summaries-v0', '_id': 'wk0hcoMBRfbdi4KAFFp4', '_version': 2, 'result': 'updated', '_shards': {'total': 2, 'successful': 2, 'failed': 0}, '_seq_no': 2760, '_primary_term': 17}\n",
      "{'_index': 'anna-summaries-v0', '_id': '79TaMIEBBCovfdTkTZfZ', '_version': 2, 'result': 'updated', '_shards': {'total': 2, 'successful': 2, 'failed': 0}, '_seq_no': 2761, '_primary_term': 17}\n",
      "{'_index': 'anna-summaries-v0', '_id': 'suACAYQB6EXxeIxU53ow', '_version': 2, 'result': 'updated', '_shards': {'total': 2, 'successful': 2, 'failed': 0}, '_seq_no': 2762, '_primary_term': 17}\n"
     ]
    },
    {
     "name": "stderr",
     "output_type": "stream",
     "text": [
      "POST https://persyn.es.us-west-2.aws.found.io:443/anna-conversations-v0/_search [status:200 duration:0.028s]\n",
      "POST https://persyn.es.us-west-2.aws.found.io:443/anna-summaries-v0/_update/Yx0eV4IBGYbVpQ0ohbN4 [status:200 duration:0.030s]\n",
      "POST https://persyn.es.us-west-2.aws.found.io:443/anna-summaries-v0/_search [status:200 duration:0.026s]\n",
      "POST https://persyn.es.us-west-2.aws.found.io:443/anna-conversations-v0/_search [status:200 duration:0.026s]\n",
      "POST https://persyn.es.us-west-2.aws.found.io:443/anna-summaries-v0/_update/jODFSYQB6EXxeIxUB38O [status:200 duration:0.026s]\n",
      "POST https://persyn.es.us-west-2.aws.found.io:443/anna-summaries-v0/_search [status:200 duration:0.025s]\n",
      "POST https://persyn.es.us-west-2.aws.found.io:443/anna-conversations-v0/_search [status:200 duration:0.025s]\n",
      "POST https://persyn.es.us-west-2.aws.found.io:443/anna-summaries-v0/_update/vCOrwYIBy5mPdc6PDGcX [status:200 duration:0.024s]\n",
      "POST https://persyn.es.us-west-2.aws.found.io:443/anna-summaries-v0/_search [status:200 duration:0.028s]\n"
     ]
    },
    {
     "name": "stdout",
     "output_type": "stream",
     "text": [
      "{'_index': 'anna-summaries-v0', '_id': 'Yx0eV4IBGYbVpQ0ohbN4', '_version': 2, 'result': 'updated', '_shards': {'total': 2, 'successful': 2, 'failed': 0}, '_seq_no': 2763, '_primary_term': 17}\n",
      "{'_index': 'anna-summaries-v0', '_id': 'jODFSYQB6EXxeIxUB38O', '_version': 2, 'result': 'updated', '_shards': {'total': 2, 'successful': 2, 'failed': 0}, '_seq_no': 2764, '_primary_term': 17}\n",
      "{'_index': 'anna-summaries-v0', '_id': 'vCOrwYIBy5mPdc6PDGcX', '_version': 2, 'result': 'updated', '_shards': {'total': 2, 'successful': 2, 'failed': 0}, '_seq_no': 2765, '_primary_term': 17}\n"
     ]
    },
    {
     "name": "stderr",
     "output_type": "stream",
     "text": [
      "POST https://persyn.es.us-west-2.aws.found.io:443/anna-conversations-v0/_search [status:200 duration:0.026s]\n",
      "POST https://persyn.es.us-west-2.aws.found.io:443/anna-summaries-v0/_update/zODK_YMB6EXxeIxUVnle [status:200 duration:0.028s]\n",
      "POST https://persyn.es.us-west-2.aws.found.io:443/anna-summaries-v0/_search [status:200 duration:0.023s]\n",
      "POST https://persyn.es.us-west-2.aws.found.io:443/anna-conversations-v0/_search [status:200 duration:0.026s]\n",
      "POST https://persyn.es.us-west-2.aws.found.io:443/anna-summaries-v0/_update/Sx2kUIIBGYbVpQ0o2bA_ [status:200 duration:0.029s]\n",
      "POST https://persyn.es.us-west-2.aws.found.io:443/anna-summaries-v0/_search [status:200 duration:0.029s]\n",
      "POST https://persyn.es.us-west-2.aws.found.io:443/anna-conversations-v0/_search [status:200 duration:0.028s]\n",
      "POST https://persyn.es.us-west-2.aws.found.io:443/anna-summaries-v0/_update/ZRg9jYAB1O6hlTWg32-o [status:200 duration:0.024s]\n",
      "POST https://persyn.es.us-west-2.aws.found.io:443/anna-summaries-v0/_search [status:200 duration:0.028s]\n"
     ]
    },
    {
     "name": "stdout",
     "output_type": "stream",
     "text": [
      "{'_index': 'anna-summaries-v0', '_id': 'zODK_YMB6EXxeIxUVnle', '_version': 2, 'result': 'updated', '_shards': {'total': 2, 'successful': 2, 'failed': 0}, '_seq_no': 2766, '_primary_term': 17}\n",
      "{'_index': 'anna-summaries-v0', '_id': 'Sx2kUIIBGYbVpQ0o2bA_', '_version': 2, 'result': 'updated', '_shards': {'total': 2, 'successful': 2, 'failed': 0}, '_seq_no': 2767, '_primary_term': 17}\n",
      "{'_index': 'anna-summaries-v0', '_id': 'ZRg9jYAB1O6hlTWg32-o', '_version': 2, 'result': 'updated', '_shards': {'total': 2, 'successful': 2, 'failed': 0}, '_seq_no': 2768, '_primary_term': 17}\n"
     ]
    },
    {
     "name": "stderr",
     "output_type": "stream",
     "text": [
      "POST https://persyn.es.us-west-2.aws.found.io:443/anna-conversations-v0/_search [status:200 duration:0.029s]\n",
      "POST https://persyn.es.us-west-2.aws.found.io:443/anna-summaries-v0/_update/Y-BJRYQB6EXxeIxUpn-v [status:200 duration:0.030s]\n",
      "POST https://persyn.es.us-west-2.aws.found.io:443/anna-summaries-v0/_search [status:200 duration:0.029s]\n",
      "POST https://persyn.es.us-west-2.aws.found.io:443/anna-conversations-v0/_search [status:200 duration:0.030s]\n",
      "POST https://persyn.es.us-west-2.aws.found.io:443/anna-summaries-v0/_update/SdR-YIEBBCovfdTk2qNo [status:200 duration:0.026s]\n",
      "POST https://persyn.es.us-west-2.aws.found.io:443/anna-summaries-v0/_search [status:200 duration:0.025s]\n",
      "POST https://persyn.es.us-west-2.aws.found.io:443/anna-conversations-v0/_search [status:200 duration:0.022s]\n",
      "POST https://persyn.es.us-west-2.aws.found.io:443/anna-summaries-v0/_update/369x-4MBBNi73XUqcaRI [status:200 duration:0.025s]\n",
      "POST https://persyn.es.us-west-2.aws.found.io:443/anna-summaries-v0/_search [status:200 duration:0.028s]\n"
     ]
    },
    {
     "name": "stdout",
     "output_type": "stream",
     "text": [
      "{'_index': 'anna-summaries-v0', '_id': 'Y-BJRYQB6EXxeIxUpn-v', '_version': 2, 'result': 'updated', '_shards': {'total': 2, 'successful': 2, 'failed': 0}, '_seq_no': 2769, '_primary_term': 17}\n",
      "{'_index': 'anna-summaries-v0', '_id': 'SdR-YIEBBCovfdTk2qNo', '_version': 2, 'result': 'updated', '_shards': {'total': 2, 'successful': 2, 'failed': 0}, '_seq_no': 2770, '_primary_term': 17}\n",
      "{'_index': 'anna-summaries-v0', '_id': '369x-4MBBNi73XUqcaRI', '_version': 2, 'result': 'updated', '_shards': {'total': 2, 'successful': 2, 'failed': 0}, '_seq_no': 2771, '_primary_term': 17}\n"
     ]
    },
    {
     "name": "stderr",
     "output_type": "stream",
     "text": [
      "POST https://persyn.es.us-west-2.aws.found.io:443/anna-conversations-v0/_search [status:200 duration:0.028s]\n",
      "POST https://persyn.es.us-west-2.aws.found.io:443/anna-summaries-v0/_update/hCMypIIBy5mPdc6PjGaM [status:200 duration:0.025s]\n",
      "POST https://persyn.es.us-west-2.aws.found.io:443/anna-summaries-v0/_search [status:200 duration:0.028s]\n",
      "POST https://persyn.es.us-west-2.aws.found.io:443/anna-conversations-v0/_search [status:200 duration:0.031s]\n",
      "POST https://persyn.es.us-west-2.aws.found.io:443/anna-summaries-v0/_update/yNTh34EBBCovfdTkbb7r [status:200 duration:0.024s]\n",
      "POST https://persyn.es.us-west-2.aws.found.io:443/anna-summaries-v0/_search [status:200 duration:0.031s]\n",
      "POST https://persyn.es.us-west-2.aws.found.io:443/anna-conversations-v0/_search [status:200 duration:0.022s]\n",
      "POST https://persyn.es.us-west-2.aws.found.io:443/anna-summaries-v0/_update/5-Bau4QB6EXxeIxUGodq [status:200 duration:0.033s]\n"
     ]
    },
    {
     "name": "stdout",
     "output_type": "stream",
     "text": [
      "{'_index': 'anna-summaries-v0', '_id': 'hCMypIIBy5mPdc6PjGaM', '_version': 2, 'result': 'updated', '_shards': {'total': 2, 'successful': 2, 'failed': 0}, '_seq_no': 2772, '_primary_term': 17}\n",
      "{'_index': 'anna-summaries-v0', '_id': 'yNTh34EBBCovfdTkbb7r', '_version': 2, 'result': 'updated', '_shards': {'total': 2, 'successful': 2, 'failed': 0}, '_seq_no': 2773, '_primary_term': 17}\n",
      "{'_index': 'anna-summaries-v0', '_id': '5-Bau4QB6EXxeIxUGodq', '_version': 2, 'result': 'updated', '_shards': {'total': 2, 'successful': 2, 'failed': 0}, '_seq_no': 2774, '_primary_term': 17}\n"
     ]
    },
    {
     "name": "stderr",
     "output_type": "stream",
     "text": [
      "POST https://persyn.es.us-west-2.aws.found.io:443/anna-summaries-v0/_search [status:200 duration:0.028s]\n",
      "POST https://persyn.es.us-west-2.aws.found.io:443/anna-conversations-v0/_search [status:200 duration:0.030s]\n",
      "POST https://persyn.es.us-west-2.aws.found.io:443/anna-summaries-v0/_update/HhhX44AB1O6hlTWgKnRW [status:200 duration:0.031s]\n",
      "POST https://persyn.es.us-west-2.aws.found.io:443/anna-summaries-v0/_search [status:200 duration:0.029s]\n",
      "POST https://persyn.es.us-west-2.aws.found.io:443/anna-conversations-v0/_search [status:200 duration:0.028s]\n",
      "POST https://persyn.es.us-west-2.aws.found.io:443/anna-summaries-v0/_update/cuAD94MB6EXxeIxUJ3ly [status:200 duration:0.027s]\n",
      "POST https://persyn.es.us-west-2.aws.found.io:443/anna-summaries-v0/_search [status:200 duration:0.023s]\n",
      "POST https://persyn.es.us-west-2.aws.found.io:443/anna-conversations-v0/_search [status:200 duration:0.031s]\n",
      "POST https://persyn.es.us-west-2.aws.found.io:443/anna-summaries-v0/_update/OR2mJoIBGYbVpQ0oTKEu [status:200 duration:0.024s]\n"
     ]
    },
    {
     "name": "stdout",
     "output_type": "stream",
     "text": [
      "{'_index': 'anna-summaries-v0', '_id': 'HhhX44AB1O6hlTWgKnRW', '_version': 2, 'result': 'updated', '_shards': {'total': 2, 'successful': 2, 'failed': 0}, '_seq_no': 2775, '_primary_term': 17}\n",
      "{'_index': 'anna-summaries-v0', '_id': 'cuAD94MB6EXxeIxUJ3ly', '_version': 2, 'result': 'updated', '_shards': {'total': 2, 'successful': 2, 'failed': 0}, '_seq_no': 2776, '_primary_term': 17}\n",
      "{'_index': 'anna-summaries-v0', '_id': 'OR2mJoIBGYbVpQ0oTKEu', '_version': 2, 'result': 'updated', '_shards': {'total': 2, 'successful': 2, 'failed': 0}, '_seq_no': 2777, '_primary_term': 17}\n"
     ]
    },
    {
     "name": "stderr",
     "output_type": "stream",
     "text": [
      "POST https://persyn.es.us-west-2.aws.found.io:443/anna-summaries-v0/_search [status:200 duration:0.030s]\n",
      "POST https://persyn.es.us-west-2.aws.found.io:443/anna-conversations-v0/_search [status:200 duration:0.026s]\n",
      "POST https://persyn.es.us-west-2.aws.found.io:443/anna-summaries-v0/_update/ftSpMIEBBCovfdTkNJft [status:200 duration:0.025s]\n",
      "POST https://persyn.es.us-west-2.aws.found.io:443/anna-summaries-v0/_search [status:200 duration:0.026s]\n",
      "POST https://persyn.es.us-west-2.aws.found.io:443/anna-conversations-v0/_search [status:200 duration:0.028s]\n",
      "POST https://persyn.es.us-west-2.aws.found.io:443/anna-summaries-v0/_update/siML4IIBy5mPdc6PZWm2 [status:200 duration:0.025s]\n",
      "POST https://persyn.es.us-west-2.aws.found.io:443/anna-summaries-v0/_search [status:200 duration:0.026s]\n",
      "POST https://persyn.es.us-west-2.aws.found.io:443/anna-conversations-v0/_search [status:200 duration:0.030s]\n",
      "POST https://persyn.es.us-west-2.aws.found.io:443/anna-summaries-v0/_update/Ya8Bu4QBBNi73XUqEbSz [status:200 duration:0.029s]\n",
      "POST https://persyn.es.us-west-2.aws.found.io:443/anna-summaries-v0/_search [status:200 duration:0.022s]\n"
     ]
    },
    {
     "name": "stdout",
     "output_type": "stream",
     "text": [
      "{'_index': 'anna-summaries-v0', '_id': 'ftSpMIEBBCovfdTkNJft', '_version': 2, 'result': 'updated', '_shards': {'total': 2, 'successful': 2, 'failed': 0}, '_seq_no': 2778, '_primary_term': 17}\n",
      "{'_index': 'anna-summaries-v0', '_id': 'siML4IIBy5mPdc6PZWm2', '_version': 2, 'result': 'updated', '_shards': {'total': 2, 'successful': 2, 'failed': 0}, '_seq_no': 2779, '_primary_term': 17}\n",
      "{'_index': 'anna-summaries-v0', '_id': 'Ya8Bu4QBBNi73XUqEbSz', '_version': 2, 'result': 'updated', '_shards': {'total': 2, 'successful': 2, 'failed': 0}, '_seq_no': 2780, '_primary_term': 17}\n"
     ]
    },
    {
     "name": "stderr",
     "output_type": "stream",
     "text": [
      "POST https://persyn.es.us-west-2.aws.found.io:443/anna-conversations-v0/_search [status:200 duration:0.028s]\n",
      "POST https://persyn.es.us-west-2.aws.found.io:443/anna-summaries-v0/_update/qOD03YMB6EXxeIxUnnjs [status:200 duration:0.024s]\n",
      "POST https://persyn.es.us-west-2.aws.found.io:443/anna-summaries-v0/_search [status:200 duration:0.030s]\n",
      "POST https://persyn.es.us-west-2.aws.found.io:443/anna-conversations-v0/_search [status:200 duration:0.021s]\n",
      "POST https://persyn.es.us-west-2.aws.found.io:443/anna-summaries-v0/_update/ia-UmoMBBNi73XUqpqIY [status:200 duration:0.025s]\n",
      "POST https://persyn.es.us-west-2.aws.found.io:443/anna-summaries-v0/_search [status:200 duration:0.026s]\n",
      "POST https://persyn.es.us-west-2.aws.found.io:443/anna-conversations-v0/_search [status:200 duration:0.020s]\n",
      "POST https://persyn.es.us-west-2.aws.found.io:443/anna-summaries-v0/_update/5-BST4QB6EXxeIxUwX_V [status:200 duration:0.024s]\n",
      "POST https://persyn.es.us-west-2.aws.found.io:443/anna-summaries-v0/_search [status:200 duration:0.021s]\n"
     ]
    },
    {
     "name": "stdout",
     "output_type": "stream",
     "text": [
      "{'_index': 'anna-summaries-v0', '_id': 'qOD03YMB6EXxeIxUnnjs', '_version': 2, 'result': 'updated', '_shards': {'total': 2, 'successful': 2, 'failed': 0}, '_seq_no': 2781, '_primary_term': 17}\n",
      "{'_index': 'anna-summaries-v0', '_id': 'ia-UmoMBBNi73XUqpqIY', '_version': 2, 'result': 'updated', '_shards': {'total': 2, 'successful': 2, 'failed': 0}, '_seq_no': 2782, '_primary_term': 17}\n",
      "{'_index': 'anna-summaries-v0', '_id': '5-BST4QB6EXxeIxUwX_V', '_version': 2, 'result': 'updated', '_shards': {'total': 2, 'successful': 2, 'failed': 0}, '_seq_no': 2783, '_primary_term': 17}\n"
     ]
    },
    {
     "name": "stderr",
     "output_type": "stream",
     "text": [
      "POST https://persyn.es.us-west-2.aws.found.io:443/anna-conversations-v0/_search [status:200 duration:0.021s]\n",
      "POST https://persyn.es.us-west-2.aws.found.io:443/anna-summaries-v0/_update/66_XlYQBBNi73XUq668D [status:200 duration:0.027s]\n",
      "POST https://persyn.es.us-west-2.aws.found.io:443/anna-summaries-v0/_search [status:200 duration:0.019s]\n",
      "POST https://persyn.es.us-west-2.aws.found.io:443/anna-conversations-v0/_search [status:200 duration:0.026s]\n",
      "POST https://persyn.es.us-west-2.aws.found.io:443/anna-summaries-v0/_update/5xgYBX8B1O6hlTWgNEoP [status:200 duration:0.023s]\n",
      "POST https://persyn.es.us-west-2.aws.found.io:443/anna-summaries-v0/_search [status:200 duration:0.019s]\n",
      "POST https://persyn.es.us-west-2.aws.found.io:443/anna-conversations-v0/_search [status:200 duration:0.022s]\n",
      "POST https://persyn.es.us-west-2.aws.found.io:443/anna-summaries-v0/_update/vtQKDoEBBCovfdTkS41G [status:200 duration:0.028s]\n",
      "POST https://persyn.es.us-west-2.aws.found.io:443/anna-summaries-v0/_search [status:200 duration:0.027s]\n"
     ]
    },
    {
     "name": "stdout",
     "output_type": "stream",
     "text": [
      "{'_index': 'anna-summaries-v0', '_id': '66_XlYQBBNi73XUq668D', '_version': 2, 'result': 'updated', '_shards': {'total': 2, 'successful': 2, 'failed': 0}, '_seq_no': 2784, '_primary_term': 17}\n",
      "{'_index': 'anna-summaries-v0', '_id': '5xgYBX8B1O6hlTWgNEoP', '_version': 2, 'result': 'updated', '_shards': {'total': 2, 'successful': 2, 'failed': 0}, '_seq_no': 2785, '_primary_term': 17}\n",
      "{'_index': 'anna-summaries-v0', '_id': 'vtQKDoEBBCovfdTkS41G', '_version': 2, 'result': 'updated', '_shards': {'total': 2, 'successful': 2, 'failed': 0}, '_seq_no': 2786, '_primary_term': 17}\n"
     ]
    },
    {
     "name": "stderr",
     "output_type": "stream",
     "text": [
      "POST https://persyn.es.us-west-2.aws.found.io:443/anna-conversations-v0/_search [status:200 duration:0.028s]\n",
      "POST https://persyn.es.us-west-2.aws.found.io:443/anna-summaries-v0/_update/Zh0W8IEBGYbVpQ0o4YUd [status:200 duration:0.035s]\n",
      "POST https://persyn.es.us-west-2.aws.found.io:443/anna-summaries-v0/_search [status:200 duration:0.022s]\n",
      "POST https://persyn.es.us-west-2.aws.found.io:443/anna-conversations-v0/_search [status:200 duration:0.029s]\n",
      "POST https://persyn.es.us-west-2.aws.found.io:443/anna-summaries-v0/_update/JU2EBoMBRfbdi4KAMFam [status:200 duration:0.028s]\n",
      "POST https://persyn.es.us-west-2.aws.found.io:443/anna-summaries-v0/_search [status:200 duration:0.027s]\n",
      "POST https://persyn.es.us-west-2.aws.found.io:443/anna-conversations-v0/_search [status:200 duration:0.028s]\n",
      "POST https://persyn.es.us-west-2.aws.found.io:443/anna-summaries-v0/_update/EODVT4QB6EXxeIxU5YCB [status:200 duration:0.026s]\n"
     ]
    },
    {
     "name": "stdout",
     "output_type": "stream",
     "text": [
      "{'_index': 'anna-summaries-v0', '_id': 'Zh0W8IEBGYbVpQ0o4YUd', '_version': 2, 'result': 'updated', '_shards': {'total': 2, 'successful': 2, 'failed': 0}, '_seq_no': 2787, '_primary_term': 17}\n",
      "{'_index': 'anna-summaries-v0', '_id': 'JU2EBoMBRfbdi4KAMFam', '_version': 2, 'result': 'updated', '_shards': {'total': 2, 'successful': 2, 'failed': 0}, '_seq_no': 2788, '_primary_term': 17}\n",
      "{'_index': 'anna-summaries-v0', '_id': 'EODVT4QB6EXxeIxU5YCB', '_version': 2, 'result': 'updated', '_shards': {'total': 2, 'successful': 2, 'failed': 0}, '_seq_no': 2789, '_primary_term': 17}\n"
     ]
    },
    {
     "name": "stderr",
     "output_type": "stream",
     "text": [
      "POST https://persyn.es.us-west-2.aws.found.io:443/anna-summaries-v0/_search [status:200 duration:0.031s]\n",
      "POST https://persyn.es.us-west-2.aws.found.io:443/anna-conversations-v0/_search [status:200 duration:0.026s]\n",
      "POST https://persyn.es.us-west-2.aws.found.io:443/anna-summaries-v0/_update/3Bhdu4AB1O6hlTWgwXOH [status:200 duration:0.032s]\n",
      "POST https://persyn.es.us-west-2.aws.found.io:443/anna-summaries-v0/_search [status:200 duration:0.026s]\n",
      "POST https://persyn.es.us-west-2.aws.found.io:443/anna-conversations-v0/_search [status:200 duration:0.028s]\n",
      "POST https://persyn.es.us-west-2.aws.found.io:443/anna-summaries-v0/_update/zSM6coMBy5mPdc6P1HBW [status:200 duration:0.031s]\n",
      "POST https://persyn.es.us-west-2.aws.found.io:443/anna-summaries-v0/_search [status:200 duration:0.027s]\n",
      "POST https://persyn.es.us-west-2.aws.found.io:443/anna-conversations-v0/_search [status:200 duration:0.028s]\n",
      "POST https://persyn.es.us-west-2.aws.found.io:443/anna-summaries-v0/_update/UOAvd4QB6EXxeIxUAYIP [status:200 duration:0.026s]\n",
      "POST https://persyn.es.us-west-2.aws.found.io:443/anna-summaries-v0/_search [status:200 duration:0.020s]\n"
     ]
    },
    {
     "name": "stdout",
     "output_type": "stream",
     "text": [
      "{'_index': 'anna-summaries-v0', '_id': '3Bhdu4AB1O6hlTWgwXOH', '_version': 2, 'result': 'updated', '_shards': {'total': 2, 'successful': 2, 'failed': 0}, '_seq_no': 2790, '_primary_term': 17}\n",
      "{'_index': 'anna-summaries-v0', '_id': 'zSM6coMBy5mPdc6P1HBW', '_version': 2, 'result': 'updated', '_shards': {'total': 2, 'successful': 2, 'failed': 0}, '_seq_no': 2791, '_primary_term': 17}\n",
      "{'_index': 'anna-summaries-v0', '_id': 'UOAvd4QB6EXxeIxUAYIP', '_version': 2, 'result': 'updated', '_shards': {'total': 2, 'successful': 2, 'failed': 0}, '_seq_no': 2792, '_primary_term': 17}\n"
     ]
    },
    {
     "name": "stderr",
     "output_type": "stream",
     "text": [
      "POST https://persyn.es.us-west-2.aws.found.io:443/anna-conversations-v0/_search [status:200 duration:0.028s]\n",
      "POST https://persyn.es.us-west-2.aws.found.io:443/anna-summaries-v0/_update/ih0yLYIBGYbVpQ0ojaPD [status:200 duration:0.029s]\n",
      "POST https://persyn.es.us-west-2.aws.found.io:443/anna-summaries-v0/_search [status:200 duration:0.026s]\n",
      "POST https://persyn.es.us-west-2.aws.found.io:443/anna-conversations-v0/_search [status:200 duration:0.021s]\n",
      "POST https://persyn.es.us-west-2.aws.found.io:443/anna-summaries-v0/_update/Fk0FqoIBRfbdi4KAc09J [status:200 duration:0.021s]\n",
      "POST https://persyn.es.us-west-2.aws.found.io:443/anna-summaries-v0/_search [status:200 duration:0.020s]\n",
      "POST https://persyn.es.us-west-2.aws.found.io:443/anna-conversations-v0/_search [status:200 duration:0.026s]\n",
      "POST https://persyn.es.us-west-2.aws.found.io:443/anna-summaries-v0/_update/k6-E9oMBBNi73XUqFaRg [status:200 duration:0.027s]\n",
      "POST https://persyn.es.us-west-2.aws.found.io:443/anna-summaries-v0/_search [status:200 duration:0.023s]\n",
      "POST https://persyn.es.us-west-2.aws.found.io:443/anna-conversations-v0/_search [status:200 duration:0.022s]\n"
     ]
    },
    {
     "name": "stdout",
     "output_type": "stream",
     "text": [
      "{'_index': 'anna-summaries-v0', '_id': 'ih0yLYIBGYbVpQ0ojaPD', '_version': 2, 'result': 'updated', '_shards': {'total': 2, 'successful': 2, 'failed': 0}, '_seq_no': 2793, '_primary_term': 17}\n",
      "{'_index': 'anna-summaries-v0', '_id': 'Fk0FqoIBRfbdi4KAc09J', '_version': 2, 'result': 'noop', '_shards': {'total': 0, 'successful': 0, 'failed': 0}, '_seq_no': 1624, '_primary_term': 17}\n",
      "{'_index': 'anna-summaries-v0', '_id': 'k6-E9oMBBNi73XUqFaRg', '_version': 2, 'result': 'noop', '_shards': {'total': 0, 'successful': 0, 'failed': 0}, '_seq_no': 1625, '_primary_term': 17}\n"
     ]
    },
    {
     "name": "stderr",
     "output_type": "stream",
     "text": [
      "POST https://persyn.es.us-west-2.aws.found.io:443/anna-summaries-v0/_update/ra9AAYQBBNi73XUql6bm [status:200 duration:0.023s]\n",
      "POST https://persyn.es.us-west-2.aws.found.io:443/anna-summaries-v0/_search [status:200 duration:0.027s]\n",
      "POST https://persyn.es.us-west-2.aws.found.io:443/anna-conversations-v0/_search [status:200 duration:0.024s]\n",
      "POST https://persyn.es.us-west-2.aws.found.io:443/anna-summaries-v0/_update/5a_sEYQBBNi73XUqOKgV [status:200 duration:0.028s]\n",
      "POST https://persyn.es.us-west-2.aws.found.io:443/anna-summaries-v0/_search [status:200 duration:0.027s]\n",
      "POST https://persyn.es.us-west-2.aws.found.io:443/anna-conversations-v0/_search [status:200 duration:0.026s]\n",
      "POST https://persyn.es.us-west-2.aws.found.io:443/anna-summaries-v0/_update/o-CWiIQB6EXxeIxUe4Ki [status:200 duration:0.022s]\n"
     ]
    },
    {
     "name": "stdout",
     "output_type": "stream",
     "text": [
      "{'_index': 'anna-summaries-v0', '_id': 'ra9AAYQBBNi73XUql6bm', '_version': 2, 'result': 'noop', '_shards': {'total': 0, 'successful': 0, 'failed': 0}, '_seq_no': 1626, '_primary_term': 17}\n",
      "{'_index': 'anna-summaries-v0', '_id': '5a_sEYQBBNi73XUqOKgV', '_version': 2, 'result': 'noop', '_shards': {'total': 0, 'successful': 0, 'failed': 0}, '_seq_no': 1627, '_primary_term': 17}\n",
      "{'_index': 'anna-summaries-v0', '_id': 'o-CWiIQB6EXxeIxUe4Ki', '_version': 2, 'result': 'noop', '_shards': {'total': 0, 'successful': 0, 'failed': 0}, '_seq_no': 1628, '_primary_term': 17}\n"
     ]
    }
   ],
   "source": [
    "for convo_id in all_convo_ids:\n",
    "    summary = interact.recall.ltm.es.search(\n",
    "        index='anna-summaries-v0',\n",
    "        query={\n",
    "            \"bool\":{\n",
    "                \"must\": [\n",
    "                    {\"match\": {\"convo_id\": { \"query\": convo_id}}}\n",
    "                ]\n",
    "            }\n",
    "        }\n",
    "    )\n",
    "\n",
    "    for doc in summary.body['hits']['hits']:\n",
    "        convo = interact.recall.ltm.es.search( # pylint: disable=unexpected-keyword-arg\n",
    "            index='anna-conversations-v0',\n",
    "            _source=[\"convo_id\"],\n",
    "            aggs={\n",
    "                \"patterns\" : {\n",
    "                    \"terms\" : {\n",
    "                        \"field\" : \"entity_id.keyword\",\n",
    "                        \"size\": 100\n",
    "                    }\n",
    "                }\n",
    "            },\n",
    "            query={\n",
    "                \"bool\": {\n",
    "                    \"must\": [\n",
    "                        {\"match\": {\"convo_id\": {\"query\": convo_id}}}\n",
    "                    ]\n",
    "                }\n",
    "            },\n",
    "            size=10\n",
    "        )['aggregations']\n",
    "\n",
    "        speakers = [v['key'] for v in convo['patterns']['buckets']]\n",
    "        \n",
    "        source = doc['_source']\n",
    "        source['speaker_ids'] = speakers\n",
    "\n",
    "        reply = interact.recall.ltm.es.update(\n",
    "            index=\"anna-summaries-v0\",\n",
    "            id=doc['_id'],\n",
    "            doc=source\n",
    "        )\n",
    "        print(reply)"
   ]
  },
  {
   "cell_type": "code",
   "execution_count": null,
   "id": "1a2757c8",
   "metadata": {},
   "outputs": [],
   "source": []
  }
 ],
 "metadata": {
  "kernelspec": {
   "display_name": "Python 3 (ipykernel)",
   "language": "python",
   "name": "python3"
  },
  "language_info": {
   "codemirror_mode": {
    "name": "ipython",
    "version": 3
   },
   "file_extension": ".py",
   "mimetype": "text/x-python",
   "name": "python",
   "nbconvert_exporter": "python",
   "pygments_lexer": "ipython3",
   "version": "3.8.0"
  }
 },
 "nbformat": 4,
 "nbformat_minor": 5
}
