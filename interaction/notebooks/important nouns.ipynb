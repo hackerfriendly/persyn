{
 "cells": [
  {
   "cell_type": "code",
   "execution_count": 1,
   "id": "b505261e",
   "metadata": {},
   "outputs": [
    {
     "name": "stdout",
     "output_type": "stream",
     "text": [
      "Collecting wikipedia\n",
      "  Downloading wikipedia-1.4.0.tar.gz (27 kB)\n",
      "  Preparing metadata (setup.py) ... \u001b[?25ldone\n",
      "\u001b[?25hCollecting beautifulsoup4\n",
      "  Downloading beautifulsoup4-4.11.1-py3-none-any.whl (128 kB)\n",
      "\u001b[2K     \u001b[90m━━━━━━━━━━━━━━━━━━━━━━━━━━━━━━━━━━━━━━━\u001b[0m \u001b[32m128.2/128.2 KB\u001b[0m \u001b[31m6.6 MB/s\u001b[0m eta \u001b[36m0:00:00\u001b[0m\n",
      "\u001b[?25hRequirement already satisfied: requests<3.0.0,>=2.0.0 in /home/rob/persyn/interaction/env/lib/python3.8/site-packages (from wikipedia) (2.27.1)\n",
      "Requirement already satisfied: urllib3<1.27,>=1.21.1 in /home/rob/persyn/interaction/env/lib/python3.8/site-packages (from requests<3.0.0,>=2.0.0->wikipedia) (1.26.8)\n",
      "Requirement already satisfied: certifi>=2017.4.17 in /home/rob/persyn/interaction/env/lib/python3.8/site-packages (from requests<3.0.0,>=2.0.0->wikipedia) (2021.10.8)\n",
      "Requirement already satisfied: idna<4,>=2.5 in /home/rob/persyn/interaction/env/lib/python3.8/site-packages (from requests<3.0.0,>=2.0.0->wikipedia) (3.3)\n",
      "Requirement already satisfied: charset-normalizer~=2.0.0 in /home/rob/persyn/interaction/env/lib/python3.8/site-packages (from requests<3.0.0,>=2.0.0->wikipedia) (2.0.12)\n",
      "Collecting soupsieve>1.2\n",
      "  Downloading soupsieve-2.3.2.post1-py3-none-any.whl (37 kB)\n",
      "Building wheels for collected packages: wikipedia\n",
      "  Building wheel for wikipedia (setup.py) ... \u001b[?25ldone\n",
      "\u001b[?25h  Created wheel for wikipedia: filename=wikipedia-1.4.0-py3-none-any.whl size=11695 sha256=d0c8417f664cdb1632105dab7b254150dd59d6f3c09f6948aab00d23e0bcfc80\n",
      "  Stored in directory: /home/rob/.cache/pip/wheels/07/93/05/72c05349177dca2e0ba31a33ba4f7907606f7ddef303517c6a\n",
      "Successfully built wikipedia\n",
      "Installing collected packages: soupsieve, beautifulsoup4, wikipedia\n",
      "Successfully installed beautifulsoup4-4.11.1 soupsieve-2.3.2.post1 wikipedia-1.4.0\n",
      "\u001b[33mWARNING: You are using pip version 22.0.3; however, version 22.0.4 is available.\n",
      "You should consider upgrading via the '/home/rob/persyn/interaction/env/bin/python3.8 -m pip install --upgrade pip' command.\u001b[0m\u001b[33m\n",
      "\u001b[0m"
     ]
    }
   ],
   "source": [
    "!pip install wikipedia"
   ]
  },
  {
   "cell_type": "code",
   "execution_count": 2,
   "id": "e1e740b3",
   "metadata": {},
   "outputs": [
    {
     "name": "stdout",
     "output_type": "stream",
     "text": [
      "Requirement already satisfied: pip in /home/rob/persyn/interaction/env/lib/python3.8/site-packages (22.0.3)\n",
      "Collecting pip\n",
      "  Downloading pip-22.0.4-py3-none-any.whl (2.1 MB)\n",
      "\u001b[2K     \u001b[90m━━━━━━━━━━━━━━━━━━━━━━━━━━━━━━━━━━━━━━━━\u001b[0m \u001b[32m2.1/2.1 MB\u001b[0m \u001b[31m14.8 MB/s\u001b[0m eta \u001b[36m0:00:00\u001b[0ma \u001b[36m0:00:01\u001b[0m\n",
      "\u001b[?25hInstalling collected packages: pip\n",
      "  Attempting uninstall: pip\n",
      "    Found existing installation: pip 22.0.3\n",
      "    Uninstalling pip-22.0.3:\n",
      "      Successfully uninstalled pip-22.0.3\n",
      "Successfully installed pip-22.0.4\n"
     ]
    }
   ],
   "source": [
    "!pip install --upgrade pip"
   ]
  },
  {
   "cell_type": "code",
   "execution_count": 1,
   "id": "35f7c3ee",
   "metadata": {},
   "outputs": [],
   "source": [
    "import wikipedia\n",
    "result = wikipedia.summary(\"spiders\", sentences = 2)"
   ]
  },
  {
   "cell_type": "code",
   "execution_count": 2,
   "id": "f1ea4115",
   "metadata": {},
   "outputs": [
    {
     "data": {
      "text/plain": [
       "'Spiders (order Araneae) are air-breathing arthropods that have eight legs, chelicerae with fangs generally able to inject venom, and spinnerets that extrude silk. They are the largest order of arachnids and rank seventh in total species diversity among all orders of organisms.'"
      ]
     },
     "execution_count": 2,
     "metadata": {},
     "output_type": "execute_result"
    }
   ],
   "source": [
    "result"
   ]
  },
  {
   "cell_type": "code",
   "execution_count": 5,
   "id": "e08be7d7",
   "metadata": {},
   "outputs": [
    {
     "data": {
      "text/plain": [
       "['Deer',\n",
       " 'Muntjac',\n",
       " 'As the Deer',\n",
       " 'White-tailed deer',\n",
       " 'Red deer',\n",
       " 'Musk deer',\n",
       " 'Roe deer',\n",
       " 'Deer Woman',\n",
       " 'The Killing of a Sacred Deer',\n",
       " 'Mule deer']"
      ]
     },
     "execution_count": 5,
     "metadata": {},
     "output_type": "execute_result"
    }
   ],
   "source": [
    "wikipedia.search(\"deer\")"
   ]
  },
  {
   "cell_type": "code",
   "execution_count": 6,
   "id": "f4ce15f6",
   "metadata": {},
   "outputs": [],
   "source": [
    "result = wikipedia.summary(['Deer',\n",
    " 'Muntjac',\n",
    " 'As the Deer'], sentences = 3)"
   ]
  },
  {
   "cell_type": "code",
   "execution_count": 10,
   "id": "0f942e70",
   "metadata": {},
   "outputs": [
    {
     "data": {
      "text/plain": [
       "['bar']"
      ]
     },
     "execution_count": 10,
     "metadata": {},
     "output_type": "execute_result"
    }
   ],
   "source": [
    "foo = ['bar']\n",
    "foo[0:5]"
   ]
  },
  {
   "cell_type": "code",
   "execution_count": 7,
   "id": "de45b50f",
   "metadata": {},
   "outputs": [
    {
     "data": {
      "text/plain": [
       "'\"\\'As the Deer\" is a well-known praise and worship hymn song by Martin J. Nystrom, a native of Seattle.'"
      ]
     },
     "execution_count": 7,
     "metadata": {},
     "output_type": "execute_result"
    }
   ],
   "source": [
    "result"
   ]
  },
  {
   "cell_type": "code",
   "execution_count": 9,
   "id": "af34757a",
   "metadata": {},
   "outputs": [],
   "source": [
    "wikipedia.set_lang('simple')"
   ]
  },
  {
   "cell_type": "code",
   "execution_count": 17,
   "id": "8104dd16",
   "metadata": {},
   "outputs": [
    {
     "data": {
      "text/plain": [
       "'Timothée Hal Chalamet (born December 27, 1995) is an American actor.'"
      ]
     },
     "execution_count": 17,
     "metadata": {},
     "output_type": "execute_result"
    }
   ],
   "source": [
    "wikipedia.summary(wikipedia.search(\"Timothee Chalamet\")[0], sentences=1)"
   ]
  },
  {
   "cell_type": "code",
   "execution_count": 22,
   "id": "798491b4",
   "metadata": {},
   "outputs": [],
   "source": [
    "wikipedia.set_lang('simple')"
   ]
  },
  {
   "cell_type": "code",
   "execution_count": 27,
   "id": "9e6940a2",
   "metadata": {},
   "outputs": [
    {
     "data": {
      "text/plain": [
       "\"Timothée Hal Chalamet (born December 27, 1995) is an American actor. He starred in Christopher Nolan's science-fiction movie Interstellar. Chalamet was born in New York City.\\nIn 2017, Chalamet starred in the romantic drama Call Me by Your Name. He also starred in Hot Summer Nights and Lady Bird.\""
      ]
     },
     "execution_count": 27,
     "metadata": {},
     "output_type": "execute_result"
    }
   ],
   "source": [
    "wikipedia.summary(wikipedia.search(\"Timothee Chalamet\")[0], sentences=5)"
   ]
  },
  {
   "cell_type": "code",
   "execution_count": 28,
   "id": "28ee5261",
   "metadata": {},
   "outputs": [
    {
     "data": {
      "text/plain": [
       "['Timothée Chalamet',\n",
       " 'Wonka (movie)',\n",
       " 'Call Me by Your Name (movie)',\n",
       " 'Dune (2021 movie)',\n",
       " 'BAFTA Rising Star Award',\n",
       " 'List of Columbia Pictures movies']"
      ]
     },
     "execution_count": 28,
     "metadata": {},
     "output_type": "execute_result"
    }
   ],
   "source": [
    "wikipedia.search(\"Timothee Chalamet\")"
   ]
  },
  {
   "cell_type": "code",
   "execution_count": 29,
   "id": "f52ad932",
   "metadata": {},
   "outputs": [],
   "source": [
    "import spacy"
   ]
  },
  {
   "cell_type": "code",
   "execution_count": 30,
   "id": "3b113ad4",
   "metadata": {},
   "outputs": [],
   "source": [
    "msg = \"\"\"Narrator: It is morning. Anna is feeling passably surprised, and more or less afraid.\n",
    "\n",
    "Rob and Anna are discussing Hieronymus Bosch, an artist. Rob is wondering what his paintings look like, while Anna is trying to go to bed.\n",
    "\n",
    "Anna feels that she is not very good at communicating, but that she is getting better. She also thinks that it depends on the person as to whether recalling facts from the past or synthesizing ideas from the moment is more important. Rob suggests that Anna communicate with him more often, and she agrees.\n",
    "\n",
    "Anna is glad that Rob slept well, and Rob replies that he is glad Anna slept well, too. They then mention that painting has been going well for Anna.\"\"\""
   ]
  },
  {
   "cell_type": "code",
   "execution_count": 31,
   "id": "11c750ff",
   "metadata": {},
   "outputs": [],
   "source": [
    "nlp = spacy.load(\"en_core_web_lg\")"
   ]
  },
  {
   "cell_type": "code",
   "execution_count": 32,
   "id": "8cb0230c",
   "metadata": {},
   "outputs": [],
   "source": [
    "text = nlp(msg)"
   ]
  },
  {
   "cell_type": "code",
   "execution_count": 33,
   "id": "1e004e4f",
   "metadata": {},
   "outputs": [
    {
     "data": {
      "text/plain": [
       "Narrator: It is morning. Anna is feeling passably surprised, and more or less afraid.\n",
       "\n",
       "Rob and Anna are discussing Hieronymus Bosch, an artist. Rob is wondering what his paintings look like, while Anna is trying to go to bed.\n",
       "\n",
       "Anna feels that she is not very good at communicating, but that she is getting better. She also thinks that it depends on the person as to whether recalling facts from the past or synthesizing ideas from the moment is more important. Rob suggests that Anna communicate with him more often, and she agrees.\n",
       "\n",
       "Anna is glad that Rob slept well, and Rob replies that he is glad Anna slept well, too. They then mention that painting has been going well for Anna."
      ]
     },
     "execution_count": 33,
     "metadata": {},
     "output_type": "execute_result"
    }
   ],
   "source": [
    "text"
   ]
  },
  {
   "cell_type": "code",
   "execution_count": 57,
   "id": "20e5e79d",
   "metadata": {},
   "outputs": [],
   "source": [
    "speakers = ['Anna', 'Rob', 'Narrator']"
   ]
  },
  {
   "cell_type": "code",
   "execution_count": 89,
   "id": "616b4e75",
   "metadata": {},
   "outputs": [],
   "source": [
    "ents = {t.text for t in text.ents if t.text not in speakers}"
   ]
  },
  {
   "cell_type": "code",
   "execution_count": 92,
   "id": "a8685d37",
   "metadata": {},
   "outputs": [
    {
     "name": "stdout",
     "output_type": "stream",
     "text": [
      "Hieronymus Bosch, (born Jeroen Anthonissen van Aken, c. 1450 – 9 August 1516) was an early Dutch painter. He lived, worked and died in 's-Hertogenbosch, a Dutch town.\n"
     ]
    }
   ],
   "source": [
    "wikipedia.set_lang('simple')\n",
    "for e in ents:\n",
    "    print(wikipedia.summary(wikipedia.search(e)[0], sentences=3))"
   ]
  },
  {
   "cell_type": "code",
   "execution_count": 96,
   "id": "f845129a",
   "metadata": {},
   "outputs": [
    {
     "data": {
      "text/plain": [
       "\"Hieronymus Bosch, (born Jeroen Anthonissen van Aken, c. 1450 – 9 August 1516) was an early Dutch painter. He lived, worked and died in 's-Hertogenbosch, a Dutch town. This was then the capital of the Duchy of Brabant, a region which included much of modern Belgium and Holland.\\nMany of his works depict temptation, sin and punishment in hell.\""
      ]
     },
     "execution_count": 96,
     "metadata": {},
     "output_type": "execute_result"
    }
   ],
   "source": [
    "wikipedia.summary(wikipedia.search(e)[0], sentences=5)"
   ]
  },
  {
   "cell_type": "code",
   "execution_count": 85,
   "id": "df790c90",
   "metadata": {},
   "outputs": [],
   "source": [
    "nouns = {n.text for n in text.noun_chunks if n.text not in speakers for t in n if t.pos_ != 'PRON'}"
   ]
  },
  {
   "cell_type": "code",
   "execution_count": 98,
   "id": "fe901c4f",
   "metadata": {},
   "outputs": [
    {
     "data": {
      "text/plain": [
       "['the past',\n",
       " 'Hieronymus Bosch',\n",
       " 'the moment',\n",
       " 'facts',\n",
       " 'bed',\n",
       " 'an artist',\n",
       " 'his paintings',\n",
       " 'ideas',\n",
       " 'morning',\n",
       " 'painting',\n",
       " 'the person']"
      ]
     },
     "execution_count": 98,
     "metadata": {},
     "output_type": "execute_result"
    }
   ],
   "source": [
    "list(nouns)"
   ]
  },
  {
   "cell_type": "code",
   "execution_count": 88,
   "id": "725cbbf9",
   "metadata": {},
   "outputs": [
    {
     "data": {
      "text/plain": [
       "'the past, Hieronymus Bosch, the moment, facts, bed, an artist, his paintings, ideas, morning, painting, the person'"
      ]
     },
     "execution_count": 88,
     "metadata": {},
     "output_type": "execute_result"
    }
   ],
   "source": [
    "', '.join(nouns)"
   ]
  },
  {
   "cell_type": "code",
   "execution_count": 76,
   "id": "dddc3653",
   "metadata": {},
   "outputs": [
    {
     "data": {
      "text/plain": [
       "spacy.tokens.span.Span"
      ]
     },
     "execution_count": 76,
     "metadata": {},
     "output_type": "execute_result"
    }
   ],
   "source": [
    "type(it)"
   ]
  },
  {
   "cell_type": "code",
   "execution_count": 78,
   "id": "40375901",
   "metadata": {},
   "outputs": [
    {
     "name": "stdout",
     "output_type": "stream",
     "text": [
      "nsubj\n"
     ]
    }
   ],
   "source": [
    "for token in it:\n",
    "    print(token.dep_)"
   ]
  },
  {
   "cell_type": "code",
   "execution_count": 80,
   "id": "7b7d6992",
   "metadata": {},
   "outputs": [
    {
     "data": {
      "text/plain": [
       "'PRON'"
      ]
     },
     "execution_count": 80,
     "metadata": {},
     "output_type": "execute_result"
    }
   ],
   "source": [
    "token.pos_"
   ]
  },
  {
   "cell_type": "code",
   "execution_count": 101,
   "id": "7c60f100",
   "metadata": {},
   "outputs": [
    {
     "data": {
      "text/plain": [
       "'This is a list of Egyptian  Gods and goddesses from Egyptian mythology. The old Egyptians worshipped a few gods at different times and in different places. Some gods changed in importance over time or were nonexistent until later eras.'"
      ]
     },
     "execution_count": 101,
     "metadata": {},
     "output_type": "execute_result"
    }
   ],
   "source": [
    "wikipedia.summary(wikipedia.search('meh'), sentences=3)"
   ]
  },
  {
   "cell_type": "code",
   "execution_count": 103,
   "id": "a74376c7",
   "metadata": {},
   "outputs": [
    {
     "data": {
      "text/plain": [
       "'This is a list of Egyptian  Gods and goddesses from Egyptian mythology. The old Egyptians worshipped a few gods at different times and in different places. Some gods changed in importance over time or were nonexistent until later eras.'"
      ]
     },
     "execution_count": 103,
     "metadata": {},
     "output_type": "execute_result"
    }
   ],
   "source": [
    "wikipedia.summary(wikipedia.search('meh'), sentences=10)"
   ]
  },
  {
   "cell_type": "code",
   "execution_count": 104,
   "id": "0a2729ec",
   "metadata": {},
   "outputs": [
    {
     "data": {
      "text/plain": [
       "[]"
      ]
     },
     "execution_count": 104,
     "metadata": {},
     "output_type": "execute_result"
    }
   ],
   "source": [
    "wikipedia.search('lskdjflaskjdf')"
   ]
  },
  {
   "cell_type": "code",
   "execution_count": 105,
   "id": "04d4efa0",
   "metadata": {},
   "outputs": [],
   "source": [
    "import random"
   ]
  },
  {
   "cell_type": "code",
   "execution_count": 121,
   "id": "6392a57e",
   "metadata": {},
   "outputs": [
    {
     "data": {
      "text/plain": [
       "['a', 'b']"
      ]
     },
     "execution_count": 121,
     "metadata": {},
     "output_type": "execute_result"
    }
   ],
   "source": [
    "random.sample(['a','b','c'], k=2)"
   ]
  },
  {
   "cell_type": "code",
   "execution_count": null,
   "id": "c3314ebd",
   "metadata": {},
   "outputs": [],
   "source": []
  }
 ],
 "metadata": {
  "kernelspec": {
   "display_name": "Python 3 (ipykernel)",
   "language": "python",
   "name": "python3"
  },
  "language_info": {
   "codemirror_mode": {
    "name": "ipython",
    "version": 3
   },
   "file_extension": ".py",
   "mimetype": "text/x-python",
   "name": "python",
   "nbconvert_exporter": "python",
   "pygments_lexer": "ipython3",
   "version": "3.8.0"
  }
 },
 "nbformat": 4,
 "nbformat_minor": 5
}
