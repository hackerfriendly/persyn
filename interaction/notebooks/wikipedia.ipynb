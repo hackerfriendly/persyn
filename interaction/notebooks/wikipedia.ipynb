{
 "cells": [
  {
   "cell_type": "code",
   "execution_count": 1,
   "id": "fa5cee4a",
   "metadata": {},
   "outputs": [],
   "source": [
    "import wikipedia"
   ]
  },
  {
   "cell_type": "code",
   "execution_count": 17,
   "id": "1a227a76",
   "metadata": {},
   "outputs": [],
   "source": [
    "entity = \"Just a 5 minute\""
   ]
  },
  {
   "cell_type": "code",
   "execution_count": 18,
   "id": "67f6f2ba",
   "metadata": {},
   "outputs": [],
   "source": [
    "wiki = wikipedia.page(entity)"
   ]
  },
  {
   "cell_type": "code",
   "execution_count": 19,
   "id": "e06f15eb",
   "metadata": {},
   "outputs": [
    {
     "data": {
      "text/plain": [
       "False"
      ]
     },
     "execution_count": 19,
     "metadata": {},
     "output_type": "execute_result"
    }
   ],
   "source": [
    "wiki.original_title.lower() == entity.lower()"
   ]
  },
  {
   "cell_type": "code",
   "execution_count": 4,
   "id": "16c9f31f",
   "metadata": {},
   "outputs": [
    {
     "name": "stdout",
     "output_type": "stream",
     "text": [
      "Help on cache in module wikipedia.wikipedia object:\n",
      "\n",
      "summary = class cache(builtins.object)\n",
      " |  summary(fn)\n",
      " |  \n",
      " |  Methods defined here:\n",
      " |  \n",
      " |  __call__(self, *args, **kwargs)\n",
      " |      Call self as a function.\n",
      " |  \n",
      " |  __init__(self, fn)\n",
      " |      Initialize self.  See help(type(self)) for accurate signature.\n",
      " |  \n",
      " |  clear_cache(self)\n",
      " |  \n",
      " |  ----------------------------------------------------------------------\n",
      " |  Data descriptors defined here:\n",
      " |  \n",
      " |  __dict__\n",
      " |      dictionary for instance variables (if defined)\n",
      " |  \n",
      " |  __weakref__\n",
      " |      list of weak references to the object (if defined)\n",
      "\n"
     ]
    }
   ],
   "source": [
    "help(wikipedia.summary)"
   ]
  },
  {
   "cell_type": "code",
   "execution_count": null,
   "id": "e2dd2bbd",
   "metadata": {},
   "outputs": [],
   "source": [
    "wikipedia.summary()"
   ]
  },
  {
   "cell_type": "code",
   "execution_count": 21,
   "id": "4722ecd7",
   "metadata": {},
   "outputs": [],
   "source": [
    "import humanize\n",
    "import datetime as dt"
   ]
  },
  {
   "cell_type": "code",
   "execution_count": 23,
   "id": "7eba1bef",
   "metadata": {},
   "outputs": [],
   "source": [
    "delta = dt.timedelta(seconds=3633, days=2, microseconds=123000)"
   ]
  },
  {
   "cell_type": "code",
   "execution_count": 24,
   "id": "9e1a1808",
   "metadata": {},
   "outputs": [
    {
     "data": {
      "text/plain": [
       "'2 days'"
      ]
     },
     "execution_count": 24,
     "metadata": {},
     "output_type": "execute_result"
    }
   ],
   "source": [
    "humanize.naturaldelta(delta)"
   ]
  },
  {
   "cell_type": "code",
   "execution_count": 33,
   "id": "9386ff57",
   "metadata": {},
   "outputs": [
    {
     "data": {
      "text/plain": [
       "'a year'"
      ]
     },
     "execution_count": 33,
     "metadata": {},
     "output_type": "execute_result"
    }
   ],
   "source": [
    "delta = dt.timedelta(seconds=3633, days=365, microseconds=123000)\n",
    "humanize.naturaldelta(delta)"
   ]
  },
  {
   "cell_type": "code",
   "execution_count": 15,
   "id": "949d9174",
   "metadata": {},
   "outputs": [],
   "source": [
    "import datetime as dt\n",
    "import humanize"
   ]
  },
  {
   "cell_type": "code",
   "execution_count": 20,
   "id": "10a8d0f5",
   "metadata": {},
   "outputs": [
    {
     "data": {
      "text/plain": [
       "'Tuesday August 16th, 2022'"
      ]
     },
     "execution_count": 20,
     "metadata": {},
     "output_type": "execute_result"
    }
   ],
   "source": [
    "dt.date.today().strftime(f\"%A %B {humanize.ordinal(dt.date.today().day)}, %Y\")"
   ]
  },
  {
   "cell_type": "code",
   "execution_count": 16,
   "id": "f164833a",
   "metadata": {},
   "outputs": [
    {
     "data": {
      "text/plain": [
       "'16th'"
      ]
     },
     "execution_count": 16,
     "metadata": {},
     "output_type": "execute_result"
    }
   ],
   "source": [
    "humanize.ordinal(16)"
   ]
  },
  {
   "cell_type": "code",
   "execution_count": 18,
   "id": "6e349fee",
   "metadata": {},
   "outputs": [
    {
     "data": {
      "text/plain": [
       "16"
      ]
     },
     "execution_count": 18,
     "metadata": {},
     "output_type": "execute_result"
    }
   ],
   "source": [
    "dt.date.today().day"
   ]
  },
  {
   "cell_type": "code",
   "execution_count": null,
   "id": "73b69de1",
   "metadata": {},
   "outputs": [],
   "source": []
  }
 ],
 "metadata": {
  "kernelspec": {
   "display_name": "Python 3 (ipykernel)",
   "language": "python",
   "name": "python3"
  },
  "language_info": {
   "codemirror_mode": {
    "name": "ipython",
    "version": 3
   },
   "file_extension": ".py",
   "mimetype": "text/x-python",
   "name": "python",
   "nbconvert_exporter": "python",
   "pygments_lexer": "ipython3",
   "version": "3.8.0"
  }
 },
 "nbformat": 4,
 "nbformat_minor": 5
}
