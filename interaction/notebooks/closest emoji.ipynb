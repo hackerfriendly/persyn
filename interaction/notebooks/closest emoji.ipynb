{
 "cells": [
  {
   "cell_type": "code",
   "execution_count": null,
   "id": "5bf29b9a",
   "metadata": {},
   "outputs": [],
   "source": [
    "from Levenshtein import ratio"
   ]
  },
  {
   "cell_type": "code",
   "execution_count": 45,
   "id": "546a7633",
   "metadata": {},
   "outputs": [],
   "source": [
    "all_emoji = (\n",
    "  \"+1\", \"-1\", \"100\", \"1234\", \"8ball\", \"a\", \"ab\", \"abacus\",\n",
    "  \"abc\", \"abcd\", \"accept\", \"accordion\", \"adhesive_bandage\", \"admission_tickets\", \"adult\", \"aerial_tramway\",\n",
    "  \"airplane\", \"airplane_arriving\", \"airplane_departure\", \"alarm_clock\", \"alembic\", \"alien\", \"ambulance\", \"amphora\",\n",
    "  \"anatomical_heart\", \"anchor\", \"angel\", \"anger\", \"angry\", \"anguished\", \"ant\", \"apple\",\n",
    "  \"aquarius\", \"aries\", \"arrow_backward\", \"arrow_double_down\", \"arrow_double_up\", \"arrow_down\", \"arrow_down_small\", \"arrow_forward\",\n",
    "  \"arrow_heading_down\", \"arrow_heading_up\", \"arrow_left\", \"arrow_lower_left\", \"arrow_lower_right\", \"arrow_right\", \"arrow_right_hook\", \"arrow_up\",\n",
    "  \"arrow_up_down\", \"arrow_up_small\", \"arrow_upper_left\", \"arrow_upper_right\", \"arrows_clockwise\", \"arrows_counterclockwise\", \"art\", \"articulated_lorry\",\n",
    "  \"artist\", \"astonished\", \"astronaut\", \"athletic_shoe\", \"atm\", \"atom_symbol\", \"auto_rickshaw\", \"avocado\",\n",
    "  \"axe\", \"b\", \"baby\", \"baby_bottle\", \"baby_chick\", \"baby_symbol\", \"back\", \"bacon\",\n",
    "  \"badger\", \"badminton_racquet_and_shuttlecock\", \"bagel\", \"baggage_claim\", \"baguette_bread\", \"bald_man\", \"bald_person\", \"bald_woman\",\n",
    "  \"ballet_shoes\", \"balloon\", \"ballot_box_with_ballot\", \"ballot_box_with_check\", \"bamboo\", \"banana\", \"bangbang\", \"banjo\",\n",
    "  \"bank\", \"bar_chart\", \"barber\", \"barely_sunny\", \"baseball\", \"basket\", \"basketball\", \"bat\",\n",
    "  \"bath\", \"bathtub\", \"battery\", \"beach_with_umbrella\", \"beans\", \"bear\", \"bearded_person\", \"beaver\",\n",
    "  \"bed\", \"bee\", \"beer\", \"beers\", \"beetle\", \"beginner\", \"bell\", \"bell_pepper\",\n",
    "  \"bellhop_bell\", \"bento\", \"beverage_box\", \"bicyclist\", \"bike\", \"bikini\", \"billed_cap\", \"biohazard_sign\",\n",
    "  \"bird\", \"birthday\", \"bison\", \"biting_lip\", \"black_cat\", \"black_circle\", \"black_circle_for_record\", \"black_heart\",\n",
    "  \"black_joker\", \"black_large_square\", \"black_left_pointing_double_triangle_with_vertical_bar\", \"black_medium_small_square\", \"black_medium_square\", \"black_nib\", \"black_right_pointing_double_triangle_with_vertical_bar\", \"black_right_pointing_triangle_with_double_vertical_bar\",\n",
    "  \"black_small_square\", \"black_square_button\", \"black_square_for_stop\", \"blond-haired-man\", \"blond-haired-woman\", \"blossom\", \"blowfish\", \"blue_book\",\n",
    "  \"blue_car\", \"blue_heart\", \"blueberries\", \"blush\", \"boar\", \"boat\", \"bomb\", \"bone\",\n",
    "  \"book\", \"bookmark\", \"bookmark_tabs\", \"books\", \"boom\", \"boomerang\", \"boot\", \"bouquet\",\n",
    "  \"bow\", \"bow_and_arrow\", \"bowl_with_spoon\", \"bowling\", \"boxing_glove\", \"boy\", \"brain\", \"bread\",\n",
    "  \"breast-feeding\", \"bricks\", \"bride_with_veil\", \"bridge_at_night\", \"briefcase\", \"briefs\", \"broccoli\", \"broken_heart\",\n",
    "  \"broom\", \"brown_heart\", \"bubble_tea\", \"bubbles\", \"bucket\", \"bug\", \"building_construction\", \"bulb\",\n",
    "  \"bullettrain_front\", \"bullettrain_side\", \"burrito\", \"bus\", \"busstop\", \"bust_in_silhouette\", \"busts_in_silhouette\", \"butter\",\n",
    "  \"butterfly\", \"cactus\", \"cake\", \"calendar\", \"call_me_hand\", \"calling\", \"camel\", \"camera\",\n",
    "  \"camera_with_flash\", \"camping\", \"cancer\", \"candle\", \"candy\", \"canned_food\", \"canoe\", \"capital_abcd\",\n",
    "  \"capricorn\", \"car\", \"card_file_box\", \"card_index\", \"card_index_dividers\", \"carousel_horse\", \"carpentry_saw\", \"carrot\",\n",
    "  \"cat\", \"cat2\", \"cd\", \"chains\", \"chair\", \"champagne\", \"chart\", \"chart_with_downwards_trend\",\n",
    "  \"chart_with_upwards_trend\", \"checkered_flag\", \"cheese_wedge\", \"cherries\", \"cherry_blossom\", \"chess_pawn\", \"chestnut\", \"chicken\",\n",
    "  \"child\", \"children_crossing\", \"chipmunk\", \"chocolate_bar\", \"chopsticks\", \"christmas_tree\", \"church\", \"cinema\",\n",
    "  \"circus_tent\", \"city_sunrise\", \"city_sunset\", \"cityscape\", \"cl\", \"clap\", \"clapper\", \"classical_building\",\n",
    "  \"clinking_glasses\", \"clipboard\", \"clock12\", \"closed_book\", \"closed_lock_with_key\", \"closed_umbrella\", \"cloud\", \"clown_face\",\n",
    "  \"clubs\", \"cn\", \"coat\", \"cockroach\", \"cocktail\", \"coconut\", \"coffee\", \"coffin\",\n",
    "  \"coin\", \"cold_face\", \"cold_sweat\", \"comet\", \"compass\", \"compression\", \"computer\", \"confetti_ball\",\n",
    "  \"confounded\", \"confused\", \"congratulations\", \"construction\", \"construction_worker\", \"control_knobs\", \"convenience_store\", \"cook\",\n",
    "  \"cookie\", \"cool\", \"cop\", \"copyright\", \"coral\", \"corn\", \"couch_and_lamp\", \"couple_with_heart\",\n",
    "  \"couplekiss\", \"cow\", \"cow2\", \"crab\", \"credit_card\", \"crescent_moon\", \"cricket\", \"cricket_bat_and_ball\",\n",
    "  \"crocodile\", \"croissant\", \"crossed_fingers\", \"crossed_flags\", \"crossed_swords\", \"crown\", \"crutch\", \"cry\",\n",
    "  \"crying_cat_face\", \"crystal_ball\", \"cucumber\", \"cup_with_straw\", \"cupcake\", \"cupid\", \"curling_stone\", \"curly_haired_man\",\n",
    "  \"curly_haired_person\", \"curly_haired_woman\", \"curly_loop\", \"currency_exchange\", \"curry\", \"custard\", \"customs\", \"cut_of_meat\",\n",
    "  \"cyclone\", \"dagger_knife\", \"dancer\", \"dancers\", \"dango\", \"dark_sunglasses\", \"dart\", \"dash\",\n",
    "  \"date\", \"de\", \"deaf_man\", \"deaf_person\", \"deaf_woman\", \"deciduous_tree\", \"deer\", \"department_store\",\n",
    "  \"derelict_house_building\", \"desert\", \"desert_island\", \"desktop_computer\", \"diamond_shape_with_a_dot_inside\", \"diamonds\", \"disappointed\", \"disappointed_relieved\",\n",
    "  \"disguised_face\", \"diving_mask\", \"diya_lamp\", \"dizzy\", \"dizzy_face\", \"dna\", \"do_not_litter\", \"dodo\",\n",
    "  \"dog\", \"dog2\", \"dollar\", \"dolls\", \"dolphin\", \"door\", \"dotted_line_face\", \"double_vertical_bar\",\n",
    "  \"doughnut\", \"dove_of_peace\", \"dragon\", \"dragon_face\", \"dress\", \"dromedary_camel\", \"drooling_face\", \"drop_of_blood\",\n",
    "  \"droplet\", \"drum_with_drumsticks\", \"duck\", \"dumpling\", \"dvd\", \"e-mail\", \"eagle\", \"ear\",\n",
    "  \"ear_of_rice\", \"ear_with_hearing_aid\", \"earth_africa\", \"earth_americas\", \"earth_asia\", \"egg\", \"eggplant\", \"eight\",\n",
    "  \"eight_pointed_black_star\", \"eight_spoked_asterisk\", \"eject\", \"electric_plug\", \"elephant\", \"elevator\", \"elf\", \"email\",\n",
    "  \"empty_nest\", \"end\", \"envelope_with_arrow\", \"es\", \"euro\", \"european_castle\", \"european_post_office\", \"evergreen_tree\",\n",
    "  \"exclamation\", \"exploding_head\", \"expressionless\", \"eye\", \"eye-in-speech-bubble\", \"eyeglasses\", \"eyes\", \"face_exhaling\",\n",
    "  \"face_holding_back_tears\", \"face_in_clouds\", \"face_palm\", \"face_vomiting\", \"face_with_cowboy_hat\", \"face_with_diagonal_mouth\", \"face_with_hand_over_mouth\", \"face_with_head_bandage\",\n",
    "  \"face_with_monocle\", \"face_with_open_eyes_and_hand_over_mouth\", \"face_with_peeking_eye\", \"face_with_raised_eyebrow\", \"face_with_rolling_eyes\", \"face_with_spiral_eyes\", \"face_with_symbols_on_mouth\", \"face_with_thermometer\",\n",
    "  \"facepunch\", \"factory\", \"factory_worker\", \"fairy\", \"falafel\", \"fallen_leaf\", \"family\", \"farmer\",\n",
    "  \"fast_forward\", \"fax\", \"fearful\", \"feather\", \"feet\", \"female-artist\", \"female-astronaut\", \"female-construction-worker\",\n",
    "  \"female-cook\", \"female-detective\", \"female-doctor\", \"female-factory-worker\", \"female-farmer\", \"female-firefighter\", \"female-guard\", \"female-judge\",\n",
    "  \"female-mechanic\", \"female-office-worker\", \"female-pilot\", \"female-police-officer\", \"female-scientist\", \"female-singer\", \"female-student\", \"female-teacher\",\n",
    "  \"female-technologist\", \"female_elf\", \"female_fairy\", \"female_genie\", \"female_mage\", \"female_sign\", \"female_superhero\", \"female_supervillain\",\n",
    "  \"female_vampire\", \"female_zombie\", \"fencer\", \"ferris_wheel\", \"ferry\", \"field_hockey_stick_and_ball\", \"file_cabinet\", \"file_folder\",\n",
    "  \"film_frames\", \"film_projector\", \"fire\", \"fire_engine\", \"fire_extinguisher\", \"firecracker\", \"firefighter\", \"fireworks\",\n",
    "  \"first_place_medal\", \"first_quarter_moon\", \"first_quarter_moon_with_face\", \"fish\", \"fish_cake\", \"fishing_pole_and_fish\", \"fist\", \"five\",\n",
    "  \"flags\", \"flamingo\", \"flashlight\", \"flatbread\", \"fleur_de_lis\", \"floppy_disk\", \"flower_playing_cards\", \"flushed\",\n",
    "  \"fly\", \"flying_disc\", \"flying_saucer\", \"fog\", \"foggy\", \"fondue\", \"foot\", \"football\",\n",
    "  \"footprints\", \"fork_and_knife\", \"fortune_cookie\", \"fountain\", \"four\", \"four_leaf_clover\", \"fox_face\", \"fr\",\n",
    "  \"frame_with_picture\", \"free\", \"fried_egg\", \"fried_shrimp\", \"fries\", \"frog\", \"frowning\", \"fuelpump\",\n",
    "  \"full_moon\", \"full_moon_with_face\", \"funeral_urn\", \"game_die\", \"garlic\", \"gb\", \"gear\", \"gem\",\n",
    "  \"gemini\", \"genie\", \"ghost\", \"gift\", \"gift_heart\", \"giraffe_face\", \"girl\", \"glass_of_milk\",\n",
    "  \"globe_with_meridians\", \"gloves\", \"goal_net\", \"goat\", \"goggles\", \"golf\", \"golfer\", \"gorilla\",\n",
    "  \"grapes\", \"green_apple\", \"green_book\", \"green_heart\", \"green_salad\", \"grey_exclamation\", \"grey_question\", \"grimacing\",\n",
    "  \"grin\", \"grinning\", \"guardsman\", \"guide_dog\", \"guitar\", \"gun\", \"haircut\", \"hamburger\",\n",
    "  \"hammer\", \"hammer_and_pick\", \"hammer_and_wrench\", \"hamsa\", \"hamster\", \"hand\", \"hand_with_index_finger_and_thumb_crossed\", \"handbag\",\n",
    "  \"handball\", \"handshake\", \"hankey\", \"hash\", \"hatched_chick\", \"hatching_chick\", \"headphones\", \"headstone\",\n",
    "  \"health_worker\", \"hear_no_evil\", \"heart\", \"heart_decoration\", \"heart_eyes\", \"heart_eyes_cat\", \"heart_hands\", \"heart_on_fire\",\n",
    "  \"heartbeat\", \"heartpulse\", \"hearts\", \"heavy_check_mark\", \"heavy_division_sign\", \"heavy_dollar_sign\", \"heavy_equals_sign\", \"heavy_heart_exclamation_mark_ornament\",\n",
    "  \"heavy_minus_sign\", \"heavy_multiplication_x\", \"heavy_plus_sign\", \"hedgehog\", \"helicopter\", \"helmet_with_white_cross\", \"herb\", \"hibiscus\",\n",
    "  \"high_brightness\", \"high_heel\", \"hiking_boot\", \"hindu_temple\", \"hippopotamus\", \"hocho\", \"hole\", \"honey_pot\",\n",
    "  \"hook\", \"horse\", \"horse_racing\", \"hospital\", \"hot_face\", \"hot_pepper\", \"hotdog\", \"hotel\",\n",
    "  \"hotsprings\", \"hourglass\", \"hourglass_flowing_sand\", \"house\", \"house_buildings\", \"house_with_garden\", \"hugging_face\", \"hushed\",\n",
    "  \"hut\", \"i_love_you_hand_sign\", \"ice_cream\", \"ice_cube\", \"ice_hockey_stick_and_puck\", \"ice_skate\", \"icecream\", \"id\",\n",
    "  \"identification_card\", \"ideograph_advantage\", \"imp\", \"inbox_tray\", \"incoming_envelope\", \"index_pointing_at_the_viewer\", \"infinity\", \"information_desk_person\",\n",
    "  \"information_source\", \"innocent\", \"interrobang\", \"iphone\", \"it\", \"izakaya_lantern\", \"jack_o_lantern\", \"japan\",\n",
    "  \"japanese_castle\", \"japanese_goblin\", \"japanese_ogre\", \"jar\", \"jeans\", \"jigsaw\", \"joy\", \"joy_cat\",\n",
    "  \"joystick\", \"jp\", \"judge\", \"juggling\", \"kaaba\", \"kangaroo\", \"key\", \"keyboard\",\n",
    "  \"keycap_star\", \"keycap_ten\", \"kimono\", \"kiss\", \"kissing\", \"kissing_cat\", \"kissing_closed_eyes\", \"kissing_heart\",\n",
    "  \"kissing_smiling_eyes\", \"kite\", \"kiwifruit\", \"kneeling_person\", \"knife_fork_plate\", \"knot\", \"koala\", \"koko\",\n",
    "  \"kr\", \"lab_coat\", \"label\", \"lacrosse\", \"ladder\", \"ladybug\", \"large_blue_circle\", \"large_blue_diamond\",\n",
    "  \"large_blue_square\", \"large_brown_circle\", \"large_brown_square\", \"large_green_circle\", \"large_green_square\", \"large_orange_circle\", \"large_orange_diamond\", \"large_orange_square\",\n",
    "  \"large_purple_circle\", \"large_purple_square\", \"large_red_square\", \"large_yellow_circle\", \"large_yellow_square\", \"last_quarter_moon\", \"last_quarter_moon_with_face\", \"latin_cross\",\n",
    "  \"laughing\", \"leafy_green\", \"leaves\", \"ledger\", \"left-facing_fist\", \"left_luggage\", \"left_right_arrow\", \"left_speech_bubble\",\n",
    "  \"leftwards_arrow_with_hook\", \"leftwards_hand\", \"leg\", \"lemon\", \"leo\", \"leopard\", \"level_slider\", \"libra\",\n",
    "  \"light_rail\", \"lightning\", \"link\", \"linked_paperclips\", \"lion_face\", \"lips\", \"lipstick\", \"lizard\",\n",
    "  \"llama\", \"lobster\", \"lock\", \"lock_with_ink_pen\", \"lollipop\", \"long_drum\", \"loop\", \"lotion_bottle\",\n",
    "  \"lotus\", \"loud_sound\", \"loudspeaker\", \"love_hotel\", \"love_letter\", \"low_battery\", \"low_brightness\", \"lower_left_ballpoint_pen\",\n",
    "  \"lower_left_crayon\", \"lower_left_fountain_pen\", \"lower_left_paintbrush\", \"luggage\", \"lungs\", \"lying_face\", \"m\", \"mag\",\n",
    "  \"mag_right\", \"mage\", \"magic_wand\", \"magnet\", \"mahjong\", \"mailbox\", \"mailbox_closed\", \"mailbox_with_mail\",\n",
    "  \"mailbox_with_no_mail\", \"male-artist\", \"male-astronaut\", \"male-construction-worker\", \"male-cook\", \"male-detective\", \"male-doctor\", \"male-factory-worker\",\n",
    "  \"male-farmer\", \"male-firefighter\", \"male-guard\", \"male-judge\", \"male-mechanic\", \"male-office-worker\", \"male-pilot\", \"male-police-officer\",\n",
    "  \"male-scientist\", \"male-singer\", \"male-student\", \"male-teacher\", \"male-technologist\", \"male_elf\", \"male_fairy\", \"male_genie\",\n",
    "  \"male_mage\", \"male_sign\", \"male_superhero\", \"male_supervillain\", \"male_vampire\", \"male_zombie\", \"mammoth\", \"man\",\n",
    "  \"man-biking\", \"man-bouncing-ball\", \"man-bowing\", \"man-boy\", \"man-boy-boy\", \"man-cartwheeling\", \"man-facepalming\", \"man-frowning\",\n",
    "  \"man-gesturing-no\", \"man-gesturing-ok\", \"man-getting-haircut\", \"man-getting-massage\", \"man-girl\", \"man-girl-boy\", \"man-girl-girl\", \"man-golfing\",\n",
    "  \"man-heart-man\", \"man-juggling\", \"man-kiss-man\", \"man-lifting-weights\", \"man-man-boy\", \"man-man-boy-boy\", \"man-man-girl\", \"man-man-girl-boy\",\n",
    "  \"man-man-girl-girl\", \"man-mountain-biking\", \"man-playing-handball\", \"man-playing-water-polo\", \"man-pouting\", \"man-raising-hand\", \"man-rowing-boat\", \"man-running\",\n",
    "  \"man-shrugging\", \"man-surfing\", \"man-swimming\", \"man-tipping-hand\", \"man-walking\", \"man-wearing-turban\", \"man-woman-boy\", \"man-woman-boy-boy\",\n",
    "  \"man-woman-girl\", \"man-woman-girl-boy\", \"man-woman-girl-girl\", \"man-wrestling\", \"man_and_woman_holding_hands\", \"man_climbing\", \"man_dancing\", \"man_feeding_baby\",\n",
    "  \"man_in_business_suit_levitating\", \"man_in_lotus_position\", \"man_in_manual_wheelchair\", \"man_in_motorized_wheelchair\", \"man_in_steamy_room\", \"man_in_tuxedo\", \"man_kneeling\", \"man_standing\",\n",
    "  \"man_with_beard\", \"man_with_gua_pi_mao\", \"man_with_probing_cane\", \"man_with_turban\", \"man_with_veil\", \"mango\", \"mans_shoe\", \"mantelpiece_clock\",\n",
    "  \"manual_wheelchair\", \"maple_leaf\", \"martial_arts_uniform\", \"mask\", \"massage\", \"mate_drink\", \"meat_on_bone\", \"mechanic\",\n",
    "  \"mechanical_arm\", \"mechanical_leg\", \"medal\", \"medical_symbol\", \"mega\", \"melon\", \"melting_face\", \"memo\",\n",
    "  \"men-with-bunny-ears-partying\", \"mending_heart\", \"menorah_with_nine_branches\", \"mens\", \"mermaid\", \"merman\", \"merperson\", \"metro\",\n",
    "  \"microbe\", \"microphone\", \"microscope\", \"middle_finger\", \"military_helmet\", \"milky_way\", \"minibus\", \"minidisc\",\n",
    "  \"mirror\", \"mirror_ball\", \"mobile_phone_off\", \"money_mouth_face\", \"money_with_wings\", \"moneybag\", \"monkey\", \"monkey_face\",\n",
    "  \"monorail\", \"moon\", \"moon_cake\", \"mortar_board\", \"mosque\", \"mosquito\", \"mostly_sunny\", \"motor_boat\",\n",
    "  \"motor_scooter\", \"motorized_wheelchair\", \"motorway\", \"mount_fuji\", \"mountain\", \"mountain_bicyclist\", \"mountain_cableway\", \"mountain_railway\",\n",
    "  \"mouse\", \"mouse2\", \"mouse_trap\", \"movie_camera\", \"moyai\", \"mrs_claus\", \"muscle\", \"mushroom\",\n",
    "  \"musical_keyboard\", \"musical_note\", \"musical_score\", \"mute\", \"mx_claus\", \"nail_care\", \"name_badge\", \"national_park\",\n",
    "  \"nauseated_face\", \"nazar_amulet\", \"necktie\", \"negative_squared_cross_mark\", \"nerd_face\", \"nest_with_eggs\", \"nesting_dolls\", \"neutral_face\",\n",
    "  \"new\", \"new_moon\", \"new_moon_with_face\", \"newspaper\", \"ng\", \"night_with_stars\", \"nine\", \"ninja\",\n",
    "  \"no_bell\", \"no_bicycles\", \"no_entry\", \"no_entry_sign\", \"no_good\", \"no_mobile_phones\", \"no_mouth\", \"no_pedestrians\",\n",
    "  \"no_smoking\", \"non-potable_water\", \"nose\", \"notebook\", \"notebook_with_decorative_cover\", \"notes\", \"nut_and_bolt\", \"o\",\n",
    "  \"o2\", \"ocean\", \"octagonal_sign\", \"octopus\", \"oden\", \"office\", \"office_worker\", \"oil_drum\",\n",
    "  \"ok\", \"ok_hand\", \"ok_woman\", \"old_key\", \"older_adult\", \"older_man\", \"older_woman\", \"olive\",\n",
    "  \"om_symbol\", \"on\", \"oncoming_automobile\", \"oncoming_bus\", \"oncoming_police_car\", \"oncoming_taxi\", \"one\", \"one-piece_swimsuit\",\n",
    "  \"onion\", \"open_file_folder\", \"open_hands\", \"open_mouth\", \"ophiuchus\", \"orange_book\", \"orange_heart\", \"orangutan\",\n",
    "  \"orthodox_cross\", \"otter\", \"outbox_tray\", \"owl\", \"ox\", \"oyster\", \"package\", \"page_facing_up\",\n",
    "  \"page_with_curl\", \"pager\", \"palm_down_hand\", \"palm_tree\", \"palm_up_hand\", \"palms_up_together\", \"pancakes\", \"panda_face\",\n",
    "  \"paperclip\", \"parachute\", \"parking\", \"parrot\", \"part_alternation_mark\", \"partly_sunny\", \"partly_sunny_rain\", \"partying_face\",\n",
    "  \"passenger_ship\", \"passport_control\", \"peace_symbol\", \"peach\", \"peacock\", \"peanuts\", \"pear\", \"pencil2\",\n",
    "  \"penguin\", \"pensive\", \"people_holding_hands\", \"people_hugging\", \"performing_arts\", \"persevere\", \"person_climbing\", \"person_doing_cartwheel\",\n",
    "  \"person_feeding_baby\", \"person_frowning\", \"person_in_lotus_position\", \"person_in_manual_wheelchair\", \"person_in_motorized_wheelchair\", \"person_in_steamy_room\", \"person_in_tuxedo\", \"person_with_ball\",\n",
    "  \"person_with_blond_hair\", \"person_with_crown\", \"person_with_headscarf\", \"person_with_pouting_face\", \"person_with_probing_cane\", \"petri_dish\", \"phone\", \"pick\",\n",
    "  \"pickup_truck\", \"pie\", \"pig\", \"pig2\", \"pig_nose\", \"pill\", \"pilot\", \"pinata\",\n",
    "  \"pinched_fingers\", \"pinching_hand\", \"pineapple\", \"pirate_flag\", \"pisces\", \"pizza\", \"placard\", \"place_of_worship\",\n",
    "  \"playground_slide\", \"pleading_face\", \"plunger\", \"point_down\", \"point_left\", \"point_right\", \"point_up\", \"point_up_2\",\n",
    "  \"polar_bear\", \"police_car\", \"poodle\", \"popcorn\", \"post_office\", \"postal_horn\", \"postbox\", \"potable_water\",\n",
    "  \"potato\", \"potted_plant\", \"pouch\", \"poultry_leg\", \"pound\", \"pouring_liquid\", \"pouting_cat\", \"pray\",\n",
    "  \"prayer_beads\", \"pregnant_man\", \"pregnant_person\", \"pregnant_woman\", \"pretzel\", \"prince\", \"princess\", \"printer\",\n",
    "  \"probing_cane\", \"purple_heart\", \"purse\", \"pushpin\", \"put_litter_in_its_place\", \"question\", \"rabbit\", \"rabbit2\",\n",
    "  \"raccoon\", \"racehorse\", \"racing_car\", \"racing_motorcycle\", \"radio\", \"radio_button\", \"radioactive_sign\", \"rage\",\n",
    "  \"railway_car\", \"railway_track\", \"rain_cloud\", \"rainbow\", \"rainbow-flag\", \"raised_back_of_hand\", \"raised_hand_with_fingers_splayed\", \"raised_hands\",\n",
    "  \"raising_hand\", \"ram\", \"ramen\", \"rat\", \"razor\", \"receipt\", \"recycle\", \"red_circle\",\n",
    "  \"red_envelope\", \"red_haired_man\", \"red_haired_person\", \"red_haired_woman\", \"registered\", \"relaxed\", \"relieved\", \"reminder_ribbon\",\n",
    "  \"repeat\", \"repeat_one\", \"restroom\", \"revolving_hearts\", \"rewind\", \"rhinoceros\", \"ribbon\", \"rice\",\n",
    "  \"rice_ball\", \"rice_cracker\", \"rice_scene\", \"right-facing_fist\", \"right_anger_bubble\", \"rightwards_hand\", \"ring\", \"ring_buoy\",\n",
    "  \"ringed_planet\", \"robot_face\", \"rock\", \"rocket\", \"roll_of_paper\", \"rolled_up_newspaper\", \"roller_coaster\", \"roller_skate\",\n",
    "  \"rolling_on_the_floor_laughing\", \"rooster\", \"rose\", \"rosette\", \"rotating_light\", \"round_pushpin\", \"rowboat\", \"ru\",\n",
    "  \"rugby_football\", \"runner\", \"running_shirt_with_sash\", \"sa\", \"safety_pin\", \"safety_vest\", \"sagittarius\", \"sake\",\n",
    "  \"salt\", \"saluting_face\", \"sandal\", \"sandwich\", \"santa\", \"sari\", \"satellite\", \"satellite_antenna\",\n",
    "  \"sauropod\", \"saxophone\", \"scales\", \"scarf\", \"school\", \"school_satchel\", \"scientist\", \"scissors\",\n",
    "  \"scooter\", \"scorpion\", \"scorpius\", \"scream\", \"scream_cat\", \"screwdriver\", \"scroll\", \"seal\",\n",
    "  \"seat\", \"second_place_medal\", \"secret\", \"see_no_evil\", \"seedling\", \"selfie\", \"service_dog\", \"seven\",\n",
    "  \"sewing_needle\", \"shallow_pan_of_food\", \"shamrock\", \"shark\", \"shaved_ice\", \"sheep\", \"shell\", \"shield\",\n",
    "  \"shinto_shrine\", \"ship\", \"shirt\", \"shopping_bags\", \"shopping_trolley\", \"shorts\", \"shower\", \"shrimp\",\n",
    "  \"shrug\", \"shushing_face\", \"signal_strength\", \"singer\", \"six\", \"six_pointed_star\", \"skateboard\", \"ski\",\n",
    "  \"skier\", \"skin-tone-2\", \"skin-tone-3\", \"skin-tone-4\", \"skin-tone-5\", \"skin-tone-6\", \"skull\", \"skull_and_crossbones\",\n",
    "  \"skunk\", \"sled\", \"sleeping\", \"sleeping_accommodation\", \"sleepy\", \"sleuth_or_spy\", \"slightly_frowning_face\", \"slightly_smiling_face\",\n",
    "  \"slot_machine\", \"sloth\", \"small_airplane\", \"small_blue_diamond\", \"small_orange_diamond\", \"small_red_triangle\", \"small_red_triangle_down\", \"smile\",\n",
    "  \"smile_cat\", \"smiley\", \"smiley_cat\", \"smiling_face_with_3_hearts\", \"smiling_face_with_tear\", \"smiling_imp\", \"smirk\", \"smirk_cat\",\n",
    "  \"smoking\", \"snail\", \"snake\", \"sneezing_face\", \"snow_capped_mountain\", \"snow_cloud\", \"snowboarder\", \"snowflake\",\n",
    "  \"snowman\", \"snowman_without_snow\", \"soap\", \"sob\", \"soccer\", \"socks\", \"softball\", \"soon\",\n",
    "  \"sos\", \"sound\", \"space_invader\", \"spades\", \"spaghetti\", \"sparkle\", \"sparkler\", \"sparkles\",\n",
    "  \"sparkling_heart\", \"speak_no_evil\", \"speaker\", \"speaking_head_in_silhouette\", \"speech_balloon\", \"speedboat\", \"spider\", \"spider_web\",\n",
    "  \"spiral_calendar_pad\", \"spiral_note_pad\", \"spock-hand\", \"sponge\", \"spoon\", \"sports_medal\", \"squid\", \"stadium\",\n",
    "  \"standing_person\", \"star\", \"star-struck\", \"star2\", \"star_and_crescent\", \"star_of_david\", \"stars\", \"station\",\n",
    "  \"statue_of_liberty\", \"steam_locomotive\", \"stethoscope\", \"stew\", \"stopwatch\", \"straight_ruler\", \"strawberry\", \"stuck_out_tongue\",\n",
    "  \"stuck_out_tongue_closed_eyes\", \"stuck_out_tongue_winking_eye\", \"student\", \"studio_microphone\", \"stuffed_flatbread\", \"sun_with_face\", \"sunflower\", \"sunglasses\",\n",
    "  \"sunny\", \"sunrise\", \"sunrise_over_mountains\", \"superhero\", \"supervillain\", \"surfer\", \"sushi\", \"suspension_railway\",\n",
    "  \"swan\", \"sweat\", \"sweat_drops\", \"sweat_smile\", \"sweet_potato\", \"swimmer\", \"symbols\", \"synagogue\",\n",
    "  \"syringe\", \"t-rex\", \"table_tennis_paddle_and_ball\", \"taco\", \"tada\", \"takeout_box\", \"tamale\", \"tanabata_tree\",\n",
    "  \"tangerine\", \"taurus\", \"taxi\", \"tea\", \"teacher\", \"teapot\", \"technologist\", \"teddy_bear\",\n",
    "  \"telephone_receiver\", \"telescope\", \"tennis\", \"tent\", \"test_tube\", \"the_horns\", \"thermometer\", \"thinking_face\",\n",
    "  \"third_place_medal\", \"thong_sandal\", \"thought_balloon\", \"thread\", \"three\", \"three_button_mouse\", \"thunder_cloud_and_rain\", \"ticket\",\n",
    "  \"tiger\", \"tiger2\", \"timer_clock\", \"tired_face\", \"tm\", \"toilet\", \"tokyo_tower\", \"tomato\",\n",
    "  \"tongue\", \"toolbox\", \"tooth\", \"toothbrush\", \"top\", \"tophat\", \"tornado\", \"trackball\",\n",
    "  \"tractor\", \"traffic_light\", \"train\", \"train2\", \"tram\", \"transgender_flag\", \"transgender_symbol\", \"triangular_flag_on_post\",\n",
    "  \"triangular_ruler\", \"trident\", \"triumph\", \"troll\", \"trolleybus\", \"trophy\", \"tropical_drink\", \"tropical_fish\",\n",
    "  \"truck\", \"trumpet\", \"tulip\", \"tumbler_glass\", \"turkey\", \"turtle\", \"tv\", \"twisted_rightwards_arrows\",\n",
    "  \"two\", \"two_hearts\", \"two_men_holding_hands\", \"two_women_holding_hands\", \"umbrella\", \"umbrella_on_ground\", \"umbrella_with_rain_drops\", \"unamused\",\n",
    "  \"underage\", \"unicorn_face\", \"unlock\", \"up\", \"upside_down_face\", \"us\", \"v\", \"vampire\",\n",
    "  \"vertical_traffic_light\", \"vhs\", \"vibration_mode\", \"video_camera\", \"video_game\", \"violin\", \"virgo\", \"volcano\",\n",
    "  \"volleyball\", \"vs\", \"waffle\", \"walking\", \"waning_crescent_moon\", \"waning_gibbous_moon\", \"warning\", \"wastebasket\",\n",
    "  \"watch\", \"water_buffalo\", \"water_polo\", \"watermelon\", \"wave\", \"waving_black_flag\", \"waving_white_flag\", \"wavy_dash\",\n",
    "  \"waxing_crescent_moon\", \"wc\", \"weary\", \"wedding\", \"weight_lifter\", \"whale\", \"whale2\", \"wheel\",\n",
    "  \"wheel_of_dharma\", \"wheelchair\", \"white_check_mark\", \"white_circle\", \"white_flower\", \"white_frowning_face\", \"white_haired_man\", \"white_haired_person\",\n",
    "  \"white_haired_woman\", \"white_heart\", \"white_large_square\", \"white_medium_small_square\", \"white_medium_square\", \"white_small_square\", \"white_square_button\", \"wilted_flower\",\n",
    "  \"wind_blowing_face\", \"wind_chime\", \"window\", \"wine_glass\", \"wink\", \"wolf\", \"woman\", \"woman-biking\",\n",
    "  \"woman-bouncing-ball\", \"woman-bowing\", \"woman-boy\", \"woman-boy-boy\", \"woman-cartwheeling\", \"woman-facepalming\", \"woman-frowning\", \"woman-gesturing-no\",\n",
    "  \"woman-gesturing-ok\", \"woman-getting-haircut\", \"woman-getting-massage\", \"woman-girl\", \"woman-girl-boy\", \"woman-girl-girl\", \"woman-golfing\", \"woman-heart-man\",\n",
    "  \"woman-heart-woman\", \"woman-juggling\", \"woman-kiss-man\", \"woman-kiss-woman\", \"woman-lifting-weights\", \"woman-mountain-biking\", \"woman-playing-handball\", \"woman-playing-water-polo\",\n",
    "  \"woman-pouting\", \"woman-raising-hand\", \"woman-rowing-boat\", \"woman-running\", \"woman-shrugging\", \"woman-surfing\", \"woman-swimming\", \"woman-tipping-hand\",\n",
    "  \"woman-walking\", \"woman-wearing-turban\", \"woman-woman-boy\", \"woman-woman-boy-boy\", \"woman-woman-girl\", \"woman-woman-girl-boy\", \"woman-woman-girl-girl\", \"woman-wrestling\",\n",
    "  \"woman_climbing\", \"woman_feeding_baby\", \"woman_in_lotus_position\", \"woman_in_manual_wheelchair\", \"woman_in_motorized_wheelchair\", \"woman_in_steamy_room\", \"woman_in_tuxedo\", \"woman_kneeling\",\n",
    "  \"woman_standing\", \"woman_with_beard\", \"woman_with_probing_cane\", \"woman_with_veil\", \"womans_clothes\", \"womans_flat_shoe\", \"womans_hat\", \"women-with-bunny-ears-partying\",\n",
    "  \"womens\", \"wood\", \"woozy_face\", \"world_map\", \"worm\", \"worried\", \"wrench\", \"wrestlers\",\n",
    "  \"writing_hand\", \"x\", \"x-ray\", \"yarn\", \"yawning_face\", \"yellow_heart\", \"yen\", \"yin_yang\",\n",
    "  \"yo-yo\", \"yum\", \"zany_face\", \"zap\", \"zebra_face\", \"zero\", \"zipper_mouth_face\", \"zombie\",\n",
    "  \"zzz\"\n",
    ")"
   ]
  },
  {
   "cell_type": "code",
   "execution_count": 94,
   "id": "c0ff9edc",
   "metadata": {},
   "outputs": [],
   "source": [
    "def closest_emoji(emoji):\n",
    "    emoji = emoji.strip(':')\n",
    "    best_score = 0\n",
    "    best_emoji = 'heart'\n",
    "    for e in all_emoji:\n",
    "        # try harder for _face emoji\n",
    "        for attempt in (emoji, f\"{emoji}_face\"):\n",
    "            r = ratio(e, attempt)\n",
    "            if r > best_score:\n",
    "                best_score = r\n",
    "                best_emoji = e\n",
    "    return f\":{best_emoji}:\""
   ]
  },
  {
   "cell_type": "code",
   "execution_count": 95,
   "id": "dea7a471",
   "metadata": {},
   "outputs": [
    {
     "data": {
      "text/plain": [
       "':tired_face:'"
      ]
     },
     "execution_count": 95,
     "metadata": {},
     "output_type": "execute_result"
    }
   ],
   "source": [
    "e = \":stir:\"\n",
    "closest_emoji(e)"
   ]
  },
  {
   "cell_type": "code",
   "execution_count": 97,
   "id": "fc264ed0",
   "metadata": {},
   "outputs": [
    {
     "data": {
      "text/plain": [
       "':thinking_face:'"
      ]
     },
     "execution_count": 97,
     "metadata": {},
     "output_type": "execute_result"
    }
   ],
   "source": [
    "closest_emoji(\":think:\")"
   ]
  },
  {
   "cell_type": "code",
   "execution_count": 98,
   "id": "cb1e02f2",
   "metadata": {},
   "outputs": [
    {
     "data": {
      "text/plain": [
       "':smiling_imp:'"
      ]
     },
     "execution_count": 98,
     "metadata": {},
     "output_type": "execute_result"
    }
   ],
   "source": [
    "closest_emoji(\"smilingimp\")"
   ]
  },
  {
   "cell_type": "code",
   "execution_count": 99,
   "id": "da017746",
   "metadata": {},
   "outputs": [
    {
     "data": {
      "text/plain": [
       "':clown_face:'"
      ]
     },
     "execution_count": 99,
     "metadata": {},
     "output_type": "execute_result"
    }
   ],
   "source": [
    "closest_emoji(\"clown\")"
   ]
  },
  {
   "cell_type": "code",
   "execution_count": 100,
   "id": "adcf2909",
   "metadata": {},
   "outputs": [
    {
     "data": {
      "text/plain": [
       "':cold_face:'"
      ]
     },
     "execution_count": 100,
     "metadata": {},
     "output_type": "execute_result"
    }
   ],
   "source": [
    "closest_emoji(\"coldface\")"
   ]
  },
  {
   "cell_type": "code",
   "execution_count": 48,
   "id": "6ee90ee7",
   "metadata": {},
   "outputs": [],
   "source": [
    "import re"
   ]
  },
  {
   "cell_type": "code",
   "execution_count": 69,
   "id": "c1185e62",
   "metadata": {},
   "outputs": [],
   "source": [
    "text = \":smile: or :frown: or :thinking: or something else goes :here:\""
   ]
  },
  {
   "cell_type": "code",
   "execution_count": 81,
   "id": "8840e0a8",
   "metadata": {},
   "outputs": [],
   "source": [
    "for match in re.findall(r'(:\\S+:)', text):\n",
    "    text = text.replace(match, closest_emoji(match))"
   ]
  },
  {
   "cell_type": "code",
   "execution_count": 82,
   "id": "4d5ffb14",
   "metadata": {},
   "outputs": [
    {
     "data": {
      "text/plain": [
       "':smile: or :crown: or :thinking_face: or something else goes :herb:'"
      ]
     },
     "execution_count": 82,
     "metadata": {},
     "output_type": "execute_result"
    }
   ],
   "source": [
    "text"
   ]
  },
  {
   "cell_type": "code",
   "execution_count": 57,
   "id": "300106d0",
   "metadata": {},
   "outputs": [
    {
     "ename": "TypeError",
     "evalue": "'builtin_function_or_method' object is not iterable",
     "output_type": "error",
     "traceback": [
      "\u001b[0;31m---------------------------------------------------------------------------\u001b[0m",
      "\u001b[0;31mTypeError\u001b[0m                                 Traceback (most recent call last)",
      "Input \u001b[0;32mIn [57]\u001b[0m, in \u001b[0;36m<module>\u001b[0;34m\u001b[0m\n\u001b[0;32m----> 1\u001b[0m \u001b[38;5;28;01mfor\u001b[39;00m g \u001b[38;5;129;01min\u001b[39;00m match\u001b[38;5;241m.\u001b[39mgroups:\n\u001b[1;32m      2\u001b[0m     \u001b[38;5;28mprint\u001b[39m(g)\n",
      "\u001b[0;31mTypeError\u001b[0m: 'builtin_function_or_method' object is not iterable"
     ]
    }
   ],
   "source": [
    "for g in match.groups:\n",
    "    print(g)"
   ]
  },
  {
   "cell_type": "code",
   "execution_count": 55,
   "id": "411c192d",
   "metadata": {
    "scrolled": true
   },
   "outputs": [
    {
     "ename": "TypeError",
     "evalue": "'re.Match' object is not iterable",
     "output_type": "error",
     "traceback": [
      "\u001b[0;31m---------------------------------------------------------------------------\u001b[0m",
      "\u001b[0;31mTypeError\u001b[0m                                 Traceback (most recent call last)",
      "Input \u001b[0;32mIn [55]\u001b[0m, in \u001b[0;36m<module>\u001b[0;34m\u001b[0m\n\u001b[1;32m      1\u001b[0m \u001b[38;5;28;01mif\u001b[39;00m match:\n\u001b[0;32m----> 2\u001b[0m     \u001b[38;5;28;01mfor\u001b[39;00m m \u001b[38;5;129;01min\u001b[39;00m match:\n\u001b[1;32m      3\u001b[0m         \u001b[38;5;28mprint\u001b[39m(m)\n",
      "\u001b[0;31mTypeError\u001b[0m: 're.Match' object is not iterable"
     ]
    }
   ],
   "source": [
    "if match:\n",
    "    for m in match:\n",
    "        print(m)"
   ]
  },
  {
   "cell_type": "code",
   "execution_count": null,
   "id": "fa9e9129",
   "metadata": {},
   "outputs": [],
   "source": []
  }
 ],
 "metadata": {
  "kernelspec": {
   "display_name": "Python 3 (ipykernel)",
   "language": "python",
   "name": "python3"
  },
  "language_info": {
   "codemirror_mode": {
    "name": "ipython",
    "version": 3
   },
   "file_extension": ".py",
   "mimetype": "text/x-python",
   "name": "python",
   "nbconvert_exporter": "python",
   "pygments_lexer": "ipython3",
   "version": "3.8.0"
  }
 },
 "nbformat": 4,
 "nbformat_minor": 5
}
