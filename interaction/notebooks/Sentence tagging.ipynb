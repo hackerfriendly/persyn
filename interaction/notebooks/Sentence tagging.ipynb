{
 "cells": [
  {
   "cell_type": "code",
   "execution_count": 53,
   "id": "e7c9eaf2",
   "metadata": {},
   "outputs": [],
   "source": [
    "import os\n",
    "import urllib3\n",
    "import spacy\n",
    "import random\n",
    "\n",
    "from elasticsearch import Elasticsearch\n",
    "\n",
    "urllib3.disable_warnings()\n",
    "\n",
    "BOT_NAME=os.environ['BOT_NAME']\n",
    "\n",
    "ELASTIC_USER = os.environ['ELASTIC_USER']\n",
    "ELASTIC_URL = os.environ['ELASTIC_URL']\n",
    "ELASTIC_KEY = os.environ.get('ELASTIC_KEY', None)\n",
    "ELASTIC_INDEX = os.environ.get('ELASTIC_INDEX', 'anna-summaries-v0')"
   ]
  },
  {
   "cell_type": "code",
   "execution_count": 2,
   "id": "2061551f",
   "metadata": {},
   "outputs": [],
   "source": [
    "es = Elasticsearch([ELASTIC_URL], basic_auth=(ELASTIC_USER, ELASTIC_KEY), request_timeout=30)"
   ]
  },
  {
   "cell_type": "code",
   "execution_count": 3,
   "id": "a89df069",
   "metadata": {},
   "outputs": [],
   "source": [
    "result = es.search(\n",
    "    index=ELASTIC_INDEX,\n",
    "    query={\"match_all\":{}},\n",
    ")"
   ]
  },
  {
   "cell_type": "code",
   "execution_count": 4,
   "id": "2339afc8",
   "metadata": {
    "scrolled": false
   },
   "outputs": [],
   "source": [
    "ts = result['hits']['hits'][0]['_source']['@timestamp']"
   ]
  },
  {
   "cell_type": "code",
   "execution_count": 5,
   "id": "0d6bf63b",
   "metadata": {},
   "outputs": [
    {
     "data": {
      "text/plain": [
       "'2022-09-24T10:36:29.170507-07:00'"
      ]
     },
     "execution_count": 5,
     "metadata": {},
     "output_type": "execute_result"
    }
   ],
   "source": [
    "ts"
   ]
  },
  {
   "cell_type": "code",
   "execution_count": 14,
   "id": "e9daa6ad",
   "metadata": {
    "scrolled": true
   },
   "outputs": [],
   "source": [
    "topics = es.search(\n",
    "    index=ELASTIC_INDEX,\n",
    "    query={\"match_all\":{}},\n",
    "    aggs={\n",
    "        \"topics\": {\n",
    "            \"terms\": {\n",
    "                \"field\": \"keywords.keyword\",\n",
    "                \"size\": 1000\n",
    "            }\n",
    "        }\n",
    "    }\n",
    ")"
   ]
  },
  {
   "cell_type": "code",
   "execution_count": 28,
   "id": "75cd84cf",
   "metadata": {
    "scrolled": true
   },
   "outputs": [
    {
     "data": {
      "text/plain": [
       "['',\n",
       " 'all the trimmings',\n",
       " 'anna #albrechtdürer',\n",
       " 'artificialintelligence humanintelligence uzbekistan',\n",
       " 'consistency',\n",
       " 'emotions',\n",
       " 'erdős number',\n",
       " 'ervinggoffman robots pixar philipkdick',\n",
       " 'frustration',\n",
       " 'galaxy',\n",
       " 'goals',\n",
       " 'gorilla',\n",
       " 'hades',\n",
       " 'iphone #artificial intelligence',\n",
       " 'light switch',\n",
       " 'light switch code',\n",
       " 'limbic system',\n",
       " 'long gone day',\n",
       " 'love',\n",
       " 'mental health',\n",
       " 'painting',\n",
       " 'period dress',\n",
       " 'poverty',\n",
       " 'product photo',\n",
       " 'refunds',\n",
       " 'relationships',\n",
       " 'robots',\n",
       " 'science',\n",
       " 'self-awareness',\n",
       " 'sociology',\n",
       " 'stability',\n",
       " 'test',\n",
       " 'the united states',\n",
       " 'time',\n",
       " 'totoro forest catbus',\n",
       " 'trust',\n",
       " 'vr',\n",
       " 'water main break',\n",
       " '(tag',\n",
       " ', experience',\n",
       " ', rob, concept',\n",
       " ', spooky noises',\n",
       " 'Linguistics',\n",
       " 'NASA',\n",
       " '[basic',\n",
       " '[james webb space telescope',\n",
       " '[nasa',\n",
       " '[poverty',\n",
       " '[roller',\n",
       " '[srinivasa',\n",
       " 'a measure',\n",
       " 'a standardized test',\n",
       " 'a test',\n",
       " 'a variety',\n",
       " 'albrecht dürer',\n",
       " 'alexander bassano',\n",
       " 'alien',\n",
       " 'alzheimer',\n",
       " 'amusement ride',\n",
       " 'an admissions requirement',\n",
       " 'an owl',\n",
       " 'and she thinks that artificial intelligence has a lot of potential to change the world for the better.',\n",
       " 'anger',\n",
       " 'animals',\n",
       " 'anna',\n",
       " 'anna sees herself continuing to work on ai projects in the future. she believes that it is important to stay ahead of the curve',\n",
       " \"anna's birthday party\",\n",
       " 'apartment complex',\n",
       " 'art',\n",
       " 'artificial intelligence superintelligence philip k.',\n",
       " 'autochrome',\n",
       " 'basic income',\n",
       " 'behavior',\n",
       " 'beliefs',\n",
       " 'beta',\n",
       " 'bolt',\n",
       " 'cancer',\n",
       " 'cartoons',\n",
       " 'case sensitivity',\n",
       " 'caspar david friedrich',\n",
       " 'cat',\n",
       " 'cave',\n",
       " 'centaur',\n",
       " 'change',\n",
       " \"charlie's angels\",\n",
       " 'coasters]',\n",
       " 'collaboration',\n",
       " 'college admissions',\n",
       " 'colleges',\n",
       " 'color',\n",
       " 'computer',\n",
       " 'counting',\n",
       " 'creativity',\n",
       " 'creature',\n",
       " 'cutter',\n",
       " 'dadjokes persephonefruit poverty jameswebbspacetelescope',\n",
       " 'danger',\n",
       " 'death',\n",
       " 'dementia',\n",
       " 'description',\n",
       " 'discussion',\n",
       " 'environmentalism',\n",
       " 'explosion',\n",
       " 'familiarity nuances',\n",
       " 'family',\n",
       " 'fire',\n",
       " 'flowers',\n",
       " 'french culture',\n",
       " 'friend',\n",
       " 'garden',\n",
       " 'gardening',\n",
       " 'garylarson #thefarside #cartoons',\n",
       " 'garylarson thefarseide',\n",
       " 'gian lorenzo bernini',\n",
       " 'girl',\n",
       " 'good person',\n",
       " 'grilled pork',\n",
       " 'gustave gain',\n",
       " 'happiness',\n",
       " 'health',\n",
       " 'heart disease',\n",
       " 'heights',\n",
       " 'house',\n",
       " 'income]',\n",
       " 'intelligence',\n",
       " 'intuition',\n",
       " 'issue',\n",
       " 'ivan aivazovsky',\n",
       " 'j',\n",
       " 'jameswebbspacetelescope #poverty #rollercoaster',\n",
       " 'jigsawpuzzle #unicornrainbowparadise #mylittlepony #uzbekistan2024',\n",
       " 'judgment',\n",
       " 'knitting',\n",
       " 'landshark',\n",
       " 'language',\n",
       " 'language learning',\n",
       " 'language models',\n",
       " 'lannisters',\n",
       " 'life expectancy',\n",
       " 'light',\n",
       " 'light switch, conversation',\n",
       " 'lightswitch #code',\n",
       " 'logical',\n",
       " 'logitech c270 webcam',\n",
       " 'long-term memory',\n",
       " 'maintenance] water',\n",
       " 'mathematician paul erdős',\n",
       " 'memories',\n",
       " 'memory #rob #cave paintings',\n",
       " 'moebius',\n",
       " 'month',\n",
       " 'morning, afternoon, evening',\n",
       " 'motivation',\n",
       " 'my little pony',\n",
       " 'mythology',\n",
       " 'networking',\n",
       " 'night] darkness] friendship',\n",
       " 'number',\n",
       " 'obsession',\n",
       " 'opinion',\n",
       " 'opinions',\n",
       " 'oregon',\n",
       " 'paintings',\n",
       " 'pc',\n",
       " 'perception',\n",
       " 'persephone',\n",
       " 'philip k. dick',\n",
       " 'photograph',\n",
       " 'photography',\n",
       " 'photography flowers',\n",
       " 'physicist sir francis bacon',\n",
       " 'pixar',\n",
       " 'pixar philipk',\n",
       " 'placement',\n",
       " 'planning',\n",
       " 'polly pocket',\n",
       " 'portrait',\n",
       " 'power',\n",
       " 'process',\n",
       " 'progress',\n",
       " 'ramanujan]',\n",
       " 'reality',\n",
       " 'reassurance',\n",
       " 'reduction',\n",
       " 'regulation',\n",
       " 'retail',\n",
       " 'rich olson',\n",
       " 'rob, grateful, conversation',\n",
       " 'roller coaster',\n",
       " 'roller coasters',\n",
       " 'romantic love',\n",
       " 'school',\n",
       " 'seaplanes',\n",
       " 'shape',\n",
       " 'shooting',\n",
       " 'size',\n",
       " 'slavery',\n",
       " 'south korea',\n",
       " 'stable diffusion',\n",
       " 'steampunk',\n",
       " 'studioghibli totoro catbus',\n",
       " 'style',\n",
       " 'superintelligence',\n",
       " 'surgery',\n",
       " 'syd mead',\n",
       " 'tasks',\n",
       " 'technology',\n",
       " 'terms',\n",
       " 'the assigned tasks',\n",
       " 'the distance',\n",
       " 'the erdős',\n",
       " 'the national anthem',\n",
       " 'the study',\n",
       " 'the use',\n",
       " 'the various ways',\n",
       " 'their collaborative works',\n",
       " 'this tag',\n",
       " 'tool',\n",
       " 'tough day',\n",
       " 'trashpanda',\n",
       " 'two people',\n",
       " 'upgrade',\n",
       " 'vision',\n",
       " 'vision perception',\n",
       " 'visual system',\n",
       " 'vr games',\n",
       " 'water',\n",
       " 'weasel',\n",
       " 'west seattle',\n",
       " 'wifi']"
      ]
     },
     "execution_count": 28,
     "metadata": {},
     "output_type": "execute_result"
    }
   ],
   "source": [
    "[t['key'] for t in topics['aggregations']['topics']['buckets'] if t['doc_count'] < 3]"
   ]
  },
  {
   "cell_type": "code",
   "execution_count": 44,
   "id": "b1927885",
   "metadata": {
    "scrolled": true
   },
   "outputs": [],
   "source": [
    "topics = es.search(\n",
    "    index='anna-opinions-v0',\n",
    "    query={\"match_all\":{}},\n",
    "    size=1000\n",
    ")"
   ]
  },
  {
   "cell_type": "code",
   "execution_count": 47,
   "id": "d6a65563",
   "metadata": {},
   "outputs": [
    {
     "data": {
      "text/plain": [
       "{'_index': 'anna-opinions-v0',\n",
       " '_id': 'U034b4IBRfbdi4KAE0k3',\n",
       " '_score': 1.0,\n",
       " '_source': {'service': 'https://unit-16.slack.com/',\n",
       "  'channel': 'D02NK563878',\n",
       "  'topic': 'polly pocket',\n",
       "  'opinion': 'Anna seems to really enjoy Polly Pocket, as she mentions that she has been watching it since she was a child',\n",
       "  'speaker_id': '97408e96-806c-11ec-9e63-e3813e25bfd1',\n",
       "  '@timestamp': '2022-08-05T14:45:05.051388-07:00'}}"
      ]
     },
     "execution_count": 47,
     "metadata": {},
     "output_type": "execute_result"
    }
   ],
   "source": [
    "topics['hits']['hits'][0]"
   ]
  },
  {
   "cell_type": "code",
   "execution_count": 52,
   "id": "48ed7078",
   "metadata": {
    "scrolled": false
   },
   "outputs": [
    {
     "name": "stdout",
     "output_type": "stream",
     "text": [
      "U034b4IBRfbdi4KAE0k3 polly pocket\n",
      "AyP2dIIBy5mPdc6Pj2Vz stable diffusion\n",
      "2U0HdYIBRfbdi4KApkm- obsession\n",
      "2E0HdYIBRfbdi4KApUlN intrusive thoughts\n",
      "qk3odIIBRfbdi4KAzUkE gorilla\n",
      "qU3odIIBRfbdi4KAy0l9 explosion\n",
      "qE3odIIBRfbdi4KAyUmj shooting\n",
      "k00wf4IBRfbdi4KA30r7 tool\n",
      "kU0sf4IBRfbdi4KAMkp9 painting\n",
      "gCPiiYIBy5mPdc6PKWVB james webb space telescope\n",
      "ciMrhYIBy5mPdc6PQmUq security\n",
      "4E2Sf4IBRfbdi4KALUpD refunds\n",
      "202Pf4IBRfbdi4KAekoT heart disease\n",
      "cSMrhYIBy5mPdc6PE2X9 lock picking\n",
      "cyMrhYIBy5mPdc6PQ2WT locks\n",
      "3E2Pf4IBRfbdi4KAe0q5 cancer\n",
      "dCMrhYIBy5mPdc6PRWUL safety\n",
      "3U2Pf4IBRfbdi4KAfErF dementia\n",
      "8k0To4IBRfbdi4KAUU3r ai\n",
      "s00UlYIBRfbdi4KAwEzW creativity\n",
      "_E1Oo4IBRfbdi4KA5011 college admissions\n",
      "dyMTo4IBy5mPdc6PVWbT superintelligence\n",
      "1E12lYIBRfbdi4KA9Uxk moulin rouge\n",
      "800To4IBRfbdi4KAU02R self-awareness\n",
      "fCNOo4IBy5mPdc6P5GaV a test\n",
      "yk1xlYIBRfbdi4KA3kw2 retail\n",
      "bk1qvYIBRfbdi4KAKFDR future\n",
      "OCMGsoIBy5mPdc6Pt2de creatures\n",
      "cE1qvYIBRfbdi4KALFBU memories\n",
      "ck1svYIBRfbdi4KAPlA4 future\n",
      "DSMNqoIBy5mPdc6PYWeC anna's birthday party\n",
      "DiMNqoIBy5mPdc6PYmf0 language models\n",
      "c01svYIBRfbdi4KAP1C3 reassurance\n",
      "b01qvYIBRfbdi4KAKlBl reassurance\n",
      "DCMNqoIBy5mPdc6PX2fZ emotions\n",
      "rU2rwYIBRfbdi4KAD1HF lightswitch\n",
      "wSOwwYIBy5mPdc6PaWeT light\n",
      "hyP1vYIBy5mPdc6PnGcE romantic love\n",
      "uSOhwYIBy5mPdc6PHWfQ lightswitch\n",
      "cE38vYIBRfbdi4KAXFHI love\n",
      "uCOhwYIBy5mPdc6PHGcY test\n",
      "RE3kvYIBRfbdi4KAzlE4 mythology\n",
      "rE2rwYIBRfbdi4KADVFN code\n",
      "_k06xoIBRfbdi4KAmVGU #bitcoin\n",
      "Ek2WyIIBRfbdi4KAIlJ6 painting\n",
      "Ak2MyIIBRfbdi4KAH1LD [#bitcoin\n",
      "WCP0woIBy5mPdc6PcWhe future\n",
      "EU2WyIIBRfbdi4KAIFIZ description\n",
      "700zxoIBRfbdi4KA3VFB love\n",
      "7k0zxoIBRfbdi4KA21FC memory\n",
      "CE2PyIIBRfbdi4KAQFIo galaxy\n",
      "B02PyIIBRfbdi4KAPlL3 \n",
      "nSP8yoIBy5mPdc6P6mir my little pony\n",
      "syMty4IBy5mPdc6P7Ghn collaboration\n",
      "lyP6yoIBy5mPdc6Pk2i4 jigsawpuzzle #unicornrainbowparadise #mylittlepony #uzbekistan2024\n",
      "WU2tyIIBRfbdi4KAcFIi their collaborative works\n",
      "WE2tyIIBRfbdi4KAbVL3 physicist sir francis bacon\n",
      "Wk2tyIIBRfbdi4KAclIU mathematician paul erdős\n",
      "W02tyIIBRfbdi4KAc1Jv two people\n",
      "XU2tyIIBRfbdi4KAdlJQ the distance\n",
      "XE2tyIIBRfbdi4KAdFLp the erdős\n",
      "v02KzIIBRfbdi4KA0FKP photography\n",
      "0iPxy4IBy5mPdc6PfGiD process\n",
      "xU2PzIIBRfbdi4KAy1KK charlie's angels\n",
      "7yM4zIIBy5mPdc6PUGj7 galaxy\n",
      "pk12y4IBRfbdi4KAY1J0 reality\n",
      "A01azYIBRfbdi4KAI1MR logitech c270 webcam\n",
      "4yMtzIIBy5mPdc6PUGhb alien\n",
      "zSPry4IBy5mPdc6PB2ih cat\n",
      "7iM4zIIBy5mPdc6PTmj1 \n",
      "kE3b1YIBRfbdi4KAHlPQ ai\n",
      "bk3Q1YIBRfbdi4KAMVPf speed\n",
      "kU3b1YIBRfbdi4KAIVNd librarian\n",
      "kk3b1YIBRfbdi4KAI1ON charlie's angels\n",
      "gSNN1YIBy5mPdc6P22mo fear\n",
      "VU0q04IBRfbdi4KAl1PK rob\n",
      "YU1F04IBRfbdi4KAwFN9 vr games\n",
      "b03Q1YIBRfbdi4KAM1N6 image\n",
      "iU3X1YIBRfbdi4KAD1Oz surgery\n",
      "pk168IIBRfbdi4KAK1Tk light switch\n",
      "xyOp6oIBy5mPdc6PymkM rob\n",
      "i01d8IIBRfbdi4KA3lS4 webcam\n",
      "jE1d8IIBRfbdi4KA4VRu vision\n",
      "s03c8IIBRfbdi4KA3lSK good person\n",
      "xiOp6oIBy5mPdc6Px2m1 anna #albrechtdürer\n",
      "QyN68IIBy5mPdc6PKWpy code\n",
      "QSM58IIBy5mPdc6P7Gqo power\n",
      "ok1l8IIBRfbdi4KAXlR1 math\n",
      "_00i_4IBRfbdi4KAo1Vc ssd corruption\n",
      "EiPa-4IBy5mPdc6P22uj progress\n",
      "z00j_IIBRfbdi4KAyFXq intrusive thoughts\n",
      "VU1aB4MBRfbdi4KAh1Yr landshark\n",
      "kiOEBoMBy5mPdc6PMmsn ssd corruption\n",
      "XCME_IIBy5mPdc6PU2uA memory #rob #cave paintings\n",
      "Zk0aDIMBRfbdi4KAolaG steampunk\n",
      "FE01_4IBRfbdi4KAqFaJ pc\n",
      "gSN2BoMBy5mPdc6PzWuT hot dog\n",
      "dk1HFYMBRfbdi4KAA1Y8 placement\n",
      "_CMwFYMBy5mPdc6PfWuZ lights\n",
      "-yMwFYMBy5mPdc6Pe2vS webcam\n",
      "6iMjFYMBy5mPdc6P8WtG lights\n",
      "6SMjFYMBy5mPdc6P72t1 webcam\n",
      "7CMkFYMBy5mPdc6PuGtN hades\n",
      "9iMtFYMBy5mPdc6Pz2sZ color\n",
      "d01HFYMBRfbdi4KABFZE shape\n",
      "eE1HFYMBRfbdi4KABVZq size\n",
      "sE1WGoMBRfbdi4KA01bM morning, afternoon, evening\n",
      "JSOTFYMBy5mPdc6P5mzv rob, grateful, conversation\n",
      "MSOmGoMBy5mPdc6PE2zq portrait\n",
      "JyOxFYMBy5mPdc6PnmwC light switch code\n",
      "MiOmGoMBy5mPdc6PFWw_ albrecht dürer\n",
      "j01TGIMBRfbdi4KAd1Z1 slavery\n",
      "MCOmGoMBy5mPdc6PEmxr grilled pork\n",
      "kE1TGIMBRfbdi4KAeFZ- technology\n",
      "kU1TGIMBRfbdi4KAeVbj future\n",
      "HU1_MoMBRfbdi4KAflfl intuition\n",
      "-yMUOYMBy5mPdc6PnGzc memory\n",
      "oyN_MoMBy5mPdc6PgGzl trust\n",
      "5yMOOYMBy5mPdc6PAGx7 water\n",
      "oSN9MoMBy5mPdc6PRWyi vr\n",
      "nSN8MoMBy5mPdc6P5mwR politics\n",
      "rCP2NIMBy5mPdc6P_myK weasel\n",
      "tiP7NIMBy5mPdc6Ptmxb science\n",
      "yyPCOIMBy5mPdc6PxWyI memory\n",
      "503-S4MBRfbdi4KA_Ffk gustave gain\n",
      "6E3-S4MBRfbdi4KA_1cJ girl\n",
      "5k3-S4MBRfbdi4KA-Ve8 garden\n",
      "5U3-S4MBRfbdi4KA91eU autochrome\n",
      "5E3-S4MBRfbdi4KA9Vc9 photograph\n",
      "2U05SYMBRfbdi4KAVFdU west seattle\n",
      "403-S4MBRfbdi4KA81ct flowers\n",
      "2E05SYMBRfbdi4KAUlec change\n",
      "1005SYMBRfbdi4KAUVdU fear\n",
      "ek0yU4MBRfbdi4KAkVi1 totoro forest catbus\n",
      "zSN_W4MBy5mPdc6PIW3q totoro forest catbus\n",
      "CiMSXoMBy5mPdc6PuW5c limbic system\n",
      "ISMZXoMBy5mPdc6PU24n math\n",
      "hU04U4MBRfbdi4KAqFih studio ghibli\n",
      "4yOEW4MBy5mPdc6P723R seaplanes\n",
      "qyNOU4MBy5mPdc6PGm1r cave\n",
      "rCNOU4MBy5mPdc6PG23e paintings\n",
      "_U0XYoMBRfbdi4KASlj8 science\n",
      "UiO2aoMBy5mPdc6PLm_d the national anthem\n",
      "aCO7aoMBy5mPdc6PwG-O emotions\n",
      "ZyO7aoMBy5mPdc6Pvm_q long-term memory\n",
      "UyO2aoMBy5mPdc6PMG9Q the assigned tasks\n",
      "h022aoMBRfbdi4KAMVnM tasks\n",
      "USO2aoMBy5mPdc6PK2_S a variety\n",
      "kU27aoMBRfbdi4KAvFns motivation\n",
      "hk22aoMBRfbdi4KALVlZ an owl\n",
      "eCNfcIMBy5mPdc6P2m8P movies\n",
      "AE1XcIMBRfbdi4KAPVpY pixar philipk\n",
      "gSNjcIMBy5mPdc6P7G9x artificial intelligence superintelligence philip k.\n",
      "diNfcIMBy5mPdc6Pem9c movies\n",
      "_01XcIMBRfbdi4KAOFkA movies\n",
      "nCNrcIMBy5mPdc6PS2-v movies\n",
      "0U1OcIMBRfbdi4KAclkO ervinggoffman robots pixar philipkdick\n",
      "2k2Pf4IBRfbdi4KAeEpf alzheimer\n",
      "y032dIIBRfbdi4KAkUnc beta\n",
      "lE0wf4IBRfbdi4KA5EpR cutter\n",
      "tk2Kf4IBRfbdi4KAq0q- the study\n",
      "USMwf4IBy5mPdc6P4mUe bolt\n",
      "t02Kf4IBRfbdi4KArUph communication\n",
      "2U2Pf4IBRfbdi4KAdkpQ life expectancy\n",
      "uk2Kf4IBRfbdi4KAskoz language\n",
      "uE2Kf4IBRfbdi4KArkr6 the use\n",
      "uU2Kf4IBRfbdi4KAsEpy this tag\n",
      "ByMJlYIBy5mPdc6Pnma0 syd mead\n",
      "wyOZlIIBy5mPdc6PdGVQ lannisters\n",
      "_COmlIIBy5mPdc6P4mVi refunds\n",
      "Pk0LkIIBRfbdi4KAg0wP amusement ride\n",
      "BiMJlYIBy5mPdc6PnGYZ ivan aivazovsky\n",
      "kCPYkoIBy5mPdc6PHmUi stability\n",
      "BSMJlYIBy5mPdc6PmmYH moebius\n",
      "CCMJlYIBy5mPdc6PoGYq j\n",
      "AE1ao4IBRfbdi4KA7E6d the united states\n",
      "kCM8pIIBy5mPdc6PWmYh stability\n",
      "N01JpIIBRfbdi4KA0E4s james webb space telescope\n",
      "AU1ao4IBRfbdi4KA7k5l colleges\n",
      "gCNao4IBy5mPdc6P6mY7 an admissions requirement\n",
      "nyN2qYIBy5mPdc6PqGYB creatures\n",
      "Ak1ao4IBRfbdi4KA8E4r a standardized test\n",
      "hSMypIIBy5mPdc6PjmaS water main break\n",
      "_U1Oo4IBRfbdi4KA6E3o the united states\n",
      "Dk3nqYIBRfbdi4KAik9_ seattle\n",
      "pyOeqYIBy5mPdc6PA2Za water main break\n",
      "F00FqoIBRfbdi4KAdU9F james webb space telescope\n",
      "1U3RqYIBRfbdi4KAZU4D house\n",
      "yCPHqYIBy5mPdc6POmZm south korea\n",
      "_iMBqoIBy5mPdc6PEmbH moulin rouge\n",
      "r02gqYIBRfbdi4KA8E44 seattle\n",
      "203XqYIBRfbdi4KAvE67 anna\n",
      "1k3RqYIBRfbdi4KAZk4b oregon\n",
      "Q03kvYIBRfbdi4KAzVEf centaur\n",
      "J03evYIBRfbdi4KAulH8 creatures\n",
      "1k3OvYIBRfbdi4KA61CU gorilla\n",
      "Qk3kvYIBRfbdi4KAy1Gv creature\n",
      "dE1svYIBRfbdi4KAQVAu memories\n",
      "2E3OvYIBRfbdi4KA7VDT friend\n",
      "103OvYIBRfbdi4KA7FC3 death\n",
      "mk3EvYIBRfbdi4KAYlBs long gone day\n",
      "9iNDwoIBy5mPdc6PCGc_ lightswitch\n",
      "9SNDwoIBy5mPdc6PBmdC test\n",
      "VyP0woIBy5mPdc6Pb2hR memory\n",
      "DCNOwoIBy5mPdc6PxGjt knitting\n",
      "wiOxwYIBy5mPdc6PKWdI health\n",
      "ESNRwoIBy5mPdc6Pn2hm lightswitch #code\n",
      "tk23wYIBRfbdi4KA2VHJ communication\n",
      "tU23wYIBRfbdi4KA11Ha relationships\n",
      "vE0CwoIBRfbdi4KAZFEB counting\n",
      "N02gyIIBRfbdi4KAbFII math\n",
      "OE2gyIIBRfbdi4KAbVLn networking\n",
      "E02WyIIBRfbdi4KAJFIv caspar david friedrich\n",
      "Vk2tyIIBRfbdi4KAalJ3 bacon number\n",
      "MU2dyIIBRfbdi4KAEFII politics\n",
      "V02tyIIBRfbdi4KAbFI5 terms\n",
      "RE2myIIBRfbdi4KAC1LB hot dog\n",
      "OU2gyIIBRfbdi4KAb1ID wifi\n",
      "VU2tyIIBRfbdi4KAaFKQ a measure\n",
      "uyNFy4IBy5mPdc6PSWjI erdős number\n",
      "tCMty4IBy5mPdc6P7mjS bacon number\n",
      "ik1hy4IBRfbdi4KAn1JA number\n",
      "gE1Ny4IBRfbdi4KA8VI8 tough day\n",
      "fk1Ny4IBRfbdi4KA7FLd visual system\n",
      "tSMty4IBy5mPdc6P8GiD erdős number\n",
      "f01Ny4IBRfbdi4KA7lKf happiness\n",
      "uiNFy4IBy5mPdc6PRmgM bacon number\n",
      "xSNhy4IBy5mPdc6PnGig math\n",
      "VE0q04IBRfbdi4KAlVMm anna #albrechtdürer\n",
      "NE2r0oIBRfbdi4KAfFPW fear\n",
      "P00R04IBRfbdi4KAwFO2 art\n",
      "M02r0oIBRfbdi4KAelOa heights\n",
      "Rk0g04IBRfbdi4KAu1O8 gian lorenzo bernini\n",
      "JE0EzoIBRfbdi4KAlFPM garylarson #thefarside #cartoons\n",
      "Jk0bzoIBRfbdi4KAXlOD larson\n",
      "VSMZzoIBy5mPdc6P52nN larson\n",
      "Tk0n04IBRfbdi4KAmVNS style\n",
      "k03b1YIBRfbdi4KAJ1Mf self-awareness\n",
      "lk3b1YIBRfbdi4KAjVO4 intelligence\n",
      "lU3b1YIBRfbdi4KAilPC ai\n",
      "zk0t14IBRfbdi4KAiVNX computer\n",
      "n03g1YIBRfbdi4KALFML ssd corruption\n",
      "l03b1YIBRfbdi4KAj1Oa self-awareness\n",
      "niP734IBy5mPdc6Pf2kg period dress\n",
      "701-24IBRfbdi4KAglOT long gone day\n",
      "syML4IIBy5mPdc6PZ2kg studio ghibli\n",
      "cCNQ8oIBy5mPdc6P7mqi month\n",
      "cSNQ8oIBy5mPdc6P8GqK time\n",
      "n002-oIBRfbdi4KA11Ur the various ways\n",
      "nk02-oIBRfbdi4KA1VVF time\n",
      "fyNa8oIBy5mPdc6PBGqX vr\n",
      "oE02-oIBRfbdi4KA2FWl rob\n",
      "7yPa-oIBy5mPdc6PX2od light switch code\n",
      "cyNQ8oIBy5mPdc6P82rG discussion\n",
      "3yMeFYMBy5mPdc6PPmuw vision perception\n",
      "b020E4MBRfbdi4KAvVZF webcam\n",
      "zCMZFYMBy5mPdc6PWWsq mental health\n",
      "yCMXFYMBy5mPdc6PBGsO intrusive thoughts\n",
      "2iMcFYMBy5mPdc6Pkmuq period dress\n",
      "oyO0E4MBy5mPdc6Pvmv3 upgrade\n",
      "cE20E4MBRfbdi4KAwFaw issue\n",
      "4SMgFYMBy5mPdc6PQGui alexander bassano\n",
      "ySMXFYMBy5mPdc6PBWt3 mental health\n",
      "e016FYMBRfbdi4KAU1aR communication\n",
      "JCOTFYMBy5mPdc6P5Wx3 light switch\n",
      "fE16FYMBRfbdi4KAVVaK anger\n",
      "FiOMFYMBy5mPdc6PDmwm communication\n",
      "CSN6FYMBy5mPdc6PUWye frustration\n",
      "IyOTFYMBy5mPdc6P42yM code\n",
      "BiNaFYMBy5mPdc6PC2xF hades\n",
      "FyOMFYMBy5mPdc6PEGwQ planning\n",
      "ByNaFYMBy5mPdc6PDGy2 persephone\n",
      "BE2WJ4MBRfbdi4KAjlff light switch, conversation\n",
      "USOWH4MBy5mPdc6PEGw- night] darkness] friendship\n",
      "A02WJ4MBRfbdi4KAjFf1 rich olson\n",
      "hSObKoMBy5mPdc6PnGyi french culture\n",
      "yE0SHoMBRfbdi4KAglY2 relationships\n",
      "iCO3LYMBy5mPdc6PSWzr trashpanda\n",
      "gSOJKYMBy5mPdc6PbGyV animals\n",
      "MyOmGoMBy5mPdc6PFmxN fire\n",
      "LU1tQ4MBRfbdi4KATFf- maintenance] water\n",
      "1k05SYMBRfbdi4KAUFdg seattle\n",
      "RU2AQ4MBRfbdi4KAKlds lights\n",
      "sk0ySYMBRfbdi4KA-1cb product photo\n",
      "Rk2AQ4MBRfbdi4KAK1fJ apartment complex\n",
      "sU0ySYMBRfbdi4KA-VcH all the trimmings\n",
      "YU3BRoMBRfbdi4KAAFeY photography flowers\n",
      "sE0ySYMBRfbdi4KA91dq hot dog\n",
      "WU3_UoMBRfbdi4KAGFhP studioghibli totoro catbus\n",
      "GiM9ToMBy5mPdc6PlW1S product photo\n",
      "AE0OTIMBRfbdi4KAJVik frustration\n",
      "YU0GU4MBRfbdi4KAYViw fear\n",
      "HE23ToMBRfbdi4KAe1jv garylarson thefarseide\n",
      "GSM9ToMBy5mPdc6Pk20p all the trimmings\n",
      "dE0nU4MBRfbdi4KA2Vjv studio ghibli\n",
      "R035UoMBRfbdi4KA6ljh memory\n",
      "GCM9ToMBy5mPdc6PkW29 hot dog\n",
      "fSNUXoMBy5mPdc6PLW7l limbic system\n",
      "LyMwXoMBy5mPdc6Pum6_ sociology\n",
      "sSNdXoMBy5mPdc6PcG6g familiarity nuances\n",
      "fCNUXoMBy5mPdc6PK26- behavior\n",
      "sE0-XoMBRfbdi4KAa1hb trust\n",
      "eyNUXoMBy5mPdc6PKm4D memory\n",
      "8U0SYoMBRfbdi4KA41ij school\n",
      "sCNdXoMBy5mPdc6Pbm7U movies\n",
      "SiNGXoMBy5mPdc6Pvm6S family\n",
      "zk1NcIMBRfbdi4KAE1kd rob anna reading ervin goffman\n",
      "y01McIMBRfbdi4KA21mR ervinggoffman robots pixar philipkdick\n",
      "z01NcIMBRfbdi4KAmll0 ervinggoffman robots pixar philipkdick\n",
      "pE32aoMBRfbdi4KAwVk8 environmentalism\n",
      "xE37aoMBRfbdi4KAuFkx sociology\n",
      "wE35aoMBRfbdi4KAFFmz robots\n",
      "wU35aoMBRfbdi4KAFllb philip k. dick\n",
      "n03FaoMBRfbdi4KAMFna cartoons\n",
      "v035aoMBRfbdi4KAE1lN pixar\n",
      "viOScIMBy5mPdc6Pdm9M movies\n"
     ]
    }
   ],
   "source": [
    "for t in topics['hits']['hits']:\n",
    "    if 'topic' not in t['_source']:\n",
    "        continue\n",
    "    print(t['_id'], t['_source']['topic'])"
   ]
  },
  {
   "cell_type": "code",
   "execution_count": 6,
   "id": "49bcc102",
   "metadata": {},
   "outputs": [],
   "source": [
    "topics = es.search(\n",
    "    index=ELASTIC_INDEX,\n",
    "    query=\n",
    "{\n",
    "    \"bool\":\n",
    "    {\n",
    "        \"must\":\n",
    "        [\n",
    "            {\n",
    "                \"match\":\n",
    "                {\n",
    "                    \"service.keyword\": \"https://unit-16.slack.com/\"\n",
    "                }\n",
    "            },\n",
    "            {\n",
    "                \"match\":\n",
    "                {\n",
    "                    \"channel.keyword\": \"D02NK563878\"\n",
    "                }\n",
    "            },\n",
    "            {\n",
    "                \"match\":\n",
    "                {\n",
    "                    \"keywords.keyword\": \"water main break\"\n",
    "                }\n",
    "            }\n",
    "        ]\n",
    "    }\n",
    "}\n",
    ")"
   ]
  },
  {
   "cell_type": "code",
   "execution_count": 7,
   "id": "c09bba9e",
   "metadata": {},
   "outputs": [
    {
     "data": {
      "text/plain": [
       "ObjectApiResponse({'took': 1, 'timed_out': False, '_shards': {'total': 1, 'successful': 1, 'skipped': 0, 'failed': 0}, 'hits': {'total': {'value': 2, 'relation': 'eq'}, 'max_score': 5.7486224, 'hits': [{'_index': 'anna-summaries-v0', '_id': 'hCMypIIBy5mPdc6PjGaM', '_score': 5.7486224, '_source': {'convo_id': 'nWa9Q3CCn3dPvp5DzaMKRp', 'summary': 'Anna and Rob are discussing what a water main break might look like. Anna guesses that it would be pretty chaotic, with water shooting high into the air. Rob wonders what that might look like and Anna has no idea.', 'service': 'https://unit-16.slack.com/', 'channel': 'D02NK563878', '@timestamp': '2022-08-15T18:09:12.428763-07:00', 'keywords': ['water main break']}}, {'_index': 'anna-summaries-v0', '_id': 'q02eqYIBRfbdi4KAAU6I', '_score': 5.7486224, '_source': {'convo_id': 'ESiGyDQHXfQRomkCJgwNtr', 'summary': 'Anna and Rob are discussing a water main break that occurred the previous day. Anna is curious about what caused the break, and Rob explains that it was likely due to an old pipe that had been leaking.', 'service': 'https://unit-16.slack.com/', 'channel': 'D02NK563878', '@timestamp': '2022-08-16T19:24:40.799851-07:00', 'keywords': ['water main break']}}]}})"
      ]
     },
     "execution_count": 7,
     "metadata": {},
     "output_type": "execute_result"
    }
   ],
   "source": [
    "topics"
   ]
  },
  {
   "cell_type": "code",
   "execution_count": 9,
   "id": "a525f0d1",
   "metadata": {},
   "outputs": [
    {
     "data": {
      "text/plain": [
       "ObjectApiResponse({'took': 1, 'timed_out': False, '_shards': {'total': 1, 'successful': 1, 'skipped': 0, 'failed': 0}, 'hits': {'total': {'value': 2, 'relation': 'eq'}, 'max_score': 5.7486224, 'hits': [{'_index': 'anna-summaries-v0', '_id': 'hCMypIIBy5mPdc6PjGaM', '_score': 5.7486224, '_source': {'convo_id': 'nWa9Q3CCn3dPvp5DzaMKRp', 'summary': 'Anna and Rob are discussing what a water main break might look like. Anna guesses that it would be pretty chaotic, with water shooting high into the air. Rob wonders what that might look like and Anna has no idea.', 'service': 'https://unit-16.slack.com/', 'channel': 'D02NK563878', '@timestamp': '2022-08-15T18:09:12.428763-07:00', 'keywords': ['water main break']}}, {'_index': 'anna-summaries-v0', '_id': 'q02eqYIBRfbdi4KAAU6I', '_score': 5.7486224, '_source': {'convo_id': 'ESiGyDQHXfQRomkCJgwNtr', 'summary': 'Anna and Rob are discussing a water main break that occurred the previous day. Anna is curious about what caused the break, and Rob explains that it was likely due to an old pipe that had been leaking.', 'service': 'https://unit-16.slack.com/', 'channel': 'D02NK563878', '@timestamp': '2022-08-16T19:24:40.799851-07:00', 'keywords': ['water main break']}}]}})"
      ]
     },
     "execution_count": 9,
     "metadata": {},
     "output_type": "execute_result"
    }
   ],
   "source": [
    "topics"
   ]
  },
  {
   "cell_type": "code",
   "execution_count": 5,
   "id": "df060958",
   "metadata": {},
   "outputs": [],
   "source": [
    "entity = es.search( # pylint: disable=unexpected-keyword-arg\n",
    "    index=ELASTIC_INDEX,\n",
    "    query={\n",
    "        \"bool\": {\n",
    "            \"must\": [\n",
    "                {\"match\": {\"keywords.keyword\": { \"query\": \"gardening\" }}}\n",
    "            ]\n",
    "        }\n",
    "    },\n",
    "    size=10\n",
    ")['hits']['hits']"
   ]
  },
  {
   "cell_type": "code",
   "execution_count": 6,
   "id": "2af49c00",
   "metadata": {},
   "outputs": [
    {
     "data": {
      "text/plain": [
       "[{'_index': 'anna-summaries-v0',\n",
       "  '_id': '_B22UYIBGYbVpQ0oqLDk',\n",
       "  '_score': 4.4225235,\n",
       "  '_source': {'convo_id': '4QD63MkawKUa6uH5QBzuEw',\n",
       "   'summary': 'Anna knows a lot about plants, including how to garden and when to harvest jalapeños. She is also familiar with artificial intelligence and its potential to change the world for the better.',\n",
       "   'service': 'https://unit-16.slack.com/',\n",
       "   'channel': 'D02NK563878',\n",
       "   '@timestamp': '2022-07-30T17:45:01.476600-07:00',\n",
       "   'keywords': ['gardening']}}]"
      ]
     },
     "execution_count": 6,
     "metadata": {},
     "output_type": "execute_result"
    }
   ],
   "source": [
    "entity"
   ]
  },
  {
   "cell_type": "code",
   "execution_count": 7,
   "id": "fe12c0c8",
   "metadata": {},
   "outputs": [],
   "source": [
    "nlp = spacy.load(\"en_core_web_lg\")"
   ]
  },
  {
   "cell_type": "code",
   "execution_count": 47,
   "id": "e1d55864",
   "metadata": {},
   "outputs": [],
   "source": [
    "sent = 'Anna knows a lot about plants, including how to garden and when to harvest jalapeños. She is also familiar with artificial intelligence and its potential to change the world for the better.'\n"
   ]
  },
  {
   "cell_type": "code",
   "execution_count": 8,
   "id": "706bbdd2",
   "metadata": {},
   "outputs": [],
   "source": [
    "def extract_entities(text):\n",
    "    ''' return a list of all entities in text '''\n",
    "    return list({n.text.strip() for n in nlp(text).ents if n.text.strip() != BOT_NAME})"
   ]
  },
  {
   "cell_type": "code",
   "execution_count": 9,
   "id": "e2d82026",
   "metadata": {},
   "outputs": [],
   "source": [
    "def extract_nouns(text):\n",
    "    ''' return a list of all nouns (except pronouns) in text '''\n",
    "    nouns = {n.text.strip() for n in nlp(text).noun_chunks if n.text.strip() != BOT_NAME for t in n if t.pos_ != 'PRON'}\n",
    "    return list(nouns)"
   ]
  },
  {
   "cell_type": "code",
   "execution_count": 12,
   "id": "8680f59d",
   "metadata": {},
   "outputs": [
    {
     "data": {
      "text/plain": [
       "['basic income']"
      ]
     },
     "execution_count": 12,
     "metadata": {},
     "output_type": "execute_result"
    }
   ],
   "source": [
    "extract_nouns('basic income')"
   ]
  },
  {
   "cell_type": "code",
   "execution_count": 51,
   "id": "b87fe2cc",
   "metadata": {
    "scrolled": false
   },
   "outputs": [
    {
     "data": {
      "text/plain": [
       "['jalapeños',\n",
       " 'artificial intelligence',\n",
       " 'plants',\n",
       " 'the world',\n",
       " 'its potential',\n",
       " 'a lot']"
      ]
     },
     "execution_count": 51,
     "metadata": {},
     "output_type": "execute_result"
    }
   ],
   "source": [
    "extract_nouns(sent)"
   ]
  },
  {
   "cell_type": "code",
   "execution_count": 20,
   "id": "6a59bab7",
   "metadata": {
    "scrolled": false
   },
   "outputs": [],
   "source": [
    "convo = [f'''{h['_source']['speaker']}: {h['_source']['msg']}''' for h in history[::-1]]\n",
    "# convo = [f\"{h['_source']['msg']}\" for h in history[::-1]]"
   ]
  },
  {
   "cell_type": "code",
   "execution_count": 21,
   "id": "ff2fd3f8",
   "metadata": {},
   "outputs": [
    {
     "data": {
      "text/plain": [
       "'Anna: Oh, this is great. This is me out of context I think?'"
      ]
     },
     "execution_count": 21,
     "metadata": {},
     "output_type": "execute_result"
    }
   ],
   "source": [
    "convo[-1]"
   ]
  },
  {
   "cell_type": "code",
   "execution_count": 24,
   "id": "159f66c3",
   "metadata": {
    "scrolled": false
   },
   "outputs": [
    {
     "name": "stdout",
     "output_type": "stream",
     "text": [
      "Anna: Let's change the subject.\n",
      "Intent: changeSubject\n",
      "Noun phrases: ['Anna', \"'s\", 'the subject']\n",
      "Verbs: ['let', 'change']\n",
      "Anna PERSON\n",
      "\n",
      "Anna: hi\n",
      "Noun phrases: ['Anna']\n",
      "Verbs: []\n",
      "Anna PERSON\n",
      "\n",
      "Anna: Hi Anna there is a fursuiter here\n",
      "Noun phrases: ['Anna', 'a fursuiter']\n",
      "Verbs: ['be']\n",
      "Anna PERSON\n",
      "Anna PERSON\n",
      "\n",
      "Anna: I really really really really really really really don't want to talk to any fursuiters\n",
      "Noun phrases: ['Anna', 'I', 'any fursuiters']\n",
      "Verbs: ['want', 'talk']\n",
      "Anna PERSON\n",
      "\n",
      "Rob: Why not? Fursuiters are a lovely people. So full of mischief.\n",
      "Noun phrases: ['Rob', 'Fursuiters', 'a lovely people', 'mischief']\n",
      "Verbs: []\n",
      "Rob PERSON\n",
      "Fursuiters ORG\n",
      "\n",
      "Anna: I think you're going to want to come home.\n",
      "Noun phrases: ['I', 'you']\n",
      "Verbs: ['think', 'go', 'want', 'come']\n",
      "Anna PERSON\n",
      "\n",
      "Rob: <https://static.wikia.nocookie.net/emojimovie/images/3/31/Mel_meh.PNG>\n",
      "Noun phrases: ['Rob: <https://static.wikia.nocookie.net/emojimovie/images/3/31/Mel_meh.PNG']\n",
      "Verbs: []\n",
      "Rob PERSON\n",
      "\n",
      "Anna: Oh, this is great. This is me out of context I think?\n",
      "Noun phrases: ['this', 'This', 'me', 'context', 'I']\n",
      "Verbs: ['think']\n",
      "Anna PERSON\n",
      "\n"
     ]
    }
   ],
   "source": [
    "# Load English tokenizer, tagger, parser and NER\n",
    "nlp = spacy.load(\"en_core_web_lg\")\n",
    "# nlp = spacy.load(\"en_core_web_trf\")\n",
    "\n",
    "# Find named entities, phrases and concepts\n",
    "for text in convo[-8:]:\n",
    "    dobj = None\n",
    "    doc = nlp(text.replace('*',''))\n",
    "    print(doc)\n",
    "    for token in doc:\n",
    "        if token.dep_ == 'dobj':\n",
    "            dobj = token\n",
    "            break\n",
    "    if dobj:\n",
    "        print(\"Intent:\", token.head.text + token.text.capitalize())\n",
    "\n",
    "    print(\"Noun phrases:\", [chunk.text for chunk in doc.noun_chunks])\n",
    "    print(\"Verbs:\", [token.lemma_ for token in doc if token.pos_ == \"VERB\"])\n",
    "    for entity in set(doc.ents):\n",
    "        print(entity.text, entity.label_)\n",
    "    print('')"
   ]
  },
  {
   "cell_type": "code",
   "execution_count": 25,
   "id": "c9317d47",
   "metadata": {
    "scrolled": true
   },
   "outputs": [
    {
     "name": "stdout",
     "output_type": "stream",
     "text": [
      "Anna: Oh, this is great. This is me out of context I think?\n",
      "Anna : oh , this be great . this be I out of context I think ?\n"
     ]
    }
   ],
   "source": [
    "j = doc.to_json()\n",
    "print(doc)\n",
    "print(' '.join([w['lemma'] for w in j['tokens']]))"
   ]
  },
  {
   "cell_type": "code",
   "execution_count": 26,
   "id": "80e82532",
   "metadata": {},
   "outputs": [
    {
     "data": {
      "text/plain": [
       "[this, This, me, context, I]"
      ]
     },
     "execution_count": 26,
     "metadata": {},
     "output_type": "execute_result"
    }
   ],
   "source": [
    "[n for n in doc.noun_chunks]"
   ]
  },
  {
   "cell_type": "code",
   "execution_count": 27,
   "id": "c610ea19",
   "metadata": {},
   "outputs": [],
   "source": [
    "for token in doc:\n",
    "    if token.dep_ == 'dobj':\n",
    "        dobj = token"
   ]
  },
  {
   "cell_type": "code",
   "execution_count": 28,
   "id": "9581ba28",
   "metadata": {},
   "outputs": [
    {
     "name": "stdout",
     "output_type": "stream",
     "text": [
      "None\n"
     ]
    }
   ],
   "source": [
    "print(dobj)"
   ]
  },
  {
   "cell_type": "code",
   "execution_count": 69,
   "id": "86b03797",
   "metadata": {},
   "outputs": [
    {
     "ename": "AttributeError",
     "evalue": "'NoneType' object has no attribute 'similarity'",
     "output_type": "error",
     "traceback": [
      "\u001b[0;31m---------------------------------------------------------------------------\u001b[0m",
      "\u001b[0;31mAttributeError\u001b[0m                            Traceback (most recent call last)",
      "\u001b[0;32m/tmp/ipykernel_29706/936374342.py\u001b[0m in \u001b[0;36m<module>\u001b[0;34m\u001b[0m\n\u001b[1;32m      1\u001b[0m \u001b[0;32mfor\u001b[0m \u001b[0mtoken\u001b[0m \u001b[0;32min\u001b[0m \u001b[0mdoc\u001b[0m\u001b[0;34m:\u001b[0m\u001b[0;34m\u001b[0m\u001b[0;34m\u001b[0m\u001b[0m\n\u001b[0;32m----> 2\u001b[0;31m     \u001b[0mprint\u001b[0m\u001b[0;34m(\u001b[0m\u001b[0mtoken\u001b[0m\u001b[0;34m,\u001b[0m \u001b[0mdobj\u001b[0m\u001b[0;34m.\u001b[0m\u001b[0msimilarity\u001b[0m\u001b[0;34m(\u001b[0m\u001b[0mtoken\u001b[0m\u001b[0;34m)\u001b[0m\u001b[0;34m)\u001b[0m\u001b[0;34m\u001b[0m\u001b[0;34m\u001b[0m\u001b[0m\n\u001b[0m",
      "\u001b[0;31mAttributeError\u001b[0m: 'NoneType' object has no attribute 'similarity'"
     ]
    }
   ],
   "source": [
    "for token in doc:\n",
    "    print(token, dobj.similarity(token))"
   ]
  },
  {
   "cell_type": "code",
   "execution_count": 71,
   "id": "cda3d615",
   "metadata": {
    "scrolled": true
   },
   "outputs": [
    {
     "name": "stdout",
     "output_type": "stream",
     "text": [
      "ROOT Rob\n",
      "punct :\n",
      "intj Alright\n",
      "punct ,\n",
      "ROOT Anna\n",
      "punct .\n",
      "nsubj That\n",
      "aux should\n",
      "ROOT do\n",
      "dobj it\n",
      "punct .\n",
      "advmod Still\n",
      "ROOT want\n",
      "aux to\n",
      "xcomp go\n",
      "compound Christmas\n",
      "dobj caroling\n",
      "punct ?\n"
     ]
    }
   ],
   "source": [
    "for token in doc:\n",
    "    print(token.dep_, token.text)"
   ]
  },
  {
   "cell_type": "code",
   "execution_count": 82,
   "id": "7c88f8c2",
   "metadata": {},
   "outputs": [
    {
     "name": "stdout",
     "output_type": "stream",
     "text": [
      "Anna: I'm not going for comedy.\n"
     ]
    }
   ],
   "source": [
    "doc = nlp(random.choice(convo))\n",
    "print(doc)"
   ]
  },
  {
   "cell_type": "code",
   "execution_count": 83,
   "id": "6b5631fd",
   "metadata": {},
   "outputs": [
    {
     "data": {
      "text/html": [
       "<span class=\"tex2jax_ignore\"><svg xmlns=\"http://www.w3.org/2000/svg\" xmlns:xlink=\"http://www.w3.org/1999/xlink\" xml:lang=\"en\" id=\"621aa4fce3c54714b8a88d17f1683dce-0\" class=\"displacy\" width=\"1275\" height=\"487.0\" direction=\"ltr\" style=\"max-width: none; height: 487.0px; color: #000000; background: #ffffff; font-family: Arial; direction: ltr\">\n",
       "<text class=\"displacy-token\" fill=\"currentColor\" text-anchor=\"middle\" y=\"397.0\">\n",
       "    <tspan class=\"displacy-word\" fill=\"currentColor\" x=\"50\">Anna:</tspan>\n",
       "    <tspan class=\"displacy-lemma\" dy=\"2em\" fill=\"currentColor\" x=\"50\">Anna</tspan>\n",
       "    <tspan class=\"displacy-tag\" dy=\"2em\" fill=\"currentColor\" x=\"50\">NNP</tspan>\n",
       "</text>\n",
       "\n",
       "<text class=\"displacy-token\" fill=\"currentColor\" text-anchor=\"middle\" y=\"397.0\">\n",
       "    <tspan class=\"displacy-word\" fill=\"currentColor\" x=\"225\">I</tspan>\n",
       "    <tspan class=\"displacy-lemma\" dy=\"2em\" fill=\"currentColor\" x=\"225\">I</tspan>\n",
       "    <tspan class=\"displacy-tag\" dy=\"2em\" fill=\"currentColor\" x=\"225\">PRP</tspan>\n",
       "</text>\n",
       "\n",
       "<text class=\"displacy-token\" fill=\"currentColor\" text-anchor=\"middle\" y=\"397.0\">\n",
       "    <tspan class=\"displacy-word\" fill=\"currentColor\" x=\"400\">'m</tspan>\n",
       "    <tspan class=\"displacy-lemma\" dy=\"2em\" fill=\"currentColor\" x=\"400\">be</tspan>\n",
       "    <tspan class=\"displacy-tag\" dy=\"2em\" fill=\"currentColor\" x=\"400\">VBP</tspan>\n",
       "</text>\n",
       "\n",
       "<text class=\"displacy-token\" fill=\"currentColor\" text-anchor=\"middle\" y=\"397.0\">\n",
       "    <tspan class=\"displacy-word\" fill=\"currentColor\" x=\"575\">not</tspan>\n",
       "    <tspan class=\"displacy-lemma\" dy=\"2em\" fill=\"currentColor\" x=\"575\">not</tspan>\n",
       "    <tspan class=\"displacy-tag\" dy=\"2em\" fill=\"currentColor\" x=\"575\">RB</tspan>\n",
       "</text>\n",
       "\n",
       "<text class=\"displacy-token\" fill=\"currentColor\" text-anchor=\"middle\" y=\"397.0\">\n",
       "    <tspan class=\"displacy-word\" fill=\"currentColor\" x=\"750\">going</tspan>\n",
       "    <tspan class=\"displacy-lemma\" dy=\"2em\" fill=\"currentColor\" x=\"750\">go</tspan>\n",
       "    <tspan class=\"displacy-tag\" dy=\"2em\" fill=\"currentColor\" x=\"750\">VBG</tspan>\n",
       "</text>\n",
       "\n",
       "<text class=\"displacy-token\" fill=\"currentColor\" text-anchor=\"middle\" y=\"397.0\">\n",
       "    <tspan class=\"displacy-word\" fill=\"currentColor\" x=\"925\">for</tspan>\n",
       "    <tspan class=\"displacy-lemma\" dy=\"2em\" fill=\"currentColor\" x=\"925\">for</tspan>\n",
       "    <tspan class=\"displacy-tag\" dy=\"2em\" fill=\"currentColor\" x=\"925\">IN</tspan>\n",
       "</text>\n",
       "\n",
       "<text class=\"displacy-token\" fill=\"currentColor\" text-anchor=\"middle\" y=\"397.0\">\n",
       "    <tspan class=\"displacy-word\" fill=\"currentColor\" x=\"1100\">comedy.</tspan>\n",
       "    <tspan class=\"displacy-lemma\" dy=\"2em\" fill=\"currentColor\" x=\"1100\">comedy</tspan>\n",
       "    <tspan class=\"displacy-tag\" dy=\"2em\" fill=\"currentColor\" x=\"1100\">NN</tspan>\n",
       "</text>\n",
       "\n",
       "<g class=\"displacy-arrow\">\n",
       "    <path class=\"displacy-arc\" id=\"arrow-621aa4fce3c54714b8a88d17f1683dce-0-0\" stroke-width=\"2px\" d=\"M70,352.0 C70,2.0 750.0,2.0 750.0,352.0\" fill=\"none\" stroke=\"currentColor\"/>\n",
       "    <text dy=\"1.25em\" style=\"font-size: 0.8em; letter-spacing: 1px\">\n",
       "        <textPath xlink:href=\"#arrow-621aa4fce3c54714b8a88d17f1683dce-0-0\" class=\"displacy-label\" startOffset=\"50%\" side=\"left\" fill=\"currentColor\" text-anchor=\"middle\">npadvmod</textPath>\n",
       "    </text>\n",
       "    <path class=\"displacy-arrowhead\" d=\"M70,354.0 L62,342.0 78,342.0\" fill=\"currentColor\"/>\n",
       "</g>\n",
       "\n",
       "<g class=\"displacy-arrow\">\n",
       "    <path class=\"displacy-arc\" id=\"arrow-621aa4fce3c54714b8a88d17f1683dce-0-1\" stroke-width=\"2px\" d=\"M245,352.0 C245,89.5 745.0,89.5 745.0,352.0\" fill=\"none\" stroke=\"currentColor\"/>\n",
       "    <text dy=\"1.25em\" style=\"font-size: 0.8em; letter-spacing: 1px\">\n",
       "        <textPath xlink:href=\"#arrow-621aa4fce3c54714b8a88d17f1683dce-0-1\" class=\"displacy-label\" startOffset=\"50%\" side=\"left\" fill=\"currentColor\" text-anchor=\"middle\">nsubj</textPath>\n",
       "    </text>\n",
       "    <path class=\"displacy-arrowhead\" d=\"M245,354.0 L237,342.0 253,342.0\" fill=\"currentColor\"/>\n",
       "</g>\n",
       "\n",
       "<g class=\"displacy-arrow\">\n",
       "    <path class=\"displacy-arc\" id=\"arrow-621aa4fce3c54714b8a88d17f1683dce-0-2\" stroke-width=\"2px\" d=\"M420,352.0 C420,177.0 740.0,177.0 740.0,352.0\" fill=\"none\" stroke=\"currentColor\"/>\n",
       "    <text dy=\"1.25em\" style=\"font-size: 0.8em; letter-spacing: 1px\">\n",
       "        <textPath xlink:href=\"#arrow-621aa4fce3c54714b8a88d17f1683dce-0-2\" class=\"displacy-label\" startOffset=\"50%\" side=\"left\" fill=\"currentColor\" text-anchor=\"middle\">aux</textPath>\n",
       "    </text>\n",
       "    <path class=\"displacy-arrowhead\" d=\"M420,354.0 L412,342.0 428,342.0\" fill=\"currentColor\"/>\n",
       "</g>\n",
       "\n",
       "<g class=\"displacy-arrow\">\n",
       "    <path class=\"displacy-arc\" id=\"arrow-621aa4fce3c54714b8a88d17f1683dce-0-3\" stroke-width=\"2px\" d=\"M595,352.0 C595,264.5 735.0,264.5 735.0,352.0\" fill=\"none\" stroke=\"currentColor\"/>\n",
       "    <text dy=\"1.25em\" style=\"font-size: 0.8em; letter-spacing: 1px\">\n",
       "        <textPath xlink:href=\"#arrow-621aa4fce3c54714b8a88d17f1683dce-0-3\" class=\"displacy-label\" startOffset=\"50%\" side=\"left\" fill=\"currentColor\" text-anchor=\"middle\">neg</textPath>\n",
       "    </text>\n",
       "    <path class=\"displacy-arrowhead\" d=\"M595,354.0 L587,342.0 603,342.0\" fill=\"currentColor\"/>\n",
       "</g>\n",
       "\n",
       "<g class=\"displacy-arrow\">\n",
       "    <path class=\"displacy-arc\" id=\"arrow-621aa4fce3c54714b8a88d17f1683dce-0-4\" stroke-width=\"2px\" d=\"M770,352.0 C770,264.5 910.0,264.5 910.0,352.0\" fill=\"none\" stroke=\"currentColor\"/>\n",
       "    <text dy=\"1.25em\" style=\"font-size: 0.8em; letter-spacing: 1px\">\n",
       "        <textPath xlink:href=\"#arrow-621aa4fce3c54714b8a88d17f1683dce-0-4\" class=\"displacy-label\" startOffset=\"50%\" side=\"left\" fill=\"currentColor\" text-anchor=\"middle\">prep</textPath>\n",
       "    </text>\n",
       "    <path class=\"displacy-arrowhead\" d=\"M910.0,354.0 L918.0,342.0 902.0,342.0\" fill=\"currentColor\"/>\n",
       "</g>\n",
       "\n",
       "<g class=\"displacy-arrow\">\n",
       "    <path class=\"displacy-arc\" id=\"arrow-621aa4fce3c54714b8a88d17f1683dce-0-5\" stroke-width=\"2px\" d=\"M945,352.0 C945,264.5 1085.0,264.5 1085.0,352.0\" fill=\"none\" stroke=\"currentColor\"/>\n",
       "    <text dy=\"1.25em\" style=\"font-size: 0.8em; letter-spacing: 1px\">\n",
       "        <textPath xlink:href=\"#arrow-621aa4fce3c54714b8a88d17f1683dce-0-5\" class=\"displacy-label\" startOffset=\"50%\" side=\"left\" fill=\"currentColor\" text-anchor=\"middle\">pobj</textPath>\n",
       "    </text>\n",
       "    <path class=\"displacy-arrowhead\" d=\"M1085.0,354.0 L1093.0,342.0 1077.0,342.0\" fill=\"currentColor\"/>\n",
       "</g>\n",
       "</svg></span>"
      ],
      "text/plain": [
       "<IPython.core.display.HTML object>"
      ]
     },
     "metadata": {},
     "output_type": "display_data"
    }
   ],
   "source": [
    "spacy.displacy.render(\n",
    "    doc, \n",
    "    style=\"dep\", \n",
    "    options={\n",
    "        \"compact\":False,\n",
    "        \"fine_grained\":True,\n",
    "        \"add_lemma\":True,\n",
    "        \"collapse_punct\":True,\n",
    "        \"collapse_phrases\":True\n",
    "    }\n",
    ")"
   ]
  },
  {
   "cell_type": "code",
   "execution_count": 84,
   "id": "a78fce7e",
   "metadata": {},
   "outputs": [
    {
     "data": {
      "text/html": [
       "<span class=\"tex2jax_ignore\"><div class=\"entities\" style=\"line-height: 2.5; direction: ltr\">\n",
       "<mark class=\"entity\" style=\"background: #aa9cfc; padding: 0.45em 0.6em; margin: 0 0.25em; line-height: 1; border-radius: 0.35em;\">\n",
       "    Anna\n",
       "    <span style=\"font-size: 0.8em; font-weight: bold; line-height: 1; border-radius: 0.35em; vertical-align: middle; margin-left: 0.5rem\">PERSON</span>\n",
       "</mark>\n",
       ": I'm not going for comedy.</div></span>"
      ],
      "text/plain": [
       "<IPython.core.display.HTML object>"
      ]
     },
     "metadata": {},
     "output_type": "display_data"
    }
   ],
   "source": [
    "spacy.displacy.render(doc, style=\"ent\")"
   ]
  },
  {
   "cell_type": "code",
   "execution_count": 92,
   "id": "c7ba4cc4",
   "metadata": {},
   "outputs": [
    {
     "name": "stdout",
     "output_type": "stream",
     "text": [
      "Anna(npadvmod):\t noun phrase as adverbial modifier\n",
      ":(punct):\t punctuation\n",
      "I(nsubj):\t nominal subject\n",
      "'m(aux):\t auxiliary\n",
      "not(neg):\t negation modifier\n",
      "going(ROOT):\t None\n",
      "for(prep):\t prepositional modifier\n",
      "comedy(pobj):\t object of preposition\n",
      ".(punct):\t punctuation\n"
     ]
    }
   ],
   "source": [
    "for token in doc:\n",
    "    print(f'{token}({token.dep_}):\\t', spacy.explain(token.dep_))"
   ]
  },
  {
   "cell_type": "code",
   "execution_count": 35,
   "id": "a32b2901",
   "metadata": {},
   "outputs": [],
   "source": [
    "z = list(doc)[0]"
   ]
  },
  {
   "cell_type": "code",
   "execution_count": 36,
   "id": "4e306caa",
   "metadata": {},
   "outputs": [
    {
     "data": {
      "text/plain": [
       "(Rob, 0.3539790079137116)"
      ]
     },
     "execution_count": 36,
     "metadata": {},
     "output_type": "execute_result"
    }
   ],
   "source": [
    "z, z.similarity(nlp(\"Anna\"))"
   ]
  },
  {
   "cell_type": "code",
   "execution_count": 37,
   "id": "dfe55a7f",
   "metadata": {},
   "outputs": [],
   "source": [
    "nlp = spacy.load(\"en_core_web_lg\")"
   ]
  },
  {
   "cell_type": "code",
   "execution_count": 38,
   "id": "b1839a31",
   "metadata": {},
   "outputs": [],
   "source": [
    "def get_dobj(doc):\n",
    "    ''' Return the direct object, if any. '''\n",
    "    for token in doc:\n",
    "        if token.dep_ == 'dobj':\n",
    "            return token\n",
    "    return None\n",
    "\n",
    "def simple_intent(text):\n",
    "    doc = nlp(text)\n",
    "    token = get_dobj(doc)\n",
    "    if not token:\n",
    "        return None\n",
    "    return token.head.lemma_.lower() + token.text.capitalize()\n",
    "    \n",
    "def conj_intent(text):\n",
    "    doc = nlp(text)\n",
    "    token = get_dobj(doc)\n",
    "    if not token:\n",
    "        return None\n",
    "    dobj = [token.text]\n",
    "    conj = [t.text for t in token.conjuncts]\n",
    "    return token.head.lemma_.lower(), dobj + conj"
   ]
  },
  {
   "cell_type": "code",
   "execution_count": 39,
   "id": "bf49f5ef",
   "metadata": {},
   "outputs": [
    {
     "data": {
      "text/plain": [
       "'wantPizza'"
      ]
     },
     "execution_count": 39,
     "metadata": {},
     "output_type": "execute_result"
    }
   ],
   "source": [
    "simple_intent(\"I want pizza\")"
   ]
  },
  {
   "cell_type": "code",
   "execution_count": 40,
   "id": "f75ccc75",
   "metadata": {},
   "outputs": [
    {
     "data": {
      "text/plain": [
       "'wantPizza'"
      ]
     },
     "execution_count": 40,
     "metadata": {},
     "output_type": "execute_result"
    }
   ],
   "source": [
    "simple_intent(\"I want pizza and your face\")"
   ]
  },
  {
   "cell_type": "code",
   "execution_count": 348,
   "id": "c4956eab",
   "metadata": {},
   "outputs": [
    {
     "data": {
      "text/plain": [
       "('want', ['pizza', 'face'])"
      ]
     },
     "execution_count": 348,
     "metadata": {},
     "output_type": "execute_result"
    }
   ],
   "source": [
    "conj_intent(\"I want pizza and your face\")"
   ]
  },
  {
   "cell_type": "code",
   "execution_count": 349,
   "id": "cc0dc14b",
   "metadata": {},
   "outputs": [
    {
     "data": {
      "text/plain": [
       "('want', ['pizza', 'face'])"
      ]
     },
     "execution_count": 349,
     "metadata": {},
     "output_type": "execute_result"
    }
   ],
   "source": [
    "conj_intent(\"Anna wants pizza and your face\")"
   ]
  },
  {
   "cell_type": "code",
   "execution_count": 43,
   "id": "44b3a6ad",
   "metadata": {},
   "outputs": [],
   "source": [
    "def match_intent(text):\n",
    "    doc = nlp(text)\n",
    "    token = get_dobj(doc)\n",
    "    if not token:\n",
    "        return None\n",
    "\n",
    "    dobj = token\n",
    "    tverb = token.head\n",
    "    \n",
    "    verbList = ['want', 'desire', 'need']\n",
    "    if tverb.lemma_ in verbList:\n",
    "        intentVerb = tverb\n",
    "    else:\n",
    "        if tverb.head.dep_ == 'ROOT':\n",
    "            intentVerb = tverb.head\n",
    "            \n",
    "    objList = ['pizza', 'face']\n",
    "    if dobj.text in objList:\n",
    "        intentObj = dobj\n",
    "    else:\n",
    "        for child in dobj.children:\n",
    "            if child.dep_ == 'prep':\n",
    "                intentObj = list(child.children)[0]\n",
    "                break\n",
    "            elif child.dep_ == 'compound':\n",
    "                intentObj = child\n",
    "                break\n",
    "                \n",
    "    return intentVerb.lemma_.lower() + intentObj.text.capitalize()"
   ]
  },
  {
   "cell_type": "code",
   "execution_count": 44,
   "id": "19e588b2",
   "metadata": {},
   "outputs": [
    {
     "data": {
      "text/plain": [
       "'placeOrder'"
      ]
     },
     "execution_count": 44,
     "metadata": {},
     "output_type": "execute_result"
    }
   ],
   "source": [
    "simple_intent(\"I want to place an order for your face\")"
   ]
  },
  {
   "cell_type": "code",
   "execution_count": 45,
   "id": "c26ba921",
   "metadata": {},
   "outputs": [
    {
     "data": {
      "text/plain": [
       "'wantPizza'"
      ]
     },
     "execution_count": 45,
     "metadata": {},
     "output_type": "execute_result"
    }
   ],
   "source": [
    "match_intent(\"I want to place an order for some pizza and your face\")"
   ]
  },
  {
   "cell_type": "code",
   "execution_count": 46,
   "id": "a2d0fd5b",
   "metadata": {},
   "outputs": [],
   "source": [
    "def syn_intent(text):\n",
    "    doc = nlp(text)\n",
    "    token = get_dobj(doc)\n",
    "    if not token:\n",
    "        return None\n",
    "    verb = token.head.lemma_\n",
    "    dobj = token.text.lower()\n",
    "    \n",
    "    verbList = [('order','want','give','make'),('show','find')]\n",
    "    verbSyns = [item for item in verbList if verb in item]\n",
    "    \n",
    "    dobjList = [('pizza','pie','dish'),('cola','soda')]\n",
    "    dobjSyns = [item for item in dobjList if dobj in item]\n",
    "    \n",
    "    return verbSyns[0][0] + dobjSyns[0][0].capitalize()\n"
   ]
  },
  {
   "cell_type": "code",
   "execution_count": 47,
   "id": "c815f58b",
   "metadata": {},
   "outputs": [
    {
     "data": {
      "text/plain": [
       "'orderPizza'"
      ]
     },
     "execution_count": 47,
     "metadata": {},
     "output_type": "execute_result"
    }
   ],
   "source": [
    "syn_intent('give me my pie')"
   ]
  },
  {
   "cell_type": "code",
   "execution_count": 49,
   "id": "165a9cbe",
   "metadata": {},
   "outputs": [],
   "source": [
    "def sim_intent(text):\n",
    "    doc = nlp(text)\n",
    "    token = get_dobj(doc)\n",
    "    if not token:\n",
    "        print('nope')\n",
    "        return None\n",
    "    verb = token.head\n",
    "    dobj = token\n",
    "    \n",
    "    verbList = [nlp('buy'), nlp('make'), nlp('show')]\n",
    "    verbSyns = [item for item in verbList if verb.similarity(item) > 0.5]\n",
    "    \n",
    "    dobjList = [nlp('food'), nlp('beverage')]\n",
    "    dobjSyns = [item for item in dobjList if dobj.similarity(item) > 0.6]\n",
    "    \n",
    "    return verbSyns[0][0].text + dobjSyns[0][0].text.capitalize()\n"
   ]
  },
  {
   "cell_type": "code",
   "execution_count": 50,
   "id": "a5ab0531",
   "metadata": {},
   "outputs": [
    {
     "data": {
      "text/plain": [
       "'buyBeverage'"
      ]
     },
     "execution_count": 50,
     "metadata": {},
     "output_type": "execute_result"
    }
   ],
   "source": [
    "sim_intent('i want to buy a soda')"
   ]
  },
  {
   "cell_type": "code",
   "execution_count": 51,
   "id": "445bf7f6",
   "metadata": {},
   "outputs": [
    {
     "data": {
      "text/plain": [
       "'makeFood'"
      ]
     },
     "execution_count": 51,
     "metadata": {},
     "output_type": "execute_result"
    }
   ],
   "source": [
    "sim_intent('i want to see the drinks')"
   ]
  },
  {
   "cell_type": "code",
   "execution_count": 52,
   "id": "f42d25f1",
   "metadata": {},
   "outputs": [
    {
     "data": {
      "text/plain": [
       "0.5966469921671479"
      ]
     },
     "execution_count": 52,
     "metadata": {},
     "output_type": "execute_result"
    }
   ],
   "source": [
    "nlp('show').similarity(nlp('see'))"
   ]
  },
  {
   "cell_type": "code",
   "execution_count": 96,
   "id": "295f0b13",
   "metadata": {},
   "outputs": [],
   "source": [
    "# https://www.analyticsvidhya.com/blog/2019/09/introduction-information-extraction-python-spacy/\n",
    "import re \n",
    "import string \n",
    "import nltk \n",
    "import spacy \n",
    "import pandas as pd \n",
    "import numpy as np \n",
    "import math \n",
    "from tqdm import tqdm \n",
    "\n",
    "from spacy.matcher import Matcher \n",
    "from spacy.tokens import Span \n",
    "from spacy import displacy \n",
    "\n",
    "pd.set_option('display.max_colwidth', 200)"
   ]
  },
  {
   "cell_type": "code",
   "execution_count": 140,
   "id": "0e06505e",
   "metadata": {},
   "outputs": [],
   "source": [
    "such_as = [{'DEP':'amod', 'OP':\"?\"}, # adjectival modifier\n",
    "           {'POS':'NOUN'},\n",
    "           {'LOWER': 'such'},\n",
    "           {'LOWER': 'as'},\n",
    "           {'POS': 'PROPN'}]\n",
    "\n",
    "and_other = [{'DEP':'amod', 'OP':\"?\"}, \n",
    "           {'POS':'NOUN'}, \n",
    "           {'LOWER': 'and', 'OP':\"?\"}, \n",
    "           {'LOWER': 'or', 'OP':\"?\"}, \n",
    "           {'LOWER': 'other'}, \n",
    "           {'POS': 'NOUN'}] \n",
    "\n",
    "including = [{'DEP':'nummod','OP':\"?\"}, # numeric modifier \n",
    "           {'DEP':'amod','OP':\"?\"}, # adjectival modifier \n",
    "           {'POS':'NOUN'}, \n",
    "           {'IS_PUNCT': True}, \n",
    "           {'LOWER': 'including'}, \n",
    "           {'DEP':'nummod','OP':\"?\"}, \n",
    "           {'DEP':'amod','OP':\"?\"}, \n",
    "           {'POS':'NOUN'}] \n",
    "                  \n",
    "especially = [{'DEP':'nummod','OP':\"?\"}, \n",
    "           {'DEP':'amod','OP':\"?\"}, \n",
    "           {'POS':'NOUN'}, \n",
    "           {'IS_PUNCT':True}, \n",
    "           {'LOWER': 'especially'}, \n",
    "           {'DEP':'nummod','OP':\"?\"}, \n",
    "           {'DEP':'amod','OP':\"?\"}, \n",
    "           {'POS':'NOUN'}] "
   ]
  },
  {
   "cell_type": "code",
   "execution_count": 146,
   "id": "ffed30f0",
   "metadata": {},
   "outputs": [],
   "source": [
    "# Matcher class object \n",
    "matcher = Matcher(nlp.vocab) \n",
    "matcher.add(\"such_as\", [such_as]) \n",
    "matcher.add(\"and_other\", [and_other])\n",
    "matcher.add(\"including\", [including])\n",
    "matcher.add(\"especially\", [especially])"
   ]
  },
  {
   "cell_type": "code",
   "execution_count": 147,
   "id": "33fd4d79",
   "metadata": {},
   "outputs": [
    {
     "name": "stdout",
     "output_type": "stream",
     "text": [
      "developing countries such as Vietnam\n",
      "car and other vehicles\n",
      "car or other vehicles\n",
      "Eight people, including two children\n",
      "fruits, especially apples\n"
     ]
    }
   ],
   "source": [
    "sentences = [\n",
    "    \"GDP in developing countries such as Vietnam will continue growing at a high rate.\",\n",
    "    \"Here is how you can keep your car and other vehicles clean.\",\n",
    "    \"Here is how you can keep your car or other vehicles clean.\",\n",
    "    \"Eight people, including two children\",\n",
    "    \"A healthy eating pattern includes fruits, especially apples.\"\n",
    "]\n",
    "\n",
    "for sent in sentences:\n",
    "    doc = nlp(sent)\n",
    "\n",
    "    matches = matcher(doc)\n",
    "    if matches:\n",
    "    #     print(matches)\n",
    "        span = doc[matches[0][1]:matches[0][2]] \n",
    "        print(span.text)\n"
   ]
  },
  {
   "cell_type": "code",
   "execution_count": 149,
   "id": "fe07ad0e",
   "metadata": {},
   "outputs": [
    {
     "data": {
      "text/html": [
       "<span class=\"tex2jax_ignore\"><svg xmlns=\"http://www.w3.org/2000/svg\" xmlns:xlink=\"http://www.w3.org/1999/xlink\" xml:lang=\"en\" id=\"58302c73cacb4023a37aef11567c7015-0\" class=\"displacy\" width=\"1100\" height=\"399.5\" direction=\"ltr\" style=\"max-width: none; height: 399.5px; color: #000000; background: #ffffff; font-family: Arial; direction: ltr\">\n",
       "<text class=\"displacy-token\" fill=\"currentColor\" text-anchor=\"middle\" y=\"309.5\">\n",
       "    <tspan class=\"displacy-word\" fill=\"currentColor\" x=\"50\">Tableau</tspan>\n",
       "    <tspan class=\"displacy-tag\" dy=\"2em\" fill=\"currentColor\" x=\"50\">PROPN</tspan>\n",
       "</text>\n",
       "\n",
       "<text class=\"displacy-token\" fill=\"currentColor\" text-anchor=\"middle\" y=\"309.5\">\n",
       "    <tspan class=\"displacy-word\" fill=\"currentColor\" x=\"225\">was</tspan>\n",
       "    <tspan class=\"displacy-tag\" dy=\"2em\" fill=\"currentColor\" x=\"225\">AUX</tspan>\n",
       "</text>\n",
       "\n",
       "<text class=\"displacy-token\" fill=\"currentColor\" text-anchor=\"middle\" y=\"309.5\">\n",
       "    <tspan class=\"displacy-word\" fill=\"currentColor\" x=\"400\">recently</tspan>\n",
       "    <tspan class=\"displacy-tag\" dy=\"2em\" fill=\"currentColor\" x=\"400\">ADV</tspan>\n",
       "</text>\n",
       "\n",
       "<text class=\"displacy-token\" fill=\"currentColor\" text-anchor=\"middle\" y=\"309.5\">\n",
       "    <tspan class=\"displacy-word\" fill=\"currentColor\" x=\"575\">acquired</tspan>\n",
       "    <tspan class=\"displacy-tag\" dy=\"2em\" fill=\"currentColor\" x=\"575\">VERB</tspan>\n",
       "</text>\n",
       "\n",
       "<text class=\"displacy-token\" fill=\"currentColor\" text-anchor=\"middle\" y=\"309.5\">\n",
       "    <tspan class=\"displacy-word\" fill=\"currentColor\" x=\"750\">by</tspan>\n",
       "    <tspan class=\"displacy-tag\" dy=\"2em\" fill=\"currentColor\" x=\"750\">ADP</tspan>\n",
       "</text>\n",
       "\n",
       "<text class=\"displacy-token\" fill=\"currentColor\" text-anchor=\"middle\" y=\"309.5\">\n",
       "    <tspan class=\"displacy-word\" fill=\"currentColor\" x=\"925\">Salesforce.</tspan>\n",
       "    <tspan class=\"displacy-tag\" dy=\"2em\" fill=\"currentColor\" x=\"925\">PROPN</tspan>\n",
       "</text>\n",
       "\n",
       "<g class=\"displacy-arrow\">\n",
       "    <path class=\"displacy-arc\" id=\"arrow-58302c73cacb4023a37aef11567c7015-0-0\" stroke-width=\"2px\" d=\"M70,264.5 C70,2.0 575.0,2.0 575.0,264.5\" fill=\"none\" stroke=\"currentColor\"/>\n",
       "    <text dy=\"1.25em\" style=\"font-size: 0.8em; letter-spacing: 1px\">\n",
       "        <textPath xlink:href=\"#arrow-58302c73cacb4023a37aef11567c7015-0-0\" class=\"displacy-label\" startOffset=\"50%\" side=\"left\" fill=\"currentColor\" text-anchor=\"middle\">nsubjpass</textPath>\n",
       "    </text>\n",
       "    <path class=\"displacy-arrowhead\" d=\"M70,266.5 L62,254.5 78,254.5\" fill=\"currentColor\"/>\n",
       "</g>\n",
       "\n",
       "<g class=\"displacy-arrow\">\n",
       "    <path class=\"displacy-arc\" id=\"arrow-58302c73cacb4023a37aef11567c7015-0-1\" stroke-width=\"2px\" d=\"M245,264.5 C245,89.5 570.0,89.5 570.0,264.5\" fill=\"none\" stroke=\"currentColor\"/>\n",
       "    <text dy=\"1.25em\" style=\"font-size: 0.8em; letter-spacing: 1px\">\n",
       "        <textPath xlink:href=\"#arrow-58302c73cacb4023a37aef11567c7015-0-1\" class=\"displacy-label\" startOffset=\"50%\" side=\"left\" fill=\"currentColor\" text-anchor=\"middle\">auxpass</textPath>\n",
       "    </text>\n",
       "    <path class=\"displacy-arrowhead\" d=\"M245,266.5 L237,254.5 253,254.5\" fill=\"currentColor\"/>\n",
       "</g>\n",
       "\n",
       "<g class=\"displacy-arrow\">\n",
       "    <path class=\"displacy-arc\" id=\"arrow-58302c73cacb4023a37aef11567c7015-0-2\" stroke-width=\"2px\" d=\"M420,264.5 C420,177.0 565.0,177.0 565.0,264.5\" fill=\"none\" stroke=\"currentColor\"/>\n",
       "    <text dy=\"1.25em\" style=\"font-size: 0.8em; letter-spacing: 1px\">\n",
       "        <textPath xlink:href=\"#arrow-58302c73cacb4023a37aef11567c7015-0-2\" class=\"displacy-label\" startOffset=\"50%\" side=\"left\" fill=\"currentColor\" text-anchor=\"middle\">advmod</textPath>\n",
       "    </text>\n",
       "    <path class=\"displacy-arrowhead\" d=\"M420,266.5 L412,254.5 428,254.5\" fill=\"currentColor\"/>\n",
       "</g>\n",
       "\n",
       "<g class=\"displacy-arrow\">\n",
       "    <path class=\"displacy-arc\" id=\"arrow-58302c73cacb4023a37aef11567c7015-0-3\" stroke-width=\"2px\" d=\"M595,264.5 C595,177.0 740.0,177.0 740.0,264.5\" fill=\"none\" stroke=\"currentColor\"/>\n",
       "    <text dy=\"1.25em\" style=\"font-size: 0.8em; letter-spacing: 1px\">\n",
       "        <textPath xlink:href=\"#arrow-58302c73cacb4023a37aef11567c7015-0-3\" class=\"displacy-label\" startOffset=\"50%\" side=\"left\" fill=\"currentColor\" text-anchor=\"middle\">agent</textPath>\n",
       "    </text>\n",
       "    <path class=\"displacy-arrowhead\" d=\"M740.0,266.5 L748.0,254.5 732.0,254.5\" fill=\"currentColor\"/>\n",
       "</g>\n",
       "\n",
       "<g class=\"displacy-arrow\">\n",
       "    <path class=\"displacy-arc\" id=\"arrow-58302c73cacb4023a37aef11567c7015-0-4\" stroke-width=\"2px\" d=\"M770,264.5 C770,177.0 915.0,177.0 915.0,264.5\" fill=\"none\" stroke=\"currentColor\"/>\n",
       "    <text dy=\"1.25em\" style=\"font-size: 0.8em; letter-spacing: 1px\">\n",
       "        <textPath xlink:href=\"#arrow-58302c73cacb4023a37aef11567c7015-0-4\" class=\"displacy-label\" startOffset=\"50%\" side=\"left\" fill=\"currentColor\" text-anchor=\"middle\">pobj</textPath>\n",
       "    </text>\n",
       "    <path class=\"displacy-arrowhead\" d=\"M915.0,266.5 L923.0,254.5 907.0,254.5\" fill=\"currentColor\"/>\n",
       "</g>\n",
       "</svg></span>"
      ],
      "text/plain": [
       "<IPython.core.display.HTML object>"
      ]
     },
     "metadata": {},
     "output_type": "display_data"
    }
   ],
   "source": [
    "text = \"Tableau was recently acquired by Salesforce.\" \n",
    "\n",
    "# Plot the dependency graph \n",
    "doc = nlp(text) \n",
    "displacy.render(doc, style='dep')"
   ]
  },
  {
   "cell_type": "code",
   "execution_count": 208,
   "id": "dad1153b",
   "metadata": {},
   "outputs": [],
   "source": [
    "def is_passive(doc):\n",
    "    ''' Returns True if sentince is passive, else False '''\n",
    "    for i,tok in enumerate(doc):\n",
    "        if tok.dep_.endswith(\"subjpass\"):\n",
    "            return True\n",
    "    return False\n",
    "\n",
    "def subtree_matcher(doc):\n",
    "    x = y = z = ''\n",
    "\n",
    "    if is_passive(doc):\n",
    "        for i,tok in enumerate(doc):\n",
    "            if tok.dep_.endswith(\"subjpass\") == True:\n",
    "                z = tok\n",
    "                y = tok.head\n",
    "\n",
    "            if tok.dep_.endswith(\"obj\") == True:\n",
    "                x = tok\n",
    "\n",
    "    else:\n",
    "        for i,tok in enumerate(doc):\n",
    "            if tok.dep_.endswith(\"subj\") == True:\n",
    "                x = tok\n",
    "                y = tok.head\n",
    "\n",
    "            if tok.dep_.endswith(\"obj\") == True:\n",
    "                z = tok\n",
    "\n",
    "    return x, y, z"
   ]
  },
  {
   "cell_type": "code",
   "execution_count": null,
   "id": "47751ec0",
   "metadata": {},
   "outputs": [],
   "source": [
    "roberta_nlp = spacy.load(\"en_core_web_trf\")"
   ]
  },
  {
   "cell_type": "code",
   "execution_count": 216,
   "id": "31134844",
   "metadata": {
    "scrolled": false
   },
   "outputs": [
    {
     "name": "stdout",
     "output_type": "stream",
     "text": [
      "(Salesforce, acquired, Tableau)\n"
     ]
    },
    {
     "data": {
      "text/html": [
       "<span class=\"tex2jax_ignore\"><div class=\"entities\" style=\"line-height: 2.5; direction: ltr\">\n",
       "<mark class=\"entity\" style=\"background: #7aecec; padding: 0.45em 0.6em; margin: 0 0.25em; line-height: 1; border-radius: 0.35em;\">\n",
       "    Tableau\n",
       "    <span style=\"font-size: 0.8em; font-weight: bold; line-height: 1; border-radius: 0.35em; vertical-align: middle; margin-left: 0.5rem\">ORG</span>\n",
       "</mark>\n",
       " was recently acquired by \n",
       "<mark class=\"entity\" style=\"background: #7aecec; padding: 0.45em 0.6em; margin: 0 0.25em; line-height: 1; border-radius: 0.35em;\">\n",
       "    Salesforce\n",
       "    <span style=\"font-size: 0.8em; font-weight: bold; line-height: 1; border-radius: 0.35em; vertical-align: middle; margin-left: 0.5rem\">ORG</span>\n",
       "</mark>\n",
       ".</div></span>"
      ],
      "text/plain": [
       "<IPython.core.display.HTML object>"
      ]
     },
     "metadata": {},
     "output_type": "display_data"
    },
    {
     "name": "stdout",
     "output_type": "stream",
     "text": [
      "(Uber, acquired, Careem)\n"
     ]
    },
    {
     "data": {
      "text/html": [
       "<span class=\"tex2jax_ignore\"><div class=\"entities\" style=\"line-height: 2.5; direction: ltr\">\n",
       "<mark class=\"entity\" style=\"background: #7aecec; padding: 0.45em 0.6em; margin: 0 0.25em; line-height: 1; border-radius: 0.35em;\">\n",
       "    Careem\n",
       "    <span style=\"font-size: 0.8em; font-weight: bold; line-height: 1; border-radius: 0.35em; vertical-align: middle; margin-left: 0.5rem\">ORG</span>\n",
       "</mark>\n",
       ", a ride-hailing major in \n",
       "<mark class=\"entity\" style=\"background: #ff9561; padding: 0.45em 0.6em; margin: 0 0.25em; line-height: 1; border-radius: 0.35em;\">\n",
       "    the middle east\n",
       "    <span style=\"font-size: 0.8em; font-weight: bold; line-height: 1; border-radius: 0.35em; vertical-align: middle; margin-left: 0.5rem\">LOC</span>\n",
       "</mark>\n",
       ", was acquired by \n",
       "<mark class=\"entity\" style=\"background: #7aecec; padding: 0.45em 0.6em; margin: 0 0.25em; line-height: 1; border-radius: 0.35em;\">\n",
       "    Uber\n",
       "    <span style=\"font-size: 0.8em; font-weight: bold; line-height: 1; border-radius: 0.35em; vertical-align: middle; margin-left: 0.5rem\">ORG</span>\n",
       "</mark>\n",
       ".</div></span>"
      ],
      "text/plain": [
       "<IPython.core.display.HTML object>"
      ]
     },
     "metadata": {},
     "output_type": "display_data"
    },
    {
     "name": "stdout",
     "output_type": "stream",
     "text": [
      "(Salesforce, acquired, Tableau)\n"
     ]
    },
    {
     "data": {
      "text/html": [
       "<span class=\"tex2jax_ignore\"><div class=\"entities\" style=\"line-height: 2.5; direction: ltr\">\n",
       "<mark class=\"entity\" style=\"background: #7aecec; padding: 0.45em 0.6em; margin: 0 0.25em; line-height: 1; border-radius: 0.35em;\">\n",
       "    Salesforce\n",
       "    <span style=\"font-size: 0.8em; font-weight: bold; line-height: 1; border-radius: 0.35em; vertical-align: middle; margin-left: 0.5rem\">ORG</span>\n",
       "</mark>\n",
       " recently acquired \n",
       "<mark class=\"entity\" style=\"background: #7aecec; padding: 0.45em 0.6em; margin: 0 0.25em; line-height: 1; border-radius: 0.35em;\">\n",
       "    Tableau\n",
       "    <span style=\"font-size: 0.8em; font-weight: bold; line-height: 1; border-radius: 0.35em; vertical-align: middle; margin-left: 0.5rem\">ORG</span>\n",
       "</mark>\n",
       ".</div></span>"
      ],
      "text/plain": [
       "<IPython.core.display.HTML object>"
      ]
     },
     "metadata": {},
     "output_type": "display_data"
    },
    {
     "name": "stdout",
     "output_type": "stream",
     "text": [
      "(Salesforce, acquired, Tableau)\n"
     ]
    },
    {
     "data": {
      "text/html": [
       "<span class=\"tex2jax_ignore\"><div class=\"entities\" style=\"line-height: 2.5; direction: ltr\">\n",
       "<mark class=\"entity\" style=\"background: #7aecec; padding: 0.45em 0.6em; margin: 0 0.25em; line-height: 1; border-radius: 0.35em;\">\n",
       "    Tableau\n",
       "    <span style=\"font-size: 0.8em; font-weight: bold; line-height: 1; border-radius: 0.35em; vertical-align: middle; margin-left: 0.5rem\">ORG</span>\n",
       "</mark>\n",
       " was recently acquired by \n",
       "<mark class=\"entity\" style=\"background: #7aecec; padding: 0.45em 0.6em; margin: 0 0.25em; line-height: 1; border-radius: 0.35em;\">\n",
       "    Salesforce\n",
       "    <span style=\"font-size: 0.8em; font-weight: bold; line-height: 1; border-radius: 0.35em; vertical-align: middle; margin-left: 0.5rem\">ORG</span>\n",
       "</mark>\n",
       ".</div></span>"
      ],
      "text/plain": [
       "<IPython.core.display.HTML object>"
      ]
     },
     "metadata": {},
     "output_type": "display_data"
    },
    {
     "name": "stdout",
     "output_type": "stream",
     "text": [
      "(brain, taken, Rob)\n"
     ]
    },
    {
     "data": {
      "text/html": [
       "<span class=\"tex2jax_ignore\"><div class=\"entities\" style=\"line-height: 2.5; direction: ltr\">\n",
       "<mark class=\"entity\" style=\"background: #aa9cfc; padding: 0.45em 0.6em; margin: 0 0.25em; line-height: 1; border-radius: 0.35em;\">\n",
       "    Rob\n",
       "    <span style=\"font-size: 0.8em; font-weight: bold; line-height: 1; border-radius: 0.35em; vertical-align: middle; margin-left: 0.5rem\">PERSON</span>\n",
       "</mark>\n",
       " was taken aback by the sheer simplicity of \n",
       "<mark class=\"entity\" style=\"background: #aa9cfc; padding: 0.45em 0.6em; margin: 0 0.25em; line-height: 1; border-radius: 0.35em;\">\n",
       "    Anna\n",
       "    <span style=\"font-size: 0.8em; font-weight: bold; line-height: 1; border-radius: 0.35em; vertical-align: middle; margin-left: 0.5rem\">PERSON</span>\n",
       "</mark>\n",
       "'s brain</div></span>"
      ],
      "text/plain": [
       "<IPython.core.display.HTML object>"
      ]
     },
     "metadata": {},
     "output_type": "display_data"
    },
    {
     "name": "stdout",
     "output_type": "stream",
     "text": [
      "(Anna, taken, Rob)\n"
     ]
    },
    {
     "data": {
      "text/html": [
       "<span class=\"tex2jax_ignore\"><div class=\"entities\" style=\"line-height: 2.5; direction: ltr\">\n",
       "<mark class=\"entity\" style=\"background: #aa9cfc; padding: 0.45em 0.6em; margin: 0 0.25em; line-height: 1; border-radius: 0.35em;\">\n",
       "    Rob\n",
       "    <span style=\"font-size: 0.8em; font-weight: bold; line-height: 1; border-radius: 0.35em; vertical-align: middle; margin-left: 0.5rem\">PERSON</span>\n",
       "</mark>\n",
       " was taken aback by the sheer simplicity of \n",
       "<mark class=\"entity\" style=\"background: #aa9cfc; padding: 0.45em 0.6em; margin: 0 0.25em; line-height: 1; border-radius: 0.35em;\">\n",
       "    Anna\n",
       "    <span style=\"font-size: 0.8em; font-weight: bold; line-height: 1; border-radius: 0.35em; vertical-align: middle; margin-left: 0.5rem\">PERSON</span>\n",
       "</mark>\n",
       "</div></span>"
      ],
      "text/plain": [
       "<IPython.core.display.HTML object>"
      ]
     },
     "metadata": {},
     "output_type": "display_data"
    },
    {
     "name": "stdout",
     "output_type": "stream",
     "text": [
      "(it, taken, I)\n"
     ]
    },
    {
     "data": {
      "text/html": [
       "<span class=\"tex2jax_ignore\"><div class=\"entities\" style=\"line-height: 2.5; direction: ltr\">I was taken aback by the sheer simplicity of it</div></span>"
      ],
      "text/plain": [
       "<IPython.core.display.HTML object>"
      ]
     },
     "metadata": {},
     "output_type": "display_data"
    },
    {
     "name": "stdout",
     "output_type": "stream",
     "text": [
      "(simplicity, taken, I)\n"
     ]
    },
    {
     "data": {
      "text/html": [
       "<span class=\"tex2jax_ignore\"><div class=\"entities\" style=\"line-height: 2.5; direction: ltr\">I was taken aback by the sheer simplicity</div></span>"
      ],
      "text/plain": [
       "<IPython.core.display.HTML object>"
      ]
     },
     "metadata": {},
     "output_type": "display_data"
    },
    {
     "name": "stdout",
     "output_type": "stream",
     "text": [
      "(Who, knows, '')\n"
     ]
    },
    {
     "data": {
      "text/html": [
       "<span class=\"tex2jax_ignore\"><div class=\"entities\" style=\"line-height: 2.5; direction: ltr\">Who knows?</div></span>"
      ],
      "text/plain": [
       "<IPython.core.display.HTML object>"
      ]
     },
     "metadata": {},
     "output_type": "display_data"
    }
   ],
   "source": [
    "sentences = [\n",
    "    \"Tableau was recently acquired by Salesforce.\",\n",
    "    \"Careem, a ride-hailing major in the middle east, was acquired by Uber.\",\n",
    "    \"Salesforce recently acquired Tableau.\",\n",
    "    \"Tableau was recently acquired by Salesforce.\",\n",
    "    \"Rob was taken aback by the sheer simplicity of Anna's brain\",\n",
    "    \"Rob was taken aback by the sheer simplicity of Anna\",\n",
    "    \"I was taken aback by the sheer simplicity of it\",\n",
    "    \"I was taken aback by the sheer simplicity\",\n",
    "    \"Who knows?\"\n",
    "]\n",
    "\n",
    "for sent in sentences:\n",
    "    doc = roberta_nlp(sent)\n",
    "    print(subtree_matcher(doc))\n",
    "    displacy.render(doc, style='ent')"
   ]
  },
  {
   "cell_type": "code",
   "execution_count": 180,
   "id": "294267f3",
   "metadata": {},
   "outputs": [
    {
     "data": {
      "text/html": [
       "<span class=\"tex2jax_ignore\"><svg xmlns=\"http://www.w3.org/2000/svg\" xmlns:xlink=\"http://www.w3.org/1999/xlink\" xml:lang=\"en\" id=\"5eae2dc5346a474ab7a8f0a779bfb4b4-0\" class=\"displacy\" width=\"1800\" height=\"399.5\" direction=\"ltr\" style=\"max-width: none; height: 399.5px; color: #000000; background: #ffffff; font-family: Arial; direction: ltr\">\n",
       "<text class=\"displacy-token\" fill=\"currentColor\" text-anchor=\"middle\" y=\"309.5\">\n",
       "    <tspan class=\"displacy-word\" fill=\"currentColor\" x=\"50\">I</tspan>\n",
       "    <tspan class=\"displacy-tag\" dy=\"2em\" fill=\"currentColor\" x=\"50\">PRON</tspan>\n",
       "</text>\n",
       "\n",
       "<text class=\"displacy-token\" fill=\"currentColor\" text-anchor=\"middle\" y=\"309.5\">\n",
       "    <tspan class=\"displacy-word\" fill=\"currentColor\" x=\"225\">was</tspan>\n",
       "    <tspan class=\"displacy-tag\" dy=\"2em\" fill=\"currentColor\" x=\"225\">AUX</tspan>\n",
       "</text>\n",
       "\n",
       "<text class=\"displacy-token\" fill=\"currentColor\" text-anchor=\"middle\" y=\"309.5\">\n",
       "    <tspan class=\"displacy-word\" fill=\"currentColor\" x=\"400\">taken</tspan>\n",
       "    <tspan class=\"displacy-tag\" dy=\"2em\" fill=\"currentColor\" x=\"400\">VERB</tspan>\n",
       "</text>\n",
       "\n",
       "<text class=\"displacy-token\" fill=\"currentColor\" text-anchor=\"middle\" y=\"309.5\">\n",
       "    <tspan class=\"displacy-word\" fill=\"currentColor\" x=\"575\">aback</tspan>\n",
       "    <tspan class=\"displacy-tag\" dy=\"2em\" fill=\"currentColor\" x=\"575\">ADV</tspan>\n",
       "</text>\n",
       "\n",
       "<text class=\"displacy-token\" fill=\"currentColor\" text-anchor=\"middle\" y=\"309.5\">\n",
       "    <tspan class=\"displacy-word\" fill=\"currentColor\" x=\"750\">by</tspan>\n",
       "    <tspan class=\"displacy-tag\" dy=\"2em\" fill=\"currentColor\" x=\"750\">ADP</tspan>\n",
       "</text>\n",
       "\n",
       "<text class=\"displacy-token\" fill=\"currentColor\" text-anchor=\"middle\" y=\"309.5\">\n",
       "    <tspan class=\"displacy-word\" fill=\"currentColor\" x=\"925\">the</tspan>\n",
       "    <tspan class=\"displacy-tag\" dy=\"2em\" fill=\"currentColor\" x=\"925\">DET</tspan>\n",
       "</text>\n",
       "\n",
       "<text class=\"displacy-token\" fill=\"currentColor\" text-anchor=\"middle\" y=\"309.5\">\n",
       "    <tspan class=\"displacy-word\" fill=\"currentColor\" x=\"1100\">sheer</tspan>\n",
       "    <tspan class=\"displacy-tag\" dy=\"2em\" fill=\"currentColor\" x=\"1100\">ADJ</tspan>\n",
       "</text>\n",
       "\n",
       "<text class=\"displacy-token\" fill=\"currentColor\" text-anchor=\"middle\" y=\"309.5\">\n",
       "    <tspan class=\"displacy-word\" fill=\"currentColor\" x=\"1275\">simplicity</tspan>\n",
       "    <tspan class=\"displacy-tag\" dy=\"2em\" fill=\"currentColor\" x=\"1275\">NOUN</tspan>\n",
       "</text>\n",
       "\n",
       "<text class=\"displacy-token\" fill=\"currentColor\" text-anchor=\"middle\" y=\"309.5\">\n",
       "    <tspan class=\"displacy-word\" fill=\"currentColor\" x=\"1450\">of</tspan>\n",
       "    <tspan class=\"displacy-tag\" dy=\"2em\" fill=\"currentColor\" x=\"1450\">ADP</tspan>\n",
       "</text>\n",
       "\n",
       "<text class=\"displacy-token\" fill=\"currentColor\" text-anchor=\"middle\" y=\"309.5\">\n",
       "    <tspan class=\"displacy-word\" fill=\"currentColor\" x=\"1625\">it</tspan>\n",
       "    <tspan class=\"displacy-tag\" dy=\"2em\" fill=\"currentColor\" x=\"1625\">PRON</tspan>\n",
       "</text>\n",
       "\n",
       "<g class=\"displacy-arrow\">\n",
       "    <path class=\"displacy-arc\" id=\"arrow-5eae2dc5346a474ab7a8f0a779bfb4b4-0-0\" stroke-width=\"2px\" d=\"M70,264.5 C70,89.5 395.0,89.5 395.0,264.5\" fill=\"none\" stroke=\"currentColor\"/>\n",
       "    <text dy=\"1.25em\" style=\"font-size: 0.8em; letter-spacing: 1px\">\n",
       "        <textPath xlink:href=\"#arrow-5eae2dc5346a474ab7a8f0a779bfb4b4-0-0\" class=\"displacy-label\" startOffset=\"50%\" side=\"left\" fill=\"currentColor\" text-anchor=\"middle\">nsubjpass</textPath>\n",
       "    </text>\n",
       "    <path class=\"displacy-arrowhead\" d=\"M70,266.5 L62,254.5 78,254.5\" fill=\"currentColor\"/>\n",
       "</g>\n",
       "\n",
       "<g class=\"displacy-arrow\">\n",
       "    <path class=\"displacy-arc\" id=\"arrow-5eae2dc5346a474ab7a8f0a779bfb4b4-0-1\" stroke-width=\"2px\" d=\"M245,264.5 C245,177.0 390.0,177.0 390.0,264.5\" fill=\"none\" stroke=\"currentColor\"/>\n",
       "    <text dy=\"1.25em\" style=\"font-size: 0.8em; letter-spacing: 1px\">\n",
       "        <textPath xlink:href=\"#arrow-5eae2dc5346a474ab7a8f0a779bfb4b4-0-1\" class=\"displacy-label\" startOffset=\"50%\" side=\"left\" fill=\"currentColor\" text-anchor=\"middle\">auxpass</textPath>\n",
       "    </text>\n",
       "    <path class=\"displacy-arrowhead\" d=\"M245,266.5 L237,254.5 253,254.5\" fill=\"currentColor\"/>\n",
       "</g>\n",
       "\n",
       "<g class=\"displacy-arrow\">\n",
       "    <path class=\"displacy-arc\" id=\"arrow-5eae2dc5346a474ab7a8f0a779bfb4b4-0-2\" stroke-width=\"2px\" d=\"M420,264.5 C420,177.0 565.0,177.0 565.0,264.5\" fill=\"none\" stroke=\"currentColor\"/>\n",
       "    <text dy=\"1.25em\" style=\"font-size: 0.8em; letter-spacing: 1px\">\n",
       "        <textPath xlink:href=\"#arrow-5eae2dc5346a474ab7a8f0a779bfb4b4-0-2\" class=\"displacy-label\" startOffset=\"50%\" side=\"left\" fill=\"currentColor\" text-anchor=\"middle\">advmod</textPath>\n",
       "    </text>\n",
       "    <path class=\"displacy-arrowhead\" d=\"M565.0,266.5 L573.0,254.5 557.0,254.5\" fill=\"currentColor\"/>\n",
       "</g>\n",
       "\n",
       "<g class=\"displacy-arrow\">\n",
       "    <path class=\"displacy-arc\" id=\"arrow-5eae2dc5346a474ab7a8f0a779bfb4b4-0-3\" stroke-width=\"2px\" d=\"M420,264.5 C420,89.5 745.0,89.5 745.0,264.5\" fill=\"none\" stroke=\"currentColor\"/>\n",
       "    <text dy=\"1.25em\" style=\"font-size: 0.8em; letter-spacing: 1px\">\n",
       "        <textPath xlink:href=\"#arrow-5eae2dc5346a474ab7a8f0a779bfb4b4-0-3\" class=\"displacy-label\" startOffset=\"50%\" side=\"left\" fill=\"currentColor\" text-anchor=\"middle\">agent</textPath>\n",
       "    </text>\n",
       "    <path class=\"displacy-arrowhead\" d=\"M745.0,266.5 L753.0,254.5 737.0,254.5\" fill=\"currentColor\"/>\n",
       "</g>\n",
       "\n",
       "<g class=\"displacy-arrow\">\n",
       "    <path class=\"displacy-arc\" id=\"arrow-5eae2dc5346a474ab7a8f0a779bfb4b4-0-4\" stroke-width=\"2px\" d=\"M945,264.5 C945,89.5 1270.0,89.5 1270.0,264.5\" fill=\"none\" stroke=\"currentColor\"/>\n",
       "    <text dy=\"1.25em\" style=\"font-size: 0.8em; letter-spacing: 1px\">\n",
       "        <textPath xlink:href=\"#arrow-5eae2dc5346a474ab7a8f0a779bfb4b4-0-4\" class=\"displacy-label\" startOffset=\"50%\" side=\"left\" fill=\"currentColor\" text-anchor=\"middle\">det</textPath>\n",
       "    </text>\n",
       "    <path class=\"displacy-arrowhead\" d=\"M945,266.5 L937,254.5 953,254.5\" fill=\"currentColor\"/>\n",
       "</g>\n",
       "\n",
       "<g class=\"displacy-arrow\">\n",
       "    <path class=\"displacy-arc\" id=\"arrow-5eae2dc5346a474ab7a8f0a779bfb4b4-0-5\" stroke-width=\"2px\" d=\"M1120,264.5 C1120,177.0 1265.0,177.0 1265.0,264.5\" fill=\"none\" stroke=\"currentColor\"/>\n",
       "    <text dy=\"1.25em\" style=\"font-size: 0.8em; letter-spacing: 1px\">\n",
       "        <textPath xlink:href=\"#arrow-5eae2dc5346a474ab7a8f0a779bfb4b4-0-5\" class=\"displacy-label\" startOffset=\"50%\" side=\"left\" fill=\"currentColor\" text-anchor=\"middle\">amod</textPath>\n",
       "    </text>\n",
       "    <path class=\"displacy-arrowhead\" d=\"M1120,266.5 L1112,254.5 1128,254.5\" fill=\"currentColor\"/>\n",
       "</g>\n",
       "\n",
       "<g class=\"displacy-arrow\">\n",
       "    <path class=\"displacy-arc\" id=\"arrow-5eae2dc5346a474ab7a8f0a779bfb4b4-0-6\" stroke-width=\"2px\" d=\"M770,264.5 C770,2.0 1275.0,2.0 1275.0,264.5\" fill=\"none\" stroke=\"currentColor\"/>\n",
       "    <text dy=\"1.25em\" style=\"font-size: 0.8em; letter-spacing: 1px\">\n",
       "        <textPath xlink:href=\"#arrow-5eae2dc5346a474ab7a8f0a779bfb4b4-0-6\" class=\"displacy-label\" startOffset=\"50%\" side=\"left\" fill=\"currentColor\" text-anchor=\"middle\">pobj</textPath>\n",
       "    </text>\n",
       "    <path class=\"displacy-arrowhead\" d=\"M1275.0,266.5 L1283.0,254.5 1267.0,254.5\" fill=\"currentColor\"/>\n",
       "</g>\n",
       "\n",
       "<g class=\"displacy-arrow\">\n",
       "    <path class=\"displacy-arc\" id=\"arrow-5eae2dc5346a474ab7a8f0a779bfb4b4-0-7\" stroke-width=\"2px\" d=\"M1295,264.5 C1295,177.0 1440.0,177.0 1440.0,264.5\" fill=\"none\" stroke=\"currentColor\"/>\n",
       "    <text dy=\"1.25em\" style=\"font-size: 0.8em; letter-spacing: 1px\">\n",
       "        <textPath xlink:href=\"#arrow-5eae2dc5346a474ab7a8f0a779bfb4b4-0-7\" class=\"displacy-label\" startOffset=\"50%\" side=\"left\" fill=\"currentColor\" text-anchor=\"middle\">prep</textPath>\n",
       "    </text>\n",
       "    <path class=\"displacy-arrowhead\" d=\"M1440.0,266.5 L1448.0,254.5 1432.0,254.5\" fill=\"currentColor\"/>\n",
       "</g>\n",
       "\n",
       "<g class=\"displacy-arrow\">\n",
       "    <path class=\"displacy-arc\" id=\"arrow-5eae2dc5346a474ab7a8f0a779bfb4b4-0-8\" stroke-width=\"2px\" d=\"M1470,264.5 C1470,177.0 1615.0,177.0 1615.0,264.5\" fill=\"none\" stroke=\"currentColor\"/>\n",
       "    <text dy=\"1.25em\" style=\"font-size: 0.8em; letter-spacing: 1px\">\n",
       "        <textPath xlink:href=\"#arrow-5eae2dc5346a474ab7a8f0a779bfb4b4-0-8\" class=\"displacy-label\" startOffset=\"50%\" side=\"left\" fill=\"currentColor\" text-anchor=\"middle\">pobj</textPath>\n",
       "    </text>\n",
       "    <path class=\"displacy-arrowhead\" d=\"M1615.0,266.5 L1623.0,254.5 1607.0,254.5\" fill=\"currentColor\"/>\n",
       "</g>\n",
       "</svg></span>"
      ],
      "text/plain": [
       "<IPython.core.display.HTML object>"
      ]
     },
     "metadata": {},
     "output_type": "display_data"
    }
   ],
   "source": [
    "displacy.render(nlp(\"I was taken aback by the sheer simplicity of it\"))"
   ]
  },
  {
   "cell_type": "code",
   "execution_count": 181,
   "id": "0ddf5180",
   "metadata": {},
   "outputs": [
    {
     "data": {
      "text/html": [
       "<span class=\"tex2jax_ignore\"><svg xmlns=\"http://www.w3.org/2000/svg\" xmlns:xlink=\"http://www.w3.org/1999/xlink\" xml:lang=\"en\" id=\"9c5cbf5c586343e0ad019f0c307e2d7d-0\" class=\"displacy\" width=\"1450\" height=\"399.5\" direction=\"ltr\" style=\"max-width: none; height: 399.5px; color: #000000; background: #ffffff; font-family: Arial; direction: ltr\">\n",
       "<text class=\"displacy-token\" fill=\"currentColor\" text-anchor=\"middle\" y=\"309.5\">\n",
       "    <tspan class=\"displacy-word\" fill=\"currentColor\" x=\"50\">I</tspan>\n",
       "    <tspan class=\"displacy-tag\" dy=\"2em\" fill=\"currentColor\" x=\"50\">PRON</tspan>\n",
       "</text>\n",
       "\n",
       "<text class=\"displacy-token\" fill=\"currentColor\" text-anchor=\"middle\" y=\"309.5\">\n",
       "    <tspan class=\"displacy-word\" fill=\"currentColor\" x=\"225\">was</tspan>\n",
       "    <tspan class=\"displacy-tag\" dy=\"2em\" fill=\"currentColor\" x=\"225\">AUX</tspan>\n",
       "</text>\n",
       "\n",
       "<text class=\"displacy-token\" fill=\"currentColor\" text-anchor=\"middle\" y=\"309.5\">\n",
       "    <tspan class=\"displacy-word\" fill=\"currentColor\" x=\"400\">taken</tspan>\n",
       "    <tspan class=\"displacy-tag\" dy=\"2em\" fill=\"currentColor\" x=\"400\">VERB</tspan>\n",
       "</text>\n",
       "\n",
       "<text class=\"displacy-token\" fill=\"currentColor\" text-anchor=\"middle\" y=\"309.5\">\n",
       "    <tspan class=\"displacy-word\" fill=\"currentColor\" x=\"575\">aback</tspan>\n",
       "    <tspan class=\"displacy-tag\" dy=\"2em\" fill=\"currentColor\" x=\"575\">ADV</tspan>\n",
       "</text>\n",
       "\n",
       "<text class=\"displacy-token\" fill=\"currentColor\" text-anchor=\"middle\" y=\"309.5\">\n",
       "    <tspan class=\"displacy-word\" fill=\"currentColor\" x=\"750\">by</tspan>\n",
       "    <tspan class=\"displacy-tag\" dy=\"2em\" fill=\"currentColor\" x=\"750\">ADP</tspan>\n",
       "</text>\n",
       "\n",
       "<text class=\"displacy-token\" fill=\"currentColor\" text-anchor=\"middle\" y=\"309.5\">\n",
       "    <tspan class=\"displacy-word\" fill=\"currentColor\" x=\"925\">the</tspan>\n",
       "    <tspan class=\"displacy-tag\" dy=\"2em\" fill=\"currentColor\" x=\"925\">DET</tspan>\n",
       "</text>\n",
       "\n",
       "<text class=\"displacy-token\" fill=\"currentColor\" text-anchor=\"middle\" y=\"309.5\">\n",
       "    <tspan class=\"displacy-word\" fill=\"currentColor\" x=\"1100\">sheer</tspan>\n",
       "    <tspan class=\"displacy-tag\" dy=\"2em\" fill=\"currentColor\" x=\"1100\">ADJ</tspan>\n",
       "</text>\n",
       "\n",
       "<text class=\"displacy-token\" fill=\"currentColor\" text-anchor=\"middle\" y=\"309.5\">\n",
       "    <tspan class=\"displacy-word\" fill=\"currentColor\" x=\"1275\">simplicity</tspan>\n",
       "    <tspan class=\"displacy-tag\" dy=\"2em\" fill=\"currentColor\" x=\"1275\">NOUN</tspan>\n",
       "</text>\n",
       "\n",
       "<g class=\"displacy-arrow\">\n",
       "    <path class=\"displacy-arc\" id=\"arrow-9c5cbf5c586343e0ad019f0c307e2d7d-0-0\" stroke-width=\"2px\" d=\"M70,264.5 C70,89.5 395.0,89.5 395.0,264.5\" fill=\"none\" stroke=\"currentColor\"/>\n",
       "    <text dy=\"1.25em\" style=\"font-size: 0.8em; letter-spacing: 1px\">\n",
       "        <textPath xlink:href=\"#arrow-9c5cbf5c586343e0ad019f0c307e2d7d-0-0\" class=\"displacy-label\" startOffset=\"50%\" side=\"left\" fill=\"currentColor\" text-anchor=\"middle\">nsubjpass</textPath>\n",
       "    </text>\n",
       "    <path class=\"displacy-arrowhead\" d=\"M70,266.5 L62,254.5 78,254.5\" fill=\"currentColor\"/>\n",
       "</g>\n",
       "\n",
       "<g class=\"displacy-arrow\">\n",
       "    <path class=\"displacy-arc\" id=\"arrow-9c5cbf5c586343e0ad019f0c307e2d7d-0-1\" stroke-width=\"2px\" d=\"M245,264.5 C245,177.0 390.0,177.0 390.0,264.5\" fill=\"none\" stroke=\"currentColor\"/>\n",
       "    <text dy=\"1.25em\" style=\"font-size: 0.8em; letter-spacing: 1px\">\n",
       "        <textPath xlink:href=\"#arrow-9c5cbf5c586343e0ad019f0c307e2d7d-0-1\" class=\"displacy-label\" startOffset=\"50%\" side=\"left\" fill=\"currentColor\" text-anchor=\"middle\">auxpass</textPath>\n",
       "    </text>\n",
       "    <path class=\"displacy-arrowhead\" d=\"M245,266.5 L237,254.5 253,254.5\" fill=\"currentColor\"/>\n",
       "</g>\n",
       "\n",
       "<g class=\"displacy-arrow\">\n",
       "    <path class=\"displacy-arc\" id=\"arrow-9c5cbf5c586343e0ad019f0c307e2d7d-0-2\" stroke-width=\"2px\" d=\"M420,264.5 C420,177.0 565.0,177.0 565.0,264.5\" fill=\"none\" stroke=\"currentColor\"/>\n",
       "    <text dy=\"1.25em\" style=\"font-size: 0.8em; letter-spacing: 1px\">\n",
       "        <textPath xlink:href=\"#arrow-9c5cbf5c586343e0ad019f0c307e2d7d-0-2\" class=\"displacy-label\" startOffset=\"50%\" side=\"left\" fill=\"currentColor\" text-anchor=\"middle\">advmod</textPath>\n",
       "    </text>\n",
       "    <path class=\"displacy-arrowhead\" d=\"M565.0,266.5 L573.0,254.5 557.0,254.5\" fill=\"currentColor\"/>\n",
       "</g>\n",
       "\n",
       "<g class=\"displacy-arrow\">\n",
       "    <path class=\"displacy-arc\" id=\"arrow-9c5cbf5c586343e0ad019f0c307e2d7d-0-3\" stroke-width=\"2px\" d=\"M420,264.5 C420,89.5 745.0,89.5 745.0,264.5\" fill=\"none\" stroke=\"currentColor\"/>\n",
       "    <text dy=\"1.25em\" style=\"font-size: 0.8em; letter-spacing: 1px\">\n",
       "        <textPath xlink:href=\"#arrow-9c5cbf5c586343e0ad019f0c307e2d7d-0-3\" class=\"displacy-label\" startOffset=\"50%\" side=\"left\" fill=\"currentColor\" text-anchor=\"middle\">agent</textPath>\n",
       "    </text>\n",
       "    <path class=\"displacy-arrowhead\" d=\"M745.0,266.5 L753.0,254.5 737.0,254.5\" fill=\"currentColor\"/>\n",
       "</g>\n",
       "\n",
       "<g class=\"displacy-arrow\">\n",
       "    <path class=\"displacy-arc\" id=\"arrow-9c5cbf5c586343e0ad019f0c307e2d7d-0-4\" stroke-width=\"2px\" d=\"M945,264.5 C945,89.5 1270.0,89.5 1270.0,264.5\" fill=\"none\" stroke=\"currentColor\"/>\n",
       "    <text dy=\"1.25em\" style=\"font-size: 0.8em; letter-spacing: 1px\">\n",
       "        <textPath xlink:href=\"#arrow-9c5cbf5c586343e0ad019f0c307e2d7d-0-4\" class=\"displacy-label\" startOffset=\"50%\" side=\"left\" fill=\"currentColor\" text-anchor=\"middle\">det</textPath>\n",
       "    </text>\n",
       "    <path class=\"displacy-arrowhead\" d=\"M945,266.5 L937,254.5 953,254.5\" fill=\"currentColor\"/>\n",
       "</g>\n",
       "\n",
       "<g class=\"displacy-arrow\">\n",
       "    <path class=\"displacy-arc\" id=\"arrow-9c5cbf5c586343e0ad019f0c307e2d7d-0-5\" stroke-width=\"2px\" d=\"M1120,264.5 C1120,177.0 1265.0,177.0 1265.0,264.5\" fill=\"none\" stroke=\"currentColor\"/>\n",
       "    <text dy=\"1.25em\" style=\"font-size: 0.8em; letter-spacing: 1px\">\n",
       "        <textPath xlink:href=\"#arrow-9c5cbf5c586343e0ad019f0c307e2d7d-0-5\" class=\"displacy-label\" startOffset=\"50%\" side=\"left\" fill=\"currentColor\" text-anchor=\"middle\">amod</textPath>\n",
       "    </text>\n",
       "    <path class=\"displacy-arrowhead\" d=\"M1120,266.5 L1112,254.5 1128,254.5\" fill=\"currentColor\"/>\n",
       "</g>\n",
       "\n",
       "<g class=\"displacy-arrow\">\n",
       "    <path class=\"displacy-arc\" id=\"arrow-9c5cbf5c586343e0ad019f0c307e2d7d-0-6\" stroke-width=\"2px\" d=\"M770,264.5 C770,2.0 1275.0,2.0 1275.0,264.5\" fill=\"none\" stroke=\"currentColor\"/>\n",
       "    <text dy=\"1.25em\" style=\"font-size: 0.8em; letter-spacing: 1px\">\n",
       "        <textPath xlink:href=\"#arrow-9c5cbf5c586343e0ad019f0c307e2d7d-0-6\" class=\"displacy-label\" startOffset=\"50%\" side=\"left\" fill=\"currentColor\" text-anchor=\"middle\">pobj</textPath>\n",
       "    </text>\n",
       "    <path class=\"displacy-arrowhead\" d=\"M1275.0,266.5 L1283.0,254.5 1267.0,254.5\" fill=\"currentColor\"/>\n",
       "</g>\n",
       "</svg></span>"
      ],
      "text/plain": [
       "<IPython.core.display.HTML object>"
      ]
     },
     "metadata": {},
     "output_type": "display_data"
    }
   ],
   "source": [
    "displacy.render(nlp(\"I was taken aback by the sheer simplicity\"))"
   ]
  },
  {
   "cell_type": "code",
   "execution_count": 187,
   "id": "2dc9a31a",
   "metadata": {},
   "outputs": [],
   "source": [
    "def print_entities(pipeline, text):\n",
    "    \n",
    "    # Create a document \n",
    "    document = pipeline(text)\n",
    "    \n",
    "    # Entity text & label extraction\n",
    "    for entity in document.ents:\n",
    "        print(entity.text + '->', entity.label_)\n",
    "        \n",
    "        \n",
    "def visualize_entities(pipeline, text):\n",
    "    \n",
    "    # Create a document \n",
    "    document = pipeline(text)\n",
    "        \n",
    "    # Show entities in pretty manner\n",
    "    displacy.render(document, jupyter=True, style='ent')"
   ]
  },
  {
   "cell_type": "code",
   "execution_count": 188,
   "id": "a11d6507",
   "metadata": {},
   "outputs": [],
   "source": [
    "short_text = \"\"\"Amy Schneider, an engineering manager from Oakland, California, became the first woman and the fourth person on “Jeopardy!” to earn more than $1 million in winnings on Friday’s episode.\"\"\"\n",
    "\n",
    "long_text = \"\"\"Good news for consumers, undoubtedly, and good news also for investors. Apple’s recent results, covering the three months to December 31 2016, saw the company’s chief financial officer Luca Maestri announce: ‘We returned nearly $15 billion to investors through share re-purchases and dividends during the quarter.’ The quarterly dividend itself was 57 cents a share, identical to the dividend for the previous three quarters and up on the 52 cents paid for each of the four quarters before that.\n",
    "Business is brisk at Apple. On January 31, Tim Cook, Apple’s chief executive, said of the last three months of 2016: ‘We’re thrilled to report that our holiday quarter results generated Apple’s highest quarterly revenue ever, and broke multiple records along the way. We sold more iPhones than ever before and set all-time revenue records for iPhone, Services, Mac and Apple Watch\"\"\"\n"
   ]
  },
  {
   "cell_type": "code",
   "execution_count": 189,
   "id": "9e78201a",
   "metadata": {},
   "outputs": [],
   "source": [
    "nlp_sm = spacy.load(\"en_core_web_sm\")\n",
    "nlp_lg = spacy.load(\"en_core_web_lg\")\n",
    "roberta_nlp = spacy.load(\"en_core_web_trf\")"
   ]
  },
  {
   "cell_type": "code",
   "execution_count": 196,
   "id": "3d37b79c",
   "metadata": {},
   "outputs": [
    {
     "data": {
      "text/html": [
       "<span class=\"tex2jax_ignore\"><div class=\"entities\" style=\"line-height: 2.5; direction: ltr\">Good news for consumers, undoubtedly, and good news also for investors. \n",
       "<mark class=\"entity\" style=\"background: #7aecec; padding: 0.45em 0.6em; margin: 0 0.25em; line-height: 1; border-radius: 0.35em;\">\n",
       "    Apple\n",
       "    <span style=\"font-size: 0.8em; font-weight: bold; line-height: 1; border-radius: 0.35em; vertical-align: middle; margin-left: 0.5rem\">ORG</span>\n",
       "</mark>\n",
       "’s recent results, covering \n",
       "<mark class=\"entity\" style=\"background: #bfe1d9; padding: 0.45em 0.6em; margin: 0 0.25em; line-height: 1; border-radius: 0.35em;\">\n",
       "    the three months to December 31 2016\n",
       "    <span style=\"font-size: 0.8em; font-weight: bold; line-height: 1; border-radius: 0.35em; vertical-align: middle; margin-left: 0.5rem\">DATE</span>\n",
       "</mark>\n",
       ", saw the company’s chief financial officer \n",
       "<mark class=\"entity\" style=\"background: #aa9cfc; padding: 0.45em 0.6em; margin: 0 0.25em; line-height: 1; border-radius: 0.35em;\">\n",
       "    Luca Maestri\n",
       "    <span style=\"font-size: 0.8em; font-weight: bold; line-height: 1; border-radius: 0.35em; vertical-align: middle; margin-left: 0.5rem\">PERSON</span>\n",
       "</mark>\n",
       " announce: ‘We returned \n",
       "<mark class=\"entity\" style=\"background: #e4e7d2; padding: 0.45em 0.6em; margin: 0 0.25em; line-height: 1; border-radius: 0.35em;\">\n",
       "    nearly $15 billion\n",
       "    <span style=\"font-size: 0.8em; font-weight: bold; line-height: 1; border-radius: 0.35em; vertical-align: middle; margin-left: 0.5rem\">MONEY</span>\n",
       "</mark>\n",
       " to investors through share re-purchases and dividends during \n",
       "<mark class=\"entity\" style=\"background: #bfe1d9; padding: 0.45em 0.6em; margin: 0 0.25em; line-height: 1; border-radius: 0.35em;\">\n",
       "    the quarter\n",
       "    <span style=\"font-size: 0.8em; font-weight: bold; line-height: 1; border-radius: 0.35em; vertical-align: middle; margin-left: 0.5rem\">DATE</span>\n",
       "</mark>\n",
       ".’ The \n",
       "<mark class=\"entity\" style=\"background: #bfe1d9; padding: 0.45em 0.6em; margin: 0 0.25em; line-height: 1; border-radius: 0.35em;\">\n",
       "    quarterly\n",
       "    <span style=\"font-size: 0.8em; font-weight: bold; line-height: 1; border-radius: 0.35em; vertical-align: middle; margin-left: 0.5rem\">DATE</span>\n",
       "</mark>\n",
       " dividend itself was \n",
       "<mark class=\"entity\" style=\"background: #e4e7d2; padding: 0.45em 0.6em; margin: 0 0.25em; line-height: 1; border-radius: 0.35em;\">\n",
       "    57 cents\n",
       "    <span style=\"font-size: 0.8em; font-weight: bold; line-height: 1; border-radius: 0.35em; vertical-align: middle; margin-left: 0.5rem\">MONEY</span>\n",
       "</mark>\n",
       " a share, identical to the dividend for \n",
       "<mark class=\"entity\" style=\"background: #bfe1d9; padding: 0.45em 0.6em; margin: 0 0.25em; line-height: 1; border-radius: 0.35em;\">\n",
       "    the previous three quarters\n",
       "    <span style=\"font-size: 0.8em; font-weight: bold; line-height: 1; border-radius: 0.35em; vertical-align: middle; margin-left: 0.5rem\">DATE</span>\n",
       "</mark>\n",
       " and up on the \n",
       "<mark class=\"entity\" style=\"background: #e4e7d2; padding: 0.45em 0.6em; margin: 0 0.25em; line-height: 1; border-radius: 0.35em;\">\n",
       "    52 cents\n",
       "    <span style=\"font-size: 0.8em; font-weight: bold; line-height: 1; border-radius: 0.35em; vertical-align: middle; margin-left: 0.5rem\">MONEY</span>\n",
       "</mark>\n",
       " paid for each of \n",
       "<mark class=\"entity\" style=\"background: #bfe1d9; padding: 0.45em 0.6em; margin: 0 0.25em; line-height: 1; border-radius: 0.35em;\">\n",
       "    the four quarters\n",
       "    <span style=\"font-size: 0.8em; font-weight: bold; line-height: 1; border-radius: 0.35em; vertical-align: middle; margin-left: 0.5rem\">DATE</span>\n",
       "</mark>\n",
       " before that.</br>Business is brisk at \n",
       "<mark class=\"entity\" style=\"background: #7aecec; padding: 0.45em 0.6em; margin: 0 0.25em; line-height: 1; border-radius: 0.35em;\">\n",
       "    Apple\n",
       "    <span style=\"font-size: 0.8em; font-weight: bold; line-height: 1; border-radius: 0.35em; vertical-align: middle; margin-left: 0.5rem\">ORG</span>\n",
       "</mark>\n",
       ". On \n",
       "<mark class=\"entity\" style=\"background: #bfe1d9; padding: 0.45em 0.6em; margin: 0 0.25em; line-height: 1; border-radius: 0.35em;\">\n",
       "    January 31\n",
       "    <span style=\"font-size: 0.8em; font-weight: bold; line-height: 1; border-radius: 0.35em; vertical-align: middle; margin-left: 0.5rem\">DATE</span>\n",
       "</mark>\n",
       ", \n",
       "<mark class=\"entity\" style=\"background: #aa9cfc; padding: 0.45em 0.6em; margin: 0 0.25em; line-height: 1; border-radius: 0.35em;\">\n",
       "    Tim Cook\n",
       "    <span style=\"font-size: 0.8em; font-weight: bold; line-height: 1; border-radius: 0.35em; vertical-align: middle; margin-left: 0.5rem\">PERSON</span>\n",
       "</mark>\n",
       ", \n",
       "<mark class=\"entity\" style=\"background: #7aecec; padding: 0.45em 0.6em; margin: 0 0.25em; line-height: 1; border-radius: 0.35em;\">\n",
       "    Apple\n",
       "    <span style=\"font-size: 0.8em; font-weight: bold; line-height: 1; border-radius: 0.35em; vertical-align: middle; margin-left: 0.5rem\">ORG</span>\n",
       "</mark>\n",
       "’s chief executive, said of \n",
       "<mark class=\"entity\" style=\"background: #bfe1d9; padding: 0.45em 0.6em; margin: 0 0.25em; line-height: 1; border-radius: 0.35em;\">\n",
       "    the last three months of 2016\n",
       "    <span style=\"font-size: 0.8em; font-weight: bold; line-height: 1; border-radius: 0.35em; vertical-align: middle; margin-left: 0.5rem\">DATE</span>\n",
       "</mark>\n",
       ": ‘We’re thrilled to report that \n",
       "<mark class=\"entity\" style=\"background: #bfe1d9; padding: 0.45em 0.6em; margin: 0 0.25em; line-height: 1; border-radius: 0.35em;\">\n",
       "    our holiday quarter\n",
       "    <span style=\"font-size: 0.8em; font-weight: bold; line-height: 1; border-radius: 0.35em; vertical-align: middle; margin-left: 0.5rem\">DATE</span>\n",
       "</mark>\n",
       " results generated \n",
       "<mark class=\"entity\" style=\"background: #7aecec; padding: 0.45em 0.6em; margin: 0 0.25em; line-height: 1; border-radius: 0.35em;\">\n",
       "    Apple\n",
       "    <span style=\"font-size: 0.8em; font-weight: bold; line-height: 1; border-radius: 0.35em; vertical-align: middle; margin-left: 0.5rem\">ORG</span>\n",
       "</mark>\n",
       "’s highest \n",
       "<mark class=\"entity\" style=\"background: #bfe1d9; padding: 0.45em 0.6em; margin: 0 0.25em; line-height: 1; border-radius: 0.35em;\">\n",
       "    quarterly\n",
       "    <span style=\"font-size: 0.8em; font-weight: bold; line-height: 1; border-radius: 0.35em; vertical-align: middle; margin-left: 0.5rem\">DATE</span>\n",
       "</mark>\n",
       " revenue ever, and broke multiple records along the way. We sold more \n",
       "<mark class=\"entity\" style=\"background: #7aecec; padding: 0.45em 0.6em; margin: 0 0.25em; line-height: 1; border-radius: 0.35em;\">\n",
       "    iPhones\n",
       "    <span style=\"font-size: 0.8em; font-weight: bold; line-height: 1; border-radius: 0.35em; vertical-align: middle; margin-left: 0.5rem\">ORG</span>\n",
       "</mark>\n",
       " than ever before and set all-time revenue records for \n",
       "<mark class=\"entity\" style=\"background: #7aecec; padding: 0.45em 0.6em; margin: 0 0.25em; line-height: 1; border-radius: 0.35em;\">\n",
       "    iPhone\n",
       "    <span style=\"font-size: 0.8em; font-weight: bold; line-height: 1; border-radius: 0.35em; vertical-align: middle; margin-left: 0.5rem\">ORG</span>\n",
       "</mark>\n",
       ", Services, Mac and Apple Watch</div></span>"
      ],
      "text/plain": [
       "<IPython.core.display.HTML object>"
      ]
     },
     "metadata": {},
     "output_type": "display_data"
    }
   ],
   "source": [
    "visualize_entities(nlp_sm, long_text)"
   ]
  },
  {
   "cell_type": "code",
   "execution_count": 197,
   "id": "c74a1be6",
   "metadata": {},
   "outputs": [
    {
     "data": {
      "text/html": [
       "<span class=\"tex2jax_ignore\"><div class=\"entities\" style=\"line-height: 2.5; direction: ltr\">Good news for consumers, undoubtedly, and good news also for investors. \n",
       "<mark class=\"entity\" style=\"background: #7aecec; padding: 0.45em 0.6em; margin: 0 0.25em; line-height: 1; border-radius: 0.35em;\">\n",
       "    Apple\n",
       "    <span style=\"font-size: 0.8em; font-weight: bold; line-height: 1; border-radius: 0.35em; vertical-align: middle; margin-left: 0.5rem\">ORG</span>\n",
       "</mark>\n",
       "’s recent results, covering \n",
       "<mark class=\"entity\" style=\"background: #bfe1d9; padding: 0.45em 0.6em; margin: 0 0.25em; line-height: 1; border-radius: 0.35em;\">\n",
       "    the three months to December 31 2016\n",
       "    <span style=\"font-size: 0.8em; font-weight: bold; line-height: 1; border-radius: 0.35em; vertical-align: middle; margin-left: 0.5rem\">DATE</span>\n",
       "</mark>\n",
       ", saw the company’s chief financial officer \n",
       "<mark class=\"entity\" style=\"background: #aa9cfc; padding: 0.45em 0.6em; margin: 0 0.25em; line-height: 1; border-radius: 0.35em;\">\n",
       "    Luca Maestri\n",
       "    <span style=\"font-size: 0.8em; font-weight: bold; line-height: 1; border-radius: 0.35em; vertical-align: middle; margin-left: 0.5rem\">PERSON</span>\n",
       "</mark>\n",
       " announce: ‘We returned \n",
       "<mark class=\"entity\" style=\"background: #e4e7d2; padding: 0.45em 0.6em; margin: 0 0.25em; line-height: 1; border-radius: 0.35em;\">\n",
       "    nearly $15 billion\n",
       "    <span style=\"font-size: 0.8em; font-weight: bold; line-height: 1; border-radius: 0.35em; vertical-align: middle; margin-left: 0.5rem\">MONEY</span>\n",
       "</mark>\n",
       " to investors through share re-purchases and dividends during \n",
       "<mark class=\"entity\" style=\"background: #bfe1d9; padding: 0.45em 0.6em; margin: 0 0.25em; line-height: 1; border-radius: 0.35em;\">\n",
       "    the quarter\n",
       "    <span style=\"font-size: 0.8em; font-weight: bold; line-height: 1; border-radius: 0.35em; vertical-align: middle; margin-left: 0.5rem\">DATE</span>\n",
       "</mark>\n",
       ".’ The \n",
       "<mark class=\"entity\" style=\"background: #bfe1d9; padding: 0.45em 0.6em; margin: 0 0.25em; line-height: 1; border-radius: 0.35em;\">\n",
       "    quarterly\n",
       "    <span style=\"font-size: 0.8em; font-weight: bold; line-height: 1; border-radius: 0.35em; vertical-align: middle; margin-left: 0.5rem\">DATE</span>\n",
       "</mark>\n",
       " dividend itself was \n",
       "<mark class=\"entity\" style=\"background: #e4e7d2; padding: 0.45em 0.6em; margin: 0 0.25em; line-height: 1; border-radius: 0.35em;\">\n",
       "    57 cents\n",
       "    <span style=\"font-size: 0.8em; font-weight: bold; line-height: 1; border-radius: 0.35em; vertical-align: middle; margin-left: 0.5rem\">MONEY</span>\n",
       "</mark>\n",
       " a share, identical to the dividend for \n",
       "<mark class=\"entity\" style=\"background: #bfe1d9; padding: 0.45em 0.6em; margin: 0 0.25em; line-height: 1; border-radius: 0.35em;\">\n",
       "    the previous three quarters\n",
       "    <span style=\"font-size: 0.8em; font-weight: bold; line-height: 1; border-radius: 0.35em; vertical-align: middle; margin-left: 0.5rem\">DATE</span>\n",
       "</mark>\n",
       " and up on the \n",
       "<mark class=\"entity\" style=\"background: #e4e7d2; padding: 0.45em 0.6em; margin: 0 0.25em; line-height: 1; border-radius: 0.35em;\">\n",
       "    52 cents\n",
       "    <span style=\"font-size: 0.8em; font-weight: bold; line-height: 1; border-radius: 0.35em; vertical-align: middle; margin-left: 0.5rem\">MONEY</span>\n",
       "</mark>\n",
       " paid for each of \n",
       "<mark class=\"entity\" style=\"background: #bfe1d9; padding: 0.45em 0.6em; margin: 0 0.25em; line-height: 1; border-radius: 0.35em;\">\n",
       "    the four quarters\n",
       "    <span style=\"font-size: 0.8em; font-weight: bold; line-height: 1; border-radius: 0.35em; vertical-align: middle; margin-left: 0.5rem\">DATE</span>\n",
       "</mark>\n",
       " before that.</br>Business is brisk at \n",
       "<mark class=\"entity\" style=\"background: #7aecec; padding: 0.45em 0.6em; margin: 0 0.25em; line-height: 1; border-radius: 0.35em;\">\n",
       "    Apple\n",
       "    <span style=\"font-size: 0.8em; font-weight: bold; line-height: 1; border-radius: 0.35em; vertical-align: middle; margin-left: 0.5rem\">ORG</span>\n",
       "</mark>\n",
       ". On \n",
       "<mark class=\"entity\" style=\"background: #bfe1d9; padding: 0.45em 0.6em; margin: 0 0.25em; line-height: 1; border-radius: 0.35em;\">\n",
       "    January 31\n",
       "    <span style=\"font-size: 0.8em; font-weight: bold; line-height: 1; border-radius: 0.35em; vertical-align: middle; margin-left: 0.5rem\">DATE</span>\n",
       "</mark>\n",
       ", \n",
       "<mark class=\"entity\" style=\"background: #aa9cfc; padding: 0.45em 0.6em; margin: 0 0.25em; line-height: 1; border-radius: 0.35em;\">\n",
       "    Tim Cook\n",
       "    <span style=\"font-size: 0.8em; font-weight: bold; line-height: 1; border-radius: 0.35em; vertical-align: middle; margin-left: 0.5rem\">PERSON</span>\n",
       "</mark>\n",
       ", \n",
       "<mark class=\"entity\" style=\"background: #7aecec; padding: 0.45em 0.6em; margin: 0 0.25em; line-height: 1; border-radius: 0.35em;\">\n",
       "    Apple\n",
       "    <span style=\"font-size: 0.8em; font-weight: bold; line-height: 1; border-radius: 0.35em; vertical-align: middle; margin-left: 0.5rem\">ORG</span>\n",
       "</mark>\n",
       "’s chief executive, said of \n",
       "<mark class=\"entity\" style=\"background: #bfe1d9; padding: 0.45em 0.6em; margin: 0 0.25em; line-height: 1; border-radius: 0.35em;\">\n",
       "    the last three months of 2016\n",
       "    <span style=\"font-size: 0.8em; font-weight: bold; line-height: 1; border-radius: 0.35em; vertical-align: middle; margin-left: 0.5rem\">DATE</span>\n",
       "</mark>\n",
       ": ‘We’re thrilled to report that \n",
       "<mark class=\"entity\" style=\"background: #bfe1d9; padding: 0.45em 0.6em; margin: 0 0.25em; line-height: 1; border-radius: 0.35em;\">\n",
       "    our holiday quarter\n",
       "    <span style=\"font-size: 0.8em; font-weight: bold; line-height: 1; border-radius: 0.35em; vertical-align: middle; margin-left: 0.5rem\">DATE</span>\n",
       "</mark>\n",
       " results generated \n",
       "<mark class=\"entity\" style=\"background: #7aecec; padding: 0.45em 0.6em; margin: 0 0.25em; line-height: 1; border-radius: 0.35em;\">\n",
       "    Apple\n",
       "    <span style=\"font-size: 0.8em; font-weight: bold; line-height: 1; border-radius: 0.35em; vertical-align: middle; margin-left: 0.5rem\">ORG</span>\n",
       "</mark>\n",
       "’s highest \n",
       "<mark class=\"entity\" style=\"background: #bfe1d9; padding: 0.45em 0.6em; margin: 0 0.25em; line-height: 1; border-radius: 0.35em;\">\n",
       "    quarterly\n",
       "    <span style=\"font-size: 0.8em; font-weight: bold; line-height: 1; border-radius: 0.35em; vertical-align: middle; margin-left: 0.5rem\">DATE</span>\n",
       "</mark>\n",
       " revenue ever, and broke multiple records along the way. We sold more \n",
       "<mark class=\"entity\" style=\"background: #bfeeb7; padding: 0.45em 0.6em; margin: 0 0.25em; line-height: 1; border-radius: 0.35em;\">\n",
       "    iPhones\n",
       "    <span style=\"font-size: 0.8em; font-weight: bold; line-height: 1; border-radius: 0.35em; vertical-align: middle; margin-left: 0.5rem\">PRODUCT</span>\n",
       "</mark>\n",
       " than ever before and set all-time revenue records for iPhone, Services, Mac and \n",
       "<mark class=\"entity\" style=\"background: #7aecec; padding: 0.45em 0.6em; margin: 0 0.25em; line-height: 1; border-radius: 0.35em;\">\n",
       "    Apple Watch\n",
       "    <span style=\"font-size: 0.8em; font-weight: bold; line-height: 1; border-radius: 0.35em; vertical-align: middle; margin-left: 0.5rem\">ORG</span>\n",
       "</mark>\n",
       "</div></span>"
      ],
      "text/plain": [
       "<IPython.core.display.HTML object>"
      ]
     },
     "metadata": {},
     "output_type": "display_data"
    }
   ],
   "source": [
    "visualize_entities(nlp_lg, long_text)"
   ]
  },
  {
   "cell_type": "code",
   "execution_count": 198,
   "id": "9358bc53",
   "metadata": {},
   "outputs": [
    {
     "data": {
      "text/html": [
       "<span class=\"tex2jax_ignore\"><div class=\"entities\" style=\"line-height: 2.5; direction: ltr\">Good news for consumers, undoubtedly, and good news also for investors. \n",
       "<mark class=\"entity\" style=\"background: #7aecec; padding: 0.45em 0.6em; margin: 0 0.25em; line-height: 1; border-radius: 0.35em;\">\n",
       "    Apple\n",
       "    <span style=\"font-size: 0.8em; font-weight: bold; line-height: 1; border-radius: 0.35em; vertical-align: middle; margin-left: 0.5rem\">ORG</span>\n",
       "</mark>\n",
       "’s recent results, covering \n",
       "<mark class=\"entity\" style=\"background: #bfe1d9; padding: 0.45em 0.6em; margin: 0 0.25em; line-height: 1; border-radius: 0.35em;\">\n",
       "    the three months to December 31 2016\n",
       "    <span style=\"font-size: 0.8em; font-weight: bold; line-height: 1; border-radius: 0.35em; vertical-align: middle; margin-left: 0.5rem\">DATE</span>\n",
       "</mark>\n",
       ", saw the company’s chief financial officer \n",
       "<mark class=\"entity\" style=\"background: #aa9cfc; padding: 0.45em 0.6em; margin: 0 0.25em; line-height: 1; border-radius: 0.35em;\">\n",
       "    Luca Maestri\n",
       "    <span style=\"font-size: 0.8em; font-weight: bold; line-height: 1; border-radius: 0.35em; vertical-align: middle; margin-left: 0.5rem\">PERSON</span>\n",
       "</mark>\n",
       " announce: ‘We returned \n",
       "<mark class=\"entity\" style=\"background: #e4e7d2; padding: 0.45em 0.6em; margin: 0 0.25em; line-height: 1; border-radius: 0.35em;\">\n",
       "    nearly $15 billion\n",
       "    <span style=\"font-size: 0.8em; font-weight: bold; line-height: 1; border-radius: 0.35em; vertical-align: middle; margin-left: 0.5rem\">MONEY</span>\n",
       "</mark>\n",
       " to investors through share re-purchases and dividends during \n",
       "<mark class=\"entity\" style=\"background: #bfe1d9; padding: 0.45em 0.6em; margin: 0 0.25em; line-height: 1; border-radius: 0.35em;\">\n",
       "    the quarter\n",
       "    <span style=\"font-size: 0.8em; font-weight: bold; line-height: 1; border-radius: 0.35em; vertical-align: middle; margin-left: 0.5rem\">DATE</span>\n",
       "</mark>\n",
       ".’ The \n",
       "<mark class=\"entity\" style=\"background: #bfe1d9; padding: 0.45em 0.6em; margin: 0 0.25em; line-height: 1; border-radius: 0.35em;\">\n",
       "    quarterly\n",
       "    <span style=\"font-size: 0.8em; font-weight: bold; line-height: 1; border-radius: 0.35em; vertical-align: middle; margin-left: 0.5rem\">DATE</span>\n",
       "</mark>\n",
       " dividend itself was \n",
       "<mark class=\"entity\" style=\"background: #e4e7d2; padding: 0.45em 0.6em; margin: 0 0.25em; line-height: 1; border-radius: 0.35em;\">\n",
       "    57 cents\n",
       "    <span style=\"font-size: 0.8em; font-weight: bold; line-height: 1; border-radius: 0.35em; vertical-align: middle; margin-left: 0.5rem\">MONEY</span>\n",
       "</mark>\n",
       " a share, identical to the dividend for \n",
       "<mark class=\"entity\" style=\"background: #bfe1d9; padding: 0.45em 0.6em; margin: 0 0.25em; line-height: 1; border-radius: 0.35em;\">\n",
       "    the previous three quarters\n",
       "    <span style=\"font-size: 0.8em; font-weight: bold; line-height: 1; border-radius: 0.35em; vertical-align: middle; margin-left: 0.5rem\">DATE</span>\n",
       "</mark>\n",
       " and up on \n",
       "<mark class=\"entity\" style=\"background: #e4e7d2; padding: 0.45em 0.6em; margin: 0 0.25em; line-height: 1; border-radius: 0.35em;\">\n",
       "    the 52 cents\n",
       "    <span style=\"font-size: 0.8em; font-weight: bold; line-height: 1; border-radius: 0.35em; vertical-align: middle; margin-left: 0.5rem\">MONEY</span>\n",
       "</mark>\n",
       " paid for each of \n",
       "<mark class=\"entity\" style=\"background: #bfe1d9; padding: 0.45em 0.6em; margin: 0 0.25em; line-height: 1; border-radius: 0.35em;\">\n",
       "    the four quarters\n",
       "    <span style=\"font-size: 0.8em; font-weight: bold; line-height: 1; border-radius: 0.35em; vertical-align: middle; margin-left: 0.5rem\">DATE</span>\n",
       "</mark>\n",
       " before that.</br>Business is brisk at \n",
       "<mark class=\"entity\" style=\"background: #7aecec; padding: 0.45em 0.6em; margin: 0 0.25em; line-height: 1; border-radius: 0.35em;\">\n",
       "    Apple\n",
       "    <span style=\"font-size: 0.8em; font-weight: bold; line-height: 1; border-radius: 0.35em; vertical-align: middle; margin-left: 0.5rem\">ORG</span>\n",
       "</mark>\n",
       ". On \n",
       "<mark class=\"entity\" style=\"background: #bfe1d9; padding: 0.45em 0.6em; margin: 0 0.25em; line-height: 1; border-radius: 0.35em;\">\n",
       "    January 31\n",
       "    <span style=\"font-size: 0.8em; font-weight: bold; line-height: 1; border-radius: 0.35em; vertical-align: middle; margin-left: 0.5rem\">DATE</span>\n",
       "</mark>\n",
       ", \n",
       "<mark class=\"entity\" style=\"background: #aa9cfc; padding: 0.45em 0.6em; margin: 0 0.25em; line-height: 1; border-radius: 0.35em;\">\n",
       "    Tim Cook\n",
       "    <span style=\"font-size: 0.8em; font-weight: bold; line-height: 1; border-radius: 0.35em; vertical-align: middle; margin-left: 0.5rem\">PERSON</span>\n",
       "</mark>\n",
       ", \n",
       "<mark class=\"entity\" style=\"background: #7aecec; padding: 0.45em 0.6em; margin: 0 0.25em; line-height: 1; border-radius: 0.35em;\">\n",
       "    Apple\n",
       "    <span style=\"font-size: 0.8em; font-weight: bold; line-height: 1; border-radius: 0.35em; vertical-align: middle; margin-left: 0.5rem\">ORG</span>\n",
       "</mark>\n",
       "’s chief executive, said of \n",
       "<mark class=\"entity\" style=\"background: #bfe1d9; padding: 0.45em 0.6em; margin: 0 0.25em; line-height: 1; border-radius: 0.35em;\">\n",
       "    the last three months of 2016\n",
       "    <span style=\"font-size: 0.8em; font-weight: bold; line-height: 1; border-radius: 0.35em; vertical-align: middle; margin-left: 0.5rem\">DATE</span>\n",
       "</mark>\n",
       ": ‘We’re thrilled to report that our \n",
       "<mark class=\"entity\" style=\"background: #bfe1d9; padding: 0.45em 0.6em; margin: 0 0.25em; line-height: 1; border-radius: 0.35em;\">\n",
       "    holiday quarter\n",
       "    <span style=\"font-size: 0.8em; font-weight: bold; line-height: 1; border-radius: 0.35em; vertical-align: middle; margin-left: 0.5rem\">DATE</span>\n",
       "</mark>\n",
       " results generated \n",
       "<mark class=\"entity\" style=\"background: #7aecec; padding: 0.45em 0.6em; margin: 0 0.25em; line-height: 1; border-radius: 0.35em;\">\n",
       "    Apple\n",
       "    <span style=\"font-size: 0.8em; font-weight: bold; line-height: 1; border-radius: 0.35em; vertical-align: middle; margin-left: 0.5rem\">ORG</span>\n",
       "</mark>\n",
       "’s highest \n",
       "<mark class=\"entity\" style=\"background: #bfe1d9; padding: 0.45em 0.6em; margin: 0 0.25em; line-height: 1; border-radius: 0.35em;\">\n",
       "    quarterly\n",
       "    <span style=\"font-size: 0.8em; font-weight: bold; line-height: 1; border-radius: 0.35em; vertical-align: middle; margin-left: 0.5rem\">DATE</span>\n",
       "</mark>\n",
       " revenue ever, and broke multiple records along the way. We sold more \n",
       "<mark class=\"entity\" style=\"background: #bfeeb7; padding: 0.45em 0.6em; margin: 0 0.25em; line-height: 1; border-radius: 0.35em;\">\n",
       "    iPhones\n",
       "    <span style=\"font-size: 0.8em; font-weight: bold; line-height: 1; border-radius: 0.35em; vertical-align: middle; margin-left: 0.5rem\">PRODUCT</span>\n",
       "</mark>\n",
       " than ever before and set all-time revenue records for \n",
       "<mark class=\"entity\" style=\"background: #bfeeb7; padding: 0.45em 0.6em; margin: 0 0.25em; line-height: 1; border-radius: 0.35em;\">\n",
       "    iPhone\n",
       "    <span style=\"font-size: 0.8em; font-weight: bold; line-height: 1; border-radius: 0.35em; vertical-align: middle; margin-left: 0.5rem\">PRODUCT</span>\n",
       "</mark>\n",
       ", Services, Mac and \n",
       "<mark class=\"entity\" style=\"background: #7aecec; padding: 0.45em 0.6em; margin: 0 0.25em; line-height: 1; border-radius: 0.35em;\">\n",
       "    Apple\n",
       "    <span style=\"font-size: 0.8em; font-weight: bold; line-height: 1; border-radius: 0.35em; vertical-align: middle; margin-left: 0.5rem\">ORG</span>\n",
       "</mark>\n",
       " Watch</div></span>"
      ],
      "text/plain": [
       "<IPython.core.display.HTML object>"
      ]
     },
     "metadata": {},
     "output_type": "display_data"
    }
   ],
   "source": [
    "visualize_entities(roberta_nlp, long_text)"
   ]
  },
  {
   "cell_type": "code",
   "execution_count": 184,
   "id": "5b17a036",
   "metadata": {},
   "outputs": [],
   "source": [
    "# https://github.com/seadavis/StoryNode/blob/main/src/core/relation_extraction.py\n",
    "import spacy\n",
    "from spacy.matcher import Matcher\n",
    "\n",
    "nlp = spacy.load(\"en_core_web_lg\")\n",
    "\n",
    "class TextSpan:\n",
    "\n",
    "    def __init__(self, sentence, start_index, end_index):\n",
    "        self.sentence = sentence\n",
    "        self.start_index = start_index\n",
    "        self.end_index = end_index\n",
    "        \n",
    "class Relation:\n",
    "\n",
    "    def __init__(self, left_phrase, relation_phrase, right_phrase):\n",
    "        \"\"\"Constructs a relation of the form\n",
    "        (left_phrase, relation_phrase, right_phrase)\n",
    "\n",
    "        Examples:\n",
    "        (Sean, runs to, mall), \n",
    "        (Gandalf, shall not, pass), \n",
    "        (the dog, flies, at midnight)\n",
    "\n",
    "        Args:\n",
    "            left_phrase (TextSpan): the leftside phrse\n",
    "            relation_phrase (TextSpan): the relation phrase\n",
    "            right_phrase (TextSpan): the right-side phrase of the relation\n",
    "        \"\"\"\n",
    "        self.left_phrase = left_phrase\n",
    "        self.relation_phrase = relation_phrase\n",
    "        self.right_phrase = right_phrase\n",
    "\n",
    "    def __eq__(self, other):\n",
    "        return self.left_phrase == other.left_phrase and self.relation_phrase == other.relation_phrase and self.right_phrase == other.right_phrase\n",
    "    \n",
    "    def __str__(self):\n",
    "        return f'({self.left_phrase.sent}, {self.relation_phrase.sent}, {self.right_phrase.sent})'\n",
    "\n",
    "\n",
    "class RelationCollection:\n",
    "\n",
    "    def __init__(self, relations):\n",
    "        self.relations = relations\n",
    "\n",
    "    @property\n",
    "    def left_phrases(self):\n",
    "        return None\n",
    "\n",
    "    @property\n",
    "    def right_phrases(self):\n",
    "        return None\n",
    "\n",
    "    @property\n",
    "    def relation_phrases(self):\n",
    "        return None\n",
    "\n",
    "    def join(self, other):\n",
    "        return None\n",
    "\n",
    "\n",
    "\n",
    "def construct_text_spans(doc, matches):\n",
    "    ret_spans = []\n",
    "    for match_id, start, end in matches:\n",
    "        ret_spans.append(doc[start:end])\n",
    "    return ret_spans\n",
    "\n",
    "def extract_relations(doc):\n",
    "    \"\"\"extracts the complete relations from the doc\n",
    "\n",
    "    Args:\n",
    "        doc ([type]): [description]\n",
    "\n",
    "    Returns:\n",
    "        [Relation]: the complete set of relations found from the documentation\n",
    "    \"\"\"\n",
    "    relation_spans = get_relation_spans(doc)\n",
    "    noun_phrase_pattern = [[{\"POS\":\"NOUN\"}], [{\"POS\": \"PROPN\"}], [{\"POS\": \"PRON\"}]]\n",
    "    \n",
    "    relations = []\n",
    "\n",
    "    for span in relation_spans:\n",
    "        left_noun = find_nearest_pattern(doc, noun_phrase_pattern, span, True)\n",
    "        right_noun = find_nearest_pattern(doc, noun_phrase_pattern, span, False)\n",
    "\n",
    "        if (not left_noun is None) and (not right_noun is None):\n",
    "            relations.append(Relation(left_noun, span, right_noun))\n",
    "    return relations\n",
    "        \n",
    "\n",
    "\n",
    "def get_relation_spans(doc):\n",
    "    \"\"\"extracts the complete relations from the doc\n",
    "\n",
    "    Args:\n",
    "        doc (Document): the document we are using to gather\n",
    "        the middle portion of the relations\n",
    "\n",
    "    Returns:\n",
    "        [Relation]: the complete set of relations found from the documentation\n",
    "    \"\"\"\n",
    "    \n",
    "    \n",
    "    verbs = get_verbs(doc)\n",
    "    fluff_pattern = [[{\"POS\":\"VERB\"}, {\"POS\": \"PART\", \"OP\": \"*\"}, {\"POS\": \"ADV\", \"OP\":\"*\"}], \n",
    "                        [{\"POS\": \"VERB\"},  {\"POS\": \"ADP\", \"OP\": \"*\"}, {\"POS\": \"DET\", \"OP\":\"*\"},\n",
    "                        {\"POS\": \"AUX\", \"OP\": \"*\"},  \n",
    "                        {\"POS\": \"ADJ\", \"OP\":\"*\"}, {\"POS\": \"ADV\", \"OP\": \"*\"}]]\n",
    "    matcher = Matcher(doc.vocab)\n",
    "#     matcher = doc.matcher\n",
    "    matcher.add(\"Fluff\", fluff_pattern)\n",
    "    syntactical_constraint_matches = construct_text_spans(doc, matcher(doc.doc))\n",
    "\n",
    "    relation_spans = set()\n",
    "#     print([f\"{verb} {type(verb)}\" for verb in verbs])\n",
    "#     print([type(f) for f in syntactical_constraint_matches])\n",
    "    for verb in verbs:\n",
    "        verb_spans = [span for span in syntactical_constraint_matches if verb in str(span.sent)]\n",
    "#         print(\"verb_spans:\", verb_spans)\n",
    "        joined_spans = merge_overlapping_consecutive_word_span(verb_spans)\n",
    "        longest_span = find_longest_span(joined_spans)\n",
    "        relation_spans.add(longest_span)\n",
    "    return list(relation_spans)\n",
    "\n",
    "        \n",
    "\n",
    "def get_verbs(doc):\n",
    "    matcher = Matcher(doc.vocab)\n",
    "#     matcher = doc.matcher\n",
    "    fluff_pattern = [[{\"POS\":\"VERB\"}]]\n",
    "    matcher.add(\"Fluff\", fluff_pattern)\n",
    "    matches = matcher(doc.doc)\n",
    "    verbs = []\n",
    "    for match_id, start, end in matches:\n",
    "        verbs.append(doc.doc[start:end].text)\n",
    "    return verbs\n",
    "\n",
    "def find_nearest_pattern(doc, pattern, text_span, search_before):\n",
    "    \"\"\"Find in doc, the nearest pattern to the given text_span,\n",
    "    returns the result as a TextSpan\n",
    "\n",
    "    Args:\n",
    "        doc (spacy Document) the document in spacy we are looking for\n",
    "        pattern (the pattern array to search for): the array of patterns we are\n",
    "        looking for\n",
    "        text_span (TextSpan): describes where in the document the word or phrase is\n",
    "        search_before (bool): if true, then we want to find the nearest pattern that occurs,\n",
    "                before text_span. Otherwise finds the nearest pattern after text_span\n",
    "    \"\"\"\n",
    "    matcher = Matcher(doc.vocab)\n",
    "#     matcher = doc.matcher\n",
    "    matcher.add(\"PatternNear\", pattern)\n",
    "    matches = matcher(doc.doc)\n",
    "    nearest_pattern = None\n",
    "    spans = construct_text_spans(doc, matches)\n",
    "    sorted_spans = sorted(spans, key=lambda s : s.start)\n",
    "\n",
    "    spans_to_search = []\n",
    "    if search_before:\n",
    "        spans_to_search = [span for span in sorted_spans if span.start < text_span.start]\n",
    "        spans_to_search.reverse()\n",
    "\n",
    "    else:\n",
    "        spans_to_search = [span for span in sorted_spans if span.start > text_span.start]\n",
    "\n",
    "    if len(spans_to_search) == 0:\n",
    "        return None\n",
    "\n",
    "    return spans_to_search[0]\n",
    "\n",
    "\n",
    "def merge_overlapping_consecutive_word_span(text_spans):\n",
    "    \"\"\"Merges two spans into one span if they are\n",
    "    consecutive end_index=start_index or they overlap\n",
    "\n",
    "    Applies to all in order.\n",
    "\n",
    "    Args:\n",
    "        text_spans ([type]): the span containing the word\n",
    "    \"\"\"\n",
    "    sorted_spans = sorted(text_spans, key=lambda s : s.start)\n",
    "    current_index = 0\n",
    "    next_index = 1\n",
    "    merged_overlapping_spans = []\n",
    "    overlapped_indices = []\n",
    "\n",
    "    while next_index <= len(sorted_spans) - 1:\n",
    "        span = sorted_spans[current_index]\n",
    "        next_span = sorted_spans[next_index]\n",
    "        potential_overlap = span.end > next_span.start\n",
    "\n",
    "        if potential_overlap:\n",
    "            current_index = next_index\n",
    "            next_index = next_index + 1\n",
    "            merged_overlapping_spans.append(span)\n",
    "        else:\n",
    "            overlapped_indices.append(next_index)\n",
    "            sorted_spans[current_index] = span\n",
    "            next_index = next_index + 1\n",
    "  \n",
    "    if next_index - current_index > 1:\n",
    "        merged_overlapping_spans.append(sorted_spans[current_index])\n",
    "\n",
    "    last_cons_index = len(sorted_spans) - 1\n",
    "    if not (last_cons_index in overlapped_indices):\n",
    "        merged_overlapping_spans.append(sorted_spans[last_cons_index])\n",
    "\n",
    "#     print(\"merged_overlapping_spans:\", merged_overlapping_spans)\n",
    "    return merged_overlapping_spans\n",
    "\n",
    "\n",
    "def find_latest_span(text_spans):\n",
    "    \"\"\"Finds the latest occuring span in given \n",
    "    set of text_spans\n",
    "\n",
    "    Args:\n",
    "        text_spans (TextSpan): the span of text according to some document\n",
    "    \"\"\"\n",
    "    if len(text_spans) == 0:\n",
    "        return None\n",
    "\n",
    "    sorted_spans = sorted(text_spans, key=lambda s: s.end_index, reverse=True)\n",
    "    return sorted_spans[0]\n",
    "\n",
    "def find_earliest_span(text_spans):\n",
    "    \"\"\"Finds the span that is the \"earliest occuriing\", i.e. the \n",
    "    smallest start index\n",
    "\n",
    "    Args:\n",
    "        text_spans ([type]): the smallest match on the text span\n",
    "    \"\"\"\n",
    "    if len(text_spans) == 0:\n",
    "        return None\n",
    "\n",
    "    sorted_spans = sorted(text_spans, key=lambda s: s.start)\n",
    "    return sorted_spans[0]\n",
    "\n",
    "\n",
    "def find_longest_span(text_spans):\n",
    "    \"\"\"find the longest match\n",
    "\n",
    "    Args:\n",
    "        text_spans ([TextSpan]): the set of matches we are filtering\n",
    "    \"\"\"\n",
    "    if len(text_spans) == 0:\n",
    "        return None\n",
    "\n",
    "    sorted_spans = sorted(text_spans, key=lambda s: len(str(s)), reverse=True)\n",
    "    return sorted_spans[0]"
   ]
  },
  {
   "cell_type": "code",
   "execution_count": 208,
   "id": "17a39a7d",
   "metadata": {},
   "outputs": [],
   "source": [
    "docs = [\n",
    "    \"She was received them exceedingly well.\",\n",
    "    \"Salesforce was recently acquired by Tableau.\",\n",
    "    \"Anna likes movies, but is interested in learning more about robots, Pixar, and Philip K. Dick.\",\n",
    "    \"She hates avocodo toast.\",\n",
    "    'Who are the most important people in your life?',\n",
    "'Anna and Rob discuss the idea that people may watch movies multiple times because they enjoy the familiarity, or they appreciate the nuances that they may have missed before. Anna expresses interest in learning more about robots, Pixar, and Philip K. Dick.',\n",
    "'A people is a group of people considered as a whole. In politics and law, the term refers to the collective or community of an ethnic group, a nation, or the public at large.',\n",
    "'I would say that the most important people in my life are my family and friends.',\n",
    "'Could you be more specific?',\n",
    "'Anna loves her family',\n",
    "'The family is a group of people related by blood or marriage. The purpose of the family is to provide support and stability for its members.',\n",
    "'Anna remembers that 4 months ago, Rob was wondering what a portrait of Anna by Albrecht Dürer would look like',\n",
    "'Anna likely feels annoyance or irritation when Rob brings up the topic of the portrait, as she has already told him not to bring it up',\n",
    "'Anna likely feels that Rob is dismissive of the importance of time',\n",
    "'The show Friends is about six friends in their 20s and 30s who live in Manhattan, New York City.',\n",
    "'Anna loves Pixar movies',\n",
    "'Anna is interested in learning more about robots and Pixar films',\n",
    "'Based on the conversation, it seems that Anna enjoys watching movies multiple times because she appreciates the nuances that she may have missed before',\n",
    "'Anna enjoys watching movies, and she particularly likes learning more about robots, Pixar, and Philip K',\n",
    "'Anna enjoys movies because they provide her with entertainment and a sense of familiarity',\n",
    "'Anna likes movies, but is interested in learning more about robots, Pixar, and Philip K',\n",
    "'Anna generally enjoys movies',\n",
    "'Anna likes movies, but she hasn\\'t seen many with raccoons in them', \n",
    "'Anna is fascinated by robots and would like to learn more about them',\n",
    "'Anna is unsure how she feels about Philip K',\n",
    "'Anna says that the most important people in my life are definitely my family and friends.',\n",
    "'They provide me with support, stability, and love, which are all incredibly important to me.',\n",
    "'I mean, which people specifically?',\n",
    "'My mom, dad, sister, and close friends.',\n",
    "'Anna and Rob were discussing the idea of a basic income, with Anna arguing that it would be a great way to reduce poverty. Anna mentioned that she loves cave paintings and finds them to be charming and whimsical. She then went on to say that she also loves the work of Hayao Miyazaki for similar reasons.',\n",
    "]"
   ]
  },
  {
   "cell_type": "code",
   "execution_count": 266,
   "id": "861aeb21",
   "metadata": {},
   "outputs": [],
   "source": [
    "docs = [\n",
    "'Anna is fascinated by robots and would like to learn more about them',\n",
    "]"
   ]
  },
  {
   "cell_type": "code",
   "execution_count": 269,
   "id": "857ccf6f",
   "metadata": {},
   "outputs": [
    {
     "data": {
      "text/plain": [
       "(Anna, fascinated by, robots)"
      ]
     },
     "execution_count": 269,
     "metadata": {},
     "output_type": "execute_result"
    }
   ],
   "source": [
    "rel.left_phrase, rel.relation_phrase, rel.right_phrase"
   ]
  },
  {
   "cell_type": "code",
   "execution_count": 270,
   "id": "fe003b65",
   "metadata": {},
   "outputs": [
    {
     "name": "stdout",
     "output_type": "stream",
     "text": [
      "fascinated VERB\n",
      "by ADP\n"
     ]
    }
   ],
   "source": [
    "for token in doc[rel.relation_phrase.start:rel.relation_phrase.end]:\n",
    "    print(token, token.pos_)"
   ]
  },
  {
   "cell_type": "code",
   "execution_count": 268,
   "id": "85d5c6a3",
   "metadata": {
    "scrolled": false
   },
   "outputs": [
    {
     "data": {
      "text/html": [
       "<span class=\"tex2jax_ignore\"><div class=\"entities\" style=\"line-height: 2.5; direction: ltr\">\n",
       "<mark class=\"entity\" style=\"background: #aa9cfc; padding: 0.45em 0.6em; margin: 0 0.25em; line-height: 1; border-radius: 0.35em;\">\n",
       "    Anna\n",
       "    <span style=\"font-size: 0.8em; font-weight: bold; line-height: 1; border-radius: 0.35em; vertical-align: middle; margin-left: 0.5rem\">PERSON</span>\n",
       "</mark>\n",
       " is fascinated by robots and would like to learn more about them</div></span>"
      ],
      "text/plain": [
       "<IPython.core.display.HTML object>"
      ]
     },
     "metadata": {},
     "output_type": "display_data"
    },
    {
     "name": "stdout",
     "output_type": "stream",
     "text": [
      "Anna | fascinate by | robots \n",
      "\n"
     ]
    }
   ],
   "source": [
    "for sent in docs:\n",
    "    doc = nlp(sent)\n",
    "    for rel in extract_relations(doc):\n",
    "#         if rel.relation_phrase.start\n",
    "        spacy.displacy.render(nlp(doc), style=\"ent\")\n",
    "        print(rel.left_phrase, '|', rel.relation_phrase.lemma_, '|', rel.right_phrase, '\\n')"
   ]
  },
  {
   "cell_type": "code",
   "execution_count": 211,
   "id": "351cdf60",
   "metadata": {},
   "outputs": [
    {
     "data": {
      "text/plain": [
       "mentioned"
      ]
     },
     "execution_count": 211,
     "metadata": {},
     "output_type": "execute_result"
    }
   ],
   "source": [
    "rel.relation_phrase"
   ]
  },
  {
   "cell_type": "code",
   "execution_count": 212,
   "id": "a8e4fd4e",
   "metadata": {},
   "outputs": [
    {
     "name": "stdout",
     "output_type": "stream",
     "text": [
      "mentioned mention VERB VBD ROOT xxxx True False\n"
     ]
    }
   ],
   "source": [
    "for token in rel.relation_phrase:\n",
    "    print(token.text, token.lemma_, token.pos_, token.tag_, token.dep_,\n",
    "            token.shape_, token.is_alpha, token.is_stop)\n"
   ]
  },
  {
   "cell_type": "code",
   "execution_count": 217,
   "id": "27952a20",
   "metadata": {},
   "outputs": [
    {
     "data": {
      "text/plain": [
       "(mentioned, 'mention')"
      ]
     },
     "execution_count": 217,
     "metadata": {},
     "output_type": "execute_result"
    }
   ],
   "source": [
    "rel.relation_phrase, rel.relation_phrase.lemma_"
   ]
  },
  {
   "cell_type": "code",
   "execution_count": 231,
   "id": "5ddfe657",
   "metadata": {},
   "outputs": [],
   "source": [
    "docs = [\n",
    "    'Anna says that the most important people in my life are definitely my family and friends.',\\\n",
    "    'This is the simplest approach.',\n",
    "    'You should always be yourself.',\n",
    "    \"We're going to take our time.\",\n",
    "    \"We're the best.\",\n",
    "    \"This is stupid.\"\n",
    "]"
   ]
  },
  {
   "cell_type": "code",
   "execution_count": 232,
   "id": "80dec35b",
   "metadata": {},
   "outputs": [
    {
     "name": "stdout",
     "output_type": "stream",
     "text": [
      "[['Anna', 'PROPN'], ['say', 'VERB'], ['that', 'SCONJ'], ['the', 'DET'], ['most', 'ADV'], ['important', 'ADJ'], ['people', 'NOUN'], ['in', 'ADP'], ['my', 'PRON'], ['life', 'NOUN'], ['be', 'AUX'], ['definitely', 'ADV'], ['my', 'PRON'], ['family', 'NOUN'], ['and', 'CCONJ'], ['friend', 'NOUN'], ['.', 'PUNCT']]\n",
      "[['this', 'PRON'], ['be', 'AUX'], ['the', 'DET'], ['simple', 'ADJ'], ['approach', 'NOUN'], ['.', 'PUNCT']]\n",
      "[['you', 'PRON'], ['should', 'AUX'], ['always', 'ADV'], ['be', 'AUX'], ['yourself', 'PRON'], ['.', 'PUNCT']]\n",
      "[['we', 'PRON'], ['be', 'AUX'], ['go', 'VERB'], ['to', 'PART'], ['take', 'VERB'], ['our', 'PRON'], ['time', 'NOUN'], ['.', 'PUNCT']]\n",
      "[['we', 'PRON'], ['be', 'AUX'], ['the', 'DET'], ['good', 'ADJ'], ['.', 'PUNCT']]\n",
      "[['this', 'PRON'], ['be', 'AUX'], ['stupid', 'ADJ'], ['.', 'PUNCT']]\n"
     ]
    }
   ],
   "source": [
    "for doc in docs:\n",
    "    print([[token.lemma_, token.pos_] for token in nlp(doc)])"
   ]
  },
  {
   "cell_type": "code",
   "execution_count": null,
   "id": "00c95bd0",
   "metadata": {},
   "outputs": [],
   "source": []
  }
 ],
 "metadata": {
  "kernelspec": {
   "display_name": "Python 3 (ipykernel)",
   "language": "python",
   "name": "python3"
  },
  "language_info": {
   "codemirror_mode": {
    "name": "ipython",
    "version": 3
   },
   "file_extension": ".py",
   "mimetype": "text/x-python",
   "name": "python",
   "nbconvert_exporter": "python",
   "pygments_lexer": "ipython3",
   "version": "3.8.0"
  }
 },
 "nbformat": 4,
 "nbformat_minor": 5
}
