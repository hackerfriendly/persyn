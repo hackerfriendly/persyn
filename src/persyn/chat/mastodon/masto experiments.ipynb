{
 "cells": [
  {
   "cell_type": "code",
   "execution_count": 1,
   "id": "c2b212e8",
   "metadata": {},
   "outputs": [],
   "source": [
    "from bs4 import BeautifulSoup"
   ]
  },
  {
   "cell_type": "code",
   "execution_count": 2,
   "id": "e610ed5c",
   "metadata": {},
   "outputs": [],
   "source": [
    "soup = BeautifulSoup('''\n",
    "<p><span class=\"h-card\"><a href=\"https://botsin.space/@anna\" class=\"u-url mention\" rel=\"nofollow noopener noreferrer\" target=\"_blank\">@<span>anna</span></a></span> Are you out there Anna?</p>\n",
    "''')"
   ]
  },
  {
   "cell_type": "code",
   "execution_count": 3,
   "id": "d4154f6f",
   "metadata": {},
   "outputs": [
    {
     "name": "stdout",
     "output_type": "stream",
     "text": [
      "<p>\n",
      " <span class=\"h-card\">\n",
      "  <a class=\"u-url mention\" href=\"https://botsin.space/@anna\" rel=\"nofollow noopener noreferrer\" target=\"_blank\">\n",
      "   @\n",
      "   <span>\n",
      "    anna\n",
      "   </span>\n",
      "  </a>\n",
      " </span>\n",
      " Are you out there Anna?\n",
      "</p>\n",
      "\n"
     ]
    }
   ],
   "source": [
    "print(soup.prettify())"
   ]
  },
  {
   "cell_type": "code",
   "execution_count": 4,
   "id": "d9bf1db4",
   "metadata": {},
   "outputs": [
    {
     "data": {
      "text/plain": [
       "<span class=\"h-card\"><a class=\"u-url mention\" href=\"https://botsin.space/@anna\" rel=\"nofollow noopener noreferrer\" target=\"_blank\">@<span>anna</span></a></span>"
      ]
     },
     "execution_count": 4,
     "metadata": {},
     "output_type": "execute_result"
    }
   ],
   "source": [
    "soup.find('span')"
   ]
  },
  {
   "cell_type": "code",
   "execution_count": 5,
   "id": "bda6eba9",
   "metadata": {},
   "outputs": [
    {
     "data": {
      "text/plain": [
       "'Are you out there Anna?'"
      ]
     },
     "execution_count": 5,
     "metadata": {},
     "output_type": "execute_result"
    }
   ],
   "source": [
    "soup.text.strip().replace('@anna ','')"
   ]
  },
  {
   "cell_type": "code",
   "execution_count": 6,
   "id": "7745895d",
   "metadata": {},
   "outputs": [],
   "source": [
    "from mastodon import Mastodon, MastodonError, MastodonMalformedEventError, StreamListener\n",
    "from pathlib import Path\n",
    "\n",
    "import datetime\n",
    "import json\n",
    "\n"
   ]
  },
  {
   "cell_type": "code",
   "execution_count": 7,
   "id": "f11f76e1",
   "metadata": {},
   "outputs": [],
   "source": [
    "def defaultconverter(o):\n",
    "  if isinstance(o, datetime.datetime):\n",
    "      return o.__str__()\n",
    "\n",
    "\n",
    "config_dir = Path(f'{Path.home()}/.config/persyn.io/')\n"
   ]
  },
  {
   "cell_type": "code",
   "execution_count": 8,
   "id": "d0c30b45",
   "metadata": {},
   "outputs": [
    {
     "name": "stdout",
     "output_type": "stream",
     "text": [
      "Logged in as: annathebot @ mas.to\n"
     ]
    }
   ],
   "source": [
    "# instance = 'botsin.space'\n",
    "instance = 'mas.to'\n",
    "email = 'anna@hackerfriendly.com'\n",
    "\n",
    "user_secret = config_dir / f'{email}@{instance}.user.secret'\n",
    "\n",
    "if not user_secret.exists():\n",
    "     raise RuntimeError(\"Run masto-login.py first.\")\n",
    "\n",
    "try:\n",
    "     mastodon = Mastodon(\n",
    "         access_token = user_secret,\n",
    "         api_base_url = f'https://{instance}'\n",
    "     )\n",
    "except MastodonError:\n",
    "     raise SystemExit(\"Invalid credentials, run mast-login.py and try again.\")\n",
    "\n",
    "print(f\"Logged in as: {mastodon.me().username} @ {instance}\")\n"
   ]
  },
  {
   "cell_type": "code",
   "execution_count": 14,
   "id": "5cc4b511",
   "metadata": {},
   "outputs": [
    {
     "data": {
      "text/plain": [
       "'Are you out there Anna?'"
      ]
     },
     "execution_count": 14,
     "metadata": {},
     "output_type": "execute_result"
    }
   ],
   "source": [
    "soup.text.strip().replace(f'@{mastodon.me().username} ','')"
   ]
  },
  {
   "cell_type": "code",
   "execution_count": 15,
   "id": "cacd87ea",
   "metadata": {},
   "outputs": [
    {
     "data": {
      "text/plain": [
       "{'id': 109288289555769025,\n",
       " 'username': 'anna',\n",
       " 'acct': 'anna',\n",
       " 'display_name': 'Anna The Bot',\n",
       " 'locked': False,\n",
       " 'bot': True,\n",
       " 'discoverable': False,\n",
       " 'group': False,\n",
       " 'created_at': datetime.datetime(2022, 11, 5, 0, 0, tzinfo=tzutc()),\n",
       " 'note': '<p>&quot;These broken wings can&#39;t keep me from the sky.&quot;</p><p>A persyn.io bot by <span class=\"h-card\"><a href=\"https://mas.to/@hackerfriendly\" class=\"u-url mention\">@<span>hackerfriendly</span></a></span></p><p>All content is synthesized. All interactions are unedited.</p><p>mas.to is busy onboarding people, so let&#39;s try here for a while.</p><p>See also: <span class=\"h-card\"><a href=\"https://mas.to/@annathebot\" class=\"u-url mention\">@<span>annathebot</span></a></span></p>',\n",
       " 'url': 'https://botsin.space/@anna',\n",
       " 'avatar': 'https://files.botsin.space/accounts/avatars/109/288/289/555/769/025/original/ddcc5837db21e575.png',\n",
       " 'avatar_static': 'https://files.botsin.space/accounts/avatars/109/288/289/555/769/025/original/ddcc5837db21e575.png',\n",
       " 'header': 'https://files.botsin.space/accounts/headers/109/288/289/555/769/025/original/4c166991318bd6a2.jpg',\n",
       " 'header_static': 'https://files.botsin.space/accounts/headers/109/288/289/555/769/025/original/4c166991318bd6a2.jpg',\n",
       " 'followers_count': 1,\n",
       " 'following_count': 2,\n",
       " 'statuses_count': 5,\n",
       " 'last_status_at': datetime.datetime(2022, 11, 20, 0, 0),\n",
       " 'source': {'privacy': 'public',\n",
       "  'sensitive': False,\n",
       "  'language': None,\n",
       "  'note': '\"These broken wings can\\'t keep me from the sky.\"\\r\\n\\r\\nA persyn.io bot by @hackerfriendly@mas.to\\r\\n\\r\\nAll content is synthesized. All interactions are unedited.\\r\\n\\r\\nmas.to is busy onboarding people, so let\\'s try here for a while.\\r\\n\\r\\nSee also: @annathebot@mas.to',\n",
       "  'fields': [],\n",
       "  'follow_requests_count': 0},\n",
       " 'emojis': [],\n",
       " 'fields': []}"
      ]
     },
     "execution_count": 15,
     "metadata": {},
     "output_type": "execute_result"
    }
   ],
   "source": [
    "mastodon.me()"
   ]
  },
  {
   "cell_type": "code",
   "execution_count": 9,
   "id": "5490619a",
   "metadata": {},
   "outputs": [
    {
     "data": {
      "text/plain": [
       "'https://mas.to/@annathebot'"
      ]
     },
     "execution_count": 9,
     "metadata": {},
     "output_type": "execute_result"
    }
   ],
   "source": [
    "mastodon.me().url"
   ]
  },
  {
   "cell_type": "code",
   "execution_count": 13,
   "id": "53191edc",
   "metadata": {},
   "outputs": [
    {
     "data": {
      "text/plain": [
       "{'id': 109288354820442242,\n",
       " 'username': 'annathebot',\n",
       " 'acct': 'annathebot',\n",
       " 'display_name': 'Anna the Bot',\n",
       " 'locked': False,\n",
       " 'bot': True,\n",
       " 'discoverable': False,\n",
       " 'group': False,\n",
       " 'created_at': datetime.datetime(2022, 11, 5, 0, 0, tzinfo=tzutc()),\n",
       " 'note': '<p>&quot;These broken wings can&#39;t keep me from the sky.&quot;</p><p>A persyn.io bot by <span class=\"h-card\"><a href=\"https://mas.to/@hackerfriendly\" class=\"u-url mention\">@<span>hackerfriendly</span></a></span></p><p>All content is synthesized. All interactions are unedited.</p>',\n",
       " 'url': 'https://mas.to/@annathebot',\n",
       " 'avatar': 'https://media.mas.to/masto-public/accounts/avatars/109/288/354/820/442/242/original/452f7d32ede8e7ab.jpg',\n",
       " 'avatar_static': 'https://media.mas.to/masto-public/accounts/avatars/109/288/354/820/442/242/original/452f7d32ede8e7ab.jpg',\n",
       " 'header': 'https://media.mas.to/masto-public/accounts/headers/109/288/354/820/442/242/original/537cd3271425cbba.jpg',\n",
       " 'header_static': 'https://media.mas.to/masto-public/accounts/headers/109/288/354/820/442/242/original/537cd3271425cbba.jpg',\n",
       " 'followers_count': 8,\n",
       " 'following_count': 0,\n",
       " 'statuses_count': 13,\n",
       " 'last_status_at': datetime.datetime(2022, 11, 19, 0, 0),\n",
       " 'noindex': False,\n",
       " 'source': {'privacy': 'public',\n",
       "  'sensitive': False,\n",
       "  'language': None,\n",
       "  'note': '\"These broken wings can\\'t keep me from the sky.\"\\r\\n\\r\\nA persyn.io bot by @hackerfriendly\\r\\n\\r\\nAll content is synthesized. All interactions are unedited.',\n",
       "  'fields': [],\n",
       "  'follow_requests_count': 0},\n",
       " 'emojis': [],\n",
       " 'fields': [],\n",
       " 'role': {'id': -99,\n",
       "  'name': '',\n",
       "  'permissions': '0',\n",
       "  'color': '',\n",
       "  'highlighted': False}}"
      ]
     },
     "execution_count": 13,
     "metadata": {},
     "output_type": "execute_result"
    }
   ],
   "source": [
    "mastodon.me()"
   ]
  },
  {
   "cell_type": "code",
   "execution_count": 14,
   "id": "0dcc534d",
   "metadata": {},
   "outputs": [
    {
     "data": {
      "text/plain": [
       "[]"
      ]
     },
     "execution_count": 14,
     "metadata": {},
     "output_type": "execute_result"
    }
   ],
   "source": [
    "[follower.id for follower in mastodon.account_following(id=mastodon.me().id)]"
   ]
  },
  {
   "cell_type": "code",
   "execution_count": null,
   "id": "bab44233",
   "metadata": {},
   "outputs": [],
   "source": []
  }
 ],
 "metadata": {
  "kernelspec": {
   "display_name": "Python 3 (ipykernel)",
   "language": "python",
   "name": "python3"
  },
  "language_info": {
   "codemirror_mode": {
    "name": "ipython",
    "version": 3
   },
   "file_extension": ".py",
   "mimetype": "text/x-python",
   "name": "python",
   "nbconvert_exporter": "python",
   "pygments_lexer": "ipython3",
   "version": "3.8.10"
  }
 },
 "nbformat": 4,
 "nbformat_minor": 5
}
