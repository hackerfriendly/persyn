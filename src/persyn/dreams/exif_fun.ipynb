{
 "cells": [
  {
   "cell_type": "code",
   "execution_count": 1,
   "id": "a6dc2305",
   "metadata": {},
   "outputs": [],
   "source": [
    "# Save a JPG with custom EXIF data"
   ]
  },
  {
   "cell_type": "code",
   "execution_count": 2,
   "id": "d150e816",
   "metadata": {},
   "outputs": [],
   "source": [
    "from PIL import Image"
   ]
  },
  {
   "cell_type": "code",
   "execution_count": 3,
   "id": "ee14abe2",
   "metadata": {},
   "outputs": [],
   "source": [
    "img = Image.open('image.png')\n",
    "new_img = img.convert('RGB')"
   ]
  },
  {
   "cell_type": "code",
   "execution_count": 4,
   "id": "2f7ef109",
   "metadata": {},
   "outputs": [],
   "source": [
    "tags = img.getexif()"
   ]
  },
  {
   "cell_type": "code",
   "execution_count": 5,
   "id": "a4de3234",
   "metadata": {},
   "outputs": [],
   "source": [
    "# Some useful tags, from https://www.exiftool.org/TagNames/EXIF.html\n",
    "\n",
    "tags[0x010e] = 'my fancy prompt goes here | trending on ArtStation' # Image Description\n",
    "tags[0x010f] = '--seed 123 --steps 1000' # Make (other options)\n",
    "tags[0x0110] = '512x512_diffusion_uncond_finetune_008100 + ViTB32' # Model LOL\n",
    "tags[0x0131] = 'Disco Diffusion v5' # Software\n",
    "tags[0x013b] = '@hackerfriendly' # Artist"
   ]
  },
  {
   "cell_type": "code",
   "execution_count": 6,
   "id": "97e83806",
   "metadata": {},
   "outputs": [],
   "source": [
    "new_img.save('image.jpg', exif=tags)"
   ]
  },
  {
   "cell_type": "code",
   "execution_count": null,
   "id": "5e26603a",
   "metadata": {},
   "outputs": [],
   "source": []
  }
 ],
 "metadata": {
  "kernelspec": {
   "display_name": "Python 3 (ipykernel)",
   "language": "python",
   "name": "python3"
  },
  "language_info": {
   "codemirror_mode": {
    "name": "ipython",
    "version": 3
   },
   "file_extension": ".py",
   "mimetype": "text/x-python",
   "name": "python",
   "nbconvert_exporter": "python",
   "pygments_lexer": "ipython3",
   "version": "3.8.0"
  }
 },
 "nbformat": 4,
 "nbformat_minor": 5
}
