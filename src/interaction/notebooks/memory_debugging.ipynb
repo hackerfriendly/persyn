{
 "cells": [
  {
   "cell_type": "code",
   "execution_count": 1,
   "id": "555cc8cc",
   "metadata": {},
   "outputs": [
    {
     "name": "stderr",
     "output_type": "stream",
     "text": [
      "/home/rob/persyn/env/lib/python3.9/site-packages/tqdm/auto.py:22: TqdmWarning: IProgress not found. Please update jupyter and ipywidgets. See https://ipywidgets.readthedocs.io/en/stable/user_install.html\n",
      "  from .autonotebook import tqdm as notebook_tqdm\n"
     ]
    }
   ],
   "source": [
    "import datetime as dt\n",
    "import sys\n",
    "import uuid\n",
    "\n",
    "from pathlib import Path\n",
    "from time import sleep\n",
    "\n",
    "from interaction.memory import LongTermMemory, ShortTermMemory, Recall\n",
    "\n",
    "# Bot config\n",
    "from utils.config import load_config"
   ]
  },
  {
   "cell_type": "code",
   "execution_count": 2,
   "id": "bc97f67f",
   "metadata": {},
   "outputs": [
    {
     "name": "stderr",
     "output_type": "stream",
     "text": [
      "\u001b[93mCreating index convo\u001b[0m \n",
      "\u001b[93mCreating index summary\u001b[0m \n",
      "\u001b[93mCreating index entity\u001b[0m \n",
      "\u001b[93mCreating index relationship\u001b[0m \n",
      "\u001b[93mCreating index opinion\u001b[0m \n",
      "\u001b[93mCreating index goal\u001b[0m \n"
     ]
    }
   ],
   "source": [
    "persyn_config = load_config(cfg='/home/rob/persyn/config/anna.yaml')\n",
    "\n",
    "prefix = f\"{persyn_config.id.name.lower()}-test\"\n",
    "\n",
    "# Dynamic test index names\n",
    "now = dt.datetime.now().isoformat().replace(':','.').lower()\n",
    "\n",
    "recall = Recall(\n",
    "    persyn_config,\n",
    "    version=now,\n",
    "    conversation_interval=0.5\n",
    ")"
   ]
  },
  {
   "cell_type": "code",
   "execution_count": 3,
   "id": "06fa8ef1",
   "metadata": {},
   "outputs": [
    {
     "data": {
      "text/plain": [
       "[]"
      ]
     },
     "execution_count": 3,
     "metadata": {},
     "output_type": "execute_result"
    }
   ],
   "source": [
    "recall.get_goals('https://unit-16.slack.com/', 'D02NK563878')"
   ]
  },
  {
   "cell_type": "code",
   "execution_count": 4,
   "id": "99a1176f",
   "metadata": {},
   "outputs": [
    {
     "data": {
      "text/plain": [
       "[{'_index': 'anna-goals-2023-02-12t15.14.19.303651',\n",
       "  '_id': 'IsboR4YBiWhf6yO1j1GA',\n",
       "  '_score': None,\n",
       "  '_source': {'service': 'https://unit-16.slack.com/',\n",
       "   'channel': 'D02NK563878',\n",
       "   '@timestamp': '2023-02-12T15:14:28.809205-08:00',\n",
       "   'goal': 'Eat a donut.',\n",
       "   'achieved': False},\n",
       "  'sort': [1676243668809]}]"
      ]
     },
     "execution_count": 4,
     "metadata": {},
     "output_type": "execute_result"
    }
   ],
   "source": [
    "recall.add_goal('https://unit-16.slack.com/', 'D02NK563878', 'Eat a donut.')"
   ]
  },
  {
   "cell_type": "code",
   "execution_count": 5,
   "id": "4b0b9647",
   "metadata": {},
   "outputs": [
    {
     "data": {
      "text/plain": [
       "[{'_index': 'anna-goals-2023-02-12t15.14.19.303651',\n",
       "  '_id': 'JMboR4YBiWhf6yO1lFHy',\n",
       "  '_score': None,\n",
       "  '_source': {'service': 'https://unit-16.slack.com/',\n",
       "   'channel': 'D02NK563878',\n",
       "   '@timestamp': '2023-02-12T15:14:30.208913-08:00',\n",
       "   'goal': 'Immanentize the eschaton.',\n",
       "   'achieved': False},\n",
       "  'sort': [1676243670208]},\n",
       " {'_index': 'anna-goals-2023-02-12t15.14.19.303651',\n",
       "  '_id': 'IsboR4YBiWhf6yO1j1GA',\n",
       "  '_score': None,\n",
       "  '_source': {'service': 'https://unit-16.slack.com/',\n",
       "   'channel': 'D02NK563878',\n",
       "   '@timestamp': '2023-02-12T15:14:28.809205-08:00',\n",
       "   'goal': 'Eat a donut.',\n",
       "   'achieved': False},\n",
       "  'sort': [1676243668809]}]"
      ]
     },
     "execution_count": 5,
     "metadata": {},
     "output_type": "execute_result"
    }
   ],
   "source": [
    "recall.add_goal('https://unit-16.slack.com/', 'D02NK563878', 'Immanentize the eschaton.')"
   ]
  },
  {
   "cell_type": "code",
   "execution_count": 6,
   "id": "18559a82",
   "metadata": {
    "scrolled": true
   },
   "outputs": [
    {
     "data": {
      "text/plain": [
       "[{'_index': 'anna-goals-2023-02-12t15.14.19.303651',\n",
       "  '_id': 'JMboR4YBiWhf6yO1lFHy',\n",
       "  '_score': None,\n",
       "  '_source': {'service': 'https://unit-16.slack.com/',\n",
       "   'channel': 'D02NK563878',\n",
       "   '@timestamp': '2023-02-12T15:14:30.208913-08:00',\n",
       "   'goal': 'Immanentize the eschaton.',\n",
       "   'achieved': False},\n",
       "  'sort': [1676243670208]},\n",
       " {'_index': 'anna-goals-2023-02-12t15.14.19.303651',\n",
       "  '_id': 'IsboR4YBiWhf6yO1j1GA',\n",
       "  '_score': None,\n",
       "  '_source': {'service': 'https://unit-16.slack.com/',\n",
       "   'channel': 'D02NK563878',\n",
       "   '@timestamp': '2023-02-12T15:14:28.809205-08:00',\n",
       "   'goal': 'Eat a donut.',\n",
       "   'achieved': False},\n",
       "  'sort': [1676243668809]}]"
      ]
     },
     "execution_count": 6,
     "metadata": {},
     "output_type": "execute_result"
    }
   ],
   "source": [
    "recall.get_goals('https://unit-16.slack.com/', 'D02NK563878')"
   ]
  },
  {
   "cell_type": "code",
   "execution_count": 7,
   "id": "7bdd90bd",
   "metadata": {},
   "outputs": [
    {
     "data": {
      "text/plain": [
       "[{'_index': 'anna-goals-2023-02-12t15.14.19.303651',\n",
       "  '_id': 'JMboR4YBiWhf6yO1lFHy',\n",
       "  '_score': None,\n",
       "  '_source': {'service': 'https://unit-16.slack.com/',\n",
       "   'channel': 'D02NK563878',\n",
       "   '@timestamp': '2023-02-12T15:14:30.208913-08:00',\n",
       "   'goal': 'Immanentize the eschaton.',\n",
       "   'achieved': False},\n",
       "  'sort': [1676243670208]}]"
      ]
     },
     "execution_count": 7,
     "metadata": {},
     "output_type": "execute_result"
    }
   ],
   "source": [
    "recall.achieve_goal('https://unit-16.slack.com/', 'D02NK563878', \"Eat a donut.\")"
   ]
  },
  {
   "cell_type": "code",
   "execution_count": 8,
   "id": "73c8c424",
   "metadata": {},
   "outputs": [
    {
     "data": {
      "text/plain": [
       "[{'_index': 'anna-goals-2023-02-12t15.14.19.303651',\n",
       "  '_id': 'JMboR4YBiWhf6yO1lFHy',\n",
       "  '_score': None,\n",
       "  '_source': {'service': 'https://unit-16.slack.com/',\n",
       "   'channel': 'D02NK563878',\n",
       "   '@timestamp': '2023-02-12T15:14:30.208913-08:00',\n",
       "   'goal': 'Immanentize the eschaton.',\n",
       "   'achieved': False},\n",
       "  'sort': [1676243670208]},\n",
       " {'_index': 'anna-goals-2023-02-12t15.14.19.303651',\n",
       "  '_id': 'IsboR4YBiWhf6yO1j1GA',\n",
       "  '_score': None,\n",
       "  '_source': {'service': 'https://unit-16.slack.com/',\n",
       "   'channel': 'D02NK563878',\n",
       "   '@timestamp': '2023-02-12T15:14:28.809205-08:00',\n",
       "   'goal': 'Eat a donut.',\n",
       "   'achieved': True,\n",
       "   'achieved_on': '2023-02-12T15:14:43.391930-08:00'},\n",
       "  'sort': [1676243668809]}]"
      ]
     },
     "execution_count": 8,
     "metadata": {},
     "output_type": "execute_result"
    }
   ],
   "source": [
    "recall.get_goals('https://unit-16.slack.com/', 'D02NK563878')"
   ]
  },
  {
   "cell_type": "code",
   "execution_count": 13,
   "id": "c37ecdac",
   "metadata": {},
   "outputs": [],
   "source": [
    "service = \"my_service\"\n",
    "channel = \"channel_a\"\n",
    "speaker_name = \"test_name\"\n",
    "speaker_id = \"test_id\"\n",
    "\n",
    "eid = ltm.name_to_entity(service, channel, speaker_id)\n",
    "assert eid == \"j6GhcuBe5FAPRtNsdASut5\""
   ]
  },
  {
   "cell_type": "code",
   "execution_count": 14,
   "id": "1ffb6727",
   "metadata": {},
   "outputs": [
    {
     "name": "stderr",
     "output_type": "stream",
     "text": [
      "POST https://persyn.es.us-west-2.aws.found.io:443/anna-test-entities-2022-11-22t18.11.52.237979/_search [status:200 duration:0.027s]\n",
      "POST https://persyn.es.us-west-2.aws.found.io:443/anna-test-entities-2022-11-22t18.11.52.237979/_doc [status:201 duration:0.026s]\n",
      "POST https://persyn.es.us-west-2.aws.found.io:443/anna-test-conversations-2022-11-22t18.11.52.237979/_doc?refresh=false [status:201 duration:0.049s]\n",
      "POST https://persyn.es.us-west-2.aws.found.io:443/anna-test-entities-2022-11-22t18.11.52.237979/_search [status:200 duration:0.024s]\n",
      "POST https://persyn.es.us-west-2.aws.found.io:443/anna-test-entities-2022-11-22t18.11.52.237979/_doc [status:201 duration:0.029s]\n",
      "POST https://persyn.es.us-west-2.aws.found.io:443/anna-test-conversations-2022-11-22t18.11.52.237979/_doc?refresh=false [status:201 duration:0.028s]\n"
     ]
    }
   ],
   "source": [
    "cid1, ts1 = ltm.save_convo(\"my_service\", \"channel_a\", \"message_a\", \"speaker_name\", \"speaker_id\")\n",
    "assert cid1\n",
    "assert ts1\n",
    "# Continued convo\n",
    "cid2, ts2 = ltm.save_convo(\"my_service\", \"channel_a\", \"message_b\", \"speaker_name\", \"speaker_id\", convo_id=cid1)\n",
    "assert cid1 == cid2\n",
    "assert ts2\n"
   ]
  },
  {
   "cell_type": "code",
   "execution_count": 15,
   "id": "933df932",
   "metadata": {},
   "outputs": [
    {
     "data": {
      "text/plain": [
       "'nkshyAzsgaDQYHpNGK4Uzf'"
      ]
     },
     "execution_count": 15,
     "metadata": {},
     "output_type": "execute_result"
    }
   ],
   "source": [
    "cid2"
   ]
  },
  {
   "cell_type": "code",
   "execution_count": 16,
   "id": "7f03a298",
   "metadata": {},
   "outputs": [
    {
     "data": {
      "text/plain": [
       "'2022-11-22T18:13:20.453682-08:00'"
      ]
     },
     "execution_count": 16,
     "metadata": {},
     "output_type": "execute_result"
    }
   ],
   "source": [
    "ts2"
   ]
  },
  {
   "cell_type": "code",
   "execution_count": 17,
   "id": "4333b32c",
   "metadata": {},
   "outputs": [
    {
     "data": {
      "text/plain": [
       "('2022-11-22T18:13:20.344861-08:00', '2022-11-22T18:13:20.453682-08:00')"
      ]
     },
     "execution_count": 17,
     "metadata": {},
     "output_type": "execute_result"
    }
   ],
   "source": [
    "ts1, ts2"
   ]
  },
  {
   "cell_type": "code",
   "execution_count": 18,
   "id": "7dac97e8",
   "metadata": {},
   "outputs": [],
   "source": [
    "from chrono import elapsed, get_cur_ts, natural_time"
   ]
  },
  {
   "cell_type": "code",
   "execution_count": 19,
   "id": "1ed8412d",
   "metadata": {},
   "outputs": [
    {
     "data": {
      "text/plain": [
       "0.108821"
      ]
     },
     "execution_count": 19,
     "metadata": {},
     "output_type": "execute_result"
    }
   ],
   "source": [
    "elapsed(ts1, ts2)"
   ]
  },
  {
   "cell_type": "code",
   "execution_count": 33,
   "id": "94f2f609",
   "metadata": {},
   "outputs": [
    {
     "name": "stderr",
     "output_type": "stream",
     "text": [
      "POST https://persyn.es.us-west-2.aws.found.io:443/anna-test-entities-2022-11-22t18.11.52.237979/_search [status:200 duration:0.018s]\n",
      "POST https://persyn.es.us-west-2.aws.found.io:443/anna-test-conversations-2022-11-22t18.11.52.237979/_doc?refresh=false [status:201 duration:0.023s]\n",
      "POST https://persyn.es.us-west-2.aws.found.io:443/anna-test-entities-2022-11-22t18.11.52.237979/_search [status:200 duration:0.025s]\n",
      "POST https://persyn.es.us-west-2.aws.found.io:443/anna-test-conversations-2022-11-22t18.11.52.237979/_doc?refresh=false [status:201 duration:0.022s]\n",
      "POST https://persyn.es.us-west-2.aws.found.io:443/anna-test-entities-2022-11-22t18.11.52.237979/_search [status:200 duration:0.021s]\n",
      "POST https://persyn.es.us-west-2.aws.found.io:443/anna-test-conversations-2022-11-22t18.11.52.237979/_doc?refresh=false [status:201 duration:0.028s]\n",
      "POST https://persyn.es.us-west-2.aws.found.io:443/anna-test-entities-2022-11-22t18.11.52.237979/_search [status:200 duration:0.026s]\n",
      "POST https://persyn.es.us-west-2.aws.found.io:443/anna-test-conversations-2022-11-22t18.11.52.237979/_doc?refresh=false [status:201 duration:0.024s]\n",
      "POST https://persyn.es.us-west-2.aws.found.io:443/anna-test-entities-2022-11-22t18.11.52.237979/_search [status:200 duration:0.026s]\n",
      "POST https://persyn.es.us-west-2.aws.found.io:443/anna-test-conversations-2022-11-22t18.11.52.237979/_doc?refresh=false [status:201 duration:0.024s]\n",
      "POST https://persyn.es.us-west-2.aws.found.io:443/anna-test-entities-2022-11-22t18.11.52.237979/_search [status:200 duration:0.018s]\n",
      "POST https://persyn.es.us-west-2.aws.found.io:443/anna-test-conversations-2022-11-22t18.11.52.237979/_doc?refresh=false [status:201 duration:0.028s]\n",
      "POST https://persyn.es.us-west-2.aws.found.io:443/anna-test-entities-2022-11-22t18.11.52.237979/_search [status:200 duration:0.029s]\n",
      "POST https://persyn.es.us-west-2.aws.found.io:443/anna-test-conversations-2022-11-22t18.11.52.237979/_doc?refresh=true [status:201 duration:0.031s]\n",
      "POST https://persyn.es.us-west-2.aws.found.io:443/anna-test-entities-2022-11-22t18.11.52.237979/_search [status:200 duration:0.025s]\n",
      "POST https://persyn.es.us-west-2.aws.found.io:443/anna-test-conversations-2022-11-22t18.11.52.237979/_doc?refresh=false [status:201 duration:0.031s]\n",
      "POST https://persyn.es.us-west-2.aws.found.io:443/anna-test-entities-2022-11-22t18.11.52.237979/_search [status:200 duration:0.029s]\n",
      "POST https://persyn.es.us-west-2.aws.found.io:443/anna-test-conversations-2022-11-22t18.11.52.237979/_doc?refresh=false [status:201 duration:0.027s]\n",
      "POST https://persyn.es.us-west-2.aws.found.io:443/anna-test-entities-2022-11-22t18.11.52.237979/_search [status:200 duration:0.027s]\n",
      "POST https://persyn.es.us-west-2.aws.found.io:443/anna-test-conversations-2022-11-22t18.11.52.237979/_doc?refresh=true [status:201 duration:0.033s]\n",
      "POST https://persyn.es.us-west-2.aws.found.io:443/anna-test-entities-2022-11-22t18.11.52.237979/_search [status:200 duration:0.026s]\n",
      "POST https://persyn.es.us-west-2.aws.found.io:443/anna-test-conversations-2022-11-22t18.11.52.237979/_doc?refresh=false [status:201 duration:0.035s]\n",
      "POST https://persyn.es.us-west-2.aws.found.io:443/anna-test-entities-2022-11-22t18.11.52.237979/_search [status:200 duration:0.030s]\n",
      "POST https://persyn.es.us-west-2.aws.found.io:443/anna-test-conversations-2022-11-22t18.11.52.237979/_doc?refresh=false [status:201 duration:0.030s]\n",
      "POST https://persyn.es.us-west-2.aws.found.io:443/anna-test-entities-2022-11-22t18.11.52.237979/_search [status:200 duration:0.028s]\n",
      "POST https://persyn.es.us-west-2.aws.found.io:443/anna-test-conversations-2022-11-22t18.11.52.237979/_doc?refresh=true [status:201 duration:0.036s]\n",
      "POST https://persyn.es.us-west-2.aws.found.io:443/anna-test-entities-2022-11-22t18.11.52.237979/_search [status:200 duration:0.026s]\n",
      "POST https://persyn.es.us-west-2.aws.found.io:443/anna-test-conversations-2022-11-22t18.11.52.237979/_doc?refresh=false [status:201 duration:0.031s]\n",
      "POST https://persyn.es.us-west-2.aws.found.io:443/anna-test-entities-2022-11-22t18.11.52.237979/_search [status:200 duration:0.027s]\n",
      "POST https://persyn.es.us-west-2.aws.found.io:443/anna-test-conversations-2022-11-22t18.11.52.237979/_doc?refresh=false [status:201 duration:0.027s]\n",
      "POST https://persyn.es.us-west-2.aws.found.io:443/anna-test-entities-2022-11-22t18.11.52.237979/_search [status:200 duration:0.026s]\n",
      "POST https://persyn.es.us-west-2.aws.found.io:443/anna-test-conversations-2022-11-22t18.11.52.237979/_doc?refresh=false [status:201 duration:0.023s]\n",
      "POST https://persyn.es.us-west-2.aws.found.io:443/anna-test-entities-2022-11-22t18.11.52.237979/_search [status:200 duration:0.030s]\n",
      "POST https://persyn.es.us-west-2.aws.found.io:443/anna-test-conversations-2022-11-22t18.11.52.237979/_doc?refresh=true [status:201 duration:0.036s]\n",
      "POST https://persyn.es.us-west-2.aws.found.io:443/anna-test-entities-2022-11-22t18.11.52.237979/_search [status:200 duration:0.021s]\n",
      "POST https://persyn.es.us-west-2.aws.found.io:443/anna-test-conversations-2022-11-22t18.11.52.237979/_doc?refresh=false [status:201 duration:0.029s]\n",
      "POST https://persyn.es.us-west-2.aws.found.io:443/anna-test-entities-2022-11-22t18.11.52.237979/_search [status:200 duration:0.020s]\n",
      "POST https://persyn.es.us-west-2.aws.found.io:443/anna-test-conversations-2022-11-22t18.11.52.237979/_doc?refresh=false [status:201 duration:0.030s]\n",
      "POST https://persyn.es.us-west-2.aws.found.io:443/anna-test-entities-2022-11-22t18.11.52.237979/_search [status:200 duration:0.026s]\n",
      "POST https://persyn.es.us-west-2.aws.found.io:443/anna-test-conversations-2022-11-22t18.11.52.237979/_doc?refresh=true [status:201 duration:0.032s]\n",
      "POST https://persyn.es.us-west-2.aws.found.io:443/anna-test-entities-2022-11-22t18.11.52.237979/_search [status:200 duration:0.026s]\n",
      "POST https://persyn.es.us-west-2.aws.found.io:443/anna-test-conversations-2022-11-22t18.11.52.237979/_doc?refresh=false [status:201 duration:0.023s]\n",
      "POST https://persyn.es.us-west-2.aws.found.io:443/anna-test-entities-2022-11-22t18.11.52.237979/_search [status:200 duration:0.019s]\n",
      "POST https://persyn.es.us-west-2.aws.found.io:443/anna-test-conversations-2022-11-22t18.11.52.237979/_doc?refresh=false [status:201 duration:0.030s]\n",
      "POST https://persyn.es.us-west-2.aws.found.io:443/anna-test-entities-2022-11-22t18.11.52.237979/_search [status:200 duration:0.019s]\n",
      "POST https://persyn.es.us-west-2.aws.found.io:443/anna-test-conversations-2022-11-22t18.11.52.237979/_doc?refresh=true [status:201 duration:0.026s]\n"
     ]
    }
   ],
   "source": [
    "# New convo\n",
    "cid1, ts1 = ltm.save_convo(\"my_service\", \"channel_a\", \"message_a\", \"speaker_name\", \"speaker_id\")\n",
    "assert cid1\n",
    "assert ts1\n",
    "# Continued convo\n",
    "cid2, ts2 = ltm.save_convo(\"my_service\", \"channel_a\", \"message_b\", \"speaker_name\", \"speaker_id\", convo_id=cid1)\n",
    "assert cid1 == cid2\n",
    "assert ts2\n",
    "# New convo\n",
    "cid3, ts3 = ltm.save_convo(\"my_service\", \"channel_a\", \"message_b\", \"speaker_name\", \"speaker_id\", convo_id=\"foo\")\n",
    "assert cid3 == \"foo\"\n",
    "assert ts3\n",
    "\n",
    "# All new convos, speaker name / id are optional\n",
    "\n",
    "for i in range(2):\n",
    "    cid0, ts0 = ltm.save_convo(\n",
    "        \"my_service\",\n",
    "        f\"channel_loop_{i}\",\n",
    "        \"message_loop_a\",\n",
    "        \"speaker_name\",\n",
    "        \"speaker_id\",\n",
    "        convo_id=None\n",
    "    )\n",
    "    assert ts0\n",
    "\n",
    "    for j in range(3):\n",
    "        cid1, ts1 = ltm.save_convo(\n",
    "            \"my_service\",\n",
    "            f\"channel_loop_{i}\",\n",
    "            f\"message_loop_b{j}\",\n",
    "            speaker_id=\"speaker_id\",\n",
    "            convo_id=cid0)\n",
    "        assert cid1 == cid0\n",
    "\n",
    "        cid2, ts2 = ltm.save_convo(\n",
    "            \"my_service\",\n",
    "            f\"channel_loop_{i}\",\n",
    "            f\"message_loop_c{j}\",\n",
    "            speaker_name=\"speaker_name\",\n",
    "            convo_id=cid0)\n",
    "        assert cid1 == cid2\n",
    "        assert ts1 != ts2\n",
    "\n",
    "        # Assert refresh on the last msg so we can fetch later\n",
    "        cid3, ts3 = ltm.save_convo(\n",
    "            \"my_service\",\n",
    "            f\"channel_loop_{i}\",\n",
    "            f\"message_loop_d{j}\",\n",
    "            convo_id=cid1,\n",
    "            refresh=True\n",
    "        )\n",
    "        assert cid1 == cid3\n",
    "        assert ts1 != ts3"
   ]
  },
  {
   "cell_type": "code",
   "execution_count": 34,
   "id": "8f544a27",
   "metadata": {},
   "outputs": [
    {
     "name": "stderr",
     "output_type": "stream",
     "text": [
      "POST https://persyn.es.us-west-2.aws.found.io:443/anna-test-conversations-2022-11-22t18.11.52.237979/_search [status:200 duration:0.020s]\n",
      "POST https://persyn.es.us-west-2.aws.found.io:443/anna-test-summaries-2022-11-22t18.11.52.237979/_search [status:200 duration:0.021s]\n",
      "POST https://persyn.es.us-west-2.aws.found.io:443/anna-test-conversations-2022-11-22t18.11.52.237979/_search [status:200 duration:0.021s]\n",
      "POST https://persyn.es.us-west-2.aws.found.io:443/anna-test-summaries-2022-11-22t18.11.52.237979/_search [status:200 duration:0.022s]\n",
      "POST https://persyn.es.us-west-2.aws.found.io:443/anna-test-conversations-2022-11-22t18.11.52.237979/_search [status:200 duration:0.024s]\n",
      "POST https://persyn.es.us-west-2.aws.found.io:443/anna-test-summaries-2022-11-22t18.11.52.237979/_search [status:200 duration:0.022s]\n",
      "POST https://persyn.es.us-west-2.aws.found.io:443/anna-test-conversations-2022-11-22t18.11.52.237979/_search [status:200 duration:0.023s]\n",
      "POST https://persyn.es.us-west-2.aws.found.io:443/anna-test-summaries-2022-11-22t18.11.52.237979/_search [status:200 duration:0.023s]\n",
      "POST https://persyn.es.us-west-2.aws.found.io:443/anna-test-conversations-2022-11-22t18.11.52.237979/_search [status:200 duration:0.019s]\n",
      "POST https://persyn.es.us-west-2.aws.found.io:443/anna-test-conversations-2022-11-22t18.11.52.237979/_search [status:200 duration:0.025s]\n",
      "POST https://persyn.es.us-west-2.aws.found.io:443/anna-test-conversations-2022-11-22t18.11.52.237979/_search [status:200 duration:0.026s]\n",
      "POST https://persyn.es.us-west-2.aws.found.io:443/anna-test-conversations-2022-11-22t18.11.52.237979/_search [status:200 duration:0.020s]\n"
     ]
    }
   ],
   "source": [
    "assert len(ltm.load_convo(\"my_service\", \"channel_loop_0\")) == 10\n",
    "assert len(ltm.load_convo(\"my_service\", \"channel_loop_0\", lines=3)) == 3\n",
    "# First message (whole convo)\n",
    "assert ltm.load_convo(\"my_service\", \"channel_loop_0\")[0] == \"speaker_name: message_loop_a\"\n",
    "# Last message (most recent 1 line)\n",
    "assert ltm.load_convo(\"my_service\", \"channel_loop_0\", lines=1)[0] == \"None: message_loop_d2\"\n",
    "\n",
    "last_message = ltm.get_last_message(\"my_service\", \"invalid_channel\")\n",
    "assert not last_message\n",
    "\n",
    "last_message = ltm.get_last_message(\"another_service\", \"channel_loop_1\")\n",
    "assert not last_message\n",
    "\n",
    "last_message = ltm.get_last_message(\"my_service\", \"channel_loop_1\")\n",
    "assert last_message\n",
    "\n",
    "convo = ltm.get_convo_by_id(last_message['_source']['convo_id'])\n",
    "assert len(convo) == 10\n"
   ]
  },
  {
   "cell_type": "code",
   "execution_count": 35,
   "id": "b3907726",
   "metadata": {},
   "outputs": [
    {
     "name": "stderr",
     "output_type": "stream",
     "text": [
      "POST https://persyn.es.us-west-2.aws.found.io:443/anna-test-conversations-2022-11-22t18.11.52.237979/_search [status:200 duration:0.024s]\n"
     ]
    },
    {
     "data": {
      "text/plain": [
       "554.89393"
      ]
     },
     "execution_count": 35,
     "metadata": {},
     "output_type": "execute_result"
    }
   ],
   "source": [
    "last_message = ltm.get_last_message(\"my_service\", \"channel_loop_1\")\n",
    "\n",
    "last_message['_source']['elapsed']"
   ]
  },
  {
   "cell_type": "code",
   "execution_count": 30,
   "id": "5a196fac",
   "metadata": {},
   "outputs": [
    {
     "name": "stderr",
     "output_type": "stream",
     "text": [
      "POST https://persyn.es.us-west-2.aws.found.io:443/anna-test-conversations-2022-11-22t18.11.52.237979/_search [status:200 duration:0.028s]\n"
     ]
    }
   ],
   "source": [
    "convo = ltm.get_convo_by_id(last_message['_source']['convo_id'])\n"
   ]
  },
  {
   "cell_type": "code",
   "execution_count": 31,
   "id": "ad0e2132",
   "metadata": {},
   "outputs": [
    {
     "data": {
      "text/plain": [
       "['speaker_name: message_loop_a',\n",
       " 'None: message_loop_b0',\n",
       " 'speaker_name: message_loop_c0',\n",
       " 'None: message_loop_d0',\n",
       " 'None: message_loop_b1',\n",
       " 'speaker_name: message_loop_c1',\n",
       " 'None: message_loop_d1',\n",
       " 'None: message_loop_b2',\n",
       " 'speaker_name: message_loop_c2',\n",
       " 'None: message_loop_d2']"
      ]
     },
     "execution_count": 31,
     "metadata": {},
     "output_type": "execute_result"
    }
   ],
   "source": [
    "convo"
   ]
  },
  {
   "cell_type": "code",
   "execution_count": 36,
   "id": "cd3ae57a",
   "metadata": {},
   "outputs": [
    {
     "data": {
      "text/plain": [
       "{'_index': 'anna-test-conversations-2022-11-22t18.11.52.237979',\n",
       " '_id': 'sK9JooQBBNi73XUq6rFD',\n",
       " '_score': None,\n",
       " '_source': {'@timestamp': '2022-11-22T18:21:03.922583-08:00',\n",
       "  'service': 'my_service',\n",
       "  'channel': 'channel_loop_1',\n",
       "  'speaker': None,\n",
       "  'speaker_id': None,\n",
       "  'entity_id': 'Y5AbPkopaqgiqdQvhKmmxf',\n",
       "  'msg': 'message_loop_d2',\n",
       "  'convo_id': 'jDkbwxiUCyQEncg84QE5EB',\n",
       "  'elapsed': 554.89393},\n",
       " 'sort': [1669170063922]}"
      ]
     },
     "execution_count": 36,
     "metadata": {},
     "output_type": "execute_result"
    }
   ],
   "source": [
    "last_message"
   ]
  },
  {
   "cell_type": "code",
   "execution_count": null,
   "id": "bb82a657",
   "metadata": {},
   "outputs": [],
   "source": []
  }
 ],
 "metadata": {
  "kernelspec": {
   "display_name": "Python 3 (ipykernel)",
   "language": "python",
   "name": "python3"
  },
  "language_info": {
   "codemirror_mode": {
    "name": "ipython",
    "version": 3
   },
   "file_extension": ".py",
   "mimetype": "text/x-python",
   "name": "python",
   "nbconvert_exporter": "python",
   "pygments_lexer": "ipython3",
   "version": "3.9.14"
  }
 },
 "nbformat": 4,
 "nbformat_minor": 5
}
