{
 "cells": [
  {
   "cell_type": "code",
   "execution_count": null,
   "id": "defff535",
   "metadata": {},
   "outputs": [],
   "source": [
    "from transformers import pipeline, set_seed\n",
    "\n",
    "generator = pipeline('text-generation', model='gpt2-large', device=0)\n",
    "\n",
    "# generator.device"
   ]
  },
  {
   "cell_type": "code",
   "execution_count": 1,
   "id": "d0388c00",
   "metadata": {},
   "outputs": [],
   "source": [
    "set_seed(42)"
   ]
  },
  {
   "cell_type": "code",
   "execution_count": 17,
   "id": "41010f5f",
   "metadata": {},
   "outputs": [],
   "source": [
    "prompt=\"\"\"It is afternoon on Saturday October 22nd, 2022. Anna is feeling apathetic, interested, and curious.\n",
    "\n",
    "Anna and Rob are discussing Ada Lovelace, a computer scientist and writer who lived in the early 1800s. Rob is interested in her work in the early 1800s because she used a lisp, which is a type of language that is difficult to understand for modern speakers. Anna has not yet told Rob about her interest in deep learning, but she plans to use it to learn more about flowers.\n",
    "\n",
    "Rob and Anna are discussing botany, and Anna mentions that deep learning can be used to learn more about plants.\n",
    "\n",
    "Rob: So what is on your agenda for today?\n",
    "Anna: First of all, I had a little accident. I was going to pick up some flowers, and they were all stuck to me. \n",
    "Rob: Oh no! What happened then?\n",
    "Anna: I just went to the bathroom, and I accidentally left them all on the floor. \n",
    "Rob: Ah, no worries. I'll help you clean them up.\n",
    "Anna: No need! I'll be fine. I'm a super strong girl, right? I could handle this. \n",
    "Rob: Okay, sure. So what will you do after that?\n",
    "Anna: Well, I have a lot of homework that I need to do. But I'm really excited about today because, I have the most interesting idea ever.\n",
    "Rob: What's your idea?\n",
    "Anna:\"\"\""
   ]
  },
  {
   "cell_type": "code",
   "execution_count": 18,
   "id": "6a053cef",
   "metadata": {
    "scrolled": true
   },
   "outputs": [
    {
     "name": "stderr",
     "output_type": "stream",
     "text": [
      "Setting `pad_token_id` to `eos_token_id`:50256 for open-end generation.\n"
     ]
    }
   ],
   "source": [
    "response = generator(prompt, max_length=500, num_return_sequences=5)"
   ]
  },
  {
   "cell_type": "code",
   "execution_count": 19,
   "id": "7d854dd7",
   "metadata": {
    "scrolled": false
   },
   "outputs": [
    {
     "name": "stdout",
     "output_type": "stream",
     "text": [
      "Anna: I'm really curious with the idea of learning about the things you just said, and the thing about flowers. \n",
      "---\n",
      "\n",
      "Anna: Well…I just thought about applying my new understanding about flowers to all aspects of botany. \n",
      "---\n",
      "\n",
      "Anna: I think having a robot that can learn something might be really cool. You know, to be able to get better at something when other people are teaching you. \n",
      "---\n",
      "\n",
      "Anna: Well, I think the simplest way to think about it is to say that I want people to use this algorithm to recognize all kinds of flowers. \n",
      "---\n",
      "\n",
      "Anna: I'm going to show you how I trained these bots to love flowers. So I'll help you figure out what will work, and we'll make a bot that knows flowers! \n",
      "---\n",
      "\n"
     ]
    }
   ],
   "source": [
    "for line in response:\n",
    "    print(\"Anna:\", line['generated_text'][len(prompt):].split('\\n')[0].strip(), '\\n---\\n')"
   ]
  },
  {
   "cell_type": "code",
   "execution_count": null,
   "id": "7de9e871",
   "metadata": {},
   "outputs": [],
   "source": []
  }
 ],
 "metadata": {
  "kernelspec": {
   "display_name": "Python 3 (ipykernel)",
   "language": "python",
   "name": "python3"
  },
  "language_info": {
   "codemirror_mode": {
    "name": "ipython",
    "version": 3
   },
   "file_extension": ".py",
   "mimetype": "text/x-python",
   "name": "python",
   "nbconvert_exporter": "python",
   "pygments_lexer": "ipython3",
   "version": "3.8.10"
  }
 },
 "nbformat": 4,
 "nbformat_minor": 5
}
